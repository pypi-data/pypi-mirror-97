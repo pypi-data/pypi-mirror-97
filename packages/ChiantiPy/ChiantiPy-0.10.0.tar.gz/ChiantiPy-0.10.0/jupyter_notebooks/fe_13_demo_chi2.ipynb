{
 "cells": [
  {
   "cell_type": "markdown",
   "metadata": {},
   "source": [
    "# to analyze the Table 2  1993 QS fe_13 data"
   ]
  },
  {
   "cell_type": "code",
   "execution_count": 1,
   "metadata": {},
   "outputs": [],
   "source": [
    "import json\n",
    "import pickle\n",
    "import matplotlib.pyplot as plt\n",
    "import numpy as np\n",
    "from scipy import stats\n",
    "import ChiantiPy.model as mdl"
   ]
  },
  {
   "cell_type": "code",
   "execution_count": 2,
   "metadata": {},
   "outputs": [],
   "source": [
    "qtconsole"
   ]
  },
  {
   "cell_type": "code",
   "execution_count": 3,
   "metadata": {},
   "outputs": [],
   "source": [
    "matplotlib qt"
   ]
  },
  {
   "cell_type": "code",
   "execution_count": 4,
   "metadata": {},
   "outputs": [
    {
     "data": {
      "text/plain": [
       "'/data2/svn/data/serts-eunis/serts/qsdemo/br1'"
      ]
     },
     "execution_count": 4,
     "metadata": {},
     "output_type": "execute_result"
    }
   ],
   "source": [
    "pwd"
   ]
  },
  {
   "cell_type": "code",
   "execution_count": 5,
   "metadata": {},
   "outputs": [],
   "source": [
    "myIon = 'Fe XIII'"
   ]
  },
  {
   "cell_type": "code",
   "execution_count": 6,
   "metadata": {},
   "outputs": [
    {
     "name": "stdout",
     "output_type": "stream",
     "text": [
      "\u001b[0m\u001b[00mdiffPrintChi.txt\u001b[0m             \u001b[00mmatches.pkl\u001b[0m\r\n",
      "\u001b[00mfe_13_demo_chi2.ipynb\u001b[0m        \u001b[00mtab2_1993_qs_fe_13.json\u001b[0m\r\n",
      "\u001b[00mfe_13_demo_make_model.ipynb\u001b[0m  \u001b[00mtab2_fe_13_predictPrintFinal.txt\u001b[0m\r\n",
      "\u001b[00mgofnt.pkl\u001b[0m\r\n"
     ]
    }
   ],
   "source": [
    "ls"
   ]
  },
  {
   "cell_type": "markdown",
   "metadata": {},
   "source": [
    "## fe_13 data is in the .json file"
   ]
  },
  {
   "cell_type": "code",
   "execution_count": 7,
   "metadata": {},
   "outputs": [],
   "source": [
    "with open('tab2_1993_qs_fe_13.json', 'r') as inpt:\n",
    "    specData = json.load(inpt)"
   ]
  },
  {
   "cell_type": "code",
   "execution_count": 8,
   "metadata": {},
   "outputs": [
    {
     "data": {
      "text/plain": [
       "['Brosius, Jeffrey W.; Davila, Joseph M.; Thomas, Roger J.; Monsignori-Fossi, Brunella C.',\n",
       " 'Measuring Active and Quiet-Sun Coronal Plasma Properties with Extreme-Ultraviolet Spectra from SERTS ',\n",
       " '1996, Astrophysical Journal Supplement v.106, p.143',\n",
       " 'ADSref:  https://ui.adsabs.harvard.edu/abs/1996ApJS..106..143B/abstract']"
      ]
     },
     "execution_count": 8,
     "metadata": {},
     "output_type": "execute_result"
    }
   ],
   "source": [
    "specData['ref']"
   ]
  },
  {
   "cell_type": "code",
   "execution_count": 9,
   "metadata": {},
   "outputs": [
    {
     "data": {
      "text/plain": [
       "dict_keys(['filename', 'wvl0', 'intensity', 'intStd', 'dwvl', 'ions', 'ref'])"
      ]
     },
     "execution_count": 9,
     "metadata": {},
     "output_type": "execute_result"
    }
   ],
   "source": [
    "specData.keys()"
   ]
  },
  {
   "cell_type": "code",
   "execution_count": 10,
   "metadata": {},
   "outputs": [
    {
     "name": "stdout",
     "output_type": "stream",
     "text": [
      " XUVTOP = /data2/svn/chianti/dbase/trunk\n",
      " abundanceName = sun_photospheric_1998_grevesse\n",
      " minimum abundance =   1.00e-06\n",
      " # of observables / reduce # = 9        3.00\n",
      " - - - - - - - - - - - \n",
      " thision = fe_13\n"
     ]
    }
   ],
   "source": [
    "box = mdl.maker(specData, wghtFactor = 0.2, ionList=['fe_13'], verbose = True)"
   ]
  },
  {
   "cell_type": "code",
   "execution_count": 11,
   "metadata": {},
   "outputs": [],
   "source": [
    "with open('matches.pkl','wb') as outpt:\n",
    "    pickle.dump(box,outpt)"
   ]
  },
  {
   "cell_type": "markdown",
   "metadata": {},
   "source": [
    "## if the box object is already available, the next step can be skipped"
   ]
  },
  {
   "cell_type": "code",
   "execution_count": 15,
   "metadata": {},
   "outputs": [],
   "source": [
    "with open('matches.pkl','rb') as inpt:\n",
    "    box = pickle.load(inpt)"
   ]
  },
  {
   "cell_type": "code",
   "execution_count": 12,
   "metadata": {},
   "outputs": [],
   "source": [
    "temp = 1.78e+6"
   ]
  },
  {
   "cell_type": "code",
   "execution_count": 13,
   "metadata": {},
   "outputs": [],
   "source": [
    "dens  = 10.**(6.+ 0.10*np.arange(61))"
   ]
  },
  {
   "cell_type": "code",
   "execution_count": 14,
   "metadata": {},
   "outputs": [
    {
     "data": {
      "text/plain": [
       "' density range =   1.00e+06 to   1.00e+12'"
      ]
     },
     "execution_count": 14,
     "metadata": {},
     "output_type": "execute_result"
    }
   ],
   "source": [
    "' density range = %10.2e to %10.2e'%(dens.min(), dens.max())"
   ]
  },
  {
   "cell_type": "code",
   "execution_count": 17,
   "metadata": {},
   "outputs": [
    {
     "name": "stdout",
     "output_type": "stream",
     "text": [
      " temperature size:     61\n",
      " density     size:     61\n",
      " using fe_13\n"
     ]
    },
    {
     "ename": "IndexError",
     "evalue": "index 5 is out of bounds for axis 0 with size 5",
     "output_type": "error",
     "traceback": [
      "\u001b[0;31m---------------------------------------------------------------------------\u001b[0m",
      "\u001b[0;31mIndexError\u001b[0m                                Traceback (most recent call last)",
      "\u001b[0;32m<ipython-input-17-c6bcb807a611>\u001b[0m in \u001b[0;36m<module>\u001b[0;34m\u001b[0m\n\u001b[0;32m----> 1\u001b[0;31m \u001b[0mbox\u001b[0m\u001b[0;34m.\u001b[0m\u001b[0mgofnt\u001b[0m\u001b[0;34m(\u001b[0m\u001b[0mtemp\u001b[0m\u001b[0;34m,\u001b[0m \u001b[0mdens\u001b[0m\u001b[0;34m,\u001b[0m \u001b[0mverbose\u001b[0m\u001b[0;34m=\u001b[0m\u001b[0;32mTrue\u001b[0m\u001b[0;34m)\u001b[0m\u001b[0;34m\u001b[0m\u001b[0m\n\u001b[0m",
      "\u001b[0;32m/data2/gh/ChiantiPy/ChiantiPy/model/Maker.py\u001b[0m in \u001b[0;36mgofnt\u001b[0;34m(self, temperature, density, verbose)\u001b[0m\n\u001b[1;32m    372\u001b[0m                             \u001b[0miPredictedLine\u001b[0m \u001b[0;34m=\u001b[0m \u001b[0mself\u001b[0m\u001b[0;34m.\u001b[0m\u001b[0mmatch\u001b[0m\u001b[0;34m[\u001b[0m\u001b[0miwvl\u001b[0m\u001b[0;34m]\u001b[0m\u001b[0;34m[\u001b[0m\u001b[0;34m'iPredictedLine'\u001b[0m\u001b[0;34m]\u001b[0m\u001b[0;34m\u001b[0m\u001b[0m\n\u001b[1;32m    373\u001b[0m                             \u001b[0mpredictedLine\u001b[0m\u001b[0;34m.\u001b[0m\u001b[0mappend\u001b[0m\u001b[0;34m(\u001b[0m\u001b[0miPredictedLine\u001b[0m\u001b[0;34m)\u001b[0m\u001b[0;34m\u001b[0m\u001b[0m\n\u001b[0;32m--> 374\u001b[0;31m                             \u001b[0mself\u001b[0m\u001b[0;34m.\u001b[0m\u001b[0mmatch\u001b[0m\u001b[0;34m[\u001b[0m\u001b[0miwvl\u001b[0m\u001b[0;34m]\u001b[0m\u001b[0;34m[\u001b[0m\u001b[0;34m'intensity'\u001b[0m\u001b[0;34m]\u001b[0m\u001b[0;34m[\u001b[0m\u001b[0miPredictedLine\u001b[0m\u001b[0;34m]\u001b[0m \u001b[0;34m=\u001b[0m \u001b[0mintensity\u001b[0m\u001b[0;34m[\u001b[0m\u001b[0;34m:\u001b[0m\u001b[0;34m,\u001b[0m \u001b[0maline\u001b[0m\u001b[0;34m]\u001b[0m\u001b[0;34m\u001b[0m\u001b[0m\n\u001b[0m\u001b[1;32m    375\u001b[0m                             \u001b[0mself\u001b[0m\u001b[0;34m.\u001b[0m\u001b[0mmatch\u001b[0m\u001b[0;34m[\u001b[0m\u001b[0miwvl\u001b[0m\u001b[0;34m]\u001b[0m\u001b[0;34m[\u001b[0m\u001b[0;34m'iPredictedLine'\u001b[0m\u001b[0;34m]\u001b[0m \u001b[0;34m+=\u001b[0m \u001b[0;36m1\u001b[0m\u001b[0;34m\u001b[0m\u001b[0m\n\u001b[1;32m    376\u001b[0m                         \u001b[0mself\u001b[0m\u001b[0;34m.\u001b[0m\u001b[0mmatch\u001b[0m\u001b[0;34m[\u001b[0m\u001b[0miwvl\u001b[0m\u001b[0;34m]\u001b[0m\u001b[0;34m[\u001b[0m\u001b[0;34m'predictedLine'\u001b[0m\u001b[0;34m]\u001b[0m\u001b[0;34m[\u001b[0m\u001b[0mkon\u001b[0m\u001b[0;34m]\u001b[0m \u001b[0;34m=\u001b[0m \u001b[0mpredictedLine\u001b[0m\u001b[0;34m\u001b[0m\u001b[0m\n",
      "\u001b[0;31mIndexError\u001b[0m: index 5 is out of bounds for axis 0 with size 5"
     ]
    }
   ],
   "source": [
    "box.gofnt(temp, dens, verbose=True)"
   ]
  },
  {
   "cell_type": "code",
   "execution_count": null,
   "metadata": {},
   "outputs": [],
   "source": [
    "with open('gofnt.pkl','wb') as outpt:\n",
    "    pickle.dump(box,outpt)"
   ]
  },
  {
   "cell_type": "markdown",
   "metadata": {},
   "source": [
    "## can restart using the next cell"
   ]
  },
  {
   "cell_type": "code",
   "execution_count": 7,
   "metadata": {},
   "outputs": [],
   "source": [
    "with open('gofnt.pkl','rb') as inpt:\n",
    "    box = pickle.load(inpt)"
   ]
  },
  {
   "cell_type": "code",
   "execution_count": null,
   "metadata": {},
   "outputs": [],
   "source": [
    "plt.figure()\n",
    "box.emPlot(vs='d')\n",
    "plt.text(1.e+7, 3.e+26, myIon, horizontalalignment='center', fontsize=16)\n",
    "plt.xlabel('Electron Density (cm$^{-3}$)', fontsize=14)\n",
    "plt.ylabel('Emissin Measure (cm$^{-5}$)', fontsize=14)\n",
    "plt.tight_layout()"
   ]
  },
  {
   "cell_type": "code",
   "execution_count": null,
   "metadata": {},
   "outputs": [],
   "source": [
    "print(' # of density values %5i'%(box.EDensity.size))"
   ]
  },
  {
   "cell_type": "markdown",
   "metadata": {},
   "source": [
    "## from the plot, a density of 7.e+8  and an em of 1.e+27 is estimated"
   ]
  },
  {
   "cell_type": "code",
   "execution_count": 24,
   "metadata": {},
   "outputs": [
    {
     "data": {
      "text/plain": [
       "' Dindex =    14'"
      ]
     },
     "execution_count": 24,
     "metadata": {},
     "output_type": "execute_result"
    }
   ],
   "source": [
    "Dindex = np.argmin(np.abs(box.EDensity - 7.e+8))\n",
    "' Dindex = %5i'%(Dindex)"
   ]
  },
  {
   "cell_type": "code",
   "execution_count": 25,
   "metadata": {},
   "outputs": [
    {
     "name": "stdout",
     "output_type": "stream",
     "text": [
      "density set to   6.31e+08\n"
     ]
    }
   ],
   "source": [
    "box.emSetIndices(Dindex)\n",
    "print('density set to %10.2e'%(box.EDensity[Dindex]))"
   ]
  },
  {
   "cell_type": "code",
   "execution_count": 26,
   "metadata": {},
   "outputs": [
    {
     "data": {
      "text/plain": [
       "' em    1.00e+27  emLog      27.00'"
      ]
     },
     "execution_count": 26,
     "metadata": {},
     "output_type": "execute_result"
    }
   ],
   "source": [
    "em = 1.e+27\n",
    "emLog = np.log10(em)\n",
    "' em  %10.2e  emLog %10.2f'%(em, emLog)"
   ]
  },
  {
   "cell_type": "markdown",
   "metadata": {},
   "source": [
    "## ergs cm^-2 s^-1 sr_1 "
   ]
  },
  {
   "cell_type": "code",
   "execution_count": 27,
   "metadata": {},
   "outputs": [],
   "source": [
    "box.emSet(emLog)"
   ]
  },
  {
   "cell_type": "markdown",
   "metadata": {},
   "source": [
    "## can set the WghtFactor"
   ]
  },
  {
   "cell_type": "code",
   "execution_count": 28,
   "metadata": {},
   "outputs": [
    {
     "data": {
      "text/plain": [
       "0.4491525423728814"
      ]
     },
     "execution_count": 28,
     "metadata": {},
     "output_type": "execute_result"
    }
   ],
   "source": [
    "box.WghtFactor"
   ]
  },
  {
   "cell_type": "code",
   "execution_count": 29,
   "metadata": {},
   "outputs": [],
   "source": [
    "box.WghtFactor = 0.2"
   ]
  },
  {
   "cell_type": "code",
   "execution_count": 30,
   "metadata": {},
   "outputs": [],
   "source": [
    "box.predict()"
   ]
  },
  {
   "cell_type": "code",
   "execution_count": 31,
   "metadata": {},
   "outputs": [
    {
     "name": "stdout",
     "output_type": "stream",
     "text": [
      "    14     6.31e+08     1.78e+06     1.00e+27\n",
      " -------------------------------------------------\n",
      "  iwvl    IonS        wvl        Int       Pred   Int/Pred        chi\n",
      "               wvl lvl1 lvl2                lower -                upper lineIdx predLine contribution\n",
      " -------------------------------------------------\n",
      "     0   fe_13    311.574   6.13e+00   3.44e+00      1.780      4.449\n",
      "         fe_13\n",
      "           311.547    2   12        3s2 3p2 3P1.0 - 3s 3p3 3P2.0            29     0   0.999\n",
      " -------------------------------------------------\n",
      " -------------------------------------------------\n",
      "     1   fe_13    312.171   1.78e+01   1.85e+01      0.961      2.404\n",
      "         fe_13\n",
      "           312.174    2   11        3s2 3p2 3P1.0 - 3s 3p3 3P1.0            24     0   1.000\n",
      " -------------------------------------------------\n",
      " -------------------------------------------------\n",
      "     2   fe_13    312.907   7.34e+00   7.35e+00      0.999      2.498\n",
      "         fe_13\n",
      "           312.868    2   10        3s2 3p2 3P1.0 - 3s 3p3 3P0.0            22     0   1.000\n",
      " -------------------------------------------------\n",
      " -------------------------------------------------\n",
      "     3   fe_13    318.129   6.09e+00   1.02e+01      0.597      1.492\n",
      "         fe_13\n",
      "           318.130    4   13        3s2 3p2 1D2.0 - 3s 3p3 1D2.0            31     0   1.000\n",
      " -------------------------------------------------\n",
      " -------------------------------------------------\n",
      "     4   fe_13    320.802   2.45e+01   2.44e+01      1.005      2.514\n",
      "         fe_13\n",
      "           320.800    3   12        3s2 3p2 3P2.0 - 3s 3p3 3P2.0            30     0   1.000\n",
      " -------------------------------------------------\n",
      " -------------------------------------------------\n",
      "     5   fe_13    321.464   8.64e+00   9.27e+00      0.932      2.329\n",
      "         fe_13\n",
      "           321.466    3   11        3s2 3p2 3P2.0 - 3s 3p3 3P1.0            25     0   1.000\n",
      " -------------------------------------------------\n",
      " -------------------------------------------------\n",
      "     6   fe_13    348.196   5.50e+01   4.35e+01      1.265      3.162\n",
      "         fe_13\n",
      "           348.183    1    7        3s2 3p2 3P0.0 - 3s 3p3 3D1.0            15     0   1.000\n",
      " -------------------------------------------------\n",
      " -------------------------------------------------\n",
      "     7   fe_13    359.658   2.84e+01   3.33e+01      0.853      2.133\n",
      "         fe_13\n",
      "           359.644    2    8        3s2 3p2 3P1.0 - 3s 3p3 3D2.0            18     0   1.000\n",
      " -------------------------------------------------\n",
      " -------------------------------------------------\n",
      "     8   fe_13    359.851   1.18e+01   1.14e+01      1.034      2.584\n",
      "         fe_13\n",
      "           359.839    2    7        3s2 3p2 3P1.0 - 3s 3p3 3D1.0            13     0   1.000\n",
      " -------------------------------------------------\n",
      " -------------------------------------------------\n"
     ]
    }
   ],
   "source": [
    "box.predictPrint()"
   ]
  },
  {
   "cell_type": "markdown",
   "metadata": {},
   "source": [
    "## brute force search of 1D density space"
   ]
  },
  {
   "cell_type": "code",
   "execution_count": 32,
   "metadata": {},
   "outputs": [
    {
     "name": "stdout",
     "output_type": "stream",
     "text": [
      " n lines =     9 \n",
      " input # of temperatures 31\n",
      " input temperature range   1.78e+06   1.78e+06 \n",
      " self.MinIndex =         0      self.MaxIndex idx =   30\n",
      " min T =       1.78e+06      max T =   1.78e+06\n",
      " log min T =      6.250  log max T =      6.250\n",
      "    0     0   1.00e+06    2.687e+01   7.48e+26   6.09e+01   9.00e+00 \n",
      "    1     1   1.58e+06    2.687e+01   7.49e+26   6.07e+01   9.00e+00 \n",
      "    2     2   2.51e+06    2.687e+01   7.50e+26   6.05e+01   9.00e+00 \n",
      "    3     3   3.98e+06    2.688e+01   7.51e+26   6.01e+01   9.00e+00 \n",
      "    4     4   6.31e+06    2.688e+01   7.54e+26   5.94e+01   9.00e+00 \n",
      "    5     5   1.00e+07    2.688e+01   7.58e+26   5.84e+01   9.00e+00 \n",
      "    6     6   1.58e+07    2.688e+01   7.64e+26   5.69e+01   9.00e+00 \n",
      "    7     7   2.51e+07    2.689e+01   7.73e+26   5.46e+01   9.00e+00 \n",
      "    8     8   3.98e+07    2.690e+01   7.87e+26   5.11e+01   9.00e+00 \n",
      "    9     9   6.31e+07    2.691e+01   8.07e+26   4.59e+01   9.00e+00 \n",
      "   10    10   1.00e+08    2.692e+01   8.34e+26   3.89e+01   9.00e+00 \n",
      "   11    11   1.58e+08    2.694e+01   8.66e+26   3.03e+01   9.00e+00 \n",
      "   12    12   2.51e+08    2.695e+01   8.96e+26   2.15e+01   7.00e+00 \n",
      "   13    13   3.98e+08    2.696e+01   9.12e+26   1.57e+01   7.00e+00 \n",
      "   14    14   6.31e+08    2.696e+01   9.02e+26   1.58e+01   7.00e+00 \n",
      "   15    15   1.00e+09    2.694e+01   8.64e+26   2.24e+01   9.00e+00 \n",
      "   16    16   1.58e+09    2.691e+01   8.07e+26   3.35e+01   9.00e+00 \n",
      "   17    17   2.51e+09    2.687e+01   7.40e+26   4.70e+01   9.00e+00 \n",
      "   18    18   3.98e+09    2.682e+01   6.65e+26   6.19e+01   9.00e+00 \n",
      "   19    19   6.31e+09    2.677e+01   5.87e+26   7.76e+01   9.00e+00 \n",
      "   20    20   1.00e+10    2.671e+01   5.13e+26   9.29e+01   1.10e+01 \n",
      "   21    21   1.58e+10    2.665e+01   4.49e+26   1.06e+02   1.10e+01 \n",
      "   22    22   2.51e+10    2.660e+01   3.98e+26   1.17e+02   1.10e+01 \n",
      "   23    23   3.98e+10    2.656e+01   3.62e+26   1.25e+02   1.10e+01 \n",
      "   24    24   6.31e+10    2.653e+01   3.36e+26   1.31e+02   1.10e+01 \n",
      "   25    25   1.00e+11    2.650e+01   3.18e+26   1.35e+02   1.10e+01 \n",
      "   26    26   1.58e+11    2.649e+01   3.06e+26   1.38e+02   1.10e+01 \n",
      "   27    27   2.51e+11    2.647e+01   2.97e+26   1.40e+02   1.10e+01 \n",
      "   28    28   3.98e+11    2.647e+01   2.92e+26   1.41e+02   1.10e+01 \n",
      "   29    29   6.31e+11    2.646e+01   2.88e+26   1.42e+02   1.10e+01 \n",
      "   30    30   1.00e+12    2.646e+01   2.86e+26   1.42e+02   1.10e+01 \n",
      "min chisq =  1.566e+01 \n",
      " elapsed seconds =        0.000\n"
     ]
    }
   ],
   "source": [
    "box.search1dSpace(emLog,verbose=1)"
   ]
  },
  {
   "cell_type": "markdown",
   "metadata": {},
   "source": [
    "## pickle the box with search data"
   ]
  },
  {
   "cell_type": "code",
   "execution_count": 22,
   "metadata": {},
   "outputs": [],
   "source": [
    "boxpkl = os.path.splitext(mypkl)[0]+'_1dsearch' + '.pkl'\n",
    "with open(boxpkl,'wb') as outpt:\n",
    "    pickle.dump(box,outpt)"
   ]
  },
  {
   "cell_type": "markdown",
   "metadata": {},
   "source": [
    "## open the pickled search data"
   ]
  },
  {
   "cell_type": "code",
   "execution_count": 11,
   "metadata": {},
   "outputs": [],
   "source": [
    "mydir = os.getcwd()\n",
    "mylist = os.listdir('.')\n",
    "newlist = fnmatch.filter(mylist,'*.pkl')\n",
    "selected = chGui.gui.selectorDialog(newlist,'pick one')"
   ]
  },
  {
   "cell_type": "code",
   "execution_count": 12,
   "metadata": {},
   "outputs": [],
   "source": [
    "mypkl = selected.selectedText[0]"
   ]
  },
  {
   "cell_type": "code",
   "execution_count": 13,
   "metadata": {},
   "outputs": [
    {
     "name": "stdout",
     "output_type": "stream",
     "text": [
      "table2-1993-QS_fe_13-sun_photospheric_2015_scott_1dsearch.pkl\n"
     ]
    }
   ],
   "source": [
    "print(mypkl)"
   ]
  },
  {
   "cell_type": "code",
   "execution_count": 14,
   "metadata": {},
   "outputs": [
    {
     "data": {
      "text/plain": [
       "'/data2/svn/chianti/dbase/trunk'"
      ]
     },
     "execution_count": 14,
     "metadata": {},
     "output_type": "execute_result"
    }
   ],
   "source": [
    "with open(mypkl, 'rb') as inpt:\n",
    "    box = pickle.load(inpt)\n",
    "box.XUVTOP"
   ]
  },
  {
   "cell_type": "markdown",
   "metadata": {},
   "source": [
    "## can recontinue or restart analysis"
   ]
  },
  {
   "cell_type": "code",
   "execution_count": 33,
   "metadata": {},
   "outputs": [
    {
     "name": "stdout",
     "output_type": "stream",
     "text": [
      " minimum chisq achieved for D index    13   3.98e+08 and EM     26.960  9.124e+26\n"
     ]
    }
   ],
   "source": [
    "Didx = box.SearchData['best']['idx']\n",
    "emLog = box.SearchData['best']['emfit']\n",
    "em = box.SearchData['best']['em']\n",
    "print(' minimum chisq achieved for D index %5i %10.2e and EM %10.3f %10.3e'%(Didx, box.EDensity[Didx],emLog, em))"
   ]
  },
  {
   "cell_type": "code",
   "execution_count": 34,
   "metadata": {},
   "outputs": [
    {
     "data": {
      "text/plain": [
       "dict_keys(['density', 'densSearched', 'emfit', 'em', 'idx', 'chisq', 'minchisq', 'searchDx', 'maskedValues', 'temperature', 'message', 'best'])"
      ]
     },
     "execution_count": 34,
     "metadata": {},
     "output_type": "execute_result"
    }
   ],
   "source": [
    "box.SearchData.keys()"
   ]
  },
  {
   "cell_type": "code",
   "execution_count": 35,
   "metadata": {},
   "outputs": [
    {
     "data": {
      "text/plain": [
       "dict_keys(['em', 'emfit', 'chisq', 'reducedChisq', 'idx', 'density', 'temperature'])"
      ]
     },
     "execution_count": 35,
     "metadata": {},
     "output_type": "execute_result"
    }
   ],
   "source": [
    "box.SearchData['best'].keys()"
   ]
  },
  {
   "cell_type": "code",
   "execution_count": 36,
   "metadata": {},
   "outputs": [
    {
     "data": {
      "text/plain": [
       "'Chisq       15.66  reduced Chisq =       2.24 '"
      ]
     },
     "execution_count": 36,
     "metadata": {},
     "output_type": "execute_result"
    }
   ],
   "source": [
    "'Chisq  %10.2f  reduced Chisq = %10.2f '%(box.SearchData['best']['chisq'], box.SearchData['best']['reducedChisq'])"
   ]
  },
  {
   "cell_type": "code",
   "execution_count": 37,
   "metadata": {},
   "outputs": [
    {
     "data": {
      "text/plain": [
       "' min, max of chisq =      15.66     142.43'"
      ]
     },
     "execution_count": 37,
     "metadata": {},
     "output_type": "execute_result"
    }
   ],
   "source": [
    "minChisq = box.SearchData['best']['chisq']\n",
    "maxChisq = max(box.SearchData['chisq'])\n",
    "' min, max of chisq = %10.2f %10.2f'%(minChisq, maxChisq)"
   ]
  },
  {
   "cell_type": "code",
   "execution_count": 38,
   "metadata": {},
   "outputs": [
    {
     "data": {
      "text/plain": [
       "' Chi2 for confidence levels       0.68        0.95   =       2.28       5.99 '"
      ]
     },
     "execution_count": 38,
     "metadata": {},
     "output_type": "execute_result"
    }
   ],
   "source": [
    "dof = 2\n",
    "q = [.32, 0.05]\n",
    "chi2 = stats.chi2.isf(q = q , df = dof)\n",
    "' Chi2 for confidence levels %10.2f  %10.2f   = %10.2f %10.2f '%(1.-q[0],1.-q[1],chi2[0],chi2[1])"
   ]
  },
  {
   "cell_type": "code",
   "execution_count": 39,
   "metadata": {},
   "outputs": [],
   "source": [
    "plt.figure()\n",
    "plt.semilogx(box.SearchData['densSearched'],box.SearchData['chisq'])\n",
    "xy = plt.axis()\n",
    "plt.ylim(0.,xy[3])\n",
    "plt.plot([xy[0],xy[1]],[minChisq + chi2[0],minChisq + chi2[0]],label='65%')\n",
    "plt.plot([xy[0],xy[1]],[minChisq + chi2[1],minChisq + chi2[1]],label = '95%')\n",
    "plt.legend(loc='upper center', fontsize=14)\n",
    "plt.xlabel('Electron Density (cm$^{-3}$)',fontsize=14)\n",
    "plt.ylabel('Chi-squared',fontsize=14)\n",
    "plt.tight_layout()"
   ]
  },
  {
   "cell_type": "code",
   "execution_count": 40,
   "metadata": {},
   "outputs": [],
   "source": [
    "chisq = np.asarray(box.SearchData['chisq'])"
   ]
  },
  {
   "cell_type": "code",
   "execution_count": 41,
   "metadata": {},
   "outputs": [],
   "source": [
    "good0 = chisq < minChisq + chi2[0]"
   ]
  },
  {
   "cell_type": "code",
   "execution_count": 42,
   "metadata": {},
   "outputs": [],
   "source": [
    "good1 = chisq < minChisq + chi2[1]"
   ]
  },
  {
   "cell_type": "code",
   "execution_count": 43,
   "metadata": {},
   "outputs": [
    {
     "data": {
      "text/plain": [
       "' mean Density range of  68 per cent confidence:    3.98e+08 to   6.31e+08'"
      ]
     },
     "execution_count": 43,
     "metadata": {},
     "output_type": "execute_result"
    }
   ],
   "source": [
    "dens68 = box.EDensity[good0].min(),box.EDensity[good0].max()\n",
    "' mean Density range of  68 per cent confidence:  %10.2e to %10.2e'%(dens68)"
   ]
  },
  {
   "cell_type": "code",
   "execution_count": 44,
   "metadata": {},
   "outputs": [
    {
     "data": {
      "text/plain": [
       "' mean Density range of  95 per cent confidence:    2.51e+08 to   6.31e+08'"
      ]
     },
     "execution_count": 44,
     "metadata": {},
     "output_type": "execute_result"
    }
   ],
   "source": [
    "dens95 = box.EDensity[good1].min(),box.EDensity[good1].max()\n",
    "' mean Density range of  95 per cent confidence:  %10.2e to %10.2e'%(dens95)"
   ]
  },
  {
   "cell_type": "code",
   "execution_count": 45,
   "metadata": {},
   "outputs": [
    {
     "data": {
      "text/plain": [
       "' best fit Density   3.98e+08'"
      ]
     },
     "execution_count": 45,
     "metadata": {},
     "output_type": "execute_result"
    }
   ],
   "source": [
    "densBest = box.EDensity[box.SearchData['best']['idx']]\n",
    "' best fit Density %10.2e'%(densBest)"
   ]
  },
  {
   "cell_type": "code",
   "execution_count": 46,
   "metadata": {},
   "outputs": [
    {
     "data": {
      "text/plain": [
       "' mean EM range of  68 per cent confidence:    9.02e+26 to   9.12e+26 '"
      ]
     },
     "execution_count": 46,
     "metadata": {},
     "output_type": "execute_result"
    }
   ],
   "source": [
    "em68 = [box.SearchData['em'][good0].min(),box.SearchData['em'][good0].max()]\n",
    "' mean EM range of  68 per cent confidence:  %10.2e to %10.2e '%(em68[0], em68[1])"
   ]
  },
  {
   "cell_type": "code",
   "execution_count": 47,
   "metadata": {},
   "outputs": [
    {
     "data": {
      "text/plain": [
       "' mean Density range of  95 per cent confidence:    8.96e+26 to   9.12e+26'"
      ]
     },
     "execution_count": 47,
     "metadata": {},
     "output_type": "execute_result"
    }
   ],
   "source": [
    "em95 = [box.SearchData['em'][good1].min(),box.SearchData['em'][good1].max()]\n",
    "' mean Density range of  95 per cent confidence:  %10.2e to %10.2e'%(em95[0], em95[1])"
   ]
  },
  {
   "cell_type": "code",
   "execution_count": 48,
   "metadata": {},
   "outputs": [],
   "source": [
    "plt.figure()\n",
    "box.emPlot(vs='d')\n",
    "xy = plt.axis()\n",
    "plt.plot([densBest,densBest],[xy[2],xy[3]],'k',lw=2,label='best fit')\n",
    "plt.plot([dens68[0],dens68[0]], [xy[2],xy[3]],'r--',lw=2,label='68% confidence')\n",
    "plt.plot([dens68[1],dens68[1]], [xy[2],xy[3]],'r--',lw=2,label='68% confidence')\n",
    "plt.plot([dens95[0],dens95[0]], [xy[2],xy[3]],'b--',lw=2,label='95% confidence')\n",
    "plt.plot([dens95[1],dens95[1]], [xy[2],xy[3]],'b--',lw=2,label='95% confidence')\n",
    "plt.xlabel('Electron Density (cm$^{-3}$)',fontsize=14)\n",
    "plt.ylabel('Chi-squared',fontsize=14)\n",
    "plt.text(2.e+10,4.e+26, myIon ,fontsize=16)\n",
    "plt.legend(loc='lower left')\n",
    "plt.tight_layout()"
   ]
  },
  {
   "cell_type": "code",
   "execution_count": 49,
   "metadata": {},
   "outputs": [
    {
     "name": "stdout",
     "output_type": "stream",
     "text": [
      "dens set to   3.98e+08\n"
     ]
    }
   ],
   "source": [
    "box.emSetIndices(Didx)\n",
    "print('dens set to %10.2e'%(box.EDensity[Didx]))"
   ]
  },
  {
   "cell_type": "code",
   "execution_count": 50,
   "metadata": {},
   "outputs": [],
   "source": [
    "box.emSet(emLog)"
   ]
  },
  {
   "cell_type": "code",
   "execution_count": 51,
   "metadata": {},
   "outputs": [],
   "source": [
    "box.predict()"
   ]
  },
  {
   "cell_type": "code",
   "execution_count": 52,
   "metadata": {},
   "outputs": [
    {
     "name": "stdout",
     "output_type": "stream",
     "text": [
      "    13     3.98e+08     1.78e+06     9.12e+26\n",
      " -------------------------------------------------\n",
      "  iwvl    IonS        wvl        Int       Pred   Int/Pred        chi\n",
      "               wvl lvl1 lvl2                lower -                upper lineIdx predLine contribution\n",
      " -------------------------------------------------\n",
      "     0   fe_13    311.574   6.13e+00   2.64e+00      2.319      5.797\n",
      "         fe_13\n",
      "           311.547    2   12        3s2 3p2 3P1.0 - 3s 3p3 3P2.0            29     0   0.999\n",
      " -------------------------------------------------\n",
      " -------------------------------------------------\n",
      "     1   fe_13    312.171   1.78e+01   1.84e+01      0.965      2.412\n",
      "         fe_13\n",
      "           312.174    2   11        3s2 3p2 3P1.0 - 3s 3p3 3P1.0            24     0   1.000\n",
      " -------------------------------------------------\n",
      " -------------------------------------------------\n",
      "     2   fe_13    312.907   7.34e+00   5.70e+00      1.288      3.221\n",
      "         fe_13\n",
      "           312.868    2   10        3s2 3p2 3P1.0 - 3s 3p3 3P0.0            22     0   1.000\n",
      " -------------------------------------------------\n",
      " -------------------------------------------------\n",
      "     3   fe_13    318.129   6.09e+00   8.58e+00      0.710      1.775\n",
      "         fe_13\n",
      "           318.130    4   13        3s2 3p2 1D2.0 - 3s 3p3 1D2.0            31     0   1.000\n",
      " -------------------------------------------------\n",
      " -------------------------------------------------\n",
      "     4   fe_13    320.802   2.45e+01   1.87e+01      1.310      3.276\n",
      "         fe_13\n",
      "           320.800    3   12        3s2 3p2 3P2.0 - 3s 3p3 3P2.0            30     0   1.000\n",
      " -------------------------------------------------\n",
      " -------------------------------------------------\n",
      "     5   fe_13    321.464   8.64e+00   9.24e+00      0.935      2.338\n",
      "         fe_13\n",
      "           321.466    3   11        3s2 3p2 3P2.0 - 3s 3p3 3P1.0            25     0   1.000\n",
      " -------------------------------------------------\n",
      " -------------------------------------------------\n",
      "     6   fe_13    348.196   5.50e+01   4.68e+01      1.176      2.941\n",
      "         fe_13\n",
      "           348.183    1    7        3s2 3p2 3P0.0 - 3s 3p3 3D1.0            15     0   1.000\n",
      " -------------------------------------------------\n",
      " -------------------------------------------------\n",
      "     7   fe_13    359.658   2.84e+01   2.84e+01      1.002      2.504\n",
      "         fe_13\n",
      "           359.644    2    8        3s2 3p2 3P1.0 - 3s 3p3 3D2.0            18     0   1.000\n",
      " -------------------------------------------------\n",
      " -------------------------------------------------\n",
      "     8   fe_13    359.851   1.18e+01   1.23e+01      0.961      2.403\n",
      "         fe_13\n",
      "           359.839    2    7        3s2 3p2 3P1.0 - 3s 3p3 3D1.0            13     0   1.000\n",
      " -------------------------------------------------\n",
      " -------------------------------------------------\n",
      "    13   3.98e+08   1.78e+06     26.960   9.12e+26\n"
     ]
    }
   ],
   "source": [
    "box.predictPrint(minContribution=0.01, outfile='tab2_fe_13_predictPrintFinal.txt')"
   ]
  },
  {
   "cell_type": "code",
   "execution_count": 47,
   "metadata": {},
   "outputs": [
    {
     "name": "stdout",
     "output_type": "stream",
     "text": [
      "   108   5.01e+08   1.78e+06     26.989   9.76e+26\n",
      " -------------------------------------------------\n",
      " chi = abs(int/(2*wght*pred))  relDiff = (int - pred)/pred\n",
      "  iwvl    ionS        wvl  intensity  predicted   int/pred        chi    relDiff     stdDev\n",
      "     0   fe_13    311.574   6.13e+00   2.89e+00      2.119      5.297      0.528      0.279\n",
      "     1   fe_13    312.171   1.78e+01   1.77e+01      1.008      2.521      0.008      0.000\n",
      "     2   fe_13    312.907   7.34e+00   6.21e+00      1.183      2.956      0.154      0.024\n",
      "     3   fe_13    318.129   6.09e+00   8.90e+00      0.684      1.710      0.462      0.213\n",
      "     4   fe_13    320.802   2.45e+01   2.04e+01      1.200      3.000      0.167      0.028\n",
      "     5   fe_13    321.464   8.64e+00   8.84e+00      0.977      2.443      0.023      0.001\n",
      "     6   fe_13    348.196   5.50e+01   4.31e+01      1.275      3.187      0.216      0.046\n",
      "     7   fe_13    359.658   2.84e+01   2.94e+01      0.967      2.418      0.034      0.001\n",
      "     8   fe_13    359.851   1.18e+01   1.13e+01      1.041      2.604      0.040      0.002\n",
      " mean of relative difference =      0.181 std =      0.182 stdDev       0.066\n",
      " mean of intOverPred = abs(int/pred -1.)      0.244\n",
      " 3*(mean of relDev) =      0.544\n"
     ]
    }
   ],
   "source": [
    "box.diffPrintChi()"
   ]
  },
  {
   "cell_type": "code",
   "execution_count": 36,
   "metadata": {},
   "outputs": [
    {
     "name": "stdout",
     "output_type": "stream",
     "text": [
      "     0 em\n",
      "     1 emfit\n",
      "     2 chisq\n",
      "     3 reducedChisq\n",
      "     4 idx\n",
      "     5 density\n",
      "     6 temperature\n"
     ]
    }
   ],
   "source": [
    "for i, akey in enumerate(box.SearchData['best'].keys()):\n",
    "    print(' %5i %s'%(i,akey))"
   ]
  },
  {
   "cell_type": "code",
   "execution_count": 37,
   "metadata": {},
   "outputs": [
    {
     "name": "stdout",
     "output_type": "stream",
     "text": [
      "outname = table2-1993-QS_fe_13-sun_photospheric_2015_scott_1dsearch-1tsearch.log\n"
     ]
    }
   ],
   "source": [
    "import os.path\n",
    "outname = os.path.splitext(mypkl)[0] + '-1dsearch.log'\n",
    "print('outname = %s'%(outname))"
   ]
  },
  {
   "cell_type": "code",
   "execution_count": 38,
   "metadata": {},
   "outputs": [
    {
     "data": {
      "text/plain": [
       "dict_keys(['density', 'densSearched', 'emfit', 'em', 'idx', 'chisq', 'minchisq', 'searchDx', 'maskedValues', 'temperature', 'message', 'best', 'diff'])"
      ]
     },
     "execution_count": 38,
     "metadata": {},
     "output_type": "execute_result"
    }
   ],
   "source": [
    "box.SearchData.keys()"
   ]
  },
  {
   "cell_type": "code",
   "execution_count": 39,
   "metadata": {},
   "outputs": [
    {
     "data": {
      "text/plain": [
       "{'diff': array([1.11893829, 0.00829778, 0.18252199, 0.31600833, 0.20002674,\n",
       "        0.02270015, 0.27490496, 0.03268841, 0.04145914]),\n",
       " 'wvl': [311.574,\n",
       "  312.171,\n",
       "  312.907,\n",
       "  318.129,\n",
       "  320.802,\n",
       "  321.464,\n",
       "  348.196,\n",
       "  359.658,\n",
       "  359.851],\n",
       " 'ionS': ['fe_13',\n",
       "  'fe_13',\n",
       "  'fe_13',\n",
       "  'fe_13',\n",
       "  'fe_13',\n",
       "  'fe_13',\n",
       "  'fe_13',\n",
       "  'fe_13',\n",
       "  'fe_13'],\n",
       " '3sig': 0.9836538027067327,\n",
       " 'poor': array([ True, False, False, False, False, False, False, False, False]),\n",
       " 'stdDev': array([1.25202290e+00, 6.88531055e-05, 3.33142773e-02, 9.98612637e-02,\n",
       "        4.00106958e-02, 5.15296940e-04, 7.55727384e-02, 1.06853235e-03,\n",
       "        1.71886049e-03])}"
      ]
     },
     "execution_count": 39,
     "metadata": {},
     "output_type": "execute_result"
    }
   ],
   "source": [
    "box.SearchData['diff']"
   ]
  },
  {
   "cell_type": "code",
   "execution_count": 40,
   "metadata": {},
   "outputs": [],
   "source": [
    "diff = box.SearchData['diff']\n",
    "with open(outname,'w') as outpt:\n",
    "    outpt.write(' chisq minimum = %10.2e \\n'%(box.SearchData['best']['chisq']))\n",
    "    outpt.write(' reduced chisq minimum = %10.2e \\n'%(box.SearchData['best']['reducedChisq']))\n",
    "    outpt.write(' index         = %5i \\n'%(box.SearchData['best']['idx']))\n",
    "    outpt.write(' log EM        = %10.3e \\n'%(box.SearchData['best']['emfit']))\n",
    "    outpt.write(' EM            = %10.3e \\n'%(10.**box.SearchData['best']['emfit']))\n",
    "    outpt.write(' Density       = %10.3e  \\n'%(box.SearchData['best']['density']))\n",
    "    outpt.write(' mean of diff = %10.3f std = %10.3f \\n'%(np.mean(diff['diff']), np.std(diff['diff'])))"
   ]
  },
  {
   "cell_type": "markdown",
   "metadata": {},
   "source": [
    "## save the results to a pickle file"
   ]
  },
  {
   "cell_type": "code",
   "execution_count": 63,
   "metadata": {},
   "outputs": [],
   "source": [
    "mypkl1t = os.path.splitext(mypkl)[0]+'_1dsearch' + '.pkl'\n",
    "with open(mypkl1t,'wb') as outpt:\n",
    "    pickle.dump(box,outpt)"
   ]
  },
  {
   "cell_type": "markdown",
   "metadata": {},
   "source": [
    "### a dict of the summary data"
   ]
  },
  {
   "cell_type": "code",
   "execution_count": 72,
   "metadata": {},
   "outputs": [],
   "source": [
    "tab2_fe_13_br = {}\n",
    "tab2_fe_13_br['d'] = {'temp': box.SearchData['best']['temperature']}\n",
    "tab2_fe_13_br['em'] = {'temp': box.SearchData['best']['temperature']}\n",
    "tab2_fe_13_br['d']['ionS'] = 'fe_13'\n",
    "tab2_fe_13_br['em']['ionS'] = 'fe_13'\n",
    "tab2_fe_13_br['d']['best'] = box.SearchData['best']['density']\n",
    "tab2_fe_13_br['d']['mean'] = box.SearchData['best']['density']\n",
    "tab2_fe_13_br['d']['idx'] = box.SearchData['best']['idx']\n",
    "tab2_fe_13_br['d']['68'] = dens68\n",
    "tab2_fe_13_br['d']['95'] = dens95\n",
    "tab2_fe_13_br['em']['best'] = box.SearchData['best']['em']\n",
    "tab2_fe_13_br['em']['mean'] = box.SearchData['best']['em']\n",
    "tab2_fe_13_br['em']['idx'] = box.SearchData['best']['idx']\n",
    "tab2_fe_13_br['em']['68'] = em68\n",
    "tab2_fe_13_br['em']['95'] = em95"
   ]
  },
  {
   "cell_type": "markdown",
   "metadata": {},
   "source": [
    "### pickle summary dict"
   ]
  },
  {
   "cell_type": "code",
   "execution_count": 73,
   "metadata": {},
   "outputs": [],
   "source": [
    "with open('tab2_fe_13_br.pkl','wb') as outpt:\n",
    "    pickle.dump(tab2_fe_13_br, outpt)"
   ]
  },
  {
   "cell_type": "code",
   "execution_count": 74,
   "metadata": {},
   "outputs": [],
   "source": [
    "with open('tab2_fe_13_br.pkl','rb') as inpt:\n",
    "    tab2_fe_13_br = pickle.load(inpt)"
   ]
  },
  {
   "cell_type": "code",
   "execution_count": null,
   "metadata": {},
   "outputs": [],
   "source": []
  }
 ],
 "metadata": {
  "kernelspec": {
   "display_name": "Python 3",
   "language": "python",
   "name": "python3"
  },
  "language_info": {
   "codemirror_mode": {
    "name": "ipython",
    "version": 3
   },
   "file_extension": ".py",
   "mimetype": "text/x-python",
   "name": "python",
   "nbconvert_exporter": "python",
   "pygments_lexer": "ipython3",
   "version": "3.6.5"
  }
 },
 "nbformat": 4,
 "nbformat_minor": 1
}
