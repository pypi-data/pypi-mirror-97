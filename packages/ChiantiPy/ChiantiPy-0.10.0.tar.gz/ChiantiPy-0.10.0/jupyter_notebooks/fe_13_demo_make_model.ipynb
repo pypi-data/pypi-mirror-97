{
 "cells": [
  {
   "cell_type": "markdown",
   "metadata": {},
   "source": [
    "# create the model to analyze the Table 2  1993 QS fe_13 data"
   ]
  },
  {
   "cell_type": "code",
   "execution_count": 2,
   "metadata": {},
   "outputs": [],
   "source": [
    "import json\n",
    "import pickle\n",
    "import matplotlib.pyplot as plt\n",
    "import numpy as np\n",
    "import ChiantiPy.model as mdl"
   ]
  },
  {
   "cell_type": "code",
   "execution_count": 3,
   "metadata": {},
   "outputs": [],
   "source": [
    "qtconsole"
   ]
  },
  {
   "cell_type": "code",
   "execution_count": 4,
   "metadata": {},
   "outputs": [],
   "source": [
    "matplotlib qt"
   ]
  },
  {
   "cell_type": "code",
   "execution_count": 5,
   "metadata": {},
   "outputs": [
    {
     "data": {
      "text/plain": [
       "'/data2/svn/data/serts-eunis/serts/qsdemo/mc1/2step'"
      ]
     },
     "execution_count": 5,
     "metadata": {},
     "output_type": "execute_result"
    }
   ],
   "source": [
    "pwd"
   ]
  },
  {
   "cell_type": "code",
   "execution_count": 6,
   "metadata": {},
   "outputs": [],
   "source": [
    "myIon = 'Fe XIII'"
   ]
  },
  {
   "cell_type": "code",
   "execution_count": 7,
   "metadata": {},
   "outputs": [
    {
     "name": "stdout",
     "output_type": "stream",
     "text": [
      "\u001b[0m\u001b[00mfe_13_demo_make_model.ipynb\u001b[0m  \u001b[00mfe_13_demo_mcmc.ipynb\u001b[0m  \u001b[00mtab2_1993_qs_fe_13.json\u001b[0m\r\n"
     ]
    }
   ],
   "source": [
    "ls"
   ]
  },
  {
   "cell_type": "markdown",
   "metadata": {},
   "source": [
    "## fe_13 data is in the .json file"
   ]
  },
  {
   "cell_type": "code",
   "execution_count": 8,
   "metadata": {},
   "outputs": [],
   "source": [
    "with open('tab2_1993_qs_fe_13.json', 'r') as inpt:\n",
    "    specData = json.load(inpt)"
   ]
  },
  {
   "cell_type": "code",
   "execution_count": 9,
   "metadata": {},
   "outputs": [
    {
     "data": {
      "text/plain": [
       "['Brosius, Jeffrey W.; Davila, Joseph M.; Thomas, Roger J.; Monsignori-Fossi, Brunella C.',\n",
       " 'Measuring Active and Quiet-Sun Coronal Plasma Properties with Extreme-Ultraviolet Spectra from SERTS ',\n",
       " '1996, Astrophysical Journal Supplement v.106, p.143',\n",
       " 'ADSref:  https://ui.adsabs.harvard.edu/abs/1996ApJS..106..143B/abstract']"
      ]
     },
     "execution_count": 9,
     "metadata": {},
     "output_type": "execute_result"
    }
   ],
   "source": [
    "specData['ref']"
   ]
  },
  {
   "cell_type": "code",
   "execution_count": 10,
   "metadata": {},
   "outputs": [
    {
     "data": {
      "text/plain": [
       "dict_keys(['filename', 'wvl0', 'intensity', 'intStd', 'dwvl', 'ions', 'ref'])"
      ]
     },
     "execution_count": 10,
     "metadata": {},
     "output_type": "execute_result"
    }
   ],
   "source": [
    "specData.keys()"
   ]
  },
  {
   "cell_type": "code",
   "execution_count": 11,
   "metadata": {},
   "outputs": [
    {
     "name": "stdout",
     "output_type": "stream",
     "text": [
      " XUVTOP = /data2/svn/chianti/dbase/trunk\n",
      " abundanceName = sun_photospheric_1998_grevesse\n",
      " minimum abundance =   1.00e-06\n",
      " # of observables / reduce # = 9        3.00\n",
      " - - - - - - - - - - - \n",
      " thision = fe_13\n"
     ]
    }
   ],
   "source": [
    "box = mdl.maker(specData, wghtFactor = 0.2, ionList=['fe_13'], verbose = True)"
   ]
  },
  {
   "cell_type": "code",
   "execution_count": 12,
   "metadata": {},
   "outputs": [],
   "source": [
    "with open('matches.pkl','wb') as outpt:\n",
    "    pickle.dump(box,outpt)"
   ]
  },
  {
   "cell_type": "markdown",
   "metadata": {},
   "source": [
    "### can skip the next step if the box object is already available"
   ]
  },
  {
   "cell_type": "code",
   "execution_count": 15,
   "metadata": {},
   "outputs": [],
   "source": [
    "with open('matches.pkl','rb') as inpt:\n",
    "    box = pickle.load(inpt)"
   ]
  },
  {
   "cell_type": "code",
   "execution_count": 16,
   "metadata": {},
   "outputs": [],
   "source": [
    "temp = 1.78e+6"
   ]
  },
  {
   "cell_type": "code",
   "execution_count": 13,
   "metadata": {},
   "outputs": [],
   "source": [
    "dens  = 10.**(6.+ 0.025*np.arange(241))"
   ]
  },
  {
   "cell_type": "code",
   "execution_count": 14,
   "metadata": {},
   "outputs": [
    {
     "data": {
      "text/plain": [
       "' density range =   1.00e+06 to   1.00e+12'"
      ]
     },
     "execution_count": 14,
     "metadata": {},
     "output_type": "execute_result"
    }
   ],
   "source": [
    "' density range = %10.2e to %10.2e'%(dens.min(), dens.max())"
   ]
  },
  {
   "cell_type": "markdown",
   "metadata": {},
   "source": [
    "### the next step takes about "
   ]
  },
  {
   "cell_type": "code",
   "execution_count": 17,
   "metadata": {},
   "outputs": [
    {
     "name": "stdout",
     "output_type": "stream",
     "text": [
      " temperature size:    241\n",
      " density     size:    241\n",
      " using fe_13\n",
      " using fe_13\n",
      " using fe_13\n",
      " using fe_13\n",
      " using fe_13\n",
      " using fe_13\n",
      " using fe_13\n",
      " using fe_13\n",
      " using fe_13\n",
      " elapsed seconds =       25.000\n"
     ]
    }
   ],
   "source": [
    "box.gofnt(temp, dens, verbose=True)"
   ]
  },
  {
   "cell_type": "code",
   "execution_count": 17,
   "metadata": {},
   "outputs": [],
   "source": [
    "with open('fe_13_model.pkl','wb') as outpt:\n",
    "    pickle.dump(box,outpt)"
   ]
  },
  {
   "cell_type": "markdown",
   "metadata": {},
   "source": [
    "## the pickle file is now availble for input with the demo notebooks"
   ]
  },
  {
   "cell_type": "code",
   "execution_count": 18,
   "metadata": {},
   "outputs": [],
   "source": [
    "plt.figure()\n",
    "box.emPlot(vs='d')\n",
    "plt.text(1.e+7, 3.e+26, myIon, horizontalalignment='center', fontsize=16)\n",
    "plt.xlabel('Electron Density (cm$^{-3}$)', fontsize=14)\n",
    "plt.ylabel('Emissin Measure (cm$^{-5}$)', fontsize=14)\n",
    "plt.tight_layout()"
   ]
  },
  {
   "cell_type": "code",
   "execution_count": 19,
   "metadata": {},
   "outputs": [
    {
     "name": "stdout",
     "output_type": "stream",
     "text": [
      " # of density values    61\n"
     ]
    }
   ],
   "source": [
    "print(' # of density values %5i'%(box.EDensity.size))"
   ]
  },
  {
   "cell_type": "markdown",
   "metadata": {},
   "source": [
    "## from the plot, a density of 7.e+8  and an em of 1.e+27 is estimated"
   ]
  },
  {
   "cell_type": "code",
   "execution_count": 20,
   "metadata": {},
   "outputs": [
    {
     "data": {
      "text/plain": [
       "' Dindex =    28'"
      ]
     },
     "execution_count": 20,
     "metadata": {},
     "output_type": "execute_result"
    }
   ],
   "source": [
    "Dindex = np.argmin(np.abs(box.EDensity - 7.e+8))\n",
    "' Dindex = %5i'%(Dindex)"
   ]
  },
  {
   "cell_type": "code",
   "execution_count": 21,
   "metadata": {},
   "outputs": [
    {
     "name": "stdout",
     "output_type": "stream",
     "text": [
      "density set to   6.31e+08\n"
     ]
    }
   ],
   "source": [
    "box.emSetIndices(Dindex)\n",
    "print('density set to %10.2e'%(box.EDensity[Dindex]))"
   ]
  },
  {
   "cell_type": "code",
   "execution_count": 22,
   "metadata": {},
   "outputs": [
    {
     "data": {
      "text/plain": [
       "' em    1.00e+27  emLog      27.00'"
      ]
     },
     "execution_count": 22,
     "metadata": {},
     "output_type": "execute_result"
    }
   ],
   "source": [
    "em = 1.e+27\n",
    "emLog = np.log10(em)\n",
    "' em  %10.2e  emLog %10.2f'%(em, emLog)"
   ]
  },
  {
   "cell_type": "markdown",
   "metadata": {},
   "source": [
    "## ergs cm^-2 s^-1 sr_1 "
   ]
  },
  {
   "cell_type": "code",
   "execution_count": 23,
   "metadata": {},
   "outputs": [],
   "source": [
    "box.emSet(emLog)"
   ]
  },
  {
   "cell_type": "markdown",
   "metadata": {},
   "source": [
    "## can set the WghtFactor"
   ]
  },
  {
   "cell_type": "code",
   "execution_count": 24,
   "metadata": {},
   "outputs": [
    {
     "data": {
      "text/plain": [
       "0.4491525423728814"
      ]
     },
     "execution_count": 24,
     "metadata": {},
     "output_type": "execute_result"
    }
   ],
   "source": [
    "box.WghtFactor"
   ]
  },
  {
   "cell_type": "code",
   "execution_count": 25,
   "metadata": {},
   "outputs": [],
   "source": [
    "box.WghtFactor = 0.2"
   ]
  },
  {
   "cell_type": "code",
   "execution_count": 26,
   "metadata": {},
   "outputs": [],
   "source": [
    "box.predict()"
   ]
  },
  {
   "cell_type": "code",
   "execution_count": 27,
   "metadata": {},
   "outputs": [
    {
     "name": "stdout",
     "output_type": "stream",
     "text": [
      "    28     6.31e+08     1.78e+06     1.00e+27\n",
      " -------------------------------------------------\n",
      "  iwvl    IonS        wvl        Int       Pred   Int/Pred        chi\n",
      "               wvl lvl1 lvl2                lower -                upper lineIdx predLine contribution\n",
      " -------------------------------------------------\n",
      "     0   fe_13    311.574   6.13e+00   3.44e+00      1.780      4.449\n",
      "         fe_13\n",
      "           311.547    2   12        3s2 3p2 3P1.0 - 3s 3p3 3P2.0            29     0   0.999\n",
      " -------------------------------------------------\n",
      " -------------------------------------------------\n",
      "     1   fe_13    312.171   1.78e+01   1.85e+01      0.961      2.404\n",
      "         fe_13\n",
      "           312.174    2   11        3s2 3p2 3P1.0 - 3s 3p3 3P1.0            24     0   1.000\n",
      " -------------------------------------------------\n",
      " -------------------------------------------------\n",
      "     2   fe_13    312.907   7.34e+00   7.35e+00      0.999      2.498\n",
      "         fe_13\n",
      "           312.868    2   10        3s2 3p2 3P1.0 - 3s 3p3 3P0.0            22     0   1.000\n",
      " -------------------------------------------------\n",
      " -------------------------------------------------\n",
      "     3   fe_13    318.129   6.09e+00   1.02e+01      0.597      1.492\n",
      "         fe_13\n",
      "           318.130    4   13        3s2 3p2 1D2.0 - 3s 3p3 1D2.0            31     0   1.000\n",
      " -------------------------------------------------\n",
      " -------------------------------------------------\n",
      "     4   fe_13    320.802   2.45e+01   2.44e+01      1.005      2.514\n",
      "         fe_13\n",
      "           320.800    3   12        3s2 3p2 3P2.0 - 3s 3p3 3P2.0            30     0   1.000\n",
      " -------------------------------------------------\n",
      " -------------------------------------------------\n",
      "     5   fe_13    321.464   8.64e+00   9.27e+00      0.932      2.329\n",
      "         fe_13\n",
      "           321.466    3   11        3s2 3p2 3P2.0 - 3s 3p3 3P1.0            25     0   1.000\n",
      " -------------------------------------------------\n",
      " -------------------------------------------------\n",
      "     6   fe_13    348.196   5.50e+01   4.35e+01      1.265      3.162\n",
      "         fe_13\n",
      "           348.183    1    7        3s2 3p2 3P0.0 - 3s 3p3 3D1.0            15     0   1.000\n",
      " -------------------------------------------------\n",
      " -------------------------------------------------\n",
      "     7   fe_13    359.658   2.84e+01   3.33e+01      0.853      2.133\n",
      "         fe_13\n",
      "           359.644    2    8        3s2 3p2 3P1.0 - 3s 3p3 3D2.0            18     0   1.000\n",
      " -------------------------------------------------\n",
      " -------------------------------------------------\n",
      "     8   fe_13    359.851   1.18e+01   1.14e+01      1.034      2.584\n",
      "         fe_13\n",
      "           359.839    2    7        3s2 3p2 3P1.0 - 3s 3p3 3D1.0            13     0   1.000\n",
      " -------------------------------------------------\n",
      " -------------------------------------------------\n"
     ]
    }
   ],
   "source": [
    "box.predictPrint()"
   ]
  },
  {
   "cell_type": "markdown",
   "metadata": {},
   "source": [
    "## predictPrint povides a way to see if the matches are more or less correct"
   ]
  },
  {
   "cell_type": "markdown",
   "metadata": {},
   "source": [
    "## next, open one of the demo notebooks to do a chi-squared search or a MCMC sampling"
   ]
  }
 ],
 "metadata": {
  "kernelspec": {
   "display_name": "Python 3",
   "language": "python",
   "name": "python3"
  },
  "language_info": {
   "codemirror_mode": {
    "name": "ipython",
    "version": 3
   },
   "file_extension": ".py",
   "mimetype": "text/x-python",
   "name": "python",
   "nbconvert_exporter": "python",
   "pygments_lexer": "ipython3",
   "version": "3.6.5"
  }
 },
 "nbformat": 4,
 "nbformat_minor": 1
}
