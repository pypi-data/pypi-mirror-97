{
 "cells": [
  {
   "cell_type": "markdown",
   "metadata": {},
   "source": [
    "# the perform a mcmc sampling for Table2 1993 QS  fe_13"
   ]
  },
  {
   "cell_type": "code",
   "execution_count": 1,
   "metadata": {},
   "outputs": [],
   "source": [
    "myIon = 'Fe XIII'"
   ]
  },
  {
   "cell_type": "code",
   "execution_count": 2,
   "metadata": {},
   "outputs": [],
   "source": [
    "import numpy as np\n",
    "import pickle\n",
    "import matplotlib.pyplot as plt\n",
    "import pymc"
   ]
  },
  {
   "cell_type": "code",
   "execution_count": 3,
   "metadata": {},
   "outputs": [],
   "source": [
    "qtconsole"
   ]
  },
  {
   "cell_type": "code",
   "execution_count": 4,
   "metadata": {},
   "outputs": [],
   "source": [
    "matplotlib qt"
   ]
  },
  {
   "cell_type": "markdown",
   "metadata": {},
   "source": [
    "## for the monte-carlo markov-chain bayesian inference model of pymc developed by Chris Fonnesbeck, Anand Patil, David Huard, John Salvatier\n",
    "\n",
    "## pymc is an earlier version of pymc3 that is now also available"
   ]
  },
  {
   "cell_type": "code",
   "execution_count": 6,
   "metadata": {},
   "outputs": [],
   "source": [
    "with open('tab2_1993_qs_fe_13_model.pkl', 'rb') as inpt:\n",
    "    box = pickle.load(inpt)"
   ]
  },
  {
   "cell_type": "code",
   "execution_count": 7,
   "metadata": {},
   "outputs": [
    {
     "data": {
      "text/plain": [
       "'/data2/svn/data/serts-eunis/serts/table2-1993-QS_fe_13.txt'"
      ]
     },
     "execution_count": 7,
     "metadata": {},
     "output_type": "execute_result"
    }
   ],
   "source": [
    "box.SpecData['filename']"
   ]
  },
  {
   "cell_type": "markdown",
   "metadata": {},
   "source": [
    "### a plot of intensity/Gofnt(T) - the usual EM loci plot"
   ]
  },
  {
   "cell_type": "code",
   "execution_count": 8,
   "metadata": {},
   "outputs": [],
   "source": [
    "plt.figure()\n",
    "box.emPlot(vs='d')\n",
    "plt.text(1.e+7, 2.e+26, myIon, fontsize=16)\n",
    "plt.tight_layout()"
   ]
  },
  {
   "cell_type": "code",
   "execution_count": 48,
   "metadata": {},
   "outputs": [
    {
     "data": {
      "text/plain": [
       "<matplotlib.text.Text at 0x7f67fc9597f0>"
      ]
     },
     "execution_count": 48,
     "metadata": {},
     "output_type": "execute_result"
    }
   ],
   "source": [
    "plt.title('fe_13, T = %10.2e'%(box.Temperature[0]))"
   ]
  },
  {
   "cell_type": "code",
   "execution_count": 9,
   "metadata": {},
   "outputs": [
    {
     "name": "stdout",
     "output_type": "stream",
     "text": [
      " # of density values   241\n"
     ]
    }
   ],
   "source": [
    "nDens = box.EDensity.size\n",
    "print(' # of density values %5i'%(nDens))"
   ]
  },
  {
   "cell_type": "code",
   "execution_count": 10,
   "metadata": {},
   "outputs": [
    {
     "data": {
      "text/plain": [
       "' Dindex =   111'"
      ]
     },
     "execution_count": 10,
     "metadata": {},
     "output_type": "execute_result"
    }
   ],
   "source": [
    "densGuess = 6.e+8\n",
    "Dindex = int(np.argmin(np.abs(box.EDensity - densGuess)))\n",
    "' Dindex = %5i'%(Dindex)"
   ]
  },
  {
   "cell_type": "markdown",
   "metadata": {},
   "source": [
    "### by setting the temperature by its index and the log of the EM, we can predict the spectrum"
   ]
  },
  {
   "cell_type": "code",
   "execution_count": 11,
   "metadata": {},
   "outputs": [
    {
     "name": "stdout",
     "output_type": "stream",
     "text": [
      "density set to   5.96e+08 \n"
     ]
    }
   ],
   "source": [
    "box.emSetIndices(Dindex)\n",
    "print('density set to %10.2e '%(box.EDensity[Dindex]))"
   ]
  },
  {
   "cell_type": "code",
   "execution_count": 12,
   "metadata": {},
   "outputs": [],
   "source": [
    "emGuess = 1.e+27\n",
    "emLog = np.log10(emGuess)"
   ]
  },
  {
   "cell_type": "code",
   "execution_count": 13,
   "metadata": {},
   "outputs": [],
   "source": [
    "box.emSetIndices(Dindex)"
   ]
  },
  {
   "cell_type": "code",
   "execution_count": 14,
   "metadata": {},
   "outputs": [],
   "source": [
    "box.emSet(emLog)"
   ]
  },
  {
   "cell_type": "markdown",
   "metadata": {},
   "source": [
    "### get predicted intensities from initial guess"
   ]
  },
  {
   "cell_type": "code",
   "execution_count": 15,
   "metadata": {},
   "outputs": [],
   "source": [
    "box.predict()"
   ]
  },
  {
   "cell_type": "code",
   "execution_count": 16,
   "metadata": {},
   "outputs": [
    {
     "name": "stdout",
     "output_type": "stream",
     "text": [
      "   111     5.96e+08     1.78e+06     1.00e+27\n",
      " -------------------------------------------------\n",
      "  iwvl    IonS        wvl        Int       Pred   Int/Pred        chi\n",
      "               wvl lvl1 lvl2                lower -                upper lineIdx predLine contribution\n",
      " -------------------------------------------------\n",
      "     0   fe_13    311.574   6.13e+00   3.38e+00      1.816      2.022\n",
      "         fe_13\n",
      "           311.547    2   12        3s2 3p2 3P1.0 - 3s 3p3 3P2.0            29     0   0.999\n",
      " -------------------------------------------------\n",
      " -------------------------------------------------\n",
      "     1   fe_13    312.171   1.78e+01   1.87e+01      0.950      1.058\n",
      "         fe_13\n",
      "           312.174    2   11        3s2 3p2 3P1.0 - 3s 3p3 3P1.0            24     0   1.000\n",
      " -------------------------------------------------\n",
      " -------------------------------------------------\n",
      "     2   fe_13    312.907   7.34e+00   7.22e+00      1.017      1.132\n",
      "         fe_13\n",
      "           312.868    2   10        3s2 3p2 3P1.0 - 3s 3p3 3P0.0            22     0   1.000\n",
      " -------------------------------------------------\n",
      " -------------------------------------------------\n",
      "     3   fe_13    318.129   6.09e+00   1.01e+01      0.604      0.672\n",
      "         fe_13\n",
      "           318.130    4   13        3s2 3p2 1D2.0 - 3s 3p3 1D2.0            31     0   1.000\n",
      " -------------------------------------------------\n",
      " -------------------------------------------------\n",
      "     4   fe_13    320.802   2.45e+01   2.39e+01      1.026      1.142\n",
      "         fe_13\n",
      "           320.800    3   12        3s2 3p2 3P2.0 - 3s 3p3 3P2.0            30     0   1.000\n",
      " -------------------------------------------------\n",
      " -------------------------------------------------\n",
      "     5   fe_13    321.464   8.64e+00   9.38e+00      0.921      1.025\n",
      "         fe_13\n",
      "           321.466    3   11        3s2 3p2 3P2.0 - 3s 3p3 3P1.0            25     0   1.000\n",
      " -------------------------------------------------\n",
      " -------------------------------------------------\n",
      "     6   fe_13    348.196   5.50e+01   4.45e+01      1.237      1.377\n",
      "         fe_13\n",
      "           348.183    1    7        3s2 3p2 3P0.0 - 3s 3p3 3D1.0            15     0   1.000\n",
      " -------------------------------------------------\n",
      " -------------------------------------------------\n",
      "     7   fe_13    359.658   2.84e+01   3.30e+01      0.860      0.957\n",
      "         fe_13\n",
      "           359.644    2    8        3s2 3p2 3P1.0 - 3s 3p3 3D2.0            18     0   1.000\n",
      " -------------------------------------------------\n",
      " -------------------------------------------------\n",
      "     8   fe_13    359.851   1.18e+01   1.17e+01      1.011      1.125\n",
      "         fe_13\n",
      "           359.839    2    7        3s2 3p2 3P1.0 - 3s 3p3 3D1.0            13     0   1.000\n",
      " -------------------------------------------------\n",
      " -------------------------------------------------\n"
     ]
    }
   ],
   "source": [
    "box.predictPrint(outfile='predictPrintGuess.txt')"
   ]
  },
  {
   "cell_type": "markdown",
   "metadata": {},
   "source": [
    "## begin set up for mc sampling"
   ]
  },
  {
   "cell_type": "code",
   "execution_count": 17,
   "metadata": {},
   "outputs": [],
   "source": [
    "em0 = pymc.Normal('em0', mu=emLog, tau=1./0.3, value=emLog)\n",
    "d0 = pymc.DiscreteUniform('d0', 0, nDens - 1, value=Dindex)"
   ]
  },
  {
   "cell_type": "markdown",
   "metadata": {},
   "source": [
    "### get the intensities to be used by pymc"
   ]
  },
  {
   "cell_type": "code",
   "execution_count": 18,
   "metadata": {},
   "outputs": [],
   "source": [
    "nobs = len(box.match)\n",
    "intensity = np.zeros(nobs,'float64')\n",
    "for iwvl in range(nobs):\n",
    "    intensity[iwvl] = box.match[iwvl]['obsIntensity']"
   ]
  },
  {
   "cell_type": "code",
   "execution_count": 19,
   "metadata": {},
   "outputs": [],
   "source": [
    "@pymc.deterministic\n",
    "def predictMc1(info = box, id0 = d0, em0 = em0):\n",
    "    '''\n",
    "    this version is to be used with pymc for bayesian modeling\n",
    "    to predict the intensities of the observed lines from an emission measure\n",
    "    and a temperature\n",
    "    '''\n",
    "    #\n",
    "    predicted = np.zeros(len(info.match), 'float64')\n",
    "    for iwvl, amatch in enumerate(info.match):\n",
    "#            pred = np.sum(amatch['intensitySum']*self.Em)\n",
    "        predicted[iwvl] += amatch['intensitySum'][id0]*10.**em0\n",
    "        info.match[iwvl]['predicted'] = predicted[iwvl]\n",
    "#            self.Predicted[iwvl] = pred\n",
    "#            self.Tmax[iwvl] = amatch['tmax']\n",
    "    return predicted\n"
   ]
  },
  {
   "cell_type": "code",
   "execution_count": 20,
   "metadata": {},
   "outputs": [],
   "source": [
    "box.WghtFactor = 0.2"
   ]
  },
  {
   "cell_type": "code",
   "execution_count": 21,
   "metadata": {},
   "outputs": [],
   "source": [
    "obs = pymc.Normal('obs', predictMc1, 1./(box.WghtFactor*intensity)**2, value=intensity, observed=True, size=nobs)"
   ]
  },
  {
   "cell_type": "code",
   "execution_count": 22,
   "metadata": {},
   "outputs": [],
   "source": [
    "model = pymc.MCMC([obs, box, em0, d0,  predictMc1], db='pickle')"
   ]
  },
  {
   "cell_type": "code",
   "execution_count": 23,
   "metadata": {},
   "outputs": [],
   "source": [
    "iter1 = 100000"
   ]
  },
  {
   "cell_type": "code",
   "execution_count": 24,
   "metadata": {},
   "outputs": [
    {
     "name": "stdout",
     "output_type": "stream",
     "text": [
      " [-------------------113%--------------------] 119158 of 105000 complete in 15.5 sec"
     ]
    }
   ],
   "source": [
    "model.sample(iter=iter1, burn_till_tuned=True)"
   ]
  },
  {
   "cell_type": "markdown",
   "metadata": {},
   "source": [
    "### the statistics from the model run are stored in model.stats()"
   ]
  },
  {
   "cell_type": "code",
   "execution_count": 25,
   "metadata": {},
   "outputs": [],
   "source": [
    "myQuantiles = [2.5, 5., 16., 25, 50, 75, 84., 95., 97.5]"
   ]
  },
  {
   "cell_type": "code",
   "execution_count": 26,
   "metadata": {},
   "outputs": [],
   "source": [
    "model.write_csv('modelMc1.csv',variables=['d0','em0'],quantiles = myQuantiles)"
   ]
  },
  {
   "cell_type": "code",
   "execution_count": 27,
   "metadata": {},
   "outputs": [
    {
     "data": {
      "text/plain": [
       "dict_keys(['em0', 'predictMc1', 'd0'])"
      ]
     },
     "execution_count": 27,
     "metadata": {},
     "output_type": "execute_result"
    }
   ],
   "source": [
    "model.stats().keys()"
   ]
  },
  {
   "cell_type": "code",
   "execution_count": 31,
   "metadata": {},
   "outputs": [
    {
     "data": {
      "text/plain": [
       "dict_keys(['em0', 'predictMc1', 'd0'])"
      ]
     },
     "execution_count": 31,
     "metadata": {},
     "output_type": "execute_result"
    }
   ],
   "source": [
    "allstats = model.stats()\n",
    "allstats.keys()"
   ]
  },
  {
   "cell_type": "markdown",
   "metadata": {},
   "source": [
    "### pickle allStats for later analysis"
   ]
  },
  {
   "cell_type": "code",
   "execution_count": 32,
   "metadata": {},
   "outputs": [],
   "source": [
    "with open('allstats.pkl','wb') as outpt:\n",
    "    pickle.dump(allStats,outpt)"
   ]
  },
  {
   "cell_type": "markdown",
   "metadata": {},
   "source": [
    "## run next cell for just doing analysis ##"
   ]
  },
  {
   "cell_type": "code",
   "execution_count": 13,
   "metadata": {},
   "outputs": [],
   "source": [
    "with open('allstats.pkl','rb') as inpt:\n",
    "    allStats = pickle.load(inpt)"
   ]
  },
  {
   "cell_type": "code",
   "execution_count": 33,
   "metadata": {},
   "outputs": [
    {
     "data": {
      "text/plain": [
       "{'n': 100000,\n",
       " 'standard deviation': 4.531176290501177,\n",
       " 'mean': 107.74662,\n",
       " '95% HPD interval': array([ 99., 116.]),\n",
       " 'mc error': 0.024400429422450735,\n",
       " 'quantiles': {2.5: 99.0,\n",
       "  5.0: 100.0,\n",
       "  16.0: 103.0,\n",
       "  25: 105.0,\n",
       "  50: 108.0,\n",
       "  75: 111.0,\n",
       "  84.0: 112.0,\n",
       "  95.0: 115.0,\n",
       "  97.5: 116.0}}"
      ]
     },
     "execution_count": 33,
     "metadata": {},
     "output_type": "execute_result"
    }
   ],
   "source": [
    "allStats['d0']"
   ]
  },
  {
   "cell_type": "code",
   "execution_count": 34,
   "metadata": {},
   "outputs": [
    {
     "name": "stdout",
     "output_type": "stream",
     "text": [
      "      2.50     99.000  2.985e+08\n",
      "      5.00    100.000  3.162e+08\n",
      "     16.00    103.000  3.758e+08\n",
      "     25.00    105.000  4.217e+08\n",
      "     50.00    108.000  5.012e+08\n",
      "     75.00    111.000  5.957e+08\n",
      "     84.00    112.000  6.310e+08\n",
      "     95.00    115.000  7.499e+08\n",
      "     97.50    116.000  7.943e+08\n"
     ]
    }
   ],
   "source": [
    "for akey in allStats['d0']['quantiles']:\n",
    "    print('%10.2f %10.3f %10.3e'%(akey, allStats['d0']['quantiles'][akey],box.EDensity[int(allStats['d0']['quantiles'][akey])]))"
   ]
  },
  {
   "cell_type": "markdown",
   "metadata": {},
   "source": [
    "### the mean Density index and the mean Density"
   ]
  },
  {
   "cell_type": "code",
   "execution_count": 35,
   "metadata": {},
   "outputs": [
    {
     "name": "stdout",
     "output_type": "stream",
     "text": [
      " mean D index    107  mean D   4.73e+08\n"
     ]
    }
   ],
   "source": [
    "indexMean = int(allStats['d0']['mean'])\n",
    "d0Mean = box.EDensity[indexMean]\n",
    "print(' mean D index %6i  mean D %10.2e'%(indexMean, d0Mean))"
   ]
  },
  {
   "cell_type": "markdown",
   "metadata": {},
   "source": [
    "### the 95% high probability density (hpd) interval of the electron density indices and electron density"
   ]
  },
  {
   "cell_type": "code",
   "execution_count": 37,
   "metadata": {},
   "outputs": [
    {
     "name": "stdout",
     "output_type": "stream",
     "text": [
      " index 2.5  HPD min    99.0 Density   2.99e+08\n",
      " index 97.5 HPD max   116.0 Density   7.94e+08\n"
     ]
    }
   ],
   "source": [
    "index95min = allStats['d0']['quantiles'][2.5]\n",
    "index95max = allStats['d0']['quantiles'][97.5]\n",
    "d095HpdMin = box.EDensity[int(index95min)]\n",
    "d095HpdMax = box.EDensity[int(index95max)]\n",
    "print(' index 2.5  HPD min %7.1f Density %10.2e'%(index95min, d095HpdMin))\n",
    "print(' index 97.5 HPD max %7.1f Density %10.2e'%(index95max, d095HpdMax))"
   ]
  },
  {
   "cell_type": "code",
   "execution_count": 38,
   "metadata": {},
   "outputs": [
    {
     "name": "stdout",
     "output_type": "stream",
     "text": [
      " std of Density index     4 \n"
     ]
    }
   ],
   "source": [
    "d0Std = int(allStats['d0']['standard deviation'])\n",
    "print(' std of Density index %5i '%(d0Std))"
   ]
  },
  {
   "cell_type": "code",
   "execution_count": 39,
   "metadata": {},
   "outputs": [
    {
     "data": {
      "text/plain": [
       "' density mean -/+ std =   3.76e+08   5.96e+08'"
      ]
     },
     "execution_count": 39,
     "metadata": {},
     "output_type": "execute_result"
    }
   ],
   "source": [
    "d0mStd = box.EDensity[indexMean - d0Std]\n",
    "d0pStd = box.EDensity[indexMean + d0Std]\n",
    "' density mean -/+ std = %10.2e %10.2e'%(d0mStd,d0pStd)"
   ]
  },
  {
   "cell_type": "code",
   "execution_count": 40,
   "metadata": {},
   "outputs": [
    {
     "data": {
      "text/plain": [
       "{'n': 100000,\n",
       " 'standard deviation': 0.030618242461250174,\n",
       " 'mean': 26.954843541207815,\n",
       " '95% HPD interval': array([26.89595702, 27.01517192]),\n",
       " 'mc error': 0.00026331939485677,\n",
       " 'quantiles': {2.5: 26.891874767982898,\n",
       "  5.0: 26.902716950975382,\n",
       "  16.0: 26.92450240949749,\n",
       "  25: 26.934941951203086,\n",
       "  50: 26.9559288661834,\n",
       "  75: 26.975950861414642,\n",
       "  84.0: 26.98483160343099,\n",
       "  95.0: 27.003312683457878,\n",
       "  97.5: 27.011899402302365}}"
      ]
     },
     "execution_count": 40,
     "metadata": {},
     "output_type": "execute_result"
    }
   ],
   "source": [
    "allStats['em0']"
   ]
  },
  {
   "cell_type": "code",
   "execution_count": 42,
   "metadata": {},
   "outputs": [
    {
     "data": {
      "text/plain": [
       "' std of log10 EM      26.955 '"
      ]
     },
     "execution_count": 42,
     "metadata": {},
     "output_type": "execute_result"
    }
   ],
   "source": [
    "em0Mean = allStats['em0']['mean']\n",
    "' std of log10 EM  %10.3f '%(em0Mean)"
   ]
  },
  {
   "cell_type": "code",
   "execution_count": 43,
   "metadata": {},
   "outputs": [
    {
     "name": "stdout",
     "output_type": "stream",
     "text": [
      " std of log10 EM       0.031 \n"
     ]
    }
   ],
   "source": [
    "em0Std = allStats['em0']['standard deviation']\n",
    "print(' std of log10 EM  %10.3f '%(em0Std))"
   ]
  },
  {
   "cell_type": "code",
   "execution_count": 44,
   "metadata": {},
   "outputs": [
    {
     "data": {
      "text/plain": [
       "' density mean -/+ std =    26.9242    26.9855'"
      ]
     },
     "execution_count": 44,
     "metadata": {},
     "output_type": "execute_result"
    }
   ],
   "source": [
    "em0mStd = em0Mean - em0Std\n",
    "em0pStd = em0Mean + em0Std\n",
    "' density mean -/+ std = %10.4f %10.4f'%(em0mStd,em0pStd)"
   ]
  },
  {
   "cell_type": "code",
   "execution_count": 45,
   "metadata": {},
   "outputs": [
    {
     "name": "stdout",
     "output_type": "stream",
     "text": [
      " 95 HPD interval       26.896        27.015\n"
     ]
    }
   ],
   "source": [
    "em095Hpd = allStats['em0']['95% HPD interval']\n",
    "print(' 95 HPD interval %12.3f  %12.3f'%(em095Hpd[0],  em095Hpd[1]))"
   ]
  },
  {
   "cell_type": "code",
   "execution_count": 46,
   "metadata": {},
   "outputs": [
    {
     "name": "stdout",
     "output_type": "stream",
     "text": [
      " 95 HPD interval    2.985e+08     7.943e+08\n"
     ]
    }
   ],
   "source": [
    "itLo = int(allStats['d0']['95% HPD interval'][0])\n",
    "itHi = int(allStats['d0']['95% HPD interval'][1])\n",
    "print(' 95 HPD interval %12.3e  %12.3e'%(box.EDensity[itLo],box.EDensity[itHi]))"
   ]
  },
  {
   "cell_type": "code",
   "execution_count": 47,
   "metadata": {},
   "outputs": [],
   "source": [
    "outname = 'tab2_1993_qs_fe_13_mcmc.log'"
   ]
  },
  {
   "cell_type": "code",
   "execution_count": 48,
   "metadata": {},
   "outputs": [],
   "source": [
    "with open(outname,'w') as outpt:\n",
    "    outpt.write(' index         = %5i \\n'%(indexMean))\n",
    "    outpt.write(' log EM        = %10.3f \\n'%(em0Mean))\n",
    "    outpt.write(' EM            = %10.3e \\n'%(10.**em0Mean))\n",
    "    outpt.write(' logEM +/- std = %10.3f   %10.3f \\n'%(em095Hpd[0], em095Hpd[1]))\n",
    "    outpt.write(' EM +/- std    = %10.2e   %10.2e \\n'%(10.**em095Hpd[0],  10.**em095Hpd[1]))\n",
    "    outpt.write(' Density       = %10.3e  \\n'%(d0Mean))\n",
    "    outpt.write(' Density +/- std   = %10.2e %10.2e \\n'%(d0mStd, d0pStd)) \n",
    "    outpt.write(' Density 95pc Hpd  = %10.2e %10.2e \\n'%(d095HpdMin, d095HpdMax))"
   ]
  },
  {
   "cell_type": "code",
   "execution_count": 49,
   "metadata": {},
   "outputs": [
    {
     "data": {
      "text/plain": [
       "{'n': 100000,\n",
       " 'standard deviation': array([0.3250768 , 1.5521932 , 0.673536  , 0.71005447, 2.30045988,\n",
       "        0.7774512 , 5.09794163, 2.24513071, 1.33882456]),\n",
       " 'mean': array([ 2.84849914, 17.54721701,  6.10161187,  8.83744839, 20.1492925 ,\n",
       "         8.78924009, 43.02788762, 28.99340377, 11.29706245]),\n",
       " '95% HPD interval': array([[ 2.2237063 , 14.49778183,  4.77089521,  7.49031139, 15.72806614,\n",
       "          7.2618454 , 33.22219589, 24.58852382,  8.7219106 ],\n",
       "        [ 3.48608619, 20.54550798,  7.38780703, 10.27499607, 24.66162365,\n",
       "         10.29105909, 53.07479402, 33.38349037, 13.93589622]]),\n",
       " 'mc error': array([0.00212245, 0.01199463, 0.00448274, 0.00546502, 0.01501746,\n",
       "        0.00600788, 0.03507098, 0.01786975, 0.00920955]),\n",
       " 'quantiles': {2.5: array([ 2.21297747, 14.51618921,  4.74195184,  7.45738504, 15.65226078,\n",
       "          7.2710456 , 33.12989329, 24.52917376,  8.69767815]),\n",
       "  5.0: array([ 2.31425112, 14.97852094,  4.97001442,  7.6881584 , 16.36874767,\n",
       "          7.50261467, 34.65518337, 25.30532637,  9.09852041]),\n",
       "  16.0: array([ 2.52433403, 16.00126391,  5.43285139,  8.13193827, 17.8550996 ,\n",
       "          8.01490789, 37.9134503 , 26.75873394,  9.95386706]),\n",
       "  25: array([ 2.62816146, 16.4936136 ,  5.65555758,  8.36035108, 18.58993243,\n",
       "          8.26152307, 39.53785123, 27.50097357, 10.38032333]),\n",
       "  50: array([ 2.84783546, 17.54565573,  6.11627722,  8.83068318, 20.14415718,\n",
       "          8.78847081, 42.96505743, 28.99488878, 11.28055322]),\n",
       "  75: array([ 3.07161255, 18.60471599,  6.56722179,  9.31454044, 21.72866266,\n",
       "          9.31889228, 46.51000121, 30.50997875, 12.21182546]),\n",
       "  84.0: array([ 3.17549635, 19.09442724,  6.77688612,  9.54204887, 22.46330278,\n",
       "          9.56420384, 48.1335101 , 31.23812366, 12.63799251]),\n",
       "  95.0: array([ 3.37932275, 20.10014288,  7.17681365, 10.01880586, 23.90674859,\n",
       "         10.06796797, 51.40843338, 32.6762768 , 13.49814299]),\n",
       "  97.5: array([ 3.47660766, 20.57588549,  7.36472588, 10.2471821 , 24.59199168,\n",
       "         10.30619803, 53.00683462, 33.35291292, 13.91766076])}}"
      ]
     },
     "execution_count": 49,
     "metadata": {},
     "output_type": "execute_result"
    }
   ],
   "source": [
    "allStats['predictMc1']"
   ]
  },
  {
   "cell_type": "markdown",
   "metadata": {},
   "source": [
    "### the samples are stored in  MCMC.pickle"
   ]
  },
  {
   "cell_type": "code",
   "execution_count": 50,
   "metadata": {},
   "outputs": [],
   "source": [
    "with open('MCMC.pickle','rb') as inpt:\n",
    "    db = pickle.load(inpt)"
   ]
  },
  {
   "cell_type": "code",
   "execution_count": 51,
   "metadata": {},
   "outputs": [
    {
     "data": {
      "text/plain": [
       "dict_keys(['deviance', 'predictMc1', 'em0', 'd0', 'DiscreteMetropolis_d0_adaptive_scale_factor', 'Metropolis_em0_adaptive_scale_factor', '_state_'])"
      ]
     },
     "execution_count": 51,
     "metadata": {},
     "output_type": "execute_result"
    }
   ],
   "source": [
    "db.keys()"
   ]
  },
  {
   "cell_type": "code",
   "execution_count": 52,
   "metadata": {},
   "outputs": [
    {
     "data": {
      "text/plain": [
       "(array([4.0000e+00, 5.0000e+00, 3.8000e+01, 1.1600e+02, 3.0100e+02,\n",
       "        1.7480e+03, 3.1110e+03, 6.6340e+03, 1.1583e+04, 1.5731e+04,\n",
       "        2.5532e+04, 1.4527e+04, 1.0596e+04, 5.9880e+03, 2.6670e+03,\n",
       "        1.1980e+03, 1.6400e+02, 5.0000e+01, 3.0000e+00, 4.0000e+00]),\n",
       " array([ 85. ,  87.2,  89.4,  91.6,  93.8,  96. ,  98.2, 100.4, 102.6,\n",
       "        104.8, 107. , 109.2, 111.4, 113.6, 115.8, 118. , 120.2, 122.4,\n",
       "        124.6, 126.8, 129. ]),\n",
       " <a list of 20 Patch objects>)"
      ]
     },
     "execution_count": 52,
     "metadata": {},
     "output_type": "execute_result"
    }
   ],
   "source": [
    "plt.figure()\n",
    "plt.hist(db['d0'][0],bins=20)"
   ]
  },
  {
   "cell_type": "code",
   "execution_count": 53,
   "metadata": {},
   "outputs": [
    {
     "name": "stderr",
     "output_type": "stream",
     "text": [
      "/usr/lib/python3.6/site-packages/ipykernel_launcher.py:9: UserWarning: Tight layout not applied. The left and right margins cannot be made large enough to accommodate all axes decorations. \n",
      "  if __name__ == '__main__':\n"
     ]
    }
   ],
   "source": [
    "plt.figure()\n",
    "plt.hist(db['d0'][0],bins=np.arange(90,130,1))\n",
    "xy = plt.axis()\n",
    "plt.axis([90,130,xy[2],xy[3]])\n",
    "plt.text(1.e+9, 8000., myIon , fontsize=16)\n",
    "plt.text(120, 5000., myIon , fontsize=16)\n",
    "plt.xlabel('Density Index', fontsize=14)\n",
    "plt.ylabel('Frequency', fontsize=14)\n",
    "plt.tight_layout()"
   ]
  },
  {
   "cell_type": "code",
   "execution_count": 54,
   "metadata": {},
   "outputs": [],
   "source": [
    "xyhist=plt.hist(db['d0'][0],bins=np.arange(90,130,1))"
   ]
  },
  {
   "cell_type": "code",
   "execution_count": 55,
   "metadata": {},
   "outputs": [],
   "source": [
    "plt.figure()\n",
    "plt.semilogx(box.EDensity[xyhist[1][:-1]], xyhist[0], 'b', lw=3)\n",
    "xy = plt.axis()\n",
    "plt.axis([1.e+8,3.e+9,0.,xy[3]])\n",
    "plt.plot([d0Mean,d0Mean],[xy[2],xy[3]], 'k', lw=2,label='mean')\n",
    "plt.plot([d0mStd,d0mStd],[xy[2],xy[3]], 'r--', lw=2,label='mean - std')\n",
    "plt.plot([d0pStd,d0pStd],[xy[2],xy[3]], 'r--', lw=2,label='mean + std')\n",
    "plt.plot([d095HpdMin,d095HpdMin],[xy[2],xy[3]], 'k--', lw=2,label='95% Hpd Min')\n",
    "plt.plot([d095HpdMax,d095HpdMax],[xy[2],xy[3]], 'k--', lw=2,label='95% Hpd Max')\n",
    "plt.xlabel('Electron Density cm$^{-3}$', fontsize=14)\n",
    "plt.ylabel('Frequency', fontsize=14)\n",
    "plt.text(1.2e+9, 5000., myIon , fontsize=16)\n",
    "plt.legend(loc='upper left')\n",
    "plt.tight_layout()"
   ]
  },
  {
   "cell_type": "code",
   "execution_count": 57,
   "metadata": {},
   "outputs": [],
   "source": [
    "plt.figure()\n",
    "box.emPlot(vs='d')\n",
    "xy = plt.axis()\n",
    "plt.axis([1.e+6,1.e+12,xy[2],xy[3]])\n",
    "plt.plot([d0Mean,d0Mean],[xy[2],xy[3]], 'k', lw=2,label='mean')\n",
    "plt.plot([d0mStd,d0mStd],[xy[2],xy[3]], 'r--', lw=2,label='mean - std')\n",
    "plt.plot([d0pStd,d0pStd],[xy[2],xy[3]], 'r--', lw=2,label='mean + std')\n",
    "plt.plot([d095HpdMin,d095HpdMin],[xy[2],xy[3]], 'k--', lw=2,label='95% Hpd Min')\n",
    "plt.plot([d095HpdMax,d095HpdMax],[xy[2],xy[3]], 'k--', lw=2,label='95% Hpd Max')\n",
    "plt.legend(loc='lower left')\n",
    "plt.text(3.e+10, 3.e+26, myIon, fontsize=16)\n",
    "plt.tight_layout()"
   ]
  },
  {
   "cell_type": "code",
   "execution_count": 59,
   "metadata": {},
   "outputs": [
    {
     "data": {
      "text/plain": [
       "100000"
      ]
     },
     "execution_count": 59,
     "metadata": {},
     "output_type": "execute_result"
    }
   ],
   "source": [
    "len(db['em0'][0])"
   ]
  },
  {
   "cell_type": "code",
   "execution_count": 60,
   "metadata": {},
   "outputs": [
    {
     "data": {
      "text/plain": [
       "(array([5.0000e+00, 7.0000e+00, 4.0000e+01, 1.2600e+02, 3.2400e+02,\n",
       "        6.8000e+02, 1.6490e+03, 3.5170e+03, 6.0680e+03, 1.0036e+04,\n",
       "        1.3679e+04, 1.6216e+04, 1.6143e+04, 1.3761e+04, 9.1680e+03,\n",
       "        5.3830e+03, 2.1110e+03, 7.8100e+02, 2.7200e+02, 3.4000e+01]),\n",
       " array([26.80485436, 26.81758504, 26.83031572, 26.8430464 , 26.85577708,\n",
       "        26.86850776, 26.88123844, 26.89396912, 26.90669979, 26.91943047,\n",
       "        26.93216115, 26.94489183, 26.95762251, 26.97035319, 26.98308387,\n",
       "        26.99581455, 27.00854523, 27.02127591, 27.03400659, 27.04673726,\n",
       "        27.05946794]),\n",
       " <a list of 20 Patch objects>)"
      ]
     },
     "execution_count": 60,
     "metadata": {},
     "output_type": "execute_result"
    }
   ],
   "source": [
    "plt.figure()\n",
    "plt.hist(db['em0'][0],bins=20)"
   ]
  },
  {
   "cell_type": "code",
   "execution_count": 61,
   "metadata": {},
   "outputs": [],
   "source": [
    "plt.figure()\n",
    "plt.hist(db['em0'][0],bins=np.arange(26.85,27.1,.01))\n",
    "xy = plt.axis()\n",
    "plt.plot([em0Mean, em0Mean],[xy[2],xy[3]], 'k', lw=2,label='mean')\n",
    "plt.plot([em0mStd, em0mStd],[xy[2],xy[3]], 'r--', lw=2,label='mean - std')\n",
    "plt.plot([em0pStd, em0pStd],[xy[2],xy[3]], 'r--', lw=2,label='mean + std')\n",
    "plt.plot([em095Hpd[0], em095Hpd[0]],[xy[2],xy[3]], 'k--', lw=2,label='95% Hpd Min')\n",
    "plt.plot([em095Hpd[1], em095Hpd[1]],[xy[2],xy[3]], 'k--', lw=2,label='95% Hpd Max')\n",
    "plt.xlabel('log$_{10}$ Emission Measure (cm$^{-5}$)',fontsize=14)\n",
    "plt.ylabel('Frequency', fontsize=14)\n",
    "plt.text(26.86, 11000, 'Fe XIII',fontsize=16)\n",
    "plt.legend(loc='center left')\n",
    "plt.tight_layout()"
   ]
  },
  {
   "cell_type": "code",
   "execution_count": 62,
   "metadata": {},
   "outputs": [
    {
     "name": "stdout",
     "output_type": "stream",
     "text": [
      "\n",
      "em0:\n",
      " \n",
      "\tMean             SD               MC Error        95% HPD interval\n",
      "\t------------------------------------------------------------------\n",
      "\t26.955           0.031            0.0              [26.896 27.015]\n",
      "\t\n",
      "\t\n",
      "\tPosterior quantiles:\n",
      "\t\n",
      "\t2.5             25              50              75             97.5\n",
      "\t |---------------|===============|===============|---------------|\n",
      "\t26.892           26.935          26.956         26.976        27.012\n",
      "\t\n",
      "\n",
      "predictMc1:\n",
      " \n",
      "\tMean             SD               MC Error        95% HPD interval\n",
      "\t------------------------------------------------------------------\n",
      "\t2.848            0.325            0.002              [2.224 3.486]\n",
      "\t17.547           1.552            0.012            [14.498 20.546]\n",
      "\t6.102            0.674            0.004              [4.771 7.388]\n",
      "\t8.837            0.71             0.005            [ 7.49  10.275]\n",
      "\t20.149           2.3              0.015            [15.728 24.662]\n",
      "\t8.789            0.777            0.006            [ 7.262 10.291]\n",
      "\t43.028           5.098            0.035            [33.222 53.075]\n",
      "\t28.993           2.245            0.018            [24.589 33.383]\n",
      "\t11.297           1.339            0.009            [ 8.722 13.936]\n",
      "\t\n",
      "\t\n",
      "\tPosterior quantiles:\n",
      "\t\n",
      "\t2.5             25              50              75             97.5\n",
      "\t |---------------|===============|===============|---------------|\n",
      "\t2.213            2.628           2.848          3.072         3.477\n",
      "\t14.516           16.494          17.546         18.605        20.576\n",
      "\t4.742            5.656           6.116          6.567         7.365\n",
      "\t7.457            8.36            8.831          9.315         10.247\n",
      "\t15.652           18.59           20.144         21.729        24.592\n",
      "\t7.271            8.262           8.788          9.319         10.306\n",
      "\t33.13            39.538          42.965         46.51         53.007\n",
      "\t24.529           27.501          28.995         30.51         33.353\n",
      "\t8.698            10.38           11.281         12.212        13.918\n",
      "\t\n",
      "\n",
      "d0:\n",
      " \n",
      "\tMean             SD               MC Error        95% HPD interval\n",
      "\t------------------------------------------------------------------\n",
      "\t107.747          4.531            0.024                [ 99. 116.]\n",
      "\t\n",
      "\t\n",
      "\tPosterior quantiles:\n",
      "\t\n",
      "\t2.5             25              50              75             97.5\n",
      "\t |---------------|===============|===============|---------------|\n",
      "\t99.0             105.0           108.0          111.0         116.0\n",
      "\t\n"
     ]
    }
   ],
   "source": [
    "model.summary()"
   ]
  },
  {
   "cell_type": "code",
   "execution_count": 63,
   "metadata": {},
   "outputs": [
    {
     "name": "stdout",
     "output_type": "stream",
     "text": [
      " emfit =     26.955\n"
     ]
    }
   ],
   "source": [
    "emfit = allStats['em0']['mean']\n",
    "print(' emfit = %10.3f'%(emfit))"
   ]
  },
  {
   "cell_type": "code",
   "execution_count": 64,
   "metadata": {},
   "outputs": [
    {
     "name": "stdout",
     "output_type": "stream",
     "text": [
      " Density index =   107  density =     4.73e+08\n"
     ]
    }
   ],
   "source": [
    "idx1 = int(allStats['d0']['mean'])\n",
    "print(' Density index = %5i  density = %12.2e'%(idx1,box.EDensity[idx1]))"
   ]
  },
  {
   "cell_type": "markdown",
   "metadata": {},
   "source": [
    "### use the mean values of the emission measure em0 and the mean value of the density idx1 to predict the line intensities"
   ]
  },
  {
   "cell_type": "code",
   "execution_count": 69,
   "metadata": {},
   "outputs": [],
   "source": [
    "box.emSetIndices(idx1)"
   ]
  },
  {
   "cell_type": "code",
   "execution_count": 70,
   "metadata": {},
   "outputs": [],
   "source": [
    "box.emSet(emfit)"
   ]
  },
  {
   "cell_type": "code",
   "execution_count": 71,
   "metadata": {},
   "outputs": [],
   "source": [
    "box.predict()"
   ]
  },
  {
   "cell_type": "code",
   "execution_count": 72,
   "metadata": {},
   "outputs": [
    {
     "name": "stdout",
     "output_type": "stream",
     "text": [
      "   107     4.73e+08     1.78e+06     9.01e+26\n",
      " -------------------------------------------------\n",
      "  iwvl    IonS        wvl        Int       Pred   Int/Pred        chi\n",
      "               wvl lvl1 lvl2                lower -                upper lineIdx predLine contribution\n",
      " -------------------------------------------------\n",
      "     0   fe_13    311.574   6.13e+00   2.79e+00      2.194      5.486\n",
      "         fe_13\n",
      "           311.547    2   12        3s2 3p2 3P1.0 - 3s 3p3 3P2.0            29     0   0.999\n",
      " -------------------------------------------------\n",
      " -------------------------------------------------\n",
      "     1   fe_13    312.171   1.78e+01   1.77e+01      1.008      2.521\n",
      "         fe_13\n",
      "           312.174    2   11        3s2 3p2 3P1.0 - 3s 3p3 3P1.0            24     0   1.000\n",
      " -------------------------------------------------\n",
      " -------------------------------------------------\n",
      "     2   fe_13    312.907   7.34e+00   6.02e+00      1.220      3.051\n",
      "         fe_13\n",
      "           312.868    2   10        3s2 3p2 3P1.0 - 3s 3p3 3P0.0            22     0   1.000\n",
      " -------------------------------------------------\n",
      " -------------------------------------------------\n",
      "     3   fe_13    318.129   6.09e+00   8.72e+00      0.698      1.746\n",
      "         fe_13\n",
      "           318.130    4   13        3s2 3p2 1D2.0 - 3s 3p3 1D2.0            31     0   1.000\n",
      " -------------------------------------------------\n",
      " -------------------------------------------------\n",
      "     4   fe_13    320.802   2.45e+01   1.98e+01      1.240      3.099\n",
      "         fe_13\n",
      "           320.800    3   12        3s2 3p2 3P2.0 - 3s 3p3 3P2.0            30     0   1.000\n",
      " -------------------------------------------------\n",
      " -------------------------------------------------\n",
      "     5   fe_13    321.464   8.64e+00   8.84e+00      0.977      2.443\n",
      "         fe_13\n",
      "           321.466    3   11        3s2 3p2 3P2.0 - 3s 3p3 3P1.0            25     0   1.000\n",
      " -------------------------------------------------\n",
      " -------------------------------------------------\n",
      "     6   fe_13    348.196   5.50e+01   4.36e+01      1.262      3.156\n",
      "         fe_13\n",
      "           348.183    1    7        3s2 3p2 3P0.0 - 3s 3p3 3D1.0            15     0   1.000\n",
      " -------------------------------------------------\n",
      " -------------------------------------------------\n",
      "     7   fe_13    359.658   2.84e+01   2.88e+01      0.986      2.466\n",
      "         fe_13\n",
      "           359.644    2    8        3s2 3p2 3P1.0 - 3s 3p3 3D2.0            18     0   1.000\n",
      " -------------------------------------------------\n",
      " -------------------------------------------------\n",
      "     8   fe_13    359.851   1.18e+01   1.14e+01      1.031      2.579\n",
      "         fe_13\n",
      "           359.839    2    7        3s2 3p2 3P1.0 - 3s 3p3 3D1.0            13     0   1.000\n",
      " -------------------------------------------------\n",
      " -------------------------------------------------\n"
     ]
    }
   ],
   "source": [
    "box.predictPrint(outfile='predictPrintMc.txt', minContribution=0.01)"
   ]
  },
  {
   "cell_type": "code",
   "execution_count": 73,
   "metadata": {},
   "outputs": [
    {
     "name": "stdout",
     "output_type": "stream",
     "text": [
      " index      density  temperature           Em\n",
      "   107     4.73e+08     1.78e+06     9.01e+26\n",
      " -------------------------------------------------\n",
      " chi = abs(int/(2*wght*pred))  strDiff = (int - pred)/pred\n",
      "  iwvl    ionS        wvl  intensity  predicted   int/pred        chi     relDev     stdDev\n",
      "     0   fe_13    311.574   6.13e+00   2.79e+00      2.194      5.486      0.544      0.544\n",
      "     1   fe_13    312.171   1.78e+01   1.77e+01      1.008      2.521      0.008      0.008\n",
      "     2   fe_13    312.907   7.34e+00   6.02e+00      1.220      3.051      0.181      0.181\n",
      "     3   fe_13    318.129   6.09e+00   8.72e+00      0.698      1.746      0.432      0.432\n",
      "     4   fe_13    320.802   2.45e+01   1.98e+01      1.240      3.099      0.193      0.193\n",
      "     5   fe_13    321.464   8.64e+00   8.84e+00      0.977      2.443      0.023      0.023\n",
      "     6   fe_13    348.196   5.50e+01   4.36e+01      1.262      3.156      0.208      0.208\n",
      "     7   fe_13    359.658   2.84e+01   2.88e+01      0.986      2.466      0.014      0.014\n",
      "     8   fe_13    359.851   1.18e+01   1.14e+01      1.031      2.579      0.030      0.030\n",
      " mean of relative Deviation =      0.182 3*relDev =      0.545 stdDev =      0.182\n",
      "\n",
      " mean of intOverPred = abs(int/pred -1.)      0.255\n",
      " 3*std =      0.545\n"
     ]
    }
   ],
   "source": [
    "box.diffPrintMc()"
   ]
  },
  {
   "cell_type": "markdown",
   "metadata": {},
   "source": [
    "### the same information can be obtained from db, so pickling model is not necessary"
   ]
  },
  {
   "cell_type": "code",
   "execution_count": 74,
   "metadata": {},
   "outputs": [
    {
     "data": {
      "text/plain": [
       "(100000, 9)"
      ]
     },
     "execution_count": 74,
     "metadata": {},
     "output_type": "execute_result"
    }
   ],
   "source": [
    "traces = db['predictMc1'][0]\n",
    "traces.shape"
   ]
  },
  {
   "cell_type": "code",
   "execution_count": 84,
   "metadata": {},
   "outputs": [
    {
     "name": "stdout",
     "output_type": "stream",
     "text": [
      "line  0  wvl:   311.574 obsInt:     6.130  mean predicted      2.854  absDev    3.276 relDev    0.534 stdDev  0.286\n",
      "line  1  wvl:   312.171 obsInt:    17.800  mean predicted     17.516  absDev    0.284 relDev    0.016 stdDev  0.000\n",
      "line  2  wvl:   312.907 obsInt:     7.340  mean predicted      6.098  absDev    1.242 relDev    0.169 stdDev  0.029\n",
      "line  3  wvl:   318.129 obsInt:     6.090  mean predicted      8.830  absDev    2.740 relDev    0.450 stdDev  0.202\n",
      "line  4  wvl:   320.802 obsInt:    24.500  mean predicted     20.139  absDev    4.361 relDev    0.178 stdDev  0.032\n",
      "line  5  wvl:   321.464 obsInt:     8.640  mean predicted      8.772  absDev    0.132 relDev    0.015 stdDev  0.000\n",
      "line  6  wvl:   348.196 obsInt:    55.000  mean predicted     42.906  absDev   12.094 relDev    0.220 stdDev  0.048\n",
      "line  7  wvl:   359.658 obsInt:    28.400  mean predicted     28.962  absDev    0.562 relDev    0.020 stdDev  0.000\n",
      "line  8  wvl:   359.851 obsInt:    11.800  mean predicted     11.269  absDev    0.531 relDev    0.045 stdDev  0.002\n",
      " average relative deviation =    0.183   3*std =    0.549 stdDev    0.067\n"
     ]
    }
   ],
   "source": [
    "pformat = 'line %2i  wvl:  %8.3f obsInt:  %8.3f  mean predicted %10.3f  absDev %8.3f relDev %8.3f stdDev %6.3f'\n",
    "wformat = 'line %2i  wvl:  %8.3f obsInt:  %8.3f  mean predicted %10.3f  absDev %8.3f relDev %8.3f stdDev %6.3f \\n'\n",
    "with open('mc_trace.log','w') as outpt:\n",
    "    relDevList = []\n",
    "    stdDevList = []\n",
    "    for iline in range(nobs):\n",
    "        obsI = box.match[iline]['obsIntensity']\n",
    "        wvl = box.match[iline]['obsWvl']\n",
    "        absDev = np.abs(obsI - traces[:,iline].mean())\n",
    "        relDev = absDev/obsI\n",
    "        relDevList.append(relDev)\n",
    "        stdDev = relDev**2\n",
    "        stdDevList.append(stdDev)\n",
    "        print(pformat%(iline, wvl, obsI, traces[:,iline].mean(), absDev, relDev,stdDev))\n",
    "        outpt.write(wformat%(iline, wvl, obsI, traces[:,iline].mean(), absDev, relDev,stdDev))\n",
    "    relDevMean = np.mean(relDevList)\n",
    "    stdDevMean = np.mean(stdDevList)\n",
    "    print(' average relative deviation = %8.3f   3*std = %8.3f stdDev %8.3f'%(relDevMean, 3.*relDevMean, stdDevMean))    \n",
    "    outpt.write(' average relative deviation = %8.3f   3*std = %8.3f stdDev %8.3f \\n'%(relDevMean, 3.*relDevMean, stdDevMean))"
   ]
  }
 ],
 "metadata": {
  "kernelspec": {
   "display_name": "Python 3",
   "language": "python",
   "name": "python3"
  },
  "language_info": {
   "codemirror_mode": {
    "name": "ipython",
    "version": 3
   },
   "file_extension": ".py",
   "mimetype": "text/x-python",
   "name": "python",
   "nbconvert_exporter": "python",
   "pygments_lexer": "ipython3",
   "version": "3.6.5"
  }
 },
 "nbformat": 4,
 "nbformat_minor": 2
}
