{
 "cells": [
  {
   "cell_type": "markdown",
   "metadata": {},
   "source": [
    "# Advanced peakbagging\n",
    "\n",
    "In the **Quickstart** section, I explained how to quickly handle seismic data and perform peakbagging over it. However, when dealing with individual mode parameters, you will sometimes need more flexibility on the fit you want to perform.\n",
    "The goal of this tutorial is to show you how to fit the background in your data and then perform an advanced fit on individual parameters thanks to the *a2z* input format."
   ]
  },
  {
   "cell_type": "code",
   "execution_count": 1,
   "metadata": {},
   "outputs": [],
   "source": [
    "import apollinaire as apn\n",
    "from apollinaire.peakbagging import (peakbagging, \n",
    "                                     perform_mle_background, \n",
    "                                     explore_distribution_background)\n",
    "\n",
    "modDir = path.abspath ('..')\n",
    "filename = path.join (modDir, 'timeseries/kplr006603624_52_COR_filt_inp.fits')\n",
    "hdu = fits.open (filename) [0]\n",
    "data = np.array (hdu.data)\n",
    "t = data[:,0]\n",
    "v = data[:,1]\n",
    "dt = np.median (t[1:] - t[:-1]) * 86400\n",
    "freq, psd = apn.psd.series_to_psd (v, dt=dt, correct_dc=True)\n",
    "freq = freq*1e6\n",
    "psd = psd*1e-6"
   ]
  },
  {
   "cell_type": "markdown",
   "metadata": {},
   "source": [
    "## Dealing with the background\n",
    "\n",
    "The ``perfom_mle_background`` allows you to obtain a first fit of the background in your data through maximum likelihood estimation:"
   ]
  },
  {
   "cell_type": "code",
   "execution_count": null,
   "metadata": {},
   "outputs": [],
   "source": [
    "fitted_back, param_mle = perform_mle_background (freq, psd, n_harvey=2, fit_log=True, low_cut=20)"
   ]
  },
  {
   "cell_type": "markdown",
   "metadata": {},
   "source": [
    "If you need uncertainties over the fitted parameter, you can then refine this analysis with a bayesian approach: "
   ]
  },
  {
   "cell_type": "code",
   "execution_count": null,
   "metadata": {},
   "outputs": [],
   "source": [
    "fitted_back, param_mcmc, sigma = explore_distribution_background (freq, psd, n_harvey=2, guess=param_mle, fit_log=True, low_cut=20, nsteps=10000,\n",
    "                                                         nwalkers=64, coeff_discard=10)"
   ]
  },
  {
   "cell_type": "markdown",
   "metadata": {},
   "source": [
    "This step is by far longer than the previous one. Be particularly careful with what you want when setting ``nsteps`` and ``coeff_discard`` arguments."
   ]
  },
  {
   "cell_type": "markdown",
   "metadata": {},
   "source": [
    "## Individual mode parameters determination\n",
    "\n",
    "With the determination of the background done, we are ready to begin the determination of the individual mode parameters. For this purpose, you need to create a *a2z* file that will be read by the ``peakbagging`` function. The file ``input_golf.a2z`` is given as an example of the most complex pattern you are able to fit. It contains guess for solar p-mode from *n*=8 to 27 and *l*=0 to 3."
   ]
  },
  {
   "cell_type": "code",
   "execution_count": 8,
   "metadata": {},
   "outputs": [
    {
     "name": "stdout",
     "output_type": "stream",
     "text": [
      "     0  1       2     3            4    5    6             7            8    9    10\n",
      "247  20  3    freq  mode  3082.429700  0.0  0.0  3.080430e+03  3084.429700  0.1  0.1\n",
      "248  20  3  height  mode     0.004543  0.0  0.0  1.000000e-08     0.022717  0.0  0.0\n",
      "249  20  3   width  mode     0.886951  0.0  0.0  1.000000e-08     8.000000  0.0  0.0\n",
      "250  20  3    asym  mode    -0.007878  0.0  0.0 -2.000000e-01     0.200000  0.0  0.0\n",
      "251  20  3   split  mode     0.400000  0.0  0.0  1.000000e-01     0.800000  0.0  0.0\n",
      "252  20  2    freq  mode  3024.819500  0.0  0.0  3.022820e+03  3026.819500  0.1  0.1\n",
      "253  20  2  height  mode     0.020445  0.0  0.0  1.000000e-08     0.102226  0.0  0.0\n",
      "254  20  2   width  mode     0.886951  0.0  0.0  1.000000e-08     8.000000  0.0  0.0\n",
      "255  20  2    asym  mode    -0.007878  0.0  0.0 -2.000000e-01     0.200000  0.0  0.0\n",
      "256  20  2   split  mode     0.400000  0.0  0.0  1.000000e-01     0.800000  0.0  0.0\n",
      "257  21  1    freq  mode  3098.239400  0.0  0.0  3.096239e+03  3100.239400  0.1  0.1\n",
      "258  21  1  height  mode     0.040890  0.0  0.0  1.000000e-08     0.204452  0.0  0.0\n",
      "259  21  1   width  mode     0.886951  0.0  0.0  1.000000e-08     8.000000  0.0  0.0\n",
      "260  21  1    asym  mode    -0.007878  0.0  0.0 -2.000000e-01     0.200000  0.0  0.0\n",
      "261  21  1   split  mode     0.400000  0.0  0.0  1.000000e-01     0.800000  0.0  0.0\n",
      "262  21  0    freq  mode  3033.816200  0.0  0.0  3.031816e+03  3035.816200  0.1  0.1\n",
      "263  21  0  height  mode     0.022717  0.0  0.0  1.000000e-08     0.113584  0.0  0.0\n",
      "264  21  0   width  mode     0.886951  0.0  0.0  1.000000e-08     8.000000  0.0  0.0\n",
      "265  21  0    asym  mode    -0.007878  0.0  0.0 -2.000000e-01     0.200000  0.0  0.0\n"
     ]
    }
   ],
   "source": [
    "from apollinaire.peakbagging import read_a2z\n",
    "\n",
    "df = read_a2z ('input_golf.a2z')\n",
    "\n",
    "print (df.iloc[247:266].to_string ()) #show just a part of the df"
   ]
  },
  {
   "cell_type": "markdown",
   "metadata": {},
   "source": [
    "Here, each parameters is individual for a given degree. It is also possible to share a parameter between element of same order *n* and distinct degrees *l* (note that when I say *same order* I designate pairs (n,0)/(n-1,2) and (n,1)/(n-1,3)). \n",
    "\n",
    "Here is an example of *a2z* input for the star we are concerned with in this tutorial:"
   ]
  },
  {
   "cell_type": "code",
   "execution_count": 9,
   "metadata": {},
   "outputs": [
    {
     "name": "stdout",
     "output_type": "stream",
     "text": [
      "     0  1       2       3            4    5    6            7            8\n",
      "0   19  1    freq    mode  2198.735167  0.0  0.0  2191.577557  2205.892778\n",
      "1   18  2    freq    mode  2251.859534  0.0  0.0  2244.701923  2259.017145\n",
      "2   19  0    freq    mode  2256.762699  0.0  0.0  2249.605088  2263.920310\n",
      "3   19  a  height   order     7.592848  0.0  0.0     3.796424    30.371392\n",
      "4   19  a   width   order     0.949858  0.0  0.0     0.474929     1.899717\n",
      "5   20  1    freq    mode  2308.901246  0.0  0.0  2301.743635  2316.058857\n",
      "6   19  2    freq    mode  2362.025612  0.0  0.0  2354.868002  2369.183223\n",
      "7   20  0    freq    mode  2366.928778  0.0  0.0  2359.771167  2374.086388\n",
      "8   20  a  height   order     8.582715  0.0  0.0     4.291358    34.330861\n",
      "9   20  a   width   order     0.949858  0.0  0.0     0.474929     1.899717\n",
      "10  21  1    freq    mode  2419.239760  0.0  0.0  2412.082149  2426.397370\n",
      "11  20  2    freq    mode  2472.364126  0.0  0.0  2465.206516  2479.521737\n",
      "12  21  0    freq    mode  2477.267291  0.0  0.0  2470.109681  2484.424902\n",
      "13  21  a  height   order     8.082355  0.0  0.0     4.041177    32.329420\n",
      "14  21  a   width   order     0.949858  0.0  0.0     0.474929     1.899717\n",
      "15  22  1    freq    mode  2529.750709  0.0  0.0  2522.593098  2536.908319\n",
      "16  21  2    freq    mode  2582.875075  0.0  0.0  2575.717465  2590.032686\n",
      "17  22  0    freq    mode  2587.778241  0.0  0.0  2580.620630  2594.935851\n",
      "18  22  a  height   order     6.335368  0.0  0.0     3.167684    25.341473\n",
      "19  22  a   width   order     0.949858  0.0  0.0     0.474929     1.899717\n",
      "20  23  1    freq    mode  2640.434093  0.0  0.0  2633.276482  2647.591704\n",
      "21  22  2    freq    mode  2693.558460  0.0  0.0  2686.400849  2700.716070\n",
      "22  23  0    freq    mode  2698.461625  0.0  0.0  2691.304014  2705.619236\n",
      "23  23  a  height   order     4.130032  0.0  0.0     2.065016    16.520129\n",
      "24  23  a   width   order     0.949858  0.0  0.0     0.474929     1.899717\n",
      "25   a  a   split  global     0.000000  0.0  0.0     0.000000     1.000000\n",
      "26   a  a   angle  global     0.000000  0.0  0.0     0.000000    90.000000\n",
      "27   a  1   amp_l  global     1.500000  0.0  0.0     0.000000     0.000000\n",
      "28   a  2   amp_l  global     0.700000  0.0  0.0     0.000000     0.000000\n",
      "29   a  0   amp_l  global     1.000000  0.0  0.0     0.000000     0.000000\n"
     ]
    }
   ],
   "source": [
    "from apollinaire.peakbagging import read_a2z\n",
    "\n",
    "df = read_a2z ('input_saxo.a2z')\n",
    "\n",
    "print (df.to_string ()) "
   ]
  },
  {
   "cell_type": "code",
   "execution_count": 2,
   "metadata": {},
   "outputs": [
    {
     "name": "stdout",
     "output_type": "stream",
     "text": [
      "Orders to fit\n",
      "[19 20 21 22 23]\n",
      "Fitting on order 19\n"
     ]
    },
    {
     "ename": "TypeError",
     "evalue": "unsupported operand type(s) for /: 'float' and 'NoneType'",
     "output_type": "error",
     "traceback": [
      "\u001b[0;31m---------------------------------------------------------------------------\u001b[0m",
      "\u001b[0;31mTypeError\u001b[0m                                 Traceback (most recent call last)",
      "\u001b[0;32m<ipython-input-2-422be8c810d2>\u001b[0m in \u001b[0;36m<module>\u001b[0;34m\u001b[0m\n\u001b[1;32m     12\u001b[0m \u001b[0mpsd\u001b[0m \u001b[0;34m=\u001b[0m \u001b[0mpsd\u001b[0m\u001b[0;34m*\u001b[0m\u001b[0;36m1e-6\u001b[0m\u001b[0;34m\u001b[0m\u001b[0;34m\u001b[0m\u001b[0m\n\u001b[1;32m     13\u001b[0m \u001b[0;34m\u001b[0m\u001b[0m\n\u001b[0;32m---> 14\u001b[0;31m \u001b[0mdf_a2z_fitted\u001b[0m \u001b[0;34m=\u001b[0m \u001b[0mpeakbagging\u001b[0m \u001b[0;34m(\u001b[0m\u001b[0ma2z_file\u001b[0m\u001b[0;34m,\u001b[0m \u001b[0mfreq\u001b[0m\u001b[0;34m,\u001b[0m \u001b[0mpsd\u001b[0m\u001b[0;34m,\u001b[0m \u001b[0mspectro\u001b[0m\u001b[0;34m=\u001b[0m\u001b[0;32mFalse\u001b[0m\u001b[0;34m,\u001b[0m \u001b[0mnsteps_mcmc\u001b[0m\u001b[0;34m=\u001b[0m\u001b[0;36m1000\u001b[0m\u001b[0;34m,\u001b[0m \u001b[0mprogress\u001b[0m\u001b[0;34m=\u001b[0m\u001b[0;32mTrue\u001b[0m\u001b[0;34m,\u001b[0m \u001b[0mstrategy\u001b[0m\u001b[0;34m=\u001b[0m\u001b[0;34m'order'\u001b[0m\u001b[0;34m,\u001b[0m \u001b[0mcoeff_discard\u001b[0m\u001b[0;34m=\u001b[0m\u001b[0;36m10\u001b[0m\u001b[0;34m,\u001b[0m \u001b[0mmcmcDir\u001b[0m\u001b[0;34m=\u001b[0m\u001b[0;34m'test'\u001b[0m\u001b[0;34m)\u001b[0m\u001b[0;34m\u001b[0m\u001b[0;34m\u001b[0m\u001b[0m\n\u001b[0m",
      "\u001b[0;32m~/Workspace/apollinaire/apollinaire/peakbagging/peakbagging.py\u001b[0m in \u001b[0;36mpeakbagging\u001b[0;34m(a2z_file, freq, psd, back, wdw, spectro, compute_hessian, fit_splittings, nsteps_mcmc, show_corner, store_chains, mcmcDir, order_to_fit, parallelise, progress, strategy, fit_02, fit_13, nwalkers, normalise, instr, show, filename_summary, show_prior, coeff_discard)\u001b[0m\n\u001b[1;32m    152\u001b[0m                                  \u001b[0mshow_corner\u001b[0m\u001b[0;34m=\u001b[0m\u001b[0mshow_corner\u001b[0m\u001b[0;34m,\u001b[0m \u001b[0mfilename\u001b[0m\u001b[0;34m=\u001b[0m\u001b[0mfilename\u001b[0m\u001b[0;34m,\u001b[0m \u001b[0mparallelise\u001b[0m\u001b[0;34m=\u001b[0m\u001b[0mparallelise\u001b[0m\u001b[0;34m,\u001b[0m\u001b[0;34m\u001b[0m\u001b[0;34m\u001b[0m\u001b[0m\n\u001b[1;32m    153\u001b[0m                                  \u001b[0mprogress\u001b[0m\u001b[0;34m=\u001b[0m\u001b[0mprogress\u001b[0m\u001b[0;34m,\u001b[0m \u001b[0mnwalkers\u001b[0m\u001b[0;34m=\u001b[0m\u001b[0mnwalkers\u001b[0m\u001b[0;34m,\u001b[0m \u001b[0mnormalise\u001b[0m\u001b[0;34m=\u001b[0m\u001b[0mnormalise\u001b[0m\u001b[0;34m,\u001b[0m \u001b[0minstr\u001b[0m\u001b[0;34m=\u001b[0m\u001b[0minstr\u001b[0m\u001b[0;34m,\u001b[0m\u001b[0;34m\u001b[0m\u001b[0;34m\u001b[0m\u001b[0m\n\u001b[0;32m--> 154\u001b[0;31m                                  coeff_discard=coeff_discard)\n\u001b[0m\u001b[1;32m    155\u001b[0m \u001b[0;34m\u001b[0m\u001b[0m\n\u001b[1;32m    156\u001b[0m       \u001b[0;31m# Update df_a2z with the parameters extracted from the sampled posterior probability\u001b[0m\u001b[0;34m\u001b[0m\u001b[0;34m\u001b[0m\u001b[0;34m\u001b[0m\u001b[0m\n",
      "\u001b[0;32m~/Workspace/apollinaire/apollinaire/peakbagging/bayesian.py\u001b[0m in \u001b[0;36mwrap_explore_distribution\u001b[0;34m(df_a2z, freq, psd, back, low_bound_freq, up_bound_freq, wdw, nsteps, show_corner, filename, parallelise, progress, nwalkers, normalise, instr, coeff_discard)\u001b[0m\n\u001b[1;32m    335\u001b[0m                             \u001b[0mup_bound_freq\u001b[0m\u001b[0;34m=\u001b[0m\u001b[0mup_bound_freq\u001b[0m\u001b[0;34m,\u001b[0m \u001b[0mparam_wdw\u001b[0m\u001b[0;34m=\u001b[0m\u001b[0mparam_wdw\u001b[0m\u001b[0;34m,\u001b[0m \u001b[0mnsteps\u001b[0m\u001b[0;34m=\u001b[0m\u001b[0mnsteps\u001b[0m\u001b[0;34m,\u001b[0m\u001b[0;34m\u001b[0m\u001b[0;34m\u001b[0m\u001b[0m\n\u001b[1;32m    336\u001b[0m                             \u001b[0mparallelise\u001b[0m\u001b[0;34m=\u001b[0m\u001b[0mparallelise\u001b[0m\u001b[0;34m,\u001b[0m \u001b[0mprogress\u001b[0m\u001b[0;34m=\u001b[0m\u001b[0mprogress\u001b[0m\u001b[0;34m,\u001b[0m \u001b[0mnwalkers\u001b[0m\u001b[0;34m=\u001b[0m\u001b[0mnwalkers\u001b[0m\u001b[0;34m,\u001b[0m \u001b[0mnormalise\u001b[0m\u001b[0;34m=\u001b[0m\u001b[0mnormalise\u001b[0m\u001b[0;34m,\u001b[0m\u001b[0;34m\u001b[0m\u001b[0;34m\u001b[0m\u001b[0m\n\u001b[0;32m--> 337\u001b[0;31m                             degrees=degrees, instr=instr)\n\u001b[0m\u001b[1;32m    338\u001b[0m \u001b[0;34m\u001b[0m\u001b[0m\n\u001b[1;32m    339\u001b[0m   \u001b[0;31m# Now exploiting results from the sampler\u001b[0m\u001b[0;34m\u001b[0m\u001b[0;34m\u001b[0m\u001b[0;34m\u001b[0m\u001b[0m\n",
      "\u001b[0;32m~/Workspace/apollinaire/apollinaire/peakbagging/bayesian.py\u001b[0m in \u001b[0;36mexplore_distribution\u001b[0;34m(result, param_type, freq, psd, back, df_a2z, bounds, low_bound_freq, up_bound_freq, param_wdw, nsteps, filename, parallelise, progress, nwalkers, normalise, degrees, instr)\u001b[0m\n\u001b[1;32m    183\u001b[0m   '''\n\u001b[1;32m    184\u001b[0m \u001b[0;34m\u001b[0m\u001b[0m\n\u001b[0;32m--> 185\u001b[0;31m   \u001b[0mpsd_to_fit\u001b[0m \u001b[0;34m=\u001b[0m \u001b[0mpsd\u001b[0m \u001b[0;34m/\u001b[0m \u001b[0mback\u001b[0m\u001b[0;34m\u001b[0m\u001b[0;34m\u001b[0m\u001b[0m\n\u001b[0m\u001b[1;32m    186\u001b[0m \u001b[0;34m\u001b[0m\u001b[0m\n\u001b[1;32m    187\u001b[0m   \u001b[0maux_freq\u001b[0m \u001b[0;34m=\u001b[0m \u001b[0mfreq\u001b[0m\u001b[0;34m[\u001b[0m\u001b[0;34m(\u001b[0m\u001b[0mfreq\u001b[0m\u001b[0;34m>\u001b[0m\u001b[0mlow_bound_freq\u001b[0m\u001b[0;34m)\u001b[0m\u001b[0;34m&\u001b[0m\u001b[0;34m(\u001b[0m\u001b[0mfreq\u001b[0m\u001b[0;34m<\u001b[0m\u001b[0mup_bound_freq\u001b[0m\u001b[0;34m)\u001b[0m\u001b[0;34m]\u001b[0m\u001b[0;34m\u001b[0m\u001b[0;34m\u001b[0m\u001b[0m\n",
      "\u001b[0;31mTypeError\u001b[0m: unsupported operand type(s) for /: 'float' and 'NoneType'"
     ]
    }
   ],
   "source": [
    "a2z_file = 'input_saxo.a2z'\n",
    "from os import path\n",
    "\n",
    "df_a2z_fitted = peakbagging (a2z_file, freq, psd, back=fitted_back, spectro=False, nsteps_mcmc=1000, \n",
    "                             progress=True, strategy='order', coeff_discard=10, mcmcDir='test')"
   ]
  },
  {
   "cell_type": "code",
   "execution_count": null,
   "metadata": {},
   "outputs": [],
   "source": []
  }
 ],
 "metadata": {
  "kernelspec": {
   "display_name": "Python 3",
   "language": "python",
   "name": "python3"
  },
  "language_info": {
   "codemirror_mode": {
    "name": "ipython",
    "version": 3
   },
   "file_extension": ".py",
   "mimetype": "text/x-python",
   "name": "python",
   "nbconvert_exporter": "python",
   "pygments_lexer": "ipython3",
   "version": "3.7.6"
  }
 },
 "nbformat": 4,
 "nbformat_minor": 4
}
