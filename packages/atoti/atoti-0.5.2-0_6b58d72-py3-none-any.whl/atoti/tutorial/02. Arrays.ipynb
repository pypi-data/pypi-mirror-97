{
 "cells": [
  {
   "cell_type": "markdown",
   "metadata": {},
   "source": [
    "# Array measures\n",
    "\n",
    "atoti is designed to handle array data efficiently.\n",
    "\n",
    "## Loading arrays from CSV\n",
    "\n",
    "atoti can load array from CSV files.\n",
    "The separator for array elements must be provided to the `read_csv` method, and the CSV columns must use another separator.\n",
    "All the arrays in a column must have the same length."
   ]
  },
  {
   "cell_type": "code",
   "execution_count": null,
   "metadata": {},
   "outputs": [],
   "source": [
    "import atoti as tt\n",
    "\n",
    "session = tt.create_session()"
   ]
  },
  {
   "cell_type": "code",
   "execution_count": null,
   "metadata": {},
   "outputs": [],
   "source": [
    "store = session.read_csv(\n",
    "    \"data/arrays.csv\", keys=[\"Trade ID\"], store_name=\"Store with arrays\", array_sep=\";\"\n",
    ")\n",
    "store.head()"
   ]
  },
  {
   "cell_type": "code",
   "execution_count": null,
   "metadata": {},
   "outputs": [],
   "source": [
    "cube = session.create_cube(store, \"Cube\")"
   ]
  },
  {
   "cell_type": "markdown",
   "metadata": {},
   "source": [
    "## Arrays default aggregations\n",
    "\n",
    "As for scalar measures, atoti provides the default `SUM` and `MEAN` aggregations on array measures.\n",
    "They are applied element by element on the array."
   ]
  },
  {
   "cell_type": "code",
   "execution_count": null,
   "metadata": {},
   "outputs": [],
   "source": [
    "lvl = cube.levels\n",
    "m = cube.measures"
   ]
  },
  {
   "cell_type": "code",
   "execution_count": null,
   "metadata": {},
   "outputs": [],
   "source": [
    "cube.query(m[\"PnL array.SUM\"], m[\"PnL array.MEAN\"], levels=lvl[\"Continent\"])"
   ]
  },
  {
   "cell_type": "markdown",
   "metadata": {},
   "source": [
    "## Additional array functions\n",
    "\n",
    "### Arithmetic operations"
   ]
  },
  {
   "cell_type": "code",
   "execution_count": null,
   "metadata": {},
   "outputs": [],
   "source": [
    "m[\"PnL +10 array\"] = m[\"PnL array.SUM\"] + 10.0\n",
    "m[\"PnL -10 array\"] = m[\"PnL array.SUM\"] - 10.0\n",
    "m[\"PnL x10 array\"] = m[\"PnL array.SUM\"] * 10.0\n",
    "m[\"PnL /10 array\"] = m[\"PnL array.SUM\"] / 10.0\n",
    "cube.query(\n",
    "    m[\"PnL +10 array\"], m[\"PnL -10 array\"], m[\"PnL x10 array\"], m[\"PnL /10 array\"]\n",
    ")"
   ]
  },
  {
   "cell_type": "markdown",
   "metadata": {},
   "source": [
    "### Sum, mean, min or max of all the array elements"
   ]
  },
  {
   "cell_type": "code",
   "execution_count": null,
   "metadata": {},
   "outputs": [],
   "source": [
    "m[\"PnL sum\"] = tt.array.sum(m[\"PnL array.SUM\"])\n",
    "m[\"PnL mean\"] = tt.array.mean(m[\"PnL array.SUM\"])\n",
    "m[\"min PnL\"] = tt.array.min(m[\"PnL array.SUM\"])\n",
    "m[\"max PnL\"] = tt.array.max(m[\"PnL array.SUM\"])\n",
    "cube.query(\n",
    "    m[\"PnL sum\"], m[\"PnL mean\"], m[\"min PnL\"], m[\"max PnL\"], levels=lvl[\"Continent\"]\n",
    ")"
   ]
  },
  {
   "cell_type": "markdown",
   "metadata": {},
   "source": [
    "### Length"
   ]
  },
  {
   "cell_type": "code",
   "execution_count": null,
   "metadata": {},
   "outputs": [],
   "source": [
    "m[\"PnL array length\"] = tt.array.len(m[\"PnL array.SUM\"])\n",
    "cube.query(m[\"PnL array length\"])"
   ]
  },
  {
   "cell_type": "markdown",
   "metadata": {},
   "source": [
    "### Variance and Standard Deviation"
   ]
  },
  {
   "cell_type": "code",
   "execution_count": null,
   "metadata": {},
   "outputs": [],
   "source": [
    "m[\"PnL array variance\"] = tt.array.var(m[\"PnL array.SUM\"])\n",
    "m[\"PnL array standard deviation\"] = tt.array.std(m[\"PnL array.SUM\"])\n",
    "cube.query(\n",
    "    m[\"PnL array variance\"], m[\"PnL array standard deviation\"], levels=lvl[\"Continent\"]\n",
    ")"
   ]
  },
  {
   "cell_type": "markdown",
   "metadata": {},
   "source": [
    "### Sort"
   ]
  },
  {
   "cell_type": "code",
   "execution_count": null,
   "metadata": {},
   "outputs": [],
   "source": [
    "m[\"Sorted PnL array\"] = tt.array.sort(m[\"PnL array.SUM\"])\n",
    "cube.query(m[\"Sorted PnL array\"], levels=lvl[\"Continent\"])"
   ]
  },
  {
   "cell_type": "markdown",
   "metadata": {},
   "source": [
    "### Quantile"
   ]
  },
  {
   "cell_type": "code",
   "execution_count": null,
   "metadata": {},
   "outputs": [],
   "source": [
    "m[\"95 quantile\"] = tt.array.quantile(m[\"PnL array.SUM\"], 0.95, mode=\"simple\")\n",
    "m[\"95 exc quantile\"] = tt.array.quantile(m[\"PnL array.SUM\"], 0.95, mode=\"exc\")\n",
    "m[\"95 inc quantile\"] = tt.array.quantile(m[\"PnL array.SUM\"], 0.95, mode=\"inc\")\n",
    "m[\"95 centered quantile\"] = tt.array.quantile(m[\"PnL array.SUM\"], 0.95, mode=\"centered\")\n",
    "cube.query(\n",
    "    m[\"95 quantile\"],\n",
    "    m[\"95 exc quantile\"],\n",
    "    m[\"95 inc quantile\"],\n",
    "    m[\"95 centered quantile\"],\n",
    "    levels=[lvl[\"Continent\"], lvl[\"Country\"]],\n",
    ")"
   ]
  },
  {
   "cell_type": "code",
   "execution_count": null,
   "metadata": {},
   "outputs": [],
   "source": [
    "m[\"95 linear quantile\"] = tt.array.quantile(\n",
    "    m[\"PnL array.SUM\"], 0.95, mode=\"inc\", interpolation=\"linear\"\n",
    ")\n",
    "m[\"95 lower quantile\"] = tt.array.quantile(\n",
    "    m[\"PnL array.SUM\"], 0.95, mode=\"inc\", interpolation=\"lower\"\n",
    ")\n",
    "m[\"95 higher quantile\"] = tt.array.quantile(\n",
    "    m[\"PnL array.SUM\"], 0.95, mode=\"inc\", interpolation=\"higher\"\n",
    ")\n",
    "m[\"95 nearest quantile\"] = tt.array.quantile(\n",
    "    m[\"PnL array.SUM\"], 0.95, mode=\"inc\", interpolation=\"nearest\"\n",
    ")\n",
    "m[\"95 midpoint quantile\"] = tt.array.quantile(\n",
    "    m[\"PnL array.SUM\"], 0.95, mode=\"inc\", interpolation=\"midpoint\"\n",
    ")\n",
    "cube.query(\n",
    "    m[\"95 linear quantile\"],\n",
    "    m[\"95 lower quantile\"],\n",
    "    m[\"95 higher quantile\"],\n",
    "    m[\"95 nearest quantile\"],\n",
    "    m[\"95 midpoint quantile\"],\n",
    ")"
   ]
  },
  {
   "cell_type": "markdown",
   "metadata": {},
   "source": [
    "### n greatest / n lowest\n",
    "\n",
    "Returns an array with the n greatest/lowest values of a another array."
   ]
  },
  {
   "cell_type": "code",
   "execution_count": null,
   "metadata": {},
   "outputs": [],
   "source": [
    "m[\"Top 3 PnL array\"] = tt.array.n_greatest(m[\"PnL array.SUM\"], 3)\n",
    "m[\"Bottom 2 PnL array\"] = tt.array.n_lowest(m[\"PnL array.SUM\"], 2)\n",
    "cube.query(m[\"Top 3 PnL array\"], m[\"Bottom 2 PnL array\"])"
   ]
  },
  {
   "cell_type": "markdown",
   "metadata": {},
   "source": [
    "### nth greatest value / nth lowest value\n",
    "\n",
    "Returns nth greatest or lowest value of a vector"
   ]
  },
  {
   "cell_type": "code",
   "execution_count": null,
   "metadata": {},
   "outputs": [],
   "source": [
    "m[\"3rd greatest PnL\"] = tt.array.nth_greatest(m[\"PnL array.SUM\"], 3)\n",
    "m[\"2nd lowest PnL\"] = tt.array.nth_lowest(m[\"PnL array.SUM\"], 2)\n",
    "cube.query(m[\"3rd greatest PnL\"], m[\"2nd lowest PnL\"])"
   ]
  },
  {
   "cell_type": "markdown",
   "metadata": {},
   "source": [
    "### Element at index\n",
    "\n",
    "Extract the element at a given index:"
   ]
  },
  {
   "cell_type": "code",
   "execution_count": null,
   "metadata": {},
   "outputs": [],
   "source": [
    "m[\"First element\"] = m[\"PnL array.SUM\"][0]\n",
    "cube.query(m[\"First element\"], m[\"PnL array.SUM\"])"
   ]
  },
  {
   "cell_type": "markdown",
   "metadata": {},
   "source": [
    "With the `create_static_parameter_hierarchy` function, it is possible to create a hierarchy corresponding to the indices of the array.\n",
    "This hierarchy can then be used to \"slice\" this array and create a measure which depends on the selected index."
   ]
  },
  {
   "cell_type": "code",
   "execution_count": null,
   "metadata": {},
   "outputs": [],
   "source": [
    "cube.create_static_parameter_hierarchy(\"Index\", list(range(0, 10)))\n",
    "m[\"PnL at index\"] = m[\"PnL array.SUM\"][lvl[\"Index\"]]\n",
    "cube.query(m[\"PnL at index\"], levels=lvl[\"Index\"])"
   ]
  },
  {
   "cell_type": "markdown",
   "metadata": {},
   "source": [
    "You can also build non-integer hierarchies and map each member to its index in the hierarchy using the `index_measure` argument:"
   ]
  },
  {
   "cell_type": "code",
   "execution_count": null,
   "metadata": {},
   "outputs": [],
   "source": [
    "from datetime import date, timedelta\n",
    "\n",
    "cube.create_static_parameter_hierarchy(\n",
    "    \"Dates\",\n",
    "    [date(2020, 1, 1) + timedelta(days=x) for x in range(0, 10)],\n",
    "    index_measure=\"Date index\",\n",
    ")\n",
    "m[\"PnL at date\"] = m[\"PnL array.SUM\"][m[\"Date index\"]]\n",
    "cube.query(m[\"Date index\"], m[\"PnL at date\"], levels=lvl[\"Dates\"])"
   ]
  },
  {
   "cell_type": "markdown",
   "metadata": {},
   "source": [
    "In cases the indices need to be of arbitrary order or range, it is also possible to manually provide them as a list."
   ]
  },
  {
   "cell_type": "code",
   "execution_count": null,
   "metadata": {},
   "outputs": [],
   "source": [
    "cube.create_static_parameter_hierarchy(\n",
    "    \"Custom dates\",\n",
    "    [date(2020, 1, 1) + timedelta(days=x) for x in range(0, 10)],\n",
    "    indices=[9, 8, 7, 6, 5, 0, 1, 2, 3, 4],\n",
    "    index_measure=\"Custom date index\",\n",
    ")\n",
    "m[\"PnL at custom date\"] = m[\"PnL array.SUM\"][m[\"Custom date index\"]]\n",
    "cube.query(m[\"Custom date index\"], m[\"PnL at custom date\"], levels=lvl[\"Custom dates\"])"
   ]
  },
  {
   "cell_type": "markdown",
   "metadata": {},
   "source": [
    "### Array slices\n",
    "\n",
    "Extract a slice of the array:"
   ]
  },
  {
   "cell_type": "code",
   "execution_count": null,
   "metadata": {},
   "outputs": [],
   "source": [
    "m[\"First 2 elements\"] = m[\"PnL array.SUM\"][0:2]\n",
    "cube.query(m[\"First 2 elements\"], m[\"PnL array.SUM\"])"
   ]
  },
  {
   "cell_type": "markdown",
   "metadata": {},
   "source": [
    "## Load DataFrame with lists\n",
    "\n",
    "atoti can load a pandas DataFrame containing NumPy arrays and Python lists"
   ]
  },
  {
   "cell_type": "code",
   "execution_count": null,
   "metadata": {},
   "outputs": [],
   "source": [
    "import pandas as pd\n",
    "import numpy as np\n",
    "\n",
    "df = pd.DataFrame(\n",
    "    {\n",
    "        \"Index\": [0, 1, 2],\n",
    "        \"NumPy array\": [\n",
    "            np.array([3.2, 1.0, 8, 9, 4.5, 7, 6, 18]),\n",
    "            np.array([4.2, 4.0, 4, 9, 4.5, 8, 7, 8]),\n",
    "            np.array([12, 1.0, 8, 9, 4.5, 7, 6, 18]),\n",
    "        ],\n",
    "        \"Python list\": [\n",
    "            [3.2, 1.0, 8, 9, 4.5, 7, 6, 18],\n",
    "            [4.2, 4.0, 4, 9, 4.5, 8, 7, 8],\n",
    "            [12, 1.0, 8, 9, 4.5, 7, 6, 18],\n",
    "        ],\n",
    "    }\n",
    ")\n",
    "df"
   ]
  },
  {
   "cell_type": "code",
   "execution_count": null,
   "metadata": {},
   "outputs": [],
   "source": [
    "pd_store = session.read_pandas(df, \"pandas\")\n",
    "pd_store"
   ]
  },
  {
   "cell_type": "code",
   "execution_count": null,
   "metadata": {},
   "outputs": [],
   "source": [
    "pd_store.head()"
   ]
  }
 ],
 "metadata": {
  "kernelspec": {
   "display_name": "Python 3",
   "language": "python",
   "name": "python3"
  },
  "language_info": {
   "codemirror_mode": {
    "name": "ipython",
    "version": 3
   },
   "file_extension": ".py",
   "mimetype": "text/x-python",
   "name": "python",
   "nbconvert_exporter": "python",
   "pygments_lexer": "ipython3",
   "version": "3.8.3"
  }
 },
 "nbformat": 4,
 "nbformat_minor": 4
}
