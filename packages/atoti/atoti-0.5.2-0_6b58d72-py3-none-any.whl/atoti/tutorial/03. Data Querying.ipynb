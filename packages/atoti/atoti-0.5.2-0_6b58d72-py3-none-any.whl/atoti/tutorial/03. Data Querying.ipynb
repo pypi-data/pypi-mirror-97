{
 "cells": [
  {
   "cell_type": "markdown",
   "metadata": {},
   "source": [
    "# Data Querying\n",
    "\n",
    "You can execute queries and get back the result as a pandas DataFrame.\n",
    "\n",
    "There are two ways to query data:\n",
    "\n",
    "- with `cube.query` by passing a list of measure and level objects\n",
    "- with `session.query_mdx` by passing an MDX string"
   ]
  },
  {
   "cell_type": "markdown",
   "metadata": {},
   "source": [
    "## Querying current session"
   ]
  },
  {
   "cell_type": "code",
   "execution_count": null,
   "metadata": {},
   "outputs": [],
   "source": [
    "import atoti as tt\n",
    "\n",
    "session = tt.create_session()\n",
    "store = session.read_csv(\"data/sales.csv\", keys=[\"Sale ID\"])\n",
    "cube = session.create_cube(store, \"Sales\")"
   ]
  },
  {
   "cell_type": "markdown",
   "metadata": {},
   "source": [
    "### Querying a cube"
   ]
  },
  {
   "cell_type": "code",
   "execution_count": null,
   "metadata": {},
   "outputs": [],
   "source": [
    "m = cube.measures\n",
    "lvl = cube.levels\n",
    "cube.query(m[\"Amount.SUM\"], m[\"Quantity.SUM\"], levels=[lvl[\"Product\"]])"
   ]
  },
  {
   "cell_type": "markdown",
   "metadata": {},
   "source": [
    "### Condition in queries\n",
    "\n",
    "A condition can be added to filter the query:"
   ]
  },
  {
   "cell_type": "code",
   "execution_count": null,
   "metadata": {},
   "outputs": [],
   "source": [
    "cube.query(\n",
    "    m[\"Amount.SUM\"],\n",
    "    m[\"Quantity.SUM\"],\n",
    "    levels=[lvl[\"Product\"]],\n",
    "    condition=(lvl[\"Shop\"] == \"shop_0\"),\n",
    ")"
   ]
  },
  {
   "cell_type": "markdown",
   "metadata": {},
   "source": [
    "Use `level.isin` or `hierarchy.isin` to filter on several values:"
   ]
  },
  {
   "cell_type": "code",
   "execution_count": null,
   "metadata": {},
   "outputs": [],
   "source": [
    "cube.query(\n",
    "    m[\"Amount.SUM\"],\n",
    "    m[\"Quantity.SUM\"],\n",
    "    levels=[lvl[\"Product\"]],\n",
    "    condition=lvl[\"Product\"].isin(\"TSH_7\", \"TSH_8\", \"TSH_9\"),\n",
    ")"
   ]
  },
  {
   "cell_type": "markdown",
   "metadata": {},
   "source": [
    "Conditions on different hierarchies can be combined with the `&` operator:"
   ]
  },
  {
   "cell_type": "code",
   "execution_count": null,
   "metadata": {},
   "outputs": [],
   "source": [
    "cube.query(\n",
    "    m[\"Amount.SUM\"],\n",
    "    m[\"Quantity.SUM\"],\n",
    "    levels=[lvl[\"Shop\"], lvl[\"Product\"]],\n",
    "    condition=(\n",
    "        lvl[\"Product\"].isin(\"TSH_7\", \"TSH_8\", \"TSH_9\")\n",
    "        & lvl[\"Shop\"].isin(\"shop_0\", \"shop_1\", \"shop_2\")\n",
    "    ),\n",
    ")"
   ]
  },
  {
   "cell_type": "markdown",
   "metadata": {},
   "source": [
    "### MDX Query\n",
    "\n",
    "Any MDX query can be used to retrieve data as a pandas DataFrame:"
   ]
  },
  {
   "cell_type": "code",
   "execution_count": null,
   "metadata": {},
   "outputs": [],
   "source": [
    "mdx_query = \"\"\"\n",
    "SELECT\n",
    "  NON EMPTY [Measures].[Amount.SUM] ON COLUMNS,\n",
    "  NON EMPTY [Sales].[Product].[Product].Members ON ROWS\n",
    "  FROM (\n",
    "    SELECT\n",
    "    {\n",
    "      [Sales].[Date].[ALL].[AllMember].[2020-05-14],\n",
    "      [Sales].[Date].[ALL].[AllMember].[2020-05-15],\n",
    "      [Sales].[Date].[ALL].[AllMember].[2020-05-16]\n",
    "    } ON COLUMNS\n",
    "    FROM [Sales]\n",
    "  )\n",
    "\"\"\""
   ]
  },
  {
   "cell_type": "code",
   "execution_count": null,
   "metadata": {},
   "outputs": [],
   "source": [
    "session.query_mdx(mdx_query)"
   ]
  },
  {
   "cell_type": "markdown",
   "metadata": {},
   "source": [
    "## Querying remote cube\n",
    "\n",
    "It is possible to connect to an existing cube and query it.\n",
    "This cube can come from another atoti process or even a classic ActivePivot (version >=5.7).\n",
    "\n",
    "To do that, open a query session, passing the `auth` parameter to indicate how to authenticate against this server.\n",
    "A query session is immutable: its structure cannot be changed like regular local atoti sessions.\n",
    "\n",
    "For this example, we will connect to the session created before with atoti:"
   ]
  },
  {
   "cell_type": "code",
   "execution_count": null,
   "metadata": {},
   "outputs": [],
   "source": [
    "existing_session = tt.open_query_session(\n",
    "    session.url,  # Here you would put the base URL of the existing session.\n",
    "    # if we needed authentication we could pass it like that\n",
    "    # auth=tt.query.create_basic_authentication(\"admin\", \"admin\"),\n",
    ")\n",
    "existing_session"
   ]
  },
  {
   "cell_type": "markdown",
   "metadata": {},
   "source": [
    "### Authentication\n",
    "\n",
    "atoti provides helpers for 2 authentication schemes:\n",
    "\n",
    "#### Basic authentication with username and password"
   ]
  },
  {
   "cell_type": "code",
   "execution_count": null,
   "metadata": {},
   "outputs": [],
   "source": [
    "auth = tt.query.create_basic_authentication(\"admin\", \"admin\")"
   ]
  },
  {
   "cell_type": "markdown",
   "metadata": {},
   "source": [
    "#### Token based authentication (for instance JWT)"
   ]
  },
  {
   "cell_type": "code",
   "execution_count": null,
   "metadata": {},
   "outputs": [],
   "source": [
    "auth = tt.query.create_token_authentication(\"some_jwt\")"
   ]
  },
  {
   "cell_type": "markdown",
   "metadata": {},
   "source": [
    "But custom authentication can also be used: `open_query_session`'s `auth` parameter accepts a function taking the server URL and returning a dictionary of HTTP headers to include in the request.\n",
    "\n",
    "For instance this lambda is similar to `create_token_authentication` and can be used to authenticate with a token:"
   ]
  },
  {
   "cell_type": "code",
   "execution_count": null,
   "metadata": {},
   "outputs": [],
   "source": [
    "auth = lambda url: {\"Authorization\": f\"Bearer {token}\"}"
   ]
  },
  {
   "cell_type": "markdown",
   "metadata": {},
   "source": [
    "### Querying a remote cube\n",
    "\n",
    "You can retrieve the cubes of the remote session to access their levels and measures and query it."
   ]
  },
  {
   "cell_type": "code",
   "execution_count": null,
   "metadata": {},
   "outputs": [],
   "source": [
    "existing_cube = existing_session.cubes[\"Sales\"]\n",
    "lvl = existing_cube.levels\n",
    "m = existing_cube.measures\n",
    "existing_cube.query(m[\"Amount.SUM\"], m[\"Quantity.SUM\"], levels=[lvl[\"Product\"]])"
   ]
  },
  {
   "cell_type": "markdown",
   "metadata": {},
   "source": [
    "MDX queries are also supported:"
   ]
  },
  {
   "cell_type": "code",
   "execution_count": null,
   "metadata": {},
   "outputs": [],
   "source": [
    "existing_session.query_mdx(mdx_query)"
   ]
  },
  {
   "cell_type": "markdown",
   "metadata": {},
   "source": [
    "And interactive visualizations too:"
   ]
  },
  {
   "cell_type": "code",
   "execution_count": null,
   "metadata": {},
   "outputs": [],
   "source": [
    "existing_session.visualize()"
   ]
  }
 ],
 "metadata": {
  "kernelspec": {
   "display_name": "Python 3",
   "language": "python",
   "name": "python3"
  },
  "language_info": {
   "codemirror_mode": {
    "name": "ipython",
    "version": 3
   },
   "file_extension": ".py",
   "mimetype": "text/x-python",
   "name": "python",
   "nbconvert_exporter": "python",
   "pygments_lexer": "ipython3",
   "version": "3.8.3"
  }
 },
 "nbformat": 4,
 "nbformat_minor": 4
}
