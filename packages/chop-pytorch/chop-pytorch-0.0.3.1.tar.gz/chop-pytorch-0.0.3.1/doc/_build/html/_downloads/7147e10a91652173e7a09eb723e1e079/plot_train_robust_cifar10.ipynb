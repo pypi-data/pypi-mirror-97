{
  "cells": [
    {
      "cell_type": "code",
      "execution_count": null,
      "metadata": {
        "collapsed": false
      },
      "outputs": [],
      "source": [
        "%matplotlib inline"
      ]
    },
    {
      "cell_type": "markdown",
      "metadata": {},
      "source": [
        "\n# Example of robust training on CIFAR10.\n"
      ]
    },
    {
      "cell_type": "code",
      "execution_count": null,
      "metadata": {
        "collapsed": false
      },
      "outputs": [],
      "source": [
        "import matplotlib.pyplot as plt\nfrom chop.adversary import Adversary\nimport torch\nfrom tqdm import tqdm\nfrom easydict import EasyDict\n\nimport chop\n\nfrom torch.optim import SGD\n\nfrom torchvision import models\n\ndevice = torch.device('cuda' if torch.cuda.is_available()\n                      else 'cpu')\n\nn_epochs = 100\nbatch_size = 128\nbatch_size_test = 100\n\nloaders = chop.data.load_cifar10(train_batch_size=batch_size,\n                                 test_batch_size=batch_size_test,\n                                 data_dir='~/datasets',\n                                 augment_train=True)\n\ntrainloader, testloader = loaders.train, loaders.test\nn_train = len(trainloader.dataset)\nn_test = len(testloader.dataset)\n\nmodel = models.resnet18(pretrained=False)\nmodel.to(device)\n\ncriterion = torch.nn.CrossEntropyLoss()\n\noptimizer = SGD(model.parameters(), lr=.1, momentum=.9, weight_decay=5e-4)\nscheduler = torch.optim.lr_scheduler.CosineAnnealingLR(optimizer, T_max=200)\n\n# Define the perturbation constraint set\nmax_iter_train = 7\nmax_iter_test = 20\nalpha = 8. / 255\nconstraint = chop.constraints.LinfBall(alpha)\ncriterion_adv = torch.nn.CrossEntropyLoss(reduction='none')\n\nprint(f\"Training on L{constraint.p} ball({alpha}).\")\n\n\nadversary = Adversary(chop.optim.minimize_pgd_madry)\n\nresults = EasyDict(train_acc=[], test_acc=[],\n                   train_acc_adv=[], test_acc_adv=[],\n                   train_adv_loss=[],\n                   test_adv_loss=[])\n\nfor _ in range(n_epochs):\n\n    # Train\n    n_correct = 0\n    n_correct_adv = 0\n\n    model.train()\n\n    for k, (data, target) in enumerate(trainloader):\n        data = data.to(device)\n        target = target.to(device)\n\n        @torch.no_grad()\n        def image_constraint_prox(delta, step_size=None):\n            \"\"\"Projects perturbation delta\n            so that 0. <= data + delta <= 1.\"\"\"\n\n            adv_img = torch.clamp(data + delta, 0, 1)\n            delta = adv_img - data\n            return delta\n\n        @torch.no_grad()\n        def prox(delta, step_size=None):\n            delta = constraint.prox(delta, step_size)\n            delta = image_constraint_prox(delta, step_size)\n            return delta\n\n        _, delta = adversary.perturb(data, target, model,\n                                     criterion_adv,\n                                     prox=prox,\n                                     lmo=constraint.lmo,\n                                     step=2. / max_iter_train,\n                                     max_iter=max_iter_train)\n\n        optimizer.zero_grad()\n        \n        output = model(data)\n        output_adv = model(data + delta)\n        loss = criterion(output, target)\n        loss.backward()\n\n        optimizer.step()\n\n        pred = torch.argmax(output, dim=-1)\n        pred_adv = torch.argmax(output_adv, dim=-1)\n\n        n_correct += (pred == target).sum().item()\n        n_correct_adv += (pred_adv == target).sum().item()\n\n    results.train_acc.append(100. * n_correct / n_train)\n    results.train_acc_adv.append(100. * n_correct_adv / n_train)\n    print(f\"Train Accuracy: {results.train_acc[-1] :.1f}%\")\n    print(f\"Train Adv Accuracy: {results.train_acc_adv[-1]:.1f}%\")\n\n    # Test\n    n_correct = 0\n    n_correct_adv = 0\n\n    model.eval()\n\n    for k, (data, target) in enumerate(testloader):\n        data = data.to(device)\n        target = target.to(device)\n\n        @torch.no_grad()\n        def image_constraint_prox(delta, step_size=None):\n            \"\"\"Projects perturbation delta\n            so that 0. <= data + delta <= 1.\"\"\"\n\n            adv_img = torch.clamp(data + delta, 0, 1)\n            delta = adv_img - data\n            return delta\n\n        @torch.no_grad()\n        def prox(delta, step_size=None):\n            delta = constraint.prox(delta, step_size)\n            delta = image_constraint_prox(delta, step_size)\n            return delta\n\n        _, delta = adversary.perturb(data, target, model,\n                                        criterion_adv,\n                                        prox=prox,\n                                        lmo=constraint.lmo,\n                                        step=2. / max_iter_test,\n                                        max_iter=max_iter_test)\n\n        with torch.no_grad():\n            output = model(data)\n            output_adv = model(data + delta)\n\n            pred = torch.argmax(output, dim=-1)\n            pred_adv = torch.argmax(output_adv, dim=-1)\n\n        n_correct += (pred == target).sum().item()\n        n_correct_adv += (pred_adv == target).sum().item()\n\n    results.test_acc.append(100. * n_correct / n_test)\n    results.test_acc_adv.append(100. * n_correct_adv / n_test)\n\n    print(f\"Test Accuracy: {results.test_acc[-1]:.1f}%\")\n    print(f\"Test Adv Accuracy: {results.test_acc_adv[-1]:.1f}%\")\n\n\nfig, ax = plt.subplots(nrows=2, sharex=True)\n\nax[0].set_title(\"Clean data accuracies\")\nax[0].plot(results.train_acc, label='Train Acc')\nax[0].plot(results.test_acc, label='Test Acc')\nax[1].set_title(\"Adversarial data accuracies\")\nax[1].plot(results.train_acc_adv, label='Train Acc Adv')\nax[1].plot(results.test_acc_adv, label='Test Acc Adv')\nplt.legend()\nplt.show()"
      ]
    }
  ],
  "metadata": {
    "kernelspec": {
      "display_name": "Python 3",
      "language": "python",
      "name": "python3"
    },
    "language_info": {
      "codemirror_mode": {
        "name": "ipython",
        "version": 3
      },
      "file_extension": ".py",
      "mimetype": "text/x-python",
      "name": "python",
      "nbconvert_exporter": "python",
      "pygments_lexer": "ipython3",
      "version": "3.8.5"
    }
  },
  "nbformat": 4,
  "nbformat_minor": 0
}