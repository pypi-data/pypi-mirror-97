{
 "cells": [
  {
   "cell_type": "markdown",
   "metadata": {
    "collapsed": true,
    "pycharm": {
     "name": "#%% md\n"
    }
   },
   "source": [
    "# Usage\n",
    "\n",
    "## Using the included categorizations\n",
    "\n",
    "In the `climate_categories` package, the categorizations are available\n",
    "directly at the top-level namespace, and as a dictionary in `.cats`:"
   ]
  },
  {
   "cell_type": "code",
   "execution_count": 1,
   "metadata": {
    "collapsed": false,
    "execution": {
     "iopub.execute_input": "2021-03-09T09:31:21.443602Z",
     "iopub.status.busy": "2021-03-09T09:31:21.442902Z",
     "iopub.status.idle": "2021-03-09T09:31:21.759209Z",
     "shell.execute_reply": "2021-03-09T09:31:21.758746Z"
    },
    "pycharm": {
     "name": "#%%\n"
    }
   },
   "outputs": [
    {
     "data": {
      "text/plain": [
       "<Categorization IPCC2006 'IPCC GHG emission categories (2006)' with 289 categories>"
      ]
     },
     "execution_count": 1,
     "metadata": {},
     "output_type": "execute_result"
    }
   ],
   "source": [
    "import climate_categories\n",
    "\n",
    "climate_categories.IPCC2006"
   ]
  },
  {
   "cell_type": "code",
   "execution_count": 2,
   "metadata": {
    "collapsed": false,
    "execution": {
     "iopub.execute_input": "2021-03-09T09:31:21.761990Z",
     "iopub.status.busy": "2021-03-09T09:31:21.761619Z",
     "iopub.status.idle": "2021-03-09T09:31:21.763387Z",
     "shell.execute_reply": "2021-03-09T09:31:21.763676Z"
    },
    "pycharm": {
     "name": "#%%\n"
    }
   },
   "outputs": [
    {
     "data": {
      "text/plain": [
       "<Categorization IPCC2006 'IPCC GHG emission categories (2006)' with 289 categories>"
      ]
     },
     "execution_count": 1,
     "metadata": {},
     "output_type": "execute_result"
    }
   ],
   "source": [
    "climate_categories.cats[\"IPCC2006\"]"
   ]
  },
  {
   "cell_type": "markdown",
   "metadata": {
    "collapsed": false,
    "pycharm": {
     "name": "#%% md\n"
    }
   },
   "source": [
    "Metadata for each categorization are accessible as properties:"
   ]
  },
  {
   "cell_type": "code",
   "execution_count": 3,
   "metadata": {
    "collapsed": false,
    "execution": {
     "iopub.execute_input": "2021-03-09T09:31:21.767477Z",
     "iopub.status.busy": "2021-03-09T09:31:21.766911Z",
     "iopub.status.idle": "2021-03-09T09:31:21.769430Z",
     "shell.execute_reply": "2021-03-09T09:31:21.769048Z"
    },
    "pycharm": {
     "name": "#%%\n"
    }
   },
   "outputs": [
    {
     "name": "stdout",
     "output_type": "stream",
     "text": [
      "IPCC2006\n",
      "IPCC GHG emission categories (2006)\n",
      "IPCC classification of green-house gas emissions into categories, 2006 edition\n",
      "IPCC 2006, 2006 IPCC Guidelines for National Greenhouse Gas Inventories, Prepared by the National Greenhouse Gas Inventories Programme, Eggleston H.S., Buendia L., Miwa K., Ngara T. and Tanabe K. (eds). Volume 1, Chapter 8, Table 8.2, https://www.ipcc-nggip.iges.or.jp/public/2006gl/vol1.html\n",
      "IPCC\n",
      "2010-06-30\n",
      "2006\n"
     ]
    }
   ],
   "source": [
    "print(climate_categories.IPCC2006.name)\n",
    "print(climate_categories.IPCC2006.title)\n",
    "print(climate_categories.IPCC2006.comment)\n",
    "print(climate_categories.IPCC2006.references)\n",
    "print(climate_categories.IPCC2006.institution)\n",
    "print(climate_categories.IPCC2006.last_update)\n",
    "print(climate_categories.IPCC2006.version)"
   ]
  },
  {
   "cell_type": "markdown",
   "metadata": {
    "collapsed": false,
    "pycharm": {
     "name": "#%% md\n"
    }
   },
   "source": [
    "The categorization can be used as a dictionary to query the meaning\n",
    "of category codes:"
   ]
  },
  {
   "cell_type": "code",
   "execution_count": 4,
   "metadata": {
    "collapsed": false,
    "execution": {
     "iopub.execute_input": "2021-03-09T09:31:21.771988Z",
     "iopub.status.busy": "2021-03-09T09:31:21.771542Z",
     "iopub.status.idle": "2021-03-09T09:31:21.773755Z",
     "shell.execute_reply": "2021-03-09T09:31:21.773406Z"
    },
    "pycharm": {
     "name": "#%%\n"
    }
   },
   "outputs": [
    {
     "data": {
      "text/plain": [
       "<HierarchicalCategory 1.A>"
      ]
     },
     "execution_count": 1,
     "metadata": {},
     "output_type": "execute_result"
    }
   ],
   "source": [
    "climate_categories.IPCC2006[\"1.A\"]"
   ]
  },
  {
   "cell_type": "markdown",
   "metadata": {
    "collapsed": false,
    "pycharm": {
     "name": "#%% md\n"
    }
   },
   "source": [
    "You can also query using alternative spellings of the code:"
   ]
  },
  {
   "cell_type": "code",
   "execution_count": 5,
   "metadata": {
    "collapsed": false,
    "execution": {
     "iopub.execute_input": "2021-03-09T09:31:21.776238Z",
     "iopub.status.busy": "2021-03-09T09:31:21.775784Z",
     "iopub.status.idle": "2021-03-09T09:31:21.777952Z",
     "shell.execute_reply": "2021-03-09T09:31:21.777597Z"
    },
    "pycharm": {
     "name": "#%%\n"
    }
   },
   "outputs": [
    {
     "data": {
      "text/plain": [
       "<HierarchicalCategory 1.A>"
      ]
     },
     "execution_count": 1,
     "metadata": {},
     "output_type": "execute_result"
    }
   ],
   "source": [
    "climate_categories.IPCC2006[\"1A\"]"
   ]
  },
  {
   "cell_type": "markdown",
   "metadata": {
    "collapsed": false,
    "pycharm": {
     "name": "#%% md\n"
    }
   },
   "source": [
    "For the categories, metadata is also available: a `title`, maybe a\n",
    "`comment`, all of its `codes` and possibly additional non-standard information\n",
    "in the `info` dictionary:"
   ]
  },
  {
   "cell_type": "code",
   "execution_count": 6,
   "metadata": {
    "collapsed": false,
    "execution": {
     "iopub.execute_input": "2021-03-09T09:31:21.780754Z",
     "iopub.status.busy": "2021-03-09T09:31:21.780321Z",
     "iopub.status.idle": "2021-03-09T09:31:21.782405Z",
     "shell.execute_reply": "2021-03-09T09:31:21.782017Z"
    },
    "pycharm": {
     "name": "#%%\n"
    }
   },
   "outputs": [
    {
     "name": "stdout",
     "output_type": "stream",
     "text": [
      "Fuel Combustion Activities\n",
      "Emissions from the intentional oxidation of materials within an apparatus that is designed to raise heat and provide it either as heat or as mechanical work to a process or for use away from the apparatus.\n",
      "('1.A', '1A')\n",
      "{'gases': ['CO2', 'CH4', 'N2O', 'NOx', 'CO', 'NMVOC', 'SO2'], 'corresponding_categories_IPCC1996': ['1A']}\n"
     ]
    }
   ],
   "source": [
    "one_a = climate_categories.IPCC2006[\"1.A\"]\n",
    "print(one_a.title)\n",
    "print(one_a.comment)\n",
    "print(one_a.codes)\n",
    "print(one_a.info)"
   ]
  },
  {
   "cell_type": "markdown",
   "metadata": {
    "collapsed": false,
    "pycharm": {
     "name": "#%% md\n"
    }
   },
   "source": [
    "For hierarchical categorizations, you can also query for parent and child\n",
    "categories.\n",
    "Note that a list of sets of children is returned in case a category\n",
    "can be composed differently:"
   ]
  },
  {
   "cell_type": "code",
   "execution_count": 7,
   "metadata": {
    "collapsed": false,
    "execution": {
     "iopub.execute_input": "2021-03-09T09:31:21.784946Z",
     "iopub.status.busy": "2021-03-09T09:31:21.784545Z",
     "iopub.status.idle": "2021-03-09T09:31:21.786444Z",
     "shell.execute_reply": "2021-03-09T09:31:21.786135Z"
    },
    "pycharm": {
     "name": "#%%\n"
    }
   },
   "outputs": [
    {
     "data": {
      "text/plain": [
       "[{<HierarchicalCategory 1.A.1>,\n",
       "  <HierarchicalCategory 1.A.2>,\n",
       "  <HierarchicalCategory 1.A.3>,\n",
       "  <HierarchicalCategory 1.A.4>,\n",
       "  <HierarchicalCategory 1.A.5>}]"
      ]
     },
     "execution_count": 1,
     "metadata": {},
     "output_type": "execute_result"
    }
   ],
   "source": [
    "climate_categories.IPCC2006[\"1.A\"].children"
   ]
  },
  {
   "cell_type": "code",
   "execution_count": 8,
   "metadata": {
    "collapsed": false,
    "execution": {
     "iopub.execute_input": "2021-03-09T09:31:21.788587Z",
     "iopub.status.busy": "2021-03-09T09:31:21.788197Z",
     "iopub.status.idle": "2021-03-09T09:31:21.789854Z",
     "shell.execute_reply": "2021-03-09T09:31:21.790090Z"
    },
    "pycharm": {
     "name": "#%%\n"
    }
   },
   "outputs": [
    {
     "data": {
      "text/plain": [
       "{<HierarchicalCategory 1>}"
      ]
     },
     "execution_count": 1,
     "metadata": {},
     "output_type": "execute_result"
    }
   ],
   "source": [
    "climate_categories.IPCC2006[\"1.A\"].parents"
   ]
  },
  {
   "cell_type": "markdown",
   "metadata": {
    "collapsed": false
   },
   "source": [
    "Finally, you can check if a categorization is hierarchical, and\n",
    "for hierarchical categorizations you can check if the sum of all\n",
    "child categories should be equal to the sum of parent categories:"
   ]
  },
  {
   "cell_type": "code",
   "execution_count": 9,
   "metadata": {
    "collapsed": false,
    "execution": {
     "iopub.execute_input": "2021-03-09T09:31:21.792134Z",
     "iopub.status.busy": "2021-03-09T09:31:21.791832Z",
     "iopub.status.idle": "2021-03-09T09:31:21.793611Z",
     "shell.execute_reply": "2021-03-09T09:31:21.793271Z"
    },
    "pycharm": {
     "name": "#%%\n"
    }
   },
   "outputs": [
    {
     "name": "stdout",
     "output_type": "stream",
     "text": [
      "Hierachical: True\n",
      "Total sum: True\n"
     ]
    }
   ],
   "source": [
    "print(f\"Hierachical: {climate_categories.IPCC2006.hierarchical}\")\n",
    "print(f\"Total sum: {climate_categories.IPCC2006.total_sum}\")"
   ]
  },
  {
   "cell_type": "markdown",
   "metadata": {
    "collapsed": false,
    "pycharm": {
     "name": "#%% md\n"
    }
   },
   "source": [
    "## Extending categorizations\n",
    "\n",
    "Often, you want to use a common categorization, but for one reason or\n",
    "another, you have to add a couple of categories. This is possible:"
   ]
  },
  {
   "cell_type": "code",
   "execution_count": 10,
   "metadata": {
    "collapsed": false,
    "execution": {
     "iopub.execute_input": "2021-03-09T09:31:21.799985Z",
     "iopub.status.busy": "2021-03-09T09:31:21.799675Z",
     "iopub.status.idle": "2021-03-09T09:31:21.801520Z",
     "shell.execute_reply": "2021-03-09T09:31:21.801213Z"
    },
    "pycharm": {
     "name": "#%%\n"
    }
   },
   "outputs": [
    {
     "name": "stdout",
     "output_type": "stream",
     "text": [
      "IPCC2006_PRIMAP\n",
      "IPCC GHG emission categories (2006) + PRIMAP\n",
      "IPCC classification of green-house gas emissions into categories, 2006 edition extended by PRIMAP\n"
     ]
    }
   ],
   "source": [
    "IPCC2006_PRIMAP = climate_categories.IPCC2006.extend(\n",
    "    name=\"PRIMAP\",\n",
    "    categories={\n",
    "        \"M0\": {\"title\": \"TOTAL\", \"comment\": \"All emissions and removals\"}\n",
    "    },\n",
    "    children=[(\"M0\", (\"1\", \"2\", \"3\", \"4\", \"5\"))],\n",
    ")\n",
    "\n",
    "print(IPCC2006_PRIMAP.name)\n",
    "print(IPCC2006_PRIMAP.title)\n",
    "print(IPCC2006_PRIMAP.comment)"
   ]
  },
  {
   "cell_type": "markdown",
   "metadata": {
    "collapsed": false,
    "pycharm": {
     "name": "#%% md\n"
    }
   },
   "source": [
    "If the canonical top level category of hierarchical\n",
    "categorizations is defined, you can also calculate the level of a category in the\n",
    "hierarchy:"
   ]
  },
  {
   "cell_type": "code",
   "execution_count": 11,
   "metadata": {
    "collapsed": false,
    "execution": {
     "iopub.execute_input": "2021-03-09T09:31:21.815067Z",
     "iopub.status.busy": "2021-03-09T09:31:21.814748Z",
     "iopub.status.idle": "2021-03-09T09:31:21.816304Z",
     "shell.execute_reply": "2021-03-09T09:31:21.816543Z"
    },
    "pycharm": {
     "name": "#%%\n"
    }
   },
   "outputs": [
    {
     "name": "stdout",
     "output_type": "stream",
     "text": [
      "1\n",
      "3\n"
     ]
    }
   ],
   "source": [
    "IPCC2006_PRIMAP.canonical_top_level_category = IPCC2006_PRIMAP[\"M0\"]\n",
    "\n",
    "print(IPCC2006_PRIMAP[\"M0\"].level)\n",
    "print(IPCC2006_PRIMAP[\"1.A\"].level)"
   ]
  },
  {
   "cell_type": "markdown",
   "metadata": {
    "collapsed": false,
    "pycharm": {
     "name": "#%% md\n"
    }
   },
   "source": [
    "## Pandas integration\n",
    "\n",
    "For each categorization, the categories are also available as a pandas\n",
    "DataFrame:"
   ]
  },
  {
   "cell_type": "code",
   "execution_count": 12,
   "metadata": {
    "collapsed": false,
    "execution": {
     "iopub.execute_input": "2021-03-09T09:31:21.824167Z",
     "iopub.status.busy": "2021-03-09T09:31:21.823818Z",
     "iopub.status.idle": "2021-03-09T09:31:21.837966Z",
     "shell.execute_reply": "2021-03-09T09:31:21.837650Z"
    },
    "pycharm": {
     "name": "#%%\n"
    }
   },
   "outputs": [
    {
     "data": {
      "text/html": [
       "<div>\n",
       "<style scoped>\n",
       "    .dataframe tbody tr th:only-of-type {\n",
       "        vertical-align: middle;\n",
       "    }\n",
       "\n",
       "    .dataframe tbody tr th {\n",
       "        vertical-align: top;\n",
       "    }\n",
       "\n",
       "    .dataframe thead th {\n",
       "        text-align: right;\n",
       "    }\n",
       "</style>\n",
       "<table border=\"1\" class=\"dataframe\">\n",
       "  <thead>\n",
       "    <tr style=\"text-align: right;\">\n",
       "      <th></th>\n",
       "      <th>title</th>\n",
       "      <th>comment</th>\n",
       "      <th>alternative_codes</th>\n",
       "      <th>children</th>\n",
       "    </tr>\n",
       "  </thead>\n",
       "  <tbody>\n",
       "    <tr>\n",
       "      <th>1</th>\n",
       "      <td>ENERGY</td>\n",
       "      <td>This category includes all GHG emissions arisi...</td>\n",
       "      <td>()</td>\n",
       "      <td>((1.A, 1.B, 1.C),)</td>\n",
       "    </tr>\n",
       "    <tr>\n",
       "      <th>1.A</th>\n",
       "      <td>Fuel Combustion Activities</td>\n",
       "      <td>Emissions from the intentional oxidation of ma...</td>\n",
       "      <td>(1A,)</td>\n",
       "      <td>((1.A.1, 1.A.2, 1.A.3, 1.A.4, 1.A.5),)</td>\n",
       "    </tr>\n",
       "    <tr>\n",
       "      <th>1.A.1</th>\n",
       "      <td>Energy Industries</td>\n",
       "      <td>Comprises  emissions  from  fuels  combusted  ...</td>\n",
       "      <td>(1A1,)</td>\n",
       "      <td>((1.A.1.a, 1.A.1.b, 1.A.1.c),)</td>\n",
       "    </tr>\n",
       "    <tr>\n",
       "      <th>1.A.1.a</th>\n",
       "      <td>Main Activity Electricity and Heat Production</td>\n",
       "      <td>Sum of emissions from main activity producers ...</td>\n",
       "      <td>(1A1a,)</td>\n",
       "      <td>((1.A.1.a.i, 1.A.1.a.ii, 1.A.1.a.iii),)</td>\n",
       "    </tr>\n",
       "    <tr>\n",
       "      <th>1.A.1.a.i</th>\n",
       "      <td>Electricity Generation</td>\n",
       "      <td>Comprises emissions from all fuel use for elec...</td>\n",
       "      <td>(1A1ai,)</td>\n",
       "      <td>()</td>\n",
       "    </tr>\n",
       "    <tr>\n",
       "      <th>...</th>\n",
       "      <td>...</td>\n",
       "      <td>...</td>\n",
       "      <td>...</td>\n",
       "      <td>...</td>\n",
       "    </tr>\n",
       "    <tr>\n",
       "      <th>4.D.2</th>\n",
       "      <td>Industrial Wastewater Treatment and Discharge</td>\n",
       "      <td>Treatment and discharge of liquid wastes and s...</td>\n",
       "      <td>(4D2,)</td>\n",
       "      <td>()</td>\n",
       "    </tr>\n",
       "    <tr>\n",
       "      <th>4.E</th>\n",
       "      <td>Other (please specify)</td>\n",
       "      <td>Release of GHGs from other waste handling acti...</td>\n",
       "      <td>(4E,)</td>\n",
       "      <td>()</td>\n",
       "    </tr>\n",
       "    <tr>\n",
       "      <th>5</th>\n",
       "      <td>Other</td>\n",
       "      <td>None</td>\n",
       "      <td>()</td>\n",
       "      <td>((5.A, 5.B),)</td>\n",
       "    </tr>\n",
       "    <tr>\n",
       "      <th>5.A</th>\n",
       "      <td>Indirect N2O Emissions from the Atmospheric De...</td>\n",
       "      <td>Excluding indirect emissions from NOx and NH3 ...</td>\n",
       "      <td>(5A,)</td>\n",
       "      <td>()</td>\n",
       "    </tr>\n",
       "    <tr>\n",
       "      <th>5.B</th>\n",
       "      <td>Other (please specify)</td>\n",
       "      <td>Only use this category exceptionally, for any ...</td>\n",
       "      <td>(5B,)</td>\n",
       "      <td>()</td>\n",
       "    </tr>\n",
       "  </tbody>\n",
       "</table>\n",
       "<p>289 rows × 4 columns</p>\n",
       "</div>"
      ],
      "text/plain": [
       "                                                       title  \\\n",
       "1                                                     ENERGY   \n",
       "1.A                               Fuel Combustion Activities   \n",
       "1.A.1                                      Energy Industries   \n",
       "1.A.1.a        Main Activity Electricity and Heat Production   \n",
       "1.A.1.a.i                             Electricity Generation   \n",
       "...                                                      ...   \n",
       "4.D.2          Industrial Wastewater Treatment and Discharge   \n",
       "4.E                                   Other (please specify)   \n",
       "5                                                      Other   \n",
       "5.A        Indirect N2O Emissions from the Atmospheric De...   \n",
       "5.B                                   Other (please specify)   \n",
       "\n",
       "                                                     comment  \\\n",
       "1          This category includes all GHG emissions arisi...   \n",
       "1.A        Emissions from the intentional oxidation of ma...   \n",
       "1.A.1      Comprises  emissions  from  fuels  combusted  ...   \n",
       "1.A.1.a    Sum of emissions from main activity producers ...   \n",
       "1.A.1.a.i  Comprises emissions from all fuel use for elec...   \n",
       "...                                                      ...   \n",
       "4.D.2      Treatment and discharge of liquid wastes and s...   \n",
       "4.E        Release of GHGs from other waste handling acti...   \n",
       "5                                                       None   \n",
       "5.A        Excluding indirect emissions from NOx and NH3 ...   \n",
       "5.B        Only use this category exceptionally, for any ...   \n",
       "\n",
       "          alternative_codes                                 children  \n",
       "1                        ()                       ((1.A, 1.B, 1.C),)  \n",
       "1.A                   (1A,)   ((1.A.1, 1.A.2, 1.A.3, 1.A.4, 1.A.5),)  \n",
       "1.A.1                (1A1,)           ((1.A.1.a, 1.A.1.b, 1.A.1.c),)  \n",
       "1.A.1.a             (1A1a,)  ((1.A.1.a.i, 1.A.1.a.ii, 1.A.1.a.iii),)  \n",
       "1.A.1.a.i          (1A1ai,)                                       ()  \n",
       "...                     ...                                      ...  \n",
       "4.D.2                (4D2,)                                       ()  \n",
       "4.E                   (4E,)                                       ()  \n",
       "5                        ()                            ((5.A, 5.B),)  \n",
       "5.A                   (5A,)                                       ()  \n",
       "5.B                   (5B,)                                       ()  \n",
       "\n",
       "[289 rows x 4 columns]"
      ]
     },
     "execution_count": 1,
     "metadata": {},
     "output_type": "execute_result"
    }
   ],
   "source": [
    "climate_categories.IPCC2006.df"
   ]
  }
 ],
 "metadata": {
  "kernelspec": {
   "display_name": "Python 3",
   "language": "python",
   "name": "python3"
  },
  "language_info": {
   "codemirror_mode": {
    "name": "ipython",
    "version": 3
   },
   "file_extension": ".py",
   "mimetype": "text/x-python",
   "name": "python",
   "nbconvert_exporter": "python",
   "pygments_lexer": "ipython3",
   "version": "3.8.6"
  }
 },
 "nbformat": 4,
 "nbformat_minor": 0
}
