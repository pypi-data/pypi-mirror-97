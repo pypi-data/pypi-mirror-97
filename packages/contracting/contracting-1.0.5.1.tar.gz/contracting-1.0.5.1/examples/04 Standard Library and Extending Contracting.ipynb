{
 "cells": [
  {
   "cell_type": "markdown",
   "metadata": {},
   "source": [
    "# The Contracting Standard Library\n",
    "There are unique variables and functions available for smart contracts at runtime. In the last notebook, we used the ORM variables that are provided via the `stdlib` to interact with the database. We will explore the other methods in this notebook and the concept of `environment` and `ctx`.\n",
    "\n",
    "To see the basic standard library included at runtime, use `gather()` from the `env` module."
   ]
  },
  {
   "cell_type": "code",
   "execution_count": 1,
   "metadata": {},
   "outputs": [],
   "source": [
    "from contracting.stdlib import env"
   ]
  },
  {
   "cell_type": "code",
   "execution_count": 2,
   "metadata": {},
   "outputs": [
    {
     "data": {
      "text/plain": [
       "{'Variable': contracting.db.orm.Variable,\n",
       " 'Hash': contracting.db.orm.Hash,\n",
       " 'ForeignVariable': contracting.db.orm.ForeignVariable,\n",
       " 'ForeignHash': contracting.db.orm.ForeignHash,\n",
       " '__Contract': contracting.db.contract.Contract,\n",
       " 'sha3': <function contracting.stdlib.bridge.hashing.sha3(hex_str:str)>,\n",
       " 'sha256': <function contracting.stdlib.bridge.hashing.sha256(hex_str:str)>,\n",
       " 'datetime': contracting.stdlib.bridge.time.Datetime}"
      ]
     },
     "execution_count": 2,
     "metadata": {},
     "output_type": "execute_result"
    }
   ],
   "source": [
    "env.gather()"
   ]
  },
  {
   "cell_type": "markdown",
   "metadata": {},
   "source": [
    "All of these functions are available at runtime. You can extend the standard library by updating the `env` dictionary. If you want to pass something more dynamic through, like the time that a transaction was submitted to the network, you would pass in an environment object."
   ]
  },
  {
   "cell_type": "code",
   "execution_count": 3,
   "metadata": {},
   "outputs": [],
   "source": [
    "def stdlib_environment_examples():\n",
    "    \n",
    "    @export\n",
    "    def sha3_data(s):\n",
    "        return sha3(s)\n",
    "    \n",
    "    @export\n",
    "    def return_env_variable():\n",
    "        return this_will_be_defined_later"
   ]
  },
  {
   "cell_type": "markdown",
   "metadata": {},
   "source": [
    "First, let's try to access the `sha3` function exposed in the `stdlib`."
   ]
  },
  {
   "cell_type": "code",
   "execution_count": 4,
   "metadata": {},
   "outputs": [],
   "source": [
    "from contracting.client import ContractingClient\n",
    "client = ContractingClient(signer='stu')\n",
    "client.submit(stdlib_environment_examples)\n",
    "contract = client.get_contract('stdlib_environment_examples')"
   ]
  },
  {
   "cell_type": "code",
   "execution_count": 5,
   "metadata": {},
   "outputs": [
    {
     "data": {
      "text/plain": [
       "'a0d5f1e1000980a0ae98cffb12072a41328bbdfebf3f6012aa021b428daea5b7'"
      ]
     },
     "execution_count": 5,
     "metadata": {},
     "output_type": "execute_result"
    }
   ],
   "source": [
    "contract.sha3_data(s='00ff00ff00ff')"
   ]
  },
  {
   "cell_type": "markdown",
   "metadata": {},
   "source": [
    "Now, if we try to call `return_env_variable()`, we will get an error. This is because the variable is not included in the `stdlib` nor has been defined elsewhere in the contract."
   ]
  },
  {
   "cell_type": "code",
   "execution_count": 6,
   "metadata": {},
   "outputs": [
    {
     "name": "stdout",
     "output_type": "stream",
     "text": [
      "name 'this_will_be_defined_later' is not defined\n"
     ]
    }
   ],
   "source": [
    "try:\n",
    "    contract.return_env_variable()\n",
    "except Exception as e:\n",
    "    print(e)"
   ]
  },
  {
   "cell_type": "markdown",
   "metadata": {},
   "source": [
    "But if we pass it in the environment, it becomes accessible. This function is used by our blockchain to pass contextual information such as block height, block hash, transaction time, etc."
   ]
  },
  {
   "cell_type": "code",
   "execution_count": 7,
   "metadata": {},
   "outputs": [
    {
     "data": {
      "text/plain": [
       "42"
      ]
     },
     "execution_count": 7,
     "metadata": {},
     "output_type": "execute_result"
    }
   ],
   "source": [
    "environment = {'this_will_be_defined_later': 42}\n",
    "contract.return_env_variable(environment=environment)"
   ]
  },
  {
   "cell_type": "markdown",
   "metadata": {},
   "source": [
    "## Runtime Context `ctx`\n",
    "At runtime, there is a constant defined called `ctx`. `ctx` contains three fields:\n",
    "\n",
    "* `ctx.signer`\n",
    "\n",
    "    This is the signer of the initial transaction. This variable never changes. It should not be used for access control.\n",
    "\n",
    "---\n",
    "\n",
    "* `ctx.caller`\n",
    "    \n",
    "    This is the direct caller of the function. As explained in the next notebook, smart contracts can import functions from other smart contracts. If you submit a transaction to a smart contract which calls upon another smart contract, the call stack is modified. The `caller` becomes the calling smart contract on a function. This should be used for access control.\n",
    "    \n",
    "---    \n",
    "    \n",
    "* `ctx.this`\n",
    "\n",
    "    This is the name of the smart contract. This is how you will reference a smart contract for ascribing ownership to them."
   ]
  },
  {
   "cell_type": "code",
   "execution_count": 8,
   "metadata": {},
   "outputs": [],
   "source": [
    "def call_me():\n",
    "    @export\n",
    "    def caller():\n",
    "        return ctx.caller\n",
    "    \n",
    "    @export\n",
    "    def this():\n",
    "        return ctx.this\n",
    "\n",
    "def ctx_example():\n",
    "    import call_me\n",
    "    \n",
    "    @export\n",
    "    def ctx_now():\n",
    "        return ctx.signer, ctx.caller, ctx.this\n",
    "    \n",
    "    @export\n",
    "    def ctx_after_call():\n",
    "        c = call_me.caller()\n",
    "        t = call_me.this()\n",
    "        \n",
    "        return ctx.signer, c, t"
   ]
  },
  {
   "cell_type": "code",
   "execution_count": 9,
   "metadata": {},
   "outputs": [],
   "source": [
    "client.submit(call_me)\n",
    "client.submit(ctx_example)"
   ]
  },
  {
   "cell_type": "code",
   "execution_count": 10,
   "metadata": {},
   "outputs": [],
   "source": [
    "ctx_contract = client.get_contract('ctx_example')"
   ]
  },
  {
   "cell_type": "code",
   "execution_count": 11,
   "metadata": {},
   "outputs": [
    {
     "data": {
      "text/plain": [
       "('stu', 'stu', 'ctx_example')"
      ]
     },
     "execution_count": 11,
     "metadata": {},
     "output_type": "execute_result"
    }
   ],
   "source": [
    "ctx_contract.ctx_now()"
   ]
  },
  {
   "cell_type": "code",
   "execution_count": 12,
   "metadata": {},
   "outputs": [
    {
     "data": {
      "text/plain": [
       "('stu', 'ctx_example', 'call_me')"
      ]
     },
     "execution_count": 12,
     "metadata": {},
     "output_type": "execute_result"
    }
   ],
   "source": [
    "ctx_contract.ctx_after_call()"
   ]
  },
  {
   "cell_type": "markdown",
   "metadata": {},
   "source": [
    "Notice above how `ctx_after_call` returns different information. This is because `ctx` is modified after each function call. Because `ctx_example` called `call_me`, the `ctx.caller` returned was `ctx_example`. If we call that function directly, we will get `stu` back."
   ]
  },
  {
   "cell_type": "code",
   "execution_count": 13,
   "metadata": {},
   "outputs": [],
   "source": [
    "call_me_contract = client.get_contract('call_me')"
   ]
  },
  {
   "cell_type": "code",
   "execution_count": 14,
   "metadata": {},
   "outputs": [
    {
     "data": {
      "text/plain": [
       "'stu'"
      ]
     },
     "execution_count": 14,
     "metadata": {},
     "output_type": "execute_result"
    }
   ],
   "source": [
    "call_me_contract.caller()"
   ]
  },
  {
   "cell_type": "markdown",
   "metadata": {},
   "source": [
    "## Why does `ctx` being dynamic matter?\n",
    "Having `ctx` lets you create smart contracts that act as operators for users and other smart contracts. Because they are given their own identity, they are essentially the signers of their own function calls. This allows you to give them their own accounts, balances, ownerships, etc. to create structures that behave complexly and securely.\n",
    "\n",
    "Assume you have a bank smart contract. You want to keep everyone's balance inside of the main bank vault, but keep sub-accounts in their name. You don't want the bank to be able to spend someone else's money on their behalf, so you would check the `ctx.caller` to make sure it is the user, and not the bank itself.\n",
    "\n",
    "Let's make a token contract to demonstrate this idea."
   ]
  },
  {
   "cell_type": "code",
   "execution_count": 15,
   "metadata": {},
   "outputs": [],
   "source": [
    "def coin():\n",
    "    balances = Hash()\n",
    "    token_name = 'Stubucks'\n",
    "    token_symbol = 'SBX'\n",
    "    \n",
    "    @construct\n",
    "    def seed():\n",
    "        # Whoever creates this smart contract is minted 1,000,000 tokens\n",
    "        balances[ctx.caller] = 1000000\n",
    "        \n",
    "    @export\n",
    "    def transfer(amount, to):\n",
    "        # Make sure that the person calling this function has the amount they are trying to transfer\n",
    "        assert balances[ctx.caller] >= amount, \"You don't have enough to spend!\"\n",
    "        \n",
    "        # If so, deduct from their account and send to who they want to send to\n",
    "        balances[ctx.caller] -= amount\n",
    "        balances[to] += amount\n",
    "        \n",
    "    @export\n",
    "    def allow(amount, spender):\n",
    "        # This creates a 'subaccount' to allow the spender to transfer from our account a certain amount\n",
    "        balances[ctx.caller, spender] = amount\n",
    "        \n",
    "    @export\n",
    "    def spend_on_behalf(amount, owner, to):\n",
    "        # We make sure the subaccount has enough coins to spend\n",
    "        assert balances[owner, ctx.caller] >= amount, \"You can't spend that!\"\n",
    "        \n",
    "        # If so, deduct from the amount that the subaccount can spend\n",
    "        balances[owner, ctx.caller] -= amount\n",
    "        \n",
    "        # And then make the transfer\n",
    "        balances[owner] -= amount\n",
    "        balances[to] += amount\n",
    "        \n",
    "def bank():\n",
    "    import coin\n",
    "    \n",
    "    balances = Hash()\n",
    "    \n",
    "    @export\n",
    "    def deposit(amount):\n",
    "        # The bank spends the coins it is allowed to on itself. It takes it from the subaccount and give it to itself\n",
    "        # We don't need an assertion because this will fail\n",
    "        coin.spend_on_behalf(amount=amount, owner=ctx.caller, to=ctx.this)\n",
    "        \n",
    "        # The account that of whoever called the deposit function is incremented accordingly\n",
    "        balances[ctx.caller] += amount\n",
    "        \n",
    "    @export\n",
    "    def withdraw(amount):\n",
    "        # Make sure there is enough in the caller's account to withdraw\n",
    "        assert balances[ctx.caller] >= amount, \"You don't have enough in your account!\"\n",
    "        \n",
    "        # Deduct from the account\n",
    "        balances[ctx.caller] -= amount\n",
    "        \n",
    "        # Transfer the coins out to the caller\n",
    "        coin.transfer(amount=amount, to=ctx.caller)"
   ]
  },
  {
   "cell_type": "markdown",
   "metadata": {},
   "source": [
    "Here is the idea:\n",
    "\n",
    "1. You must allow a user to spend tokens on your behalf by calling the `allow` function.\n",
    "2. You can then deposit tokens into the bank by calling deposit after you have `allow`ed the bank to spend on your behalf.\n",
    "3. You can withdraw tokens from the bank if they belong to you. However, the bank is the one that has the token balance. You have a sub-balance.\n",
    "    \n",
    "Let's see if it works!"
   ]
  },
  {
   "cell_type": "code",
   "execution_count": 16,
   "metadata": {},
   "outputs": [
    {
     "data": {
      "text/plain": [
       "1000000"
      ]
     },
     "execution_count": 16,
     "metadata": {},
     "output_type": "execute_result"
    }
   ],
   "source": [
    "client.submit(coin)\n",
    "client.submit(bank)\n",
    "\n",
    "coin_contract = client.get_contract('coin')\n",
    "bank_contract = client.get_contract('bank')\n",
    "\n",
    "coin_contract.balances['stu'] # Check if things @construct'ed appropriately"
   ]
  },
  {
   "cell_type": "code",
   "execution_count": 17,
   "metadata": {},
   "outputs": [
    {
     "data": {
      "text/plain": [
       "['coin.__author__',\n",
       " 'coin.__code__',\n",
       " 'coin.__compiled__',\n",
       " 'coin.__type__',\n",
       " 'coin.balances:stu']"
      ]
     },
     "execution_count": 17,
     "metadata": {},
     "output_type": "execute_result"
    }
   ],
   "source": [
    "coin_contract.keys()"
   ]
  },
  {
   "cell_type": "code",
   "execution_count": 18,
   "metadata": {},
   "outputs": [
    {
     "name": "stdout",
     "output_type": "stream",
     "text": [
      "balances = Hash(contract='coin', name='balances')\n",
      "token_name = 'Stubucks'\n",
      "token_symbol = 'SBX'\n",
      "\n",
      "\n",
      "def ____():\n",
      "    balances[ctx.caller] = 1000000\n",
      "\n",
      "\n",
      "def transfer(amount, to):\n",
      "    assert balances[ctx.caller] >= amount, \"You don't have enough to spend!\"\n",
      "    balances[ctx.caller] -= amount\n",
      "    balances[to] += amount\n",
      "\n",
      "\n",
      "def allow(amount, spender):\n",
      "    balances[ctx.caller, spender] = amount\n",
      "\n",
      "\n",
      "def spend_on_behalf(amount, owner, to):\n",
      "    assert balances[owner, ctx.caller] >= amount, \"You can't spend that!\"\n",
      "    balances[owner, ctx.caller] -= amount\n",
      "    balances[owner] -= amount\n",
      "    balances[to] += amount\n",
      "\n"
     ]
    }
   ],
   "source": [
    "print(coin_contract.__code__)"
   ]
  },
  {
   "cell_type": "code",
   "execution_count": 19,
   "metadata": {},
   "outputs": [
    {
     "data": {
      "text/plain": [
       "10"
      ]
     },
     "execution_count": 19,
     "metadata": {},
     "output_type": "execute_result"
    }
   ],
   "source": [
    "coin_contract.transfer(amount=10, to='hi')\n",
    "coin_contract.balances['hi']"
   ]
  },
  {
   "cell_type": "code",
   "execution_count": 20,
   "metadata": {},
   "outputs": [
    {
     "data": {
      "text/plain": [
       "0"
      ]
     },
     "execution_count": 20,
     "metadata": {},
     "output_type": "execute_result"
    }
   ],
   "source": [
    "# Let's verify that the bank has no coins\n",
    "coin_contract.balances['bank']"
   ]
  },
  {
   "cell_type": "code",
   "execution_count": 21,
   "metadata": {},
   "outputs": [],
   "source": [
    "coin_contract.allow(amount=500, spender='bank')"
   ]
  },
  {
   "cell_type": "code",
   "execution_count": 22,
   "metadata": {},
   "outputs": [
    {
     "data": {
      "text/plain": [
       "500"
      ]
     },
     "execution_count": 22,
     "metadata": {},
     "output_type": "execute_result"
    }
   ],
   "source": [
    "coin_contract.balances['stu', 'bank'] # This is how you access a 'subaccount.' A nice feature of multihashes!"
   ]
  },
  {
   "cell_type": "code",
   "execution_count": 23,
   "metadata": {},
   "outputs": [
    {
     "data": {
      "text/plain": [
       "999990"
      ]
     },
     "execution_count": 23,
     "metadata": {},
     "output_type": "execute_result"
    }
   ],
   "source": [
    "coin_contract.balances['stu'] # Notice that it is not affecting the main account. It is just an allowance account."
   ]
  },
  {
   "cell_type": "code",
   "execution_count": 24,
   "metadata": {},
   "outputs": [],
   "source": [
    "bank_contract.deposit(amount=450) # This should modify our balance and give bank 450 coins. Let's check!"
   ]
  },
  {
   "cell_type": "code",
   "execution_count": 25,
   "metadata": {},
   "outputs": [
    {
     "name": "stdout",
     "output_type": "stream",
     "text": [
      "stu balance: 999540\n",
      "bank balance: 450\n",
      "bank allowance: 50\n"
     ]
    }
   ],
   "source": [
    "stu_balance = coin_contract.balances['stu']\n",
    "bank_balance = coin_contract.balances['bank']\n",
    "\n",
    "# This should only be 50, because 450 were spent on the bank's behalf.\n",
    "bank_allowance = coin_contract.balances['stu', 'bank']\n",
    "\n",
    "print('stu balance: {}\\nbank balance: {}\\nbank allowance: {}'.format(\n",
    "    stu_balance,\n",
    "    bank_balance,\n",
    "    bank_allowance\n",
    "))"
   ]
  },
  {
   "cell_type": "code",
   "execution_count": 26,
   "metadata": {},
   "outputs": [
    {
     "data": {
      "text/plain": [
       "450"
      ]
     },
     "execution_count": 26,
     "metadata": {},
     "output_type": "execute_result"
    }
   ],
   "source": [
    "bank_contract.balances['stu'] # Our account in the bank reflects the total"
   ]
  },
  {
   "cell_type": "markdown",
   "metadata": {},
   "source": [
    "## Adding another participant to the equation\n",
    "\n",
    "Now, let's transfer some coins to another account and do the same thing to see how the bank's total account value goes up and is the sum of all of the subaccounts from under it. We will also withdraw our coins from the bank and see them reappear in our balance on the coin contract."
   ]
  },
  {
   "cell_type": "code",
   "execution_count": 27,
   "metadata": {},
   "outputs": [],
   "source": [
    "# 'stu' will transfer some coins to 'raghu' to put in the bank.\n",
    "coin_contract.transfer(amount=5000, to='raghu')"
   ]
  },
  {
   "cell_type": "code",
   "execution_count": 28,
   "metadata": {},
   "outputs": [],
   "source": [
    "# Remember, the default signer on this client is 'stu' so we have to set it to 'raghu' to call a function from him.\n",
    "coin_contract.allow(amount=4000, spender='bank', signer='raghu')"
   ]
  },
  {
   "cell_type": "code",
   "execution_count": 29,
   "metadata": {},
   "outputs": [
    {
     "name": "stdout",
     "output_type": "stream",
     "text": [
      "raghu balance: 5000\n",
      "bank allowance for raghu: 4000\n"
     ]
    }
   ],
   "source": [
    "raghu_balance = coin_contract.balances['raghu']\n",
    "bank_raghu_allowance = coin_contract.balances['raghu', 'bank']\n",
    "\n",
    "print('raghu balance: {}\\nbank allowance for raghu: {}'.format(raghu_balance, bank_raghu_allowance))"
   ]
  },
  {
   "cell_type": "code",
   "execution_count": 30,
   "metadata": {},
   "outputs": [
    {
     "name": "stdout",
     "output_type": "stream",
     "text": [
      "You can't spend that!\n"
     ]
    }
   ],
   "source": [
    "# If raghu tries to deposit more than 4000, an error will occur\n",
    "try:\n",
    "    bank_contract.deposit(amount=4001, signer='raghu')\n",
    "except AssertionError as e:\n",
    "    print(e)"
   ]
  },
  {
   "cell_type": "code",
   "execution_count": 31,
   "metadata": {},
   "outputs": [],
   "source": [
    "# Less than 4000 or 4000 will do.\n",
    "bank_contract.deposit(amount=3999, signer='raghu')"
   ]
  },
  {
   "cell_type": "code",
   "execution_count": 32,
   "metadata": {},
   "outputs": [
    {
     "name": "stdout",
     "output_type": "stream",
     "text": [
      "raghu balance: 1001\n",
      "bank allowance for raghu: 1\n"
     ]
    }
   ],
   "source": [
    "# Updated balances\n",
    "raghu_balance = coin_contract.balances['raghu']\n",
    "bank_raghu_allowance = coin_contract.balances['raghu', 'bank']\n",
    "\n",
    "print('raghu balance: {}\\nbank allowance for raghu: {}'.format(raghu_balance, bank_raghu_allowance))"
   ]
  },
  {
   "cell_type": "code",
   "execution_count": 33,
   "metadata": {},
   "outputs": [
    {
     "name": "stdout",
     "output_type": "stream",
     "text": [
      "bank balance: 4449\n",
      "stu bank account: 450\n",
      "raghu bank account: 3999\n"
     ]
    }
   ],
   "source": [
    "# The bank will now have 450 + 3999 coins total, with two subaccounts.\n",
    "bank_balance = coin_contract.balances['bank']\n",
    "stu_bank_account = bank_contract.balances['stu']\n",
    "raghu_bank_account = bank_contract.balances['raghu']\n",
    "\n",
    "print('bank balance: {}\\nstu bank account: {}\\nraghu bank account: {}'.format(\n",
    "    bank_balance,\n",
    "    stu_bank_account,\n",
    "    raghu_bank_account\n",
    "))"
   ]
  },
  {
   "cell_type": "code",
   "execution_count": 34,
   "metadata": {},
   "outputs": [
    {
     "name": "stdout",
     "output_type": "stream",
     "text": [
      "You don't have enough in your account!\n"
     ]
    }
   ],
   "source": [
    "# If we try to withdraw more than our account balance from the bank, then we will have an AssertionError\n",
    "try:\n",
    "    bank_contract.withdraw(amount=500)\n",
    "except AssertionError as e:\n",
    "    print(e)"
   ]
  },
  {
   "cell_type": "code",
   "execution_count": 35,
   "metadata": {},
   "outputs": [
    {
     "name": "stdout",
     "output_type": "stream",
     "text": [
      "stu prior balance:994540\n",
      "stu after balance: 994640\n"
     ]
    }
   ],
   "source": [
    "stu_prior_balance = coin_contract.balances['stu']\n",
    "bank_contract.withdraw(amount=100)\n",
    "stu_after_balance = coin_contract.balances['stu']\n",
    "\n",
    "print('stu prior balance: {}\\nstu after balance: {}'.format(\n",
    "    stu_prior_balance,\n",
    "    stu_after_balance\n",
    "))"
   ]
  },
  {
   "cell_type": "markdown",
   "metadata": {},
   "source": [
    "Now that you understand the basics of the `ctx` object, you can create extremely robust smart contracts that pass around context. In the next section, we will learn more about the import system and multihashes to add even more capabilities to your smart contracts!"
   ]
  }
 ],
 "metadata": {
  "kernelspec": {
   "display_name": "Python 3",
   "language": "python",
   "name": "python3"
  },
  "language_info": {
   "codemirror_mode": {
    "name": "ipython",
    "version": 3
   },
   "file_extension": ".py",
   "mimetype": "text/x-python",
   "name": "python",
   "nbconvert_exporter": "python",
   "pygments_lexer": "ipython3",
   "version": "3.6.5"
  }
 },
 "nbformat": 4,
 "nbformat_minor": 2
}
