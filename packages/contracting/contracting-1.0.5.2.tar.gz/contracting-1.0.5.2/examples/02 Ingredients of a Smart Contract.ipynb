{
 "cells": [
  {
   "cell_type": "markdown",
   "metadata": {},
   "source": [
    "# What is inside a smart contract?\n",
    "\n",
    "Every smart contract has a set of methods that can be exposed to outside users, or kept internally for the operations of the smart contract. Each smart contract also has a data namespace on which it can read and write data too. Smart contracts can read data from other smart contracts, but they cannot write to other smart contracts."
   ]
  },
  {
   "cell_type": "code",
   "execution_count": 10,
   "metadata": {},
   "outputs": [],
   "source": [
    "def basic_contract():\n",
    "    # data section\n",
    "    owner = Variable()\n",
    "    balances = Hash(default_value=0)\n",
    "    \n",
    "    @construct\n",
    "    def seed():\n",
    "        owner.set('stuart')\n",
    "        balances['stuart'] = 1000000\n",
    "\n",
    "    @export\n",
    "    def mint(amount, to):\n",
    "        assert_is_owner()\n",
    "        \n",
    "        balances[to] += amount\n",
    "        \n",
    "    def assert_is_owner():\n",
    "        assert ctx.caller == owner.get(), 'You are not the owner! {} is!'.format(owner.get())\n",
    "        \n",
    "    @export\n",
    "    def send(amount, to):\n",
    "        assert balances[ctx.caller] >= amount, 'You do not have enough to send! {} is less than {}'.format(\n",
    "            balances[ctx.caller], amount\n",
    "        )\n",
    "        \n",
    "        balances[ctx.caller] -= amount\n",
    "        balances[to] += amount"
   ]
  },
  {
   "cell_type": "markdown",
   "metadata": {},
   "source": [
    "## Functions\n",
    "This looks like a lot to chew over, but let's go over it piece by piece. There are 3 types of functions:\n",
    "\n",
    "* @construct\n",
    "    \n",
    "    This function is run once on contract submission. It 'constructs' the initial state of the smart contract. Use this for setting initial variables. You can only have one @construct function, but you can call it whatever you want.\n",
    "    \n",
    "    \n",
    "* @export\n",
    "    \n",
    "    These functions are callable by outside users and other smart contracts. Therefore, you have to pay extra attention to the code you write in them. If @export functions do things that you do not want every user to do, you should put them in a private function, or add access control features.\n",
    "    \n",
    "    \n",
    "* everything else\n",
    "    \n",
    "    Any other function without a decorator is a private method that can only be called by the contract itself. These functions are good for complex contracts that need to abstract and reuse some logic over and over again. It also allows you to set apart the pieces of the smart contract logic between core controller code, and external interaction functions."
   ]
  },
  {
   "cell_type": "code",
   "execution_count": 14,
   "metadata": {},
   "outputs": [],
   "source": [
    "from contracting.client import ContractingClient\n",
    "client = ContractingClient(signer='stuart')"
   ]
  },
  {
   "cell_type": "code",
   "execution_count": 15,
   "metadata": {},
   "outputs": [],
   "source": [
    "client.submit(basic_contract)\n",
    "contract = client.get_contract('basic_contract')"
   ]
  },
  {
   "cell_type": "markdown",
   "metadata": {},
   "source": [
    "Because @constructor sets `stuart`'s balance to 1,000,000, we can access the variable directly from our contract object to check."
   ]
  },
  {
   "cell_type": "code",
   "execution_count": 22,
   "metadata": {},
   "outputs": [
    {
     "data": {
      "text/plain": [
       "1000000"
      ]
     },
     "execution_count": 22,
     "metadata": {},
     "output_type": "execute_result"
    }
   ],
   "source": [
    "contract.balances['stuart']"
   ]
  },
  {
   "cell_type": "markdown",
   "metadata": {},
   "source": [
    "Because `mint` is an @export function, we can call it from the outside. Remember, the `client` was initialized with the `signer` equal to `stuart`."
   ]
  },
  {
   "cell_type": "code",
   "execution_count": 21,
   "metadata": {},
   "outputs": [
    {
     "data": {
      "text/plain": [
       "20000"
      ]
     },
     "execution_count": 21,
     "metadata": {},
     "output_type": "execute_result"
    }
   ],
   "source": [
    "contract.mint(amount=10000, to='raghu')\n",
    "contract.balances['raghu']"
   ]
  },
  {
   "cell_type": "markdown",
   "metadata": {},
   "source": [
    "If we override the signer keyword to someone who is `not_stuart`, the function will fail because of the assertation. The internal function is called here."
   ]
  },
  {
   "cell_type": "code",
   "execution_count": 18,
   "metadata": {},
   "outputs": [
    {
     "name": "stdout",
     "output_type": "stream",
     "text": [
      "You are not the owner! stuart is!\n"
     ]
    }
   ],
   "source": [
    "try:\n",
    "    contract.mint(amount=500, to='raghu', signer='not_stuart')\n",
    "except AssertionError as e:\n",
    "    print(e)"
   ]
  },
  {
   "cell_type": "markdown",
   "metadata": {},
   "source": [
    "However, if you try to access the function normally (and remember to prepend the `__` before it), you can see that the function is not available to us to call."
   ]
  },
  {
   "cell_type": "code",
   "execution_count": 28,
   "metadata": {},
   "outputs": [
    {
     "name": "stdout",
     "output_type": "stream",
     "text": [
      "module 'basic_contract' has no attribute '__assert_is_owner'\n"
     ]
    }
   ],
   "source": [
    "try:\n",
    "    contract.__assert_is_owner()\n",
    "except Exception as e:\n",
    "    print(e)"
   ]
  },
  {
   "cell_type": "markdown",
   "metadata": {},
   "source": [
    "## Data\n",
    "You will also notice a `Variable` object and `Hash` object initialized in the beginning of the smart contract. These are data variables that are used to store data on the smart contract. You cannot modify these variables directly. Instead, the @export functions you write determine how data is modified in these variables. This allows you to create extremely robust and secure data models for your application.\n",
    "\n",
    "There are also `ForeignVariable` and `ForeignHash` objects. These are 'read-only' variables that allow your smart contract to import the namespace of another smart contract for internal use, but prevents writing to them. For example, your function might only pass given certain conditions on another smart contract that it is watching. Foreign varibles would be used in this case.\n",
    "\n",
    "The Contracting client exposes these variables into Python objects and *does* allow modification. This is so that the developer can test various situations more easily. It does not reflect how users will be able to modify data in a smart contract namespace."
   ]
  },
  {
   "cell_type": "code",
   "execution_count": 37,
   "metadata": {},
   "outputs": [],
   "source": [
    "def data_contract():\n",
    "    basic_contract_owner = ForeignVariable(foreign_contract='basic_contract', foreign_name='owner')\n",
    "    \n",
    "    variable = Variable()\n",
    "    hash_ = Hash()\n",
    "    \n",
    "    # Demonstration of returning a value in another smart contract's namespace\n",
    "    @export\n",
    "    def whos_the_owner():\n",
    "        return basic_contract_owner.get()\n",
    "    \n",
    "    @export\n",
    "    def set_var(x):\n",
    "        variable.set(x)\n",
    "        \n",
    "    @export\n",
    "    def set_hash(k, v):\n",
    "        hash_[k] = v"
   ]
  },
  {
   "cell_type": "code",
   "execution_count": 38,
   "metadata": {},
   "outputs": [],
   "source": [
    "client.submit(data_contract)\n",
    "d_contract = client.get_contract('data_contract')"
   ]
  },
  {
   "cell_type": "markdown",
   "metadata": {},
   "source": [
    "#### Read the Foreign Variable"
   ]
  },
  {
   "cell_type": "code",
   "execution_count": 39,
   "metadata": {},
   "outputs": [
    {
     "data": {
      "text/plain": [
       "'stuart'"
      ]
     },
     "execution_count": 39,
     "metadata": {},
     "output_type": "execute_result"
    }
   ],
   "source": [
    "d_contract.whos_the_owner()"
   ]
  },
  {
   "cell_type": "markdown",
   "metadata": {},
   "source": [
    "#### Set the Variable via Smart Contract and via Client"
   ]
  },
  {
   "cell_type": "code",
   "execution_count": 44,
   "metadata": {},
   "outputs": [
    {
     "data": {
      "text/plain": [
       "1000"
      ]
     },
     "execution_count": 44,
     "metadata": {},
     "output_type": "execute_result"
    }
   ],
   "source": [
    "d_contract.set_var(x=1000)\n",
    "d_contract.variable.get()"
   ]
  },
  {
   "cell_type": "code",
   "execution_count": 45,
   "metadata": {},
   "outputs": [
    {
     "data": {
      "text/plain": [
       "123"
      ]
     },
     "execution_count": 45,
     "metadata": {},
     "output_type": "execute_result"
    }
   ],
   "source": [
    "d_contract.set_var(x=123)\n",
    "d_contract.variable.get()"
   ]
  },
  {
   "cell_type": "code",
   "execution_count": 46,
   "metadata": {},
   "outputs": [
    {
     "data": {
      "text/plain": [
       "555"
      ]
     },
     "execution_count": 46,
     "metadata": {},
     "output_type": "execute_result"
    }
   ],
   "source": [
    "# Overriding our method to modify the variable directly\n",
    "d_contract.variable.set(555)\n",
    "d_contract.variable.get()"
   ]
  },
  {
   "cell_type": "markdown",
   "metadata": {},
   "source": [
    "#### Set the Hash via Smart Contract and via Client"
   ]
  },
  {
   "cell_type": "code",
   "execution_count": 52,
   "metadata": {},
   "outputs": [
    {
     "data": {
      "text/plain": [
       "'world'"
      ]
     },
     "execution_count": 52,
     "metadata": {},
     "output_type": "execute_result"
    }
   ],
   "source": [
    "d_contract.set_hash(k='hello', v='world')\n",
    "d_contract.hash_['hello']"
   ]
  },
  {
   "cell_type": "code",
   "execution_count": 53,
   "metadata": {},
   "outputs": [
    {
     "data": {
      "text/plain": [
       "'there'"
      ]
     },
     "execution_count": 53,
     "metadata": {},
     "output_type": "execute_result"
    }
   ],
   "source": [
    "d_contract.hash_['hello'] = 'there'\n",
    "d_contract.hash_['hello']"
   ]
  },
  {
   "cell_type": "markdown",
   "metadata": {},
   "source": [
    "### Behavior Note\n",
    "\n",
    "Variables and hashes only take up space in the database if they are initialized. Therefore, you cannot access a hash that has no values. Because you cannot access this hash (or variable), you cannot manually set values on it either. Make sure that you always either @construct your variables, or provide methods in your smart contract to interact with them."
   ]
  },
  {
   "cell_type": "code",
   "execution_count": 56,
   "metadata": {},
   "outputs": [],
   "source": [
    "def variable_behavior():\n",
    "    invisible_variable = Variable()\n",
    "    \n",
    "    @export\n",
    "    def do_nothing():\n",
    "        return 0"
   ]
  },
  {
   "cell_type": "code",
   "execution_count": 57,
   "metadata": {},
   "outputs": [],
   "source": [
    "client.submit(variable_behavior)\n",
    "v_contract = client.get_contract('variable_behavior')"
   ]
  },
  {
   "cell_type": "code",
   "execution_count": 59,
   "metadata": {},
   "outputs": [
    {
     "name": "stdout",
     "output_type": "stream",
     "text": [
      "'AbstractContract' object has no attribute 'invisible_variable'\n"
     ]
    }
   ],
   "source": [
    "try:\n",
    "    v_contract.invisible_variable\n",
    "except AttributeError as e:\n",
    "    print(e)"
   ]
  }
 ],
 "metadata": {
  "kernelspec": {
   "display_name": "Python 3",
   "language": "python",
   "name": "python3"
  },
  "language_info": {
   "codemirror_mode": {
    "name": "ipython",
    "version": 3
   },
   "file_extension": ".py",
   "mimetype": "text/x-python",
   "name": "python",
   "nbconvert_exporter": "python",
   "pygments_lexer": "ipython3",
   "version": "3.6.5"
  }
 },
 "nbformat": 4,
 "nbformat_minor": 2
}
