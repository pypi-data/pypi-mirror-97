{
 "cells": [
  {
   "cell_type": "markdown",
   "metadata": {},
   "source": [
    "# Imports and Advanced Data Storage\n",
    "To add even more functionality to smart contracts, you can import the exported functions of other smart contracts. You can also store complex data in the form of Python objects, which is useful for storing things like lists, tuples, and dates. Here's how."
   ]
  },
  {
   "cell_type": "code",
   "execution_count": 10,
   "metadata": {},
   "outputs": [],
   "source": [
    "def import_this():\n",
    "    @export\n",
    "    def dumb_func():\n",
    "        return 4\n",
    "    \n",
    "def to_import():\n",
    "    import import_this\n",
    "    @export\n",
    "    def dumber_func():\n",
    "        return import_this.dumb_func()"
   ]
  },
  {
   "cell_type": "code",
   "execution_count": 11,
   "metadata": {},
   "outputs": [],
   "source": [
    "from contracting.client import ContractingClient\n",
    "client = ContractingClient(signer='stu')\n",
    "client.flush()\n",
    "client.submit(import_this)\n",
    "client.submit(to_import)"
   ]
  },
  {
   "cell_type": "code",
   "execution_count": 12,
   "metadata": {},
   "outputs": [
    {
     "data": {
      "text/plain": [
       "4"
      ]
     },
     "execution_count": 12,
     "metadata": {},
     "output_type": "execute_result"
    }
   ],
   "source": [
    "ti_contract = client.get_contract('to_import')\n",
    "ti_contract.dumber_func()"
   ]
  },
  {
   "cell_type": "markdown",
   "metadata": {},
   "source": [
    "Easy! Notice that you can only import entire contracts. You cannot use `from a import b` notation to import just a singular function from a smart contract. Furthermore, dynamic imports will be added at a later time to allow importing a contract by name that can be used as an argument."
   ]
  },
  {
   "cell_type": "markdown",
   "metadata": {},
   "source": [
    "## Advanced Data\n",
    "Imagine a game where you can buy or sell pixels. Each pixel has an X and a Y coordinate. At each pixel, we want to store the owner, the price, and the color. While this might sound complicated, it is actually extremely straight forward to do.\n",
    "\n",
    "All `Hash` objects have the ability to store up to 16 dimensions of information in a key that a max of 1024 bytes in size. The stored object is just JSON using the standard Python JSON encoder and decoder, so you can store things such as lists, sets, etc. At this point in time, there is no limit on how large the value for a key can be, but it will be capped in the future. The current floating figure is 256 bytes to 1024 bytes, so design your contracts accordingly.\n",
    "\n",
    "Unlike normal Python dictionaries, which `Hash` objects are similar to, you can add different dimensions to your `Hash` object without an issue. For example:\n",
    "\n",
    "```\n",
    "h = Hash()\n",
    "h['one'] = 15\n",
    "h['one', 'two'] = 20\n",
    "h['two'] = 25\n",
    "h['a', 'b', 'c', 'd', 'e', 'f', 'g'] = 6\n",
    "```\n",
    "\n",
    "Let's try to build that pixel application."
   ]
  },
  {
   "cell_type": "code",
   "execution_count": 4,
   "metadata": {},
   "outputs": [],
   "source": [
    "def coin():\n",
    "    balances = Hash(default_value=0)\n",
    "    token_name = 'Stubucks'\n",
    "    token_symbol = 'SBX'\n",
    "    \n",
    "    @construct\n",
    "    def seed():\n",
    "        # Whoever creates this smart contract is minted 1,000,000 tokens\n",
    "        balances[ctx.caller] = 1000000\n",
    "        \n",
    "    @export\n",
    "    def transfer(amount, to):\n",
    "        # Make sure that the person calling this function has the amount they are trying to transfer\n",
    "        assert balances[ctx.caller] >= amount, \"You don't have enough to spend!\"\n",
    "        \n",
    "        # If so, deduct from their account and send to who they want to send to\n",
    "        balances[ctx.caller] -= amount\n",
    "        balances[to] += amount\n",
    "        \n",
    "    @export\n",
    "    def allow(amount, spender):\n",
    "        # This creates a 'subaccount' to allow the spender to transfer from our account a certain amount\n",
    "        balances[ctx.caller, spender] = amount\n",
    "        \n",
    "    @export\n",
    "    def spend_on_behalf(amount, owner, to):\n",
    "        # We make sure the subaccount has enough coins to spend\n",
    "        assert balances[owner, ctx.caller] >= amount, \"You can't spend that!\"\n",
    "        \n",
    "        # If so, deduct from the amount that the subaccount can spend\n",
    "        balances[owner, ctx.caller] -= amount\n",
    "        \n",
    "        # And then make the transfer\n",
    "        balances[owner] -= amount\n",
    "        balances[to] += amount\n",
    "\n",
    "def pixel_game():\n",
    "    import coin\n",
    "    \n",
    "    # We set the default value of dictionary values to None for testing if they exist\n",
    "    pixels = Hash(default_value=None)\n",
    "    \n",
    "    # These constants can never be changed. If you want mutable variables, use Variable objects and provide getters\n",
    "    # and setters.\n",
    "    max_x = 256\n",
    "    max_y = 256\n",
    "    \n",
    "    # Just a palette to simplify this\n",
    "    color_min = 0\n",
    "    color_max = 16\n",
    "    \n",
    "    @export\n",
    "    def buy_pixel(x, y, color, amount):\n",
    "        assert x < max_x and x >= 0, 'X out of bounds!'\n",
    "        assert y < max_y and y >= 0, 'Y out of bounds!'\n",
    "        \n",
    "        assert color < color_max and color >= color_min, 'Color is out of bounds!'\n",
    "        \n",
    "        # If we make it to here, we can access the pixel.\n",
    "        pixel = pixels[x, y]\n",
    "        \n",
    "        # If it is None, it's never been bought before, so we can buy it outright\n",
    "        if pixel is None:\n",
    "            # Take the coins and store it in the pixel game's account\n",
    "            overwrite_pixel(x, y, color, amount, ctx.caller)\n",
    "            \n",
    "        else:\n",
    "            # Otherwise, the pixel is a dictionary, so we can access it like such\n",
    "            assert amount > pixel['amount'], 'You must pay at least {} to purchase.'.format(pixel['amount'])\n",
    "            overwrite_pixel(x, y, color, amount, ctx.caller)\n",
    "            \n",
    "    def overwrite_pixel(x, y, color, amount, owner):\n",
    "        coin.spend_on_behalf(amount=amount, owner=ctx.caller, to=ctx.this)\n",
    "            \n",
    "        pixels.set[x, y] = {\n",
    "            'owner': owner,\n",
    "            'amount': amount,\n",
    "            'color': color\n",
    "        }\n"
   ]
  },
  {
   "cell_type": "markdown",
   "metadata": {},
   "source": [
    "To keep things simple, let's just assume that we can buy pixels. If you see `overwrite_pixel`, you'll notice that we are setting the X and Y coordinates to a Python dictionary rather than just a primitive type. When we access the database again to pull it out, it is decoded into a Python dictionary again, so you can access it like how you are used to.\n",
    "\n",
    "Let's try to buy a pixel!"
   ]
  },
  {
   "cell_type": "code",
   "execution_count": 5,
   "metadata": {},
   "outputs": [],
   "source": [
    "client.submit(coin)\n",
    "client.submit(pixel_game)"
   ]
  },
  {
   "cell_type": "code",
   "execution_count": 6,
   "metadata": {},
   "outputs": [],
   "source": [
    "coin_contract = client.get_contract('coin')\n",
    "pixel_contract = client.get_contract('pixel_game')"
   ]
  },
  {
   "cell_type": "code",
   "execution_count": 7,
   "metadata": {},
   "outputs": [
    {
     "data": {
      "text/plain": [
       "1000000"
      ]
     },
     "execution_count": 7,
     "metadata": {},
     "output_type": "execute_result"
    }
   ],
   "source": [
    "coin_contract.balances['stu'] # Let's make sure we have the coins to make a pixel purchase."
   ]
  },
  {
   "cell_type": "code",
   "execution_count": 8,
   "metadata": {},
   "outputs": [],
   "source": [
    "coin_contract.allow(amount=1, spender='pixel_game')\n",
    "pixel_contract.buy_pixel(x=10, y=10, color=5, amount=1)"
   ]
  },
  {
   "cell_type": "code",
   "execution_count": 9,
   "metadata": {},
   "outputs": [
    {
     "data": {
      "text/plain": [
       "999999"
      ]
     },
     "execution_count": 9,
     "metadata": {},
     "output_type": "execute_result"
    }
   ],
   "source": [
    "coin_contract.balances['stu'] # The balance has deducted properly"
   ]
  },
  {
   "cell_type": "code",
   "execution_count": 10,
   "metadata": {},
   "outputs": [
    {
     "data": {
      "text/plain": [
       "{'owner': 'stu', 'amount': 1, 'color': 5}"
      ]
     },
     "execution_count": 10,
     "metadata": {},
     "output_type": "execute_result"
    }
   ],
   "source": [
    "pixel_contract.pixels[10, 10] # Now we can access the information and recieve the dictionary back"
   ]
  },
  {
   "cell_type": "code",
   "execution_count": 11,
   "metadata": {},
   "outputs": [
    {
     "data": {
      "text/plain": [
       "dict"
      ]
     },
     "execution_count": 11,
     "metadata": {},
     "output_type": "execute_result"
    }
   ],
   "source": [
    "type(pixel_contract.pixels[10, 10]) # Proof the dictionary is in fact a dictionary!"
   ]
  }
 ],
 "metadata": {
  "kernelspec": {
   "display_name": "Python 3",
   "language": "python",
   "name": "python3"
  },
  "language_info": {
   "codemirror_mode": {
    "name": "ipython",
    "version": 3
   },
   "file_extension": ".py",
   "mimetype": "text/x-python",
   "name": "python",
   "nbconvert_exporter": "python",
   "pygments_lexer": "ipython3",
   "version": "3.6.5"
  }
 },
 "nbformat": 4,
 "nbformat_minor": 2
}
