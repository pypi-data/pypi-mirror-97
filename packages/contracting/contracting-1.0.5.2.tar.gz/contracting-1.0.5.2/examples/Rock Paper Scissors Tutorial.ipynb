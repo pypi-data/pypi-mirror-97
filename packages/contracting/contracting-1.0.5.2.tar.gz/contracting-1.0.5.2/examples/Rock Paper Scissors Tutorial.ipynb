{
 "cells": [
  {
   "cell_type": "markdown",
   "metadata": {},
   "source": [
    "# Rock Paper Scissors"
   ]
  },
  {
   "cell_type": "markdown",
   "metadata": {},
   "source": [
    "In this tutorial you will learn how to build a Lamden smart contract for the classic game Rock, Paper, Scissors. Through this contract, two players can play Rock, Paper, Scissors over the Lamden Blockchain. "
   ]
  },
  {
   "cell_type": "markdown",
   "metadata": {},
   "source": [
    "This is an advanced example. Please make sure you have gone over the previous examples before this one so you have a better understanding of contracting as a whole. "
   ]
  },
  {
   "cell_type": "markdown",
   "metadata": {},
   "source": [
    "### Important Disclaimer:\n",
    "This is an example smart contract. It is not production ready. It needs more tests. It also does not address certain timing edge cases. For example a user can just not reveal their choice and stall a game forever. The solution is left as an exercise for you. It is important when building a smart contract that you think of all edge cases and test heavily before deploying it to the blockchain. "
   ]
  },
  {
   "cell_type": "markdown",
   "metadata": {},
   "source": [
    "First let's import some things we will need later."
   ]
  },
  {
   "cell_type": "code",
   "execution_count": 1,
   "metadata": {},
   "outputs": [],
   "source": [
    "from contracting.stdlib.bridge.hashing import sha3\n",
    "from contracting.client import ContractingClient\n",
    "import secrets"
   ]
  },
  {
   "cell_type": "markdown",
   "metadata": {},
   "source": [
    "Below is the function `rps_contract` containing the entire Rock, Paper, Scissors contract. It is never run as a Python function. Instead contracting extracts constructor, storage variables, public and private functions from it when it is submitted to the blockchain. We recomend reading on below the contract and then investigating the contract functions when they are being called."
   ]
  },
  {
   "cell_type": "code",
   "execution_count": 2,
   "metadata": {},
   "outputs": [],
   "source": [
    "def rps_contract():\n",
    "    # This tells the blockchain to make space for data. Variable and Hash are not Python builtins. \n",
    "    # They are globals (globals are something you can access without importing it) made available by contracting. \n",
    "    # Calling Variable() creates a new piece of memory within the blockchain, that can hold a single value. \n",
    "    # If we say \"foo = Variable()\" then we can interact with that piece of memory through \"foo\". \n",
    "    # We can set the piece of memory to 1, for example by calling \"foo.set(1)\".\n",
    "    # Setting the value will change the value for the next call to the smart contract.\n",
    "    # We can get the piece of memory by calling \"foo.get()\".\n",
    "    next_game_id = Variable()\n",
    "    \n",
    "    game_id_to_password_hash = Hash()\n",
    "    \n",
    "    game_id_to_player1_choice_hash = Hash()\n",
    "    game_id_to_player2_choice_hash = Hash()\n",
    "    \n",
    "    game_id_to_player1_choice = Hash()\n",
    "    game_id_to_player2_choice = Hash()\n",
    "            \n",
    "    # @construct means that this is the function that will be called ONCE when the smart contract is created\n",
    "    @construct\n",
    "    def constructor():\n",
    "        # Game id starts at 0.\n",
    "        next_game_id.set(0)\n",
    "        \n",
    "    # @export makes this function public, so it can be called by anyone on a deployed contract.\n",
    "    # By calling start_game player1 creates a game and also submits their hashed and salted choice.\n",
    "    @export\n",
    "    def start_game(password_hash, player1_choice_hash):\n",
    "        # This retrieves unique game Id from the blockchain. \n",
    "        unique_game_id = next_game_id.get()\n",
    "        \n",
    "        assert get_game_state(unique_game_id) == \"game_doesnt_exist\", \"this is a bug in the contract. new game id already exists\"\n",
    "        \n",
    "        # This increments the number by 1, so the next game has a unique Id.\n",
    "        next_game_id.set(next_game_id.get() + 1)       \n",
    "        \n",
    "        # Hash throws error on integer keys. That's why we convert to a string\n",
    "        # Remember player1 choice hash, and password hash for this game. \n",
    "        game_id_to_password_hash[str(unique_game_id)] = password_hash\n",
    "\n",
    "        game_id_to_player1_choice_hash[str(unique_game_id)] = player1_choice_hash\n",
    "        \n",
    "        # assert get_game_state(unique_game_id) == \"only_player1_submitted\", \"this is a bug in the contract. after starting a new game only player 1 must have submitted\"\n",
    "        \n",
    "        return unique_game_id\n",
    "    \n",
    "    # By calling submit_choice player2 submits their hashed and salted choice.\n",
    "    @export\n",
    "    def submit_choice(game_id, game_password, player2_choice_hash):\n",
    "        assert get_game_state(game_id) == \"only_player1_submitted\", \"submit_choice can only be called if only player 1 has submitted their choice\"\n",
    "\n",
    "        # Check that this is the right password for the game.\n",
    "        assert hashlib.sha3(game_password) == game_id_to_password_hash[str(game_id)], 'Wrong password!'\n",
    "        \n",
    "        # Remember player2's choice.\n",
    "        game_id_to_player2_choice_hash[str(game_id)] = player2_choice_hash\n",
    "        \n",
    "        assert get_game_state(game_id) == \"both_players_submitted\", \"this is a bug in the contract. after submitting player2 choice both players must have submitted\"\n",
    "        \n",
    "        return\n",
    "    \n",
    "    # Returns 'player1_wins' if player1 is the winner.\n",
    "    # Returns 'player2_wins' if player2 is the winner.\n",
    "    # Returns 'tie' if both players made the same choice.\n",
    "    # Returns 'game_doesnt_exist' if the game doesn't exist\n",
    "    # Returns 'player1_has_submitted' if the game has been started and only player1 has submitted their choice\n",
    "    # Returns 'both_players_have_submitted' if both players have submitted but none has revealed their choice\n",
    "    # Returns 'only_player1_revealed' after player1 but not player2 has revealed their choice\n",
    "    # Returns 'only_player2_revealed' after player2 but not player1 has revealed their choice\n",
    "    \n",
    "    @export\n",
    "    def get_game_state(game_id):\n",
    "        if next_game_id.get() <= game_id:\n",
    "            return \"game_doesnt_exist\"\n",
    "        \n",
    "        player1_hashed_choice = game_id_to_player1_choice_hash[str(game_id)]\n",
    "        player2_hashed_choice = game_id_to_player2_choice_hash[str(game_id)]\n",
    "\n",
    "        if player1_hashed_choice is not None and player2_hashed_choice is None:\n",
    "            return \"only_player1_submitted\"\n",
    "        \n",
    "        player1_choice = game_id_to_player1_choice[str(game_id)]\n",
    "        player2_choice = game_id_to_player2_choice[str(game_id)]\n",
    "              \n",
    "        if player1_hashed_choice is not None and player2_hashed_choice is not None and player1_choice is None and player2_choice is None:\n",
    "            return \"both_players_submitted\"\n",
    "        \n",
    "        assert player1_hashed_choice is not None and player2_hashed_choice is not None, \"this is a bug in the contract. error code 1\"\n",
    "        # For the rest of the function we know that both players have submitted their choices \n",
    "        # and one player has revealed their choice\n",
    "        \n",
    "        if player1_choice is not None and player2_choice is None:\n",
    "            return \"only_player1_revealed\"\n",
    "        \n",
    "        if player1_choice is None and player2_choice is not None:\n",
    "            return \"only_player2_revealed\"\n",
    "        \n",
    "        # Make sure that both players have submitted their choices\n",
    "        assert player1_choice is not None and player2_choice is not None, \"this is a bug in the contract. error code 2\"\n",
    "        # For the rest of the function we know that both players have submitted their choices\n",
    "        \n",
    "        # Now that we have both choices we can resolve the game\n",
    "        \n",
    "        if player1_choice == player2_choice:\n",
    "            return \"tie\"\n",
    "\n",
    "        if beats(player1_choice, player2_choice):\n",
    "            return \"player1_wins\"\n",
    "        \n",
    "        if beats(player2_choice, player1_choice):\n",
    "            return \"player2_wins\"\n",
    "        \n",
    "    @export\n",
    "    def is_valid_choice(choice):\n",
    "        return choice in [\"rock\", \"paper\", \"scissors\"]\n",
    "      \n",
    "    # Returns whether choice1 beats choice2\n",
    "    @export\n",
    "    def beats(choice1, choice2):\n",
    "        assert is_valid_choice(choice1), \"choice1 must be a valid choice\"\n",
    "        assert is_valid_choice(choice2), \"choice2 must be a valid choice\"\n",
    "\n",
    "        if choice1 == \"rock\" and choice2 == \"scissors\":\n",
    "            return True\n",
    "        \n",
    "        if choice1 == \"paper\" and choice2 == \"rock\":\n",
    "            return True\n",
    "        \n",
    "        if choice1 == \"scissors\" and choice2 == \"paper\":\n",
    "            return True\n",
    "        \n",
    "        return False\n",
    "    \n",
    "    # By calling reveal a player can reveal their unhashed choice.\n",
    "    # Player1 has to call the function with is_player1=true.\n",
    "    # Player2 has to call the function with is_player1=false.\n",
    "    @export\n",
    "    def reveal(game_id, choice, choice_salt, is_player1):\n",
    "        if is_player1:\n",
    "            assert get_game_state(game_id) in [\"both_players_submitted\", \"only_player2_revealed\"], \"reveal can only be called by player1 if no player or only player2 has revealed\"\n",
    "        else:\n",
    "            assert get_game_state(game_id) in [\"both_players_submitted\", \"only_player1_revealed\"], \"reveal can only be called by player2 if no player or only player1 has revealed\"\n",
    "        \n",
    "        # Make sure players can only reveal valid choices\n",
    "        assert is_valid_choice(choice), \"choice must be rock, paper or scissors\"\n",
    "                \n",
    "        # Now we need to check that the reveal hashes to what was submitted earlier\n",
    "        \n",
    "        salted_choice = choice + choice_salt\n",
    "        hashed_choice = hashlib.sha3(salted_choice)\n",
    "        \n",
    "        if is_player1:\n",
    "            assert game_id_to_player1_choice_hash[str(game_id)] == hashed_choice, \"Player 1 has revealed a choice different from what they submitted\"\n",
    "        else:\n",
    "            assert game_id_to_player2_choice_hash[str(game_id)] == hashed_choice, \"Player 2 has revealed a choice different from what they submitted\"\n",
    "            \n",
    "        # Now we're sure that the player has revealed the choice they have previously submitted the hashed salted version of\n",
    "        \n",
    "        # Remember the choice\n",
    "        if is_player1:\n",
    "            game_id_to_player1_choice[str(game_id)] = choice\n",
    "        else:\n",
    "            game_id_to_player2_choice[str(game_id)] = choice\n",
    "        \n",
    "        return"
   ]
  },
  {
   "cell_type": "markdown",
   "metadata": {},
   "source": [
    "Welcome back! Lets get this contract into the blockchain. To interact with the blockchain we need a client. "
   ]
  },
  {
   "cell_type": "code",
   "execution_count": 4,
   "metadata": {},
   "outputs": [],
   "source": [
    "client = ContractingClient(signer='ren')"
   ]
  },
  {
   "cell_type": "markdown",
   "metadata": {},
   "source": [
    "Get rid of all state of the blockchain so we have a blank slate. Otherwise running this script twice causes problems. "
   ]
  },
  {
   "cell_type": "code",
   "execution_count": 5,
   "metadata": {},
   "outputs": [],
   "source": [
    "client.flush()"
   ]
  },
  {
   "cell_type": "markdown",
   "metadata": {},
   "source": [
    "Now we submit the contract to the blockchain. `client.submit` doesn't run the function `rps_contract` but examines it, and extracts its public functions, state variables, ..."
   ]
  },
  {
   "cell_type": "code",
   "execution_count": 6,
   "metadata": {},
   "outputs": [],
   "source": [
    "client.submit(rps_contract)"
   ]
  },
  {
   "cell_type": "markdown",
   "metadata": {},
   "source": [
    "Get a handle for the contract that we can interact with."
   ]
  },
  {
   "cell_type": "code",
   "execution_count": 7,
   "metadata": {},
   "outputs": [],
   "source": [
    "contract = client.get_contract('rps_contract')"
   ]
  },
  {
   "cell_type": "markdown",
   "metadata": {},
   "source": [
    "With the contract in the blockchain we can now play Rock, Paper, Scissors. Our players for this example are Alice and Bob."
   ]
  },
  {
   "cell_type": "markdown",
   "metadata": {},
   "source": [
    "Alice (player 1) chooses single use password. Only the person that has the password can join the game and play with Alice. Everything that starts with alice_ is only visible to Alice. "
   ]
  },
  {
   "cell_type": "code",
   "execution_count": 8,
   "metadata": {},
   "outputs": [],
   "source": [
    "alice_game_password = \"trollbridge\""
   ]
  },
  {
   "cell_type": "markdown",
   "metadata": {},
   "source": [
    "Alice hashes the password so she can submit it to the blockchain without sharing the actual password. She does this because everything on the blockchain is public, and she wants only the person she chooses to play the game with to have the password. "
   ]
  },
  {
   "cell_type": "code",
   "execution_count": 9,
   "metadata": {},
   "outputs": [
    {
     "data": {
      "text/plain": [
       "'47a5bcfb0d81053f5025ab57e6b94f43751f91bdb16fc0d63595223dc78ec1b4'"
      ]
     },
     "execution_count": 9,
     "metadata": {},
     "output_type": "execute_result"
    }
   ],
   "source": [
    "alice_game_password_hash = sha3(alice_game_password)\n",
    "alice_game_password_hash"
   ]
  },
  {
   "cell_type": "markdown",
   "metadata": {},
   "source": [
    "Alice chooses rock."
   ]
  },
  {
   "cell_type": "code",
   "execution_count": 10,
   "metadata": {},
   "outputs": [],
   "source": [
    "alice_choice = \"rock\""
   ]
  },
  {
   "cell_type": "markdown",
   "metadata": {},
   "source": [
    "We can't submit the choice to the blockchain as plain text, because then Bob (player 2) can see it and win by choosing paper. "
   ]
  },
  {
   "cell_type": "code",
   "execution_count": 11,
   "metadata": {},
   "outputs": [
    {
     "data": {
      "text/plain": [
       "'bd996e2dc82a7c3e2c2da41291648e852b62b01fb09bcb6ed77975c273f08404'"
      ]
     },
     "execution_count": 11,
     "metadata": {},
     "output_type": "execute_result"
    }
   ],
   "source": [
    "alice_choice_hash = sha3(alice_choice)\n",
    "alice_choice_hash"
   ]
  },
  {
   "cell_type": "markdown",
   "metadata": {},
   "source": [
    "The problem with submitting Alices choice like this is the 3 choices will be hashed the same every time. Bob (player 2) can know what each of the hashes for the 3 choices and pick paper to win. To fix this Alice needs to pick a random salt to hash with her choice so that Bob can't guess her choice by looking at the hash."
   ]
  },
  {
   "cell_type": "code",
   "execution_count": 12,
   "metadata": {},
   "outputs": [
    {
     "data": {
      "text/plain": [
       "'88ceef7a2c748432d5a150fcff5df717c8a67298365ae2e1969be4ee856ce39e'"
      ]
     },
     "execution_count": 12,
     "metadata": {},
     "output_type": "execute_result"
    }
   ],
   "source": [
    "alice_choice_salt = secrets.token_hex(32)\n",
    "alice_choice_salt"
   ]
  },
  {
   "cell_type": "markdown",
   "metadata": {},
   "source": [
    "Now we can combine alice_choice and alice_choice_salt and hash them together to create something that Bob can't guess Alices choice from. But Alice can later submit her choice and the salt to prove her choice."
   ]
  },
  {
   "cell_type": "code",
   "execution_count": 13,
   "metadata": {},
   "outputs": [
    {
     "data": {
      "text/plain": [
       "'rock88ceef7a2c748432d5a150fcff5df717c8a67298365ae2e1969be4ee856ce39e'"
      ]
     },
     "execution_count": 13,
     "metadata": {},
     "output_type": "execute_result"
    }
   ],
   "source": [
    "alice_salted_choice = alice_choice + alice_choice_salt\n",
    "alice_salted_choice"
   ]
  },
  {
   "cell_type": "code",
   "execution_count": 14,
   "metadata": {},
   "outputs": [
    {
     "data": {
      "text/plain": [
       "'dcbd95890db4648405b1e04541b6dcabacc1c3e958172171262dc11d6dacebf7'"
      ]
     },
     "execution_count": 14,
     "metadata": {},
     "output_type": "execute_result"
    }
   ],
   "source": [
    "alice_salted_choice_hash = sha3(alice_salted_choice)\n",
    "alice_salted_choice_hash"
   ]
  },
  {
   "cell_type": "markdown",
   "metadata": {},
   "source": [
    "Before a game is started it is in state `\"game_doesnt_exist\"`"
   ]
  },
  {
   "cell_type": "code",
   "execution_count": 15,
   "metadata": {},
   "outputs": [],
   "source": [
    "assert contract.get_game_state(game_id=0) == \"game_doesnt_exist\""
   ]
  },
  {
   "cell_type": "markdown",
   "metadata": {},
   "source": [
    "Now Alice starts a game so she can invite Bob to play."
   ]
  },
  {
   "cell_type": "code",
   "execution_count": 16,
   "metadata": {},
   "outputs": [
    {
     "data": {
      "text/plain": [
       "0"
      ]
     },
     "execution_count": 16,
     "metadata": {},
     "output_type": "execute_result"
    }
   ],
   "source": [
    "alice_game_id = contract.start_game(password_hash=alice_game_password_hash, player1_choice_hash=alice_salted_choice_hash) \n",
    "alice_game_id"
   ]
  },
  {
   "cell_type": "markdown",
   "metadata": {},
   "source": [
    "Alice gets back a game Id."
   ]
  },
  {
   "cell_type": "markdown",
   "metadata": {},
   "source": [
    "The game is now in state \"only_player1_submitted\""
   ]
  },
  {
   "cell_type": "code",
   "execution_count": 17,
   "metadata": {},
   "outputs": [],
   "source": [
    "assert contract.get_game_state(game_id=alice_game_id) == \"only_player1_submitted\""
   ]
  },
  {
   "cell_type": "markdown",
   "metadata": {},
   "source": [
    "Now Alice has to tell Bob the password and the game Id. This could be done over a messenger or built into the frontend of an application. \n",
    "\n",
    "Everything that starts with bob_ is only visible to Bob."
   ]
  },
  {
   "cell_type": "code",
   "execution_count": 18,
   "metadata": {},
   "outputs": [],
   "source": [
    "bob_game_password = alice_game_password\n",
    "bob_game_id = alice_game_id"
   ]
  },
  {
   "cell_type": "markdown",
   "metadata": {},
   "source": [
    "Now it is Bobs turn.\n",
    "Bob chooses scissors."
   ]
  },
  {
   "cell_type": "code",
   "execution_count": 19,
   "metadata": {},
   "outputs": [],
   "source": [
    "bob_choice = \"scissors\""
   ]
  },
  {
   "cell_type": "markdown",
   "metadata": {},
   "source": [
    "And now Bob has to salt his choice."
   ]
  },
  {
   "cell_type": "code",
   "execution_count": 20,
   "metadata": {},
   "outputs": [
    {
     "data": {
      "text/plain": [
       "'13729fb6834f46b30046d82ba9e624821a479ed1f7714152c8a4da81b42d1213'"
      ]
     },
     "execution_count": 20,
     "metadata": {},
     "output_type": "execute_result"
    }
   ],
   "source": [
    "bob_choice_salt = secrets.token_hex(32)\n",
    "bob_choice_salt"
   ]
  },
  {
   "cell_type": "markdown",
   "metadata": {},
   "source": [
    "And now we combine bob_choice and bob_choice_salt together and hash them."
   ]
  },
  {
   "cell_type": "code",
   "execution_count": 21,
   "metadata": {},
   "outputs": [
    {
     "data": {
      "text/plain": [
       "'scissors13729fb6834f46b30046d82ba9e624821a479ed1f7714152c8a4da81b42d1213'"
      ]
     },
     "execution_count": 21,
     "metadata": {},
     "output_type": "execute_result"
    }
   ],
   "source": [
    "bob_salted_choice = bob_choice + bob_choice_salt\n",
    "bob_salted_choice"
   ]
  },
  {
   "cell_type": "code",
   "execution_count": 22,
   "metadata": {},
   "outputs": [
    {
     "data": {
      "text/plain": [
       "'9af37ec1317afab75c13f89f1d4a8b4c39f77ae52e7ad05116a5f8b2f9995125'"
      ]
     },
     "execution_count": 22,
     "metadata": {},
     "output_type": "execute_result"
    }
   ],
   "source": [
    "bob_salted_choice_hash = sha3(bob_salted_choice)\n",
    "bob_salted_choice_hash"
   ]
  },
  {
   "cell_type": "markdown",
   "metadata": {},
   "source": [
    "Bob now needs to submit his choice to the blockchain. Only Bob has the game password so only Bob can join Alices game."
   ]
  },
  {
   "cell_type": "code",
   "execution_count": 23,
   "metadata": {},
   "outputs": [],
   "source": [
    "contract.submit_choice(game_password=bob_game_password, game_id=bob_game_id, player2_choice_hash=bob_salted_choice_hash)"
   ]
  },
  {
   "cell_type": "markdown",
   "metadata": {},
   "source": [
    "The game is now in state \"both_players_submitted\""
   ]
  },
  {
   "cell_type": "code",
   "execution_count": 24,
   "metadata": {},
   "outputs": [],
   "source": [
    "assert contract.get_game_state(game_id=bob_game_id) == \"both_players_submitted\""
   ]
  },
  {
   "cell_type": "markdown",
   "metadata": {},
   "source": [
    "Now that both players have submitted their hashed and salted choices, both players can reveal their choices.\n",
    "The order doesn't matter. Alice goes first in this example."
   ]
  },
  {
   "cell_type": "code",
   "execution_count": 25,
   "metadata": {},
   "outputs": [],
   "source": [
    "contract.reveal(game_id=alice_game_id, choice=alice_choice, choice_salt=alice_choice_salt, is_player1=True)"
   ]
  },
  {
   "cell_type": "markdown",
   "metadata": {},
   "source": [
    "The game is now in state \"only_player1_revealed\""
   ]
  },
  {
   "cell_type": "code",
   "execution_count": 26,
   "metadata": {},
   "outputs": [],
   "source": [
    "assert contract.get_game_state(game_id=alice_game_id) == \"only_player1_revealed\""
   ]
  },
  {
   "cell_type": "markdown",
   "metadata": {},
   "source": [
    "Bob goes second"
   ]
  },
  {
   "cell_type": "code",
   "execution_count": 27,
   "metadata": {},
   "outputs": [],
   "source": [
    "contract.reveal(game_id=bob_game_id, choice=bob_choice, choice_salt=bob_choice_salt, is_player1=False)"
   ]
  },
  {
   "cell_type": "markdown",
   "metadata": {},
   "source": [
    "Now we can see who won the game"
   ]
  },
  {
   "cell_type": "code",
   "execution_count": 28,
   "metadata": {},
   "outputs": [
    {
     "data": {
      "text/plain": [
       "'player1_wins'"
      ]
     },
     "execution_count": 28,
     "metadata": {},
     "output_type": "execute_result"
    }
   ],
   "source": [
    "contract.get_game_state(game_id=alice_game_id)"
   ]
  },
  {
   "cell_type": "markdown",
   "metadata": {},
   "source": [
    "As expected Alice, who is player1, wins!"
   ]
  },
  {
   "cell_type": "markdown",
   "metadata": {},
   "source": [
    "## tests"
   ]
  },
  {
   "cell_type": "markdown",
   "metadata": {},
   "source": [
    "Test function is_valid_choice"
   ]
  },
  {
   "cell_type": "code",
   "execution_count": 29,
   "metadata": {},
   "outputs": [],
   "source": [
    "assert contract.is_valid_choice(choice=\"rock\")\n",
    "assert contract.is_valid_choice(choice=\"paper\")\n",
    "assert contract.is_valid_choice(choice=\"scissors\")\n",
    "assert not contract.is_valid_choice(choice=\"airplane\")"
   ]
  },
  {
   "cell_type": "markdown",
   "metadata": {},
   "source": [
    "Test function beats"
   ]
  },
  {
   "cell_type": "code",
   "execution_count": 30,
   "metadata": {},
   "outputs": [],
   "source": [
    "assert contract.beats(choice1=\"rock\", choice2=\"scissors\")\n",
    "assert not contract.beats(choice1=\"rock\", choice2=\"rock\")\n",
    "assert not contract.beats(choice1=\"rock\", choice2=\"paper\")\n",
    "\n",
    "assert contract.beats(choice1=\"paper\", choice2=\"rock\")\n",
    "assert not contract.beats(choice1=\"paper\", choice2=\"paper\")\n",
    "assert not contract.beats(choice1=\"paper\", choice2=\"scissors\")\n",
    "\n",
    "assert contract.beats(choice1=\"scissors\", choice2=\"paper\")\n",
    "assert not contract.beats(choice1=\"scissors\", choice2=\"scissors\")\n",
    "assert not contract.beats(choice1=\"scissors\", choice2=\"rock\")"
   ]
  }
 ],
 "metadata": {
  "kernelspec": {
   "display_name": "Python 3",
   "language": "python",
   "name": "python3"
  },
  "language_info": {
   "codemirror_mode": {
    "name": "ipython",
    "version": 3
   },
   "file_extension": ".py",
   "mimetype": "text/x-python",
   "name": "python",
   "nbconvert_exporter": "python",
   "pygments_lexer": "ipython3",
   "version": "3.7.3"
  }
 },
 "nbformat": 4,
 "nbformat_minor": 2
}
