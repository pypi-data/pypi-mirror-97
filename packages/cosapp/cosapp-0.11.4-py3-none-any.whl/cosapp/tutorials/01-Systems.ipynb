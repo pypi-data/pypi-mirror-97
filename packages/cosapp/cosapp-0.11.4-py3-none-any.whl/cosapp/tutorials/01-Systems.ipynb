{
 "cells": [
  {
   "cell_type": "markdown",
   "metadata": {
    "nbsphinx": "hidden"
   },
   "source": [
    "![CoSAppLogo](images/cosapp.svg) **CoSApp** tutorials:"
   ]
  },
  {
   "cell_type": "markdown",
   "metadata": {},
   "source": [
    "# Systems\n",
    "\n",
    "## Simple Systems\n",
    "\n",
    "A simple `System` does not contain subsystems.\n",
    "\n",
    "### Import CoSApp core package"
   ]
  },
  {
   "cell_type": "code",
   "execution_count": null,
   "metadata": {},
   "outputs": [],
   "source": [
    "# import cosapp base classes\n",
    "from cosapp.systems import System\n",
    "from cosapp.ports import Port"
   ]
  },
  {
   "cell_type": "markdown",
   "metadata": {},
   "source": [
    "### Create a simple system"
   ]
  },
  {
   "cell_type": "code",
   "execution_count": null,
   "metadata": {},
   "outputs": [],
   "source": [
    "class DemoPort(Port):\n",
    "    \n",
    "    def setup(self):\n",
    "        self.add_variable('x')\n",
    "        \n",
    "        \n",
    "class Multiply(System):\n",
    "\n",
    "    def setup(self): # `setup` method defines the system structure\n",
    "        self.add_input(DemoPort, 'p_in') # define a new input port\n",
    "        self.add_inward('K1', 5.) # define a new inward variable\n",
    "        self.add_outward('delta_x', 0.) # define a new outward variable\n",
    "        self.add_output(DemoPort, 'p_out') # define a new output port\n",
    "\n",
    "    def compute(self): # `compute` method defines what the system does\n",
    "        self.p_out.x = self.p_in.x * self.K1\n",
    "        self.delta_x = self.p_out.x - self.p_in.x\n",
    "\n",
    "s = Multiply(name='mult')"
   ]
  },
  {
   "cell_type": "markdown",
   "metadata": {},
   "source": [
    "![Multiple systems](images/systems_1.svg)"
   ]
  },
  {
   "cell_type": "markdown",
   "metadata": {},
   "source": [
    "Run the system to confirm the expected behaviour"
   ]
  },
  {
   "cell_type": "code",
   "execution_count": null,
   "metadata": {},
   "outputs": [],
   "source": [
    "s.p_in.x = 10.\n",
    "s.K1 = 5.\n",
    "s.run_once()\n",
    "\n",
    "s.p_out"
   ]
  },
  {
   "cell_type": "markdown",
   "metadata": {},
   "source": [
    "*More information about* `Ports` (`inputs` *and* `outputs`) *can be found in the* [Ports](02-Ports.ipynb) *tutorial*.\n",
    "\n",
    "#### `inwards` and `outwards` variables\n",
    "\n",
    "Every `System` has two specials kinds of variables:\n",
    "\n",
    "- `inwards`: A inward data is an **input** variable needed by the system to compute its output. For example the pressure losses coefficient of a duct is a inwards of the duct to compute the output pressure from its inputs.\n",
    "- `outwards`: A outward data is an **output** variable deduced from the inputs and useful as intermediate variable during the computation. For exemple the difference between the input and output pressure in a duct system is a local variable. Another example is the table object read from a filename (the filename being usually a *inwards*). \n",
    "\n",
    "All variables in **CoSApp** accept some additional informations:\n",
    "\n",
    "- *unit*: Physical unit of the variable - given by a string. Units *are not enforced* inside a `System`.\n",
    "This means that the user must ensure the computed variables in method `compute` are converted to the user\n",
    "specified unit set in `setup`. **CoSApp** will take care of unit conversion between connected `System`s.\n",
    "- *desc*: Short description of the variable.\n",
    "- *dtype*: If you need to force certain data type(s) on a variable, a tuple of acceptable types can be provided\n",
    "through this keyword. If that information is not supplied, dtype is inferred from the variable value; e.g.\n",
    "a number (integer or floating point) will be typed as `Number`."
   ]
  },
  {
   "cell_type": "code",
   "execution_count": null,
   "metadata": {},
   "outputs": [],
   "source": [
    "class MultiplyAdvanced(System):\n",
    "\n",
    "    def setup(self):\n",
    "        self.add_input(DemoPort, 'p_in')\n",
    "        # Inward and outward variables accept optional dtype and unit\n",
    "        self.add_inward('K1', 5, dtype=int, desc='Multiplication coefficient')\n",
    "        self.add_outward('delta_x', 0., unit='Pa', dtype=(int, float), \n",
    "                        desc='Spread between the output and the input')\n",
    "        self.add_output(DemoPort, 'p_out')\n",
    "\n",
    "    def compute(self):\n",
    "        self.p_out.x = self.p_in.x * self.K1\n",
    "        self.delta_x = self.p_out.x - self.p_in.x\n",
    "\n",
    "advanced = MultiplyAdvanced(name='mult')\n",
    "\n",
    "print('Inwards')\n",
    "advanced.inwards"
   ]
  },
  {
   "cell_type": "code",
   "execution_count": null,
   "metadata": {},
   "outputs": [],
   "source": [
    "print('Outwards')\n",
    "advanced.outwards"
   ]
  },
  {
   "cell_type": "markdown",
   "metadata": {},
   "source": [
    "## Complex Systems\n",
    "\n",
    "A complex `System` may contain subsystems\n",
    "\n",
    "### Create a complex system\n",
    "\n",
    "Start with a new head system"
   ]
  },
  {
   "cell_type": "code",
   "execution_count": null,
   "metadata": {},
   "outputs": [],
   "source": [
    "s = System('head')"
   ]
  },
  {
   "cell_type": "markdown",
   "metadata": {},
   "source": [
    "Add some subsytems called `children` to your head system"
   ]
  },
  {
   "cell_type": "code",
   "execution_count": null,
   "metadata": {},
   "outputs": [],
   "source": [
    "s.add_child(Multiply('mult1'))\n",
    "s.add_child(Multiply('mult2'))"
   ]
  },
  {
   "cell_type": "markdown",
   "metadata": {},
   "source": [
    "Plug systems (learn more about `Ports` in the [Ports](02-Ports.ipynb) tutorial)"
   ]
  },
  {
   "cell_type": "code",
   "execution_count": null,
   "metadata": {},
   "outputs": [],
   "source": [
    "s.connect(s.mult2.p_in, s.mult1.p_out)"
   ]
  },
  {
   "cell_type": "markdown",
   "metadata": {},
   "source": [
    "![Connection between Systems](images/systems_2.svg)"
   ]
  },
  {
   "cell_type": "markdown",
   "metadata": {},
   "source": [
    "Run the system to confirm the expected behaviour"
   ]
  },
  {
   "cell_type": "code",
   "execution_count": null,
   "metadata": {},
   "outputs": [],
   "source": [
    "s.mult1.p_in.x = 10.\n",
    "s.mult1.K1 = 5.\n",
    "s.mult2.K1 = 5.\n",
    "s.run_once()\n",
    "\n",
    "print('s.mult1.p_out')\n",
    "s.mult1.p_out"
   ]
  },
  {
   "cell_type": "code",
   "execution_count": null,
   "metadata": {},
   "outputs": [],
   "source": [
    "print('s.mult2.p_out')\n",
    "s.mult2.p_out"
   ]
  },
  {
   "cell_type": "markdown",
   "metadata": {},
   "source": [
    "Next you will learn more about [Ports](02-Ports.ipynb), the interface between `System`s."
   ]
  }
 ],
 "metadata": {
  "language_info": {
   "name": "python",
   "pygments_lexer": "ipython3"
  }
 },
 "nbformat": 4,
 "nbformat_minor": 4
}