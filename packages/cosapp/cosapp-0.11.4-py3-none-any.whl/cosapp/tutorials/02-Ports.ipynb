{
 "cells": [
  {
   "cell_type": "markdown",
   "metadata": {
    "nbsphinx": "hidden"
   },
   "source": [
    "![CoSAppLogo](images/cosapp.svg) **CoSApp** tutorials:"
   ]
  },
  {
   "cell_type": "markdown",
   "metadata": {},
   "source": [
    "# Ports\n",
    "\n",
    "## What is a `Port`?!\n",
    "\n",
    "A `Port` is a collection of variables that helps transfer data from one `System` to another.\n",
    "Without such an object, connections between systems should be done variable-by-variable, *outch!*"
   ]
  },
  {
   "cell_type": "markdown",
   "metadata": {},
   "source": [
    "![Connected ports](images/ports_1.svg)"
   ]
  },
  {
   "cell_type": "markdown",
   "metadata": {},
   "source": [
    "## Types\n",
    "\n",
    "### `IN` or `OUT`\n",
    "\n",
    "Port instances inside systems are directional objects; they can be either `IN` or `OUT`. This definition ensures compatibility at connection.\n",
    "However, the definition of a `Port` class only contains the list and description of its variables, irrespective of direction.\n",
    "\n",
    "### Available ports and compatibility\n",
    "\n",
    "<font color='orange'>**CoSApp**</font> allow user-defined ports, stored in libraries or created in specific projects. They define a frozen collection of variables that can be shared between multiple systems. They are compatible by construction (see [Port connection](#Port-connection) section of this tutorial).\n",
    "\n",
    "## Create a port\n",
    "\n",
    "### Import CoSApp core package"
   ]
  },
  {
   "cell_type": "code",
   "execution_count": null,
   "metadata": {},
   "outputs": [],
   "source": [
    "# import cosapp base classes\n",
    "from cosapp.systems import System\n",
    "from cosapp.ports import Port"
   ]
  },
  {
   "cell_type": "markdown",
   "metadata": {},
   "source": [
    "#### Define a new port"
   ]
  },
  {
   "cell_type": "code",
   "execution_count": null,
   "metadata": {},
   "outputs": [],
   "source": [
    "class DemoPort(Port):\n",
    "    \n",
    "    def setup(self):\n",
    "        self.add_variable('a', 1)\n",
    "        self.add_variable('b', 2)\n",
    "        self.add_variable('c', 3)"
   ]
  },
  {
   "cell_type": "markdown",
   "metadata": {},
   "source": [
    "#### Use it in a system\n",
    "\n",
    "We now create a new `System` using `DemoPort`:"
   ]
  },
  {
   "cell_type": "code",
   "execution_count": null,
   "metadata": {},
   "outputs": [],
   "source": [
    "class DemoSystem(System):\n",
    "\n",
    "    def setup(self):\n",
    "        self.add_input(DemoPort, 'p_in')\n",
    "        self.add_output(DemoPort, 'p_out') \n",
    "\n",
    "    def compute(self):\n",
    "        self.p_out.a = self.p_in.c\n",
    "        self.p_out.b = self.p_in.b\n",
    "        self.p_out.c = self.p_in.a\n",
    "\n",
    "s = DemoSystem(name='demo')"
   ]
  },
  {
   "cell_type": "markdown",
   "metadata": {},
   "source": [
    "In the example above, `p_in` and `p_out` are two instances of `DemoPort`.\n",
    "All instances of `DemoSystem`, such as `s`, will possess attributes `p_in` and `p_out`.\n",
    "Use of methods `add_input` and `add_output` provides a clear interface to create ports with the desired direction.\n",
    "\n",
    "![Port-DemoSystem](images/ports_2.svg)\n",
    "\n",
    "Run the system to confirm the expected behaviour"
   ]
  },
  {
   "cell_type": "code",
   "execution_count": null,
   "metadata": {},
   "outputs": [],
   "source": [
    "s.run_once()\n",
    "print('s.p_in:')\n",
    "s.p_in"
   ]
  },
  {
   "cell_type": "code",
   "execution_count": null,
   "metadata": {},
   "outputs": [],
   "source": [
    "print('s.p_out:')\n",
    "s.p_out"
   ]
  },
  {
   "cell_type": "markdown",
   "metadata": {},
   "source": [
    "#### Set information on the variables\n",
    "\n",
    "All `Port` variables may be given optional information:\n",
    "\n",
    "- `unit`: Physical unit of the variable, given by a string. Units *are not enforced* inside a `System`.\n",
    "This means that system developers are responsible for unit conversions (if required) in method `compute`. However, **CoSApp** will take care of unit conversion during data transfer via a connector (see [Port connection](#Port-connection)).\n",
    "- `desc`: Short description of the variable.\n",
    "- `dtype`: If you need to force certain data type(s) on a variable, a tuple of acceptable types can be provided\n",
    "through this keyword. If that information is not supplied, dtype is inferred from the variable value; e.g.\n",
    "a number (integer or floating point) will be typed as `Number`."
   ]
  },
  {
   "cell_type": "code",
   "execution_count": null,
   "metadata": {},
   "outputs": [],
   "source": [
    "class AdvancedDemoPort(Port):\n",
    "    \n",
    "    def setup(self):\n",
    "        self.add_variable('a', 1., unit='degK', dtype=float, desc='Temperature')\n",
    "        self.add_variable('b', 2, unit='Pa', dtype=(int, float), desc='Pressure')\n",
    "        self.add_variable('c', 3, unit='kg/s', desc='Mass flow')\n",
    "\n",
    "\n",
    "class AdvancedDemoSystem(System):\n",
    "\n",
    "    def setup(self):\n",
    "        self.add_input(AdvancedDemoPort, 'p_in')\n",
    "        self.add_output(AdvancedDemoPort, 'p_out') \n",
    "\n",
    "    def compute(self):\n",
    "        self.p_out.a = self.p_in.c\n",
    "        self.p_out.b = self.p_in.b\n",
    "        self.p_out.c = self.p_in.a\n",
    "\n",
    "\n",
    "advanced_s = AdvancedDemoSystem(name='demo')\n",
    "print('Output port')\n",
    "advanced_s.p_out"
   ]
  },
  {
   "cell_type": "markdown",
   "metadata": {},
   "source": [
    "## Port connection\n",
    "\n",
    "### Introduction\n",
    "\n",
    "Port connection creates a dedicated object (of type `Connector`) managing one-way data transfers between two `Port` instances.\n",
    "Connectors are handled at system levels, via method `connect`, and can be accessed through attribute `connectors` as a dictionnary.\n",
    "\n",
    "![Port-Connection](images/ports_3.svg)\n"
   ]
  },
  {
   "cell_type": "code",
   "execution_count": null,
   "metadata": {},
   "outputs": [],
   "source": [
    "h = System('head')\n",
    "h.add_child(DemoSystem('demo1'))\n",
    "h.add_child(DemoSystem('demo2'))\n",
    "\n",
    "h.connect(h.demo2.p_in, h.demo1.p_out)"
   ]
  },
  {
   "cell_type": "markdown",
   "metadata": {},
   "source": [
    "If you need to connect a subset of the `Port` variables, or connect inwards or outwards, the `connect()` method of `System` can be called in `setup` with additional arguments, providing variable mapping from the first port to the other.\n"
   ]
  },
  {
   "cell_type": "code",
   "execution_count": null,
   "metadata": {},
   "outputs": [],
   "source": [
    "class MonitorSystem(System):\n",
    "\n",
    "    def setup(self):\n",
    "        self.add_inward('a')\n",
    "        self.add_inward('b')\n",
    "        self.add_inward('x')\n",
    "        self.add_outward('result')\n",
    "\n",
    "    def compute(self):\n",
    "        self.result = self.a\n",
    "\n",
    "h.add_child(MonitorSystem('monitor1'))\n",
    "h.connect(h.monitor1.inwards, h.demo1.p_out, 'a')\n",
    "\n",
    "h.demo1.p_in.a = 50.\n",
    "h.demo1.p_in.c = 25.\n",
    "h.run_drivers()\n",
    "\n",
    "print('h.demo1.p_in')\n",
    "h.demo1.p_in"
   ]
  },
  {
   "source": [
    "In the example above, variable `a` from port `inwards` has been connected to `demo1.p_out.a`.\n",
    "This is the simplest mapping, when the variable name is identical in poth ports.\n",
    "\n",
    "Two other options are possible:\n",
    "\n",
    "- A list variable names, if all names exist in both ports:\n",
    "```python\n",
    "    h.connect(h.monitor1.inwards, h.demo1.p_out, ['a', 'b'])\n",
    "```\n",
    "- An explicit name mapping, if names differ:\n",
    "```python\n",
    "    h.connect(h.monitor1.inwards, h.demo1.p_out, {'a': 'a', 'x': 'c'})\n",
    "```\n",
    "In the last example, `h.x` will be connected to `h.demo1.p_out.c`."
   ],
   "cell_type": "markdown",
   "metadata": {}
  },
  {
   "cell_type": "code",
   "execution_count": null,
   "metadata": {},
   "outputs": [],
   "source": [
    "print('h.demo2.p_in')\n",
    "h.demo2.p_in"
   ]
  },
  {
   "cell_type": "code",
   "execution_count": null,
   "metadata": {},
   "outputs": [],
   "source": [
    "print('h.monitor1.outwards')\n",
    "h.monitor1.outwards"
   ]
  },
  {
   "cell_type": "markdown",
   "metadata": {},
   "source": [
    "**Congrats!** Now you have the basic of `Port` in **CoSApp**\n",
    "\n",
    "Next you will discover how to solve mathematical problem using [Drivers](03-Drivers.ipynb)."
   ]
  }
 ],
 "metadata": {
  "language_info": {
   "name": "python",
   "pygments_lexer": "ipython3",
   "version": "3.7.8-final"
  },
  "kernelspec": {
   "name": "python3",
   "display_name": "Python 3"
  }
 },
 "nbformat": 4,
 "nbformat_minor": 4
}