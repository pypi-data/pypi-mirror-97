{
 "cells": [
  {
   "cell_type": "markdown",
   "metadata": {
    "nbsphinx": "hidden"
   },
   "source": [
    "![CoSAppLogo](images/cosapp.svg)\n",
    "\n",
    "Welcome to the <font color='orange'>**CoSApp**</font> tutorials in the Jupyter Notebook!"
   ]
  },
  {
   "cell_type": "markdown",
   "metadata": {},
   "source": [
    "# Quickstart"
   ]
  },
  {
   "cell_type": "markdown",
   "metadata": {
    "nbsphinx-toctree": {
     "maxdepth": 1
    }
   },
   "source": [
    "Get started with a [5 Minutes to CoSApp](quickstart.ipynb)."
   ]
  },
  {
   "cell_type": "markdown",
   "metadata": {},
   "source": [
    "# Tutorials\n",
    "\n",
    "## Fundamental objects\n",
    "\n",
    "In order to use CoSApp, you need to understand the 3 fundamental elements defining a model:"
   ]
  },
  {
   "cell_type": "markdown",
   "metadata": {
    "tags": [
     "nbsphinx-gallery"
    ]
   },
   "source": [
    "* [System](01-Systems.ipynb)\n",
    "* [Port](02-Ports.ipynb)\n",
    "* [Driver](03-Drivers.ipynb)\n",
    "* [Advanced drivers](03b-Advanced-Drivers.ipynb)"
   ]
  },
  {
   "cell_type": "markdown",
   "metadata": {},
   "source": [
    "We advice you to read our [good pratices](Guidelines.ipynb) to create your own models."
   ]
  },
  {
   "cell_type": "markdown",
   "metadata": {
    "nbsphinx-toctree": {
     "hidden": true,
     "maxdepth": 1
    }
   },
   "source": [
    "* [Good Pratices](Guidelines.ipynb)"
   ]
  },
  {
   "cell_type": "markdown",
   "metadata": {},
   "source": [
    "## Data - advanced attributes"
   ]
  },
  {
   "cell_type": "markdown",
   "metadata": {
    "tags": [
     "nbsphinx-gallery"
    ]
   },
   "source": [
    "* [Validation](05-Validation.ipynb)\n",
    "* [Visibility](06-Visibility.ipynb)"
   ]
  },
  {
   "cell_type": "markdown",
   "metadata": {},
   "source": [
    "## Utilities\n",
    "\n",
    "CoSApp comes with a couple of utility tools. The following notebooks demonstrate their usage:"
   ]
  },
  {
   "cell_type": "markdown",
   "metadata": {
    "tags": [
     "nbsphinx-gallery"
    ]
   },
   "source": [
    "* [Recording data](10-Recorders.ipynb)\n",
    "* [Simulation log](Logging.ipynb)\n",
    "* [Meta-modeling](SystemSurrogates.ipynb)\n",
    "* [Export to FMU](FMI.ipynb)\n",
    "* [File Event Triggers](04-Triggers.ipynb)"
   ]
  },
  {
   "cell_type": "markdown",
   "metadata": {},
   "source": [
    "## Usage"
   ]
  },
  {
   "cell_type": "markdown",
   "metadata": {
    "nbsphinx-toctree": {
     "maxdepth": 1
    }
   },
   "source": [
    "* [A simple circuit](aa-SimpleCircuit.ipynb)\n",
    "* [Multi-points design](08-Multipoints-Design.ipynb)\n",
    "* [Time simulations](TimeDriver.ipynb)\n",
    "* [Time simulations (Advanced)](TimeDriverAdvanced.ipynb)\n",
    "* [Monte Carlo](09-MonteCarlo.ipynb)\n",
    "* [Optimization](Optimization.ipynb)\n",
    "* [System Surrogates (Advanced)](SystemSurrogatesAdvanced.ipynb)"
   ]
  },
  {
   "cell_type": "markdown",
   "metadata": {
    "nbsphinx": "hidden"
   },
   "source": []
  }
 ],
 "metadata": {
  "language_info": {
   "name": "python",
   "pygments_lexer": "ipython3"
  }
 },
 "nbformat": 4,
 "nbformat_minor": 4
}