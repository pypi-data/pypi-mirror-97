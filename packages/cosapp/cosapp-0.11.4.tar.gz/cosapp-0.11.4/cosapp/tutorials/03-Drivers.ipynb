{
 "cells": [
  {
   "cell_type": "markdown",
   "metadata": {
    "nbsphinx": "hidden"
   },
   "source": [
    "![CoSAppLogo](images/cosapp.svg) **CoSApp** tutorials:"
   ]
  },
  {
   "cell_type": "markdown",
   "metadata": {},
   "source": [
    "# Drivers\n",
    "\n",
    "## What is a `Driver`?!\n",
    "\n",
    "`Driver` objects allow users to modify the state of a `System` for a given purpose. Resolution of non-linear equations, optimization, or time integration of dynamic equations are typical examples of `Driver` usage.\n",
    "As will be seen in this tutorial, drivers can also be nested, to create a simulation workflow.\n",
    "\n",
    "## Introduction\n",
    "\n",
    "### Add a `Driver`\n",
    "\n",
    "Simply use the `add_driver` method passing the `Driver` object you want to use \n",
    "(see [Available drivers](#Available-Drivers) section of this tutorial)."
   ]
  },
  {
   "cell_type": "code",
   "execution_count": null,
   "metadata": {},
   "outputs": [],
   "source": [
    "from cosapp.tests.library.systems import Multiply1\n",
    "from cosapp.drivers import RunOnce\n",
    "\n",
    "m = Multiply1('mult')\n",
    "run = m.add_driver(RunOnce('run', verbose=True))"
   ]
  },
  {
   "cell_type": "markdown",
   "metadata": {},
   "source": [
    "`Multiply1` *is the same* `System` *as* `Multiply` *in the* [Systems](01-Systems.ipynb) *tutorial*"
   ]
  },
  {
   "cell_type": "markdown",
   "metadata": {},
   "source": [
    " ![Driver in system](images/drivers_1.svg)"
   ]
  },
  {
   "cell_type": "markdown",
   "metadata": {},
   "source": [
    "### Implementation\n",
    "\n",
    "Every `System` (including sub-systems) may have one or multiple `Driver` objects. They are stored in the `drivers` attribute.\n",
    "By default, there is no `Driver` attached to a `System`.\n",
    "\n",
    "The `run_drivers` method of `System` executes drivers recursively. In the following example, the simplest driver\n",
    "[RunOnce](#RunOnce) is added and executed."
   ]
  },
  {
   "cell_type": "code",
   "execution_count": null,
   "metadata": {},
   "outputs": [],
   "source": [
    "from cosapp.tests.library.systems import Multiply1\n",
    "\n",
    "m = Multiply1('mult')\n",
    "m.add_driver(RunOnce('run'))\n",
    "print(m.drivers) # print drivers of the system\n",
    "\n",
    "m.p_in.x = 15.\n",
    "m.K1 = 2.\n",
    "m.run_drivers()\n",
    "print(m.p_out.x)"
   ]
  },
  {
   "cell_type": "markdown",
   "metadata": {},
   "source": [
    "### Subdrivers - Similarities with `System`\n",
    "\n",
    "Like a `System`, a `Driver` may have children which also inherit from the base class `Driver`. This allows users to define more complex simulations such as workflows, multi-point design, design of experiments, optimization, *etc.*\n",
    "\n",
    "By construction, a `System` can have as many levels of drivers as required. These drivers are stored in the `children` attribute of class `Driver`. Nested drivers are created with method `add_child` of class `Driver`.\n"
   ]
  },
  {
   "cell_type": "markdown",
   "metadata": {},
   "source": [
    "![drivers](images/drivers_2.svg)\n"
   ]
  },
  {
   "cell_type": "code",
   "execution_count": null,
   "metadata": {},
   "outputs": [],
   "source": [
    "m = Multiply1('mult')\n",
    "run = m.add_driver(RunOnce('run', verbose=True))\n",
    "\n",
    "print(run.children) # the 'run' driver has no child\n",
    "\n",
    "subrun = run.add_child(RunOnce('subrun')) # add a child `Driver` called 'subrun'\n",
    "print(run.children, subrun.children)"
   ]
  },
  {
   "cell_type": "markdown",
   "metadata": {},
   "source": [
    "## Available Drivers\n",
    "\n",
    "**CoSApp** comes with a set of drivers to help users build their simulations.\n",
    "\n",
    "### RunOnce\n",
    "\n",
    "As the name suggests, `RunOnce` makes your `System` and its subsystems compute their code once. It does not deal with residues or iterative loops that may be necessary to resolve the `System`. Instead, it merely transports information from the top system down to the lowest level sub-systems.\n",
    "\n",
    "To illustrate this point, we define below a new `System` containing an equation, and execute a `RunOnce` driver."
   ]
  },
  {
   "cell_type": "code",
   "execution_count": null,
   "metadata": {},
   "outputs": [],
   "source": [
    "from cosapp.systems import System\n",
    "from cosapp.tests.library.ports import XPort\n",
    "\n",
    "class MultiplyWithResidue(System):\n",
    "\n",
    "    def setup(self):\n",
    "        self.add_input(XPort, 'p_in', {'x': 1.})\n",
    "        self.add_inward('K1', 5.)\n",
    "        # expected_output will be used as a target for p_out.x variable\n",
    "        self.add_inward('expected_output', 7.5)\n",
    "        self.add_output(XPort, 'p_out', {'x': 1.})\n",
    "        \n",
    "        # create a new equation: expected_output = p_out.x\n",
    "        self.add_equation('expected_output == p_out.x') \n",
    "\n",
    "    def compute(self):\n",
    "        self.p_out.x = self.p_in.x * self.K1\n"
   ]
  },
  {
   "cell_type": "code",
   "execution_count": null,
   "metadata": {},
   "outputs": [],
   "source": [
    "from cosapp.drivers import RunOnce\n",
    "\n",
    "m = MultiplyWithResidue('mult')\n",
    "run = m.add_driver(RunOnce('run', verbose=True))\n",
    "\n",
    "m.run_drivers()\n",
    "\n",
    "print('List of defined drivers\\n', m.drivers)\n",
    "print('\\np_in.x\\tK1\\tp_out.x\\tresidue')\n",
    "print(m.p_in.x, m.K1, m.p_out.x, m.residues.values(), sep=\"\\t\")"
   ]
  },
  {
   "cell_type": "markdown",
   "metadata": {},
   "source": [
    "### NonLinearSolver\n",
    "\n",
    "This `Driver` determines the parameters of your `System` declared as unknowns that satisfy its equations. It resolves the mathematical problem between free parameters and residues of its child drivers.\n",
    "\n",
    "`NonLinearSolver` is primarily designed to solve [multi-point problems](./08-Multipoints-Design.ipynb), where several [RunSingleCase](#RunSingleCase) drivers are declared as direct sub-drivers of the solver.\n",
    "By default, a `NonLinearSolver` driver comes with one [RunSingleCase](#RunSingleCase) child, called *runner*. \n"
   ]
  },
  {
   "cell_type": "markdown",
   "metadata": {},
   "source": [
    "![scipysolver](images/drivers_nonlinear.svg)\n"
   ]
  },
  {
   "cell_type": "code",
   "execution_count": null,
   "metadata": {},
   "outputs": [],
   "source": [
    "from cosapp.drivers import NonLinearSolver\n",
    "\n",
    "m = MultiplyWithResidue('mult')\n",
    "solver = m.add_driver(NonLinearSolver('solver', verbose=True))\n",
    "solver.runner.offdesign.add_unknown('p_in.x')\n",
    "m.run_drivers()\n",
    "\n",
    "print(m.drivers)\n",
    "print(m.drivers['solver'].children)\n",
    "print(m.p_in.x, m.K1, m.expected_output, m.p_out.x, m.residues.values())"
   ]
  },
  {
   "cell_type": "markdown",
   "metadata": {},
   "source": [
    "### RunSingleCase\n",
    "\n",
    "`RunSingleCase` executes all subsystem drivers by recursively calling the `compute()` method of the top system and each of its children.\n",
    "\n",
    "This `Driver` does not contain a solver per se, but is helpfull to set boundary conditions, initial values, and define additional unknowns and/or equations (see [Advanced Drivers](./03b-Advanced-Drivers.ipynb) tutorial).\n",
    "It is primarily meant to be used as a child of a [NonLinearSolver](#NonLinearSolver) driver.\n",
    "\n",
    "To update its `System` owner, two possibilities are offered:\n",
    "\n",
    "- *value modification* through `set_values` method will change an input value\n",
    "- *initial value definition* through `set_init` method will change the value of iteratives before resolving the case."
   ]
  },
  {
   "cell_type": "code",
   "execution_count": null,
   "metadata": {},
   "outputs": [],
   "source": [
    "from cosapp.drivers import RunSingleCase\n",
    "\n",
    "m = MultiplyWithResidue('mult')\n",
    "update = m.add_driver(RunSingleCase('update', verbose=True))\n",
    "update.offdesign.add_unknown('p_in.x')\n",
    "\n",
    "update.set_values({'expected_output': 15.})\n",
    "update.set_init({'K1': 2.})\n",
    "m.run_drivers()\n",
    "\n",
    "print('List of defined drivers\\n', m.drivers)\n",
    "print('\\np_in.x\\tK1\\tp_out.x\\tresidue')\n",
    "print(m.p_in.x, m.K1, m.p_out.x, m.residues.values(), sep=\"\\t\")"
   ]
  },
  {
   "cell_type": "markdown",
   "metadata": {},
   "source": [
    "![updatesystem](images/drivers_4.svg)"
   ]
  },
  {
   "cell_type": "code",
   "execution_count": null,
   "metadata": {},
   "outputs": [],
   "source": [
    "m.drivers.clear() # Remove all drivers on the system `m`\n",
    "solver = m.add_driver(NonLinearSolver('solver', verbose=True))\n",
    "update = solver.add_child(RunSingleCase('update', verbose=True))\n",
    "update.offdesign.add_unknown('p_in.x')\n",
    "\n",
    "# Customization of the case\n",
    "update.set_values({'expected_output': 15.})\n",
    "\n",
    "# Execution\n",
    "m.run_drivers()\n",
    "\n",
    "print(m.drivers)\n",
    "print(m.p_in.x, m.K1, m.expected_output, m.p_out.x, m.residues.values())"
   ]
  },
  {
   "cell_type": "markdown",
   "metadata": {},
   "source": [
    "**Congrats!** You are now ready to launch computation on your `System` with **CoSApp**!\n",
    "\n",
    "But we recommend you to read the [Advanced Drivers](./03b-Advanced-Drivers.ipynb) tutorial, before \n",
    "creating your test case."
   ]
  }
 ],
 "metadata": {
  "language_info": {
   "name": "python",
   "pygments_lexer": "ipython3"
  }
 },
 "nbformat": 4,
 "nbformat_minor": 4
}