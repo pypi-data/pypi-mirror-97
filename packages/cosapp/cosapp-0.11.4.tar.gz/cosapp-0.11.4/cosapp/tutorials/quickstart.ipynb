{
 "cells": [
  {
   "cell_type": "markdown",
   "metadata": {
    "nbsphinx": "hidden"
   },
   "source": [
    "![CoSAppLogo](images/cosapp.svg) <div style=\"text-align: right\"> 5 minutes..? Challenge accepted! </div>"
   ]
  },
  {
   "cell_type": "markdown",
   "metadata": {},
   "source": [
    "# Quickstart\n",
    "\n",
    "## CoSApp Overview\n",
    "\n",
    "CoSApp is a multidisciplinary oriented tool for the simulation of systems. Its goal is to provide a user-friendly and efficient environnement to build, exchange and solve physical models.\n",
    "\n",
    "## Get started\n",
    "\n",
    "#### Import core python package"
   ]
  },
  {
   "cell_type": "code",
   "execution_count": null,
   "metadata": {},
   "outputs": [],
   "source": [
    "# import cosapp base classes\n",
    "from cosapp.systems import System\n",
    "from cosapp.ports import Port"
   ]
  },
  {
   "cell_type": "markdown",
   "metadata": {},
   "source": [
    "#### Create a simple system\n",
    "\n",
    "- from scratch (for more information, see [tutorials](00-Introduction.ipynb))"
   ]
  },
  {
   "cell_type": "code",
   "execution_count": null,
   "metadata": {},
   "outputs": [],
   "source": [
    "class XPort(Port):\n",
    "    def setup(self):\n",
    "        self.add_variable('x', 1)\n",
    "\n",
    "class Multiply(System):\n",
    "\n",
    "    def setup(self): # `setup` method defines the system structure\n",
    "        self.add_input(XPort, 'p_in') # define a new input port\n",
    "        self.add_inward('K1', 5.) # define a new data variable\n",
    "        self.add_output(XPort, 'p_out') # define a new output port\n",
    "\n",
    "    def compute(self): # `compute` method defines what the system does\n",
    "        self.p_out.x = self.p_in.x * self.K1\n",
    "        \n",
    "s1 = Multiply('mult') # instanciate the class, it *creates* a new object with those properties"
   ]
  },
  {
   "cell_type": "markdown",
   "metadata": {},
   "source": [
    "![quickstart system](images/systems_1.svg)"
   ]
  },
  {
   "cell_type": "markdown",
   "metadata": {},
   "source": [
    "- reuse an existing `System` from a library (here the default cosapp unit test library)"
   ]
  },
  {
   "cell_type": "code",
   "execution_count": null,
   "metadata": {},
   "outputs": [],
   "source": [
    "from cosapp.tests.library.systems import Multiply1\n",
    "s2 = Multiply1('mult')"
   ]
  },
  {
   "cell_type": "markdown",
   "metadata": {},
   "source": [
    "#### Run it!\n",
    "\n",
    "- change inputs or data if necessary"
   ]
  },
  {
   "cell_type": "code",
   "execution_count": null,
   "metadata": {},
   "outputs": [],
   "source": [
    "s1.p_in.x = 10.\n",
    "s2.p_in.x = 15."
   ]
  },
  {
   "cell_type": "markdown",
   "metadata": {},
   "source": [
    "- make a simple run of your modeling"
   ]
  },
  {
   "cell_type": "code",
   "execution_count": null,
   "metadata": {},
   "outputs": [],
   "source": [
    "s1.run_once()\n",
    "s2.run_once()"
   ]
  },
  {
   "cell_type": "markdown",
   "metadata": {},
   "source": [
    "- have a look at your inputs, inwards and outputs"
   ]
  },
  {
   "cell_type": "code",
   "execution_count": null,
   "metadata": {},
   "outputs": [],
   "source": [
    "print(s1.p_in, s2.p_in)\n",
    "print(s1.inwards, s2.inwards)\n",
    "print(s1.p_out, s2.p_out)"
   ]
  },
  {
   "cell_type": "markdown",
   "metadata": {},
   "source": [
    "**Congrats!** You've run your first <font color='orange'>**CoSApp**</font> model!"
   ]
  },
  {
   "cell_type": "markdown",
   "metadata": {},
   "source": [
    "## Let's continue\n",
    "\n",
    "Because <font color='orange'>**CoSApp**</font> is much more, have a look at the [tutorials](./00-Introduction.ipynb)"
   ]
  }
 ],
 "metadata": {
  "language_info": {
   "name": "python",
   "pygments_lexer": "ipython3"
  }
 },
 "nbformat": 4,
 "nbformat_minor": 4
}