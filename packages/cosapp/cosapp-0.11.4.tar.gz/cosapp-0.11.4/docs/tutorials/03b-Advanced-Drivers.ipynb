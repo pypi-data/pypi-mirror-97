{
 "cells": [
  {
   "cell_type": "markdown",
   "metadata": {
    "nbsphinx": "hidden"
   },
   "source": [
    "![CoSAppLogo](images/cosapp.svg) **CoSApp** tutorials: Advanced Drivers"
   ]
  },
  {
   "cell_type": "markdown",
   "metadata": {},
   "source": [
    "# Advanced Drivers ![Work in progress1](images/in_progress.svg)\n",
    "\n",
    "In this tutorial, a detailed description of the major drivers will be given with associated example.\n",
    "You can jump directly to the one of your interest:\n",
    "\n",
    "- [RunOnce](#RunOnce)\n",
    "- [RunSingleCase](#RunSingleCase)\n",
    "- [NonLinearSolver](#NonLinearSolver)\n",
    "\n",
    "## RunOnce\n",
    "\n",
    "### Description\n",
    "\n",
    "It makes your System and its subsystems compute their code. It does not deal with residues or iterative loops that may be necessary to resolve the System.\n",
    "\n",
    "### Example"
   ]
  },
  {
   "cell_type": "code",
   "execution_count": null,
   "metadata": {},
   "outputs": [],
   "source": [
    "from cosapp.systems import System\n",
    "from cosapp.drivers import RunOnce\n",
    "from cosapp.tests.library.ports import XPort\n",
    "\n",
    "class MultiplyWithResidue(System):\n",
    "\n",
    "    def setup(self):\n",
    "        self.add_input(XPort, 'p_in', {'x': 1.})\n",
    "        self.add_inward('K1', 5.)\n",
    "        # expected_output will be used as a target for p_out.x variable\n",
    "        self.add_inward('expected_output', 7.5)\n",
    "        self.add_output(XPort, 'p_out', {'x': 1.})\n",
    "        \n",
    "        # create a new equation: expected_output = p_out.x\n",
    "        self.add_equation('expected_output == p_out.x') \n",
    "\n",
    "    def compute(self):\n",
    "        self.p_out.x = self.p_in.x * self.K1\n",
    "\n",
    "m = MultiplyWithResidue('mult')\n",
    "run = m.add_driver(RunOnce('run', verbose=True))\n",
    "\n",
    "m.run_drivers()\n",
    "\n",
    "print('List of defined drivers\\n', m.drivers)\n",
    "print('\\np_in.x\\tK1\\tp_out.x\\tresidue')\n",
    "print(m.p_in.x, m.K1, m.p_out.x, m.residues.values(), sep=\"\\t\")"
   ]
  },
  {
   "cell_type": "markdown",
   "metadata": {},
   "source": [
    "## RunSingleCase\n",
    "\n",
    "### Description\n",
    "\n",
    "This driver introduces four actions on a `System` before executing it:\n",
    "\n",
    "- *value modification* through `set_values` method will change an input value\n",
    "- *initial value definition* through `set_init` method will change the value of iteratives\n",
    "before resolving the case.\n",
    "\n",
    "Another important ability of this driver is the addition of equations to the mathematical system.\n",
    "There are two kinds of equations for a `System`:\n",
    "- *Design equations*: They are associated with a design variable that is frozen in the final product; e.g. the diameter of a pipe.\n",
    "This type of variable and equation can be added to the variable `design`.\n",
    "- *Offdesign equations*: They are associated with a degree of freedom of a system; e.g. the pedal position to control a car speed.\n",
    "This type of variable and equation can be added to the variable `offdesign`.\n",
    "\n",
    "The methods to call are identical:\n",
    "\n",
    "```python\n",
    "runcase.design \\\n",
    "       .add_unknown('pipe.diameter') \\  # Name of the variable to free\n",
    "       .add_equation('pipe.flow_in.W == 50')  # Constraint equation\n",
    "\n",
    "runcase.offdesign \\\n",
    "       .add_unknown('pedal.angle') \\  # Name of the variable to free\n",
    "       .add_equation('car.speed == 80')  # Constraint equation\n",
    "```\n",
    "\n",
    "It can happen that by default, the system has some degrees of freedom freed without constraint equations\n",
    "defined. So it is up to the user to feed the mathematical system with the proper degree of freedom and constraints to close it.\n",
    "\n",
    "The solver will check if the mathematical system is closed before solving it.\n",
    "\n",
    "### Examples\n",
    "\n",
    "This first example illustrates the four modification actions available."
   ]
  },
  {
   "cell_type": "code",
   "execution_count": null,
   "metadata": {},
   "outputs": [],
   "source": [
    "from cosapp.drivers import RunSingleCase\n",
    "\n",
    "m = MultiplyWithResidue('mult')\n",
    "update = m.add_driver(RunSingleCase('update', verbose=True))\n",
    "\n",
    "update.set_values({'expected_output': 15.})\n",
    "update.set_init({'K1': 10.})\n",
    "m.run_drivers()\n",
    "\n",
    "print('List of defined drivers\\n', m.drivers)\n",
    "print('\\np_in.x\\tK1\\tp_out.x\\tresidue')\n",
    "print(m.p_in.x, m.K1, m.p_out.x, m.residues.values(), sep=\"\\t\")"
   ]
  },
  {
   "cell_type": "markdown",
   "metadata": {},
   "source": [
    "The second example illustrates the definition of working and design equations:\n",
    "\n",
    "![Work in progress2](images/in_progress.svg)"
   ]
  },
  {
   "cell_type": "markdown",
   "metadata": {},
   "source": [
    "## NonLinearSolver\n",
    "\n",
    "![Work in progress3](images/in_progress.svg)\n",
    "\n",
    "### Description\n",
    "\n",
    "\n",
    "### Attributes and options\n",
    "\n",
    "\n",
    "### Examples"
   ]
  }
 ],
 "metadata": {
  "language_info": {
   "name": "python",
   "pygments_lexer": "ipython3"
  }
 },
 "nbformat": 4,
 "nbformat_minor": 4
}