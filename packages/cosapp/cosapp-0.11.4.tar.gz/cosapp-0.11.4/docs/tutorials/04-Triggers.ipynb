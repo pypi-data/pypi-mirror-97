{
 "cells": [
  {
   "cell_type": "markdown",
   "metadata": {
    "nbsphinx": "hidden"
   },
   "source": [
    "![CoSAppLogo](images/cosapp.svg) **CoSApp** tutorials: Triggers"
   ]
  },
  {
   "cell_type": "markdown",
   "metadata": {},
   "source": [
    "# What is a `Trigger`?!\n",
    "\n",
    "A `Trigger` is an independant object able of acting on its owner when it detects a particular event. This property is used in <font color='orange'>**CoSApp**</font> for different uses, such as launching computation on a `System`."
   ]
  },
  {
   "cell_type": "markdown",
   "metadata": {},
   "source": [
    "![triggers 1](images/triggers_1.svg)"
   ]
  },
  {
   "cell_type": "markdown",
   "metadata": {},
   "source": [
    "## Introduction\n",
    "\n",
    "\n",
    "### Create a `Trigger`\n",
    "\n",
    "You can pick an existing `Trigger` in the <font color='orange'>**CoSApp**</font> core package, in a third-party library, or even define your own!"
   ]
  },
  {
   "cell_type": "code",
   "execution_count": null,
   "metadata": {},
   "outputs": [],
   "source": [
    "import logging\n",
    "logging.getLogger().setLevel(logging.INFO)"
   ]
  },
  {
   "cell_type": "markdown",
   "metadata": {},
   "source": [
    "`FileCreationHandler` triggers an action when a file is created in a monitored folder\n",
    "\n",
    "`FileModificationHandler` triggers an action when a file is modified in a monitored folder"
   ]
  },
  {
   "cell_type": "code",
   "execution_count": null,
   "metadata": {},
   "outputs": [],
   "source": [
    "from cosapp.systems import System\n",
    "from cosapp.tools.trigger import FileCreationHandler, FileModificationHandler\n",
    "from pathlib import Path\n",
    "\n",
    "s = System('mysystem')\n",
    "trigger = FileCreationHandler(owner=s, folder=str(Path.home()), timeout=0.2)"
   ]
  },
  {
   "cell_type": "markdown",
   "metadata": {},
   "source": [
    "### Launch a `Trigger`\n",
    "\n",
    "Just call the `start` method of your `Trigger` to launch it!\n",
    "\n",
    "The `Trigger` will stop automatically after a specified duration called `timeout`. Most triggers have a `timeout` optional argument to set this property."
   ]
  },
  {
   "cell_type": "markdown",
   "metadata": {},
   "source": [
    "![triggers 2](images/triggers_2.svg)"
   ]
  },
  {
   "cell_type": "code",
   "execution_count": null,
   "metadata": {},
   "outputs": [],
   "source": [
    "trigger.start()"
   ]
  }
 ],
 "metadata": {
  "language_info": {
   "name": "python",
   "pygments_lexer": "ipython3",
   "version": "3.7.8-final"
  },
  "kernelspec": {
   "name": "python3",
   "display_name": "Python 3"
  }
 },
 "nbformat": 4,
 "nbformat_minor": 4
}