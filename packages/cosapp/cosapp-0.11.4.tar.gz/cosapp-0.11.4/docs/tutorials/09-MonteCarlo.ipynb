{
 "cells": [
  {
   "cell_type": "markdown",
   "metadata": {
    "nbsphinx": "hidden"
   },
   "source": [
    "![CoSAppLogo](images/cosapp.svg) **CoSApp** tutorials: Monte Carlo"
   ]
  },
  {
   "cell_type": "markdown",
   "metadata": {
    "hide_input": true
   },
   "source": [
    "# A Monte Carlo demonstration ![Experimental feature](images/experimental.svg)\n",
    "\n",
    "Uncertainty is evaluated assuming Gaussian distributions. \n",
    "\n",
    "For input data : \n",
    "\n",
    "    value + best has a 15 % probability to be reached\n",
    "    value + worst has a 85 % probabiliy to be reached\n",
    "\n",
    "At interfaces, value is modified by perturbation when going through the connector. Perturbation value is: \n",
    "\n",
    "    + best with 15 % probability\n",
    "    + worst with 85 % probability\n",
    "\n",
    "## Design dispersion"
   ]
  },
  {
   "cell_type": "code",
   "execution_count": null,
   "metadata": {
    "ExecuteTime": {
     "end_time": "2018-07-17T07:37:55.349242Z",
     "start_time": "2018-07-17T07:37:53.873157Z"
    },
    "hide_input": true
   },
   "outputs": [],
   "source": [
    "import logging\n",
    "logging.getLogger().setLevel(logging.INFO)"
   ]
  },
  {
   "cell_type": "markdown",
   "metadata": {},
   "source": [
    "We will use the circuit define for the [multi-points design demonstration](08-Multipoints-Design.ipynb)."
   ]
  },
  {
   "cell_type": "code",
   "execution_count": null,
   "metadata": {},
   "outputs": [],
   "source": [
    "from cosapp.systems import System\n",
    "from cosapp.ports import Port\n",
    "from cosapp.drivers import NonLinearSolver, NonLinearMethods, RunSingleCase\n",
    "from cosapp.recorders import DataFrameRecorder\n",
    "import numpy as np\n",
    "\n",
    "\n",
    "class Voltage(Port):\n",
    "    \n",
    "    def setup(self):\n",
    "        self.add_variable('V', unit='V')\n",
    "\n",
    "        \n",
    "class Intensity(Port):\n",
    "    \n",
    "    def setup(self):\n",
    "        self.add_variable('I', unit='A')\n",
    "        \n",
    "        \n",
    "class Resistor(System):\n",
    "    \n",
    "    def setup(self, R=1.):\n",
    "        self.add_input(Voltage, 'V_in')\n",
    "        self.add_input(Voltage, 'V_out')\n",
    "        self.add_output(Intensity, 'I')\n",
    "        \n",
    "        self.add_inward('R', R, unit='ohm', desc='Resistance in Ohms')\n",
    "        self.add_outward('deltaV', unit='V')  # Not mandatory; could be local to compute method\n",
    "        \n",
    "    def compute(self):\n",
    "        self.deltaV = self.V_in.V - self.V_out.V\n",
    "        self.I.I = self.deltaV / self.R        \n",
    "\n",
    "        \n",
    "class Node(System):\n",
    "    \n",
    "    def setup(self, n_in=1, n_out=1):\n",
    "        self.add_property('n_in', int(n_in))\n",
    "        self.add_property('n_out', int(n_out))\n",
    "\n",
    "        if min(self.n_in, self.n_out) < 1:\n",
    "            raise ValueError(\"Node needs at least one incoming and one outgoing current\")\n",
    "\n",
    "        for i in range(self.n_in):\n",
    "            self.add_input(Intensity, f\"I_in{i}\")\n",
    "        for i in range(self.n_out):\n",
    "            self.add_input(Intensity, f\"I_out{i}\")\n",
    "        \n",
    "        self.add_inward('V')\n",
    "        self.add_unknown('V')  # Iterative variable\n",
    "        \n",
    "        self.add_outward('sum_I_in', 0., desc='Sum of all incoming currents')\n",
    "        self.add_outward('sum_I_out', 0., desc='Sum of all outgoing currents')\n",
    "        \n",
    "        self.add_equation('sum_I_in == sum_I_out', name='V')\n",
    "        \n",
    "    def compute(self):\n",
    "        self.sum_I_in = sum(self[f\"I_in{i}.I\"] for i in range(self.n_in))\n",
    "        self.sum_I_out = sum(self[f\"I_out{i}.I\"] for i in range(self.n_out))\n",
    "\n",
    "\n",
    "class Source(System):\n",
    "    \n",
    "    def setup(self, I=0.1):\n",
    "        self.add_inward('I', I)\n",
    "        self.add_output(Intensity, 'I_out', {'I': I})\n",
    "    \n",
    "    def compute(self):\n",
    "        self.I_out.I = self.I\n",
    "        \n",
    "        \n",
    "class Ground(System):\n",
    "    \n",
    "    def setup(self, V=0.):\n",
    "        self.add_inward('V', V)\n",
    "        self.add_output(Voltage, 'V_out', {'V': V})\n",
    "    \n",
    "    def compute(self):\n",
    "        self.V_out.V = self.V\n",
    "        \n",
    "\n",
    "class Circuit(System):\n",
    "    \n",
    "    def setup(self):\n",
    "        n1 = self.add_child(Node('n1', n_in=1, n_out=2), pulling={'I_in0': 'I_in'})\n",
    "        n2 = self.add_child(Node('n2'))\n",
    "        \n",
    "        R1 = self.add_child(Resistor('R1', R=1000.), pulling={'V_out': 'Vg'})\n",
    "        R2 = self.add_child(Resistor('R2', R=500.))\n",
    "        R3 = self.add_child(Resistor('R3', R=250.), pulling={'V_out': 'Vg'})\n",
    "        \n",
    "        self.connect(R1.V_in, n1.inwards, 'V')\n",
    "        self.connect(R2.V_in, n1.inwards, 'V')\n",
    "        self.connect(R1.I, n1.I_out0)\n",
    "        self.connect(R2.I, n1.I_out1)\n",
    "        \n",
    "        self.connect(R2.V_out, n2.inwards, 'V')\n",
    "        self.connect(R3.V_in, n2.inwards, 'V')\n",
    "        self.connect(R2.I, n2.I_in0)\n",
    "        self.connect(R3.I, n2.I_out0)\n",
    "        \n",
    "p = System('model')\n",
    "p.add_child(Source('source', I=0.1))\n",
    "p.add_child(Ground('ground', V=0.))\n",
    "p.add_child(Circuit('circuit'))\n",
    "\n",
    "p.connect(p.source.I_out, p.circuit.I_in)\n",
    "p.connect(p.ground.V_out, p.circuit.Vg)\n",
    "\n",
    "solve = p.add_driver(NonLinearSolver('solve', verbose=True))\n",
    "p.run_drivers()"
   ]
  },
  {
   "cell_type": "markdown",
   "metadata": {},
   "source": [
    "The following function will carry out the execution of the Monte Carlo simulation.\n",
    "\n",
    "It has two optional parameters:\n",
    "\n",
    "- `draws`: number of samples to draw\n",
    "- `linear`: use approximate linear derivative instead of mathematical resolution"
   ]
  },
  {
   "cell_type": "code",
   "execution_count": null,
   "metadata": {
    "ExecuteTime": {
     "end_time": "2018-07-17T07:37:55.518252Z",
     "start_time": "2018-07-17T07:37:55.351242Z"
    },
    "hide_input": false
   },
   "outputs": [],
   "source": [
    "from cosapp.core.numerics.distributions import Normal\n",
    "from cosapp.drivers import MonteCarlo\n",
    "from cosapp.recorders import DataFrameRecorder\n",
    "\n",
    "def run_analysis(syst, draws=1000, linear=True):\n",
    "    syst.drivers.clear()  # Remove all drivers on the System\n",
    "\n",
    "    solver = syst.add_driver(NonLinearSolver('design', verbose=False))  # Add numerical solver\n",
    "\n",
    "    # Add driver to set boundary conditions on point 1\n",
    "    point1 = solver.add_child(RunSingleCase('pt1'))\n",
    "    # Same as previous for a second point\n",
    "    point2 = solver.add_child(RunSingleCase('pt2'))\n",
    "\n",
    "    point1.set_values({\n",
    "        'source.I': 0.08, \n",
    "        'ground.V': 0,\n",
    "    })\n",
    "    point1.design.add_unknown('circuit.R2.R').add_equation('circuit.n2.V == 8')\n",
    "\n",
    "    point2.set_values({\n",
    "        'source.I': 0.15, \n",
    "        'ground.V': 0,\n",
    "    })\n",
    "    point2.design.add_unknown('circuit.R1.R').add_equation('circuit.n1.V == 50')\n",
    "\n",
    "    syst.run_drivers()\n",
    "\n",
    "    # Montecarlo\n",
    "    syst.drivers.clear()\n",
    "    montecarlo = syst.add_driver(MonteCarlo('mc'))\n",
    "    montecarlo.add_recorder(DataFrameRecorder(includes='circuit.R?.R'))\n",
    "    montecarlo.add_child(solver)\n",
    "    montecarlo.draws = draws\n",
    "    montecarlo.linear = linear\n",
    "\n",
    "    # parameters for uncertainties in the data\n",
    "    R_attr = syst.circuit.R3.inwards.get_details('R')\n",
    "    # Set the distribution around the current value\n",
    "    R_attr.distribution = Normal(best=100, worst=-50)\n",
    "    montecarlo.add_random_variable('circuit.R3.R')\n",
    "    montecarlo.add_response(['circuit.R1.R', 'circuit.R2.R'])\n",
    "    \n",
    "    # Computation\n",
    "    syst.run_drivers()\n",
    "    \n",
    "    return montecarlo.recorder.export_data()"
   ]
  },
  {
   "cell_type": "code",
   "execution_count": null,
   "metadata": {
    "ExecuteTime": {
     "end_time": "2018-07-17T07:38:20.197663Z",
     "start_time": "2018-07-17T07:38:19.738637Z"
    }
   },
   "outputs": [],
   "source": [
    "results = run_analysis(p)"
   ]
  },
  {
   "cell_type": "code",
   "execution_count": null,
   "metadata": {},
   "outputs": [],
   "source": [
    "import plotly.graph_objs as go\n",
    "from plotly.subplots import make_subplots\n",
    "\n",
    "# List of fields to plot\n",
    "fields = [n for n in results.columns if 'circuit' in n]\n",
    "\n",
    "# Create the figure object\n",
    "fig = make_subplots(rows=1, cols=3)\n",
    "fig.layout.title = \"Probability\"\n",
    "fig.layout.yaxis.title = 'percent'\n",
    "\n",
    "for i, field in enumerate(fields):\n",
    "    # Add plot\n",
    "    fig.add_trace(\n",
    "        go.Histogram(\n",
    "            x=results[field], \n",
    "            histnorm='percent',\n",
    "            name=field\n",
    "        ), \n",
    "        row = 1, \n",
    "        col = i + 1,\n",
    "    )\n",
    "    fig.get_subplot(1, i + 1).xaxis.title = field\n",
    "\n",
    "fig"
   ]
  }
 ],
 "metadata": {
  "kernelspec": {
   "display_name": "Python 3",
   "language": "python",
   "name": "python3"
  },
  "language_info": {
   "codemirror_mode": {
    "name": "ipython",
    "version": 3
   },
   "file_extension": ".py",
   "mimetype": "text/x-python",
   "name": "python",
   "nbconvert_exporter": "python",
   "pygments_lexer": "ipython3",
   "version": "3.7.4"
  }
 },
 "nbformat": 4,
 "nbformat_minor": 4
}