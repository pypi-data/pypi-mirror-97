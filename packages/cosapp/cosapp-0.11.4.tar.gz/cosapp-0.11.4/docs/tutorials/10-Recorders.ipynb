{
 "cells": [
  {
   "cell_type": "markdown",
   "metadata": {
    "nbsphinx": "hidden"
   },
   "source": [
    "![CoSAppLogo](images/cosapp.svg) **CoSApp** tutorials:"
   ]
  },
  {
   "cell_type": "markdown",
   "metadata": {},
   "source": [
    "# Recorders\n",
    "\n",
    "## What is a `Recorder`?!\n",
    "\n",
    "A `Recorder` saves results of a [Driver](03-Drivers.ipynb) for data sharing and/or analysis.\n",
    "\n",
    "## Introduction\n",
    "\n",
    "### Add a `Recorder`\n",
    "\n",
    "Simply use the `add_recorder` of a `Driver` method passing a recorder object you want to use \n",
    "(see [Available recorders](#Available-recorders) section of this tutorial)."
   ]
  },
  {
   "cell_type": "code",
   "execution_count": null,
   "metadata": {},
   "outputs": [],
   "source": [
    "from cosapp.tests.library.systems import Multiply1\n",
    "from cosapp.systems import System\n",
    "from cosapp.drivers import RunOnce\n",
    "from cosapp.recorders import DataFrameRecorder\n",
    "\n",
    "m = Multiply1('mult')\n",
    "run = m.add_driver(RunOnce('run', verbose=True))\n",
    "run.add_recorder(DataFrameRecorder())"
   ]
  },
  {
   "cell_type": "markdown",
   "metadata": {},
   "source": [
    "### Default behaviour\n",
    "\n",
    "By default, units are appended to the variable name in headers. Special columns are also included:\n",
    "- `Section`: User name reference\n",
    "- `Reference`: Internal reference for the record\n",
    "- `Status`: Status of the execution for the record\n",
    "- `Error code`: Error code for the record"
   ]
  },
  {
   "cell_type": "code",
   "execution_count": null,
   "metadata": {},
   "outputs": [],
   "source": [
    "m.run_drivers()\n",
    "run.recorder.export_data()"
   ]
  },
  {
   "cell_type": "markdown",
   "metadata": {},
   "source": [
    "### Common options\n",
    "\n",
    "All recorders share the following options at creation:\n",
    "- `includes`: variable name or list of variable names to be recorded. It supports traditional `*` and `?` wild cards characters.\n",
    "- `excludes`: variable name or list of variable names not to be recorded. Also supports `*` and `?`. `excludes` shadow `includes`.\n",
    "- `section`: section name of the recording (string)\n",
    "- `hold`: boolean, determining whether or not the recorder should hold previous data between computations (`False` by default).\n",
    "- `precision`: integer specifying the number of digits used when writing floating point number (9 by default).\n",
    "- `raw_output`: boolean, `False` by default. If `True`, the recorder will not add units in variable headers, and will not add the special columns.\n",
    "\n",
    "`section`, `hold` and `precision` can be modified after the recorder creation.\n"
   ]
  },
  {
   "cell_type": "code",
   "execution_count": null,
   "metadata": {},
   "outputs": [],
   "source": [
    "class Example(System):\n",
    "    \n",
    "    def setup(self):\n",
    "        self.add_inward('one', 0.)\n",
    "        self.add_inward('one_two', [0., 1.])\n",
    "        self.add_inward('two_1', 'test')\n",
    "        self.add_inward('two_2', 42.)\n",
    "        \n",
    "e = Example('test')\n",
    "run = e.add_driver(RunOnce('run'))\n",
    "run.add_recorder(DataFrameRecorder(includes=['one*', 'two_?'], excludes=['one_*', ]))\n",
    "e.run_drivers()\n",
    "\n",
    "run.recorder.export_data()  # special method creating a pandas.DataFrame"
   ]
  },
  {
   "cell_type": "code",
   "execution_count": null,
   "metadata": {},
   "outputs": [],
   "source": [
    "run.recorder.hold = True\n",
    "e.one = 22.\n",
    "e.run_drivers()\n",
    "run.recorder.export_data()"
   ]
  },
  {
   "cell_type": "markdown",
   "metadata": {},
   "source": [
    "## Available recorders\n",
    "\n",
    "### DataFrameRecorder\n",
    "\n",
    "Records data in a memory buffer, which can be exported as a `pandas.DataFrame` object after execution, using method `export_data()`.\n",
    "\n",
    "### DSVRecorder\n",
    "\n",
    "Records data in a Delimited Separated Value (DSV) formatted file. The constructor requires the file path, as a string.\n",
    "It has two specific options:\n",
    "- `delimiter`: delimiter symbol between columns (possibilities are `','`, `';'` or `'\\t'`)\n",
    "- `buffer`: boolean specifiying if the data must be written during the execution (`buffer=False`), or afterwards (`buffer=True`). Default is `False`."
   ]
  },
  {
   "cell_type": "code",
   "execution_count": null,
   "metadata": {},
   "outputs": [],
   "source": [
    "from cosapp.recorders import DSVRecorder\n",
    "m = Multiply1('mult')\n",
    "run = m.add_driver(RunOnce('run', verbose=True))\n",
    "run.add_recorder(DSVRecorder('test.csv', delimiter=';', precision=2))\n",
    "m.run_drivers()"
   ]
  },
  {
   "cell_type": "code",
   "execution_count": null,
   "metadata": {},
   "outputs": [],
   "source": [
    "%less test.csv"
   ]
  }
 ],
 "metadata": {
  "kernelspec": {
   "display_name": "Python 3",
   "language": "python",
   "name": "python3"
  },
  "language_info": {
   "codemirror_mode": {
    "name": "ipython",
    "version": 3
   },
   "file_extension": ".py",
   "mimetype": "text/x-python",
   "name": "python",
   "nbconvert_exporter": "python",
   "pygments_lexer": "ipython3",
   "version": "3.7.8-final"
  }
 },
 "nbformat": 4,
 "nbformat_minor": 2
}