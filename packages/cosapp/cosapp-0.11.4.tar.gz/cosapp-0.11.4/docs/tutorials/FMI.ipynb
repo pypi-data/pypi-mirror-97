{
 "cells": [
  {
   "cell_type": "markdown",
   "metadata": {
    "nbsphinx": "hidden"
   },
   "source": [
    "![CoSAppLogo](images/cosapp.svg) **CoSApp** examples:"
   ]
  },
  {
   "cell_type": "markdown",
   "metadata": {},
   "source": [
    "# FMI\n",
    "\n",
    "The Functional Mock-up Interface (FMI) is a standard that defines a container and an interface to exchange dynamic models using a combination of XML files, binaries and C code zipped into a single file.\n",
    "\n",
    "For further detail, please look at the official website: https://fmi-standard.org/\n",
    "\n",
    "The goal of the standard is to allow the co-simulation of models from different tools. This notebook presents how to package a CoSApp model as a Functional Mock-up Unit (FMU)."
   ]
  },
  {
   "cell_type": "markdown",
   "metadata": {},
   "source": [
    "## System without iterative"
   ]
  },
  {
   "cell_type": "markdown",
   "metadata": {},
   "source": [
    "### Case description"
   ]
  },
  {
   "cell_type": "markdown",
   "metadata": {},
   "source": [
    "#### Creating the elements\n",
    "\n",
    "First, you need to export your CoSApp system code into a separate file."
   ]
  },
  {
   "cell_type": "code",
   "execution_count": null,
   "metadata": {},
   "outputs": [],
   "source": [
    "from exprampode_fmu import ExpRampOde\n",
    "\n",
    "# Trick to display nicely the class code\n",
    "from IPython.display import Markdown\n",
    "import inspect\n",
    "Markdown(f\"```py\\n{inspect.getsource(ExpRampOde)}```\")"
   ]
  },
  {
   "cell_type": "markdown",
   "metadata": {},
   "source": [
    "#### Export to FMU\n",
    "\n",
    "Exporting a CoSApp system is done using function `cosapp.tools.to_fmu`.\n",
    "\n",
    "When this function is called, actual system parameters will be used as default values in the FMU."
   ]
  },
  {
   "cell_type": "code",
   "execution_count": null,
   "metadata": {},
   "outputs": [],
   "source": [
    "import os\n",
    "import tempfile\n",
    "import shutil\n",
    "\n",
    "from cosapp.tools import to_fmu\n",
    "\n",
    "syst = ExpRampOde('fmu1')\n",
    "\n",
    "# Customize parameters\n",
    "syst.a = 5\n",
    "\n",
    "if not os.path.exists('fmus'):\n",
    "    os.mkdir('fmus')\n",
    "\n",
    "# Export the FMU in a temporary directory\n",
    "with tempfile.TemporaryDirectory() as tmp_dir:\n",
    "    fmu_file = to_fmu(syst, dest=tmp_dir, locals=['f', 'df_dt'])\n",
    "    shutil.copy2(fmu_file, 'fmus')\n",
    ""
   ]
  },
  {
   "cell_type": "markdown",
   "metadata": {},
   "source": [
    "#### Use the FMU"
   ]
  },
  {
   "cell_type": "code",
   "execution_count": null,
   "metadata": {},
   "outputs": [],
   "source": [
    "import pyfmi\n",
    "\n",
    "fmu = pyfmi.load_fmu('fmus/ExpRampOde.fmu')\n",
    "results = fmu.simulate(final_time=10.)"
   ]
  },
  {
   "cell_type": "code",
   "execution_count": null,
   "metadata": {},
   "outputs": [],
   "source": [
    "# Plot results\n",
    "import plotly.graph_objs as go\n",
    "\n",
    "layout = go.Layout(\n",
    "    height = 450,\n",
    "    xaxis = dict(title=\"time\"),\n",
    "    yaxis = dict(title = \"f\")\n",
    ")\n",
    "\n",
    "go.Figure(\n",
    "    data=go.Scatter(\n",
    "        x = results['time'], \n",
    "        y = results['f'],\n",
    "    ), \n",
    "    layout=layout)"
   ]
  }
 ],
 "metadata": {
  "language_info": {
   "name": "python",
   "pygments_lexer": "ipython3"
  }
 },
 "nbformat": 4,
 "nbformat_minor": 4
}