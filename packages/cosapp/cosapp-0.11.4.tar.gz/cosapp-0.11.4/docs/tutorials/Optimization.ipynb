{
 "cells": [
  {
   "cell_type": "markdown",
   "metadata": {
    "nbsphinx": "hidden"
   },
   "source": [
    "![CoSAppLogo](images/cosapp.svg) **CoSApp** examples:"
   ]
  },
  {
   "cell_type": "markdown",
   "metadata": {},
   "source": [
    "# Optimization\n",
    "\n",
    "Preliminary note:\n",
    "\n",
    "This case is taken from [OpenMDAO](http://openmdao.org/twodocs/versions/latest/examples/betz_limit/betz.html). OpenMDAO is an open-source computing platform for system analysis and multidisciplinary optimization developed by the NASA. Its philosophy shares some of the goals of CoSApp. Thus, this example is also an opportunity to compare both libraries.\n",
    "\n",
    "OpenMDAO is licensed under [Apache License](https://github.com/OpenMDAO/OpenMDAO/blob/master/LICENSE.txt).\n",
    "\n",
    "## Case description\n",
    "\n",
    "**Optimizing an Actuator Disk Model to Find Betz Limit for Wind Turbines**\n",
    "\n",
    "The Betz limit is the theoretical maximum amount of kinetic energy that a wind turbine can extract from the flow. This limit was derived analytically by Albert Betz in 1919, but it can also be found numerically using an optimizer and a simple actuator disk model for a wind-turbine.\n",
    "\n",
    "## Creating the elements"
   ]
  },
  {
   "cell_type": "code",
   "execution_count": null,
   "metadata": {},
   "outputs": [],
   "source": [
    "from cosapp.ports import Port\n",
    "from cosapp.systems import System\n",
    "from cosapp.drivers import Optimizer\n",
    "\n",
    "class ActuatorDisc(System):\n",
    "    \"\"\"Simple wind turbine model based on actuator disc theory\"\"\"\n",
    "\n",
    "    def setup(self):\n",
    "\n",
    "        # Inputs\n",
    "        self.add_inward('a', 0.5, desc=\"Induced Velocity Factor\")\n",
    "        self.add_inward('area', 10.0, unit=\"m**2\", desc=\"Rotor disc area\")\n",
    "        self.add_inward('rho', 1.225, unit=\"kg/m**3\", desc=\"air density\")\n",
    "        self.add_inward('Vu', 10.0, unit=\"m/s\",\n",
    "            desc=\"Freestream air velocity, upstream of rotor\")\n",
    "\n",
    "        # Outputs\n",
    "        self.add_outward('Vr', 0.0, unit=\"m/s\",\n",
    "            desc=\"Air velocity at rotor exit plane\")\n",
    "        self.add_outward('Vd', 0.0, unit=\"m/s\",\n",
    "            desc=\"Slipstream air velocity, downstream of rotor\")\n",
    "        self.add_outward('Ct', 0.0, desc=\"Thrust Coefficient\")\n",
    "        self.add_outward('thrust', 0.0, unit=\"N\",\n",
    "            desc=\"Thrust produced by the rotor\")\n",
    "        self.add_outward('Cp', 0.0, desc=\"Power Coefficient\")\n",
    "        self.add_outward('power', 0.0, unit=\"W\",\n",
    "            desc=\"Power produced by the rotor\")\n",
    "\n",
    "\n",
    "    def compute(self):\n",
    "        \"\"\"\n",
    "        Considering the entire rotor as a single disc that extracts\n",
    "        velocity uniformly from the incoming flow and converts it to\n",
    "        power.\n",
    "        \"\"\"\n",
    "        a = self.a\n",
    "        Vu = self.Vu\n",
    "\n",
    "        qA = 0.5 * self.rho * self.area * Vu**2\n",
    "\n",
    "        self.Vd = Vd = Vu * (1 - 2 * a)\n",
    "        self.Vr = 0.5 * (Vu + Vd)\n",
    "\n",
    "        self.Ct = Ct = 4 * a * (1 - a)\n",
    "        self.thrust = Ct * qA\n",
    "\n",
    "        self.Cp = Cp = Ct * (1 - a)\n",
    "        self.power = Cp * qA * Vu\n"
   ]
  },
  {
   "cell_type": "markdown",
   "metadata": {},
   "source": [
    "## Setting the problem"
   ]
  },
  {
   "cell_type": "code",
   "execution_count": null,
   "metadata": {},
   "outputs": [],
   "source": [
    "# build the model\n",
    "prob = ActuatorDisc('a_disk')\n",
    "\n",
    "prob.a = .5\n",
    "prob.area = 10.0\n",
    "prob.rho = 1.225\n",
    "prob.Vu = 10.0"
   ]
  },
  {
   "cell_type": "markdown",
   "metadata": {},
   "source": [
    "## Solving the optimization"
   ]
  },
  {
   "cell_type": "code",
   "execution_count": null,
   "metadata": {},
   "outputs": [],
   "source": [
    "# setup the optimization\n",
    "opt = prob.add_driver(Optimizer('optimization', method='SLSQP'))\n",
    "\n",
    "opt.runner.add_unknown('a', lower_bound=0., upper_bound=1.)\n",
    "opt.runner.add_unknown('area', lower_bound=0., upper_bound=1.)\n",
    "# negative one so we maximize the objective\n",
    "opt.runner.set_objective('-Cp')\n",
    "\n",
    "prob.run_drivers()"
   ]
  },
  {
   "cell_type": "markdown",
   "metadata": {},
   "source": [
    "## Validation \n",
    "\n",
    "Validation of minimum value vs. OpenMDAO results"
   ]
  },
  {
   "cell_type": "code",
   "execution_count": null,
   "metadata": {},
   "outputs": [],
   "source": [
    "assert abs(prob['Cp'] / 0.59259259 - 1) < 1e-6\n",
    "assert abs(prob['a'] / 0.33335528 - 1) < 1e-6\n",
    "assert abs(prob['area'] - 1) < 1e-6"
   ]
  }
 ],
 "metadata": {
  "language_info": {
   "name": "python",
   "pygments_lexer": "ipython3"
  }
 },
 "nbformat": 4,
 "nbformat_minor": 4
}