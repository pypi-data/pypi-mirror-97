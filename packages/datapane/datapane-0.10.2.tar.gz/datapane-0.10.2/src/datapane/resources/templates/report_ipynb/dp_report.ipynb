{
 "cells": [
  {
   "cell_type": "markdown",
   "source": [
    "Sample Datapane Report - {{ name }}"
   ],
   "metadata": {
    "collapsed": false
   }
  },
  {
   "cell_type": "code",
   "execution_count": null,
   "metadata": {
    "collapsed": true
   },
   "outputs": [],
   "source": [
    "import altair as alt\n",
    "import pandas as pd\n",
    "import datapane as dp"
   ]
  },
  {
   "cell_type": "code",
   "execution_count": null,
   "outputs": [],
   "source": [
    "# get the data\n",
    "dataset = pd.read_csv('https://covid.ourworldindata.org/data/owid-covid-data.csv')\n",
    "df = dataset.groupby(['continent', 'date'])['new_cases_smoothed_per_million'].mean().reset_index()\n",
    "\n",
    "# build an altair plot\n",
    "plot = alt.Chart(df).mark_area(opacity=0.4, stroke='black').encode(\n",
    "    x='date:T',\n",
    "    y=alt.Y('new_cases_smoothed_per_million:Q', stack=None),\n",
    "    color=alt.Color('continent:N', scale=alt.Scale(scheme='set1')),\n",
    "    tooltip='continent:N'\n",
    ").interactive().properties(width='container')\n"
   ],
   "metadata": {
    "collapsed": false,
    "pycharm": {
     "name": "#%%\n"
    }
   }
  },
  {
   "cell_type": "code",
   "execution_count": null,
   "outputs": [],
   "source": [
    "# embed data and plot into a Datapane report and publish\n",
    "report = dp.Report(\"## Covid data per continent\", dp.Plot(plot), dp.DataTable(df))\n",
    "report.publish(name='Covid Demo {{ name }}', description=\"Plot of Covid infections per continent, using data from ourworldindata\", open=True)"
   ],
   "metadata": {
    "collapsed": false,
    "pycharm": {
     "name": "#%%\n"
    }
   }
  }
 ],
 "metadata": {
  "kernelspec": {
   "display_name": "Python 3",
   "language": "python",
   "name": "python3"
  },
  "language_info": {
   "codemirror_mode": {
    "name": "ipython",
    "version": 2
   },
   "file_extension": ".py",
   "mimetype": "text/x-python",
   "name": "python",
   "nbconvert_exporter": "python",
   "pygments_lexer": "ipython2",
   "version": "2.7.6"
  }
 },
 "nbformat": 4,
 "nbformat_minor": 0
}