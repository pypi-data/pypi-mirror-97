{
 "cells": [
  {
   "cell_type": "code",
   "execution_count": null,
   "metadata": {
    "id": "HvSJBvXhD1f4"
   },
   "outputs": [],
   "source": [
    "# default_exp merge"
   ]
  },
  {
   "cell_type": "markdown",
   "metadata": {
    "id": "WNgfqEQsD1gE"
   },
   "source": [
    "# Merge Data\n",
    "\n",
    "> This notebook was made to demonstrate how to merge datasets by matching a single columns values from two datasets. We add columns of data from a foreign dataset into the ACS data we downloaded in our last tutorial."
   ]
  },
  {
   "cell_type": "markdown",
   "metadata": {
    "id": "79LYg3-SD1gE"
   },
   "source": [
    "This Coding Notebook is the __second__ in a series.\n",
    "\n",
    "An Interactive version can be found here <a href=\"https://colab.research.google.com/github/karpatic/dataplay/blob/master/notebooks/02_Merge_Data.ipynb\" target=\"_parent\"><img src=\"https://colab.research.google.com/assets/colab-badge.svg\" alt=\"Open In Colab\"/></a>.\n",
    "\n",
    "\n",
    "This colab and more can be found on our [webpage](https://karpatic.github.io/dataplay/). \n",
    "\n",
    "- Content covered in previous tutorials will be used in later tutorials. \n",
    "\n",
    "- __New code and or  information *should* have explanations and or descriptions__ attached. \n",
    "\n",
    "- Concepts or code covered in previous tutorials will be used without being explaining in entirety.\n",
    "\n",
    "- The [Dataplay](https://karpatic.github.io/dataplay/) Handbook development techniques covered in the [Datalabs](https://karpatic.github.io/datalabs/) Guidebook\n",
    "\n",
    "- __If content can not be found in the current tutorial and is not covered in previous tutorials, please let me know.__\n",
    "\n",
    "- This notebook has been optimized for Google Colabs ran on a Chrome Browser. \n",
    "\n",
    "- Statements found in the index page on view expressed, responsibility, errors and ommissions, use at risk, and licensing  extend throughout the tutorial."
   ]
  },
  {
   "cell_type": "markdown",
   "metadata": {
    "id": "YbEIVv1hD1gE"
   },
   "source": [
    "[![Binder](https://mybinder.org/badge_logo.svg)](https://mybinder.org/v2/gh/karpatic/datalab/master?filepath=%2Fnotebooks%2Findex.ipynb)\r\n",
    "[![Binder](https://pete88b.github.io/fastpages/assets/badges/colab.svg)](https://colab.research.google.com/github/karpatic/datalab/blob/master/notebooks/index.ipynb)\r\n",
    "[![Binder](https://pete88b.github.io/fastpages/assets/badges/github.svg)](https://github.com/karpatic/datalab/tree/master/notebooks/index.ipynb)\r\n",
    "[![Open Source Love svg3](https://badges.frapsoft.com/os/v3/open-source.svg?v=103)](https://github.com/ellerbrock/open-source-badges/)\r\n",
    "\r\n",
    "[![NPM License](https://img.shields.io/npm/l/all-contributors.svg?style=flat)](https://github.com/karpatic/dataplay/blob/master/LICENSE)\r\n",
    "[![Active](http://img.shields.io/badge/Status-Active-green.svg)](https://karpatic.github.io) \r\n",
    "[![Python Versions](https://img.shields.io/pypi/pyversions/dataplay.svg)](https://pypi.python.org/pypi/dataplay/)\r\n",
    "[![GitHub last commit](https://img.shields.io/github/last-commit/karpatic/dataplay.svg?style=flat)]() \r\n",
    "[![No Maintenance Intended](http://unmaintained.tech/badge.svg)](http://unmaintained.tech/) \r\n",
    "\r\n",
    "[![GitHub stars](https://img.shields.io/github/stars/karpatic/dataplay.svg?style=social&label=Star)](https://github.com/karpatic/dataplay) \r\n",
    "[![GitHub watchers](https://img.shields.io/github/watchers/karpatic/dataplay.svg?style=social&label=Watch)](https://github.com/karpatic/dataplay) \r\n",
    "[![GitHub forks](https://img.shields.io/github/forks/karpatic/dataplay.svg?style=social&label=Fork)](https://github.com/karpatic/dataplay) \r\n",
    "[![GitHub followers](https://img.shields.io/github/followers/karpatic.svg?style=social&label=Follow)](https://github.com/karpatic/dataplay) \r\n",
    "\r\n",
    "[![Tweet](https://img.shields.io/twitter/url/https/github.com/karpatic/dataplay.svg?style=social)](https://twitter.com/intent/tweet?text=Check%20out%20this%20%E2%9C%A8%20colab%20by%20@bniajfi%20https://github.com/karpatic/dataplay%20%F0%9F%A4%97) \r\n",
    "[![Twitter Follow](https://img.shields.io/twitter/follow/bniajfi.svg?style=social)](https://twitter.com/bniajfi)"
   ]
  },
  {
   "cell_type": "markdown",
   "metadata": {
    "id": "QwUwHew_D1gF"
   },
   "source": [
    "## About this Tutorial: "
   ]
  },
  {
   "cell_type": "markdown",
   "metadata": {
    "id": "9c50gR8MD1gF"
   },
   "source": [
    "### Whats Inside?"
   ]
  },
  {
   "cell_type": "markdown",
   "metadata": {
    "id": "k2AlFGbRD1gF"
   },
   "source": [
    "#### __The Tutorial__\n",
    "\n",
    "In this notebook, the basics of how to perform a merge are introduced.\n",
    "\n",
    "- We will merge two datasets\n",
    "- We will merge two datasets using a crosswalk\n"
   ]
  },
  {
   "cell_type": "markdown",
   "metadata": {
    "id": "FS3G6_U3D1gF"
   },
   "source": [
    "#### __Objectives__\n",
    "\n",
    "By the end of this tutorial users should have an understanding of:\n",
    "- How dataset merges are performed\n",
    "- The types different union approaches a merge can take\n",
    "- The 'mergeData' function, and how to use it in the future"
   ]
  },
  {
   "cell_type": "markdown",
   "metadata": {
    "id": "kdJu8nqRD1gG"
   },
   "source": [
    "# Guided Walkthrough"
   ]
  },
  {
   "cell_type": "markdown",
   "metadata": {
    "id": "Qymk6Fz4D1gG"
   },
   "source": [
    "## SETUP"
   ]
  },
  {
   "cell_type": "markdown",
   "metadata": {
    "id": "NpcD9LyaD1gG"
   },
   "source": [
    "Install these libraries onto the virtual environment."
   ]
  },
  {
   "cell_type": "code",
   "execution_count": null,
   "metadata": {
    "id": "oh6PQOCPD1gG"
   },
   "outputs": [],
   "source": [
    "%%capture\n",
    "!pip install geopandas\n",
    "!pip install dataplay"
   ]
  },
  {
   "cell_type": "code",
   "execution_count": null,
   "metadata": {
    "id": "broVz9CiD1gG"
   },
   "outputs": [],
   "source": [
    "# @title Run: Install Modules"
   ]
  },
  {
   "cell_type": "code",
   "execution_count": null,
   "metadata": {
    "id": "WHNby2viD1gH",
    "outputId": "a12c51f5-d7e6-4bd4-8676-2bf6b0ede1bd"
   },
   "outputs": [
    {
     "name": "stderr",
     "output_type": "stream",
     "text": [
      "/usr/local/lib/python3.7/dist-packages/dataplay/acsDownload.py:27: FutureWarning: Passing a negative integer is deprecated in version 1.0 and will not be supported in future version. Instead, use None to not limit the column width.\n",
      "  pd.set_option('display.max_colwidth', -1)\n",
      "/usr/local/lib/python3.7/dist-packages/psycopg2/__init__.py:144: UserWarning: The psycopg2 wheel package will be renamed from release 2.8; in order to keep installing from binary please use \"pip install psycopg2-binary\" instead. For details see: <http://initd.org/psycopg/docs/install.html#binary-install-from-pypi>.\n",
      "  \"\"\")\n"
     ]
    }
   ],
   "source": [
    "#export\n",
    "# @title Run: Import Modules\n",
    "\n",
    "# These imports will handle everything\n",
    "import os\n",
    "import sys\n",
    "import csv\n",
    "import numpy as np\n",
    "import pandas as pd\n",
    "from dataplay.acsDownload import retrieve_acs_data\n",
    "from dataplay.intaker import Intake"
   ]
  },
  {
   "cell_type": "code",
   "execution_count": null,
   "metadata": {
    "id": "GhM56HxKD1gH"
   },
   "outputs": [],
   "source": [
    "# hide\n",
    "pd.set_option('max_colwidth', 20)\n",
    "pd.set_option('display.expand_frame_repr', False)\n",
    "pd.set_option('display.precision', 2)"
   ]
  },
  {
   "cell_type": "markdown",
   "metadata": {
    "id": "BKLHgcV6D1gH"
   },
   "source": [
    "## Retrieve Datasets"
   ]
  },
  {
   "cell_type": "markdown",
   "metadata": {
    "id": "fuOhq_cPD1gI"
   },
   "source": [
    "Our example will merge two simple datasets; pulling CSA names using tract ID's.\n",
    "\n",
    "The __First__ dataset will be obtained from the Census' ACS 5-year serveys. \n",
    "\n",
    "Functions used to obtain this data were obtained from Tutorial 0) ACS: Explore and Download. "
   ]
  },
  {
   "cell_type": "markdown",
   "metadata": {
    "id": "rooxA90ND1gI"
   },
   "source": [
    "\r\n",
    "The __Second__ dataset is from a publicly accessible link"
   ]
  },
  {
   "cell_type": "markdown",
   "metadata": {
    "id": "pw1ouTxzD1gI"
   },
   "source": [
    "### Get the Principal dataset."
   ]
  },
  {
   "cell_type": "markdown",
   "metadata": {
    "id": "e6zzYmMMD1gI"
   },
   "source": [
    "We will use the function we created in our last tutorial to download the data!"
   ]
  },
  {
   "cell_type": "code",
   "execution_count": null,
   "metadata": {
    "id": "ryomckMlD1gI"
   },
   "outputs": [],
   "source": [
    "# Our download function will use Baltimore City's tract, county and state as internal paramters\n",
    "# Change these values in the cell below using different geographic reference codes will change those parameters\n",
    "tract = '*'\n",
    "county = '510'\n",
    "state = '24'\n",
    "\n",
    "# Specify the download parameters the function will receieve here\n",
    "tableId = 'B19001'\n",
    "year = '17'\n",
    "saveAcs = False"
   ]
  },
  {
   "cell_type": "code",
   "execution_count": null,
   "metadata": {
    "id": "UI3cEX3HD1gI",
    "outputId": "2471b94b-dad0-4856-8c2f-e03eb64acbb8"
   },
   "outputs": [
    {
     "name": "stdout",
     "output_type": "stream",
     "text": [
      "Number of Columns 17\n"
     ]
    },
    {
     "data": {
      "text/html": [
       "<div>\n",
       "<style scoped>\n",
       "    .dataframe tbody tr th:only-of-type {\n",
       "        vertical-align: middle;\n",
       "    }\n",
       "\n",
       "    .dataframe tbody tr th {\n",
       "        vertical-align: top;\n",
       "    }\n",
       "\n",
       "    .dataframe thead th {\n",
       "        text-align: right;\n",
       "    }\n",
       "</style>\n",
       "<table border=\"1\" class=\"dataframe\">\n",
       "  <thead>\n",
       "    <tr style=\"text-align: right;\">\n",
       "      <th></th>\n",
       "      <th>B19001_001E_Total</th>\n",
       "      <th>B19001_002E_Total_Less_than_$10,000</th>\n",
       "      <th>B19001_003E_Total_$10,000_to_$14,999</th>\n",
       "      <th>B19001_004E_Total_$15,000_to_$19,999</th>\n",
       "      <th>B19001_005E_Total_$20,000_to_$24,999</th>\n",
       "      <th>B19001_006E_Total_$25,000_to_$29,999</th>\n",
       "      <th>B19001_007E_Total_$30,000_to_$34,999</th>\n",
       "      <th>B19001_008E_Total_$35,000_to_$39,999</th>\n",
       "      <th>B19001_009E_Total_$40,000_to_$44,999</th>\n",
       "      <th>B19001_010E_Total_$45,000_to_$49,999</th>\n",
       "      <th>B19001_011E_Total_$50,000_to_$59,999</th>\n",
       "      <th>B19001_012E_Total_$60,000_to_$74,999</th>\n",
       "      <th>B19001_013E_Total_$75,000_to_$99,999</th>\n",
       "      <th>B19001_014E_Total_$100,000_to_$124,999</th>\n",
       "      <th>B19001_015E_Total_$125,000_to_$149,999</th>\n",
       "      <th>B19001_016E_Total_$150,000_to_$199,999</th>\n",
       "      <th>B19001_017E_Total_$200,000_or_more</th>\n",
       "      <th>state</th>\n",
       "      <th>county</th>\n",
       "      <th>tract</th>\n",
       "    </tr>\n",
       "    <tr>\n",
       "      <th>NAME</th>\n",
       "      <th></th>\n",
       "      <th></th>\n",
       "      <th></th>\n",
       "      <th></th>\n",
       "      <th></th>\n",
       "      <th></th>\n",
       "      <th></th>\n",
       "      <th></th>\n",
       "      <th></th>\n",
       "      <th></th>\n",
       "      <th></th>\n",
       "      <th></th>\n",
       "      <th></th>\n",
       "      <th></th>\n",
       "      <th></th>\n",
       "      <th></th>\n",
       "      <th></th>\n",
       "      <th></th>\n",
       "      <th></th>\n",
       "      <th></th>\n",
       "    </tr>\n",
       "  </thead>\n",
       "  <tbody>\n",
       "    <tr>\n",
       "      <th>Census Tract 2710.02</th>\n",
       "      <td>1510</td>\n",
       "      <td>209</td>\n",
       "      <td>73</td>\n",
       "      <td>94</td>\n",
       "      <td>97</td>\n",
       "      <td>110</td>\n",
       "      <td>119</td>\n",
       "      <td>97</td>\n",
       "      <td>65</td>\n",
       "      <td>36</td>\n",
       "      <td>149</td>\n",
       "      <td>168</td>\n",
       "      <td>106</td>\n",
       "      <td>66</td>\n",
       "      <td>44</td>\n",
       "      <td>50</td>\n",
       "      <td>27</td>\n",
       "      <td>24</td>\n",
       "      <td>510</td>\n",
       "      <td>271002</td>\n",
       "    </tr>\n",
       "    <tr>\n",
       "      <th>Census Tract 2604.02</th>\n",
       "      <td>1134</td>\n",
       "      <td>146</td>\n",
       "      <td>29</td>\n",
       "      <td>73</td>\n",
       "      <td>80</td>\n",
       "      <td>41</td>\n",
       "      <td>91</td>\n",
       "      <td>49</td>\n",
       "      <td>75</td>\n",
       "      <td>81</td>\n",
       "      <td>170</td>\n",
       "      <td>57</td>\n",
       "      <td>162</td>\n",
       "      <td>63</td>\n",
       "      <td>11</td>\n",
       "      <td>6</td>\n",
       "      <td>0</td>\n",
       "      <td>24</td>\n",
       "      <td>510</td>\n",
       "      <td>260402</td>\n",
       "    </tr>\n",
       "    <tr>\n",
       "      <th>Census Tract 2712</th>\n",
       "      <td>2276</td>\n",
       "      <td>69</td>\n",
       "      <td>43</td>\n",
       "      <td>41</td>\n",
       "      <td>22</td>\n",
       "      <td>46</td>\n",
       "      <td>67</td>\n",
       "      <td>0</td>\n",
       "      <td>30</td>\n",
       "      <td>30</td>\n",
       "      <td>80</td>\n",
       "      <td>146</td>\n",
       "      <td>321</td>\n",
       "      <td>216</td>\n",
       "      <td>139</td>\n",
       "      <td>261</td>\n",
       "      <td>765</td>\n",
       "      <td>24</td>\n",
       "      <td>510</td>\n",
       "      <td>271200</td>\n",
       "    </tr>\n",
       "    <tr>\n",
       "      <th>Census Tract 2804.04</th>\n",
       "      <td>961</td>\n",
       "      <td>111</td>\n",
       "      <td>108</td>\n",
       "      <td>61</td>\n",
       "      <td>42</td>\n",
       "      <td>56</td>\n",
       "      <td>37</td>\n",
       "      <td>73</td>\n",
       "      <td>30</td>\n",
       "      <td>31</td>\n",
       "      <td>106</td>\n",
       "      <td>119</td>\n",
       "      <td>74</td>\n",
       "      <td>23</td>\n",
       "      <td>27</td>\n",
       "      <td>24</td>\n",
       "      <td>39</td>\n",
       "      <td>24</td>\n",
       "      <td>510</td>\n",
       "      <td>280404</td>\n",
       "    </tr>\n",
       "    <tr>\n",
       "      <th>Census Tract 901</th>\n",
       "      <td>1669</td>\n",
       "      <td>158</td>\n",
       "      <td>124</td>\n",
       "      <td>72</td>\n",
       "      <td>48</td>\n",
       "      <td>108</td>\n",
       "      <td>68</td>\n",
       "      <td>121</td>\n",
       "      <td>137</td>\n",
       "      <td>99</td>\n",
       "      <td>109</td>\n",
       "      <td>191</td>\n",
       "      <td>160</td>\n",
       "      <td>141</td>\n",
       "      <td>28</td>\n",
       "      <td>88</td>\n",
       "      <td>17</td>\n",
       "      <td>24</td>\n",
       "      <td>510</td>\n",
       "      <td>90100</td>\n",
       "    </tr>\n",
       "  </tbody>\n",
       "</table>\n",
       "</div>"
      ],
      "text/plain": [
       "                      B19001_001E_Total  B19001_002E_Total_Less_than_$10,000  B19001_003E_Total_$10,000_to_$14,999  B19001_004E_Total_$15,000_to_$19,999  B19001_005E_Total_$20,000_to_$24,999  B19001_006E_Total_$25,000_to_$29,999  B19001_007E_Total_$30,000_to_$34,999  B19001_008E_Total_$35,000_to_$39,999  B19001_009E_Total_$40,000_to_$44,999  B19001_010E_Total_$45,000_to_$49,999  B19001_011E_Total_$50,000_to_$59,999  B19001_012E_Total_$60,000_to_$74,999  B19001_013E_Total_$75,000_to_$99,999  B19001_014E_Total_$100,000_to_$124,999  B19001_015E_Total_$125,000_to_$149,999  B19001_016E_Total_$150,000_to_$199,999  B19001_017E_Total_$200,000_or_more  state  county   tract\n",
       "NAME                                                                                                                                                                                                                                                                                                                                                                                                                                                                                                                                                                                                                                                                                             \n",
       "Census Tract 2710.02               1510                  209                                   73                                    94                                    97                                   110                                   119                                    97                                    65                                    36                                   149                                   168                                   106                                    66                                      44                                      50                                      27                    24     510  271002\n",
       "Census Tract 2604.02               1134                  146                                   29                                    73                                    80                                    41                                    91                                    49                                    75                                    81                                   170                                    57                                   162                                    63                                      11                                       6                                       0                    24     510  260402\n",
       "Census Tract 2712                  2276                   69                                   43                                    41                                    22                                    46                                    67                                     0                                    30                                    30                                    80                                   146                                   321                                   216                                     139                                     261                                     765                    24     510  271200\n",
       "Census Tract 2804.04                961                  111                                  108                                    61                                    42                                    56                                    37                                    73                                    30                                    31                                   106                                   119                                    74                                    23                                      27                                      24                                      39                    24     510  280404\n",
       "Census Tract 901                   1669                  158                                  124                                    72                                    48                                   108                                    68                                   121                                   137                                    99                                   109                                   191                                   160                                   141                                      28                                      88                                      17                    24     510   90100"
      ]
     },
     "execution_count": 0,
     "metadata": {
      "tags": []
     },
     "output_type": "execute_result"
    }
   ],
   "source": [
    "df = retrieve_acs_data(state, county, tract, tableId, year, saveAcs)\n",
    "df.head()"
   ]
  },
  {
   "cell_type": "markdown",
   "metadata": {
    "id": "xXi6kJeqD1gJ"
   },
   "source": [
    "### Get the Secondary Dataset"
   ]
  },
  {
   "cell_type": "markdown",
   "metadata": {
    "id": "SDxVvio8D1gJ"
   },
   "source": [
    "Spatial data can be attained by using the 2010 Census Tract Shapefile Picking [Tool](https://www.census.gov/cgi-bin/geo/shapefiles/index.php?year=2010&layergroup=Census+Tracts) or search their website for\n",
    "Tiger/[Line](https://www.census.gov/geographies/mapping-files/time-series/geo/tiger-line-file.2010.html) Shapefiles\n",
    "> The core TIGER/Line Files and Shapefiles do not include demographic data, but they do contain geographic entity codes (GEOIDs) that can be linked to the Census Bureau’s demographic data, available on data.census.gov.-census.gov\n"
   ]
  },
  {
   "cell_type": "markdown",
   "metadata": {
    "id": "ahE4lBxID1gJ"
   },
   "source": [
    "For this example, we will simply pull a local dataset containing columns labeling tracts within Baltimore City and their corresponding CSA (Community Statistical Area). Typically, we use this dataset internally as a \"crosswalk\" where-upon a succesfull merge using the tract column, will be merged with a 3rd dataset along it's CSA column.  "
   ]
  },
  {
   "cell_type": "code",
   "execution_count": null,
   "metadata": {
    "id": "pd2YNFM2D1gJ",
    "outputId": "42911399-6c1e-4936-8a92-6fde541f8a32"
   },
   "outputs": [
    {
     "name": "stdout",
     "output_type": "stream",
     "text": [
      "  % Total    % Received % Xferd  Average Speed   Time    Time     Time  Current\n",
      "                                 Dload  Upload   Total   Spent    Left  Speed\n",
      "100  8101  100  8101    0     0  23896      0 --:--:-- --:--:-- --:--:-- 23896\n"
     ]
    }
   ],
   "source": [
    "!curl https://bniajfi.org/vs_resources/CSA-to-Tract-2010.csv\t> CSA-to-Tract-2010.csv"
   ]
  },
  {
   "cell_type": "code",
   "execution_count": null,
   "metadata": {
    "id": "2HCG2cfvD1gJ",
    "outputId": "e9dd81bb-c638-41d2-9410-23d125ba62d4"
   },
   "outputs": [
    {
     "name": "stdout",
     "output_type": "stream",
     "text": [
      "Boundaries Example:CSA-to-Tract-2010.csv\n"
     ]
    }
   ],
   "source": [
    "print('Boundaries Example:CSA-to-Tract-2010.csv')"
   ]
  },
  {
   "cell_type": "code",
   "execution_count": null,
   "metadata": {
    "id": "Zm7lfTwjD1gK",
    "outputId": "b6874791-8cc6-404f-a2ad-0942ff5acd93"
   },
   "outputs": [
    {
     "name": "stdout",
     "output_type": "stream",
     "text": [
      "Tract 2 CSA Crosswalk : CSA-to-Tract-2010.csv\n",
      "\n",
      " Please enter the location of your file : \n",
      "CSA-to-Tract-2010.csv\n"
     ]
    },
    {
     "data": {
      "text/html": [
       "<div>\n",
       "<style scoped>\n",
       "    .dataframe tbody tr th:only-of-type {\n",
       "        vertical-align: middle;\n",
       "    }\n",
       "\n",
       "    .dataframe tbody tr th {\n",
       "        vertical-align: top;\n",
       "    }\n",
       "\n",
       "    .dataframe thead th {\n",
       "        text-align: right;\n",
       "    }\n",
       "</style>\n",
       "<table border=\"1\" class=\"dataframe\">\n",
       "  <thead>\n",
       "    <tr style=\"text-align: right;\">\n",
       "      <th></th>\n",
       "      <th>TRACTCE10</th>\n",
       "      <th>GEOID10</th>\n",
       "      <th>CSA2010</th>\n",
       "    </tr>\n",
       "  </thead>\n",
       "  <tbody>\n",
       "    <tr>\n",
       "      <th>0</th>\n",
       "      <td>10100</td>\n",
       "      <td>24510010100</td>\n",
       "      <td>Canton</td>\n",
       "    </tr>\n",
       "    <tr>\n",
       "      <th>1</th>\n",
       "      <td>10200</td>\n",
       "      <td>24510010200</td>\n",
       "      <td>Patterson Park N...</td>\n",
       "    </tr>\n",
       "    <tr>\n",
       "      <th>2</th>\n",
       "      <td>10300</td>\n",
       "      <td>24510010300</td>\n",
       "      <td>Canton</td>\n",
       "    </tr>\n",
       "    <tr>\n",
       "      <th>3</th>\n",
       "      <td>10400</td>\n",
       "      <td>24510010400</td>\n",
       "      <td>Canton</td>\n",
       "    </tr>\n",
       "    <tr>\n",
       "      <th>4</th>\n",
       "      <td>10500</td>\n",
       "      <td>24510010500</td>\n",
       "      <td>Fells Point</td>\n",
       "    </tr>\n",
       "  </tbody>\n",
       "</table>\n",
       "</div>"
      ],
      "text/plain": [
       "   TRACTCE10      GEOID10              CSA2010\n",
       "0      10100  24510010100               Canton\n",
       "1      10200  24510010200  Patterson Park N...\n",
       "2      10300  24510010300               Canton\n",
       "3      10400  24510010400               Canton\n",
       "4      10500  24510010500          Fells Point"
      ]
     },
     "execution_count": 0,
     "metadata": {
      "tags": []
     },
     "output_type": "execute_result"
    }
   ],
   "source": [
    "# Get the Second dataset. \n",
    "# Our Example dataset contains Polygon Geometry information. \n",
    "# We want to merge this over to our principle dataset. \n",
    "# we will grab it by matching on either CSA or Tract\n",
    "\n",
    "# The url listed below is public.\n",
    "\n",
    "print('Tract 2 CSA Crosswalk : CSA-to-Tract-2010.csv')\n",
    "\n",
    "inFile = input(\"\\n Please enter the location of your file : \\n\" )\n",
    "\n",
    "crosswalk = pd.read_csv( inFile ) \n",
    "crosswalk.head()"
   ]
  },
  {
   "cell_type": "code",
   "execution_count": null,
   "metadata": {
    "id": "CWNBFJqWD1gK",
    "outputId": "41ad5ee2-dfb2-4a1a-9f47-06e721809511"
   },
   "outputs": [
    {
     "data": {
      "text/plain": [
       "Index(['TRACTCE10', 'GEOID10', 'CSA2010'], dtype='object')"
      ]
     },
     "execution_count": 0,
     "metadata": {
      "tags": []
     },
     "output_type": "execute_result"
    }
   ],
   "source": [
    "crosswalk.columns"
   ]
  },
  {
   "cell_type": "markdown",
   "metadata": {
    "id": "vSnFy4XzD1gK"
   },
   "source": [
    "## Perform Merge & Save"
   ]
  },
  {
   "cell_type": "markdown",
   "metadata": {
    "id": "gf3RAuMsD1gK"
   },
   "source": [
    "The following picture does nothing important but serves as a friendly reminder of the 4 basic join types.\n",
    "\n",
    "<image src=\"https://docs.trifacta.com/download/attachments/123830435/JoinVennDiagram.png\" height='200px'/>\n",
    "\n",
    "- Left - returns all left records, only includes the right record if it has a match\n",
    "- Right - Returns all right records, only includes the left record if it has a match \n",
    "- Full - Returns all records regardless of keys matching\n",
    "- Inner - Returns only records where a key match"
   ]
  },
  {
   "cell_type": "markdown",
   "metadata": {
    "id": "FmwqCdRoD1gK"
   },
   "source": [
    "Get Columns from both datasets to match on\n",
    "\n",
    "You can get these values from the column values above.\n",
    "\n",
    "Our Examples will work with the prompted values"
   ]
  },
  {
   "cell_type": "code",
   "execution_count": null,
   "metadata": {
    "id": "3iqderItD1gL",
    "outputId": "15c881ee-3aeb-430c-bf5a-435cb324d71a"
   },
   "outputs": [
    {
     "name": "stdout",
     "output_type": "stream",
     "text": [
      "Princpal Columns Index(['TRACTCE10', 'GEOID10', 'CSA2010'], dtype='object')\n",
      "Left on principal column: ('tract') \n",
      "tract\n",
      " \n",
      " \n",
      "Crosswalk Columns Index(['TRACTCE10', 'GEOID10', 'CSA2010'], dtype='object')\n",
      "Right on crosswalk column: ('TRACTCE10') \n",
      "TRACTCE10\n"
     ]
    }
   ],
   "source": [
    "print( 'Princpal Columns ' + str(crosswalk.columns) + '')\n",
    "left_on = input(\"Left on principal column: ('tract') \\n\" )\n",
    "print(' \\n ');\n",
    "print( 'Crosswalk Columns ' + str(crosswalk.columns) + '')\n",
    "right_on = input(\"Right on crosswalk column: ('TRACTCE10') \\n\" ) "
   ]
  },
  {
   "cell_type": "markdown",
   "metadata": {
    "id": "TSLTtNX8D1gL"
   },
   "source": [
    "Specify how the merge will be performed"
   ]
  },
  {
   "cell_type": "markdown",
   "metadata": {
    "id": "feCHThQdD1gL"
   },
   "source": [
    "We will perform a left merge in this example.\n",
    "\n",
    "It will return our Principal dataset with columns from the second dataset appended to records where their specified columns match.\n"
   ]
  },
  {
   "cell_type": "code",
   "execution_count": null,
   "metadata": {
    "id": "DrX9evdxD1gL",
    "outputId": "fab78c68-8024-457c-c236-4c0c6a0cf9f6"
   },
   "outputs": [
    {
     "name": "stdout",
     "output_type": "stream",
     "text": [
      "How: (‘left’, ‘right’, ‘outer’, ‘inner’) outer\n"
     ]
    }
   ],
   "source": [
    "how = input(\"How: (‘left’, ‘right’, ‘outer’, ‘inner’) \" )"
   ]
  },
  {
   "cell_type": "markdown",
   "metadata": {
    "id": "X9idjz0VD1gL"
   },
   "source": [
    "Actually perfrom the merge"
   ]
  },
  {
   "cell_type": "code",
   "execution_count": null,
   "metadata": {
    "id": "UhEgZLurD1gL",
    "outputId": "7f1444c8-f3b1-40ea-9ae7-8a8521ff2767"
   },
   "outputs": [
    {
     "data": {
      "text/html": [
       "<div>\n",
       "<style scoped>\n",
       "    .dataframe tbody tr th:only-of-type {\n",
       "        vertical-align: middle;\n",
       "    }\n",
       "\n",
       "    .dataframe tbody tr th {\n",
       "        vertical-align: top;\n",
       "    }\n",
       "\n",
       "    .dataframe thead th {\n",
       "        text-align: right;\n",
       "    }\n",
       "</style>\n",
       "<table border=\"1\" class=\"dataframe\">\n",
       "  <thead>\n",
       "    <tr style=\"text-align: right;\">\n",
       "      <th></th>\n",
       "      <th>B19001_001E_Total</th>\n",
       "      <th>B19001_002E_Total_Less_than_$10,000</th>\n",
       "      <th>B19001_003E_Total_$10,000_to_$14,999</th>\n",
       "      <th>B19001_004E_Total_$15,000_to_$19,999</th>\n",
       "      <th>B19001_005E_Total_$20,000_to_$24,999</th>\n",
       "      <th>B19001_006E_Total_$25,000_to_$29,999</th>\n",
       "      <th>B19001_007E_Total_$30,000_to_$34,999</th>\n",
       "      <th>B19001_008E_Total_$35,000_to_$39,999</th>\n",
       "      <th>B19001_009E_Total_$40,000_to_$44,999</th>\n",
       "      <th>B19001_010E_Total_$45,000_to_$49,999</th>\n",
       "      <th>B19001_011E_Total_$50,000_to_$59,999</th>\n",
       "      <th>B19001_012E_Total_$60,000_to_$74,999</th>\n",
       "      <th>B19001_013E_Total_$75,000_to_$99,999</th>\n",
       "      <th>B19001_014E_Total_$100,000_to_$124,999</th>\n",
       "      <th>B19001_015E_Total_$125,000_to_$149,999</th>\n",
       "      <th>B19001_016E_Total_$150,000_to_$199,999</th>\n",
       "      <th>B19001_017E_Total_$200,000_or_more</th>\n",
       "      <th>state</th>\n",
       "      <th>county</th>\n",
       "      <th>TRACTCE10</th>\n",
       "      <th>GEOID10</th>\n",
       "      <th>CSA2010</th>\n",
       "    </tr>\n",
       "  </thead>\n",
       "  <tbody>\n",
       "    <tr>\n",
       "      <th>0</th>\n",
       "      <td>1510</td>\n",
       "      <td>209</td>\n",
       "      <td>73</td>\n",
       "      <td>94</td>\n",
       "      <td>97</td>\n",
       "      <td>110</td>\n",
       "      <td>119</td>\n",
       "      <td>97</td>\n",
       "      <td>65</td>\n",
       "      <td>36</td>\n",
       "      <td>149</td>\n",
       "      <td>168</td>\n",
       "      <td>106</td>\n",
       "      <td>66</td>\n",
       "      <td>44</td>\n",
       "      <td>50</td>\n",
       "      <td>27</td>\n",
       "      <td>24</td>\n",
       "      <td>510</td>\n",
       "      <td>271002.0</td>\n",
       "      <td>2.45e+10</td>\n",
       "      <td>Greater Govans</td>\n",
       "    </tr>\n",
       "    <tr>\n",
       "      <th>1</th>\n",
       "      <td>1134</td>\n",
       "      <td>146</td>\n",
       "      <td>29</td>\n",
       "      <td>73</td>\n",
       "      <td>80</td>\n",
       "      <td>41</td>\n",
       "      <td>91</td>\n",
       "      <td>49</td>\n",
       "      <td>75</td>\n",
       "      <td>81</td>\n",
       "      <td>170</td>\n",
       "      <td>57</td>\n",
       "      <td>162</td>\n",
       "      <td>63</td>\n",
       "      <td>11</td>\n",
       "      <td>6</td>\n",
       "      <td>0</td>\n",
       "      <td>24</td>\n",
       "      <td>510</td>\n",
       "      <td>260402.0</td>\n",
       "      <td>2.45e+10</td>\n",
       "      <td>Claremont/Armistead</td>\n",
       "    </tr>\n",
       "    <tr>\n",
       "      <th>2</th>\n",
       "      <td>2276</td>\n",
       "      <td>69</td>\n",
       "      <td>43</td>\n",
       "      <td>41</td>\n",
       "      <td>22</td>\n",
       "      <td>46</td>\n",
       "      <td>67</td>\n",
       "      <td>0</td>\n",
       "      <td>30</td>\n",
       "      <td>30</td>\n",
       "      <td>80</td>\n",
       "      <td>146</td>\n",
       "      <td>321</td>\n",
       "      <td>216</td>\n",
       "      <td>139</td>\n",
       "      <td>261</td>\n",
       "      <td>765</td>\n",
       "      <td>24</td>\n",
       "      <td>510</td>\n",
       "      <td>271200.0</td>\n",
       "      <td>2.45e+10</td>\n",
       "      <td>North Baltimore/...</td>\n",
       "    </tr>\n",
       "    <tr>\n",
       "      <th>3</th>\n",
       "      <td>961</td>\n",
       "      <td>111</td>\n",
       "      <td>108</td>\n",
       "      <td>61</td>\n",
       "      <td>42</td>\n",
       "      <td>56</td>\n",
       "      <td>37</td>\n",
       "      <td>73</td>\n",
       "      <td>30</td>\n",
       "      <td>31</td>\n",
       "      <td>106</td>\n",
       "      <td>119</td>\n",
       "      <td>74</td>\n",
       "      <td>23</td>\n",
       "      <td>27</td>\n",
       "      <td>24</td>\n",
       "      <td>39</td>\n",
       "      <td>24</td>\n",
       "      <td>510</td>\n",
       "      <td>280404.0</td>\n",
       "      <td>2.45e+10</td>\n",
       "      <td>Allendale/Irving...</td>\n",
       "    </tr>\n",
       "    <tr>\n",
       "      <th>4</th>\n",
       "      <td>1669</td>\n",
       "      <td>158</td>\n",
       "      <td>124</td>\n",
       "      <td>72</td>\n",
       "      <td>48</td>\n",
       "      <td>108</td>\n",
       "      <td>68</td>\n",
       "      <td>121</td>\n",
       "      <td>137</td>\n",
       "      <td>99</td>\n",
       "      <td>109</td>\n",
       "      <td>191</td>\n",
       "      <td>160</td>\n",
       "      <td>141</td>\n",
       "      <td>28</td>\n",
       "      <td>88</td>\n",
       "      <td>17</td>\n",
       "      <td>24</td>\n",
       "      <td>510</td>\n",
       "      <td>90100.0</td>\n",
       "      <td>2.45e+10</td>\n",
       "      <td>Greater Govans</td>\n",
       "    </tr>\n",
       "  </tbody>\n",
       "</table>\n",
       "</div>"
      ],
      "text/plain": [
       "   B19001_001E_Total  B19001_002E_Total_Less_than_$10,000  B19001_003E_Total_$10,000_to_$14,999  B19001_004E_Total_$15,000_to_$19,999  B19001_005E_Total_$20,000_to_$24,999  B19001_006E_Total_$25,000_to_$29,999  B19001_007E_Total_$30,000_to_$34,999  B19001_008E_Total_$35,000_to_$39,999  B19001_009E_Total_$40,000_to_$44,999  B19001_010E_Total_$45,000_to_$49,999  B19001_011E_Total_$50,000_to_$59,999  B19001_012E_Total_$60,000_to_$74,999  B19001_013E_Total_$75,000_to_$99,999  B19001_014E_Total_$100,000_to_$124,999  B19001_015E_Total_$125,000_to_$149,999  B19001_016E_Total_$150,000_to_$199,999  B19001_017E_Total_$200,000_or_more  state  county  TRACTCE10   GEOID10              CSA2010\n",
       "0               1510                  209                                   73                                    94                                    97                                   110                                   119                                    97                                    65                                    36                                   149                                   168                                   106                                    66                                      44                                      50                                      27                    24     510   271002.0  2.45e+10       Greater Govans\n",
       "1               1134                  146                                   29                                    73                                    80                                    41                                    91                                    49                                    75                                    81                                   170                                    57                                   162                                    63                                      11                                       6                                       0                    24     510   260402.0  2.45e+10  Claremont/Armistead\n",
       "2               2276                   69                                   43                                    41                                    22                                    46                                    67                                     0                                    30                                    30                                    80                                   146                                   321                                   216                                     139                                     261                                     765                    24     510   271200.0  2.45e+10  North Baltimore/...\n",
       "3                961                  111                                  108                                    61                                    42                                    56                                    37                                    73                                    30                                    31                                   106                                   119                                    74                                    23                                      27                                      24                                      39                    24     510   280404.0  2.45e+10  Allendale/Irving...\n",
       "4               1669                  158                                  124                                    72                                    48                                   108                                    68                                   121                                   137                                    99                                   109                                   191                                   160                                   141                                      28                                      88                                      17                    24     510    90100.0  2.45e+10       Greater Govans"
      ]
     },
     "execution_count": 0,
     "metadata": {
      "tags": []
     },
     "output_type": "execute_result"
    }
   ],
   "source": [
    "merged_df = pd.merge(df, crosswalk, left_on=left_on, right_on=right_on, how=how)\n",
    "merged_df = merged_df.drop(left_on, axis=1)\n",
    "merged_df.head()"
   ]
  },
  {
   "cell_type": "markdown",
   "metadata": {
    "id": "D8wSqFefD1gM"
   },
   "source": [
    "As you can see, our Census data will now have a CSA appended to it."
   ]
  },
  {
   "cell_type": "code",
   "execution_count": null,
   "metadata": {
    "id": "H_JJ1oURD1gM",
    "outputId": "900d66a7-b503-41da-8330-f3422481ded1"
   },
   "outputs": [
    {
     "name": "stdout",
     "output_type": "stream",
     "text": [
      "Please enter the new Filename to save the data to ('acs_csa_merge_test': acs_csa_merge_test\n"
     ]
    }
   ],
   "source": [
    "# Save Data to User Specified File\n",
    "outFile = input(\"Please enter the new Filename to save the data to ('acs_csa_merge_test': \" )\n",
    "merged_df.to_csv(outFile+'.csv', quoting=csv.QUOTE_ALL) "
   ]
  },
  {
   "cell_type": "markdown",
   "metadata": {
    "id": "mnK_u4cgD1gM"
   },
   "source": [
    "## Final Result"
   ]
  },
  {
   "cell_type": "code",
   "execution_count": null,
   "metadata": {
    "id": "MIT1zW8nD1gM",
    "outputId": "4de2e834-4cc8-4e13-858a-d246fc140585"
   },
   "outputs": [
    {
     "name": "stdout",
     "output_type": "stream",
     "text": [
      "Enter a URL? If not ACS data will be used. (Y/N):  n\n",
      "Please enter tract id (*): *\n",
      "Please enter county id (510): 510\n",
      "Please enter state id (24): 24\n",
      "Please enter acs table id (B19001): B19001\n",
      "Please enter acs year (18): 18\n",
      "Save ACS? (Y/N): N\n",
      "Number of Columns 17\n",
      "Principal Columns Index(['B19001_001E_Total', 'B19001_002E_Total_Less_than_$10,000',\n",
      "       'B19001_003E_Total_$10,000_to_$14,999',\n",
      "       'B19001_004E_Total_$15,000_to_$19,999',\n",
      "       'B19001_005E_Total_$20,000_to_$24,999',\n",
      "       'B19001_006E_Total_$25,000_to_$29,999',\n",
      "       'B19001_007E_Total_$30,000_to_$34,999',\n",
      "       'B19001_008E_Total_$35,000_to_$39,999',\n",
      "       'B19001_009E_Total_$40,000_to_$44,999',\n",
      "       'B19001_010E_Total_$45,000_to_$49,999',\n",
      "       'B19001_011E_Total_$50,000_to_$59,999',\n",
      "       'B19001_012E_Total_$60,000_to_$74,999',\n",
      "       'B19001_013E_Total_$75,000_to_$99,999',\n",
      "       'B19001_014E_Total_$100,000_to_$124,999',\n",
      "       'B19001_015E_Total_$125,000_to_$149,999',\n",
      "       'B19001_016E_Total_$150,000_to_$199,999',\n",
      "       'B19001_017E_Total_$200,000_or_more', 'state', 'county', 'tract'],\n",
      "      dtype='object')\n",
      "Crosswalk Example: CSA-to-Tract-2010.csv\n",
      "Please enter the location of your crosswalk file: CSA-to-Tract-2010.csv\n",
      "Crosswalk Columns Index(['TRACTCE10', 'GEOID10', 'CSA2010'], dtype='object')\n",
      "\n",
      "Left on: tract\n",
      "Right on: TRACTCE10\n",
      "How: (‘left’, ‘right’, ‘outer’, ‘inner’) outer\n",
      "Save File ('Y' or 'N'): n\n"
     ]
    }
   ],
   "source": [
    "flag = input(\"Enter a URL? If not ACS data will be used. (Y/N):  \" )\n",
    "if (flag == 'y' or flag == 'Y'):\n",
    "  df = pd.read_csv( input(\"Please enter the location of your Principal file: \" ) )\n",
    "else:\n",
    "  tract = input(\"Please enter tract id (*): \" )\n",
    "  county = input(\"Please enter county id (510): \" )\n",
    "  state = input(\"Please enter state id (24): \" )\n",
    "  tableId = input(\"Please enter acs table id (B19001): \" ) \n",
    "  year = input(\"Please enter acs year (18): \" )\n",
    "  saveAcs = input(\"Save ACS? (Y/N): \" )\n",
    "  df = retrieve_acs_data(state, county, tract, tableId, year, saveAcs)\n",
    "\n",
    "print( 'Principal Columns ' + str(df.columns))\n",
    "\n",
    "print('Crosswalk Example: CSA-to-Tract-2010.csv')\n",
    "\n",
    "crosswalk = pd.read_csv( input(\"Please enter the location of your crosswalk file: \" ) )\n",
    "print( 'Crosswalk Columns ' + str(crosswalk.columns) + '\\n')\n",
    "\n",
    "left_on = input(\"Left on: \" )\n",
    "right_on = input(\"Right on: \" )\n",
    "how = input(\"How: (‘left’, ‘right’, ‘outer’, ‘inner’) \" )\n",
    "\n",
    "merged_df = pd.merge(df, crosswalk, left_on=left_on, right_on=right_on, how=how)\n",
    "merged_df = merged_df.drop(left_on, axis=1)\n",
    "\n",
    "# Save the data\n",
    "# Save the data\n",
    "saveFile = input(\"Save File ('Y' or 'N'): \")\n",
    "if saveFile == 'Y' or saveFile == 'y':\n",
    "  outFile = input(\"Saved Filename (Do not include the file extension ): \")\n",
    "  merged_df.to_csv(outFile+'.csv', quoting=csv.QUOTE_ALL);"
   ]
  },
  {
   "cell_type": "code",
   "execution_count": null,
   "metadata": {
    "id": "1pV4vUtlD1gM",
    "outputId": "00812a7f-0ee2-4f59-e104-dbe2f8c498fd"
   },
   "outputs": [
    {
     "data": {
      "text/html": [
       "<div>\n",
       "<style scoped>\n",
       "    .dataframe tbody tr th:only-of-type {\n",
       "        vertical-align: middle;\n",
       "    }\n",
       "\n",
       "    .dataframe tbody tr th {\n",
       "        vertical-align: top;\n",
       "    }\n",
       "\n",
       "    .dataframe thead th {\n",
       "        text-align: right;\n",
       "    }\n",
       "</style>\n",
       "<table border=\"1\" class=\"dataframe\">\n",
       "  <thead>\n",
       "    <tr style=\"text-align: right;\">\n",
       "      <th></th>\n",
       "      <th>B19001_001E_Total</th>\n",
       "      <th>B19001_002E_Total_Less_than_$10,000</th>\n",
       "      <th>B19001_003E_Total_$10,000_to_$14,999</th>\n",
       "      <th>B19001_004E_Total_$15,000_to_$19,999</th>\n",
       "      <th>B19001_005E_Total_$20,000_to_$24,999</th>\n",
       "      <th>B19001_006E_Total_$25,000_to_$29,999</th>\n",
       "      <th>B19001_007E_Total_$30,000_to_$34,999</th>\n",
       "      <th>B19001_008E_Total_$35,000_to_$39,999</th>\n",
       "      <th>B19001_009E_Total_$40,000_to_$44,999</th>\n",
       "      <th>B19001_010E_Total_$45,000_to_$49,999</th>\n",
       "      <th>B19001_011E_Total_$50,000_to_$59,999</th>\n",
       "      <th>B19001_012E_Total_$60,000_to_$74,999</th>\n",
       "      <th>B19001_013E_Total_$75,000_to_$99,999</th>\n",
       "      <th>B19001_014E_Total_$100,000_to_$124,999</th>\n",
       "      <th>B19001_015E_Total_$125,000_to_$149,999</th>\n",
       "      <th>B19001_016E_Total_$150,000_to_$199,999</th>\n",
       "      <th>B19001_017E_Total_$200,000_or_more</th>\n",
       "      <th>state</th>\n",
       "      <th>county</th>\n",
       "      <th>TRACTCE10</th>\n",
       "      <th>GEOID10</th>\n",
       "      <th>CSA2010</th>\n",
       "    </tr>\n",
       "  </thead>\n",
       "  <tbody>\n",
       "    <tr>\n",
       "      <th>0</th>\n",
       "      <td>1842</td>\n",
       "      <td>140</td>\n",
       "      <td>71</td>\n",
       "      <td>143</td>\n",
       "      <td>112</td>\n",
       "      <td>169</td>\n",
       "      <td>101</td>\n",
       "      <td>113</td>\n",
       "      <td>116</td>\n",
       "      <td>56</td>\n",
       "      <td>147</td>\n",
       "      <td>158</td>\n",
       "      <td>151</td>\n",
       "      <td>200</td>\n",
       "      <td>8</td>\n",
       "      <td>89</td>\n",
       "      <td>68</td>\n",
       "      <td>24</td>\n",
       "      <td>510</td>\n",
       "      <td>272004.0</td>\n",
       "      <td>2.45e+10</td>\n",
       "      <td>Cross-Country/Ch...</td>\n",
       "    </tr>\n",
       "    <tr>\n",
       "      <th>1</th>\n",
       "      <td>1638</td>\n",
       "      <td>246</td>\n",
       "      <td>71</td>\n",
       "      <td>90</td>\n",
       "      <td>104</td>\n",
       "      <td>74</td>\n",
       "      <td>168</td>\n",
       "      <td>115</td>\n",
       "      <td>97</td>\n",
       "      <td>173</td>\n",
       "      <td>115</td>\n",
       "      <td>16</td>\n",
       "      <td>117</td>\n",
       "      <td>64</td>\n",
       "      <td>0</td>\n",
       "      <td>91</td>\n",
       "      <td>97</td>\n",
       "      <td>24</td>\n",
       "      <td>510</td>\n",
       "      <td>120202.0</td>\n",
       "      <td>2.45e+10</td>\n",
       "      <td>Greater Charles ...</td>\n",
       "    </tr>\n",
       "    <tr>\n",
       "      <th>2</th>\n",
       "      <td>1252</td>\n",
       "      <td>91</td>\n",
       "      <td>27</td>\n",
       "      <td>55</td>\n",
       "      <td>75</td>\n",
       "      <td>71</td>\n",
       "      <td>59</td>\n",
       "      <td>85</td>\n",
       "      <td>44</td>\n",
       "      <td>47</td>\n",
       "      <td>80</td>\n",
       "      <td>131</td>\n",
       "      <td>108</td>\n",
       "      <td>78</td>\n",
       "      <td>43</td>\n",
       "      <td>104</td>\n",
       "      <td>154</td>\n",
       "      <td>24</td>\n",
       "      <td>510</td>\n",
       "      <td>272005.0</td>\n",
       "      <td>2.45e+10</td>\n",
       "      <td>Cross-Country/Ch...</td>\n",
       "    </tr>\n",
       "    <tr>\n",
       "      <th>3</th>\n",
       "      <td>1622</td>\n",
       "      <td>235</td>\n",
       "      <td>177</td>\n",
       "      <td>184</td>\n",
       "      <td>79</td>\n",
       "      <td>67</td>\n",
       "      <td>88</td>\n",
       "      <td>71</td>\n",
       "      <td>64</td>\n",
       "      <td>60</td>\n",
       "      <td>72</td>\n",
       "      <td>155</td>\n",
       "      <td>140</td>\n",
       "      <td>100</td>\n",
       "      <td>77</td>\n",
       "      <td>20</td>\n",
       "      <td>33</td>\n",
       "      <td>24</td>\n",
       "      <td>510</td>\n",
       "      <td>272006.0</td>\n",
       "      <td>2.45e+10</td>\n",
       "      <td>Glen-Fallstaff</td>\n",
       "    </tr>\n",
       "    <tr>\n",
       "      <th>4</th>\n",
       "      <td>1775</td>\n",
       "      <td>127</td>\n",
       "      <td>70</td>\n",
       "      <td>190</td>\n",
       "      <td>136</td>\n",
       "      <td>111</td>\n",
       "      <td>114</td>\n",
       "      <td>152</td>\n",
       "      <td>106</td>\n",
       "      <td>11</td>\n",
       "      <td>172</td>\n",
       "      <td>143</td>\n",
       "      <td>193</td>\n",
       "      <td>42</td>\n",
       "      <td>86</td>\n",
       "      <td>53</td>\n",
       "      <td>69</td>\n",
       "      <td>24</td>\n",
       "      <td>510</td>\n",
       "      <td>272007.0</td>\n",
       "      <td>2.45e+10</td>\n",
       "      <td>Glen-Fallstaff</td>\n",
       "    </tr>\n",
       "    <tr>\n",
       "      <th>...</th>\n",
       "      <td>...</td>\n",
       "      <td>...</td>\n",
       "      <td>...</td>\n",
       "      <td>...</td>\n",
       "      <td>...</td>\n",
       "      <td>...</td>\n",
       "      <td>...</td>\n",
       "      <td>...</td>\n",
       "      <td>...</td>\n",
       "      <td>...</td>\n",
       "      <td>...</td>\n",
       "      <td>...</td>\n",
       "      <td>...</td>\n",
       "      <td>...</td>\n",
       "      <td>...</td>\n",
       "      <td>...</td>\n",
       "      <td>...</td>\n",
       "      <td>...</td>\n",
       "      <td>...</td>\n",
       "      <td>...</td>\n",
       "      <td>...</td>\n",
       "      <td>...</td>\n",
       "    </tr>\n",
       "    <tr>\n",
       "      <th>196</th>\n",
       "      <td>2143</td>\n",
       "      <td>138</td>\n",
       "      <td>37</td>\n",
       "      <td>76</td>\n",
       "      <td>33</td>\n",
       "      <td>16</td>\n",
       "      <td>30</td>\n",
       "      <td>28</td>\n",
       "      <td>17</td>\n",
       "      <td>64</td>\n",
       "      <td>111</td>\n",
       "      <td>286</td>\n",
       "      <td>181</td>\n",
       "      <td>206</td>\n",
       "      <td>100</td>\n",
       "      <td>234</td>\n",
       "      <td>586</td>\n",
       "      <td>24</td>\n",
       "      <td>510</td>\n",
       "      <td>20300.0</td>\n",
       "      <td>2.45e+10</td>\n",
       "      <td>Fells Point</td>\n",
       "    </tr>\n",
       "    <tr>\n",
       "      <th>197</th>\n",
       "      <td>1220</td>\n",
       "      <td>159</td>\n",
       "      <td>93</td>\n",
       "      <td>82</td>\n",
       "      <td>137</td>\n",
       "      <td>51</td>\n",
       "      <td>79</td>\n",
       "      <td>102</td>\n",
       "      <td>79</td>\n",
       "      <td>98</td>\n",
       "      <td>55</td>\n",
       "      <td>140</td>\n",
       "      <td>85</td>\n",
       "      <td>38</td>\n",
       "      <td>22</td>\n",
       "      <td>0</td>\n",
       "      <td>0</td>\n",
       "      <td>24</td>\n",
       "      <td>510</td>\n",
       "      <td>150400.0</td>\n",
       "      <td>2.45e+10</td>\n",
       "      <td>Greater Mondawmin</td>\n",
       "    </tr>\n",
       "    <tr>\n",
       "      <th>198</th>\n",
       "      <td>1393</td>\n",
       "      <td>41</td>\n",
       "      <td>12</td>\n",
       "      <td>22</td>\n",
       "      <td>0</td>\n",
       "      <td>10</td>\n",
       "      <td>11</td>\n",
       "      <td>19</td>\n",
       "      <td>85</td>\n",
       "      <td>30</td>\n",
       "      <td>95</td>\n",
       "      <td>128</td>\n",
       "      <td>200</td>\n",
       "      <td>207</td>\n",
       "      <td>240</td>\n",
       "      <td>180</td>\n",
       "      <td>113</td>\n",
       "      <td>24</td>\n",
       "      <td>510</td>\n",
       "      <td>10200.0</td>\n",
       "      <td>2.45e+10</td>\n",
       "      <td>Patterson Park N...</td>\n",
       "    </tr>\n",
       "    <tr>\n",
       "      <th>199</th>\n",
       "      <td>761</td>\n",
       "      <td>94</td>\n",
       "      <td>39</td>\n",
       "      <td>39</td>\n",
       "      <td>53</td>\n",
       "      <td>31</td>\n",
       "      <td>20</td>\n",
       "      <td>16</td>\n",
       "      <td>33</td>\n",
       "      <td>27</td>\n",
       "      <td>49</td>\n",
       "      <td>127</td>\n",
       "      <td>50</td>\n",
       "      <td>64</td>\n",
       "      <td>22</td>\n",
       "      <td>49</td>\n",
       "      <td>48</td>\n",
       "      <td>24</td>\n",
       "      <td>510</td>\n",
       "      <td>60400.0</td>\n",
       "      <td>2.45e+10</td>\n",
       "      <td>Oldtown/Middle East</td>\n",
       "    </tr>\n",
       "    <tr>\n",
       "      <th>200</th>\n",
       "      <td>238436</td>\n",
       "      <td>27518</td>\n",
       "      <td>15246</td>\n",
       "      <td>13682</td>\n",
       "      <td>11154</td>\n",
       "      <td>11984</td>\n",
       "      <td>12142</td>\n",
       "      <td>10574</td>\n",
       "      <td>10545</td>\n",
       "      <td>8506</td>\n",
       "      <td>19226</td>\n",
       "      <td>20731</td>\n",
       "      <td>25536</td>\n",
       "      <td>17068</td>\n",
       "      <td>10693</td>\n",
       "      <td>11228</td>\n",
       "      <td>12603</td>\n",
       "      <td>24</td>\n",
       "      <td>510</td>\n",
       "      <td>NaN</td>\n",
       "      <td>NaN</td>\n",
       "      <td>NaN</td>\n",
       "    </tr>\n",
       "  </tbody>\n",
       "</table>\n",
       "<p>201 rows × 22 columns</p>\n",
       "</div>"
      ],
      "text/plain": [
       "     B19001_001E_Total  B19001_002E_Total_Less_than_$10,000  B19001_003E_Total_$10,000_to_$14,999  B19001_004E_Total_$15,000_to_$19,999  B19001_005E_Total_$20,000_to_$24,999  B19001_006E_Total_$25,000_to_$29,999  B19001_007E_Total_$30,000_to_$34,999  B19001_008E_Total_$35,000_to_$39,999  B19001_009E_Total_$40,000_to_$44,999  B19001_010E_Total_$45,000_to_$49,999  B19001_011E_Total_$50,000_to_$59,999  B19001_012E_Total_$60,000_to_$74,999  B19001_013E_Total_$75,000_to_$99,999  B19001_014E_Total_$100,000_to_$124,999  B19001_015E_Total_$125,000_to_$149,999  B19001_016E_Total_$150,000_to_$199,999  B19001_017E_Total_$200,000_or_more  state  county  TRACTCE10   GEOID10              CSA2010\n",
       "0                 1842                  140                                   71                                   143                                   112                                   169                                   101                                   113                                   116                                    56                                   147                                   158                                   151                                   200                                       8                                      89                                      68                    24     510   272004.0  2.45e+10  Cross-Country/Ch...\n",
       "1                 1638                  246                                   71                                    90                                   104                                    74                                   168                                   115                                    97                                   173                                   115                                    16                                   117                                    64                                       0                                      91                                      97                    24     510   120202.0  2.45e+10  Greater Charles ...\n",
       "2                 1252                   91                                   27                                    55                                    75                                    71                                    59                                    85                                    44                                    47                                    80                                   131                                   108                                    78                                      43                                     104                                     154                    24     510   272005.0  2.45e+10  Cross-Country/Ch...\n",
       "3                 1622                  235                                  177                                   184                                    79                                    67                                    88                                    71                                    64                                    60                                    72                                   155                                   140                                   100                                      77                                      20                                      33                    24     510   272006.0  2.45e+10       Glen-Fallstaff\n",
       "4                 1775                  127                                   70                                   190                                   136                                   111                                   114                                   152                                   106                                    11                                   172                                   143                                   193                                    42                                      86                                      53                                      69                    24     510   272007.0  2.45e+10       Glen-Fallstaff\n",
       "..                 ...                  ...                                  ...                                   ...                                   ...                                   ...                                   ...                                   ...                                   ...                                   ...                                   ...                                   ...                                   ...                                   ...                                     ...                                     ...                                     ...                   ...     ...        ...       ...                  ...\n",
       "196               2143                  138                                   37                                    76                                    33                                    16                                    30                                    28                                    17                                    64                                   111                                   286                                   181                                   206                                     100                                     234                                     586                    24     510    20300.0  2.45e+10          Fells Point\n",
       "197               1220                  159                                   93                                    82                                   137                                    51                                    79                                   102                                    79                                    98                                    55                                   140                                    85                                    38                                      22                                       0                                       0                    24     510   150400.0  2.45e+10    Greater Mondawmin\n",
       "198               1393                   41                                   12                                    22                                     0                                    10                                    11                                    19                                    85                                    30                                    95                                   128                                   200                                   207                                     240                                     180                                     113                    24     510    10200.0  2.45e+10  Patterson Park N...\n",
       "199                761                   94                                   39                                    39                                    53                                    31                                    20                                    16                                    33                                    27                                    49                                   127                                    50                                    64                                      22                                      49                                      48                    24     510    60400.0  2.45e+10  Oldtown/Middle East\n",
       "200             238436                27518                                15246                                 13682                                 11154                                 11984                                 12142                                 10574                                 10545                                  8506                                 19226                                 20731                                 25536                                 17068                                   10693                                   11228                                   12603                    24     510        NaN       NaN                  NaN\n",
       "\n",
       "[201 rows x 22 columns]"
      ]
     },
     "execution_count": 0,
     "metadata": {
      "tags": []
     },
     "output_type": "execute_result"
    }
   ],
   "source": [
    "merged_df"
   ]
  },
  {
   "cell_type": "markdown",
   "metadata": {
    "id": "azqFNrQfD1gN"
   },
   "source": [
    "# Advanced"
   ]
  },
  {
   "cell_type": "markdown",
   "metadata": {
    "id": "_zcgXJFhD1gN"
   },
   "source": [
    "For this next example to work, we will need to import hypothetical csv files"
   ]
  },
  {
   "cell_type": "markdown",
   "metadata": {
    "id": "TNNrqCbWD1gN"
   },
   "source": [
    "__Intro__\n",
    "\n",
    "The following Python function is a bulked out version of the previous notes. \n",
    "- It contains everything from the tutorial plus more.\n",
    "- It can be imported and used in future projects or stand alone.\n",
    "\n",
    "**Description:** add columns of data from a foreign dataset into a primary dataset along set parameters. \n",
    "\n",
    "**Purpose:** Makes Merging datasets simple\n",
    "\n",
    "__Services__\n",
    "\n",
    "- Merge two datasets without a crosswalk\n",
    "- Merge two datasets with a crosswalk\n"
   ]
  },
  {
   "cell_type": "code",
   "execution_count": null,
   "metadata": {
    "id": "yZKhvR90D1gN"
   },
   "outputs": [],
   "source": [
    "#export\n",
    "#@ title Run: Create mergeDatasets()\n",
    "\n",
    "# Worried about infinit interactive-loops. not an issue atm.\n",
    "# Crosswalk needs to have exact same column names as left/right datasets\n",
    "\n",
    "def mergeDatasets(left_ds=False, right_ds=False, crosswalk_ds=False,\n",
    "                  left_col=False, right_col=False,\n",
    "                  crosswalk_left_col = False, crosswalk_right_col = False,\n",
    "                  merge_how=False, # left right or columnname to retrieve\n",
    "                  interactive=True):\n",
    "\n",
    "  if (interactive): print('\\n Loading Left Dataset');\n",
    "  left_ds, left_col = Intake.getAndCheck(left_ds, left_col, interactive)\n",
    "\n",
    "  if (interactive): print('\\n Loading Right Dataset');\n",
    "  right_ds, right_col  = Intake.getAndCheck(right_ds, right_col, interactive)\n",
    "\n",
    "  # 1. returns column or False\n",
    "  def checkMergeHow(right_ds, how, interactive):\n",
    "    inList = how in ['left', 'right', 'outer', 'inner']\n",
    "    inDf = Intake.getAndCheck(right_ds, how, False)\n",
    "    if ( inList or inDf ): return how\n",
    "    elif ( not interactive ): return False\n",
    "    else:\n",
    "      try:\n",
    "        print('\\n InValid Crosswalk Column Given. \\n Please select a value from either list');\n",
    "        print(\"\\n 1) Pull A single Column from the Right Dataset: \", right_ds.columns)\n",
    "        print(\"OR \\n 2) Join Operation: (‘left’, ‘right’, ‘outer’, ‘inner’, columnName) \" )\n",
    "        return checkMergeHow(right_ds, input(\"Column Name: \" ), interactive);\n",
    "      except: return False # User probably trying to escape interactivity\n",
    "\n",
    "  if (interactive): print('\\n Validating the merge_how Parameter');\n",
    "  merge_how = checkMergeHow(right_ds, merge_how, interactive)\n",
    "\n",
    "  # 2i. This will load our dataset if provided as a url. As well as coerce the dtypes for merging.\n",
    "  def coerceForMerge( msg, first_ds, second_ds, first_col, second_col, interactive ):\n",
    "      if (interactive):\n",
    "        print('\\n coerceForMerge: ' + msg);\n",
    "        print('cols : ', first_col, second_col)\n",
    "        print('BEFORE COERCE : ', first_ds[first_col].dtype, second_ds[second_col].dtypes)\n",
    "      second_ds, second_col = Intake.getAndCheck(second_ds, second_col, interactive)\n",
    "      first_ds, second_ds, status = Intake.coerce(first_ds, second_ds, first_col, second_col, interactive);\n",
    "      if (not status and interactive): print('\\n There was a problem!');\n",
    "      if (interactive):\n",
    "        print('AFTER COERCE', first_ds[first_col].dtype, second_ds[second_col].dtypes, second_col )\n",
    "      return first_ds, second_ds, second_col, status\n",
    "  # 2ii.\n",
    "  def mergeAndFilter(msg, first_ds, second_ds, first_col, second_col, how, interactive):\n",
    "      if interactive:\n",
    "        print('PERFORMING MERGE : '+ msg);\n",
    "        print('first_col : ', first_col, first_ds[first_col].dtype)\n",
    "        print('how: ', how)\n",
    "        print('second_col : ', second_col, second_ds[second_col].dtype)\n",
    "      first_ds = mergeOrPull(first_ds, second_ds, first_col, second_col, how)\n",
    "      return filterEmpties(first_ds, second_ds, first_col, second_col, how, interactive)\n",
    "\n",
    "  # Decide to perform a merge or commit a pull\n",
    "  def mergeOrPull(df, cw, left_on, right_on, how):\n",
    "\n",
    "    def merge(df, cw, left_on, right_on, how):\n",
    "      df = pd.merge(df, cw, left_on=left_on, right_on=right_on, how=how)\n",
    "      # df.drop(left_on, axis=1)\n",
    "      df[right_on] = df[right_on].fillna(value='empty')\n",
    "      return df\n",
    "\n",
    "    def pull(df, cw, left_on, right_on, how):\n",
    "      crswlk = dict(zip(cw[right_on], cw[how]  ) )\n",
    "      dtype = df[left_on].dtype\n",
    "      if dtype =='object':  df[how] = df.apply(lambda row: crswlk.get(str(row[left_on]), \"empty\"), axis=1)\n",
    "      elif dtype == 'int64':\n",
    "        df[how] = df.apply(lambda row: crswlk.get(int(row[left_on]), \"empty\"), axis=1)\n",
    "      return df\n",
    "\n",
    "    mergeType = how in ['left', 'right', 'outer', 'inner']\n",
    "    if mergeType: return merge(df, cw, left_on, right_on, how)\n",
    "    else: return pull(df, cw, left_on, right_on, how)\n",
    "\n",
    "  # 2iiii. Filter between matched records and not.\n",
    "  def filterEmpties(df, cw, left_on, right_on, how, interactive):\n",
    "\n",
    "    if how in ['left', 'right', 'outer', 'inner']: how = right_on\n",
    "    nomatch = df.loc[df[how] == 'empty']\n",
    "    nomatch = nomatch.sort_values(by=left_on, ascending=True)\n",
    "\n",
    "    if nomatch.shape[0] > 0:\n",
    "      # Do the same thing with our foreign tracts\n",
    "      if(interactive):\n",
    "        print('\\n Local Column Values Not Matched ')\n",
    "        print(nomatch[left_on].unique() )\n",
    "        print(len(nomatch[left_on]))\n",
    "        print('\\n Crosswalk Unique Column Values')\n",
    "        print(cw[right_on].unique() )\n",
    "\n",
    "    # Create a new column with the tracts value mapped to its corresponding value from the crossswalk\n",
    "    df[how].replace('empty', np.nan, inplace=True)\n",
    "    df.dropna(subset=[how], inplace=True)\n",
    "    # cw = cw.sort_values(by=how, ascending=True)\n",
    "    return df\n",
    "\n",
    "  # 2. If crosswalk check left-cw, right-cw. try coercing. return ds's, col's, and coerce status\n",
    "  def checkMerge(left_ds, right_ds, crosswalk_ds, left_col, right_col, crosswalk_left_col, crosswalk_right_col , interactive):\n",
    "    status = False\n",
    "    use_crosswalk = crosswalk_ds\n",
    "    if (interactive and not use_crosswalk):\n",
    "      use_crosswalk = input(\"\\n Import a crosswalk? ('True'/'False') \" ) == \"True\"\n",
    "      if (use_crosswalk): crosswalk_ds = input(\"crosswalk Url\" )\n",
    "    if (use_crosswalk):\n",
    "      if (interactive): print('\\n Loading Crosswalk... \\r\\n\\r\\n Left: ', crosswalk_left_col, ' Right: ', crosswalk_right_col, '\\n\\r\\n');\n",
    "      crosswalk_ds = Intake.getAndCheckDataset(crosswalk_ds, interactive)\n",
    "\n",
    "      left_ds, crosswalk_ds, crosswalk_left_col, status = coerceForMerge(\n",
    "        'Left-Crosswalk', left_ds, crosswalk_ds, left_col, crosswalk_left_col, interactive )\n",
    "\n",
    "      right_ds, crosswalk_ds, crosswalk_right_col, status = coerceForMerge(\n",
    "        'Right-Crosswalk',right_ds, crosswalk_ds, right_col, crosswalk_right_col, interactive )\n",
    "\n",
    "      if (interactive): print('\\n\\r\\n\\r End Crosswalk Update. Coerceing complete. Status: ', status, '\\n \\r\\n\\r\\n');\n",
    "    else:\n",
    "      left_ds, right_ds, right_col, status = coerceForMerge('Left-Right', left_ds, right_ds, left_col, right_col, interactive )\n",
    "    return left_ds, right_ds, crosswalk_ds, right_col, crosswalk_left_col, crosswalk_right_col, status\n",
    "\n",
    "  left_ds, right_ds, crosswalk_ds, right_col, crosswalk_left_col, crosswalk_right_col, status = checkMerge(\n",
    "      left_ds, right_ds, crosswalk_ds, left_col, right_col, crosswalk_left_col, crosswalk_right_col , interactive\n",
    "  )\n",
    "\n",
    "  if ( not status ):\n",
    "    if (interactive):print('\\n Was not able to complete merge!');\n",
    "    return False;\n",
    "  else:\n",
    "    if (not type( crosswalk_ds ) == bool):\n",
    "      left_ds = mergeAndFilter('LEFT->CROSSWALK', left_ds, crosswalk_ds, left_col, crosswalk_left_col, crosswalk_right_col, interactive)\n",
    "      left_col = crosswalk_right_col\n",
    "    left_ds = mergeAndFilter('LEFT->RIGHT', left_ds, right_ds, left_col, right_col, merge_how, interactive)\n",
    "  return left_ds"
   ]
  },
  {
   "cell_type": "markdown",
   "metadata": {
    "id": "zTiCdAL3D1gN"
   },
   "source": [
    "### Function Explanation"
   ]
  },
  {
   "cell_type": "markdown",
   "metadata": {
    "id": "oczVlOmwD1gO"
   },
   "source": [
    "**Input(s):** \n",
    "- Dataset url\n",
    "- Crosswalk Url \n",
    "- Right On \n",
    "- Left On \n",
    "- How \n",
    "- New Filename \n",
    "\n",
    "**Output:** File\n",
    "\n",
    "**How it works:**\n",
    "- Read in datasets\n",
    "- Perform Merge\n",
    "\n",
    "- If the 'how' parameter is equal to ['left', 'right', 'outer', 'inner']\n",
    "- - then a merge will be performed. \n",
    "- If a column name is provided in the 'how' parameter\n",
    "- - then that single column will be pulled from the right dataset as a new column in the left_ds."
   ]
  },
  {
   "cell_type": "markdown",
   "metadata": {
    "id": "IfRGJq1OD1gR"
   },
   "source": [
    "## Function Diagrams"
   ]
  },
  {
   "cell_type": "markdown",
   "metadata": {
    "id": "u6Zp3BZ3D1gS"
   },
   "source": [
    "Diagram the mergeDatasets()"
   ]
  },
  {
   "cell_type": "code",
   "execution_count": null,
   "metadata": {
    "id": "1ga0ZXeWD1gS",
    "outputId": "3701c3e6-2c24-4528-9966-544de2aa22d5"
   },
   "outputs": [
    {
     "data": {
      "text/html": [
       "<img src=\"https://bniajfi.org/images/mermaid/class_diagram_merge_datasets.PNG\">"
      ],
      "text/plain": [
       "<IPython.core.display.HTML object>"
      ]
     },
     "metadata": {
      "tags": []
     },
     "output_type": "display_data"
    }
   ],
   "source": [
    "%%html\n",
    "<img src=\"https://bniajfi.org/images/mermaid/class_diagram_merge_datasets.PNG\">"
   ]
  },
  {
   "cell_type": "markdown",
   "metadata": {
    "id": "m_DslMrrD1gS"
   },
   "source": [
    "mergeDatasets Flow Chart"
   ]
  },
  {
   "cell_type": "code",
   "execution_count": null,
   "metadata": {
    "id": "eHerXET2D1gS",
    "outputId": "8ee07fbb-572a-4e99-a965-80b8a003ca26"
   },
   "outputs": [
    {
     "data": {
      "text/html": [
       "<img src=\"https://bniajfi.org/images/mermaid/flow_chart_merge_datasets.PNG\">"
      ],
      "text/plain": [
       "<IPython.core.display.HTML object>"
      ]
     },
     "metadata": {
      "tags": []
     },
     "output_type": "display_data"
    }
   ],
   "source": [
    "%%html\n",
    "<img src=\"https://bniajfi.org/images/mermaid/flow_chart_merge_datasets.PNG\">"
   ]
  },
  {
   "cell_type": "markdown",
   "metadata": {
    "id": "QlHUiKg3D1gS"
   },
   "source": [
    "Gannt Chart  mergeDatasets()"
   ]
  },
  {
   "cell_type": "code",
   "execution_count": null,
   "metadata": {
    "id": "wutM4dfTD1gT",
    "outputId": "a8895998-9234-426d-bd7e-d6c589d0404b"
   },
   "outputs": [
    {
     "data": {
      "text/html": [
       "<img src=\"https://bniajfi.org/images/mermaid/gannt_chart_merge_datasets.PNG\">"
      ],
      "text/plain": [
       "<IPython.core.display.HTML object>"
      ]
     },
     "metadata": {
      "tags": []
     },
     "output_type": "display_data"
    }
   ],
   "source": [
    "%%html\n",
    "<img src=\"https://bniajfi.org/images/mermaid/gannt_chart_merge_datasets.PNG\">"
   ]
  },
  {
   "cell_type": "markdown",
   "metadata": {
    "id": "z99f92rKD1gT"
   },
   "source": [
    "Sequence Diagram  mergeDatasets()"
   ]
  },
  {
   "cell_type": "code",
   "execution_count": null,
   "metadata": {
    "id": "bhbpyylSD1gT",
    "outputId": "8e1979c9-0b22-480b-a40a-4f159cad5cf3"
   },
   "outputs": [
    {
     "data": {
      "text/html": [
       "<img src=\"https://bniajfi.org/images/mermaid/sequence_diagram_merge_datasets.PNG\">"
      ],
      "text/plain": [
       "<IPython.core.display.HTML object>"
      ]
     },
     "metadata": {
      "tags": []
     },
     "output_type": "display_data"
    }
   ],
   "source": [
    "%%html\n",
    "<img src=\"https://bniajfi.org/images/mermaid/sequence_diagram_merge_datasets.PNG\">"
   ]
  },
  {
   "cell_type": "markdown",
   "metadata": {
    "id": "BQ43Mk9YD1gT"
   },
   "source": [
    "## Function Examples"
   ]
  },
  {
   "cell_type": "markdown",
   "metadata": {
    "id": "_AY1AnswD1gT"
   },
   "source": [
    "#### Interactive Example 1"
   ]
  },
  {
   "cell_type": "code",
   "execution_count": null,
   "metadata": {
    "id": "Omv9OnKaD1gT"
   },
   "outputs": [],
   "source": [
    "import geopandas as gpd\r\n",
    "import numpy as np\r\n",
    "import pandas as pd\r\n",
    "from dataplay.geoms import readInGeometryData \r\n",
    "Hhchpov = gpd.read_file(\"https://services1.arcgis.com/mVFRs7NF4iFitgbY/ArcGIS/rest/services/Hhchpov/FeatureServer/1/query?where=1%3D1&outFields=*&returnGeometry=true&f=pgeojson\")\r\n",
    "Hhchpov = Hhchpov[['CSA2010', 'hhchpov15',\t'hhchpov16',\t'hhchpov17',\t'hhchpov18']]\r\n",
    "Hhchpov.to_csv('Hhchpov.csv')\r\n",
    "\r\n",
    "Hhpov = gpd.read_file(\"https://services1.arcgis.com/mVFRs7NF4iFitgbY/ArcGIS/rest/services/Hhpov/FeatureServer/1/query?where=1%3D1&outFields=*&returnGeometry=true&f=pgeojson\")\r\n",
    "Hhpov = Hhpov[['CSA2010', 'hhpov15',\t'hhpov16',\t'hhpov17',\t'hhpov18']]\r\n",
    "Hhpov.to_csv('Hhpov.csv')"
   ]
  },
  {
   "cell_type": "code",
   "execution_count": null,
   "metadata": {
    "id": "BwjdpUTDD1gU",
    "outputId": "9c2679b1-93e4-419e-ad80-aca6222cbafd"
   },
   "outputs": [
    {
     "data": {
      "text/html": [
       "<div>\n",
       "<style scoped>\n",
       "    .dataframe tbody tr th:only-of-type {\n",
       "        vertical-align: middle;\n",
       "    }\n",
       "\n",
       "    .dataframe tbody tr th {\n",
       "        vertical-align: top;\n",
       "    }\n",
       "\n",
       "    .dataframe thead th {\n",
       "        text-align: right;\n",
       "    }\n",
       "</style>\n",
       "<table border=\"1\" class=\"dataframe\">\n",
       "  <thead>\n",
       "    <tr style=\"text-align: right;\">\n",
       "      <th></th>\n",
       "      <th>CSA2010</th>\n",
       "      <th>hhchpov15</th>\n",
       "      <th>hhchpov16</th>\n",
       "      <th>hhchpov17</th>\n",
       "      <th>hhchpov18</th>\n",
       "    </tr>\n",
       "  </thead>\n",
       "  <tbody>\n",
       "    <tr>\n",
       "      <th>0</th>\n",
       "      <td>Allendale/Irving...</td>\n",
       "      <td>38.93</td>\n",
       "      <td>34.73</td>\n",
       "      <td>32.77</td>\n",
       "      <td>35.27</td>\n",
       "    </tr>\n",
       "  </tbody>\n",
       "</table>\n",
       "</div>"
      ],
      "text/plain": [
       "               CSA2010  hhchpov15  hhchpov16  hhchpov17  hhchpov18\n",
       "0  Allendale/Irving...      38.93      34.73      32.77      35.27"
      ]
     },
     "execution_count": 0,
     "metadata": {
      "tags": []
     },
     "output_type": "execute_result"
    }
   ],
   "source": [
    "Hhchpov.head(1)"
   ]
  },
  {
   "cell_type": "code",
   "execution_count": null,
   "metadata": {
    "id": "Ct8rupgPD1gU",
    "outputId": "a3c2a8b6-16eb-40e3-b42f-b24935773b3f"
   },
   "outputs": [
    {
     "data": {
      "text/html": [
       "<div>\n",
       "<style scoped>\n",
       "    .dataframe tbody tr th:only-of-type {\n",
       "        vertical-align: middle;\n",
       "    }\n",
       "\n",
       "    .dataframe tbody tr th {\n",
       "        vertical-align: top;\n",
       "    }\n",
       "\n",
       "    .dataframe thead th {\n",
       "        text-align: right;\n",
       "    }\n",
       "</style>\n",
       "<table border=\"1\" class=\"dataframe\">\n",
       "  <thead>\n",
       "    <tr style=\"text-align: right;\">\n",
       "      <th></th>\n",
       "      <th>CSA2010</th>\n",
       "      <th>hhpov15</th>\n",
       "      <th>hhpov16</th>\n",
       "      <th>hhpov17</th>\n",
       "      <th>hhpov18</th>\n",
       "    </tr>\n",
       "  </thead>\n",
       "  <tbody>\n",
       "    <tr>\n",
       "      <th>0</th>\n",
       "      <td>Allendale/Irving...</td>\n",
       "      <td>24.15</td>\n",
       "      <td>21.28</td>\n",
       "      <td>20.7</td>\n",
       "      <td>23.0</td>\n",
       "    </tr>\n",
       "  </tbody>\n",
       "</table>\n",
       "</div>"
      ],
      "text/plain": [
       "               CSA2010  hhpov15  hhpov16  hhpov17  hhpov18\n",
       "0  Allendale/Irving...    24.15    21.28     20.7     23.0"
      ]
     },
     "execution_count": 0,
     "metadata": {
      "tags": []
     },
     "output_type": "execute_result"
    }
   ],
   "source": [
    "Hhpov.head(1)"
   ]
  },
  {
   "cell_type": "code",
   "execution_count": null,
   "metadata": {
    "id": "DwEDup6WD1gU",
    "outputId": "a9f8127a-0b6a-4022-f285-8f3ba1366a10"
   },
   "outputs": [
    {
     "name": "stdout",
     "output_type": "stream",
     "text": [
      "24510_B19001_5y18_est.csv           CSA-to-Tract-2010.csv  \u001b[0m\u001b[01;34msample_data\u001b[0m/\n",
      "24510_B19001_5y18_est_Original.csv  Hhchpov.csv\n",
      "acs_csa_merge_test.csv              Hhpov.csv\n"
     ]
    }
   ],
   "source": [
    "ls"
   ]
  },
  {
   "cell_type": "code",
   "execution_count": null,
   "metadata": {
    "id": "YvbacQjDD1gU",
    "outputId": "08264bf2-0457-4d5b-b479-ec248b1deed3"
   },
   "outputs": [
    {
     "name": "stdout",
     "output_type": "stream",
     "text": [
      "\n",
      " Loading Left Dataset\n",
      "getData :  Hhpov.csv\n",
      "\n",
      " Loading Right Dataset\n",
      "getData :  Hhchpov.csv\n",
      "\n",
      " Validating the merge_how Parameter\n",
      "\n",
      " Import a crosswalk? ('True'/'False') False\n",
      "\n",
      " coerceForMerge: Left-Right\n",
      "cols :  CSA2010 CSA2010\n",
      "BEFORE COERCE :  object object\n",
      "AFTER COERCE object object CSA2010\n",
      "PERFORMING MERGE : LEFT->RIGHT\n",
      "first_col :  CSA2010 object\n",
      "how:  outer\n",
      "second_col :  CSA2010 object\n"
     ]
    },
    {
     "data": {
      "text/html": [
       "<div>\n",
       "<style scoped>\n",
       "    .dataframe tbody tr th:only-of-type {\n",
       "        vertical-align: middle;\n",
       "    }\n",
       "\n",
       "    .dataframe tbody tr th {\n",
       "        vertical-align: top;\n",
       "    }\n",
       "\n",
       "    .dataframe thead th {\n",
       "        text-align: right;\n",
       "    }\n",
       "</style>\n",
       "<table border=\"1\" class=\"dataframe\">\n",
       "  <thead>\n",
       "    <tr style=\"text-align: right;\">\n",
       "      <th></th>\n",
       "      <th>Unnamed: 0_x</th>\n",
       "      <th>CSA2010</th>\n",
       "      <th>hhpov15</th>\n",
       "      <th>hhpov16</th>\n",
       "      <th>hhpov17</th>\n",
       "      <th>hhpov18</th>\n",
       "      <th>Unnamed: 0_y</th>\n",
       "      <th>hhchpov15</th>\n",
       "      <th>hhchpov16</th>\n",
       "      <th>hhchpov17</th>\n",
       "      <th>hhchpov18</th>\n",
       "    </tr>\n",
       "  </thead>\n",
       "  <tbody>\n",
       "    <tr>\n",
       "      <th>0</th>\n",
       "      <td>0</td>\n",
       "      <td>Allendale/Irving...</td>\n",
       "      <td>24.15</td>\n",
       "      <td>21.28</td>\n",
       "      <td>20.70</td>\n",
       "      <td>23.00</td>\n",
       "      <td>0</td>\n",
       "      <td>38.93</td>\n",
       "      <td>34.73</td>\n",
       "      <td>32.77</td>\n",
       "      <td>35.27</td>\n",
       "    </tr>\n",
       "    <tr>\n",
       "      <th>1</th>\n",
       "      <td>1</td>\n",
       "      <td>Beechfield/Ten H...</td>\n",
       "      <td>11.17</td>\n",
       "      <td>11.59</td>\n",
       "      <td>10.47</td>\n",
       "      <td>10.90</td>\n",
       "      <td>1</td>\n",
       "      <td>19.42</td>\n",
       "      <td>21.22</td>\n",
       "      <td>23.92</td>\n",
       "      <td>21.90</td>\n",
       "    </tr>\n",
       "    <tr>\n",
       "      <th>2</th>\n",
       "      <td>2</td>\n",
       "      <td>Belair-Edison</td>\n",
       "      <td>18.61</td>\n",
       "      <td>19.59</td>\n",
       "      <td>20.27</td>\n",
       "      <td>22.83</td>\n",
       "      <td>2</td>\n",
       "      <td>36.88</td>\n",
       "      <td>36.13</td>\n",
       "      <td>34.56</td>\n",
       "      <td>39.74</td>\n",
       "    </tr>\n",
       "    <tr>\n",
       "      <th>3</th>\n",
       "      <td>3</td>\n",
       "      <td>Brooklyn/Curtis ...</td>\n",
       "      <td>28.36</td>\n",
       "      <td>26.33</td>\n",
       "      <td>24.21</td>\n",
       "      <td>21.54</td>\n",
       "      <td>3</td>\n",
       "      <td>45.01</td>\n",
       "      <td>46.45</td>\n",
       "      <td>46.41</td>\n",
       "      <td>39.89</td>\n",
       "    </tr>\n",
       "    <tr>\n",
       "      <th>4</th>\n",
       "      <td>4</td>\n",
       "      <td>Canton</td>\n",
       "      <td>3.00</td>\n",
       "      <td>2.26</td>\n",
       "      <td>3.66</td>\n",
       "      <td>2.05</td>\n",
       "      <td>4</td>\n",
       "      <td>5.49</td>\n",
       "      <td>2.99</td>\n",
       "      <td>4.02</td>\n",
       "      <td>4.61</td>\n",
       "    </tr>\n",
       "  </tbody>\n",
       "</table>\n",
       "</div>"
      ],
      "text/plain": [
       "   Unnamed: 0_x              CSA2010  hhpov15  hhpov16  hhpov17  hhpov18  Unnamed: 0_y  hhchpov15  hhchpov16  hhchpov17  hhchpov18\n",
       "0             0  Allendale/Irving...    24.15    21.28    20.70    23.00             0      38.93      34.73      32.77      35.27\n",
       "1             1  Beechfield/Ten H...    11.17    11.59    10.47    10.90             1      19.42      21.22      23.92      21.90\n",
       "2             2        Belair-Edison    18.61    19.59    20.27    22.83             2      36.88      36.13      34.56      39.74\n",
       "3             3  Brooklyn/Curtis ...    28.36    26.33    24.21    21.54             3      45.01      46.45      46.41      39.89\n",
       "4             4               Canton     3.00     2.26     3.66     2.05             4       5.49       2.99       4.02       4.61"
      ]
     },
     "execution_count": 0,
     "metadata": {
      "tags": []
     },
     "output_type": "execute_result"
    }
   ],
   "source": [
    "import pandas as pd\r\n",
    "import geopandas as gpd\r\n",
    "# Table: FDIC Baltimore Banks\r\n",
    "# Columns: Bank Name, Address(es), Census Tract\r\n",
    "left_ds = 'Hhpov.csv'\r\n",
    "left_col = 'CSA2010'\r\n",
    "\r\n",
    "# Table: Crosswalk Census Communities\r\n",
    "# 'TRACT2010', 'GEOID2010', 'CSA2010'\r\n",
    "right_ds = 'Hhchpov.csv'\r\n",
    "right_col='CSA2010'\r\n",
    "\r\n",
    "merge_how = 'outer'\r\n",
    "interactive = True\r\n",
    "\r\n",
    "merged_df = mergeDatasets(left_ds=left_ds, right_ds=right_ds, crosswalk_ds=False,\r\n",
    "                  left_col=left_col, right_col=right_col,\r\n",
    "                  crosswalk_left_col = False, crosswalk_right_col = False,\r\n",
    "                  merge_how=merge_how, # left right or columnname to retrieve\r\n",
    "                  interactive=True)\r\n",
    "merged_df.head()"
   ]
  },
  {
   "cell_type": "code",
   "execution_count": null,
   "metadata": {
    "id": "KICmm3IxD1gU",
    "outputId": "9f85b740-92a1-4afb-cecf-79f6fd2e6e6a"
   },
   "outputs": [
    {
     "name": "stdout",
     "output_type": "stream",
     "text": [
      "24510_B19001_5y18_est.csv           CSA-to-Tract-2010.csv  \u001b[0m\u001b[01;34msample_data\u001b[0m/\n",
      "24510_B19001_5y18_est_Original.csv  Hhchpov.csv\n",
      "acs_csa_merge_test.csv              Hhpov.csv\n"
     ]
    }
   ],
   "source": [
    "ls"
   ]
  },
  {
   "cell_type": "markdown",
   "metadata": {
    "id": "G3qKnupuD1gV"
   },
   "source": [
    "#### Example 2 ) Get CSA and Geometry with a Crosswalk using 3 links"
   ]
  },
  {
   "cell_type": "code",
   "execution_count": null,
   "metadata": {
    "id": "QNJqsCCUD1gV"
   },
   "outputs": [],
   "source": [
    "# Primary Table\n",
    "# Description: I created a public dataset from a google xlsx sheet 'Bank Addresses and Census Tract' from a workbook of the same name.\n",
    "# Table: FDIC Baltimore Banks\n",
    "# Columns: Bank Name, Address(es), Census Tract\n",
    "left_ds = 'https28768&single=true&output=csv'\n",
    "left_col = 'Census Tract'\n",
    "\n",
    "# Alternate Primary Table\n",
    "# Description: Same workbook, different Sheet: 'Branches per tract' \n",
    "# Columns: Census Tract, Number branches per tract\n",
    "# left_ds = 'https://docssingle=true&output=csv'\n",
    "# lef_col = 'Number branches per tract'\n",
    "\n",
    "# Crosswalk Table\n",
    "# Table: Crosswalk Census Communities\n",
    "# 'TRACT2010', 'GEOID2010', 'CSA2010'\n",
    "crosswalk_ds = 'https://docs.goot=csv'\n",
    "use_crosswalk = True\n",
    "crosswalk_left_col = 'TRACT2010'\n",
    "crosswalk_right_col = 'GEOID2010'\n",
    "\n",
    "# Secondary Table\n",
    "# Table: Baltimore Boundaries\n",
    "# 'TRACTCE10', 'GEOID10', 'CSA', 'NAME10', 'Tract', 'geometry'\n",
    "right_ds = 'httpse=true&output=csv'\n",
    "right_col ='GEOID10'\n",
    "\n",
    "merge_how = 'geometry'\n",
    "interactive = True\n",
    "merge_how = 'outer'\n",
    "\n",
    "merged_df_geom = mergeDatasets(left_ds=left_ds, right_ds=right_ds, crosswalk_ds=False,\n",
    "                  left_col=left_col, right_col=right_col,\n",
    "                  crosswalk_left_col = False, crosswalk_right_col = False,\n",
    "                  merge_how=merge_how, # left right or columnname to retrieve\n",
    "                  interactive=True)\n",
    "\n",
    "merged_df_geom.head()"
   ]
  },
  {
   "cell_type": "markdown",
   "metadata": {
    "id": "tQ2LnN1UD1gV"
   },
   "source": [
    "Here we can save the data so that it may be used in later tutorials. "
   ]
  },
  {
   "cell_type": "code",
   "execution_count": null,
   "metadata": {
    "id": "phSfipCKD1gV"
   },
   "outputs": [],
   "source": [
    "string = 'test_save_data_with_geom_and_csa'\n",
    "merged_df.to_csv(string+'.csv', encoding=\"utf-8\", index=False, quoting=csv.QUOTE_ALL)"
   ]
  },
  {
   "cell_type": "markdown",
   "metadata": {
    "id": "g6CQWMMaD1gV"
   },
   "source": [
    "#### Example 3: Ran Alone"
   ]
  },
  {
   "cell_type": "code",
   "execution_count": null,
   "metadata": {
    "id": "4hPilfvkD1gV"
   },
   "outputs": [],
   "source": [
    "mergeDatasets()"
   ]
  }
 ],
 "metadata": {
  "colab": {
   "collapsed_sections": [],
   "name": "02_Merge_Data.ipynb",
   "provenance": []
  },
  "kernelspec": {
   "display_name": "Python 3",
   "name": "python3"
  }
 },
 "nbformat": 4,
 "nbformat_minor": 0
}
