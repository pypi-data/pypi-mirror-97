{
 "cells": [
  {
   "cell_type": "code",
   "execution_count": null,
   "metadata": {},
   "outputs": [],
   "source": [
    "# default_exp acsDownload"
   ]
  },
  {
   "cell_type": "markdown",
   "metadata": {},
   "source": [
    "# Explore and Download\n",
    "\n",
    "> In this tutorial, the basics of Colabs are introduced and an American Community Survey (ACS) dataset is downloaded."
   ]
  },
  {
   "cell_type": "markdown",
   "metadata": {},
   "source": [
    "This Coding Notebook is the __first__ in a series.\n",
    "\n",
    "An Interactive version can be found here <a href=\"https://colab.research.google.com/github/karpatic/dataplay/blob/master/notebooks/01_ACS_Explore_and_Download.ipynb\" target=\"_parent\"><img src=\"https://colab.research.google.com/assets/colab-badge.svg\" alt=\"Open In Colab\"/></a>.\n",
    "\n",
    "This colab and more can be found on our [webpage](https://karpatic.github.io/dataplay/). \n",
    "\n",
    "- Content covered in previous tutorials will be used in later tutorials. \n",
    "\n",
    "- __New code and or  information *should* have explanations and or descriptions__ attached. \n",
    "\n",
    "- Concepts or code covered in previous tutorials will be used without being explaining in entirety.\n",
    "\n",
    "- The [Dataplay](https://karpatic.github.io/dataplay/) Handbook development techniques covered in the [Datalabs](https://karpatic.github.io/datalabs/) Guidebook\n",
    "\n",
    "- __If content can not be found in the current tutorial and is not covered in previous tutorials, please let me know.__\n",
    "\n",
    "- This notebook has been optimized for Google Colabs ran on a Chrome Browser. \n",
    "\n",
    "- Statements found in the index page on view expressed, responsibility, errors and ommissions, use at risk, and licensing  extend throughout the tutorial."
   ]
  },
  {
   "cell_type": "markdown",
   "metadata": {},
   "source": [
    "[![Binder](https://mybinder.org/badge_logo.svg)](https://mybinder.org/v2/gh/karpatic/datalab/master?filepath=%2Fnotebooks%2Findex.ipynb)\r\n",
    "[![Binder](https://pete88b.github.io/fastpages/assets/badges/colab.svg)](https://colab.research.google.com/github/karpatic/datalab/blob/master/notebooks/index.ipynb)\r\n",
    "[![Binder](https://pete88b.github.io/fastpages/assets/badges/github.svg)](https://github.com/karpatic/datalab/tree/master/notebooks/index.ipynb)\r\n",
    "[![Open Source Love svg3](https://badges.frapsoft.com/os/v3/open-source.svg?v=103)](https://github.com/ellerbrock/open-source-badges/)\r\n",
    "\r\n",
    "[![NPM License](https://img.shields.io/npm/l/all-contributors.svg?style=flat)](https://github.com/karpatic/dataplay/blob/master/LICENSE)\r\n",
    "[![Active](http://img.shields.io/badge/Status-Active-green.svg)](https://karpatic.github.io) \r\n",
    "[![Python Versions](https://img.shields.io/pypi/pyversions/dataplay.svg)](https://pypi.python.org/pypi/dataplay/)\r\n",
    "[![GitHub last commit](https://img.shields.io/github/last-commit/karpatic/dataplay.svg?style=flat)]() \r\n",
    "[![No Maintenance Intended](http://unmaintained.tech/badge.svg)](http://unmaintained.tech/) \r\n",
    "\r\n",
    "[![GitHub stars](https://img.shields.io/github/stars/karpatic/dataplay.svg?style=social&label=Star)](https://github.com/karpatic/dataplay) \r\n",
    "[![GitHub watchers](https://img.shields.io/github/watchers/karpatic/dataplay.svg?style=social&label=Watch)](https://github.com/karpatic/dataplay) \r\n",
    "[![GitHub forks](https://img.shields.io/github/forks/karpatic/dataplay.svg?style=social&label=Fork)](https://github.com/karpatic/dataplay) \r\n",
    "[![GitHub followers](https://img.shields.io/github/followers/karpatic.svg?style=social&label=Follow)](https://github.com/karpatic/dataplay) \r\n",
    "\r\n",
    "[![Tweet](https://img.shields.io/twitter/url/https/github.com/karpatic/dataplay.svg?style=social)](https://twitter.com/intent/tweet?text=Check%20out%20this%20%E2%9C%A8%20colab%20by%20@bniajfi%20https://github.com/karpatic/dataplay%20%F0%9F%A4%97) \r\n",
    "[![Twitter Follow](https://img.shields.io/twitter/follow/bniajfi.svg?style=social)](https://twitter.com/bniajfi)"
   ]
  },
  {
   "cell_type": "markdown",
   "metadata": {},
   "source": [
    "## About this Tutorial: "
   ]
  },
  {
   "cell_type": "markdown",
   "metadata": {},
   "source": [
    "### Whats inside?"
   ]
  },
  {
   "cell_type": "markdown",
   "metadata": {},
   "source": [
    "#### __The Tutorial__\n",
    "\n",
    "In this notebook, the basics of Colabs are introduced.\n",
    "\n",
    "- We will explore ACS data catalogs to locate data we like\n",
    "- We will programmatically download data from the American Community Survey (ACS)\n",
    "- - Examples will use ACS table B19001, Baltimore City 2017 estimates\n",
    "- We will rework the datasets to be human friendly"
   ]
  },
  {
   "cell_type": "markdown",
   "metadata": {},
   "source": [
    "#### __Objectives__\n",
    "\n",
    "By the end of this tutorial users should have an understanding of:\n",
    "- Google Colabs\n",
    "- Census Data\n",
    "- Exploring, Retrieveing, and cleaning ACS Data programmatically\n",
    "- the 'retrieve_acs_data()' function, and how to use it in the future"
   ]
  },
  {
   "cell_type": "markdown",
   "metadata": {},
   "source": [
    "# Background"
   ]
  },
  {
   "cell_type": "markdown",
   "metadata": {},
   "source": [
    "## Using Colabs:\n"
   ]
  },
  {
   "cell_type": "markdown",
   "metadata": {},
   "source": [
    "**Instructions:** Read all text and execute all code in order.  \n",
    "\n",
    "**How to execute code:**\n",
    "\n",
    "- Locate labels taking the form: '*Run: (A Short Description)*'\n",
    "- Left of this text you will see an open bracket [ ], possibly with a number inside it.\n",
    "- - Hovering over the brackets will reveal a play button. \n",
    "- - Click the button to execute code.\n",
    "- Alternately: Click on a box with code and hit 'Shift' + 'Enter' \n",
    "\n",
    "If you would like to see the code you are executing, double click the label 'Run: '. Code is accompanied with brief descriptions inlined. "
   ]
  },
  {
   "cell_type": "markdown",
   "metadata": {},
   "source": [
    "__Try It!__ Go ahead and try running the cell below. What you will be shown as a result is a flow chart of how this current tutorial may be used."
   ]
  },
  {
   "cell_type": "code",
   "execution_count": null,
   "metadata": {},
   "outputs": [
    {
     "data": {
      "text/html": [
       "<img src=\"https://bniajfi.org/images/mermaid/viewuserpath_short.PNG\">"
      ],
      "text/plain": [
       "<IPython.core.display.HTML object>"
      ]
     },
     "metadata": {},
     "output_type": "display_data"
    }
   ],
   "source": [
    "%%html\n",
    "<img src=\"https://bniajfi.org/images/mermaid/viewuserpath_short.PNG\">"
   ]
  },
  {
   "cell_type": "markdown",
   "metadata": {},
   "source": [
    "## About The Census Data"
   ]
  },
  {
   "cell_type": "markdown",
   "metadata": {},
   "source": [
    "### Census or ACS Data?\n",
    "\n"
   ]
  },
  {
   "cell_type": "markdown",
   "metadata": {},
   "source": [
    "__Census data comes in 2 flavors:__ \n",
    "\n",
    "------------------------------------------------------\n",
    "1) American Community Survey (ACS)\n",
    "- First released to the public in 2006  \n",
    "- Derived using 5 Year Estimates (Past 5 years of data)\n",
    "- Delievered Annually\n",
    "- Delievered at Tract Level. (READ -> 'Geographic Granularity')\n",
    "- Margin of error generally prohibit a more granular view \n",
    "- ACS Data is accessible programmatically  (READ -> 'ACS Programmatic Retrieval')(READ -> 'Geographic Reference Code')\n",
    "\n",
    "2) Decienial Census \n",
    "- Estimates usings 10 years of ACS data\n",
    "- Decenial Census data are created, in part, by ACS data.\n",
    "- Delievered once every 10 years.\n",
    "- Delivered at Block Level. Most Accurate\n",
    "------------------------------------------------------"
   ]
  },
  {
   "cell_type": "markdown",
   "metadata": {},
   "source": [
    "### Geographic Granularity"
   ]
  },
  {
   "cell_type": "markdown",
   "metadata": {},
   "source": [
    "Census data can come in a variety of levels. \n",
    "\n",
    "These levels define the specificity of the data. \n",
    "\n",
    "**Ie.** Weather a data is reporting on individual communities, or entire cities is contingent on the data granularity. \n",
    "\n",
    "The data we will be downloading in this tutorial, ACS Data, can be found at the Tract level and no closer. \n",
    "\n",
    "Aggregating Tracts is the way BNIA calculates some of their yearly community indicators!"
   ]
  },
  {
   "cell_type": "markdown",
   "metadata": {},
   "source": [
    "Each of the bolded words in the list below are levels that are identifiable through a 'Geographic Reference Code'. \n",
    " \n",
    "For more information on Geographic Reference Codes, refer to the table of contents for the section on that matter.\n",
    "\n",
    "- A census block is the smallest unit of measurement used by the Census\n",
    "- Information by census **block** is only available decenially (i.e. not ACS data)\n",
    "- **Block groups** are the next smallest unit of measurement used by the census and are composed of aggregate census blocks\n",
    "- Census **tracts** are composed of block groups and are the next largest unit of measurement used by the ACS\n",
    "- **County**, **city** and census **designated places** are composed of Tracts"
   ]
  },
  {
   "cell_type": "markdown",
   "metadata": {},
   "source": [
    "Run the following code to see how these different levels nest into eachother!"
   ]
  },
  {
   "cell_type": "code",
   "execution_count": null,
   "metadata": {},
   "outputs": [
    {
     "data": {
      "text/html": [
       "<img src=\"https://bniajfi.org/images/mermaid/census_granularities.PNG\">"
      ],
      "text/plain": [
       "<IPython.core.display.HTML object>"
      ]
     },
     "metadata": {},
     "output_type": "display_data"
    }
   ],
   "source": [
    "%%html\n",
    "<img src=\"https://bniajfi.org/images/mermaid/census_granularities.PNG\">"
   ]
  },
  {
   "cell_type": "markdown",
   "metadata": {},
   "source": [
    "### Geographic Reference Codes"
   ]
  },
  {
   "cell_type": "markdown",
   "metadata": {},
   "source": [
    "State, County, and Tract ID's are called Geographic Reference Codes. \n",
    "\n",
    "This information is crucial to know when accessing data."
   ]
  },
  {
   "cell_type": "markdown",
   "metadata": {},
   "source": [
    "In order to successfully pull data, Census State and County Codes must be provided.\n",
    "\n",
    "The code herin is configured by default to pull data on Baltimore City, MD and its constituent Tracts.\n",
    "\n",
    "**In order to find your State and County code:**\n",
    "\n",
    "------------------------------------------------------\n",
    "Either \n",
    "\n",
    "A)  Click the link: https://geocoding.geo.census.gov/geocoder/geographies/address where upon entering a unique address you can locate state and county codes under the associated values 'Counties' and 'State' \n",
    "\n",
    "OR\n",
    "\n",
    "B) Conversly, click https://www.census.gov/geographies/reference-files/time-series/geo/tallies.html\n",
    "- The Geographies mainpage contains a lot of data assets.\n",
    "- The link to these tallies was located by accessing the geographical references subdirectory of the geographies mainpage and then filtered for publications made on the year 2010 (We are using the 2010 census boundaries)\n",
    "- Once clicked, simply scroll down to where you find the header 'Tallies of Geographic Entities By State'\n",
    "- Enter your state and press enter.\n",
    "- You will be redirected to a plain text file that will contain all the information on your state and its counties. \n",
    "------------------------------------------------------"
   ]
  },
  {
   "cell_type": "markdown",
   "metadata": {},
   "source": [
    "## Working with the ACS Data"
   ]
  },
  {
   "cell_type": "markdown",
   "metadata": {},
   "source": [
    "Searching for a dataset is the first step in the data processing pipeline. "
   ]
  },
  {
   "cell_type": "markdown",
   "metadata": {},
   "source": [
    "In this tutorial we plan on processing ACS data in a programmatic fashion. "
   ]
  },
  {
   "cell_type": "markdown",
   "metadata": {},
   "source": [
    "This tutorial will not just allow you to search/ explore ACS tables and inspect their contents (attributes), but also to download, format, and clean it! "
   ]
  },
  {
   "cell_type": "markdown",
   "metadata": {},
   "source": [
    "### Search Advice"
   ]
  },
  {
   "cell_type": "markdown",
   "metadata": {},
   "source": [
    "Despite a table explorer section being provided, it is not suggested you use this approach, but rather, explore available data tables and retrieve their ID's using the dedicated websites provided below:"
   ]
  },
  {
   "cell_type": "markdown",
   "metadata": {},
   "source": [
    "American Fact Finder may assist you in your data locating and download needs:\n",
    "https://factfinder.census.gov/faces/nav/jsf/pages/index.xhtml\n",
    "Fact Finder provides a nice interface to explore available datasets. From Fact Finder you can grab a Table's ID and continue the tutorial. Alternately, from Fact Finder, You can download the data for your community directly via an interface. From there, you may continue the tutorial by loading the downloaded dataset as an external resource, instructions on how to do this are provided further below in this tutorial."
   ]
  },
  {
   "cell_type": "markdown",
   "metadata": {},
   "source": [
    "__Update : 12/18/2019__\n",
    "\" American FactFinder (AFF) will remain as an \"archive\" system for accessing historical data until spring 2020. \" - American Fact Finder Website\n",
    "\n",
    "*The New American Fact Finder* : https://data.census.gov/cedsci/\n",
    "\n",
    "This new website is provided by the Census Org.  Within its 'Advanced Search' feature exist all the filtering abilities of the older, depricated, (soon discontinued) American Fact Finder Website. It is still a bit buggy to date and may not apply all filters. Filters include years(can only pick on year at a time), geography(state county tract), topic, surveys and Table ID. The filters you apply are shown at the bottom of the query and submitting the search will yield data tables ready for download as well as table ID's that you may snag for use in this tutorial."
   ]
  },
  {
   "cell_type": "markdown",
   "metadata": {},
   "source": [
    "### ACS Programmatic Retrieval"
   ]
  },
  {
   "cell_type": "markdown",
   "metadata": {},
   "source": [
    "#### Developer Resources"
   ]
  },
  {
   "cell_type": "markdown",
   "metadata": {},
   "source": [
    "- Developers Resource: https://www.census.gov/developers/\n",
    "- ACS API: https://www.census.gov/data/developers/data-sets.html\n",
    "- Census ACS Developer Guide: https://www.census.gov/data/developers/data-sets/acs-5year.html"
   ]
  },
  {
   "cell_type": "markdown",
   "metadata": {},
   "source": [
    "#### Notes on the Census API"
   ]
  },
  {
   "cell_type": "markdown",
   "metadata": {},
   "source": [
    "Tutorial Notes:\n",
    "\n",
    "- Details and Subject tables are derived using the 5 year ACS data.\n",
    "- - As a reminder, estimates using (ACS) 5-year estimates arrive at the tract level\n",
    "\n",
    "- These tables are created by the census and are pre-compiled views of the data. \n",
    "- The Detail Tables contain all possible ACS Data. \n",
    "- The Subjects Table contains ACS data in convenient groups \n",
    "- BNIA create their data mostly using Details table, but sometimes pulling the data from a Subject Table is more convenient (the data would otherwise be found along multiple details tables).\n",
    "\n",
    "ACS Website Notes:\n",
    "\n",
    "- Detailed Tables contain the most detailed cross-tabulations, many of which are published down to block groups. The data are population counts. There are over 20,000 variables in this dataset.\n",
    "\n",
    "- Subject Tables provide an overview of the estimates available in a particular topic.  The data are presented as population counts and percentages.  There are over 18,000 variables in this dataset. \n",
    "\n",
    "For more Information (via API) Please Visit \n",
    "- https://www.census.gov/data/developers/data-sets/acs-5year.html\n"
   ]
  },
  {
   "cell_type": "markdown",
   "metadata": {},
   "source": [
    "# Guided Walkthrough"
   ]
  },
  {
   "cell_type": "markdown",
   "metadata": {},
   "source": [
    "## SETUP"
   ]
  },
  {
   "cell_type": "markdown",
   "metadata": {},
   "source": [
    "Install these libraries onto the virtual environment.\n",
    "\n",
    "```\n",
    "! pip install  -U -q ipywidgets \n",
    "! pip install geopandas\n",
    "```"
   ]
  },
  {
   "cell_type": "code",
   "execution_count": null,
   "metadata": {},
   "outputs": [
    {
     "name": "stdout",
     "output_type": "stream",
     "text": [
      "Collecting geopandas\n",
      "\u001b[?25l  Downloading https://files.pythonhosted.org/packages/d7/bf/e9cefb69d39155d122b6ddca53893b61535fa6ffdad70bf5ef708977f53f/geopandas-0.9.0-py2.py3-none-any.whl (994kB)\n",
      "\u001b[K     |████████████████████████████████| 1.0MB 6.2MB/s \n",
      "\u001b[?25hRequirement already satisfied: shapely>=1.6 in /usr/local/lib/python3.7/dist-packages (from geopandas) (1.7.1)\n",
      "Requirement already satisfied: pandas>=0.24.0 in /usr/local/lib/python3.7/dist-packages (from geopandas) (1.1.5)\n",
      "Collecting pyproj>=2.2.0\n",
      "\u001b[?25l  Downloading https://files.pythonhosted.org/packages/b1/72/d52e9ca81caef056062d71991b0e9b1d16af042245627c5d0e4916a36c4f/pyproj-3.0.1-cp37-cp37m-manylinux2010_x86_64.whl (6.5MB)\n",
      "\u001b[K     |████████████████████████████████| 6.5MB 13.2MB/s \n",
      "\u001b[?25hCollecting fiona>=1.8\n",
      "\u001b[?25l  Downloading https://files.pythonhosted.org/packages/47/c2/67d1d0acbaaee3b03e5e22e3b96c33219cb5dd392531c9ff9cee7c2eb3e4/Fiona-1.8.18-cp37-cp37m-manylinux1_x86_64.whl (14.8MB)\n",
      "\u001b[K     |████████████████████████████████| 14.8MB 306kB/s \n",
      "\u001b[?25hRequirement already satisfied: numpy>=1.15.4 in /usr/local/lib/python3.7/dist-packages (from pandas>=0.24.0->geopandas) (1.19.5)\n",
      "Requirement already satisfied: pytz>=2017.2 in /usr/local/lib/python3.7/dist-packages (from pandas>=0.24.0->geopandas) (2018.9)\n",
      "Requirement already satisfied: python-dateutil>=2.7.3 in /usr/local/lib/python3.7/dist-packages (from pandas>=0.24.0->geopandas) (2.8.1)\n",
      "Requirement already satisfied: certifi in /usr/local/lib/python3.7/dist-packages (from pyproj>=2.2.0->geopandas) (2020.12.5)\n",
      "Collecting cligj>=0.5\n",
      "  Downloading https://files.pythonhosted.org/packages/42/1e/947eadf10d6804bf276eb8a038bd5307996dceaaa41cfd21b7a15ec62f5d/cligj-0.7.1-py3-none-any.whl\n",
      "Requirement already satisfied: six>=1.7 in /usr/local/lib/python3.7/dist-packages (from fiona>=1.8->geopandas) (1.15.0)\n",
      "Requirement already satisfied: click<8,>=4.0 in /usr/local/lib/python3.7/dist-packages (from fiona>=1.8->geopandas) (7.1.2)\n",
      "Collecting click-plugins>=1.0\n",
      "  Downloading https://files.pythonhosted.org/packages/e9/da/824b92d9942f4e472702488857914bdd50f73021efea15b4cad9aca8ecef/click_plugins-1.1.1-py2.py3-none-any.whl\n",
      "Requirement already satisfied: attrs>=17 in /usr/local/lib/python3.7/dist-packages (from fiona>=1.8->geopandas) (20.3.0)\n",
      "Collecting munch\n",
      "  Downloading https://files.pythonhosted.org/packages/cc/ab/85d8da5c9a45e072301beb37ad7f833cd344e04c817d97e0cc75681d248f/munch-2.5.0-py2.py3-none-any.whl\n",
      "Installing collected packages: pyproj, cligj, click-plugins, munch, fiona, geopandas\n",
      "Successfully installed click-plugins-1.1.1 cligj-0.7.1 fiona-1.8.18 geopandas-0.9.0 munch-2.5.0 pyproj-3.0.1\n"
     ]
    }
   ],
   "source": [
    "# hide\n",
    "# @title Run: Install Modules\n",
    "\n",
    "# Install the Widgets Module. \n",
    "# Colabs does not locally provide this Python Library\n",
    "# The '!' is a special prefix used in colabs when talking to the terminal\n",
    "! pip install -U -q ipywidgets\n",
    "! pip install geopandas"
   ]
  },
  {
   "cell_type": "code",
   "execution_count": null,
   "metadata": {},
   "outputs": [
    {
     "name": "stderr",
     "output_type": "stream",
     "text": [
      "/usr/local/lib/python3.7/dist-packages/ipykernel_launcher.py:23: FutureWarning: Passing a negative integer is deprecated in version 1.0 and will not be supported in future version. Instead, use None to not limit the column width.\n",
      "/usr/local/lib/python3.7/dist-packages/psycopg2/__init__.py:144: UserWarning: The psycopg2 wheel package will be renamed from release 2.8; in order to keep installing from binary please use \"pip install psycopg2-binary\" instead. For details see: <http://initd.org/psycopg/docs/install.html#binary-install-from-pypi>.\n",
      "  \"\"\")\n"
     ]
    }
   ],
   "source": [
    "# export\n",
    "# @title Run: Import Modules\n",
    "\n",
    "# Once installed we need to..\n",
    "\n",
    "# import and configure the Widgets\n",
    "import ipywidgets as widgets\n",
    "from IPython.core.interactiveshell import InteractiveShell\n",
    "InteractiveShell.ast_node_interactivity = 'all'\n",
    "import ipywidgets as widgets\n",
    "from ipywidgets import interact, interact_manual\n",
    "\n",
    "# About importing data\n",
    "import urllib.request as urllib\n",
    "from urllib.parse import urlencode\n",
    "# This Prevents Timeouts when Importing\n",
    "import socket\n",
    "socket.setdefaulttimeout(10.0)\n",
    "\n",
    "# Pandas Data Manipulation Libraries\n",
    "import pandas as pd\n",
    "# Show entire column widths\n",
    "pd.set_option('display.max_colwidth', -1)\n",
    "# Working with Json Data\n",
    "import json\n",
    "# Data Processing\n",
    "import numpy as np\n",
    "# Reading Json Data into Pandas\n",
    "from pandas.io.json import json_normalize\n",
    "\n",
    "# Export data as CSV\n",
    "import csv\n",
    "\n",
    "\n",
    "# Geo-Formatting\n",
    "# Postgres-Conversion\n",
    "import geopandas as gpd\n",
    "from geopandas import GeoDataFrame\n",
    "import psycopg2,pandas,numpy\n",
    "from shapely import wkb\n",
    "from shapely.wkt import loads\n",
    "import os\n",
    "import sys\n",
    "\n",
    "# In case file is KML\n",
    "# enable KML support; disabled by default\n",
    "import fiona\n",
    "fiona.drvsupport.supported_drivers['kml'] = 'rw'\n",
    "fiona.drvsupport.supported_drivers['KML'] = 'rw'\n",
    "\n",
    "# load libraries\n",
    "# from shapely.wkt import loads\n",
    "# from pandas import ExcelWriter\n",
    "# from pandas import ExcelFile\n",
    "import matplotlib.pyplot as plt\n",
    "import glob\n",
    "import imageio"
   ]
  },
  {
   "cell_type": "code",
   "execution_count": null,
   "metadata": {},
   "outputs": [
    {
     "name": "stdout",
     "output_type": "stream",
     "text": [
      "Enabling notebook extension jupyter-js-widgets/extension...\n",
      "      - Validating: \u001b[32mOK\u001b[0m\n"
     ]
    }
   ],
   "source": [
    "# hide\n",
    "%matplotlib inline\n",
    "!jupyter nbextension enable --py widgetsnbextension"
   ]
  },
  {
   "cell_type": "markdown",
   "metadata": {},
   "source": [
    "## Explore Table Directories"
   ]
  },
  {
   "cell_type": "markdown",
   "metadata": {},
   "source": [
    "**Please Note:** The following section details a programmatic way to access and explore the census data catalogs. It is advised that rather than use this portion of the section of the tutorial, you read the section '*Searching For Data*' --> '*Search Advice*' above and which provide links to dedicated websites hosted by the census bureaue explicitly  for your data exploration needs!"
   ]
  },
  {
   "cell_type": "markdown",
   "metadata": {},
   "source": [
    "### Explore the Detailed Table Directory"
   ]
  },
  {
   "cell_type": "markdown",
   "metadata": {},
   "source": [
    "Retrieve and search available ACS datasets through the ACS's table directory. \n",
    "\n",
    "The table directory contains TableId's and Descriptions for each datatable the ACS provides.\n",
    "\n",
    "By running the next cell, an interactive searchbox will filter the directory for keywords within the description.\n",
    "\n",
    "Be sure to grab the TableId once you find a table with a description of interest."
   ]
  },
  {
   "cell_type": "markdown",
   "metadata": {},
   "source": [
    "```\n",
    "response = urllib.urlopen('https://api.census.gov/data/2017/acs/acs5/groups/')\n",
    "metaDataTable = json_normalize( json.loads(response.read())['groups'] )\n",
    "metaDataTable.set_index('name', drop=True, inplace=True)\n",
    "description = input(\"Search ACS Table Directory by Keyword: \")\n",
    "metaDataTable[ metaDataTable['description'].str.contains(description.upper()) ]\n",
    "```"
   ]
  },
  {
   "cell_type": "code",
   "execution_count": null,
   "metadata": {},
   "outputs": [
    {
     "name": "stderr",
     "output_type": "stream",
     "text": [
      "/usr/local/lib/python3.7/dist-packages/ipykernel_launcher.py:10: FutureWarning: pandas.io.json.json_normalize is deprecated, use pandas.json_normalize instead\n",
      "  # Remove the CWD from sys.path while we load stuff.\n"
     ]
    },
    {
     "name": "stdout",
     "output_type": "stream",
     "text": [
      "Search ACS Table Directory by Keyword: child\n"
     ]
    },
    {
     "data": {
      "text/html": [
       "<div>\n",
       "<style scoped>\n",
       "    .dataframe tbody tr th:only-of-type {\n",
       "        vertical-align: middle;\n",
       "    }\n",
       "\n",
       "    .dataframe tbody tr th {\n",
       "        vertical-align: top;\n",
       "    }\n",
       "\n",
       "    .dataframe thead th {\n",
       "        text-align: right;\n",
       "    }\n",
       "</style>\n",
       "<table border=\"1\" class=\"dataframe\">\n",
       "  <thead>\n",
       "    <tr style=\"text-align: right;\">\n",
       "      <th></th>\n",
       "      <th>description</th>\n",
       "      <th>variables</th>\n",
       "    </tr>\n",
       "    <tr>\n",
       "      <th>name</th>\n",
       "      <th></th>\n",
       "      <th></th>\n",
       "    </tr>\n",
       "  </thead>\n",
       "  <tbody>\n",
       "    <tr>\n",
       "      <th>B17012</th>\n",
       "      <td>POVERTY STATUS IN THE PAST 12 MONTHS OF FAMILIES BY HOUSEHOLD TYPE BY NUMBER OF RELATED CHILDREN UNDER 18 YEARS</td>\n",
       "      <td>https://api.census.gov/data/2017/acs/acs5/groups/B17012.json</td>\n",
       "    </tr>\n",
       "    <tr>\n",
       "      <th>B17010</th>\n",
       "      <td>POVERTY STATUS IN THE PAST 12 MONTHS OF FAMILIES BY FAMILY TYPE BY PRESENCE OF RELATED CHILDREN UNDER 18 YEARS BY AGE OF RELATED CHILDREN</td>\n",
       "      <td>https://api.census.gov/data/2017/acs/acs5/groups/B17010.json</td>\n",
       "    </tr>\n",
       "    <tr>\n",
       "      <th>B99102</th>\n",
       "      <td>ALLOCATION OF GRANDPARENTS LIVING WITH GRANDCHILDREN UNDER 18 YEARS</td>\n",
       "      <td>https://api.census.gov/data/2017/acs/acs5/groups/B99102.json</td>\n",
       "    </tr>\n",
       "    <tr>\n",
       "      <th>B99104</th>\n",
       "      <td>ALLOCATION OF LENGTH OF TIME GRANDPARENT RESPONSIBLE FOR OWN GRANDCHILDREN UNDER 18 YEARS FOR THE POPULATION 30 YEARS AND OVER</td>\n",
       "      <td>https://api.census.gov/data/2017/acs/acs5/groups/B99104.json</td>\n",
       "    </tr>\n",
       "    <tr>\n",
       "      <th>B99103</th>\n",
       "      <td>ALLOCATION OF GRANDPARENTS RESPONSIBLE FOR GRANDCHILDREN UNDER 18 YEARS</td>\n",
       "      <td>https://api.census.gov/data/2017/acs/acs5/groups/B99103.json</td>\n",
       "    </tr>\n",
       "    <tr>\n",
       "      <th>...</th>\n",
       "      <td>...</td>\n",
       "      <td>...</td>\n",
       "    </tr>\n",
       "    <tr>\n",
       "      <th>B10001</th>\n",
       "      <td>GRANDCHILDREN UNDER 18 YEARS LIVING WITH A GRANDPARENT HOUSEHOLDER BY AGE OF GRANDCHILD</td>\n",
       "      <td>https://api.census.gov/data/2017/acs/acs5/groups/B10001.json</td>\n",
       "    </tr>\n",
       "    <tr>\n",
       "      <th>B09002</th>\n",
       "      <td>OWN CHILDREN UNDER 18 YEARS BY FAMILY TYPE AND AGE</td>\n",
       "      <td>https://api.census.gov/data/2017/acs/acs5/groups/B09002.json</td>\n",
       "    </tr>\n",
       "    <tr>\n",
       "      <th>B10002</th>\n",
       "      <td>GRANDCHILDREN UNDER 18 YEARS LIVING WITH A GRANDPARENT HOUSEHOLDER BY GRANDPARENT RESPONSIBILITY AND PRESENCE OF PARENT</td>\n",
       "      <td>https://api.census.gov/data/2017/acs/acs5/groups/B10002.json</td>\n",
       "    </tr>\n",
       "    <tr>\n",
       "      <th>B09018</th>\n",
       "      <td>RELATIONSHIP TO HOUSEHOLDER FOR CHILDREN UNDER 18 YEARS IN HOUSEHOLDS</td>\n",
       "      <td>https://api.census.gov/data/2017/acs/acs5/groups/B09018.json</td>\n",
       "    </tr>\n",
       "    <tr>\n",
       "      <th>B09010</th>\n",
       "      <td>RECEIPT OF SUPPLEMENTAL SECURITY INCOME (SSI), CASH PUBLIC ASSISTANCE INCOME, OR FOOD STAMPS/SNAP IN THE PAST 12 MONTHS BY HOUSEHOLD TYPE FOR CHILDREN UNDER 18 YEARS IN HOUSEHOLDS</td>\n",
       "      <td>https://api.census.gov/data/2017/acs/acs5/groups/B09010.json</td>\n",
       "    </tr>\n",
       "  </tbody>\n",
       "</table>\n",
       "<p>61 rows × 2 columns</p>\n",
       "</div>"
      ],
      "text/plain": [
       "                                                                                                                                                                                description  \\\n",
       "name                                                                                                                                                                                          \n",
       "B17012  POVERTY STATUS IN THE PAST 12 MONTHS OF FAMILIES BY HOUSEHOLD TYPE BY NUMBER OF RELATED CHILDREN UNDER 18 YEARS                                                                       \n",
       "B17010  POVERTY STATUS IN THE PAST 12 MONTHS OF FAMILIES BY FAMILY TYPE BY PRESENCE OF RELATED CHILDREN UNDER 18 YEARS BY AGE OF RELATED CHILDREN                                             \n",
       "B99102  ALLOCATION OF GRANDPARENTS LIVING WITH GRANDCHILDREN UNDER 18 YEARS                                                                                                                   \n",
       "B99104  ALLOCATION OF LENGTH OF TIME GRANDPARENT RESPONSIBLE FOR OWN GRANDCHILDREN UNDER 18 YEARS FOR THE POPULATION 30 YEARS AND OVER                                                        \n",
       "B99103  ALLOCATION OF GRANDPARENTS RESPONSIBLE FOR GRANDCHILDREN UNDER 18 YEARS                                                                                                               \n",
       "...                                                                                                                                ...                                                        \n",
       "B10001  GRANDCHILDREN UNDER 18 YEARS LIVING WITH A GRANDPARENT HOUSEHOLDER BY AGE OF GRANDCHILD                                                                                               \n",
       "B09002  OWN CHILDREN UNDER 18 YEARS BY FAMILY TYPE AND AGE                                                                                                                                    \n",
       "B10002  GRANDCHILDREN UNDER 18 YEARS LIVING WITH A GRANDPARENT HOUSEHOLDER BY GRANDPARENT RESPONSIBILITY AND PRESENCE OF PARENT                                                               \n",
       "B09018  RELATIONSHIP TO HOUSEHOLDER FOR CHILDREN UNDER 18 YEARS IN HOUSEHOLDS                                                                                                                 \n",
       "B09010  RECEIPT OF SUPPLEMENTAL SECURITY INCOME (SSI), CASH PUBLIC ASSISTANCE INCOME, OR FOOD STAMPS/SNAP IN THE PAST 12 MONTHS BY HOUSEHOLD TYPE FOR CHILDREN UNDER 18 YEARS IN HOUSEHOLDS   \n",
       "\n",
       "                                                           variables  \n",
       "name                                                                  \n",
       "B17012  https://api.census.gov/data/2017/acs/acs5/groups/B17012.json  \n",
       "B17010  https://api.census.gov/data/2017/acs/acs5/groups/B17010.json  \n",
       "B99102  https://api.census.gov/data/2017/acs/acs5/groups/B99102.json  \n",
       "B99104  https://api.census.gov/data/2017/acs/acs5/groups/B99104.json  \n",
       "B99103  https://api.census.gov/data/2017/acs/acs5/groups/B99103.json  \n",
       "...                                                              ...  \n",
       "B10001  https://api.census.gov/data/2017/acs/acs5/groups/B10001.json  \n",
       "B09002  https://api.census.gov/data/2017/acs/acs5/groups/B09002.json  \n",
       "B10002  https://api.census.gov/data/2017/acs/acs5/groups/B10002.json  \n",
       "B09018  https://api.census.gov/data/2017/acs/acs5/groups/B09018.json  \n",
       "B09010  https://api.census.gov/data/2017/acs/acs5/groups/B09010.json  \n",
       "\n",
       "[61 rows x 2 columns]"
      ]
     },
     "execution_count": null,
     "metadata": {},
     "output_type": "execute_result"
    }
   ],
   "source": [
    "#hide\n",
    "#@title Run: Import Dataset Directory\n",
    "\n",
    "pd.set_option('display.max_columns', None)\n",
    "\n",
    "url = 'https://api.census.gov/data/2017/acs/acs5/groups/'\n",
    "response = urllib.urlopen(url)\n",
    "data = json.loads(response.read())\n",
    "data = data['groups']\n",
    "metaDataTable = json_normalize(data)\n",
    "metaDataTable.set_index('name', drop=True, inplace=True)\n",
    "\n",
    "\n",
    "#--------------------\n",
    "# SEARCH BOX 1: This reliably produces a searhbox. \n",
    "# The ell must be reran for every query.\n",
    "#--------------------\n",
    "description = input(\"Search ACS Table Directory by Keyword: \")\n",
    "metaDataTable[ metaDataTable['description'].str.contains(description.upper()) ]\n",
    "\n",
    "#--------------------\n",
    "# SEARCH BOX 2: FOR CHROME USERS: \n",
    "# Commenting out the code above and running the code \n",
    "# below will update the searchbox in real time.\n",
    "#--------------------\n",
    "# @interact\n",
    "# def tableExplorer(description='family'): \n",
    "#  return metaDataTable[ metaDataTable['description'].str.contains(description.upper()) ]"
   ]
  },
  {
   "cell_type": "markdown",
   "metadata": {},
   "source": [
    "Once you a table from the explorer has been picked, you can inspect its column names in the next part. \n",
    "\n",
    "This will help ensure it has the data you need!"
   ]
  },
  {
   "cell_type": "markdown",
   "metadata": {},
   "source": [
    "```\n",
    "tableId = input(\"Please enter a Table ID to inspect: \")\n",
    "url = f'https://api.census.gov/data/2017/acs/acs5/groups/{tableId}.json'\n",
    "metaDataTable = pd.read_json(url).reset_index(inplace = True, drop=False) \n",
    "metaDataTable = pd.merge(\n",
    "    json_normalize(data=metaDataTable['variables']), \n",
    "    metaDataTable['index'] , left_index=True, right_index=True )\n",
    "metaDataTable = metaDataTable[['index', 'concept']].dropna(subset=['concept'])\n",
    "```"
   ]
  },
  {
   "cell_type": "code",
   "execution_count": null,
   "metadata": {},
   "outputs": [
    {
     "name": "stdout",
     "output_type": "stream",
     "text": [
      "Please enter a Table ID to inspect: B10002\n"
     ]
    },
    {
     "name": "stderr",
     "output_type": "stream",
     "text": [
      "/usr/local/lib/python3.7/dist-packages/ipykernel_launcher.py:19: FutureWarning: pandas.io.json.json_normalize is deprecated, use pandas.json_normalize instead\n"
     ]
    },
    {
     "data": {
      "text/html": [
       "<div>\n",
       "<style scoped>\n",
       "    .dataframe tbody tr th:only-of-type {\n",
       "        vertical-align: middle;\n",
       "    }\n",
       "\n",
       "    .dataframe tbody tr th {\n",
       "        vertical-align: top;\n",
       "    }\n",
       "\n",
       "    .dataframe thead th {\n",
       "        text-align: right;\n",
       "    }\n",
       "</style>\n",
       "<table border=\"1\" class=\"dataframe\">\n",
       "  <thead>\n",
       "    <tr style=\"text-align: right;\">\n",
       "      <th></th>\n",
       "      <th>index</th>\n",
       "      <th>concept</th>\n",
       "    </tr>\n",
       "  </thead>\n",
       "  <tbody>\n",
       "    <tr>\n",
       "      <th>0</th>\n",
       "      <td>B10002_001E</td>\n",
       "      <td>GRANDCHILDREN UNDER 18 YEARS LIVING WITH A GRANDPARENT HOUSEHOLDER BY GRANDPARENT RESPONSIBILITY AND PRESENCE OF PARENT</td>\n",
       "    </tr>\n",
       "    <tr>\n",
       "      <th>1</th>\n",
       "      <td>B10002_001EA</td>\n",
       "      <td>GRANDCHILDREN UNDER 18 YEARS LIVING WITH A GRANDPARENT HOUSEHOLDER BY GRANDPARENT RESPONSIBILITY AND PRESENCE OF PARENT</td>\n",
       "    </tr>\n",
       "    <tr>\n",
       "      <th>2</th>\n",
       "      <td>B10002_001M</td>\n",
       "      <td>GRANDCHILDREN UNDER 18 YEARS LIVING WITH A GRANDPARENT HOUSEHOLDER BY GRANDPARENT RESPONSIBILITY AND PRESENCE OF PARENT</td>\n",
       "    </tr>\n",
       "    <tr>\n",
       "      <th>3</th>\n",
       "      <td>B10002_001MA</td>\n",
       "      <td>GRANDCHILDREN UNDER 18 YEARS LIVING WITH A GRANDPARENT HOUSEHOLDER BY GRANDPARENT RESPONSIBILITY AND PRESENCE OF PARENT</td>\n",
       "    </tr>\n",
       "    <tr>\n",
       "      <th>4</th>\n",
       "      <td>B10002_002E</td>\n",
       "      <td>GRANDCHILDREN UNDER 18 YEARS LIVING WITH A GRANDPARENT HOUSEHOLDER BY GRANDPARENT RESPONSIBILITY AND PRESENCE OF PARENT</td>\n",
       "    </tr>\n",
       "  </tbody>\n",
       "</table>\n",
       "</div>"
      ],
      "text/plain": [
       "          index  \\\n",
       "0  B10002_001E    \n",
       "1  B10002_001EA   \n",
       "2  B10002_001M    \n",
       "3  B10002_001MA   \n",
       "4  B10002_002E    \n",
       "\n",
       "                                                                                                                   concept  \n",
       "0  GRANDCHILDREN UNDER 18 YEARS LIVING WITH A GRANDPARENT HOUSEHOLDER BY GRANDPARENT RESPONSIBILITY AND PRESENCE OF PARENT  \n",
       "1  GRANDCHILDREN UNDER 18 YEARS LIVING WITH A GRANDPARENT HOUSEHOLDER BY GRANDPARENT RESPONSIBILITY AND PRESENCE OF PARENT  \n",
       "2  GRANDCHILDREN UNDER 18 YEARS LIVING WITH A GRANDPARENT HOUSEHOLDER BY GRANDPARENT RESPONSIBILITY AND PRESENCE OF PARENT  \n",
       "3  GRANDCHILDREN UNDER 18 YEARS LIVING WITH A GRANDPARENT HOUSEHOLDER BY GRANDPARENT RESPONSIBILITY AND PRESENCE OF PARENT  \n",
       "4  GRANDCHILDREN UNDER 18 YEARS LIVING WITH A GRANDPARENT HOUSEHOLDER BY GRANDPARENT RESPONSIBILITY AND PRESENCE OF PARENT  "
      ]
     },
     "execution_count": null,
     "metadata": {},
     "output_type": "execute_result"
    }
   ],
   "source": [
    "#hide\n",
    "#@title Run: Interactive Table Lookup\n",
    "\n",
    "import json \n",
    "import pandas as pd \n",
    "from pandas.io.json import json_normalize\n",
    "\n",
    "pd.set_option('display.max_columns', None)\n",
    "#--------------------\n",
    "# SEARCH BOX 1: This reliably produces a searchbox. \n",
    "# The ell must be reran for every query.\n",
    "#--------------------\n",
    "tableId = input(\"Please enter a Table ID to inspect: \")\n",
    "\n",
    "url = f'https://api.census.gov/data/2017/acs/acs5/groups/{tableId}.json'\n",
    "metaDataTable = pd.read_json(url)\n",
    "\n",
    "metaDataTable.reset_index(inplace = True, drop=False) \n",
    "metaDataTable = pd.merge(json_normalize(data=metaDataTable['variables']), metaDataTable['index'] , left_index=True, right_index=True)\n",
    "metaDataTable = metaDataTable[['index', 'concept']]\n",
    "metaDataTable = metaDataTable.dropna(subset=['concept'])\n",
    "metaDataTable.head()"
   ]
  },
  {
   "cell_type": "markdown",
   "metadata": {},
   "source": [
    "### Explore the Subject Table Directory"
   ]
  },
  {
   "cell_type": "markdown",
   "metadata": {},
   "source": [
    "The Data Structure we recieve is different than the prior table. \n",
    "\n",
    "Intake and processing is different as a result.\n",
    "\n",
    "Now lets explore what we got, just like before. \n",
    "\n",
    "Only difference is that the column names are automatically included in this query."
   ]
  },
  {
   "cell_type": "markdown",
   "metadata": {},
   "source": [
    "```\n",
    "url = 'https://api.census.gov/data/2017/acs/acs5/subject/variables.json'\n",
    "data = json.loads(urllib.urlopen(url).read())['variables']\n",
    "objArr = []\n",
    "for key, value in data.items():\n",
    "  value['name'] = key\n",
    "  objArr.append(value)\n",
    "metaDataTable = json_normalize(objArr).set_index('name', drop=True, inplace=True)\n",
    "metaDataTable = metaDataTable[ ['attributes', 'concept', 'group', 'label', 'limit', 'predicateType' ] ]\n",
    "concept = input(\"Search ACS Subject Table Directory by Keyword\")\n",
    "metaDataTable[ metaDataTable['concept'].str.contains(concept.upper(), na=False) ]\n",
    "```"
   ]
  },
  {
   "cell_type": "code",
   "execution_count": null,
   "metadata": {},
   "outputs": [
    {
     "name": "stderr",
     "output_type": "stream",
     "text": [
      "/usr/local/lib/python3.7/dist-packages/ipykernel_launcher.py:21: FutureWarning: pandas.io.json.json_normalize is deprecated, use pandas.json_normalize instead\n"
     ]
    },
    {
     "name": "stdout",
     "output_type": "stream",
     "text": [
      "Search ACS Subject Table Directory by Keywordchild\n"
     ]
    },
    {
     "data": {
      "text/html": [
       "<div>\n",
       "<style scoped>\n",
       "    .dataframe tbody tr th:only-of-type {\n",
       "        vertical-align: middle;\n",
       "    }\n",
       "\n",
       "    .dataframe tbody tr th {\n",
       "        vertical-align: top;\n",
       "    }\n",
       "\n",
       "    .dataframe thead th {\n",
       "        text-align: right;\n",
       "    }\n",
       "</style>\n",
       "<table border=\"1\" class=\"dataframe\">\n",
       "  <thead>\n",
       "    <tr style=\"text-align: right;\">\n",
       "      <th></th>\n",
       "      <th>attributes</th>\n",
       "      <th>concept</th>\n",
       "      <th>group</th>\n",
       "      <th>label</th>\n",
       "      <th>limit</th>\n",
       "      <th>predicateType</th>\n",
       "    </tr>\n",
       "    <tr>\n",
       "      <th>name</th>\n",
       "      <th></th>\n",
       "      <th></th>\n",
       "      <th></th>\n",
       "      <th></th>\n",
       "      <th></th>\n",
       "      <th></th>\n",
       "    </tr>\n",
       "  </thead>\n",
       "  <tbody>\n",
       "    <tr>\n",
       "      <th>S1001_C02_026E</th>\n",
       "      <td>S1001_C02_026EA,S1001_C02_026M,S1001_C02_026MA</td>\n",
       "      <td>GRANDCHILDREN CHARACTERISTICS</td>\n",
       "      <td>S1001</td>\n",
       "      <td>Estimate!!With grandparent responsible!!Total!!Grandchildren under 18 years living with a grandparent householder in occupied housing units!!UNITS IN STRUCTURE!!In 2-or-more-unit structures</td>\n",
       "      <td>0</td>\n",
       "      <td>float</td>\n",
       "    </tr>\n",
       "    <tr>\n",
       "      <th>S1001_C02_027E</th>\n",
       "      <td>S1001_C02_027EA,S1001_C02_027M,S1001_C02_027MA</td>\n",
       "      <td>GRANDCHILDREN CHARACTERISTICS</td>\n",
       "      <td>S1001</td>\n",
       "      <td>Estimate!!With grandparent responsible!!Total!!Grandchildren under 18 years living with a grandparent householder in occupied housing units!!UNITS IN STRUCTURE!!In mobile homes and all other types of units</td>\n",
       "      <td>0</td>\n",
       "      <td>float</td>\n",
       "    </tr>\n",
       "    <tr>\n",
       "      <th>S1001_C02_024E</th>\n",
       "      <td>S1001_C02_024EA,S1001_C02_024M,S1001_C02_024MA</td>\n",
       "      <td>GRANDCHILDREN CHARACTERISTICS</td>\n",
       "      <td>S1001</td>\n",
       "      <td>Estimate!!With grandparent responsible!!Total!!Grandchildren under 18 years living with a grandparent householder in occupied housing units!!HOUSING TENURE!!In renter-occupied housing units</td>\n",
       "      <td>0</td>\n",
       "      <td>float</td>\n",
       "    </tr>\n",
       "    <tr>\n",
       "      <th>S1001_C02_025E</th>\n",
       "      <td>S1001_C02_025EA,S1001_C02_025M,S1001_C02_025MA</td>\n",
       "      <td>GRANDCHILDREN CHARACTERISTICS</td>\n",
       "      <td>S1001</td>\n",
       "      <td>Estimate!!With grandparent responsible!!Total!!Grandchildren under 18 years living with a grandparent householder in occupied housing units!!UNITS IN STRUCTURE!!In 1-unit structures</td>\n",
       "      <td>0</td>\n",
       "      <td>float</td>\n",
       "    </tr>\n",
       "    <tr>\n",
       "      <th>S1001_C02_022E</th>\n",
       "      <td>S1001_C02_022EA,S1001_C02_022M,S1001_C02_022MA</td>\n",
       "      <td>GRANDCHILDREN CHARACTERISTICS</td>\n",
       "      <td>S1001</td>\n",
       "      <td>Estimate!!With grandparent responsible!!Total!!Grandchildren under 18 years living with a grandparent householder in occupied housing units</td>\n",
       "      <td>0</td>\n",
       "      <td>int</td>\n",
       "    </tr>\n",
       "    <tr>\n",
       "      <th>...</th>\n",
       "      <td>...</td>\n",
       "      <td>...</td>\n",
       "      <td>...</td>\n",
       "      <td>...</td>\n",
       "      <td>...</td>\n",
       "      <td>...</td>\n",
       "    </tr>\n",
       "    <tr>\n",
       "      <th>S1001_C01_012E</th>\n",
       "      <td>S1001_C01_012EA,S1001_C01_012M,S1001_C01_012MA</td>\n",
       "      <td>GRANDCHILDREN CHARACTERISTICS</td>\n",
       "      <td>S1001</td>\n",
       "      <td>Estimate!!Total!!Grandchildren under 18 years living with a grandparent householder!!RACE AND HISPANIC OR LATINO ORIGIN!!Two or more races</td>\n",
       "      <td>0</td>\n",
       "      <td>float</td>\n",
       "    </tr>\n",
       "    <tr>\n",
       "      <th>S1001_C01_011E</th>\n",
       "      <td>S1001_C01_011EA,S1001_C01_011M,S1001_C01_011MA</td>\n",
       "      <td>GRANDCHILDREN CHARACTERISTICS</td>\n",
       "      <td>S1001</td>\n",
       "      <td>Estimate!!Total!!Grandchildren under 18 years living with a grandparent householder!!RACE AND HISPANIC OR LATINO ORIGIN!!One race!!Some other race</td>\n",
       "      <td>0</td>\n",
       "      <td>float</td>\n",
       "    </tr>\n",
       "    <tr>\n",
       "      <th>S1001_C01_018E</th>\n",
       "      <td>S1001_C01_018EA,S1001_C01_018M,S1001_C01_018MA</td>\n",
       "      <td>GRANDCHILDREN CHARACTERISTICS</td>\n",
       "      <td>S1001</td>\n",
       "      <td>Estimate!!Total!!Grandchildren under 18 years living with a grandparent householder</td>\n",
       "      <td>0</td>\n",
       "      <td>int</td>\n",
       "    </tr>\n",
       "    <tr>\n",
       "      <th>S1001_C01_017E</th>\n",
       "      <td>S1001_C01_017EA,S1001_C01_017M,S1001_C01_017MA</td>\n",
       "      <td>GRANDCHILDREN CHARACTERISTICS</td>\n",
       "      <td>S1001</td>\n",
       "      <td>Estimate!!Total!!Special Subject!!Median income (dollars)</td>\n",
       "      <td>0</td>\n",
       "      <td>int</td>\n",
       "    </tr>\n",
       "    <tr>\n",
       "      <th>S1001_C01_019E</th>\n",
       "      <td>S1001_C01_019EA,S1001_C01_019M,S1001_C01_019MA</td>\n",
       "      <td>GRANDCHILDREN CHARACTERISTICS</td>\n",
       "      <td>S1001</td>\n",
       "      <td>Estimate!!Total!!Grandchildren under 18 years living with a grandparent householder!!PUBLIC ASSISTANCE IN THE PAST 12 MONTHS!!Grandchildren living in households with Supplemental Security Income (SSI), cash public assistance income, or Food Stamp/SNAP benefits</td>\n",
       "      <td>0</td>\n",
       "      <td>float</td>\n",
       "    </tr>\n",
       "  </tbody>\n",
       "</table>\n",
       "<p>230 rows × 6 columns</p>\n",
       "</div>"
      ],
      "text/plain": [
       "                                                    attributes  \\\n",
       "name                                                             \n",
       "S1001_C02_026E  S1001_C02_026EA,S1001_C02_026M,S1001_C02_026MA   \n",
       "S1001_C02_027E  S1001_C02_027EA,S1001_C02_027M,S1001_C02_027MA   \n",
       "S1001_C02_024E  S1001_C02_024EA,S1001_C02_024M,S1001_C02_024MA   \n",
       "S1001_C02_025E  S1001_C02_025EA,S1001_C02_025M,S1001_C02_025MA   \n",
       "S1001_C02_022E  S1001_C02_022EA,S1001_C02_022M,S1001_C02_022MA   \n",
       "...                                                        ...   \n",
       "S1001_C01_012E  S1001_C01_012EA,S1001_C01_012M,S1001_C01_012MA   \n",
       "S1001_C01_011E  S1001_C01_011EA,S1001_C01_011M,S1001_C01_011MA   \n",
       "S1001_C01_018E  S1001_C01_018EA,S1001_C01_018M,S1001_C01_018MA   \n",
       "S1001_C01_017E  S1001_C01_017EA,S1001_C01_017M,S1001_C01_017MA   \n",
       "S1001_C01_019E  S1001_C01_019EA,S1001_C01_019M,S1001_C01_019MA   \n",
       "\n",
       "                                      concept  group  \\\n",
       "name                                                   \n",
       "S1001_C02_026E  GRANDCHILDREN CHARACTERISTICS  S1001   \n",
       "S1001_C02_027E  GRANDCHILDREN CHARACTERISTICS  S1001   \n",
       "S1001_C02_024E  GRANDCHILDREN CHARACTERISTICS  S1001   \n",
       "S1001_C02_025E  GRANDCHILDREN CHARACTERISTICS  S1001   \n",
       "S1001_C02_022E  GRANDCHILDREN CHARACTERISTICS  S1001   \n",
       "...                                       ...    ...   \n",
       "S1001_C01_012E  GRANDCHILDREN CHARACTERISTICS  S1001   \n",
       "S1001_C01_011E  GRANDCHILDREN CHARACTERISTICS  S1001   \n",
       "S1001_C01_018E  GRANDCHILDREN CHARACTERISTICS  S1001   \n",
       "S1001_C01_017E  GRANDCHILDREN CHARACTERISTICS  S1001   \n",
       "S1001_C01_019E  GRANDCHILDREN CHARACTERISTICS  S1001   \n",
       "\n",
       "                                                                                                                                                                                                                                                                               label  \\\n",
       "name                                                                                                                                                                                                                                                                                   \n",
       "S1001_C02_026E  Estimate!!With grandparent responsible!!Total!!Grandchildren under 18 years living with a grandparent householder in occupied housing units!!UNITS IN STRUCTURE!!In 2-or-more-unit structures                                                                          \n",
       "S1001_C02_027E  Estimate!!With grandparent responsible!!Total!!Grandchildren under 18 years living with a grandparent householder in occupied housing units!!UNITS IN STRUCTURE!!In mobile homes and all other types of units                                                          \n",
       "S1001_C02_024E  Estimate!!With grandparent responsible!!Total!!Grandchildren under 18 years living with a grandparent householder in occupied housing units!!HOUSING TENURE!!In renter-occupied housing units                                                                          \n",
       "S1001_C02_025E  Estimate!!With grandparent responsible!!Total!!Grandchildren under 18 years living with a grandparent householder in occupied housing units!!UNITS IN STRUCTURE!!In 1-unit structures                                                                                  \n",
       "S1001_C02_022E  Estimate!!With grandparent responsible!!Total!!Grandchildren under 18 years living with a grandparent householder in occupied housing units                                                                                                                            \n",
       "...                                                                                                                                                                                               ...                                                                                  \n",
       "S1001_C01_012E  Estimate!!Total!!Grandchildren under 18 years living with a grandparent householder!!RACE AND HISPANIC OR LATINO ORIGIN!!Two or more races                                                                                                                             \n",
       "S1001_C01_011E  Estimate!!Total!!Grandchildren under 18 years living with a grandparent householder!!RACE AND HISPANIC OR LATINO ORIGIN!!One race!!Some other race                                                                                                                     \n",
       "S1001_C01_018E  Estimate!!Total!!Grandchildren under 18 years living with a grandparent householder                                                                                                                                                                                    \n",
       "S1001_C01_017E  Estimate!!Total!!Special Subject!!Median income (dollars)                                                                                                                                                                                                              \n",
       "S1001_C01_019E  Estimate!!Total!!Grandchildren under 18 years living with a grandparent householder!!PUBLIC ASSISTANCE IN THE PAST 12 MONTHS!!Grandchildren living in households with Supplemental Security Income (SSI), cash public assistance income, or Food Stamp/SNAP benefits   \n",
       "\n",
       "                limit predicateType  \n",
       "name                                 \n",
       "S1001_C02_026E  0      float         \n",
       "S1001_C02_027E  0      float         \n",
       "S1001_C02_024E  0      float         \n",
       "S1001_C02_025E  0      float         \n",
       "S1001_C02_022E  0      int           \n",
       "...            ..        ...         \n",
       "S1001_C01_012E  0      float         \n",
       "S1001_C01_011E  0      float         \n",
       "S1001_C01_018E  0      int           \n",
       "S1001_C01_017E  0      int           \n",
       "S1001_C01_019E  0      float         \n",
       "\n",
       "[230 rows x 6 columns]"
      ]
     },
     "execution_count": null,
     "metadata": {},
     "output_type": "execute_result"
    }
   ],
   "source": [
    "#hide\n",
    "#@title Run: Interactive Dataset Directory\n",
    "\n",
    "\n",
    "# Note the json representation\n",
    "url = 'https://api.census.gov/data/2017/acs/acs5/subject/variables.json'\n",
    "response = urllib.urlopen(url)\n",
    "# Decode the url response as json\n",
    "# https://docs.python.org/3/library/json.html\n",
    "data = json.loads(response.read())\n",
    "# the json object contains all its information within attribute 'variables' \n",
    "data = data['variables']\n",
    "\n",
    "# Process  by flattening the raw json data\n",
    "objArr = []\n",
    "for key, value in data.items():\n",
    "  value['name'] = key\n",
    "  objArr.append(value)\n",
    "\n",
    "# Normalize semi-structured JSON data into a flat table.\n",
    "metaDataTable = json_normalize(objArr)\n",
    "# Set the column 'name' as an index.\n",
    "metaDataTable.set_index('name', drop=True, inplace=True)\n",
    "# Reduce the directory to only contain these attributes\n",
    "metaDataTable = metaDataTable[ ['attributes', 'concept', 'group', 'label', 'limit', 'predicateType' ] ]\n",
    "\n",
    "\n",
    "\n",
    "#--------------------\n",
    "# SEARCH BOX 1: This reliably produces a searhbox. \n",
    "# The ell must be reran for every query.\n",
    "#--------------------\n",
    "concept = input(\"Search ACS Subject Table Directory by Keyword\")\n",
    "metaDataTable[ metaDataTable['concept'].str.contains(concept.upper(), na=False) ]\n",
    "\n",
    "#--------------------\n",
    "# SEARCH BOX 2: FOR CHROME USERS: \n",
    "# Commenting out the code above and running the code \n",
    "# below will update the searchbox in real time.\n",
    "#--------------------\n",
    "#@interact\n",
    "#def subjectExplorer(concept='transport'): \n",
    "#  return metaDataTable[ metaDataTable['concept'].str.contains(concept.upper(), na=False) ]"
   ]
  },
  {
   "cell_type": "markdown",
   "metadata": {},
   "source": [
    "## Get Table Data"
   ]
  },
  {
   "cell_type": "markdown",
   "metadata": {},
   "source": [
    "__Intro__\n",
    "\n",
    "Hopefully, by now you know which datatable you would like to download!\n",
    "\n",
    "The following Python function will do that for you.\n",
    "\n",
    "- It can be imported and used in future projects or stand alone."
   ]
  },
  {
   "cell_type": "code",
   "execution_count": null,
   "metadata": {},
   "outputs": [],
   "source": [
    "#export\n",
    "# @title Run: Create retrieve_acs_data()\n",
    "\n",
    "#File: retrieveAcsData.py\n",
    "#Author: Charles Karpati\n",
    "#Date: 1/9/19\n",
    "#Section: Bnia\n",
    "#Email: karpati1@umbc.edu\n",
    "#Description:\n",
    "#This file returns ACS data given an ID and Year\n",
    "# The county total is given a tract of '010000'\n",
    "\n",
    "#def retrieve_acs_data():\n",
    "#purpose: Retrieves ACS data from the web\n",
    "#input:\n",
    "# state (required)\n",
    "# county (required)\n",
    "# tract (required)\n",
    "# tableId (required)\n",
    "# year (required)\n",
    "# includeCountyAgg (True)(todo)\n",
    "# replaceColumnNames (False)(todo)\n",
    "# save (required)\n",
    "#output:\n",
    "# Acs Data.\n",
    "# Prints to ../../data/2_cleaned/acs/\n",
    "\n",
    "def retrieve_acs_data(state, county, tract, tableId, year, save):\n",
    "    dictionary = ''\n",
    "    keys = []\n",
    "    vals = []\n",
    "    header = []\n",
    "    keys1=keys2=keys3=keys4=keys5=keys6=keys7=keys8=''\n",
    "    keyCount = 0\n",
    "\n",
    "    # Called in addKeys(), Will create the final URL for readIn()\n",
    "    # These are parameters used in the API URL Query\n",
    "    # This query will retrieve the census tracts\n",
    "    def getParams(keys): return {\n",
    "        'get': 'NAME'+keys,\n",
    "        'for': 'tract:'+tract,\n",
    "        'in': 'state:'+state+' county:'+county,\n",
    "        'key': '829bf6f2e037372acbba32ba5731647c5127fdb0'\n",
    "      }\n",
    "    # Aggregate City data is best retrieved seperatly rather than as an aggregate of its constituent tracts\n",
    "    def getCityParams(keys): return {\n",
    "        'get': 'NAME'+keys,\n",
    "        'for': 'county:'+county,\n",
    "        'in': 'state:'+state,\n",
    "        'key': '829bf6f2e037372acbba32ba5731647c5127fdb0'\n",
    "      }\n",
    "    # Called in AddKeys(). Requests data by url and preformats it.\n",
    "    def readIn( url ):\n",
    "        tbl = pd.read_json(url, orient='records')\n",
    "        tbl.columns = tbl.iloc[0]\n",
    "        return tbl\n",
    "\n",
    "    # Called by retrieveAcsData.\n",
    "    # Creates a url and retrieve the data\n",
    "    # Then appends the city values as tract '010000'\n",
    "    # Finaly it merges and returns the tract and city totals.\n",
    "    def addKeys( table, params):\n",
    "        # Get Tract and City Records For Specific Columns\n",
    "        table2 = readIn( base+urlencode(getParams(params)) )\n",
    "        table3 = readIn( base+urlencode(getCityParams(params)) )\n",
    "        table3['tract'] = '010000'\n",
    "        # Concatenate the Records\n",
    "        table2.append([table2, table3], sort=False)\n",
    "        table2 = pd.concat([table2, table3], ignore_index=True)\n",
    "        # Merge to Master Table\n",
    "        table = pd.merge(table, table2,  how='left',\n",
    "                         left_on=[\"NAME\",\"state\",\"county\",\"tract\"],\n",
    "                         right_on = [\"NAME\",\"state\",\"county\",\"tract\"])\n",
    "        return table\n",
    "\n",
    "    #~~~~~~~~~~~~~~~\n",
    "    # Step 1)\n",
    "    # Retrieve a Meta Data Table Describing the Content of the Table\n",
    "    #~~~~~~~~~~~~~~~\n",
    "    url = 'https://api.census.gov/data/20'+year+'/acs/acs5/groups/'+tableId+'.json'\n",
    "    metaDataTable = pd.read_json(url, orient='records')\n",
    "\n",
    "    #~~~~~~~~~~~~~~~\n",
    "    # Step 2)\n",
    "    # Createa a Dictionary using the Meta Data Table\n",
    "    #~~~~~~~~~~~~~~~\n",
    "    # Multiple Queries may be Required.\n",
    "    # Max columns returned from any given query is 50.\n",
    "    # For that reasons bin the Columns into Groups of 50.\n",
    "    for key in metaDataTable['variables'].keys():\n",
    "      if key[-1:] == 'E':\n",
    "        keyCount = keyCount + 1\n",
    "        if keyCount < 40 : keys1 = keys1+','+key\n",
    "        elif keyCount < 80 : keys2 = keys2+','+key\n",
    "        elif keyCount < 120 : keys3 = keys3+','+key\n",
    "        elif keyCount < 160 : keys4 = keys4+','+key\n",
    "        elif keyCount < 200 : keys5 = keys5+','+key\n",
    "        elif keyCount < 240 : keys6 = keys6+','+key\n",
    "        elif keyCount < 280 : keys7 = keys7+','+key\n",
    "        elif keyCount < 320 : keys8 = keys8+','+key\n",
    "        keys.append(key)\n",
    "        val = metaDataTable['variables'][key]['label']\n",
    "        # Column name formatting\n",
    "        val = key+'_'+val.replace('Estimate!!', '').replace('!!', '_').replace(' ', '_')\n",
    "        vals.append(val)\n",
    "    dictionary = dict(zip(keys, vals))\n",
    "\n",
    "    #~~~~~~~~~~~~~~~\n",
    "    # Step 2)\n",
    "    # Get the actual Table with the data we want using\n",
    "    #~~~~~~~~~~~~~~~\n",
    "\n",
    "    # The URL we call is contingent on if the Table we want is a Detailed or Subject table\n",
    "    url1 = 'https://api.census.gov/data/20'+year+'/acs/acs5?'\n",
    "    url2 = 'https://api.census.gov/data/20'+year+'/acs/acs5/subject?'\n",
    "    base = ''\n",
    "    if tableId[:1] == 'B': base = url1\n",
    "    if tableId[:1] == 'S': base = url2\n",
    "\n",
    "    # The addKey function only works after the first set of columns has been downloaded\n",
    "    # Download First set of Tract columns\n",
    "    url = base+urlencode(getParams(keys1) )\n",
    "    table = pd.read_json(url, orient='records')\n",
    "    table.columns = table.iloc[0]\n",
    "    table = table.iloc[1:]\n",
    "    # Download First set of Aggregate City data\n",
    "    url = base+urlencode(getCityParams(keys1))\n",
    "    table2 = pd.read_json(url, orient='records')\n",
    "    table2.columns = table2.iloc[0]\n",
    "    table2 = table2[1:]\n",
    "    table2['tract'] = '010000'\n",
    "\n",
    "    # Merge EM\n",
    "    #table = pd.concat([table, table2], keys=[\"NAME\",\"state\",\"county\",], axis=0)\n",
    "    table.append([table, table2], sort=False)\n",
    "    table = pd.concat([table, table2], ignore_index=True)\n",
    "\n",
    "    # Now we can repetedly use this function to add as many columns as there are keys listed from the meta data table\n",
    "    if keys2 != '' : table = addKeys(table, keys2)\n",
    "    if keys3 != '' : table = addKeys(table, keys3)\n",
    "    if keys4 != '' : table = addKeys(table, keys4)\n",
    "    if keys5 != '' : table = addKeys(table, keys5)\n",
    "    if keys6 != '' : table = addKeys(table, keys6)\n",
    "    if keys7 != '' : table = addKeys(table, keys7)\n",
    "    if keys8 != '' : table = addKeys(table, keys8)\n",
    "\n",
    "    #~~~~~~~~~~~~~~~\n",
    "    # Step 3)\n",
    "    # Prepare Column Names using the meta data table. The raw data has columnsNames in the first row, as well.\n",
    "    # Replace column ID's with labels from the dictionary where applicable (should be always)\n",
    "    #~~~~~~~~~~~~~~~\n",
    "    print('Number of Columns', len(dictionary) )\n",
    "\n",
    "    header = []\n",
    "    for column in table.columns:\n",
    "        if column in keys: header.append(dictionary[column])\n",
    "        else: header.append(column)\n",
    "    table.columns = header\n",
    "\n",
    "    # Prettify Names. Only happens with Baltimore...\n",
    "    table['NAME'] = table['NAME'].str.replace(', Baltimore city, Maryland', '')\n",
    "    table['NAME'][table['NAME'] == 'Baltimore city, Maryland'] = 'Baltimore City'\n",
    "\n",
    "    # Convert to Integers Columns from Strings where Applicable\n",
    "    table = table.apply(pd.to_numeric, errors='ignore')\n",
    "\n",
    "    # Set the 'NAME' Column as the index dropping the default increment\n",
    "    table.set_index(\"NAME\", inplace = True)\n",
    "\n",
    "    if save:\n",
    "\n",
    "      # Save the raw data as 'TABLEID_5yYEAR.csv'\n",
    "      table.to_csv('./'+state+county+'_'+tableId+'_5y'+year+'_est_Original.csv', quoting=csv.QUOTE_ALL)\n",
    "\n",
    "      # Remove the id in the column names & Save the data as 'TABLEID_5yYEAR_est.csv'\n",
    "      saveThis = table.rename( columns = lambda x : ( str(x)[:] if str(x) in [\n",
    "        \"NAME\",\"state\",\"county\",\"tract\"] else str(x)[12:] )  )\n",
    "      saveThis.to_csv('./'+state+county+'_'+tableId+'_5y'+year+'_est.csv', quoting=csv.QUOTE_ALL)\n",
    "\n",
    "    return table"
   ]
  },
  {
   "cell_type": "markdown",
   "metadata": {},
   "source": [
    "### Function Explanation"
   ]
  },
  {
   "cell_type": "markdown",
   "metadata": {},
   "source": [
    "**Description:** This function returns ACS data given appropriate params.\n",
    "\n",
    "**Purpose:** Retrieves ACS data from the web\n",
    "\n",
    "__Services__\n",
    "\n",
    "- Download an ACS dataset from an Subject (S) table\n",
    "- Download an ACS dataset from a Details (B) table\n",
    "\n",
    "**Input:** \n",
    "- state\n",
    "- county\n",
    "- tract\n",
    "- tableId\n",
    "- year\n",
    "- saveAcs\n",
    "\n",
    "**Output:** \n",
    "- Acs Data. \n",
    "- Prints to ../../data/2_cleaned/acs/\n",
    "\n",
    "__How it works__\n",
    "- Before our program retrieve the actual data, it will want the table's metadata. \n",
    "\n",
    "- - This metadata will be used as a crosswalk to replace the awkward column names\n",
    "\n",
    "- - If this is not done, only a column ID would denote each column. not human readable.\n",
    "\n",
    "- The Function changes the URL it requests data from depending on if it is an S or B type table the user has requested \n",
    "\n",
    "- Multiple calls for data must be made as a single table may have several hundred columns in them.\n",
    "\n",
    "- - Constructing a table requires merging the data from multiple responces \n",
    "\n",
    "- Our program not just pulls tract level data but the aggregate for the county.\n",
    "\n",
    "- - County totals are included automatically as 'tract 010000'. \n",
    "\n",
    "- - - The County total is not the sum of all other tracts but a seperate, indendent and unique query.\n",
    "\n",
    "- - Tract and County Datatables must be merged to form a single dataset \n",
    "\n",
    "- Finally, we will download the data in two different formats if desired.\n",
    "\n",
    "- If we choose to save the data, we save it with the Table IDs + ColumnNames, and once without the TableIDs."
   ]
  },
  {
   "cell_type": "markdown",
   "metadata": {},
   "source": [
    "### Function Diagrams"
   ]
  },
  {
   "cell_type": "code",
   "execution_count": null,
   "metadata": {},
   "outputs": [
    {
     "data": {
      "text/html": [
       "<img src=\"https://bniajfi.org/images/mermaid/class_diagram_retrieve_acs_data.PNG\">"
      ],
      "text/plain": [
       "<IPython.core.display.HTML object>"
      ]
     },
     "metadata": {},
     "output_type": "display_data"
    }
   ],
   "source": [
    "#@title Run: Class Diagram retrieve_acs_data()\n",
    "\n",
    "%%html\n",
    "<img src=\"https://bniajfi.org/images/mermaid/class_diagram_retrieve_acs_data.PNG\">"
   ]
  },
  {
   "cell_type": "code",
   "execution_count": null,
   "metadata": {},
   "outputs": [
    {
     "data": {
      "text/html": [
       "<img src=\"https://bniajfi.org/images/mermaid/flow_chart_retrieve_acs_data.PNG\">"
      ],
      "text/plain": [
       "<IPython.core.display.HTML object>"
      ]
     },
     "metadata": {},
     "output_type": "display_data"
    }
   ],
   "source": [
    "#@title Run: retrieve_acs_data Flow Chart\n",
    "\n",
    "%%html\n",
    "<img src=\"https://bniajfi.org/images/mermaid/flow_chart_retrieve_acs_data.PNG\">"
   ]
  },
  {
   "cell_type": "code",
   "execution_count": null,
   "metadata": {},
   "outputs": [
    {
     "data": {
      "text/html": [
       "<img src=\"https://bniajfi.org/images/mermaid/gannt_chart_retrieve_acs_data.PNG\">"
      ],
      "text/plain": [
       "<IPython.core.display.HTML object>"
      ]
     },
     "metadata": {},
     "output_type": "display_data"
    }
   ],
   "source": [
    "#@title Run: Gannt Chart  retrieve_acs_data()\n",
    "\n",
    "%%html\n",
    "<img src=\"https://bniajfi.org/images/mermaid/gannt_chart_retrieve_acs_data.PNG\">"
   ]
  },
  {
   "cell_type": "code",
   "execution_count": null,
   "metadata": {},
   "outputs": [
    {
     "data": {
      "text/html": [
       "<img src=\"https://bniajfi.org/images/mermaid/sequence_diagram_retrieve_acs_data.PNG\">"
      ],
      "text/plain": [
       "<IPython.core.display.HTML object>"
      ]
     },
     "metadata": {},
     "output_type": "display_data"
    }
   ],
   "source": [
    "#@title Run: Sequence Diagram  retrieve_acs_data()\n",
    "\n",
    "%%html\n",
    "<img src=\"https://bniajfi.org/images/mermaid/sequence_diagram_retrieve_acs_data.PNG\">"
   ]
  },
  {
   "cell_type": "markdown",
   "metadata": {},
   "source": [
    "### Function Examples"
   ]
  },
  {
   "cell_type": "markdown",
   "metadata": {},
   "source": [
    "Now use this function to Download the Data!"
   ]
  },
  {
   "cell_type": "code",
   "execution_count": null,
   "metadata": {},
   "outputs": [],
   "source": [
    "# Our download function will use Baltimore City's tract, county and state as internal paramters\n",
    "# Change these values in the cell below using different geographic reference codes will change those parameters\n",
    "tract = '*'\n",
    "county = '153' # '059' # 153 '510'\n",
    "state = '51'\n",
    "\n",
    "# Specify the download parameters the function will receieve here\n",
    "tableId = 'B19049' # 'B19001'\n",
    "year = '17'\n",
    "saveAcs = True"
   ]
  },
  {
   "cell_type": "code",
   "execution_count": null,
   "metadata": {},
   "outputs": [
    {
     "name": "stdout",
     "output_type": "stream",
     "text": [
      "Number of Columns 5\n"
     ]
    },
    {
     "data": {
      "text/html": [
       "<div>\n",
       "<style scoped>\n",
       "    .dataframe tbody tr th:only-of-type {\n",
       "        vertical-align: middle;\n",
       "    }\n",
       "\n",
       "    .dataframe tbody tr th {\n",
       "        vertical-align: top;\n",
       "    }\n",
       "\n",
       "    .dataframe thead th {\n",
       "        text-align: right;\n",
       "    }\n",
       "</style>\n",
       "<table border=\"1\" class=\"dataframe\">\n",
       "  <thead>\n",
       "    <tr style=\"text-align: right;\">\n",
       "      <th></th>\n",
       "      <th>B19049_001E_Median_household_income_in_the_past_12_months_(in_2017_inflation-adjusted_dollars)_--_Total</th>\n",
       "      <th>B19049_002E_Median_household_income_in_the_past_12_months_(in_2017_inflation-adjusted_dollars)_--_Householder_under_25_years</th>\n",
       "      <th>B19049_003E_Median_household_income_in_the_past_12_months_(in_2017_inflation-adjusted_dollars)_--_Householder_25_to_44_years</th>\n",
       "      <th>B19049_004E_Median_household_income_in_the_past_12_months_(in_2017_inflation-adjusted_dollars)_--_Householder_45_to_64_years</th>\n",
       "      <th>B19049_005E_Median_household_income_in_the_past_12_months_(in_2017_inflation-adjusted_dollars)_--_Householder_65_years_and_over</th>\n",
       "      <th>state</th>\n",
       "      <th>county</th>\n",
       "      <th>tract</th>\n",
       "    </tr>\n",
       "    <tr>\n",
       "      <th>NAME</th>\n",
       "      <th></th>\n",
       "      <th></th>\n",
       "      <th></th>\n",
       "      <th></th>\n",
       "      <th></th>\n",
       "      <th></th>\n",
       "      <th></th>\n",
       "      <th></th>\n",
       "    </tr>\n",
       "  </thead>\n",
       "  <tbody>\n",
       "    <tr>\n",
       "      <th>Census Tract 9004.10, Prince William County, Virginia</th>\n",
       "      <td>72292</td>\n",
       "      <td>-666666666</td>\n",
       "      <td>75327</td>\n",
       "      <td>72292</td>\n",
       "      <td>-666666666</td>\n",
       "      <td>51</td>\n",
       "      <td>153</td>\n",
       "      <td>900410</td>\n",
       "    </tr>\n",
       "    <tr>\n",
       "      <th>Census Tract 9005.01, Prince William County, Virginia</th>\n",
       "      <td>78682</td>\n",
       "      <td>-666666666</td>\n",
       "      <td>77782</td>\n",
       "      <td>93422</td>\n",
       "      <td>54345</td>\n",
       "      <td>51</td>\n",
       "      <td>153</td>\n",
       "      <td>900501</td>\n",
       "    </tr>\n",
       "    <tr>\n",
       "      <th>Census Tract 9005.02, Prince William County, Virginia</th>\n",
       "      <td>118333</td>\n",
       "      <td>-666666666</td>\n",
       "      <td>111513</td>\n",
       "      <td>151125</td>\n",
       "      <td>-666666666</td>\n",
       "      <td>51</td>\n",
       "      <td>153</td>\n",
       "      <td>900502</td>\n",
       "    </tr>\n",
       "    <tr>\n",
       "      <th>Census Tract 9007.01, Prince William County, Virginia</th>\n",
       "      <td>68304</td>\n",
       "      <td>34120</td>\n",
       "      <td>79868</td>\n",
       "      <td>66863</td>\n",
       "      <td>57885</td>\n",
       "      <td>51</td>\n",
       "      <td>153</td>\n",
       "      <td>900701</td>\n",
       "    </tr>\n",
       "    <tr>\n",
       "      <th>Census Tract 9007.02, Prince William County, Virginia</th>\n",
       "      <td>96364</td>\n",
       "      <td>-666666666</td>\n",
       "      <td>96136</td>\n",
       "      <td>111779</td>\n",
       "      <td>63145</td>\n",
       "      <td>51</td>\n",
       "      <td>153</td>\n",
       "      <td>900702</td>\n",
       "    </tr>\n",
       "  </tbody>\n",
       "</table>\n",
       "</div>"
      ],
      "text/plain": [
       "                                                       B19049_001E_Median_household_income_in_the_past_12_months_(in_2017_inflation-adjusted_dollars)_--_Total  \\\n",
       "NAME                                                                                                                                                             \n",
       "Census Tract 9004.10, Prince William County, Virginia  72292                                                                                                     \n",
       "Census Tract 9005.01, Prince William County, Virginia  78682                                                                                                     \n",
       "Census Tract 9005.02, Prince William County, Virginia  118333                                                                                                    \n",
       "Census Tract 9007.01, Prince William County, Virginia  68304                                                                                                     \n",
       "Census Tract 9007.02, Prince William County, Virginia  96364                                                                                                     \n",
       "\n",
       "                                                       B19049_002E_Median_household_income_in_the_past_12_months_(in_2017_inflation-adjusted_dollars)_--_Householder_under_25_years  \\\n",
       "NAME                                                                                                                                                                                  \n",
       "Census Tract 9004.10, Prince William County, Virginia -666666666                                                                                                                      \n",
       "Census Tract 9005.01, Prince William County, Virginia -666666666                                                                                                                      \n",
       "Census Tract 9005.02, Prince William County, Virginia -666666666                                                                                                                      \n",
       "Census Tract 9007.01, Prince William County, Virginia  34120                                                                                                                          \n",
       "Census Tract 9007.02, Prince William County, Virginia -666666666                                                                                                                      \n",
       "\n",
       "                                                       B19049_003E_Median_household_income_in_the_past_12_months_(in_2017_inflation-adjusted_dollars)_--_Householder_25_to_44_years  \\\n",
       "NAME                                                                                                                                                                                  \n",
       "Census Tract 9004.10, Prince William County, Virginia  75327                                                                                                                          \n",
       "Census Tract 9005.01, Prince William County, Virginia  77782                                                                                                                          \n",
       "Census Tract 9005.02, Prince William County, Virginia  111513                                                                                                                         \n",
       "Census Tract 9007.01, Prince William County, Virginia  79868                                                                                                                          \n",
       "Census Tract 9007.02, Prince William County, Virginia  96136                                                                                                                          \n",
       "\n",
       "                                                       B19049_004E_Median_household_income_in_the_past_12_months_(in_2017_inflation-adjusted_dollars)_--_Householder_45_to_64_years  \\\n",
       "NAME                                                                                                                                                                                  \n",
       "Census Tract 9004.10, Prince William County, Virginia  72292                                                                                                                          \n",
       "Census Tract 9005.01, Prince William County, Virginia  93422                                                                                                                          \n",
       "Census Tract 9005.02, Prince William County, Virginia  151125                                                                                                                         \n",
       "Census Tract 9007.01, Prince William County, Virginia  66863                                                                                                                          \n",
       "Census Tract 9007.02, Prince William County, Virginia  111779                                                                                                                         \n",
       "\n",
       "                                                       B19049_005E_Median_household_income_in_the_past_12_months_(in_2017_inflation-adjusted_dollars)_--_Householder_65_years_and_over  \\\n",
       "NAME                                                                                                                                                                                     \n",
       "Census Tract 9004.10, Prince William County, Virginia -666666666                                                                                                                         \n",
       "Census Tract 9005.01, Prince William County, Virginia  54345                                                                                                                             \n",
       "Census Tract 9005.02, Prince William County, Virginia -666666666                                                                                                                         \n",
       "Census Tract 9007.01, Prince William County, Virginia  57885                                                                                                                             \n",
       "Census Tract 9007.02, Prince William County, Virginia  63145                                                                                                                             \n",
       "\n",
       "                                                       state  county   tract  \n",
       "NAME                                                                          \n",
       "Census Tract 9004.10, Prince William County, Virginia  51     153     900410  \n",
       "Census Tract 9005.01, Prince William County, Virginia  51     153     900501  \n",
       "Census Tract 9005.02, Prince William County, Virginia  51     153     900502  \n",
       "Census Tract 9007.01, Prince William County, Virginia  51     153     900701  \n",
       "Census Tract 9007.02, Prince William County, Virginia  51     153     900702  "
      ]
     },
     "execution_count": null,
     "metadata": {},
     "output_type": "execute_result"
    }
   ],
   "source": [
    "# state, county, tract, tableId, year, saveOriginal, save\n",
    "\n",
    "df = retrieve_acs_data(state, county, tract, tableId, year, saveAcs)\n",
    "df.head()"
   ]
  },
  {
   "cell_type": "code",
   "execution_count": null,
   "metadata": {},
   "outputs": [],
   "source": []
  }
 ],
 "metadata": {
  "kernelspec": {
   "display_name": "Python 3",
   "name": "python3"
  }
 },
 "nbformat": 4,
 "nbformat_minor": 0
}
