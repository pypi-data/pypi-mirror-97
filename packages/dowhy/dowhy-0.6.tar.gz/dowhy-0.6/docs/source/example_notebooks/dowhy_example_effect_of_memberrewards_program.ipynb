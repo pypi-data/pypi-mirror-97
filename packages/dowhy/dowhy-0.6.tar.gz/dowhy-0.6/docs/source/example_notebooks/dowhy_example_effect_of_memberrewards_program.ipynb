{
 "cells": [
  {
   "cell_type": "markdown",
   "metadata": {},
   "source": [
    "# Estimating the effect of a Member Rewards program\n",
    "An example on how DoWhy can be used to estimate the effect of a subscription or a rewards program for customers. \n",
    "\n",
    "Suppose that a website has a membership rewards program where customers receive additional benefits if they sign up. How do we know if the program is effective? Here the relevant causal question is:\n",
    "> What is the impact of offering the membership rewards program on total sales?\n",
    "\n",
    "And the equivalent counterfactual question is, \n",
    "> If the current members had not signed up for the program, how much less would they have spent on the website?\n",
    "\n",
    "In formal language, we are interested in the Average Treatment Effect on the Treated (ATT). "
   ]
  },
  {
   "cell_type": "markdown",
   "metadata": {},
   "source": [
    "##  I. Formulating the causal model\n",
    "Suppose that the rewards program was introduced in January 2019. The outcome variable is the total spends at the end of the year. \n",
    "We have data on all monthly transactions of every user and on the time of signup for those who chose to signup for the rewards program. Here's what the data looks like."
   ]
  },
  {
   "cell_type": "code",
   "execution_count": 1,
   "metadata": {},
   "outputs": [
    {
     "data": {
      "text/html": [
       "<div>\n",
       "<style scoped>\n",
       "    .dataframe tbody tr th:only-of-type {\n",
       "        vertical-align: middle;\n",
       "    }\n",
       "\n",
       "    .dataframe tbody tr th {\n",
       "        vertical-align: top;\n",
       "    }\n",
       "\n",
       "    .dataframe thead th {\n",
       "        text-align: right;\n",
       "    }\n",
       "</style>\n",
       "<table border=\"1\" class=\"dataframe\">\n",
       "  <thead>\n",
       "    <tr style=\"text-align: right;\">\n",
       "      <th></th>\n",
       "      <th>user_id</th>\n",
       "      <th>signup_month</th>\n",
       "      <th>month</th>\n",
       "      <th>spend</th>\n",
       "      <th>treatment</th>\n",
       "    </tr>\n",
       "  </thead>\n",
       "  <tbody>\n",
       "    <tr>\n",
       "      <th>0</th>\n",
       "      <td>0</td>\n",
       "      <td>6</td>\n",
       "      <td>1</td>\n",
       "      <td>526</td>\n",
       "      <td>True</td>\n",
       "    </tr>\n",
       "    <tr>\n",
       "      <th>1</th>\n",
       "      <td>0</td>\n",
       "      <td>6</td>\n",
       "      <td>2</td>\n",
       "      <td>464</td>\n",
       "      <td>True</td>\n",
       "    </tr>\n",
       "    <tr>\n",
       "      <th>2</th>\n",
       "      <td>0</td>\n",
       "      <td>6</td>\n",
       "      <td>3</td>\n",
       "      <td>473</td>\n",
       "      <td>True</td>\n",
       "    </tr>\n",
       "    <tr>\n",
       "      <th>3</th>\n",
       "      <td>0</td>\n",
       "      <td>6</td>\n",
       "      <td>4</td>\n",
       "      <td>502</td>\n",
       "      <td>True</td>\n",
       "    </tr>\n",
       "    <tr>\n",
       "      <th>4</th>\n",
       "      <td>0</td>\n",
       "      <td>6</td>\n",
       "      <td>5</td>\n",
       "      <td>436</td>\n",
       "      <td>True</td>\n",
       "    </tr>\n",
       "    <tr>\n",
       "      <th>...</th>\n",
       "      <td>...</td>\n",
       "      <td>...</td>\n",
       "      <td>...</td>\n",
       "      <td>...</td>\n",
       "      <td>...</td>\n",
       "    </tr>\n",
       "    <tr>\n",
       "      <th>119995</th>\n",
       "      <td>9999</td>\n",
       "      <td>7</td>\n",
       "      <td>8</td>\n",
       "      <td>533</td>\n",
       "      <td>True</td>\n",
       "    </tr>\n",
       "    <tr>\n",
       "      <th>119996</th>\n",
       "      <td>9999</td>\n",
       "      <td>7</td>\n",
       "      <td>9</td>\n",
       "      <td>518</td>\n",
       "      <td>True</td>\n",
       "    </tr>\n",
       "    <tr>\n",
       "      <th>119997</th>\n",
       "      <td>9999</td>\n",
       "      <td>7</td>\n",
       "      <td>10</td>\n",
       "      <td>485</td>\n",
       "      <td>True</td>\n",
       "    </tr>\n",
       "    <tr>\n",
       "      <th>119998</th>\n",
       "      <td>9999</td>\n",
       "      <td>7</td>\n",
       "      <td>11</td>\n",
       "      <td>504</td>\n",
       "      <td>True</td>\n",
       "    </tr>\n",
       "    <tr>\n",
       "      <th>119999</th>\n",
       "      <td>9999</td>\n",
       "      <td>7</td>\n",
       "      <td>12</td>\n",
       "      <td>459</td>\n",
       "      <td>True</td>\n",
       "    </tr>\n",
       "  </tbody>\n",
       "</table>\n",
       "<p>120000 rows × 5 columns</p>\n",
       "</div>"
      ],
      "text/plain": [
       "        user_id  signup_month  month  spend  treatment\n",
       "0             0             6      1    526       True\n",
       "1             0             6      2    464       True\n",
       "2             0             6      3    473       True\n",
       "3             0             6      4    502       True\n",
       "4             0             6      5    436       True\n",
       "...         ...           ...    ...    ...        ...\n",
       "119995     9999             7      8    533       True\n",
       "119996     9999             7      9    518       True\n",
       "119997     9999             7     10    485       True\n",
       "119998     9999             7     11    504       True\n",
       "119999     9999             7     12    459       True\n",
       "\n",
       "[120000 rows x 5 columns]"
      ]
     },
     "execution_count": 1,
     "metadata": {},
     "output_type": "execute_result"
    }
   ],
   "source": [
    "# Creating some simulated data for our example example\n",
    "import pandas as pd\n",
    "import numpy as np\n",
    "num_users = 10000\n",
    "num_months = 12\n",
    "\n",
    "signup_months = np.random.choice(np.arange(1, num_months), num_users) * np.random.randint(0,2, size=num_users)\n",
    "df = pd.DataFrame({\n",
    "    'user_id': np.repeat(np.arange(num_users), num_months),\n",
    "    'signup_month': np.repeat(signup_months, num_months), # signup month == 0 means customer did not sign up\n",
    "    'month': np.tile(np.arange(1, num_months+1), num_users), # months are from 1 to 12\n",
    "    'spend': np.random.poisson(500, num_users*num_months) #np.random.beta(a=2, b=5, size=num_users * num_months)*1000 # centered at 500\n",
    "})\n",
    "# Assigning a treatment value based on the signup month \n",
    "df[\"treatment\"] = (1-(df[\"signup_month\"]==0)).astype(bool)\n",
    "# Simulating effect of month (monotonically increasing--customers buy the most in December)\n",
    "df[\"spend\"] = df[\"spend\"] - df[\"month\"]*10\n",
    "# The treatment effect (simulating a simple treatment effect of 100)\n",
    "after_signup = (df[\"signup_month\"] < df[\"month\"]) & (df[\"signup_month\"] !=0)\n",
    "df.loc[after_signup,\"spend\"] = df[after_signup][\"spend\"] + 100\n",
    "df"
   ]
  },
  {
   "cell_type": "markdown",
   "metadata": {},
   "source": [
    "### The importance of time\n",
    "Time plays a crucial role in modeling this problem. \n",
    "\n",
    "Rewards signup can affect the future transactions, but not those that happened before it. In fact, the transaction prior to the rewards signup can be assumed to cause the rewards signup decision. Therefore we can split up the variables for each user in terms of \n",
    "\n",
    "1) Activity prior to the treatment (causes the treatment)\n",
    "2) Activity after the treatment (is the outcome of applying treatment)\n",
    "\n",
    "Of course, many important variables that affect signup and total spend are missing (e.g., the type of products bought, length of a user's account, geography, etc.). So we'll need a node denoting `Unobserved Confounders`. \n",
    "\n",
    "Below is the causal graph for a user who signed up in month `i=3`. The analysis will be similar for any `i`. "
   ]
  },
  {
   "cell_type": "code",
   "execution_count": 2,
   "metadata": {},
   "outputs": [],
   "source": [
    "import os, sys\n",
    "sys.path.append(os.path.abspath(\"../../../\"))\n",
    "import dowhy\n",
    "\n",
    "# Setting the signup month (for ease of analysis)\n",
    "i = 6"
   ]
  },
  {
   "cell_type": "code",
   "execution_count": 3,
   "metadata": {
    "scrolled": true
   },
   "outputs": [
    {
     "name": "stdout",
     "output_type": "stream",
     "text": [
      "      user_id  signup_month  treatment  pre_spends  post_spends\n",
      "0           0             6       True       480.2   511.000000\n",
      "1           2             0      False       477.8   408.166667\n",
      "2           5             0      False       472.6   423.333333\n",
      "3           6             6       True       465.2   505.833333\n",
      "4           8             0      False       447.6   396.333333\n",
      "...       ...           ...        ...         ...          ...\n",
      "5446     9993             0      False       488.8   415.166667\n",
      "5447     9994             0      False       471.4   392.666667\n",
      "5448     9995             0      False       489.4   402.666667\n",
      "5449     9997             0      False       498.0   414.333333\n",
      "5450     9998             0      False       469.6   400.000000\n",
      "\n",
      "[5451 rows x 5 columns]\n"
     ]
    },
    {
     "data": {
      "image/png": "[encoded data removed]",
      "text/plain": [
       "<IPython.core.display.Image object>"
      ]
     },
     "metadata": {},
     "output_type": "display_data"
    }
   ],
   "source": [
    "\n",
    "\n",
    "causal_graph = \"\"\"digraph {\n",
    "treatment[label=\"Program Signup in month i\"];\n",
    "pre_spends;\n",
    "post_spends;\n",
    "Z->treatment;\n",
    "U[label=\"Unobserved Confounders\"]; \n",
    "pre_spends -> treatment;\n",
    "treatment->post_spends;\n",
    "signup_month->post_spends; signup_month->pre_spends;\n",
    "signup_month->treatment;\n",
    "U->treatment; U->pre_spends; U->post_spends;\n",
    "}\"\"\"\n",
    "\n",
    "# Post-process the data based on the graph and the month of the treatment (signup)\n",
    "df_i_signupmonth = df[df.signup_month.isin([0,i])].groupby([\"user_id\", \"signup_month\", \"treatment\"]).apply(\n",
    "    lambda x: pd.Series({'pre_spends': np.sum(np.where(x.month < i, x.spend,0))/np.sum(np.where(x.month<i, 1,0)),\n",
    "                        'post_spends': np.sum(np.where(x.month > i, x.spend,0))/np.sum(np.where(x.month>i, 1,0)) })\n",
    ").reset_index()\n",
    "print(df_i_signupmonth)\n",
    "model = dowhy.CausalModel(data=df_i_signupmonth,\n",
    "                     graph=causal_graph.replace(\"\\n\", \" \"),\n",
    "                     treatment=\"treatment\",\n",
    "                     outcome=\"post_spends\")\n",
    "model.view_model()\n",
    "from IPython.display import Image, display\n",
    "display(Image(filename=\"causal_model.png\"))"
   ]
  },
  {
   "cell_type": "markdown",
   "metadata": {},
   "source": [
    "More generally, we can include any activity data for the customer in the above graph. All prior- and post-activity data will occupy the same place (and have the same edges) as the Amount spent node (prior and post respectively). "
   ]
  },
  {
   "cell_type": "markdown",
   "metadata": {},
   "source": [
    "## II. Identifying the causal effect\n",
    "For the sake of this example, let us assume that unobserved confounding does not play a big part. "
   ]
  },
  {
   "cell_type": "code",
   "execution_count": 4,
   "metadata": {
    "scrolled": true
   },
   "outputs": [
    {
     "name": "stdout",
     "output_type": "stream",
     "text": [
      "Estimand type: nonparametric-ate\n",
      "\n",
      "### Estimand : 1\n",
      "Estimand name: backdoor\n",
      "Estimand expression:\n",
      "     d                                                        \n",
      "────────────(Expectation(post_spends|signup_month,pre_spends))\n",
      "d[treatment]                                                  \n",
      "Estimand assumption 1, Unconfoundedness: If U→{treatment} and U→post_spends then P(post_spends|treatment,signup_month,pre_spends,U) = P(post_spends|treatment,signup_month,pre_spends)\n",
      "\n",
      "### Estimand : 2\n",
      "Estimand name: iv\n",
      "Estimand expression:\n",
      "Expectation(Derivative(post_spends, [Z])*Derivative([treatment], [Z])**(-1))\n",
      "Estimand assumption 1, As-if-random: If U→→post_spends then ¬(U →→{Z})\n",
      "Estimand assumption 2, Exclusion: If we remove {Z}→{treatment}, then ¬({Z}→post_spends)\n",
      "\n",
      "### Estimand : 3\n",
      "Estimand name: frontdoor\n",
      "No such variable found!\n",
      "\n"
     ]
    }
   ],
   "source": [
    "identified_estimand = model.identify_effect(proceed_when_unidentifiable=True)\n",
    "print(identified_estimand)"
   ]
  },
  {
   "cell_type": "markdown",
   "metadata": {},
   "source": [
    "Based on the graph, DoWhy determines that the signup month and amount spent in the pre-treatment months (`signup_month`, `pre_spend`) needs to be conditioned on."
   ]
  },
  {
   "cell_type": "markdown",
   "metadata": {},
   "source": [
    "## III. Estimating the effect\n",
    "We now estimate the effect based on the backdoor estimand, setting the target units to \"att\"."
   ]
  },
  {
   "cell_type": "code",
   "execution_count": 5,
   "metadata": {
    "scrolled": true
   },
   "outputs": [
    {
     "name": "stderr",
     "output_type": "stream",
     "text": [
      "/home/amit/py-envs/env3.8/lib/python3.8/site-packages/sklearn/utils/validation.py:72: DataConversionWarning: A column-vector y was passed when a 1d array was expected. Please change the shape of y to (n_samples, ), for example using ravel().\n",
      "  return f(**kwargs)\n"
     ]
    },
    {
     "name": "stdout",
     "output_type": "stream",
     "text": [
      "*** Causal Estimate ***\n",
      "\n",
      "## Identified estimand\n",
      "Estimand type: nonparametric-ate\n",
      "\n",
      "## Realized estimand\n",
      "b: post_spends~treatment+signup_month+pre_spends\n",
      "Target units: att\n",
      "\n",
      "## Estimate\n",
      "Mean value: 115.21872571872572\n",
      "\n"
     ]
    }
   ],
   "source": [
    "estimate = model.estimate_effect(identified_estimand, \n",
    "                                 method_name=\"backdoor1.propensity_score_matching\",\n",
    "                                target_units=\"att\")\n",
    "print(estimate)"
   ]
  },
  {
   "cell_type": "markdown",
   "metadata": {},
   "source": [
    "The analysis tells us the Average Treatment Effect on the Treated (ATT). That is, the average effect on total spend for the customers that signed up for the Rewards Program in month `i=3` (compared to the case where they had not signed up). We can similarly calculate the effects for customers who signed up in any other month by changing the value of `i`(line 2 above) and then rerunning the analysis. \n",
    "\n",
    "Note that the estimation suffers from left and right-censoring. \n",
    "1. **Left-censoring**: If a customer signs up in the first month, we do not have enough transaction history to match them to similar customers who did not sign up (and thus apply the backdoor identified estimand). \n",
    "2. **Right-censoring**: If a customer signs up in the last month, we do not enough *future* (post-treatment) transactions to estimate the outcome after signup. \n",
    "\n",
    "Thus, even if the effect of signup was the same across all months, the *estimated effects* may be different by month of signup, due to lack of data (and thus high variance in estimated pre-treatment or post-treatment transactions activity)."
   ]
  },
  {
   "cell_type": "markdown",
   "metadata": {},
   "source": [
    "## IV. Refuting the estimate\n",
    "We refute the estimate using the placebo treatment refuter. This refuter substitutes the treatment by an independent random variable and checks whether our estimate now goes to zero (it should!)."
   ]
  },
  {
   "cell_type": "code",
   "execution_count": 6,
   "metadata": {},
   "outputs": [
    {
     "name": "stderr",
     "output_type": "stream",
     "text": [
      "/home/amit/py-envs/env3.8/lib/python3.8/site-packages/sklearn/utils/validation.py:72: DataConversionWarning: A column-vector y was passed when a 1d array was expected. Please change the shape of y to (n_samples, ), for example using ravel().\n",
      "  return f(**kwargs)\n",
      "/home/amit/py-envs/env3.8/lib/python3.8/site-packages/sklearn/utils/validation.py:72: DataConversionWarning: A column-vector y was passed when a 1d array was expected. Please change the shape of y to (n_samples, ), for example using ravel().\n",
      "  return f(**kwargs)\n"
     ]
    },
    {
     "name": "stdout",
     "output_type": "stream",
     "text": [
      "Refute: Use a Placebo Treatment\n",
      "Estimated effect:115.21872571872572\n",
      "New effect:1.3245920745920756\n",
      "p value:0.015071603412401298\n",
      "\n"
     ]
    }
   ],
   "source": [
    "refutation = model.refute_estimate(identified_estimand, estimate, method_name=\"placebo_treatment_refuter\",\n",
    "                     placebo_type=\"permute\", num_simulations=2)\n",
    "print(refutation)"
   ]
  }
 ],
 "metadata": {
  "kernelspec": {
   "display_name": "Python 3",
   "language": "python",
   "name": "python3"
  },
  "language_info": {
   "codemirror_mode": {
    "name": "ipython",
    "version": 3
   },
   "file_extension": ".py",
   "mimetype": "text/x-python",
   "name": "python",
   "nbconvert_exporter": "python",
   "pygments_lexer": "ipython3",
   "version": "3.8.5"
  },
  "toc": {
   "base_numbering": 1,
   "nav_menu": {},
   "number_sections": false,
   "sideBar": true,
   "skip_h1_title": true,
   "title_cell": "Table of Contents",
   "title_sidebar": "Contents",
   "toc_cell": false,
   "toc_position": {},
   "toc_section_display": true,
   "toc_window_display": false
  }
 },
 "nbformat": 4,
 "nbformat_minor": 4
}
