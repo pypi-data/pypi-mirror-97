{
 "cells": [
  {
   "cell_type": "markdown",
   "metadata": {},
   "source": [
    "# Estimating effect of multiple treatments"
   ]
  },
  {
   "cell_type": "code",
   "execution_count": 1,
   "metadata": {},
   "outputs": [],
   "source": [
    "import numpy as np\n",
    "import pandas as pd\n",
    "import logging\n",
    "\n",
    "import dowhy\n",
    "from dowhy import CausalModel\n",
    "import dowhy.datasets\n",
    "\n",
    "import econml\n",
    "import warnings\n",
    "warnings.filterwarnings('ignore')"
   ]
  },
  {
   "cell_type": "code",
   "execution_count": 2,
   "metadata": {},
   "outputs": [
    {
     "data": {
      "text/html": [
       "<div>\n",
       "<style scoped>\n",
       "    .dataframe tbody tr th:only-of-type {\n",
       "        vertical-align: middle;\n",
       "    }\n",
       "\n",
       "    .dataframe tbody tr th {\n",
       "        vertical-align: top;\n",
       "    }\n",
       "\n",
       "    .dataframe thead th {\n",
       "        text-align: right;\n",
       "    }\n",
       "</style>\n",
       "<table border=\"1\" class=\"dataframe\">\n",
       "  <thead>\n",
       "    <tr style=\"text-align: right;\">\n",
       "      <th></th>\n",
       "      <th>X0</th>\n",
       "      <th>X1</th>\n",
       "      <th>W0</th>\n",
       "      <th>W1</th>\n",
       "      <th>W2</th>\n",
       "      <th>W3</th>\n",
       "      <th>v0</th>\n",
       "      <th>v1</th>\n",
       "      <th>y</th>\n",
       "    </tr>\n",
       "  </thead>\n",
       "  <tbody>\n",
       "    <tr>\n",
       "      <th>0</th>\n",
       "      <td>-0.413136</td>\n",
       "      <td>1.588226</td>\n",
       "      <td>0.487770</td>\n",
       "      <td>0.290617</td>\n",
       "      <td>0</td>\n",
       "      <td>0</td>\n",
       "      <td>1.133998</td>\n",
       "      <td>4.769532</td>\n",
       "      <td>79.134513</td>\n",
       "    </tr>\n",
       "    <tr>\n",
       "      <th>1</th>\n",
       "      <td>-1.134280</td>\n",
       "      <td>-0.198177</td>\n",
       "      <td>-1.796690</td>\n",
       "      <td>2.493473</td>\n",
       "      <td>3</td>\n",
       "      <td>1</td>\n",
       "      <td>11.873946</td>\n",
       "      <td>15.240956</td>\n",
       "      <td>-22.448157</td>\n",
       "    </tr>\n",
       "    <tr>\n",
       "      <th>2</th>\n",
       "      <td>-0.040000</td>\n",
       "      <td>-0.259943</td>\n",
       "      <td>0.509664</td>\n",
       "      <td>2.970383</td>\n",
       "      <td>3</td>\n",
       "      <td>0</td>\n",
       "      <td>14.436375</td>\n",
       "      <td>21.720983</td>\n",
       "      <td>178.499781</td>\n",
       "    </tr>\n",
       "    <tr>\n",
       "      <th>3</th>\n",
       "      <td>0.428227</td>\n",
       "      <td>-0.179278</td>\n",
       "      <td>1.130956</td>\n",
       "      <td>-1.010133</td>\n",
       "      <td>0</td>\n",
       "      <td>3</td>\n",
       "      <td>3.065979</td>\n",
       "      <td>15.740535</td>\n",
       "      <td>200.564517</td>\n",
       "    </tr>\n",
       "    <tr>\n",
       "      <th>4</th>\n",
       "      <td>0.879490</td>\n",
       "      <td>-0.668984</td>\n",
       "      <td>-1.299954</td>\n",
       "      <td>0.571345</td>\n",
       "      <td>3</td>\n",
       "      <td>2</td>\n",
       "      <td>8.741953</td>\n",
       "      <td>19.404153</td>\n",
       "      <td>194.187850</td>\n",
       "    </tr>\n",
       "  </tbody>\n",
       "</table>\n",
       "</div>"
      ],
      "text/plain": [
       "         X0        X1        W0        W1 W2 W3         v0         v1  \\\n",
       "0 -0.413136  1.588226  0.487770  0.290617  0  0   1.133998   4.769532   \n",
       "1 -1.134280 -0.198177 -1.796690  2.493473  3  1  11.873946  15.240956   \n",
       "2 -0.040000 -0.259943  0.509664  2.970383  3  0  14.436375  21.720983   \n",
       "3  0.428227 -0.179278  1.130956 -1.010133  0  3   3.065979  15.740535   \n",
       "4  0.879490 -0.668984 -1.299954  0.571345  3  2   8.741953  19.404153   \n",
       "\n",
       "            y  \n",
       "0   79.134513  \n",
       "1  -22.448157  \n",
       "2  178.499781  \n",
       "3  200.564517  \n",
       "4  194.187850  "
      ]
     },
     "execution_count": 2,
     "metadata": {},
     "output_type": "execute_result"
    }
   ],
   "source": [
    "data = dowhy.datasets.linear_dataset(10, num_common_causes=4, num_samples=10000,\n",
    "                                    num_instruments=0, num_effect_modifiers=2,\n",
    "                                     num_treatments=2,\n",
    "                                    treatment_is_binary=False,\n",
    "                                    num_discrete_common_causes=2,\n",
    "                                    num_discrete_effect_modifiers=0,\n",
    "                                    one_hot_encode=False)\n",
    "df=data['df']\n",
    "df.head()"
   ]
  },
  {
   "cell_type": "code",
   "execution_count": 3,
   "metadata": {},
   "outputs": [],
   "source": [
    "model = CausalModel(data=data[\"df\"], \n",
    "                    treatment=data[\"treatment_name\"], outcome=data[\"outcome_name\"], \n",
    "                    graph=data[\"gml_graph\"])"
   ]
  },
  {
   "cell_type": "code",
   "execution_count": 4,
   "metadata": {},
   "outputs": [
    {
     "data": {
      "image/png": "[encoded data removed]",
      "text/plain": [
       "<IPython.core.display.Image object>"
      ]
     },
     "metadata": {},
     "output_type": "display_data"
    }
   ],
   "source": [
    "model.view_model()\n",
    "from IPython.display import Image, display\n",
    "display(Image(filename=\"causal_model.png\"))"
   ]
  },
  {
   "cell_type": "code",
   "execution_count": 5,
   "metadata": {},
   "outputs": [
    {
     "name": "stdout",
     "output_type": "stream",
     "text": [
      "Estimand type: nonparametric-ate\n",
      "\n",
      "### Estimand : 1\n",
      "Estimand name: backdoor\n",
      "Estimand expression:\n",
      "    d                                      \n",
      "─────────(Expectation(y|X1,W0,W2,W3,X0,W1))\n",
      "d[v₀  v₁]                                  \n",
      "Estimand assumption 1, Unconfoundedness: If U→{v0,v1} and U→y then P(y|v0,v1,X1,W0,W2,W3,X0,W1,U) = P(y|v0,v1,X1,W0,W2,W3,X0,W1)\n",
      "\n",
      "### Estimand : 2\n",
      "Estimand name: iv\n",
      "No such variable found!\n",
      "\n",
      "### Estimand : 3\n",
      "Estimand name: frontdoor\n",
      "No such variable found!\n",
      "\n"
     ]
    }
   ],
   "source": [
    "identified_estimand= model.identify_effect(proceed_when_unidentifiable=True)\n",
    "print(identified_estimand)"
   ]
  },
  {
   "cell_type": "markdown",
   "metadata": {},
   "source": [
    "## Linear model\n",
    "\n",
    "Let us first see an example for a linear model. The control_value and treatment_value can be provided as a tuple/list when the treatment is multi-dimensional.\n",
    "\n",
    "The interpretation is change in y when v0 and v1 are changed from (0,0) to (1,1)."
   ]
  },
  {
   "cell_type": "code",
   "execution_count": 6,
   "metadata": {},
   "outputs": [
    {
     "name": "stdout",
     "output_type": "stream",
     "text": [
      "*** Causal Estimate ***\n",
      "\n",
      "## Identified estimand\n",
      "Estimand type: nonparametric-ate\n",
      "\n",
      "### Estimand : 1\n",
      "Estimand name: backdoor\n",
      "Estimand expression:\n",
      "    d                                      \n",
      "─────────(Expectation(y|X1,W0,W2,W3,X0,W1))\n",
      "d[v₀  v₁]                                  \n",
      "Estimand assumption 1, Unconfoundedness: If U→{v0,v1} and U→y then P(y|v0,v1,X1,W0,W2,W3,X0,W1,U) = P(y|v0,v1,X1,W0,W2,W3,X0,W1)\n",
      "\n",
      "## Realized estimand\n",
      "b: y~v0+v1+X1+W0+W2+W3+X0+W1+v0*X1+v0*X0+v1*X1+v1*X0\n",
      "Target units: ate\n",
      "\n",
      "## Estimate\n",
      "Mean value: 26.41126316018485\n",
      "\n"
     ]
    }
   ],
   "source": [
    "linear_estimate = model.estimate_effect(identified_estimand, \n",
    "                                        method_name=\"backdoor.linear_regression\",\n",
    "                                       control_value=(0,0),\n",
    "                                       treatment_value=(1,1),\n",
    "                                       method_params={'need_conditional_estimates': False})\n",
    "print(linear_estimate) "
   ]
  },
  {
   "cell_type": "markdown",
   "metadata": {},
   "source": [
    "You can estimate conditional effects, based on effect modifiers. "
   ]
  },
  {
   "cell_type": "code",
   "execution_count": 7,
   "metadata": {},
   "outputs": [
    {
     "name": "stdout",
     "output_type": "stream",
     "text": [
      "*** Causal Estimate ***\n",
      "\n",
      "## Identified estimand\n",
      "Estimand type: nonparametric-ate\n",
      "\n",
      "### Estimand : 1\n",
      "Estimand name: backdoor\n",
      "Estimand expression:\n",
      "    d                                      \n",
      "─────────(Expectation(y|X1,W0,W2,W3,X0,W1))\n",
      "d[v₀  v₁]                                  \n",
      "Estimand assumption 1, Unconfoundedness: If U→{v0,v1} and U→y then P(y|v0,v1,X1,W0,W2,W3,X0,W1,U) = P(y|v0,v1,X1,W0,W2,W3,X0,W1)\n",
      "\n",
      "## Realized estimand\n",
      "b: y~v0+v1+X1+W0+W2+W3+X0+W1+v0*X1+v0*X0+v1*X1+v1*X0\n",
      "Target units: ate\n",
      "\n",
      "## Estimate\n",
      "Mean value: 26.41126316018485\n",
      "### Conditional Estimates\n",
      "__categorical__X1  __categorical__X0            \n",
      "(-3.537, -1.017]   (-2.9979999999999998, 0.0335]    -52.946620\n",
      "                   (0.0335, 0.628]                  -36.698335\n",
      "                   (0.628, 1.109]                   -28.405206\n",
      "                   (1.109, 1.706]                   -17.981903\n",
      "                   (1.706, 5.283]                    -2.357185\n",
      "(-1.017, -0.424]   (-2.9979999999999998, 0.0335]    -19.631323\n",
      "                   (0.0335, 0.628]                   -3.214915\n",
      "                   (0.628, 1.109]                     6.064157\n",
      "                   (1.109, 1.706]                    15.879803\n",
      "                   (1.706, 5.283]                    32.015991\n",
      "(-0.424, 0.0749]   (-2.9979999999999998, 0.0335]      0.264664\n",
      "                   (0.0335, 0.628]                   16.556340\n",
      "                   (0.628, 1.109]                    26.187937\n",
      "                   (1.109, 1.706]                    36.937134\n",
      "                   (1.706, 5.283]                    52.720748\n",
      "(0.0749, 0.645]    (-2.9979999999999998, 0.0335]     21.404275\n",
      "                   (0.0335, 0.628]                   37.196526\n",
      "                   (0.628, 1.109]                    46.502518\n",
      "                   (1.109, 1.706]                    56.370240\n",
      "                   (1.706, 5.283]                    72.695058\n",
      "(0.645, 3.36]      (-2.9979999999999998, 0.0335]     55.298602\n",
      "                   (0.0335, 0.628]                   70.148621\n",
      "                   (0.628, 1.109]                    79.236172\n",
      "                   (1.109, 1.706]                    89.107877\n",
      "                   (1.706, 5.283]                   107.081877\n",
      "dtype: float64\n"
     ]
    }
   ],
   "source": [
    "linear_estimate = model.estimate_effect(identified_estimand, \n",
    "                                        method_name=\"backdoor.linear_regression\",\n",
    "                                       control_value=(0,0),\n",
    "                                       treatment_value=(1,1))\n",
    "print(linear_estimate) "
   ]
  },
  {
   "cell_type": "markdown",
   "metadata": {},
   "source": [
    "## More methods\n",
    "\n",
    "You can also use methods from EconML or CausalML libraries that support multiple treatments. You can look at examples from the conditional effect notebook: https://microsoft.github.io/dowhy/example_notebooks/dowhy-conditional-treatment-effects.html\n",
    "\n",
    "Propensity-based methods do not support multiple treatments currently. \n"
   ]
  }
 ],
 "metadata": {
  "kernelspec": {
   "display_name": "Python 3",
   "language": "python",
   "name": "python3"
  },
  "language_info": {
   "codemirror_mode": {
    "name": "ipython",
    "version": 3
   },
   "file_extension": ".py",
   "mimetype": "text/x-python",
   "name": "python",
   "nbconvert_exporter": "python",
   "pygments_lexer": "ipython3",
   "version": "3.8.5"
  },
  "toc": {
   "base_numbering": 1,
   "nav_menu": {},
   "number_sections": false,
   "sideBar": true,
   "skip_h1_title": true,
   "title_cell": "Table of Contents",
   "title_sidebar": "Contents",
   "toc_cell": false,
   "toc_position": {},
   "toc_section_display": true,
   "toc_window_display": false
  }
 },
 "nbformat": 4,
 "nbformat_minor": 4
}
