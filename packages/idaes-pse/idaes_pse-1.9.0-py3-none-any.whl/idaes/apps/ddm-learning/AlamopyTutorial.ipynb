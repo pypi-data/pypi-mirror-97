{
 "cells": [
  {
   "cell_type": "markdown",
   "metadata": {},
   "source": [
    "# ALAMOPY Tutorial\n",
    "\n",
    "First make sure you have alamo on your computer with a valid license. \n",
    "\n",
    "## Installing alamopy \n",
    "\n",
    "The first step of running **alamopy** is to install the python module that we will be using the methods from. This module is installed along with idaes. Please download idaes from github and from the main idaes folder, install all required packages including alamopy using:\n",
    "\n",
    "**pip install .**\n",
    "\n",
    "If this is successful, please import the alamopy module in the line below. If not successful, please check the requirements.txt file for necessary python modules that you might need to install or run this:\n",
    "\n",
    "**pip install -r requirements.txt**\n",
    "\n",
    "The default call for alamo is **alamo**, if you call alamo with a different command or location, please change that in the shared.py file before installing. "
   ]
  },
  {
   "cell_type": "markdown",
   "metadata": {},
   "source": [
    "### Step 1: Import alamopy \n",
    "\n",
    "This is a good way to check if everything is connected properly."
   ]
  },
  {
   "cell_type": "code",
   "execution_count": null,
   "metadata": {},
   "outputs": [],
   "source": []
  },
  {
   "cell_type": "markdown",
   "metadata": {},
   "source": [
    "## Generating your first surrogate model\n",
    "\n",
    "### Step 2: Get data to fit a surrogate to\n",
    "\n",
    "For example:\n",
    "\n",
    "x = [[1,1],[2,4],[3,6]]\n",
    "\n",
    "z = [2,6,9]\n",
    "\n",
    "or you can write a function to generate the data\n",
    "\n",
    "For __Camel6__ data you can copy the values below:\n",
    "\n",
    "x = [[ 0.17361977, -0.44326123], [-0.30192964,  0.68955226],[-1.98112458, -0.75686176],[0.68299634,  0.65170551],[-1.45317364,  0.15018666],[ 1.56528782, -0.58159576] ,[-1.25868712, -0.78324622],[-1.12121003,  0.95724757] ,[ 1.2467326,  -0.65611797],[ 1.26489899, -0.45185251]] \n",
    "\n",
    "\n",
    "z = [-0.58978634828943055, -0.85834512885363479, 4.0241154669754113, 0.91057814668811488, 1.9147616212616931, 0.29103827202206878, 2.4290896722960778, 0.99199475534877579, 0.59688699266830847, 1.167850366995701]\n",
    "\n",
    "### Step 3: Call alamo on the data and print the resulting model\n",
    "\n",
    "results  = alamopy.alamo(x,z)\n",
    "\n",
    "print(results['model'])\n"
   ]
  },
  {
   "cell_type": "code",
   "execution_count": null,
   "metadata": {},
   "outputs": [],
   "source": [
    "\n"
   ]
  },
  {
   "cell_type": "markdown",
   "metadata": {},
   "source": [
    "## Surrogate model regression statistics\n",
    "\n",
    "Printing the full results will include the size of the model, the sum of squared errors, R-squared value, and other statistics of interest\n",
    "\n",
    "The results are a dictionary and you can look at individual features such as:\n",
    "- model\n",
    "- ssr : sum of squared residuals\n",
    "- R2 : R squared value\n",
    "- size : number of terms in the surrogate model\n",
    "\n",
    "and others.\n",
    "\n",
    "For example:\n",
    "\n",
    "print(results)\n",
    "\n",
    "print(results['model'])\n",
    "\n",
    "### Below print the full results and select some statistics you might be interested in."
   ]
  },
  {
   "cell_type": "code",
   "execution_count": null,
   "metadata": {},
   "outputs": [],
   "source": []
  },
  {
   "cell_type": "markdown",
   "metadata": {},
   "source": [
    "## Limiting the functions allowed to be used in the surrogate model\n",
    "\n",
    "We just ran the simplest case __alamo__. We can also add a validation dataset, expand the output of results with further statistics, and control the functional forms.\n",
    "\n",
    "### Step 4: Choosing functional forms\n",
    "\n",
    "First lets look at some of the options for functional forms.\n",
    "\n",
    "We can decide between these options added as keyword arguments to the alamo function:\n",
    "\n",
    "          -  linfcns       : 0-1 option to include linear transformations\n",
    "          -  expfcns       : 0-1 option to include exponential transformations\n",
    "          -  logfcns       : 0-1 option to include logarithmic transformations\n",
    "          -  sinfcns       : 0-1 option to include sine transformations\n",
    "          -  cosfcns       : 0-1 option to include cosine transformations\n",
    "          -  monomialpower : list of monomial powers\n",
    "          -  multi2power   : list of binomial powers\n",
    "          -  multi3power   : list of trinomials\n",
    "          -  ratiopower    : list of ratio powers\n",
    "\n",
    "\n",
    "### Step 5: run alamo and print the results\n",
    "\n",
    "for example:\n",
    "\n",
    "results = alamopy.alamo(x,z, linfcns=1, logfcns=1)\n",
    "\n",
    "results = alamopy.alamo(x,z, linfcns=1, logfcns=1, expfcns=1, monomialpower=[1,2,3])\n",
    "\n",
    "results = alamopy.alamo(x,z, linfcns=1, logfcns=1, expfcns=1, ratiopower=[1,2,3])\n",
    "\n"
   ]
  },
  {
   "cell_type": "code",
   "execution_count": null,
   "metadata": {},
   "outputs": [],
   "source": []
  },
  {
   "cell_type": "markdown",
   "metadata": {},
   "source": [
    "## Adding validation data\n",
    "\n",
    "To include validation data, we need to provide alamo with mored data to validate the model against.\n",
    "\n",
    "Lets call the variables, __xvalData__ and __zvalData__.\n",
    "\n",
    "For example:\n",
    "\n",
    "xvalData = [[1,2],[3,4]]\n",
    "\n",
    "zvalData = [0,5]\n",
    "\n",
    "Validation data are designated by keywords (__xval__, __zval__)\n",
    "\n",
    "### Step 6: Run alamo with validation data\n",
    "\n",
    "example:\n",
    "\n",
    "alamopy.alamo(x,z, xval= xvalData, zval=zvalData)\n",
    "\n",
    "** The results will have additional statistics for the validation data, including ssrval, rmseval, and R2val. **"
   ]
  },
  {
   "cell_type": "code",
   "execution_count": null,
   "metadata": {},
   "outputs": [],
   "source": []
  },
  {
   "cell_type": "markdown",
   "metadata": {},
   "source": [
    "## Confidence in our model parameters\n",
    "\n",
    "Now that we have our model we can get confidence intervals. Just pass the results to the function **almconfidence**\n",
    "\n",
    "### Step 7: Pass the results to almconfidence to determine the confidence interval and covariance matrix\n",
    "\n",
    "For example:\n",
    "\n",
    "alamopy.almconfidence(results)\n",
    "\n",
    "Dictionary words for confidence interval and covariance matrix are:\n",
    "- covariance\n",
    "- conf_inv\n",
    "\n",
    "for example: results['covariance']\n",
    "\n",
    "This will give you the **confidence interval** for the beta values and **covariance matrix** that can be used for uncertainty analysis."
   ]
  },
  {
   "cell_type": "code",
   "execution_count": null,
   "metadata": {},
   "outputs": [],
   "source": []
  },
  {
   "cell_type": "markdown",
   "metadata": {},
   "source": [
    "## Plotting the Confidence Intervals and the Surrogate Model\n",
    "\n",
    "You can plot the results with **almplot**, which will give you confidence bars for the function. You must first run __almconfidence__.\n",
    "\n",
    "\n",
    "### Step 8: Run almplot(results)\n",
    "\n",
    "Code example:\n",
    "\n",
    "alamopy.almplot(results)"
   ]
  },
  {
   "cell_type": "code",
   "execution_count": null,
   "metadata": {},
   "outputs": [],
   "source": []
  }
 ],
 "metadata": {
  "kernelspec": {
   "display_name": "Python 3",
   "language": "python",
   "name": "python3"
  },
  "language_info": {
   "codemirror_mode": {
    "name": "ipython",
    "version": 3
   },
   "file_extension": ".py",
   "mimetype": "text/x-python",
   "name": "python",
   "nbconvert_exporter": "python",
   "pygments_lexer": "ipython3",
   "version": "3.7.3"
  }
 },
 "nbformat": 4,
 "nbformat_minor": 2
}
