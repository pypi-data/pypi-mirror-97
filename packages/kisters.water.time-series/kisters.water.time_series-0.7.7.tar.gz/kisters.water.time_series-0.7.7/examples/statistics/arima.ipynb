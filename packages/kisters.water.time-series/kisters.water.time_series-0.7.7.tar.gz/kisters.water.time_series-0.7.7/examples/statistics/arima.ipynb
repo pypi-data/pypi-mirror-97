{
 "cells": [
  {
   "cell_type": "markdown",
   "metadata": {},
   "source": [
    "# ARIMA example\n",
    "* In this example we will show how to use the ZRXPFormat to read time series data from ZRXP files and how to apply an ARIMA model to better understand the data or to predict future points in the series"
   ]
  },
  {
   "cell_type": "code",
   "execution_count": 1,
   "metadata": {},
   "outputs": [],
   "source": [
    "import platform\n",
    "import pkg_resources\n",
    "from IPython.core.display import display, HTML\n",
    "from matplotlib import pyplot\n",
    "from pandas import DataFrame\n",
    "from statsmodels.tsa.arima_model import ARIMA\n",
    "from datetime import datetime\n",
    "from kisters.water.time_series.file_io import ZRXPFormat"
   ]
  },
  {
   "cell_type": "code",
   "execution_count": 2,
   "metadata": {},
   "outputs": [
    {
     "data": {
      "text/html": [
       "<table><tr><th style=\"text-align:left\">Software</th><th style=\"text-align:left\">Version</th></tr><tr><td style=\"text-align:left\">Python</td><td style=\"text-align:left\">3.6.6 64bit</td></tr><tr><td style=\"text-align:left\">OS</td><td style=\"text-align:left\">Windows-10-10.0.16299-SP0</td></tr><tr><td style=\"text-align:left\">pandas</td><td style=\"text-align:left\">0.23.4</td></tr><tr><td style=\"text-align:left\">matplotlib</td><td style=\"text-align:left\">3.0.1</td></tr><tr><td style=\"text-align:left\">statsmodels</td><td style=\"text-align:left\">0.9.0</td></tr><tr><td style=\"text-align:left\">kisters.water.time_series</td><td style=\"text-align:left\">0.5.0</td></tr><tr><td style=\"text-align:left\">Mon Oct 29 09:05:28 2018</td></tr></table>"
      ],
      "text/plain": [
       "<IPython.core.display.HTML object>"
      ]
     },
     "metadata": {},
     "output_type": "display_data"
    }
   ],
   "source": [
    "# Version information\n",
    "data = [['Python', platform.python_version() + ' ' + platform.architecture()[0]],\n",
    "          ['OS', platform.platform()],\n",
    "          ['pandas', pkg_resources.require(\"pandas\")[0].version],\n",
    "          ['matplotlib', pkg_resources.require(\"matplotlib\")[0].version],\n",
    "          ['statsmodels', pkg_resources.require(\"statsmodels\")[0].version],\n",
    "          ['kisters.water.time_series', pkg_resources.require(\"kisters.water.time_series\")[0].version]]\n",
    "html = \"<table>\"\n",
    "html += \"<tr><th style=\\\"text-align:left\\\">Software</th><th style=\\\"text-align:left\\\">Version</th></tr>\"\n",
    "for name, version in data:\n",
    "    html += \"<tr><td style=\\\"text-align:left\\\">%s</td><td style=\\\"text-align:left\\\">%s</td></tr>\" % (name, version)\n",
    "html += \"<tr><td style=\\\"text-align:left\\\">%s</td></tr>\" % (datetime.now().strftime('%c'))\n",
    "html += \"</table>\"\n",
    "display(HTML(html))"
   ]
  },
  {
   "cell_type": "code",
   "execution_count": 3,
   "metadata": {},
   "outputs": [],
   "source": [
    "zrxp = ZRXPFormat()\n",
    "reader = zrxp.reader\n",
    "\n",
    "tslist = list(reader.read(\"../testdata/K-Greim-SG-cmd-2000-2004.zrx\"))\n",
    "ts = tslist[0]\n",
    "\n",
    "hourly = ts.read_data_frame().resample(\"H\").mean()"
   ]
  },
  {
   "cell_type": "code",
   "execution_count": 4,
   "metadata": {},
   "outputs": [],
   "source": [
    "full = DataFrame(hourly[\"value\"])\n",
    "series = full[full.index < '2003-01-01 00:00:00']\n",
    "series = series[series.index > '2002-10-01 00:00:00']"
   ]
  },
  {
   "cell_type": "code",
   "execution_count": null,
   "metadata": {},
   "outputs": [
    {
     "data": {
      "image/png": "[encoded data removed]",
      "text/plain": [
       "<Figure size 432x288 with 1 Axes>"
      ]
     },
     "metadata": {
      "needs_background": "light"
     },
     "output_type": "display_data"
    }
   ],
   "source": [
    "full[\"value\"].plot(label=\"full\")\n",
    "series[\"value\"].plot(label=\"part\")\n",
    "pyplot.legend(loc=2)\n",
    "pyplot.show()"
   ]
  },
  {
   "cell_type": "code",
   "execution_count": null,
   "metadata": {},
   "outputs": [],
   "source": [
    "model = ARIMA(series, order=(5,0,2), freq='H')\n",
    "model_fit = model.fit(disp=0)\n",
    "print(model_fit.summary())\n",
    "\n",
    "residuals = DataFrame(model_fit.resid)\n",
    "residuals.plot()\n",
    "pyplot.show()"
   ]
  },
  {
   "cell_type": "code",
   "execution_count": null,
   "metadata": {},
   "outputs": [],
   "source": [
    "residuals.plot(kind='kde')\n",
    "pyplot.show()\n",
    "print(residuals.describe())"
   ]
  },
  {
   "cell_type": "code",
   "execution_count": null,
   "metadata": {},
   "outputs": [],
   "source": [
    "pyplot.figure(figsize=(15, 5))\n",
    "part = full[full.index > '2002-12-30 00:00:00']\n",
    "part = part[part.index < '2003-01-03 00:00:00']\n",
    "part[\"value\"].plot(label=ts.path, figsize=(15, 5))\n",
    "predicted = model_fit.predict(start=len(series) - 48, end=len(series) + 48)\n",
    "DataFrame(predicted)[0].plot(label=\"Predict\", figsize=(15, 5))\n",
    "pyplot.legend(loc=2)\n",
    "pyplot.show()"
   ]
  },
  {
   "cell_type": "code",
   "execution_count": null,
   "metadata": {},
   "outputs": [],
   "source": []
  }
 ],
 "metadata": {
  "anaconda-cloud": {},
  "kernelspec": {
   "display_name": "Python 3",
   "language": "python",
   "name": "python3"
  },
  "language_info": {
   "codemirror_mode": {
    "name": "ipython",
    "version": 3
   },
   "file_extension": ".py",
   "mimetype": "text/x-python",
   "name": "python",
   "nbconvert_exporter": "python",
   "pygments_lexer": "ipython3",
   "version": "3.6.7"
  }
 },
 "nbformat": 4,
 "nbformat_minor": 1
}
