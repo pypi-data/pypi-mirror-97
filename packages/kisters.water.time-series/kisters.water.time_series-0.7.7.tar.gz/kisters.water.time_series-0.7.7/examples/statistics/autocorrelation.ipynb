{
 "cells": [
  {
   "cell_type": "markdown",
   "metadata": {},
   "source": [
    "# Autocorrelation example\n",
    "* In this example we use ZRXPFormat to read a time series from a zrxp file and show the autocorrelation plot \n"
   ]
  },
  {
   "cell_type": "code",
   "execution_count": 1,
   "metadata": {},
   "outputs": [],
   "source": [
    "import platform\n",
    "import pkg_resources\n",
    "from datetime import datetime\n",
    "from IPython.core.display import display, HTML\n",
    "from matplotlib import pyplot\n",
    "from pandas.plotting import autocorrelation_plot\n",
    "from kisters.water.time_series.file_io import ZRXPFormat"
   ]
  },
  {
   "cell_type": "code",
   "execution_count": 2,
   "metadata": {},
   "outputs": [
    {
     "data": {
      "text/html": [
       "<table><tr><th style=\"text-align:left\">Software</th><th style=\"text-align:left\">Version</th></tr><tr><td style=\"text-align:left\">Python</td><td style=\"text-align:left\">3.6.5 64bit</td></tr><tr><td style=\"text-align:left\">OS</td><td style=\"text-align:left\">Windows-10-10.0.16299-SP0</td></tr><tr><td style=\"text-align:left\">pandas</td><td style=\"text-align:left\">0.23.3</td></tr><tr><td style=\"text-align:left\">matplotlib</td><td style=\"text-align:left\">2.2.2</td></tr><tr><td style=\"text-align:left\">kisters.water.time_series</td><td style=\"text-align:left\">0.4.5</td></tr><tr><td style=\"text-align:left\">Tue Jul 17 18:39:20 2018</td></tr></table>"
      ],
      "text/plain": [
       "<IPython.core.display.HTML object>"
      ]
     },
     "metadata": {},
     "output_type": "display_data"
    }
   ],
   "source": [
    "# Version information\n",
    "data = [['Python', platform.python_version() + ' ' + platform.architecture()[0]],\n",
    "          ['OS', platform.platform()],\n",
    "          ['pandas', pkg_resources.require(\"pandas\")[0].version],\n",
    "          ['matplotlib', pkg_resources.require(\"matplotlib\")[0].version],\n",
    "          ['kisters.water.time_series', pkg_resources.require(\"kisters.water.time_series\")[0].version]]\n",
    "html = \"<table>\"\n",
    "html += \"<tr><th style=\\\"text-align:left\\\">Software</th><th style=\\\"text-align:left\\\">Version</th></tr>\"\n",
    "for name, version in data:\n",
    "    html += \"<tr><td style=\\\"text-align:left\\\">%s</td><td style=\\\"text-align:left\\\">%s</td></tr>\" % (name, version)\n",
    "html += \"<tr><td style=\\\"text-align:left\\\">%s</td></tr>\" % (datetime.now().strftime('%c'))\n",
    "html += \"</table>\"\n",
    "display(HTML(html))"
   ]
  },
  {
   "cell_type": "code",
   "execution_count": 3,
   "metadata": {},
   "outputs": [
    {
     "name": "stdout",
     "output_type": "stream",
     "text": [
      "HOLA\n"
     ]
    },
    {
     "data": {
      "image/png": "[encoded data removed]",
      "text/plain": [
       "<Figure size 432x288 with 1 Axes>"
      ]
     },
     "metadata": {},
     "output_type": "display_data"
    }
   ],
   "source": [
    "zrxp = ZRXPFormat()\n",
    "reader = zrxp.reader\n",
    "\n",
    "tslist = list(reader.read(\"../testdata/inside/05BJ004.HG.nrt.O.zrx\"))\n",
    "ts = tslist[0]\n",
    "\n",
    "df = ts.read_data_frame()[\"value\"]\n",
    "autocorrelation_plot(df)\n",
    "\n",
    "pyplot.show()"
   ]
  },
  {
   "cell_type": "code",
   "execution_count": 4,
   "metadata": {},
   "outputs": [
    {
     "name": "stdout",
     "output_type": "stream",
     "text": [
      "HOLA\n"
     ]
    },
    {
     "data": {
      "text/plain": [
       "{'tsPath': '../testdata/inside/05BJ004.HG.nrt.O',\n",
       " 'name': '05BJ004.HG.nrt.O',\n",
       " 'shortName': '05BJ004.HG.nrt.O',\n",
       " 'ZRX': {'file': 'C:\\\\Users\\\\amorales\\\\workspace\\\\water-python\\\\kisters.water.time_series\\\\examples\\\\testdata\\\\inside\\\\05BJ004.HG.nrt.O.zrx',\n",
       "  'data_offset': 246,\n",
       "  'invalid': -777.0,\n",
       "  'timezone': 'UTC-7',\n",
       "  'nrows': 25583},\n",
       " 'ZRXPCREATOR': 'ZRXP-Fileexport',\n",
       " 'TZ': 'UTC-7',\n",
       " 'timezone': 'UTC-7',\n",
       " 'SNAME': 'ELBOW RIVER AT BRAGG CREEK',\n",
       " 'stationName': 'ELBOW RIVER AT BRAGG CREEK',\n",
       " 'CNR': 'HG',\n",
       " 'parameterNumber': 'HG',\n",
       " 'CNAME': 'HG',\n",
       " 'parameterName': 'HG',\n",
       " 'CUNIT': 'M',\n",
       " 'unit': 'M',\n",
       " 'RINVAL': '-777',\n",
       " 'invalidValue': '-777',\n",
       " 'columns': ['timestamp', 'value', 'value.quality', 'value.interpolation'],\n",
       " 'dataCoverageFrom': '1999-10-31T00:00:00+00:00',\n",
       " 'dataCoverageUntil': '2005-02-19T19:00:00+00:00',\n",
       " 'id': None}"
      ]
     },
     "execution_count": 4,
     "metadata": {},
     "output_type": "execute_result"
    }
   ],
   "source": [
    "ts.metadata"
   ]
  },
  {
   "cell_type": "code",
   "execution_count": null,
   "metadata": {},
   "outputs": [],
   "source": []
  }
 ],
 "metadata": {
  "anaconda-cloud": {},
  "kernelspec": {
   "display_name": "Python 3",
   "language": "python",
   "name": "python3"
  },
  "language_info": {
   "codemirror_mode": {
    "name": "ipython",
    "version": 3
   },
   "file_extension": ".py",
   "mimetype": "text/x-python",
   "name": "python",
   "nbconvert_exporter": "python",
   "pygments_lexer": "ipython3",
   "version": "3.6.7"
  }
 },
 "nbformat": 4,
 "nbformat_minor": 1
}
