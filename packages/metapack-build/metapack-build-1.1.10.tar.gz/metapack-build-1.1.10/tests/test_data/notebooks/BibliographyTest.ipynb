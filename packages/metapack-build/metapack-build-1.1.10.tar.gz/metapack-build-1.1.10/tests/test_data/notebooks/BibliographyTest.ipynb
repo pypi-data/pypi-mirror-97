{
 "cells": [
  {
   "cell_type": "markdown",
   "metadata": {
    "tags": [
     "Title"
    ]
   },
   "source": [
    "# This is the Title\n"
   ]
  },
  {
   "cell_type": "markdown",
   "metadata": {
    "tags": [
     "Description"
    ]
   },
   "source": [
    "This is the Description"
   ]
  },
  {
   "cell_type": "code",
   "execution_count": 1,
   "metadata": {
    "collapsed": true,
    "run_control": {
     "marked": false
    }
   },
   "outputs": [],
   "source": [
    "%load_ext metatab\n",
    "%load_ext autoreload\n",
    "%autoreload 2\n",
    "    "
   ]
  },
  {
   "cell_type": "code",
   "execution_count": 54,
   "metadata": {
    "collapsed": true
   },
   "outputs": [],
   "source": [
    "%%metatab \n",
    "Origin: example.com\n",
    "Dataset: foobar.com \n",
    "Identifier: de097279-28ef-42f5-a4f5-0eaac53b7dc4\n",
    "Name: example.com-foobar.com \n",
    "\n",
    "Section: Contacts\n",
    "Wrangler: Eric Busboom\n",
    "Wrangler.Email: eric@civicknowledge.com\n",
    "Author: Eric Busboom\n",
    "Author.Email: eric@civicknowledge.com\n",
    "Author.Organization: Civic Knowledge\n",
    "    \n",
    "Section: References\n",
    "    \n",
    "Reference: censusreporter:B09020/140/05000US06073\n",
    "Reference.Name: B09020\n",
    "Reference.Description: Relationship by Household Type (Including Living Alone) for Population 65 Years and Over\n",
    "    \n",
    "Reference: censusreporter:B25007/140/05000US06073\n",
    "Reference.Name: B25007\n",
    "Reference.Description: Tenure by Age of Householder\n",
    "\n",
    "#\n",
    "# Household Income\n",
    "#\n",
    "  \n",
    "Reference: censusreporter:B19049/140/05000US06073\n",
    "Reference.Name: B19049\n",
    "Reference.Description: Median Household Income by Age of Householder\n",
    "\n",
    "\n",
    "# For whole county   \n",
    "    \n",
    "Reference: censusreporter:B19049/050/05000US06073\n",
    "Reference.Name: B19049_county\n",
    "Reference.Description: Median Household Income by Age of Householder\n",
    "    \n",
    "#\n",
    "# Home value distributions, by tract\n",
    "#\n",
    "\n",
    "Reference: censusreporter:B25076/140/05000US06073\n",
    "Reference.Name: B25076\n",
    "Reference.Description: Lower Value Quartile (Dollars)\n",
    "\n",
    "Reference: censusreporter:B25077/140/05000US06073\n",
    "Reference.Name: B25077\n",
    "Reference.Description: Median Value\n",
    "\n",
    "Reference: censusreporter:B25078/140/05000US06073\n",
    "Reference.Name: B25078\n",
    "Reference.Description: Upper Value Quartile (Dollars)\n",
    "\n",
    "#\n",
    "# Home  value distributions, for SD County\n",
    "#\n",
    "Reference: censusreporter:B25076/050/05000US06073\n",
    "Reference.Name: B25076_county\n",
    "Reference.Description: Lower Value Quartile (Dollars)\n",
    "\n",
    "Reference: censusreporter:B25077/050/05000US06073\n",
    "Reference.Name: B25077_county\n",
    "Reference.Description: Median Value\n",
    "\n",
    "Reference: censusreporter:B25078/050/05000US06073\n",
    "Reference.Name: B25078_county\n",
    "Reference.Description: Upper Value Quartile (Dollars)\n",
    "\n",
    "#\n",
    "# Tract crosswalk\n",
    "# \n",
    "Reference: metatab+http://s3.amazonaws.com/library.metatab.org/sangis.org-census_regions-2010-sandiego-7.csv#tract-sra-msa-xwalk\n",
    "Reference.Name: tracts\n",
    "Reference.Description: Crosswalk between crosswalks, tracts, zip codes and SRAs in San Diego County\n",
    " \n",
    "#\n",
    "# Tract boundaries\n",
    "# \n",
    "Reference: metatab+http://s3.amazonaws.com/library.metatab.org/sangis.org-census_regions-2010-sandiego-7.csv#tracts\n",
    "Reference.Name: tracts_geo\n",
    "Reference.Description: Geographics Boundaries for Tracts\n",
    "\n",
    "#\n",
    "# SRA boundaries\n",
    "# \n",
    "Reference: metatab+http://s3.amazonaws.com/library.metatab.org/sangis.org-census_regions-2010-sandiego-7.csv#sra\n",
    "Reference.Name: sra_geo\n",
    "Reference.Description: Geographics Boundaries for SRAs\n",
    "    \n",
    "#\n",
    "# IPUMS Housing and Income Data\n",
    "#\n",
    "# Need to use the ZIP version b/c we need to import the Python Code\n",
    "Reference: metatab+http://s3.amazonaws.com/library.metatab.org/ipums.org-income_homevalue-5.zip#income_homeval\n",
    "Reference.Name: incv\n",
    "Reference.Description: Income and Home value records from IPUMS for San Diego County\n",
    "\n",
    "    Section: Resources\n",
    "\n",
    "    \n",
    "Section: Bibliography\n",
    "Citation: ipums\n",
    "Citation.Type: dataset\n",
    "Citation.Author: Steven Ruggles; Katie Genadek; Ronald Goeken; Josiah Grover; Matthew Sobek\n",
    "Citation.Title: Integrated Public Use Microdata Series\n",
    "Citation.Year: 2017\n",
    "Citation.Publisher: University of Minnesota\n",
    "Citation.Version: 7.0 \n",
    "Citation.AccessDate: 20170718\n",
    "Citation.Url: https://usa.ipums.org/usa/index.shtml\n",
    "Citation.Doi: https://doi.org/10.18128/D010.V7.0\n",
    "        \n",
    "Citation: bordley\n",
    "Citation.Type: article\n",
    "Citation.Author: Robert F. Bordley; James B. McDonald; Anand Mantrala\n",
    "Citation.Title: Something New, Something Old: Parametric Models for the Size of Distribution of Income\n",
    "Citation.Year: 1997\n",
    "Citation.Month: June\n",
    "Citation.Journal: Journal of Income Distribution\n",
    "Citation.Volume: 6 \n",
    "Citation.Number: 1\n",
    "Citation.Pages: 5-5\n",
    "Citation.Url: https://ideas.repec.org/a/jid/journl/y1997v06i1p5-5.html\n",
    "        \n",
    "Citation: mcdonald\n",
    "Citation.Type: article \n",
    "Citation.Author: McDonald, James B.;  Mantrala, Anand\n",
    "Citation.Title: The distribution of personal income: Revisited\n",
    "Citation.Journal: Journal of Applied Econometrics\n",
    "Citation.Volume: 10\n",
    "Citation.Number: 2\n",
    "Citation.Publisher: Wiley Subscription Services, Inc., A Wiley Company\n",
    "Citation.Issn: 1099-1255\n",
    "Citation.Doi: 10.1002/jae.3950100208\n",
    "Citation.Pages: 201--204,\n",
    "Citation.Year: 1995\n",
    "    \n",
    "Citation: majumder\n",
    "Citation.Type: article \n",
    "Citation.Author: Majumder, Amita; Chakravarty, Satya Ranjan\n",
    "Citation.Title: Distribution of personal income: Development of a new model and its application to U.S. income data\n",
    "Citation.Journal: Journal of Applied Econometrics\n",
    "Citation.Volume: 5\n",
    "Citation.Number: 2\n",
    "Citation.Publisher: Wiley Subscription Services, Inc., A Wiley Company\n",
    "Citation.Issn: 1099-1255\n",
    "Citation.Doi: 10.1002/jae.3950050206\n",
    "Citation.Pages: 189--196\n",
    "Citation.Year: 1990"
   ]
  },
  {
   "cell_type": "markdown",
   "metadata": {},
   "source": [
    "# Biblography"
   ]
  },
  {
   "cell_type": "code",
   "execution_count": 5,
   "metadata": {
    "scrolled": false
   },
   "outputs": [
    {
     "data": {
      "text/html": [
       "<div class='citation'><a name=\"bordley\"><b>[bordley]</b></a> Robert&nbsp;F. Bordley, James&nbsp;B. McDonald, and Anand Mantrala.\n",
       "Something new, something old: parametric models for the size of distribution of income.\n",
       "<em>Journal of Income Distribution</em>, 6(1):5&ndash;5, June 1997.\n",
       "<a href=\"https://ideas.repec.org/a/jid/journl/y1997v06i1p5-5.html\">https://ideas.repec.org/a/jid/journl/y1997v06i1p5-5.html</a>. </div><div class='citation'><a name=\"majumder\"><b>[majumder]</b></a> Amita Majumder and Satya&nbsp;Ranjan Chakravarty.\n",
       "Distribution of personal income: development of a new model and its application to u.s. income data.\n",
       "<em>Journal of Applied Econometrics</em>, 5(2):189–196, 1990.\n",
       "<a href=\"https://doi.org/10.1002/jae.3950050206\">doi:10.1002/jae.3950050206</a>. </div><div class='citation'><a name=\"mcdonald\"><b>[mcdonald]</b></a> James&nbsp;B. McDonald and Anand Mantrala.\n",
       "The distribution of personal income: revisited.\n",
       "<em>Journal of Applied Econometrics</em>, 10(2):201–204,, 1995.\n",
       "<a href=\"https://doi.org/10.1002/jae.3950100208\">doi:10.1002/jae.3950100208</a>. </div><div class='citation'><a name=\"ipums\"><b>[ipums]</b></a> Steven Ruggles, Katie Genadek, Ronald Goeken, Josiah Grover, and Matthew Sobek.\n",
       "<em>Integrated Public Use Microdata Series</em>.\n",
       "Version 7.0.\n",
       "University of Minnesota, 2017.\n",
       "<a href=\"https://usa.ipums.org/usa/index.shtml\">https://usa.ipums.org/usa/index.shtml</a>, <a href=\"https://doi.org/https://doi.org/10.18128/D010.V7.0\">doi:https://doi.org/10.18128/D010.V7.0</a>.\n",
       "Accessed 18 Jul 2017 </div>"
      ],
      "text/plain": [
       "<IPython.core.display.HTML object>"
      ]
     },
     "metadata": {},
     "output_type": "execute_result"
    },
    {
     "data": {
      "text/latex": [
       "\\begin{thebibliography}{1}\n",
       "\n",
       "\\bibitem[1]{bordley}\n",
       "Robert~F. Bordley, James~B. McDonald, and Anand Mantrala.\n",
       "\\newblock Something new, something old: parametric models for the size of distribution of income.\n",
       "\\newblock \\emph{Journal of Income Distribution}, 6(1):5--5, June 1997.\n",
       "\\newblock \\url{https://ideas.repec.org/a/jid/journl/y1997v06i1p5-5.html}.\n",
       "\n",
       "\\bibitem[2]{majumder}\n",
       "Amita Majumder and Satya~Ranjan Chakravarty.\n",
       "\\newblock Distribution of personal income: development of a new model and its application to u.s. income data.\n",
       "\\newblock \\emph{Journal of Applied Econometrics}, 5(2):189–196, 1990.\n",
       "\\newblock \\href{https://doi.org/10.1002/jae.3950050206}{doi:10.1002/jae.3950050206}.\n",
       "\n",
       "\\bibitem[3]{mcdonald}\n",
       "James~B. McDonald and Anand Mantrala.\n",
       "\\newblock The distribution of personal income: revisited.\n",
       "\\newblock \\emph{Journal of Applied Econometrics}, 10(2):201–204,, 1995.\n",
       "\\newblock \\href{https://doi.org/10.1002/jae.3950100208}{doi:10.1002/jae.3950100208}.\n",
       "\n",
       "\\bibitem[4]{ipums}\n",
       "Steven Ruggles, Katie Genadek, Ronald Goeken, Josiah Grover, and Matthew Sobek.\n",
       "\\newblock \\emph{Integrated Public Use Microdata Series}.\n",
       "\\newblock Version 7.0.\n",
       "\\newblock University of Minnesota, 2017.\n",
       "\\newblock \\url{https://usa.ipums.org/usa/index.shtml}, \\href{https://doi.org/https://doi.org/10.18128/D010.V7.0}{doi:https://doi.org/10.18128/D010.V7.0}.\n",
       "\\newblock Accessed 18 Jul 2017\n",
       "\n",
       "\\end{thebibliography}\n"
      ],
      "text/plain": [
       "<IPython.core.display.Latex object>"
      ]
     },
     "metadata": {},
     "output_type": "display_data"
    }
   ],
   "source": [
    "%mt_bibliography "
   ]
  },
  {
   "cell_type": "markdown",
   "metadata": {},
   "source": [
    "# Data Sources\n"
   ]
  },
  {
   "cell_type": "code",
   "execution_count": 43,
   "metadata": {
    "scrolled": false
   },
   "outputs": [
    {
     "data": {
      "text/html": [
       "<div class='citation'><a name=\"sra_geo\"><b>[sra_geo]</b></a> SANGIS.\n",
       "<em>SANGIS Census Regions; sra_geo</em>.\n",
       "Version&nbsp;7.\n",
       "Civic Knowledge.\n",
       "Eric Busboom, editor.\n",
       "<a href=\"http://s3.amazonaws.com/library.metatab.org/sangis.org-census_regions-2010-sandiego-7.csv\">http://s3.amazonaws.com/library.metatab.org/sangis.org-census_regions-2010-sandiego-7.csv</a>.\n",
       "Accessed 11 Aug 2017 </div><div class='citation'><a name=\"tracts\"><b>[tracts]</b></a> SANGIS.\n",
       "<em>SANGIS Census Regions; tracts</em>.\n",
       "Version&nbsp;7.\n",
       "Civic Knowledge.\n",
       "Eric Busboom, editor.\n",
       "<a href=\"http://s3.amazonaws.com/library.metatab.org/sangis.org-census_regions-2010-sandiego-7.csv\">http://s3.amazonaws.com/library.metatab.org/sangis.org-census_regions-2010-sandiego-7.csv</a>.\n",
       "Accessed 11 Aug 2017 </div><div class='citation'><a name=\"tracts_geo\"><b>[tracts_geo]</b></a> SANGIS.\n",
       "<em>SANGIS Census Regions; tracts_geo</em>.\n",
       "Version&nbsp;7.\n",
       "Civic Knowledge.\n",
       "Eric Busboom, editor.\n",
       "<a href=\"http://s3.amazonaws.com/library.metatab.org/sangis.org-census_regions-2010-sandiego-7.csv\">http://s3.amazonaws.com/library.metatab.org/sangis.org-census_regions-2010-sandiego-7.csv</a>.\n",
       "Accessed 11 Aug 2017 </div><div class='citation'><a name=\"incv\"><b>[incv]</b></a> Ipums.Org.\n",
       "<em>Senior Income and Home Value Distributions For San Diego County; incv</em>.\n",
       "Version&nbsp;5.\n",
       "Eric Busboom, editor.\n",
       "<a href=\"http://s3.amazonaws.com/library.metatab.org/ipums.org-income_homevalue-5.zip\">http://s3.amazonaws.com/library.metatab.org/ipums.org-income_homevalue-5.zip</a>.\n",
       "Accessed 11 Aug 2017 </div><div class='citation'><a name=\"B09020\"><b>[B09020]</b></a> United States Census Bureau.\n",
       "<em>2010 - 2015 American Community Survey, Table B09020: Relationship by Household Type (Including Living Alone) for Population 65 Years and Over</em>.\n",
       "CensusReporter.org.\n",
       "2015\n",
       "<a href=\"http://api.censusreporter.org/1.0/data/show/latest?table_ids=B09020&geo_ids=140|05000US06073\">http://api.censusreporter.org/1.0/data/show/latest?table_ids=B09020&amp;geo_ids=140|05000US06073</a>.\n",
       "Accessed 11 Aug 2017 </div><div class='citation'><a name=\"B19049_county\"><b>[B19049_county]</b></a> United States Census Bureau.\n",
       "<em>2010 - 2015 American Community Survey, Table B19049: Median Household Income by Age of Householder</em>.\n",
       "CensusReporter.org.\n",
       "2015\n",
       "<a href=\"http://api.censusreporter.org/1.0/data/show/latest?table_ids=B19049&geo_ids=050|05000US06073\">http://api.censusreporter.org/1.0/data/show/latest?table_ids=B19049&amp;geo_ids=050|05000US06073</a>.\n",
       "Accessed 11 Aug 2017 </div><div class='citation'><a name=\"B25007\"><b>[B25007]</b></a> United States Census Bureau.\n",
       "<em>2010 - 2015 American Community Survey, Table B25007: Tenure by Age of Householder</em>.\n",
       "CensusReporter.org.\n",
       "2015\n",
       "<a href=\"http://api.censusreporter.org/1.0/data/show/latest?table_ids=B25007&geo_ids=140|05000US06073\">http://api.censusreporter.org/1.0/data/show/latest?table_ids=B25007&amp;geo_ids=140|05000US06073</a>.\n",
       "Accessed 11 Aug 2017 </div><div class='citation'><a name=\"B25076_county\"><b>[B25076_county]</b></a> United States Census Bureau.\n",
       "<em>2010 - 2015 American Community Survey, Table B25076: Lower Value Quartile (Dollars)</em>.\n",
       "CensusReporter.org.\n",
       "2015\n",
       "<a href=\"http://api.censusreporter.org/1.0/data/show/latest?table_ids=B25076&geo_ids=050|05000US06073\">http://api.censusreporter.org/1.0/data/show/latest?table_ids=B25076&amp;geo_ids=050|05000US06073</a>.\n",
       "Accessed 11 Aug 2017 </div><div class='citation'><a name=\"B25077_county\"><b>[B25077_county]</b></a> United States Census Bureau.\n",
       "<em>2010 - 2015 American Community Survey, Table B25077: Median Value</em>.\n",
       "CensusReporter.org.\n",
       "2015\n",
       "<a href=\"http://api.censusreporter.org/1.0/data/show/latest?table_ids=B25077&geo_ids=050|05000US06073\">http://api.censusreporter.org/1.0/data/show/latest?table_ids=B25077&amp;geo_ids=050|05000US06073</a>.\n",
       "Accessed 11 Aug 2017 </div><div class='citation'><a name=\"B25078_county\"><b>[B25078_county]</b></a> United States Census Bureau.\n",
       "<em>2010 - 2015 American Community Survey, Table B25078: Upper Value Quartile (Dollars)</em>.\n",
       "CensusReporter.org.\n",
       "2015\n",
       "<a href=\"http://api.censusreporter.org/1.0/data/show/latest?table_ids=B25078&geo_ids=050|05000US06073\">http://api.censusreporter.org/1.0/data/show/latest?table_ids=B25078&amp;geo_ids=050|05000US06073</a>.\n",
       "Accessed 11 Aug 2017 </div>"
      ],
      "text/plain": [
       "<IPython.core.display.HTML object>"
      ]
     },
     "metadata": {},
     "output_type": "execute_result"
    },
    {
     "data": {
      "text/latex": [
       "\\begin{thebibliography}{10}\n",
       "\n",
       "\\bibitem[1]{sra_geo}\n",
       "SANGIS.\n",
       "\\newblock \\emph{SANGIS Census Regions; sra\\_geo}.\n",
       "\\newblock Version~7.\n",
       "\\newblock Civic Knowledge.\n",
       "\\newblock Eric Busboom, editor.\n",
       "\\newblock \\url{http://s3.amazonaws.com/library.metatab.org/sangis.org-census_regions-2010-sandiego-7.csv}.\n",
       "\\newblock Accessed 11 Aug 2017\n",
       "\n",
       "\\bibitem[2]{tracts}\n",
       "SANGIS.\n",
       "\\newblock \\emph{SANGIS Census Regions; tracts}.\n",
       "\\newblock Version~7.\n",
       "\\newblock Civic Knowledge.\n",
       "\\newblock Eric Busboom, editor.\n",
       "\\newblock \\url{http://s3.amazonaws.com/library.metatab.org/sangis.org-census_regions-2010-sandiego-7.csv}.\n",
       "\\newblock Accessed 11 Aug 2017\n",
       "\n",
       "\\bibitem[3]{tracts_geo}\n",
       "SANGIS.\n",
       "\\newblock \\emph{SANGIS Census Regions; tracts\\_geo}.\n",
       "\\newblock Version~7.\n",
       "\\newblock Civic Knowledge.\n",
       "\\newblock Eric Busboom, editor.\n",
       "\\newblock \\url{http://s3.amazonaws.com/library.metatab.org/sangis.org-census_regions-2010-sandiego-7.csv}.\n",
       "\\newblock Accessed 11 Aug 2017\n",
       "\n",
       "\\bibitem[4]{incv}\n",
       "Ipums.Org.\n",
       "\\newblock \\emph{Senior Income and Home Value Distributions For San Diego County; incv}.\n",
       "\\newblock Version~5.\n",
       "\\newblock Eric Busboom, editor.\n",
       "\\newblock \\url{http://s3.amazonaws.com/library.metatab.org/ipums.org-income_homevalue-5.zip}.\n",
       "\\newblock Accessed 11 Aug 2017\n",
       "\n",
       "\\bibitem[5]{B09020}\n",
       "United States Census Bureau.\n",
       "\\newblock \\emph{2010 - 2015 American Community Survey, Table B09020: Relationship by Household Type (Including Living Alone) for Population 65 Years and Over}.\n",
       "\\newblock CensusReporter.org.\n",
       "\\newblock 2015\n",
       "\\newblock \\url{http://api.censusreporter.org/1.0/data/show/latest?table_ids=B09020&geo_ids=140|05000US06073}.\n",
       "\\newblock Accessed 11 Aug 2017\n",
       "\n",
       "\\bibitem[6]{B19049_county}\n",
       "United States Census Bureau.\n",
       "\\newblock \\emph{2010 - 2015 American Community Survey, Table B19049: Median Household Income by Age of Householder}.\n",
       "\\newblock CensusReporter.org.\n",
       "\\newblock 2015\n",
       "\\newblock \\url{http://api.censusreporter.org/1.0/data/show/latest?table_ids=B19049&geo_ids=050|05000US06073}.\n",
       "\\newblock Accessed 11 Aug 2017\n",
       "\n",
       "\\bibitem[7]{B25007}\n",
       "United States Census Bureau.\n",
       "\\newblock \\emph{2010 - 2015 American Community Survey, Table B25007: Tenure by Age of Householder}.\n",
       "\\newblock CensusReporter.org.\n",
       "\\newblock 2015\n",
       "\\newblock \\url{http://api.censusreporter.org/1.0/data/show/latest?table_ids=B25007&geo_ids=140|05000US06073}.\n",
       "\\newblock Accessed 11 Aug 2017\n",
       "\n",
       "\\bibitem[8]{B25076_county}\n",
       "United States Census Bureau.\n",
       "\\newblock \\emph{2010 - 2015 American Community Survey, Table B25076: Lower Value Quartile (Dollars)}.\n",
       "\\newblock CensusReporter.org.\n",
       "\\newblock 2015\n",
       "\\newblock \\url{http://api.censusreporter.org/1.0/data/show/latest?table_ids=B25076&geo_ids=050|05000US06073}.\n",
       "\\newblock Accessed 11 Aug 2017\n",
       "\n",
       "\\bibitem[9]{B25077_county}\n",
       "United States Census Bureau.\n",
       "\\newblock \\emph{2010 - 2015 American Community Survey, Table B25077: Median Value}.\n",
       "\\newblock CensusReporter.org.\n",
       "\\newblock 2015\n",
       "\\newblock \\url{http://api.censusreporter.org/1.0/data/show/latest?table_ids=B25077&geo_ids=050|05000US06073}.\n",
       "\\newblock Accessed 11 Aug 2017\n",
       "\n",
       "\\bibitem[10]{B25078_county}\n",
       "United States Census Bureau.\n",
       "\\newblock \\emph{2010 - 2015 American Community Survey, Table B25078: Upper Value Quartile (Dollars)}.\n",
       "\\newblock CensusReporter.org.\n",
       "\\newblock 2015\n",
       "\\newblock \\url{http://api.censusreporter.org/1.0/data/show/latest?table_ids=B25078&geo_ids=050|05000US06073}.\n",
       "\\newblock Accessed 11 Aug 2017\n",
       "\n",
       "\\end{thebibliography}\n"
      ],
      "text/plain": [
       "<IPython.core.display.Latex object>"
      ]
     },
     "metadata": {},
     "output_type": "display_data"
    }
   ],
   "source": [
    "%mt_data_references pandasreporter.censusreporter.make_citation_dict metatab.html.make_metatab_citation_dict"
   ]
  },
  {
   "cell_type": "code",
   "execution_count": 50,
   "metadata": {},
   "outputs": [
    {
     "data": {
      "text/plain": [
       "{'@value': 'Contacts',\n",
       " 'author': {'email': 'eric@civicknowledge.com', 'name': 'Eric Busboom'},\n",
       " 'dataset': 'rcfe_affordability',\n",
       " 'declare': 'metatab-latest',\n",
       " 'identifier': '47bc1089-7584-41f0-b804-602ec42f1249',\n",
       " 'name': 'civicknowledge.com-rcfe_affordability-2015-2',\n",
       " 'origin': 'civicknowledge.com',\n",
       " 'space san diego': None,\n",
       " 'time': '2015',\n",
       " 'version': '2',\n",
       " 'wrangler': {'email': 'eric@civicknowledge.com', 'name': 'Eric Busboom'}}"
      ]
     },
     "execution_count": 50,
     "metadata": {},
     "output_type": "execute_result"
    }
   ],
   "source": []
  },
  {
   "cell_type": "code",
   "execution_count": 55,
   "metadata": {},
   "outputs": [
    {
     "data": {
      "text/plain": [
       "[<Term: <none> 8:1 root.wrangler Eric Busboom []>,\n",
       " <Term: <none> 10:1 root.author Eric Busboom []>]"
      ]
     },
     "execution_count": 55,
     "metadata": {},
     "output_type": "execute_result"
    }
   ],
   "source": [
    "mt_pkg['Contacts'].terms"
   ]
  },
  {
   "cell_type": "code",
   "execution_count": null,
   "metadata": {
    "collapsed": true
   },
   "outputs": [],
   "source": []
  }
 ],
 "metadata": {
  "celltoolbar": "Raw Cell Format",
  "kernelspec": {
   "display_name": "Python 3",
   "language": "python",
   "name": "python3"
  },
  "language_info": {
   "codemirror_mode": {
    "name": "ipython",
    "version": 3
   },
   "file_extension": ".py",
   "mimetype": "text/x-python",
   "name": "python",
   "nbconvert_exporter": "python",
   "pygments_lexer": "ipython3",
   "version": "3.6.1"
  },
  "varInspector": {
   "cols": {
    "lenName": 16.0,
    "lenType": 16.0,
    "lenVar": 40.0
   },
   "kernels_config": {
    "python": {
     "delete_cmd_postfix": "",
     "delete_cmd_prefix": "del ",
     "library": "var_list.py",
     "varRefreshCmd": "print(var_dic_list())"
    },
    "r": {
     "delete_cmd_postfix": ") ",
     "delete_cmd_prefix": "rm(",
     "library": "var_list.r",
     "varRefreshCmd": "cat(var_dic_list()) "
    }
   },
   "types_to_exclude": [
    "module",
    "function",
    "builtin_function_or_method",
    "instance",
    "_Feature"
   ],
   "window_display": false
  }
 },
 "nbformat": 4,
 "nbformat_minor": 2
}
