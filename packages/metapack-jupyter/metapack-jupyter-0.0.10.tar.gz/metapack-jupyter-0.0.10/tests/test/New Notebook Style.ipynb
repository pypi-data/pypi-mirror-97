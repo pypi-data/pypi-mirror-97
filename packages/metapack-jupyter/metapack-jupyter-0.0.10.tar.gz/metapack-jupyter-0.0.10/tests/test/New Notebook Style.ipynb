{
 "cells": [
  {
   "cell_type": "markdown",
   "metadata": {},
   "source": [
    "This notebook is an example of some new ideas on how to manage notebooks that become Metatab packages. "
   ]
  },
  {
   "cell_type": "code",
   "execution_count": null,
   "metadata": {},
   "outputs": [],
   "source": [
    "import metapack as mp\n",
    "\n",
    "pkg = (mp.package()\n",
    "    .title('This is the Title')\n",
    "    .description('This is the description')\n",
    "    .origin()\n",
    "    .dataset()\n",
    "    .wranger('Eric Busboom', email='eric@civicknowledge.com')\n",
    ")\n",
    "\n",
    "pkg"
   ]
  },
  {
   "cell_type": "markdown",
   "metadata": {},
   "source": [
    "The mp.package() call sets the package into the local namespace, then returns the package title description and other, typical document header things. \n",
    "\n",
    "# This is the Title\n",
    "\n",
    "Eric Busboom ( eric@civicknowledge.com )\n",
    "\n",
    "This is the description"
   ]
  },
  {
   "cell_type": "code",
   "execution_count": null,
   "metadata": {},
   "outputs": [],
   "source": [
    "\n",
    "r = pkg.new_resource('http://exmaple.com/file.csv', name='file_csv')\n",
    "\n",
    "r.schema.column1.name = 'Column1 name'  # Need to make the schema writable. \n",
    "\n",
    "df = r.dataframe() # The resource saves a reference to the dataframe? to allow loading the data. \n"
   ]
  }
 ],
 "metadata": {
  "kernelspec": {
   "display_name": "Python 3",
   "language": "python",
   "name": "python3"
  },
  "language_info": {
   "codemirror_mode": {
    "name": "ipython",
    "version": 3
   },
   "file_extension": ".py",
   "mimetype": "text/x-python",
   "name": "python",
   "nbconvert_exporter": "python",
   "pygments_lexer": "ipython3",
   "version": "3.6.0"
  }
 },
 "nbformat": 4,
 "nbformat_minor": 2
}
