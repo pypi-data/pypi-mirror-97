{
 "cells": [
  {
   "cell_type": "code",
   "execution_count": 1,
   "metadata": {},
   "outputs": [],
   "source": [
    "from msdlib.msd import ProgressBar\n",
    "import time"
   ]
  },
  {
   "cell_type": "code",
   "execution_count": 2,
   "metadata": {},
   "outputs": [
    {
     "data": {
      "text/plain": [
       "[-1, 4, 9, 14, 19, 24, 29, 34, 39, 44, 49, 54, 59, 64, 69, 74, 79, 84, 89, 94]"
      ]
     },
     "execution_count": 2,
     "metadata": {},
     "output_type": "execute_result"
    }
   ],
   "source": [
    "# defining an array as an iterator for running a loop\n",
    "arr = [i * 5 - 1 for i in range(20)]\n",
    "arr"
   ]
  },
  {
   "cell_type": "markdown",
   "metadata": {},
   "source": [
    "### Example 1.1"
   ]
  },
  {
   "cell_type": "code",
   "execution_count": 3,
   "metadata": {},
   "outputs": [
    {
     "data": {
      "text/plain": [
       "[1,\n",
       " 1026,\n",
       " 59051,\n",
       " 537826,\n",
       " 2476101,\n",
       " 7962626,\n",
       " 20511151,\n",
       " 45435426,\n",
       " 90224201,\n",
       " 164916226,\n",
       " 282475251,\n",
       " 459165026,\n",
       " 714924301,\n",
       " 1073741826,\n",
       " 1564031351,\n",
       " 2219006626,\n",
       " 3077056401,\n",
       " 4182119426,\n",
       " 5584059451,\n",
       " 7339040226]"
      ]
     },
     "execution_count": 3,
     "metadata": {},
     "output_type": "execute_result"
    }
   ],
   "source": [
    "# an example of for loop with some simple calculations\n",
    "out = []\n",
    "for i in range(len(arr)):\n",
    "    out.append(arr[i] ** 5 + 2)\n",
    "out"
   ]
  },
  {
   "cell_type": "code",
   "execution_count": 4,
   "metadata": {},
   "outputs": [
    {
     "name": "stdout",
     "output_type": "stream",
     "text": [
      "test-array -------- [████████████████████████████████████████]  20/20 <100%>  ( 0:00:30 < 0:00:00 ) Complete!               \n"
     ]
    },
    {
     "data": {
      "text/plain": [
       "[1,\n",
       " 1026,\n",
       " 59051,\n",
       " 537826,\n",
       " 2476101,\n",
       " 7962626,\n",
       " 20511151,\n",
       " 45435426,\n",
       " 90224201,\n",
       " 164916226,\n",
       " 282475251,\n",
       " 459165026,\n",
       " 714924301,\n",
       " 1073741826,\n",
       " 1564031351,\n",
       " 2219006626,\n",
       " 3077056401,\n",
       " 4182119426,\n",
       " 5584059451,\n",
       " 7339040226]"
      ]
     },
     "execution_count": 4,
     "metadata": {},
     "output_type": "execute_result"
    }
   ],
   "source": [
    "# equivalent loop using progress bar\n",
    "out = []\n",
    "\n",
    "looper = range(len(arr))    # definition of iterator \n",
    "with ProgressBar(looper, 'test-array') as pbar:\n",
    "    for i in looper:\n",
    "        out.append(arr[i] ** 5 + 2)\n",
    "        # to see the progress bar properly, I am slowing down the loop caculation using time.sleep()\n",
    "        time.sleep(1.5)# obviously you should not use this inside your loop\n",
    "        pbar.inc()\n",
    "out"
   ]
  },
  {
   "cell_type": "markdown",
   "metadata": {},
   "source": [
    "### Example 1.2"
   ]
  },
  {
   "cell_type": "code",
   "execution_count": 5,
   "metadata": {},
   "outputs": [
    {
     "data": {
      "text/plain": [
       "[1,\n",
       " 1026,\n",
       " 59051,\n",
       " 537826,\n",
       " 2476101,\n",
       " 7962626,\n",
       " 20511151,\n",
       " 45435426,\n",
       " 90224201,\n",
       " 164916226,\n",
       " 282475251,\n",
       " 459165026,\n",
       " 714924301,\n",
       " 1073741826,\n",
       " 1564031351,\n",
       " 2219006626,\n",
       " 3077056401,\n",
       " 4182119426,\n",
       " 5584059451,\n",
       " 7339040226]"
      ]
     },
     "execution_count": 5,
     "metadata": {},
     "output_type": "execute_result"
    }
   ],
   "source": [
    "# another example of the same thing\n",
    "out = []\n",
    "for i in arr:\n",
    "    out.append(i ** 5 + 2)\n",
    "out"
   ]
  },
  {
   "cell_type": "code",
   "execution_count": 6,
   "metadata": {},
   "outputs": [
    {
     "name": "stdout",
     "output_type": "stream",
     "text": [
      "test-array -------- [████████████████████████████████████████]  20/20 <100%>  ( 0:00:30 < 0:00:00 ) Complete!               \n"
     ]
    },
    {
     "data": {
      "text/plain": [
       "[1,\n",
       " 1026,\n",
       " 59051,\n",
       " 537826,\n",
       " 2476101,\n",
       " 7962626,\n",
       " 20511151,\n",
       " 45435426,\n",
       " 90224201,\n",
       " 164916226,\n",
       " 282475251,\n",
       " 459165026,\n",
       " 714924301,\n",
       " 1073741826,\n",
       " 1564031351,\n",
       " 2219006626,\n",
       " 3077056401,\n",
       " 4182119426,\n",
       " 5584059451,\n",
       " 7339040226]"
      ]
     },
     "execution_count": 6,
     "metadata": {},
     "output_type": "execute_result"
    }
   ],
   "source": [
    "# equivalent loop using progress bar\n",
    "out = []\n",
    "\n",
    "looper = arr.copy()    # definition of iterator \n",
    "with ProgressBar(looper, 'test-array') as pbar:\n",
    "    for i in looper:\n",
    "        out.append(i ** 5 + 2)\n",
    "        # to see the progress bar properly, I am slowing down the loop caculation using time.sleep()\n",
    "        time.sleep(1.5)# obviously you should not use this inside your loop\n",
    "        pbar.inc()\n",
    "out"
   ]
  },
  {
   "cell_type": "markdown",
   "metadata": {},
   "source": [
    "### Example 2"
   ]
  },
  {
   "cell_type": "code",
   "execution_count": 8,
   "metadata": {},
   "outputs": [
    {
     "name": "stdout",
     "output_type": "stream",
     "text": [
      "test-array -------- [████████████████████████████████████████]  1000000/1000000 <100%>  ( 0:00:23 < 0:00:00 ) Complete!               \n"
     ]
    }
   ],
   "source": [
    "# equivalent loop using progress bar\n",
    "out = []\n",
    "\n",
    "looper = range(1000000)    # definition of iterator \n",
    "with ProgressBar(looper, 'test-array') as pbar:\n",
    "    for i in looper:\n",
    "        out.append(i * 5 + 2)\n",
    "        pbar.inc()"
   ]
  },
  {
   "cell_type": "code",
   "execution_count": 9,
   "metadata": {},
   "outputs": [
    {
     "data": {
      "text/plain": [
       "1000000"
      ]
     },
     "execution_count": 9,
     "metadata": {},
     "output_type": "execute_result"
    }
   ],
   "source": [
    "len(out)"
   ]
  },
  {
   "cell_type": "code",
   "execution_count": null,
   "metadata": {},
   "outputs": [],
   "source": []
  }
 ],
 "metadata": {
  "kernelspec": {
   "display_name": "Python 3",
   "language": "python",
   "name": "python3"
  },
  "language_info": {
   "codemirror_mode": {
    "name": "ipython",
    "version": 3
   },
   "file_extension": ".py",
   "mimetype": "text/x-python",
   "name": "python",
   "nbconvert_exporter": "python",
   "pygments_lexer": "ipython3",
   "version": "3.7.3"
  }
 },
 "nbformat": 4,
 "nbformat_minor": 2
}
