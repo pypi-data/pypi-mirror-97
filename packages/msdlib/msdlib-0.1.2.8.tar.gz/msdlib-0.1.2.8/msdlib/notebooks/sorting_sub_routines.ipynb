{
 "cells": [
  {
   "cell_type": "code",
   "execution_count": 5,
   "metadata": {},
   "outputs": [],
   "source": [
    "import numpy as np"
   ]
  },
  {
   "cell_type": "code",
   "execution_count": 1,
   "metadata": {},
   "outputs": [],
   "source": [
    "subrs = ['ProgressBar', 'Filters', 'get_spectrogram', 'grouped_mode', 'get_edges_from_ts', 'moving_slope',\n",
    "         'standardize', 'normalize', 'name_separation', 'plot_time_series', 'plot_heatmap', 'data_gridplot',\n",
    "         'get_color_from_cmap', 'feature_evaluator', 'class_result', 'rsquare_rmse', 'one_hot_encoding', \n",
    "         'SplitDataset']"
   ]
  },
  {
   "cell_type": "code",
   "execution_count": 6,
   "metadata": {},
   "outputs": [
    {
     "data": {
      "text/plain": [
       "['class_result',\n",
       " 'data_gridplot',\n",
       " 'feature_evaluator',\n",
       " 'Filters',\n",
       " 'get_color_from_cmap',\n",
       " 'get_edges_from_ts',\n",
       " 'get_spectrogram',\n",
       " 'grouped_mode',\n",
       " 'moving_slope',\n",
       " 'name_separation',\n",
       " 'normalize',\n",
       " 'one_hot_encoding',\n",
       " 'plot_heatmap',\n",
       " 'plot_time_series',\n",
       " 'ProgressBar',\n",
       " 'rsquare_rmse',\n",
       " 'SplitDataset',\n",
       " 'standardize']"
      ]
     },
     "execution_count": 6,
     "metadata": {},
     "output_type": "execute_result"
    }
   ],
   "source": [
    "[subrs[j] for j in np.argsort([i.lower() for i in subrs])]"
   ]
  },
  {
   "cell_type": "code",
   "execution_count": null,
   "metadata": {},
   "outputs": [],
   "source": []
  }
 ],
 "metadata": {
  "kernelspec": {
   "display_name": "Python 3",
   "language": "python",
   "name": "python3"
  },
  "language_info": {
   "codemirror_mode": {
    "name": "ipython",
    "version": 3
   },
   "file_extension": ".py",
   "mimetype": "text/x-python",
   "name": "python",
   "nbconvert_exporter": "python",
   "pygments_lexer": "ipython3",
   "version": "3.7.3"
  }
 },
 "nbformat": 4,
 "nbformat_minor": 2
}
