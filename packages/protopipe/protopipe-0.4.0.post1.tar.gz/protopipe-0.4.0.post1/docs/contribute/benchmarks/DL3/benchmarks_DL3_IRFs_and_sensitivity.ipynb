{
 "cells": [
  {
   "cell_type": "code",
   "execution_count": 1,
   "metadata": {},
   "outputs": [
    {
     "data": {
      "text/html": [
       "<script>jQuery(function() {if (jQuery(\"body.notebook_app\").length == 0) { jQuery(\".input_area\").toggle(); jQuery(\".prompt\").toggle();}});</script>"
      ]
     },
     "metadata": {},
     "output_type": "display_data"
    }
   ],
   "source": [
    "# Remove input cells at runtime (nbsphinx)\n",
    "import IPython.core.display as d\n",
    "d.display_html('<script>jQuery(function() {if (jQuery(\"body.notebook_app\").length == 0) { jQuery(\".input_area\").toggle(); jQuery(\".prompt\").toggle();}});</script>', raw=True)"
   ]
  },
  {
   "cell_type": "markdown",
   "metadata": {},
   "source": [
    "# Instrument Response Functions (IRFs) and sensitivity"
   ]
  },
  {
   "cell_type": "markdown",
   "metadata": {},
   "source": [
    "**Author(s):**\n",
    "    \n",
    "- Dr. Michele Peresano (CEA-Saclay/IRFU/DAp/LEPCHE), 2020\n",
    "- Alice Donini (INFN Sezione di Trieste and Universita degli Studi di Udine), 2020\n",
    "- Gaia Verna (Aix Marseille Univ, CNRS/IN2P3, CPPM, Marseille, France), 2020\n",
    "\n",
    "based on [pyirf](https://github.com/cta-observatory/pyirf/blob/master/docs/notebooks/) .\n",
    "\n",
    "**Description:**\n",
    "\n",
    "This notebook contains DL3 and benchmarks for the _protopipe_ pipeline. \n",
    "\n",
    "Latest performance results cannot be shown on this public documentation and are therefore hosted at [this RedMine page](https://forge.in2p3.fr/projects/benchmarks-reference-analysis/wiki/Protopipe_performance_data) .\n",
    "\n",
    "Note that:\n",
    "\n",
    "- a more general set of benchmarks is being defined in cta-benchmarks/ctaplot,\n",
    "- follow [this](https://www.overleaf.com/16933164ghbhvjtchknf) document by adding new benchmarks or proposing new ones.\n",
    "\n",
    "**Requirements:**\n",
    "\n",
    "To run this notebook you will need a set of DL2 files produced on the grid with a performance script such as ``make_performance_EventDisplay.py`` .\n",
    "\n",
    "The MC production to be used and the appropriate set of files to use for this notebook can be found [here](https://forge.in2p3.fr/projects/step-by-step-reference-mars-analysis/wiki#The-MC-sample ).\n",
    "\n",
    "The DL2 data format required to run the notebook is the current one used by _protopipe_ , but it will converge to the one from _ctapipe_.\n",
    "\n",
    "**Development and testing:**  \n",
    "\n",
    "As with any other part of _protopipe_ and being part of the official repository, this notebook can be further developed by any interested contributor.  \n",
    "The execution of this notebook is not currently automatic, it must be done locally by the user - preferably _before_ pushing a pull-request. \n",
    "\n",
    "**IMPORTANT:** Please, if you wish to contribute to this notebook, before pushing anything to your branch (better even before opening the PR) clear all the output and remove any local directory paths that you used for testing (leave empty strings).\n",
    "\n",
    "**TODO:**  \n",
    "- ..."
   ]
  },
  {
   "cell_type": "markdown",
   "metadata": {},
   "source": [
    "## Table of contents\n",
    "\n",
    "* [Optimized cuts](#Optimized-cuts)\n",
    "    - [Direction cut](#Direction-cut)\n",
    "    - [Gamma/Hadron separation](#Gamma/Hadron-separation)\n",
    "* [Differential sensitivity from cuts optimization](#Differential-sensitivity-from-cuts-optimization)\n",
    "* [Sensitivity against requirements](#Sensitivity-against-requirements)\n",
    "* [Sensitivity comparison between pipelines](#Sensitivity-comparison-between-pipelines)\n",
    "* [IRFs](#IRFs)\n",
    "    - [Effective area](#Effective-area)\n",
    "    - [Point Spread Function](#Point-Spread-Function)\n",
    "        + [Angular resolution](#Angular-resolution)\n",
    "    - [Energy dispersion](#Energy-dispersion)\n",
    "        + [Energy resolution](#Energy-resolution)\n",
    "    - [Background rate](#Background-rate)"
   ]
  },
  {
   "cell_type": "markdown",
   "metadata": {
    "nbsphinx": "hidden"
   },
   "source": [
    "## Imports\n",
    "[back to top](#Table-of-contents)"
   ]
  },
  {
   "cell_type": "code",
   "execution_count": null,
   "metadata": {},
   "outputs": [],
   "source": [
    "# From the standard library\n",
    "import os\n",
    "from pathlib import Path\n",
    "\n",
    "# From pyirf\n",
    "import pyirf\n",
    "from pyirf.binning import bin_center\n",
    "from pyirf.utils import cone_solid_angle\n",
    "\n",
    "# From other 3rd-party libraries\n",
    "import numpy as np\n",
    "import astropy.units as u\n",
    "from astropy.io import fits\n",
    "from astropy.table import QTable, Table, Column\n",
    "import uproot\n",
    "\n",
    "import matplotlib.pyplot as plt\n",
    "from matplotlib.ticker import ScalarFormatter\n",
    "%matplotlib inline\n",
    "plt.rcParams['figure.figsize'] = (9, 6)"
   ]
  },
  {
   "cell_type": "markdown",
   "metadata": {
    "nbsphinx": "hidden"
   },
   "source": [
    "## Input data\n",
    "[back to top](#Table-of-contents)"
   ]
  },
  {
   "cell_type": "code",
   "execution_count": null,
   "metadata": {},
   "outputs": [],
   "source": [
    "# First we check if a _plots_ folder exists already.  \n",
    "# If not, we create it.\n",
    "Path(\"./plots\").mkdir(parents=True, exist_ok=True)"
   ]
  },
  {
   "cell_type": "markdown",
   "metadata": {
    "nbsphinx": "hidden"
   },
   "source": [
    "### Protopipe\n",
    "[back to top](#Table-of-contents)"
   ]
  },
  {
   "cell_type": "code",
   "execution_count": null,
   "metadata": {},
   "outputs": [],
   "source": [
    "#Path to the performance folder\n",
    "parent_dir = \"\" # path to 'analyses' folder\n",
    "analysisName = \"\"\n",
    "infile = \"\""
   ]
  },
  {
   "cell_type": "code",
   "execution_count": null,
   "metadata": {},
   "outputs": [],
   "source": [
    "production = infile.split(\"protopipe_\")[1].split(\"_Time\")[0]\n",
    "protopipe_file = Path(parent_dir, analysisName, \"data/DL3\", infile)"
   ]
  },
  {
   "cell_type": "markdown",
   "metadata": {
    "nbsphinx": "hidden"
   },
   "source": [
    "### ASWG performance\n",
    "[back to top](#Table-of-contents)"
   ]
  },
  {
   "cell_type": "code",
   "execution_count": null,
   "metadata": {},
   "outputs": [],
   "source": [
    "parent_dir_aswg = \"\""
   ]
  },
  {
   "cell_type": "code",
   "execution_count": null,
   "metadata": {},
   "outputs": [],
   "source": [
    "# MARS performance (available here: https://forge.in2p3.fr/projects/step-by-step-reference-mars-analysis/wiki)\n",
    "indir_CTAMARS = \"\"\n",
    "infile_CTAMARS = \"SubarrayLaPalma_4L15M_south_IFAE_50hours_20190630.root\"\n",
    "MARS_performance = uproot.open(Path(parent_dir_aswg, indir_CTAMARS, infile_CTAMARS))\n",
    "MARS_label = \"CTAMARS (2019)\"\n",
    "\n",
    "# ED performance (available here: https://forge.in2p3.fr/projects/cta_analysis-and-simulations/wiki/Prod3b_based_instrument_response_functions)\n",
    "indir_ED = \"\"\n",
    "infile_ED = \"CTA-Performance-North-20deg-S-50h_20181203.root\"\n",
    "ED_performance = uproot.open(Path(parent_dir_aswg, indir_ED, infile_ED))\n",
    "ED_label = \"EventDisplay (2018)\""
   ]
  },
  {
   "cell_type": "markdown",
   "metadata": {
    "nbsphinx": "hidden"
   },
   "source": [
    "### Requirements\n",
    "[back to top](#Table-of-contents)"
   ]
  },
  {
   "cell_type": "code",
   "execution_count": null,
   "metadata": {},
   "outputs": [],
   "source": [
    "indir = './requirements'\n",
    "\n",
    "site = 'North'\n",
    "obs_time = '50h'\n",
    "\n",
    "# Full array\n",
    "infiles = dict(sens=f'/{site}-{obs_time}.dat')\n",
    "requirements = dict()\n",
    "for key in infiles.keys():\n",
    "    requirements[key] = Table.read(indir + infiles[key], format='ascii')\n",
    "requirements['sens'].add_column(Column(data=(10**requirements['sens']['col1']), name='ENERGY'))\n",
    "requirements['sens'].add_column(Column(data=requirements['sens']['col2'], name='SENSITIVITY'))"
   ]
  },
  {
   "cell_type": "markdown",
   "metadata": {},
   "source": [
    "## Optimized cuts\n",
    "[back to top](#Table-of-contents)"
   ]
  },
  {
   "cell_type": "markdown",
   "metadata": {},
   "source": [
    "### Direction\n",
    "[back to top](#Table-of-contents)"
   ]
  },
  {
   "cell_type": "code",
   "execution_count": null,
   "metadata": {},
   "outputs": [],
   "source": [
    "# protopipe\n",
    "rad_max = QTable.read(protopipe_file, hdu='RAD_MAX')[0]\n",
    "plt.errorbar(\n",
    "    0.5 * (rad_max['ENERG_LO'] + rad_max['ENERG_HI'])[1:-1].to_value(u.TeV),\n",
    "    rad_max['RAD_MAX'].T[1:-1, 0].to_value(u.deg),\n",
    "    xerr=0.5 * (rad_max['ENERG_HI'] - rad_max['ENERG_LO'])[1:-1].to_value(u.TeV),\n",
    "    ls='',\n",
    "    label='protopipe',\n",
    "    color='DarkOrange'\n",
    ")\n",
    "\n",
    "# ED\n",
    "theta_cut_ed, edges = ED_performance['ThetaCut;1'].to_numpy()\n",
    "plt.errorbar(\n",
    "    bin_center(10**edges),\n",
    "    theta_cut_ed,\n",
    "    xerr=np.diff(10**edges),\n",
    "    ls='',\n",
    "    label='EventDisplay',\n",
    "    color='DarkGreen'\n",
    ")\n",
    "\n",
    "# MARS\n",
    "theta_cut_ed = np.sqrt(MARS_performance['Theta2Cut;1'].to_numpy()[0])\n",
    "edges = MARS_performance['Theta2Cut;1'].to_numpy()[1]\n",
    "plt.errorbar(\n",
    "    bin_center(10**edges),\n",
    "    theta_cut_ed,\n",
    "    xerr=np.diff(10**edges),\n",
    "    ls='',\n",
    "    label='MARS',\n",
    "    color='DarkBlue'\n",
    ")\n",
    "\n",
    "plt.legend()\n",
    "plt.ylabel('Direction cut [deg]')\n",
    "plt.xlabel('Reconstructed energy [TeV]')\n",
    "plt.xscale('log')\n",
    "plt.title(production)\n",
    "plt.grid()\n",
    "\n",
    "None # to remove clutter by mpl objects"
   ]
  },
  {
   "cell_type": "markdown",
   "metadata": {},
   "source": [
    "### Gamma/Hadron separation\n",
    "[back to top](#Table-of-contents)"
   ]
  },
  {
   "cell_type": "code",
   "execution_count": null,
   "metadata": {},
   "outputs": [],
   "source": [
    "# protopipe\n",
    "gh_cut = QTable.read(protopipe_file, hdu='GH_CUTS')[1:-1]\n",
    "plt.errorbar(\n",
    "    0.5 * (gh_cut['low'] + gh_cut['high']).to_value(u.TeV),\n",
    "    gh_cut['cut'],\n",
    "    xerr=0.5 * (gh_cut['high'] - gh_cut['low']).to_value(u.TeV),\n",
    "    ls='',\n",
    "    label='protopipe',\n",
    "    color='DarkOrange'\n",
    ")\n",
    "\n",
    "plt.legend()\n",
    "plt.ylabel('gamma/hadron cut')\n",
    "plt.xlabel('Reconstructed energy [TeV]')\n",
    "plt.xscale('log')\n",
    "plt.title(production)\n",
    "plt.grid()\n",
    "\n",
    "None # to remove clutter by mpl objects"
   ]
  },
  {
   "cell_type": "markdown",
   "metadata": {},
   "source": [
    "## Differential sensitivity from cuts optimization\n",
    "[back to top](#Table-of-contents)"
   ]
  },
  {
   "cell_type": "code",
   "execution_count": null,
   "metadata": {},
   "outputs": [],
   "source": [
    "# [1:-1] removes under/overflow bins\n",
    "sensitivity_protopipe = QTable.read(protopipe_file, hdu='SENSITIVITY')[1:-1]\n",
    "\n",
    "# make it print nice\n",
    "sensitivity_protopipe['reco_energy_low'].info.format = '.3g'\n",
    "sensitivity_protopipe['reco_energy_high'].info.format = '.3g'\n",
    "sensitivity_protopipe['reco_energy_center'].info.format = '.3g'\n",
    "sensitivity_protopipe['relative_sensitivity'].info.format = '.2g'\n",
    "sensitivity_protopipe['flux_sensitivity'].info.format = '.3g'\n",
    "\n",
    "for k in filter(lambda k: k.startswith('n_'), sensitivity_protopipe.colnames):\n",
    "    sensitivity_protopipe[k].info.format = '.1f'\n",
    "\n",
    "sensitivity_protopipe"
   ]
  },
  {
   "cell_type": "markdown",
   "metadata": {},
   "source": [
    "## Sensitivity against requirements\n",
    "[back to top](#Table-of-contents)"
   ]
  },
  {
   "cell_type": "code",
   "execution_count": null,
   "metadata": {},
   "outputs": [],
   "source": [
    "plt.figure(figsize=(12,8))\n",
    "\n",
    "unit = u.Unit('erg cm-2 s-1')\n",
    "\n",
    "# protopipe\n",
    "e = sensitivity_protopipe['reco_energy_center']\n",
    "w = (sensitivity_protopipe['reco_energy_high'] - sensitivity_protopipe['reco_energy_low'])\n",
    "s = (e**2 * sensitivity_protopipe['flux_sensitivity'])\n",
    "\n",
    "plt.errorbar(\n",
    "    e.to_value(u.TeV),\n",
    "    s.to_value(unit),\n",
    "    xerr=w.to_value(u.TeV) / 2,\n",
    "    ls='',\n",
    "    label='protopipe',\n",
    "    color='DarkOrange'\n",
    ")\n",
    "\n",
    "# Add requirements\n",
    "plt.plot(requirements['sens']['ENERGY'], \n",
    "         requirements['sens']['SENSITIVITY'], \n",
    "         color='black', \n",
    "         ls='--', \n",
    "         lw=2, \n",
    "         label='Requirements'\n",
    ")\n",
    "\n",
    "# Style settings\n",
    "plt.title(f'Minimal Flux Satisfying Requirements for {obs_time} - {site} site')\n",
    "plt.xscale(\"log\")\n",
    "plt.yscale(\"log\")\n",
    "plt.ylabel(rf\"$(E^2 \\cdot \\mathrm{{Flux Sensitivity}}) /$ ({unit.to_string('latex')})\")\n",
    "plt.xlabel(\"Reco Energy [TeV]\")\n",
    "\n",
    "plt.grid(which=\"both\")\n",
    "plt.legend()\n",
    "\n",
    "\n",
    "None # to remove clutter by mpl objects\n"
   ]
  },
  {
   "cell_type": "markdown",
   "metadata": {},
   "source": [
    "## Sensitivity comparison between pipelines\n",
    "[back to top](#Table-of-contents)"
   ]
  },
  {
   "cell_type": "code",
   "execution_count": null,
   "metadata": {},
   "outputs": [],
   "source": [
    "plt.figure(figsize=(12,8))\n",
    "fig, (ax_sens, ax_ratio) = plt.subplots(\n",
    "    2, 1,\n",
    "    gridspec_kw={'height_ratios': [4, 1]},\n",
    "    sharex=True,\n",
    ")\n",
    "unit = u.Unit('erg cm-2 s-1')\n",
    "\n",
    "# Add requirements\n",
    "ax_sens.plot(requirements['sens']['ENERGY'], \n",
    "         requirements['sens']['SENSITIVITY'], \n",
    "         color='black', \n",
    "         ls='--', \n",
    "         lw=2, \n",
    "         label='Requirements'\n",
    ")\n",
    "\n",
    "# protopipe\n",
    "e = sensitivity_protopipe['reco_energy_center']\n",
    "w = (sensitivity_protopipe['reco_energy_high'] - sensitivity_protopipe['reco_energy_low'])\n",
    "s_p = (e**2 * sensitivity_protopipe['flux_sensitivity'])\n",
    "ax_sens.errorbar(\n",
    "    e.to_value(u.TeV),\n",
    "    s_p.to_value(unit),\n",
    "    xerr=w.to_value(u.TeV) / 2,\n",
    "    ls='',\n",
    "    label='protopipe',\n",
    "    color='DarkOrange'\n",
    ")\n",
    "\n",
    "# ED\n",
    "s_ED, edges = ED_performance[\"DiffSens\"].to_numpy()\n",
    "yerr = ED_performance[\"DiffSens\"].errors()\n",
    "bins = 10**edges\n",
    "x = bin_center(bins)\n",
    "width = np.diff(bins)\n",
    "ax_sens.errorbar(\n",
    "    x,\n",
    "    s_ED, \n",
    "    xerr=width/2,\n",
    "    yerr=yerr,\n",
    "    label=ED_label,\n",
    "    ls='',\n",
    "    color='DarkGreen'\n",
    ")\n",
    "\n",
    "# MARS\n",
    "s_MARS, edges = MARS_performance[\"DiffSens\"].to_numpy()\n",
    "yerr = MARS_performance[\"DiffSens\"].errors()\n",
    "bins = 10**edges\n",
    "x = bin_center(bins)\n",
    "width = np.diff(bins)\n",
    "ax_sens.errorbar(\n",
    "    x,\n",
    "    s_MARS, \n",
    "    xerr=width/2,\n",
    "    yerr=yerr,\n",
    "    label=MARS_label,\n",
    "    ls='',\n",
    "    color='DarkBlue'\n",
    ")\n",
    "\n",
    "ax_ratio.errorbar(\n",
    "    e.to_value(u.TeV), \n",
    "    s_p.to_value(unit) / s_ED,\n",
    "    xerr=w.to_value(u.TeV)/2,\n",
    "    ls='',\n",
    "    label = \"\",\n",
    "    color='DarkGreen'\n",
    ")\n",
    "ax_ratio.errorbar(\n",
    "    e.to_value(u.TeV), \n",
    "    s_p.to_value(unit) / s_MARS,\n",
    "    xerr=w.to_value(u.TeV)/2,\n",
    "    ls='',\n",
    "    label = \"\",\n",
    "    color='DarkBlue'\n",
    ")\n",
    "ax_ratio.axhline(1, color = 'DarkOrange')\n",
    "\n",
    "ax_ratio.set_yscale('log')\n",
    "ax_ratio.set_xlabel(\"Reconstructed energy [TeV]\")\n",
    "ax_ratio.set_ylabel('Ratio')\n",
    "ax_ratio.grid()\n",
    "ax_ratio.yaxis.set_major_formatter(ScalarFormatter())\n",
    "\n",
    "ax_ratio.set_ylim(0.5, 2.0)\n",
    "ax_ratio.set_yticks([0.5, 2/3, 1, 3/2, 2])\n",
    "ax_ratio.set_yticks([], minor=True)\n",
    "\n",
    "# Style settings\n",
    "ax_sens.set_title(f'Minimal Flux Satisfying Requirements for 50 hours \\n {production}')\n",
    "ax_sens.set_xscale(\"log\")\n",
    "ax_sens.set_yscale(\"log\")\n",
    "ax_sens.set_ylabel(rf\"$E^2 \\cdot \\mathrm{{Flux Sensitivity}} $ [{unit.to_string('latex')}]\")\n",
    "\n",
    "ax_sens.grid(which=\"both\")\n",
    "ax_sens.legend()\n",
    "fig.tight_layout(h_pad=0)\n",
    "\n",
    "\n",
    "None # to remove clutter by mpl objects"
   ]
  },
  {
   "cell_type": "markdown",
   "metadata": {},
   "source": [
    "## IRFs\n",
    "[back to top](#Table-of-contents)"
   ]
  },
  {
   "cell_type": "markdown",
   "metadata": {},
   "source": [
    "### Effective area\n",
    "[back to top](#Table-of-contents)"
   ]
  },
  {
   "cell_type": "code",
   "execution_count": null,
   "metadata": {},
   "outputs": [],
   "source": [
    "# protopipe\n",
    "# uncomment the other strings to see effective areas\n",
    "# for the different cut levels. Left out here for better\n",
    "# visibility of the final effective areas.\n",
    "suffix =''\n",
    "#'_NO_CUTS'\n",
    "#'_ONLY_GH'\n",
    "#'_ONLY_THETA'\n",
    "\n",
    "area = QTable.read(protopipe_file, hdu='EFFECTIVE_AREA' + suffix)[0]\n",
    "plt.errorbar(\n",
    "    0.5 * (area['ENERG_LO'] + area['ENERG_HI']).to_value(u.TeV)[1:-1],\n",
    "    area['EFFAREA'].to_value(u.m**2).T[1:-1, 0],\n",
    "    xerr=0.5 * (area['ENERG_LO'] - area['ENERG_HI']).to_value(u.TeV)[1:-1],\n",
    "    ls='',\n",
    "    label='protopipe ' + suffix,\n",
    "    color='DarkOrange'\n",
    ")\n",
    "    \n",
    "# ED\n",
    "y, edges = ED_performance[\"EffectiveAreaEtrue\"].to_numpy()\n",
    "yerr = ED_performance[\"EffectiveAreaEtrue\"].errors()\n",
    "x = bin_center(10**edges)\n",
    "xerr = 0.5 * np.diff(10**edges)\n",
    "plt.errorbar(x, \n",
    "             y, \n",
    "             xerr=xerr, \n",
    "             yerr=yerr, \n",
    "             ls='', \n",
    "             label=ED_label,\n",
    "             color='DarkGreen'\n",
    "            )\n",
    "\n",
    "# MARS\n",
    "y, edges = MARS_performance[\"EffectiveAreaEtrue\"].to_numpy()\n",
    "yerr = MARS_performance[\"EffectiveAreaEtrue\"].errors()\n",
    "x = bin_center(10**edges)\n",
    "xerr = 0.5 * np.diff(10**edges)\n",
    "plt.errorbar(x, \n",
    "             y, \n",
    "             xerr=xerr, \n",
    "             yerr=yerr, \n",
    "             ls='', \n",
    "             label=MARS_label,\n",
    "             color='DarkBlue'\n",
    "            )\n",
    "\n",
    "# Style settings\n",
    "plt.xscale(\"log\")\n",
    "plt.yscale(\"log\")\n",
    "plt.xlabel(\"True energy [TeV]\")\n",
    "plt.ylabel(\"Effective collection area [m²]\")\n",
    "plt.title(production)\n",
    "plt.grid(which=\"both\")\n",
    "plt.legend()\n",
    "\n",
    "None # to remove clutter by mpl objects"
   ]
  },
  {
   "cell_type": "markdown",
   "metadata": {},
   "source": [
    "### Point Spread Function\n",
    "[back to top](#Table-of-contents)"
   ]
  },
  {
   "cell_type": "code",
   "execution_count": null,
   "metadata": {},
   "outputs": [],
   "source": [
    "psf_table = QTable.read(protopipe_file, hdu='PSF')[0]\n",
    "# select the only fov offset bin\n",
    "psf = psf_table['RPSF'].T[:, 0, :].to_value(1 / u.sr)\n",
    "\n",
    "offset_bins = np.append(psf_table['RAD_LO'], psf_table['RAD_HI'][-1])\n",
    "phi_bins = np.linspace(0, 2 * np.pi, 100)\n",
    "\n",
    "\n",
    "\n",
    "# Let's make a nice 2d representation of the radially symmetric PSF\n",
    "r, phi = np.meshgrid(offset_bins.to_value(u.deg), phi_bins)\n",
    "\n",
    "# look at a single energy bin\n",
    "# repeat values for each phi bin\n",
    "center = 0.5 * (psf_table['ENERG_LO'] + psf_table['ENERG_HI'])\n",
    "\n",
    "\n",
    "fig = plt.figure(figsize=(15, 5))\n",
    "plt.suptitle(production)\n",
    "axs = [fig.add_subplot(1, 3, i, projection='polar') for i in range(1, 4)]\n",
    "\n",
    "\n",
    "for bin_id, ax in zip([10, 20, 30], axs):\n",
    "    image = np.tile(psf[bin_id], (len(phi_bins) - 1, 1))\n",
    "    \n",
    "    ax.set_title(f'PSF @ {center[bin_id]:.2f} TeV')\n",
    "    ax.pcolormesh(phi, r, image)\n",
    "    ax.set_ylim(0, 0.25)\n",
    "    ax.set_aspect(1)\n",
    "    \n",
    "fig.tight_layout()\n",
    "\n",
    "None # to remove clutter by mpl objects\n"
   ]
  },
  {
   "cell_type": "code",
   "execution_count": null,
   "metadata": {},
   "outputs": [],
   "source": [
    "# Profile\n",
    "center = 0.5 * (offset_bins[1:] + offset_bins[:-1])\n",
    "xerr = 0.5 * (offset_bins[1:] - offset_bins[:-1])\n",
    "\n",
    "for bin_id in [10, 20, 30]:\n",
    "    plt.errorbar(\n",
    "        center.to_value(u.deg),\n",
    "        psf[bin_id],\n",
    "        xerr=xerr.to_value(u.deg),\n",
    "        ls='',\n",
    "        label=f'Energy Bin {bin_id}'\n",
    "    )\n",
    "    \n",
    "#plt.yscale('log')\n",
    "plt.legend()\n",
    "plt.xlim(0, 0.25)\n",
    "plt.ylabel('PSF PDF [sr⁻¹]')\n",
    "plt.xlabel('Distance from True Source [deg]')\n",
    "plt.title(production)\n",
    "plt.grid()\n",
    "\n",
    "None # to remove clutter by mpl objects"
   ]
  },
  {
   "cell_type": "markdown",
   "metadata": {},
   "source": [
    "#### Angular resolution\n",
    "[back to top](#Table-of-contents)"
   ]
  },
  {
   "cell_type": "markdown",
   "metadata": {},
   "source": [
    "NOTE: MARS and EventDisplay Angular Resolution are plotted as a function of Reco Energy, protopipe ones as a function of True Energy"
   ]
  },
  {
   "cell_type": "code",
   "execution_count": null,
   "metadata": {},
   "outputs": [],
   "source": [
    "# protopipe\n",
    "ang_res = QTable.read(protopipe_file, hdu='ANGULAR_RESOLUTION')[1:-1]\n",
    "\n",
    "plt.errorbar(\n",
    "    0.5 * (ang_res['reco_energy_low'] + ang_res['reco_energy_high']).to_value(u.TeV),\n",
    "    ang_res['angular_resolution'].to_value(u.deg),\n",
    "    xerr=0.5 * (ang_res['reco_energy_high'] - ang_res['reco_energy_low']).to_value(u.TeV),\n",
    "    ls='',\n",
    "    label='protopipe',\n",
    "    color='DarkOrange'\n",
    ")\n",
    "\n",
    "# ED\n",
    "y, edges = ED_performance[\"AngRes\"].to_numpy()\n",
    "yerr = ED_performance[\"AngRes\"].errors()\n",
    "x = bin_center(10**edges)\n",
    "xerr = 0.5 * np.diff(10**edges)\n",
    "plt.errorbar(x, \n",
    "             y, \n",
    "             xerr=xerr, \n",
    "             yerr=yerr, \n",
    "             ls='', \n",
    "             label=ED_label,\n",
    "             color='DarkGreen')\n",
    "\n",
    "# MARS\n",
    "y, edges = MARS_performance[\"AngRes\"].to_numpy()\n",
    "yerr = MARS_performance[\"AngRes\"].errors()\n",
    "x = bin_center(10**edges)\n",
    "xerr = 0.5 * np.diff(10**edges)\n",
    "plt.errorbar(x, \n",
    "             y, \n",
    "             xerr=xerr, \n",
    "             yerr=yerr, \n",
    "             ls='', \n",
    "             label=MARS_label,\n",
    "             color='DarkBlue')\n",
    "\n",
    "# Style settings\n",
    "plt.xscale(\"log\")\n",
    "plt.yscale(\"log\")\n",
    "plt.xlabel(\"Reconstructed energy [TeV]\")\n",
    "plt.ylabel(\"Angular Resolution [deg]\")\n",
    "plt.title(production)\n",
    "plt.grid(which=\"both\")\n",
    "plt.legend(loc=\"best\")\n",
    "\n",
    "None # to remove clutter by mpl objects"
   ]
  },
  {
   "cell_type": "markdown",
   "metadata": {},
   "source": [
    "### Energy dispersion\n",
    "[back to top](#Table-of-contents)"
   ]
  },
  {
   "cell_type": "code",
   "execution_count": null,
   "metadata": {},
   "outputs": [],
   "source": [
    "from matplotlib.colors import LogNorm\n",
    "\n",
    "edisp = QTable.read(protopipe_file, hdu='ENERGY_DISPERSION')[0]\n",
    "\n",
    "e_bins = edisp['ENERG_LO'][1:]\n",
    "migra_bins = edisp['MIGRA_LO'][1:]\n",
    "\n",
    "plt.title(production)\n",
    "plt.pcolormesh(e_bins.to_value(u.TeV), \n",
    "               migra_bins, \n",
    "               edisp['MATRIX'].T[1:-1, 1:-1, 0].T,\n",
    "               cmap='inferno',\n",
    "               norm=LogNorm())\n",
    "\n",
    "plt.xscale('log')\n",
    "plt.yscale('log')\n",
    "plt.grid()\n",
    "plt.colorbar(label='PDF Value')\n",
    "\n",
    "plt.xlabel(\"True energy [TeV]\")\n",
    "plt.ylabel(\"Reconstructed energy / True energy\")\n",
    "\n",
    "None # to remove clutter by mpl objects"
   ]
  },
  {
   "cell_type": "markdown",
   "metadata": {},
   "source": [
    "#### Energy resolution\n",
    "[back to top](#Table-of-contents)"
   ]
  },
  {
   "cell_type": "code",
   "execution_count": null,
   "metadata": {},
   "outputs": [],
   "source": [
    "# protopipe\n",
    "bias_resolution = QTable.read(protopipe_file, hdu='ENERGY_BIAS_RESOLUTION')[1:-1]\n",
    "plt.errorbar(\n",
    "    0.5 * (bias_resolution['reco_energy_low'] + bias_resolution['reco_energy_high']).to_value(u.TeV),\n",
    "    bias_resolution['resolution'],\n",
    "    xerr=0.5 * (bias_resolution['reco_energy_high'] - bias_resolution['reco_energy_low']).to_value(u.TeV),\n",
    "    ls='',\n",
    "    label='protopipe',\n",
    "    color='DarkOrange'\n",
    ")\n",
    "plt.xscale('log')\n",
    "\n",
    "\n",
    "# ED\n",
    "y, edges = ED_performance[\"ERes\"].to_numpy()\n",
    "yerr = ED_performance[\"ERes\"].errors()\n",
    "x = bin_center(10**edges)\n",
    "xerr = np.diff(10**edges) / 2\n",
    "plt.errorbar(x, \n",
    "             y, \n",
    "             xerr=xerr, \n",
    "             yerr=yerr, \n",
    "             ls='', \n",
    "             label=ED_label,\n",
    "             color='DarkGreen'\n",
    "            )\n",
    "\n",
    "# MARS\n",
    "y, edges = MARS_performance[\"ERes\"].to_numpy()\n",
    "yerr = MARS_performance[\"ERes\"].errors()\n",
    "x = bin_center(10**edges)\n",
    "xerr = np.diff(10**edges) / 2\n",
    "plt.errorbar(x, \n",
    "             y, \n",
    "             xerr=xerr, \n",
    "             yerr=yerr, \n",
    "             ls='', \n",
    "             label=MARS_label,\n",
    "             color='DarkBlue'\n",
    "            )\n",
    "\n",
    "# Style settings\n",
    "plt.xlabel(\"Reconstructed energy [TeV]\")\n",
    "plt.ylabel(\"Energy resolution\")\n",
    "plt.grid(which=\"both\")\n",
    "plt.legend(loc=\"best\")\n",
    "plt.title(production)\n",
    "\n",
    "None # to remove clutter by mpl objects"
   ]
  },
  {
   "cell_type": "markdown",
   "metadata": {},
   "source": [
    "### Background rate\n",
    "[back to top](#Table-of-contents)"
   ]
  },
  {
   "cell_type": "code",
   "execution_count": null,
   "metadata": {},
   "outputs": [],
   "source": [
    "from pyirf.utils import cone_solid_angle\n",
    "\n",
    "# protopipe\n",
    "bg_rate = QTable.read(protopipe_file, hdu='BACKGROUND')[0]\n",
    "\n",
    "reco_bins = np.append(bg_rate['ENERG_LO'], bg_rate['ENERG_HI'][-1])\n",
    "\n",
    "# first fov bin, [0, 1] deg\n",
    "fov_bin = 0\n",
    "rate_bin = bg_rate['BKG'].T[:, fov_bin]\n",
    "\n",
    "# interpolate theta cut for given e reco bin\n",
    "e_center_bg = 0.5 * (bg_rate['ENERG_LO'] + bg_rate['ENERG_HI'])\n",
    "e_center_theta = 0.5 * (rad_max['ENERG_LO'] + rad_max['ENERG_HI'])\n",
    "theta_cut = np.interp(e_center_bg, e_center_theta, rad_max['RAD_MAX'].T[:, 0])\n",
    "\n",
    "# undo normalization\n",
    "rate_bin *= cone_solid_angle(theta_cut)\n",
    "rate_bin *= np.diff(reco_bins)\n",
    "plt.errorbar(\n",
    "    0.5 * (bg_rate['ENERG_LO'] + bg_rate['ENERG_HI']).to_value(u.TeV)[1:-1],\n",
    "    rate_bin.to_value(1 / u.s)[1:-1],\n",
    "    xerr=np.diff(reco_bins).to_value(u.TeV)[1:-1] / 2,\n",
    "    ls='',\n",
    "    label='protopipe',\n",
    "    color='DarkOrange'\n",
    ")\n",
    "\n",
    "# ED\n",
    "y, edges = ED_performance[\"BGRate\"].to_numpy()\n",
    "yerr = ED_performance[\"BGRate\"].errors()\n",
    "x = bin_center(10**edges)\n",
    "xerr = np.diff(10**edges) / 2\n",
    "plt.errorbar(x, \n",
    "             y, \n",
    "             xerr=xerr, \n",
    "             yerr=yerr, \n",
    "             ls='', \n",
    "             label=ED_label,\n",
    "             color=\"DarkGreen\")\n",
    "\n",
    "\n",
    "# MARS\n",
    "y, edges = MARS_performance[\"BGRate\"].to_numpy()\n",
    "yerr = MARS_performance[\"BGRate\"].errors()\n",
    "x = bin_center(10**edges)\n",
    "xerr = np.diff(10**edges) / 2\n",
    "plt.errorbar(x, \n",
    "             y, \n",
    "             xerr=xerr, \n",
    "             yerr=yerr, \n",
    "             ls='', \n",
    "             label=MARS_label,\n",
    "             color=\"DarkBlue\")\n",
    "\n",
    "\n",
    "# Style settings\n",
    "plt.xscale(\"log\")\n",
    "plt.xlabel(\"Reconstructed energy [TeV]\")\n",
    "plt.ylabel(\"Background rate / (s⁻¹ TeV⁻¹) \")\n",
    "plt.grid(which=\"both\")\n",
    "plt.legend(loc=\"best\")\n",
    "plt.title(production)\n",
    "plt.yscale('log')\n",
    "\n",
    "None # to remove clutter by mpl objects"
   ]
  },
  {
   "cell_type": "code",
   "execution_count": null,
   "metadata": {},
   "outputs": [],
   "source": []
  }
 ],
 "metadata": {
  "kernelspec": {
   "display_name": "Python 3",
   "language": "python",
   "name": "python3"
  },
  "language_info": {
   "codemirror_mode": {
    "name": "ipython",
    "version": 3
   },
   "file_extension": ".py",
   "mimetype": "text/x-python",
   "name": "python",
   "nbconvert_exporter": "python",
   "pygments_lexer": "ipython3",
   "version": "3.7.9"
  }
 },
 "nbformat": 4,
 "nbformat_minor": 4
}
