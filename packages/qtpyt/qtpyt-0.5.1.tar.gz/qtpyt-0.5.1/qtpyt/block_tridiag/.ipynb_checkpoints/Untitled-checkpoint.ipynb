{
 "cells": [
  {
   "cell_type": "code",
   "execution_count": 114,
   "metadata": {},
   "outputs": [],
   "source": [
    "import btmatrix\n",
    "from test_recursive import build_setup, build_simple"
   ]
  },
  {
   "cell_type": "code",
   "execution_count": 126,
   "metadata": {},
   "outputs": [
    {
     "data": {
      "text/plain": [
       "<module 'btmatrix' from '/home/gag/Libraries/transport/transport/blocktridiag/btmatrix.py'>"
      ]
     },
     "execution_count": 126,
     "metadata": {},
     "output_type": "execute_result"
    }
   ],
   "source": [
    "reload(btmatrix)"
   ]
  },
  {
   "cell_type": "code",
   "execution_count": 127,
   "metadata": {},
   "outputs": [],
   "source": [
    "M, m_qii, m_qij, m_qji = build_setup(hermitian=True)"
   ]
  },
  {
   "cell_type": "code",
   "execution_count": 128,
   "metadata": {},
   "outputs": [],
   "source": [
    "btm = btmatrix.BTMatrix(m_qii, m_qij, m_qji)"
   ]
  },
  {
   "cell_type": "code",
   "execution_count": 145,
   "metadata": {},
   "outputs": [],
   "source": [
    "import numba"
   ]
  },
  {
   "cell_type": "code",
   "execution_count": null,
   "metadata": {},
   "outputs": [],
   "source": [
    "@numba.guvectorize('')"
   ]
  },
  {
   "cell_type": "code",
   "execution_count": 153,
   "metadata": {},
   "outputs": [
    {
     "name": "stderr",
     "output_type": "stream",
     "text": [
      "<ipython-input-153-f4b5a81b3f07>:1: NumbaWarning: \n",
      "Compilation is falling back to object mode WITHOUT looplifting enabled because Function \"g\" failed type inference due to: No implementation of function Function(<built-in function setitem>) found for signature:\n",
      " \n",
      " >>> setitem(array(complex128, 1d, A), int64, array(complex128, 1d, C))\n",
      " \n",
      "There are 16 candidate implementations:\n",
      "    - Of which 16 did not match due to:\n",
      "    Overload of function 'setitem': File: <numerous>: Line N/A.\n",
      "      With argument(s): '(array(complex128, 1d, A), int64, array(complex128, 1d, C))':\n",
      "     No match.\n",
      "\n",
      "During: typing of setitem at <ipython-input-153-f4b5a81b3f07> (4)\n",
      "\n",
      "File \"<ipython-input-153-f4b5a81b3f07>\", line 4:\n",
      "def g(x, y, res):\n",
      "    <source elided>\n",
      "    for i in range(x.shape[0]):\n",
      "        res[i] = x[i,:] + y[i,:]\n",
      "        ^\n",
      "\n",
      "  @numba.guvectorize(['(c16[:,:],c16[:,:],c16[:])'],'(n,n),(n,n)->(n)')\n",
      "/home/gag/anaconda3/lib/python3.7/site-packages/numba/core/object_mode_passes.py:178: NumbaWarning: Function \"g\" was compiled in object mode without forceobj=True.\n",
      "\n",
      "File \"<ipython-input-153-f4b5a81b3f07>\", line 2:\n",
      "@numba.guvectorize(['(c16[:,:],c16[:,:],c16[:])'],'(n,n),(n,n)->(n)')\n",
      "def g(x, y, res):\n",
      "^\n",
      "\n",
      "  state.func_ir.loc))\n",
      "/home/gag/anaconda3/lib/python3.7/site-packages/numba/core/object_mode_passes.py:188: NumbaDeprecationWarning: \n",
      "Fall-back from the nopython compilation path to the object mode compilation path has been detected, this is deprecated behaviour.\n",
      "\n",
      "For more information visit https://numba.pydata.org/numba-doc/latest/reference/deprecation.html#deprecation-of-object-mode-fall-back-behaviour-when-using-jit\n",
      "\n",
      "File \"<ipython-input-153-f4b5a81b3f07>\", line 2:\n",
      "@numba.guvectorize(['(c16[:,:],c16[:,:],c16[:])'],'(n,n),(n,n)->(n)')\n",
      "def g(x, y, res):\n",
      "^\n",
      "\n",
      "  state.func_ir.loc))\n"
     ]
    }
   ],
   "source": [
    "@numba.guvectorize(['(c16[:,:],c16[:,:],c16[:])'],'(n,n),(n,n)->(n)')\n",
    "def g(x, y, res):\n",
    "    for i in range(x.shape[0]):\n",
    "        res[i] = x[i,:] + y[:,:]"
   ]
  },
  {
   "cell_type": "code",
   "execution_count": null,
   "metadata": {},
   "outputs": [],
   "source": []
  }
 ],
 "metadata": {
  "kernelspec": {
   "display_name": "Python 3",
   "language": "python",
   "name": "python3"
  },
  "language_info": {
   "codemirror_mode": {
    "name": "ipython",
    "version": 3
   },
   "file_extension": ".py",
   "mimetype": "text/x-python",
   "name": "python",
   "nbconvert_exporter": "python",
   "pygments_lexer": "ipython3",
   "version": "3.7.8"
  }
 },
 "nbformat": 4,
 "nbformat_minor": 4
}
