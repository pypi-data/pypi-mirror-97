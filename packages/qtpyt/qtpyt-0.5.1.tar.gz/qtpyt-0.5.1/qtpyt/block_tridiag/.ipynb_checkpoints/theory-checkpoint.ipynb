{
 "cells": [
  {
   "cell_type": "code",
   "execution_count": 1,
   "metadata": {},
   "outputs": [],
   "source": [
    "import sympy"
   ]
  },
  {
   "cell_type": "code",
   "execution_count": 2,
   "metadata": {},
   "outputs": [],
   "source": [
    "def f(i,j):\n",
    "    return sympy.Matrix([f\"a_{i}{j}\"])"
   ]
  },
  {
   "cell_type": "code",
   "execution_count": 3,
   "metadata": {},
   "outputs": [],
   "source": [
    "G = sympy.MatrixSymbol('G',4,4)"
   ]
  },
  {
   "cell_type": "code",
   "execution_count": 4,
   "metadata": {},
   "outputs": [],
   "source": [
    "L = sympy.MatrixSymbol('L',4,4)"
   ]
  },
  {
   "cell_type": "code",
   "execution_count": 5,
   "metadata": {},
   "outputs": [],
   "source": [
    "A = sympy.Matrix.zeros(4,4)\n",
    "A[0,0] = 1 "
   ]
  },
  {
   "cell_type": "code",
   "execution_count": 6,
   "metadata": {},
   "outputs": [],
   "source": [
    "L = sympy.Matrix(A*L*A)"
   ]
  },
  {
   "cell_type": "code",
   "execution_count": 7,
   "metadata": {},
   "outputs": [],
   "source": [
    "R = sympy.MatrixSymbol('R',4,4)"
   ]
  },
  {
   "cell_type": "code",
   "execution_count": 8,
   "metadata": {},
   "outputs": [],
   "source": [
    "A[0,0] = 0\n",
    "A[-1,-1] = 1"
   ]
  },
  {
   "cell_type": "code",
   "execution_count": 9,
   "metadata": {},
   "outputs": [],
   "source": [
    "R = sympy.Matrix(A*R*A)"
   ]
  },
  {
   "cell_type": "code",
   "execution_count": 10,
   "metadata": {},
   "outputs": [
    {
     "data": {
      "text/latex": [
       "$\\displaystyle \\left[\\begin{matrix}0 & 0 & 0 & 0\\\\0 & 0 & 0 & 0\\\\0 & 0 & 0 & 0\\\\0 & 0 & 0 & R_{3, 3}\\end{matrix}\\right]$"
      ],
      "text/plain": [
       "Matrix([\n",
       "[0, 0, 0,       0],\n",
       "[0, 0, 0,       0],\n",
       "[0, 0, 0,       0],\n",
       "[0, 0, 0, R[3, 3]]])"
      ]
     },
     "execution_count": 10,
     "metadata": {},
     "output_type": "execute_result"
    }
   ],
   "source": [
    "R"
   ]
  },
  {
   "cell_type": "code",
   "execution_count": 11,
   "metadata": {},
   "outputs": [
    {
     "data": {
      "text/latex": [
       "$\\displaystyle \\left[\\begin{matrix}L_{0, 0} & 0 & 0 & 0\\\\0 & 0 & 0 & 0\\\\0 & 0 & 0 & 0\\\\0 & 0 & 0 & 0\\end{matrix}\\right]$"
      ],
      "text/plain": [
       "Matrix([\n",
       "[L[0, 0], 0, 0, 0],\n",
       "[      0, 0, 0, 0],\n",
       "[      0, 0, 0, 0],\n",
       "[      0, 0, 0, 0]])"
      ]
     },
     "execution_count": 11,
     "metadata": {},
     "output_type": "execute_result"
    }
   ],
   "source": [
    "L"
   ]
  },
  {
   "cell_type": "code",
   "execution_count": 12,
   "metadata": {},
   "outputs": [
    {
     "data": {
      "text/latex": [
       "$\\displaystyle \\left[\\begin{matrix}G_{0, 0} & G_{0, 1} & G_{0, 2} & G_{0, 3}\\\\G_{1, 0} & G_{1, 1} & G_{1, 2} & G_{1, 3}\\\\G_{2, 0} & G_{2, 1} & G_{2, 2} & G_{2, 3}\\\\G_{3, 0} & G_{3, 1} & G_{3, 2} & G_{3, 3}\\end{matrix}\\right]$"
      ],
      "text/plain": [
       "Matrix([\n",
       "[G[0, 0], G[0, 1], G[0, 2], G[0, 3]],\n",
       "[G[1, 0], G[1, 1], G[1, 2], G[1, 3]],\n",
       "[G[2, 0], G[2, 1], G[2, 2], G[2, 3]],\n",
       "[G[3, 0], G[3, 1], G[3, 2], G[3, 3]]])"
      ]
     },
     "execution_count": 12,
     "metadata": {},
     "output_type": "execute_result"
    }
   ],
   "source": [
    "G.as_explicit()"
   ]
  },
  {
   "cell_type": "code",
   "execution_count": 18,
   "metadata": {},
   "outputs": [
    {
     "data": {
      "text/latex": [
       "$\\displaystyle \\left[\\begin{array}{cccc}G_{3, 0}^{2} L_{0, 0} R_{3, 3} & G_{3, 0} G_{3, 1} L_{0, 0} R_{3, 3} & G_{3, 0} G_{3, 2} L_{0, 0} R_{3, 3} & G_{3, 0} G_{3, 3} L_{0, 0} R_{3, 3}\\\\0 & 0 & 0 & 0\\\\0 & 0 & 0 & 0\\\\0 & 0 & 0 & 0\\end{array}\\right]$"
      ],
      "text/plain": [
       "Matrix([\n",
       "[G[3, 0]**2*L[0, 0]*R[3, 3], G[3, 0]*G[3, 1]*L[0, 0]*R[3, 3], G[3, 0]*G[3, 2]*L[0, 0]*R[3, 3], G[3, 0]*G[3, 3]*L[0, 0]*R[3, 3]],\n",
       "[                         0,                               0,                               0,                               0],\n",
       "[                         0,                               0,                               0,                               0],\n",
       "[                         0,                               0,                               0,                               0]])"
      ]
     },
     "execution_count": 18,
     "metadata": {},
     "output_type": "execute_result"
    }
   ],
   "source": [
    "sympy.Matrix(L*G.T*R*G)"
   ]
  },
  {
   "cell_type": "code",
   "execution_count": 20,
   "metadata": {},
   "outputs": [
    {
     "data": {
      "text/latex": [
       "$\\displaystyle \\left[\\begin{array}{cccc}G_{0, 3}^{2} L_{0, 0} R_{3, 3} & G_{0, 3} G_{1, 3} L_{0, 0} R_{3, 3} & G_{0, 3} G_{2, 3} L_{0, 0} R_{3, 3} & G_{0, 3} G_{3, 3} L_{0, 0} R_{3, 3}\\\\0 & 0 & 0 & 0\\\\0 & 0 & 0 & 0\\\\0 & 0 & 0 & 0\\end{array}\\right]$"
      ],
      "text/plain": [
       "Matrix([\n",
       "[G[0, 3]**2*L[0, 0]*R[3, 3], G[0, 3]*G[1, 3]*L[0, 0]*R[3, 3], G[0, 3]*G[2, 3]*L[0, 0]*R[3, 3], G[0, 3]*G[3, 3]*L[0, 0]*R[3, 3]],\n",
       "[                         0,                               0,                               0,                               0],\n",
       "[                         0,                               0,                               0,                               0],\n",
       "[                         0,                               0,                               0,                               0]])"
      ]
     },
     "execution_count": 20,
     "metadata": {},
     "output_type": "execute_result"
    }
   ],
   "source": [
    "sympy.Matrix(L*G*R*G.T)"
   ]
  },
  {
   "cell_type": "code",
   "execution_count": 1,
   "metadata": {},
   "outputs": [
    {
     "ename": "NameError",
     "evalue": "name 'sympy' is not defined",
     "output_type": "error",
     "traceback": [
      "\u001b[0;31m---------------------------------------------------------------------------\u001b[0m",
      "\u001b[0;31mNameError\u001b[0m                                 Traceback (most recent call last)",
      "\u001b[0;32m<ipython-input-1-f648ffad5ec2>\u001b[0m in \u001b[0;36m<module>\u001b[0;34m\u001b[0m\n\u001b[0;32m----> 1\u001b[0;31m \u001b[0msympy\u001b[0m\u001b[0;34m.\u001b[0m\u001b[0mMatrix\u001b[0m\u001b[0;34m(\u001b[0m\u001b[0mG\u001b[0m\u001b[0;34m*\u001b[0m\u001b[0mL\u001b[0m\u001b[0;34m*\u001b[0m\u001b[0mG\u001b[0m\u001b[0;34m.\u001b[0m\u001b[0mT\u001b[0m\u001b[0;34m)\u001b[0m\u001b[0;34m\u001b[0m\u001b[0;34m\u001b[0m\u001b[0m\n\u001b[0m",
      "\u001b[0;31mNameError\u001b[0m: name 'sympy' is not defined"
     ]
    }
   ],
   "source": [
    "sympy.Matrix(G*L*G.T)"
   ]
  },
  {
   "cell_type": "code",
   "execution_count": null,
   "metadata": {},
   "outputs": [],
   "source": []
  }
 ],
 "metadata": {
  "kernelspec": {
   "display_name": "Python 3",
   "language": "python",
   "name": "python3"
  },
  "language_info": {
   "codemirror_mode": {
    "name": "ipython",
    "version": 3
   },
   "file_extension": ".py",
   "mimetype": "text/x-python",
   "name": "python",
   "nbconvert_exporter": "python",
   "pygments_lexer": "ipython3",
   "version": "3.7.8"
  }
 },
 "nbformat": 4,
 "nbformat_minor": 4
}
