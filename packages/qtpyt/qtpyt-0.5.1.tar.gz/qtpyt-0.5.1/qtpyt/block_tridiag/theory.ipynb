{
 "cells": [
  {
   "cell_type": "code",
   "execution_count": 1,
   "metadata": {},
   "outputs": [],
   "source": [
    "import sympy"
   ]
  },
  {
   "cell_type": "code",
   "execution_count": 2,
   "metadata": {},
   "outputs": [],
   "source": [
    "def f(i,j):\n",
    "    return sympy.Matrix([f\"a_{i}{j}\"])"
   ]
  },
  {
   "cell_type": "code",
   "execution_count": 3,
   "metadata": {},
   "outputs": [],
   "source": [
    "G = sympy.MatrixSymbol('G',4,4)"
   ]
  },
  {
   "cell_type": "code",
   "execution_count": 4,
   "metadata": {},
   "outputs": [],
   "source": [
    "L = sympy.MatrixSymbol('L',4,4)"
   ]
  },
  {
   "cell_type": "code",
   "execution_count": 5,
   "metadata": {},
   "outputs": [],
   "source": [
    "A = sympy.Matrix.zeros(4,4)\n",
    "A[0,0] = 1 "
   ]
  },
  {
   "cell_type": "code",
   "execution_count": 6,
   "metadata": {},
   "outputs": [],
   "source": [
    "L = sympy.Matrix(A*L*A)"
   ]
  },
  {
   "cell_type": "code",
   "execution_count": 7,
   "metadata": {},
   "outputs": [],
   "source": [
    "R = sympy.MatrixSymbol('R',4,4)"
   ]
  },
  {
   "cell_type": "code",
   "execution_count": 8,
   "metadata": {},
   "outputs": [],
   "source": [
    "A[0,0] = 0\n",
    "A[-1,-1] = 1"
   ]
  },
  {
   "cell_type": "code",
   "execution_count": 9,
   "metadata": {},
   "outputs": [],
   "source": [
    "R = sympy.Matrix(A*R*A)"
   ]
  },
  {
   "cell_type": "code",
   "execution_count": 10,
   "metadata": {},
   "outputs": [
    {
     "data": {
      "text/latex": [
       "$\\displaystyle \\left[\\begin{matrix}0 & 0 & 0 & 0\\\\0 & 0 & 0 & 0\\\\0 & 0 & 0 & 0\\\\0 & 0 & 0 & R_{3, 3}\\end{matrix}\\right]$"
      ],
      "text/plain": [
       "Matrix([\n",
       "[0, 0, 0,       0],\n",
       "[0, 0, 0,       0],\n",
       "[0, 0, 0,       0],\n",
       "[0, 0, 0, R[3, 3]]])"
      ]
     },
     "execution_count": 10,
     "metadata": {},
     "output_type": "execute_result"
    }
   ],
   "source": [
    "R"
   ]
  },
  {
   "cell_type": "code",
   "execution_count": 11,
   "metadata": {},
   "outputs": [
    {
     "data": {
      "text/latex": [
       "$\\displaystyle \\left[\\begin{matrix}L_{0, 0} & 0 & 0 & 0\\\\0 & 0 & 0 & 0\\\\0 & 0 & 0 & 0\\\\0 & 0 & 0 & 0\\end{matrix}\\right]$"
      ],
      "text/plain": [
       "Matrix([\n",
       "[L[0, 0], 0, 0, 0],\n",
       "[      0, 0, 0, 0],\n",
       "[      0, 0, 0, 0],\n",
       "[      0, 0, 0, 0]])"
      ]
     },
     "execution_count": 11,
     "metadata": {},
     "output_type": "execute_result"
    }
   ],
   "source": [
    "L"
   ]
  },
  {
   "cell_type": "code",
   "execution_count": 12,
   "metadata": {},
   "outputs": [
    {
     "data": {
      "text/latex": [
       "$\\displaystyle \\left[\\begin{matrix}G_{0, 0} & G_{0, 1} & G_{0, 2} & G_{0, 3}\\\\G_{1, 0} & G_{1, 1} & G_{1, 2} & G_{1, 3}\\\\G_{2, 0} & G_{2, 1} & G_{2, 2} & G_{2, 3}\\\\G_{3, 0} & G_{3, 1} & G_{3, 2} & G_{3, 3}\\end{matrix}\\right]$"
      ],
      "text/plain": [
       "Matrix([\n",
       "[G[0, 0], G[0, 1], G[0, 2], G[0, 3]],\n",
       "[G[1, 0], G[1, 1], G[1, 2], G[1, 3]],\n",
       "[G[2, 0], G[2, 1], G[2, 2], G[2, 3]],\n",
       "[G[3, 0], G[3, 1], G[3, 2], G[3, 3]]])"
      ]
     },
     "execution_count": 12,
     "metadata": {},
     "output_type": "execute_result"
    }
   ],
   "source": [
    "G.as_explicit()"
   ]
  },
  {
   "cell_type": "code",
   "execution_count": 15,
   "metadata": {},
   "outputs": [],
   "source": [
    "GT = sympy.MatrixSymbol('M',4,4)"
   ]
  },
  {
   "cell_type": "code",
   "execution_count": 16,
   "metadata": {},
   "outputs": [
    {
     "data": {
      "text/latex": [
       "$\\displaystyle \\left[\\begin{array}{cccc}G_{0, 3} L_{0, 0} M_{3, 0} R_{3, 3} & G_{0, 3} L_{0, 0} M_{3, 1} R_{3, 3} & G_{0, 3} L_{0, 0} M_{3, 2} R_{3, 3} & G_{0, 3} L_{0, 0} M_{3, 3} R_{3, 3}\\\\0 & 0 & 0 & 0\\\\0 & 0 & 0 & 0\\\\0 & 0 & 0 & 0\\end{array}\\right]$"
      ],
      "text/plain": [
       "Matrix([\n",
       "[G[0, 3]*L[0, 0]*M[3, 0]*R[3, 3], G[0, 3]*L[0, 0]*M[3, 1]*R[3, 3], G[0, 3]*L[0, 0]*M[3, 2]*R[3, 3], G[0, 3]*L[0, 0]*M[3, 3]*R[3, 3]],\n",
       "[                              0,                               0,                               0,                               0],\n",
       "[                              0,                               0,                               0,                               0],\n",
       "[                              0,                               0,                               0,                               0]])"
      ]
     },
     "execution_count": 16,
     "metadata": {},
     "output_type": "execute_result"
    }
   ],
   "source": [
    "sympy.Matrix(L*G*R*GT)"
   ]
  },
  {
   "cell_type": "code",
   "execution_count": 17,
   "metadata": {},
   "outputs": [
    {
     "data": {
      "text/latex": [
       "$\\displaystyle \\left[\\begin{array}{cccc}0 & 0 & 0 & 0\\\\0 & 0 & 0 & 0\\\\0 & 0 & 0 & 0\\\\G_{3, 0} L_{0, 0} M_{0, 0} R_{3, 3} & G_{3, 0} L_{0, 0} M_{0, 1} R_{3, 3} & G_{3, 0} L_{0, 0} M_{0, 2} R_{3, 3} & G_{3, 0} L_{0, 0} M_{0, 3} R_{3, 3}\\end{array}\\right]$"
      ],
      "text/plain": [
       "Matrix([\n",
       "[                              0,                               0,                               0,                               0],\n",
       "[                              0,                               0,                               0,                               0],\n",
       "[                              0,                               0,                               0,                               0],\n",
       "[G[3, 0]*L[0, 0]*M[0, 0]*R[3, 3], G[3, 0]*L[0, 0]*M[0, 1]*R[3, 3], G[3, 0]*L[0, 0]*M[0, 2]*R[3, 3], G[3, 0]*L[0, 0]*M[0, 3]*R[3, 3]]])"
      ]
     },
     "execution_count": 17,
     "metadata": {},
     "output_type": "execute_result"
    }
   ],
   "source": [
    "sympy.Matrix(R*G*L*GT)"
   ]
  },
  {
   "cell_type": "code",
   "execution_count": 15,
   "metadata": {},
   "outputs": [],
   "source": [
    "GT = sympy.MatrixSymbol('Z',4,4)"
   ]
  },
  {
   "cell_type": "code",
   "execution_count": 22,
   "metadata": {},
   "outputs": [
    {
     "data": {
      "text/latex": [
       "$\\displaystyle \\left[\\begin{array}{cccc}G_{0, 0} L_{0, 0} Z_{0, 0} & G_{0, 0} L_{0, 0} Z_{1, 0} & G_{0, 0} L_{0, 0} Z_{2, 0} & G_{0, 0} L_{0, 0} Z_{3, 0}\\\\G_{1, 0} L_{0, 0} Z_{0, 0} & G_{1, 0} L_{0, 0} Z_{1, 0} & G_{1, 0} L_{0, 0} Z_{2, 0} & G_{1, 0} L_{0, 0} Z_{3, 0}\\\\G_{2, 0} L_{0, 0} Z_{0, 0} & G_{2, 0} L_{0, 0} Z_{1, 0} & G_{2, 0} L_{0, 0} Z_{2, 0} & G_{2, 0} L_{0, 0} Z_{3, 0}\\\\G_{3, 0} L_{0, 0} Z_{0, 0} & G_{3, 0} L_{0, 0} Z_{1, 0} & G_{3, 0} L_{0, 0} Z_{2, 0} & G_{3, 0} L_{0, 0} Z_{3, 0}\\end{array}\\right]$"
      ],
      "text/plain": [
       "Matrix([\n",
       "[G[0, 0]*L[0, 0]*Z[0, 0], G[0, 0]*L[0, 0]*Z[1, 0], G[0, 0]*L[0, 0]*Z[2, 0], G[0, 0]*L[0, 0]*Z[3, 0]],\n",
       "[G[1, 0]*L[0, 0]*Z[0, 0], G[1, 0]*L[0, 0]*Z[1, 0], G[1, 0]*L[0, 0]*Z[2, 0], G[1, 0]*L[0, 0]*Z[3, 0]],\n",
       "[G[2, 0]*L[0, 0]*Z[0, 0], G[2, 0]*L[0, 0]*Z[1, 0], G[2, 0]*L[0, 0]*Z[2, 0], G[2, 0]*L[0, 0]*Z[3, 0]],\n",
       "[G[3, 0]*L[0, 0]*Z[0, 0], G[3, 0]*L[0, 0]*Z[1, 0], G[3, 0]*L[0, 0]*Z[2, 0], G[3, 0]*L[0, 0]*Z[3, 0]]])"
      ]
     },
     "execution_count": 22,
     "metadata": {},
     "output_type": "execute_result"
    }
   ],
   "source": [
    "sympy.Matrix(G*L*GT.T)"
   ]
  },
  {
   "cell_type": "code",
   "execution_count": 23,
   "metadata": {},
   "outputs": [
    {
     "data": {
      "text/latex": [
       "$\\displaystyle \\left[\\begin{array}{cccc}G_{0, 3} R_{3, 3} Z_{0, 3} & G_{0, 3} R_{3, 3} Z_{1, 3} & G_{0, 3} R_{3, 3} Z_{2, 3} & G_{0, 3} R_{3, 3} Z_{3, 3}\\\\G_{1, 3} R_{3, 3} Z_{0, 3} & G_{1, 3} R_{3, 3} Z_{1, 3} & G_{1, 3} R_{3, 3} Z_{2, 3} & G_{1, 3} R_{3, 3} Z_{3, 3}\\\\G_{2, 3} R_{3, 3} Z_{0, 3} & G_{2, 3} R_{3, 3} Z_{1, 3} & G_{2, 3} R_{3, 3} Z_{2, 3} & G_{2, 3} R_{3, 3} Z_{3, 3}\\\\G_{3, 3} R_{3, 3} Z_{0, 3} & G_{3, 3} R_{3, 3} Z_{1, 3} & G_{3, 3} R_{3, 3} Z_{2, 3} & G_{3, 3} R_{3, 3} Z_{3, 3}\\end{array}\\right]$"
      ],
      "text/plain": [
       "Matrix([\n",
       "[G[0, 3]*R[3, 3]*Z[0, 3], G[0, 3]*R[3, 3]*Z[1, 3], G[0, 3]*R[3, 3]*Z[2, 3], G[0, 3]*R[3, 3]*Z[3, 3]],\n",
       "[G[1, 3]*R[3, 3]*Z[0, 3], G[1, 3]*R[3, 3]*Z[1, 3], G[1, 3]*R[3, 3]*Z[2, 3], G[1, 3]*R[3, 3]*Z[3, 3]],\n",
       "[G[2, 3]*R[3, 3]*Z[0, 3], G[2, 3]*R[3, 3]*Z[1, 3], G[2, 3]*R[3, 3]*Z[2, 3], G[2, 3]*R[3, 3]*Z[3, 3]],\n",
       "[G[3, 3]*R[3, 3]*Z[0, 3], G[3, 3]*R[3, 3]*Z[1, 3], G[3, 3]*R[3, 3]*Z[2, 3], G[3, 3]*R[3, 3]*Z[3, 3]]])"
      ]
     },
     "execution_count": 23,
     "metadata": {},
     "output_type": "execute_result"
    }
   ],
   "source": [
    "sympy.Matrix(G*R*GT.T)"
   ]
  },
  {
   "cell_type": "code",
   "execution_count": 24,
   "metadata": {},
   "outputs": [
    {
     "data": {
      "text/latex": [
       "$\\displaystyle \\left[\\begin{matrix}G_{0, 0} & G_{0, 1} & G_{0, 2} & G_{0, 3}\\\\G_{1, 0} & G_{1, 1} & G_{1, 2} & G_{1, 3}\\\\G_{2, 0} & G_{2, 1} & G_{2, 2} & G_{2, 3}\\\\G_{3, 0} & G_{3, 1} & G_{3, 2} & G_{3, 3}\\end{matrix}\\right]$"
      ],
      "text/plain": [
       "Matrix([\n",
       "[G[0, 0], G[0, 1], G[0, 2], G[0, 3]],\n",
       "[G[1, 0], G[1, 1], G[1, 2], G[1, 3]],\n",
       "[G[2, 0], G[2, 1], G[2, 2], G[2, 3]],\n",
       "[G[3, 0], G[3, 1], G[3, 2], G[3, 3]]])"
      ]
     },
     "execution_count": 24,
     "metadata": {},
     "output_type": "execute_result"
    }
   ],
   "source": [
    "G.as_explicit()"
   ]
  },
  {
   "cell_type": "code",
   "execution_count": 25,
   "metadata": {},
   "outputs": [],
   "source": [
    "S = sympy.MatrixSymbol('S',4,4)"
   ]
  },
  {
   "cell_type": "code",
   "execution_count": 26,
   "metadata": {},
   "outputs": [],
   "source": [
    "A[0,0] = 0\n",
    "A[-1,-1] = 0\n",
    "A[-2,-2] = 1"
   ]
  },
  {
   "cell_type": "code",
   "execution_count": 27,
   "metadata": {},
   "outputs": [],
   "source": [
    "S = sympy.Matrix(A*S*A)"
   ]
  },
  {
   "cell_type": "code",
   "execution_count": 28,
   "metadata": {},
   "outputs": [
    {
     "data": {
      "text/latex": [
       "$\\displaystyle \\left[\\begin{array}{cccc}G_{0, 2} S_{2, 2} Z_{0, 2} & G_{0, 2} S_{2, 2} Z_{1, 2} & G_{0, 2} S_{2, 2} Z_{2, 2} & G_{0, 2} S_{2, 2} Z_{3, 2}\\\\G_{1, 2} S_{2, 2} Z_{0, 2} & G_{1, 2} S_{2, 2} Z_{1, 2} & G_{1, 2} S_{2, 2} Z_{2, 2} & G_{1, 2} S_{2, 2} Z_{3, 2}\\\\G_{2, 2} S_{2, 2} Z_{0, 2} & G_{2, 2} S_{2, 2} Z_{1, 2} & G_{2, 2} S_{2, 2} Z_{2, 2} & G_{2, 2} S_{2, 2} Z_{3, 2}\\\\G_{3, 2} S_{2, 2} Z_{0, 2} & G_{3, 2} S_{2, 2} Z_{1, 2} & G_{3, 2} S_{2, 2} Z_{2, 2} & G_{3, 2} S_{2, 2} Z_{3, 2}\\end{array}\\right]$"
      ],
      "text/plain": [
       "Matrix([\n",
       "[G[0, 2]*S[2, 2]*Z[0, 2], G[0, 2]*S[2, 2]*Z[1, 2], G[0, 2]*S[2, 2]*Z[2, 2], G[0, 2]*S[2, 2]*Z[3, 2]],\n",
       "[G[1, 2]*S[2, 2]*Z[0, 2], G[1, 2]*S[2, 2]*Z[1, 2], G[1, 2]*S[2, 2]*Z[2, 2], G[1, 2]*S[2, 2]*Z[3, 2]],\n",
       "[G[2, 2]*S[2, 2]*Z[0, 2], G[2, 2]*S[2, 2]*Z[1, 2], G[2, 2]*S[2, 2]*Z[2, 2], G[2, 2]*S[2, 2]*Z[3, 2]],\n",
       "[G[3, 2]*S[2, 2]*Z[0, 2], G[3, 2]*S[2, 2]*Z[1, 2], G[3, 2]*S[2, 2]*Z[2, 2], G[3, 2]*S[2, 2]*Z[3, 2]]])"
      ]
     },
     "execution_count": 28,
     "metadata": {},
     "output_type": "execute_result"
    }
   ],
   "source": [
    "sympy.Matrix(G*S*GT.T)"
   ]
  },
  {
   "cell_type": "code",
   "execution_count": 31,
   "metadata": {},
   "outputs": [
    {
     "data": {
      "text/latex": [
       "$\\displaystyle \\left[\\begin{array}{cccc}L_{0, 0} Z_{0, 0} & L_{0, 0} Z_{0, 1} & L_{0, 0} Z_{0, 2} & L_{0, 0} Z_{0, 3}\\\\0 & 0 & 0 & 0\\\\0 & 0 & 0 & 0\\\\0 & 0 & 0 & 0\\end{array}\\right]$"
      ],
      "text/plain": [
       "Matrix([\n",
       "[L[0, 0]*Z[0, 0], L[0, 0]*Z[0, 1], L[0, 0]*Z[0, 2], L[0, 0]*Z[0, 3]],\n",
       "[              0,               0,               0,               0],\n",
       "[              0,               0,               0,               0],\n",
       "[              0,               0,               0,               0]])"
      ]
     },
     "execution_count": 31,
     "metadata": {},
     "output_type": "execute_result"
    }
   ],
   "source": [
    "sympy.Matrix(L*GT)"
   ]
  },
  {
   "cell_type": "code",
   "execution_count": 34,
   "metadata": {},
   "outputs": [
    {
     "data": {
      "text/latex": [
       "$\\displaystyle \\left[\\begin{array}{cccc}0 & 0 & 0 & 0\\\\0 & 0 & 0 & 0\\\\0 & 0 & 0 & 0\\\\R_{3, 3} Z_{3, 0} & R_{3, 3} Z_{3, 1} & R_{3, 3} Z_{3, 2} & R_{3, 3} Z_{3, 3}\\end{array}\\right]$"
      ],
      "text/plain": [
       "Matrix([\n",
       "[              0,               0,               0,               0],\n",
       "[              0,               0,               0,               0],\n",
       "[              0,               0,               0,               0],\n",
       "[R[3, 3]*Z[3, 0], R[3, 3]*Z[3, 1], R[3, 3]*Z[3, 2], R[3, 3]*Z[3, 3]]])"
      ]
     },
     "execution_count": 34,
     "metadata": {},
     "output_type": "execute_result"
    }
   ],
   "source": [
    "sympy.Matrix(R*GT)"
   ]
  },
  {
   "cell_type": "code",
   "execution_count": 33,
   "metadata": {},
   "outputs": [
    {
     "data": {
      "text/latex": [
       "$\\displaystyle \\left[\\begin{matrix}Z_{0, 0} & Z_{0, 1} & Z_{0, 2} & Z_{0, 3}\\\\Z_{1, 0} & Z_{1, 1} & Z_{1, 2} & Z_{1, 3}\\\\Z_{2, 0} & Z_{2, 1} & Z_{2, 2} & Z_{2, 3}\\\\Z_{3, 0} & Z_{3, 1} & Z_{3, 2} & Z_{3, 3}\\end{matrix}\\right]$"
      ],
      "text/plain": [
       "Matrix([\n",
       "[Z[0, 0], Z[0, 1], Z[0, 2], Z[0, 3]],\n",
       "[Z[1, 0], Z[1, 1], Z[1, 2], Z[1, 3]],\n",
       "[Z[2, 0], Z[2, 1], Z[2, 2], Z[2, 3]],\n",
       "[Z[3, 0], Z[3, 1], Z[3, 2], Z[3, 3]]])"
      ]
     },
     "execution_count": 33,
     "metadata": {},
     "output_type": "execute_result"
    }
   ],
   "source": [
    "GT.as_explicit()"
   ]
  },
  {
   "cell_type": "markdown",
   "metadata": {},
   "source": [
    "## DYSON"
   ]
  },
  {
   "cell_type": "code",
   "execution_count": 54,
   "metadata": {},
   "outputs": [],
   "source": [
    "G = sympy.MatrixSymbol('G',2,2)"
   ]
  },
  {
   "cell_type": "code",
   "execution_count": 54,
   "metadata": {},
   "outputs": [],
   "source": [
    "l = sympy.symbols('G^0_{00} G^0_{11}')\n",
    "G0 = sympy.Matrix(2, 2, lambda i,j: l[i] if i==j else 0)"
   ]
  },
  {
   "cell_type": "code",
   "execution_count": 66,
   "metadata": {},
   "outputs": [],
   "source": [
    "l = sympy.symbols('U_{01} U_{10}')\n",
    "U = sympy.Matrix(2, 2, lambda i,j: l[i] if i!=j else 0)"
   ]
  }
 ],
 "metadata": {
  "kernelspec": {
   "display_name": "Python 3",
   "language": "python",
   "name": "python3"
  },
  "language_info": {
   "codemirror_mode": {
    "name": "ipython",
    "version": 3
   },
   "file_extension": ".py",
   "mimetype": "text/x-python",
   "name": "python",
   "nbconvert_exporter": "python",
   "pygments_lexer": "ipython3",
   "version": "3.7.8"
  }
 },
 "nbformat": 4,
 "nbformat_minor": 4
}
