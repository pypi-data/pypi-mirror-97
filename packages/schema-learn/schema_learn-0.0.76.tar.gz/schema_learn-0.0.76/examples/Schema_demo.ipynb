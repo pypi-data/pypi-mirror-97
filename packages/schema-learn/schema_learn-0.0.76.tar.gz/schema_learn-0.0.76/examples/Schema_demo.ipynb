{
 "cells": [
  {
   "cell_type": "markdown",
   "metadata": {},
   "source": [
    "### Preamble"
   ]
  },
  {
   "cell_type": "code",
   "execution_count": null,
   "metadata": {},
   "outputs": [],
   "source": [
    "import pandas as pd\n",
    "import numpy as np\n",
    "import matplotlib.pyplot as plt\n",
    "\n",
    "import warnings\n",
    "with warnings.catch_warnings():\n",
    "    warnings.simplefilter(\"ignore\")\n",
    "    import scanpy as sc\n"
   ]
  },
  {
   "cell_type": "code",
   "execution_count": null,
   "metadata": {},
   "outputs": [],
   "source": [
    "## local paths etc. You'll want to change these\n",
    "DATASET_DIR = \"/scratch1/rsingh/work/schema/data/tasic-nature\"\n",
    "import sys; sys.path.extend(['/scratch1/rsingh/tools','/afs/csail.mit.edu/u/r/rsingh/work/schema/'])\n"
   ]
  },
  {
   "cell_type": "markdown",
   "metadata": {},
   "source": [
    "#### Import Schema and tSNE\n",
    "We use fast-tsne here, but use whatever you like"
   ]
  },
  {
   "cell_type": "code",
   "execution_count": null,
   "metadata": {},
   "outputs": [],
   "source": [
    "from fast_tsne import fast_tsne\n",
    "from schema import SchemaQP"
   ]
  },
  {
   "cell_type": "markdown",
   "metadata": {},
   "source": [
    "### Get example data \n",
    "  * This data is from Tasic et al. (Nature 2018, DOI: 10.1038/s41586-018-0654-5 )\n",
    "  * Shell commands to get our copy of the data:\n",
    "    * wget http://schema.csail.mit.edu/datasets/Schema_demo_Tasic2018.h5ad.gz\n",
    "    * gunzip Schema_demo_Tasic2018.h5ad.gz\n",
    "  * The processing of raw data here broadly followed the steps in Kobak & Berens, https://www.biorxiv.org/content/10.1101/453449v1\n",
    "  * The gene expression data has been count-normalized and log-transformed. \n"
   ]
  },
  {
   "cell_type": "code",
   "execution_count": null,
   "metadata": {},
   "outputs": [],
   "source": [
    "adata = sc.read(DATASET_DIR + \"/\" + \"Schema_demo_Tasic2018.h5ad\")"
   ]
  },
  {
   "cell_type": "markdown",
   "metadata": {},
   "source": [
    "### Schema examples\n",
    "  * In all of what follows, the primary dataset is gene expression. The secondary datasets are 1) cluster IDs; and 2) cell-type \"class\" variables which correspond to superclusters (i.e. higher-level clusters) in the Tasic et al. paper.\n",
    "#### Recommendations for parameter settings\n",
    "  * min_desired_corr and w_max_to_avg are the names for the hyperparameters $s_1$ and $\\bar{w}$ from our paper\n",
    "  * *min_desired_corr*: at first, you should try a range of values for min_desired_corr (e.g., 0.99, 0.90, 0.50). This will give you a sense of what might work well for your data; after this, you can progressively narrow down your range. In typical use-cases, high min_desired_corr values (> 0.80) work best.\n",
    "  * *w_max_to_avg*: start by keeping this constraint very loose. This ensures that min_desired_corr remains the binding constraint. Later, as you get a better sense for min_desired_corr values, you can experiment with this too. A value of 100 is pretty high and should work well in the beginning.\n"
   ]
  },
  {
   "cell_type": "markdown",
   "metadata": {},
   "source": [
    "#### With PCA as change-of-basis, min_desired_corr=0.75, positive correlation with secondary datasets"
   ]
  },
  {
   "cell_type": "code",
   "execution_count": null,
   "metadata": {},
   "outputs": [],
   "source": [
    "afx = SchemaQP(0.75) # min_desired_corr is the only required argument.\n",
    "\n",
    "dx_pca = afx.fit_transform(adata.X, # primary dataset\n",
    "                           [adata.obs[\"class\"].values], # one secondary dataset\n",
    "                           ['categorical'] #it has labels, i.e., is a categorical datatype\n",
    "                          )"
   ]
  },
  {
   "cell_type": "markdown",
   "metadata": {},
   "source": [
    "#### Similar to above, with NMF as change-of-basis and a different min_desired_corr"
   ]
  },
  {
   "cell_type": "code",
   "execution_count": null,
   "metadata": {},
   "outputs": [],
   "source": [
    "afx = SchemaQP(0.6, params= {\"decomposition_model\": \"nmf\", \"num_top_components\": 50})\n",
    "\n",
    "dx_nmf = afx.fit_transform(adata.X,\n",
    "                           [adata.obs[\"class\"].values, adata.obs.cluster_id.values], # two secondary datasets \n",
    "                           ['categorical', 'categorical'], # both are labels\n",
    "                           [10, 1] # relative wts\n",
    "                     )"
   ]
  },
  {
   "cell_type": "markdown",
   "metadata": {},
   "source": [
    "#### Now let's do something unusual. Perturb the data so it *disagrees* with cluster ids"
   ]
  },
  {
   "cell_type": "code",
   "execution_count": null,
   "metadata": {},
   "outputs": [],
   "source": [
    "afx = SchemaQP(0.97, # Notice that we bumped up the min_desired_corr so the perturbation is limited \n",
    "               params = {\"decomposition_model\": \"nmf\", \"num_top_components\": 50})\n",
    "\n",
    "dx_perturb = afx.fit_transform(adata.X,\n",
    "                           [adata.obs.cluster_id.values], # could have used both secondary datasets, but one's fine here\n",
    "                           ['categorical'],\n",
    "                           [-1] # This is key: we are putting a negative wt on the correlation\n",
    "                          )"
   ]
  },
  {
   "cell_type": "markdown",
   "metadata": {},
   "source": [
    "### tSNE plots of the baseline and Schema transforms "
   ]
  },
  {
   "cell_type": "code",
   "execution_count": null,
   "metadata": {},
   "outputs": [],
   "source": [
    "fig = plt.figure(constrained_layout=True, figsize=(8,2), dpi=300)\n",
    "tmps = {}\n",
    "for i,p in enumerate([(\"Original\", adata.X), \n",
    "                      (\"PCA1 (pos corr)\", dx_pca), \n",
    "                      (\"NMF (pos corr)\", dx_nmf), \n",
    "                      (\"Perturb (neg corr)\", dx_perturb)\n",
    "                     ]):\n",
    "    titlestr, dx1 = p \n",
    "    ax = fig.add_subplot(1,4,i+1, frameon=False)\n",
    "    tmps[titlestr] = dy = fast_tsne(dx1, seed=42)\n",
    "    ax = plt.gca()\n",
    "    ax.set_aspect('equal', adjustable='datalim')\n",
    "    ax.scatter(dy[:,0], dy[:,1], s=1, color=adata.obs['cluster_color'])\n",
    "    ax.set_title(titlestr)\n",
    "    ax.axis(\"off\")"
   ]
  }
 ],
 "metadata": {
  "kernelspec": {
   "display_name": "Python 3",
   "language": "python",
   "name": "python3"
  },
  "language_info": {
   "codemirror_mode": {
    "name": "ipython",
    "version": 3
   },
   "file_extension": ".py",
   "mimetype": "text/x-python",
   "name": "python",
   "nbconvert_exporter": "python",
   "pygments_lexer": "ipython3",
   "version": "3.6.1"
  },
  "toc": {
   "base_numbering": 1,
   "nav_menu": {},
   "number_sections": true,
   "sideBar": true,
   "skip_h1_title": false,
   "title_cell": "Table of Contents",
   "title_sidebar": "Contents",
   "toc_cell": false,
   "toc_position": {},
   "toc_section_display": true,
   "toc_window_display": false
  },
  "varInspector": {
   "cols": {
    "lenName": 16,
    "lenType": 16,
    "lenVar": 40
   },
   "kernels_config": {
    "python": {
     "delete_cmd_postfix": "",
     "delete_cmd_prefix": "del ",
     "library": "var_list.py",
     "varRefreshCmd": "print(var_dic_list())"
    },
    "r": {
     "delete_cmd_postfix": ") ",
     "delete_cmd_prefix": "rm(",
     "library": "var_list.r",
     "varRefreshCmd": "cat(var_dic_list()) "
    }
   },
   "types_to_exclude": [
    "module",
    "function",
    "builtin_function_or_method",
    "instance",
    "_Feature"
   ],
   "window_display": false
  }
 },
 "nbformat": 4,
 "nbformat_minor": 2
}
