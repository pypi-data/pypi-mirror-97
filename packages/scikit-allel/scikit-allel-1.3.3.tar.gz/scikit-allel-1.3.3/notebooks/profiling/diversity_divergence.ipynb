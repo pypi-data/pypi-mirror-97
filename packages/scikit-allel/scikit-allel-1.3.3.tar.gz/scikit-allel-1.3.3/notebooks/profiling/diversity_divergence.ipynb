{
 "metadata": {
  "name": "",
  "signature": "sha256:7f9e67281f2be98813ed182bf66da5fb61ab87a6b0e63ad5718bc888898924c5"
 },
 "nbformat": 3,
 "nbformat_minor": 0,
 "worksheets": [
  {
   "cells": [
    {
     "cell_type": "code",
     "collapsed": false,
     "input": [
      "import numpy as np\n",
      "np.random.seed(42)\n",
      "import sys\n",
      "import cProfile\n",
      "import humanize\n",
      "def binarysize(n):\n",
      "    return humanize.naturalsize(n, binary=True)\n",
      "import matplotlib.pyplot as plt\n",
      "%matplotlib inline\n",
      "sys.path.insert(0, '../..')\n",
      "%reload_ext memory_profiler\n",
      "%reload_ext autoreload\n",
      "%autoreload 1\n",
      "%aimport allel\n",
      "%aimport allel.model\n",
      "%aimport allel.bcolz\n",
      "%aimport allel.stats\n",
      "%aimport allel.plot\n",
      "allel.__version__"
     ],
     "language": "python",
     "metadata": {},
     "outputs": [
      {
       "metadata": {},
       "output_type": "pyout",
       "prompt_number": 1,
       "text": [
        "'0.8.0.dev4'"
       ]
      }
     ],
     "prompt_number": 1
    },
    {
     "cell_type": "code",
     "collapsed": false,
     "input": [
      "# setup an array of genotype calls\n",
      "shape = n_variants, n_samples, ploidy = 5000000, 100, 2\n",
      "data = np.zeros(shape, dtype='i1')\n",
      "# simulate some mutations\n",
      "n_alleles = n_variants * n_samples * ploidy\n",
      "idx = np.random.randint(0, (n_alleles//2)-1, size=n_alleles//20)\n",
      "data[:, :, 1].reshape((-1))[idx] = 1\n",
      "data[:, :, 0].reshape((-1))[idx[:n_alleles//200]] = 1\n",
      "idx = np.random.randint(0, (n_alleles//2)-1, size=n_alleles//20)\n",
      "data[:, :, 1].reshape((-1))[idx] = 2\n",
      "data[:, :, 0].reshape((-1))[idx[:n_alleles//200]] = 2\n",
      "idx = np.random.randint(0, (n_alleles//2)-1, size=n_alleles//20)\n",
      "data[:, :, 1].reshape((-1))[idx] = 3\n",
      "data[:, :, 0].reshape((-1))[idx[:n_alleles//200]] = 3"
     ],
     "language": "python",
     "metadata": {},
     "outputs": [],
     "prompt_number": 2
    },
    {
     "cell_type": "code",
     "collapsed": false,
     "input": [
      "g = allel.bcolz.GenotypeCArray(data, copy=False)\n",
      "print(binarysize(g.nbytes))"
     ],
     "language": "python",
     "metadata": {},
     "outputs": [
      {
       "output_type": "stream",
       "stream": "stdout",
       "text": [
        "953.7 MiB\n"
       ]
      }
     ],
     "prompt_number": 3
    },
    {
     "cell_type": "code",
     "collapsed": false,
     "input": [
      "ac = g.count_alleles()[:]\n",
      "ac.shape"
     ],
     "language": "python",
     "metadata": {},
     "outputs": [
      {
       "metadata": {},
       "output_type": "pyout",
       "prompt_number": 4,
       "text": [
        "(5000000, 4)"
       ]
      }
     ],
     "prompt_number": 4
    },
    {
     "cell_type": "code",
     "collapsed": false,
     "input": [
      "ac"
     ],
     "language": "python",
     "metadata": {},
     "outputs": [
      {
       "metadata": {},
       "output_type": "pyout",
       "prompt_number": 5,
       "text": [
        "AlleleCountsArray((5000000, 4), dtype=int32)\n",
        "[[161  11  15  13]\n",
        " [177   7   8   8]\n",
        " [170  10   7  13]\n",
        " ..., \n",
        " [170   6  13  11]\n",
        " [168   9  12  11]\n",
        " [171   8  11  10]]"
       ]
      }
     ],
     "prompt_number": 5
    },
    {
     "cell_type": "code",
     "collapsed": false,
     "input": [
      "%timeit mpd = allel.stats.mean_pairwise_diversity(ac)"
     ],
     "language": "python",
     "metadata": {},
     "outputs": [
      {
       "output_type": "stream",
       "stream": "stdout",
       "text": [
        "1 loops, best of 3: 335 ms per loop\n"
       ]
      }
     ],
     "prompt_number": 6
    },
    {
     "cell_type": "code",
     "collapsed": false,
     "input": [
      "import cProfile\n",
      "cProfile.run('allel.stats.mean_pairwise_diversity(ac)', sort='time')"
     ],
     "language": "python",
     "metadata": {},
     "outputs": [
      {
       "output_type": "stream",
       "stream": "stdout",
       "text": [
        "         36 function calls in 0.341 seconds\n",
        "\n",
        "   Ordered by: internal time\n",
        "\n",
        "   ncalls  tottime  percall  cumtime  percall filename:lineno(function)\n",
        "        1    0.171    0.171    0.340    0.340 stats.py:401(mean_pairwise_diversity)\n",
        "        2    0.160    0.080    0.160    0.080 {method 'reduce' of 'numpy.ufunc' objects}\n",
        "        1    0.008    0.008    0.008    0.008 {built-in method where}\n",
        "        1    0.001    0.001    0.341    0.341 <string>:1(<module>)\n",
        "        1    0.000    0.000    0.341    0.341 {built-in method exec}\n",
        "        2    0.000    0.000    0.000    0.000 numeric.py:2428(seterr)\n",
        "        2    0.000    0.000    0.160    0.080 fromnumeric.py:1623(sum)\n",
        "        1    0.000    0.000    0.000    0.000 contextlib.py:37(__init__)\n",
        "        2    0.000    0.000    0.000    0.000 {built-in method isinstance}\n",
        "        2    0.000    0.000    0.000    0.000 numeric.py:2524(geterr)\n",
        "        2    0.000    0.000    0.000    0.000 util.py:11(ignore_invalid)\n",
        "        1    0.000    0.000    0.000    0.000 contextlib.py:63(__exit__)\n",
        "        1    0.000    0.000    0.000    0.000 {built-in method array}\n",
        "        2    0.000    0.000    0.160    0.080 _methods.py:31(_sum)\n",
        "        1    0.000    0.000    0.000    0.000 contextlib.py:124(helper)\n",
        "        1    0.000    0.000    0.000    0.000 util.py:20(asarray_ndim)\n",
        "        2    0.000    0.000    0.000    0.000 {built-in method seterrobj}\n",
        "        1    0.000    0.000    0.000    0.000 numeric.py:394(asarray)\n",
        "        1    0.000    0.000    0.000    0.000 contextlib.py:57(__enter__)\n",
        "        4    0.000    0.000    0.000    0.000 {built-in method geterrobj}\n",
        "        2    0.000    0.000    0.000    0.000 {built-in method next}\n",
        "        1    0.000    0.000    0.000    0.000 {method 'disable' of '_lsprof.Profiler' objects}\n",
        "        1    0.000    0.000    0.000    0.000 {built-in method getattr}\n",
        "        1    0.000    0.000    0.000    0.000 {method 'pop' of 'dict' objects}\n",
        "\n",
        "\n"
       ]
      }
     ],
     "prompt_number": 7
    },
    {
     "cell_type": "code",
     "collapsed": false,
     "input": [
      "pos = np.unique(np.random.randint(1, 100000000, size=n_variants*2))[:n_variants]\n",
      "pos.shape, pos.min(), pos.max(), pos.dtype"
     ],
     "language": "python",
     "metadata": {},
     "outputs": [
      {
       "metadata": {},
       "output_type": "pyout",
       "prompt_number": 8,
       "text": [
        "((5000000,), 3, 52528553, dtype('int64'))"
       ]
      }
     ],
     "prompt_number": 8
    },
    {
     "cell_type": "code",
     "collapsed": false,
     "input": [
      "pi, windows, n_bases, counts = allel.stats.windowed_diversity(pos, ac, size=20000, start=1)"
     ],
     "language": "python",
     "metadata": {},
     "outputs": [],
     "prompt_number": 11
    },
    {
     "cell_type": "code",
     "collapsed": false,
     "input": [
      "plt.hist(pi, bins=20);"
     ],
     "language": "python",
     "metadata": {},
     "outputs": [
      {
       "metadata": {},
       "output_type": "display_data",
       "png": "[encoded data removed]",
       "text": [
        "<matplotlib.figure.Figure at 0x7f3a54857a20>"
       ]
      }
     ],
     "prompt_number": 12
    },
    {
     "cell_type": "code",
     "collapsed": false,
     "input": [
      "%timeit pi, windows, n_bases, counts = allel.stats.windowed_diversity(pos, ac, size=20000, start=1)"
     ],
     "language": "python",
     "metadata": {},
     "outputs": [
      {
       "output_type": "stream",
       "stream": "stdout",
       "text": [
        "1 loops, best of 3: 396 ms per loop\n"
       ]
      }
     ],
     "prompt_number": 9
    },
    {
     "cell_type": "code",
     "collapsed": false,
     "input": [
      "cProfile.run('allel.stats.windowed_diversity(pos, ac, size=20000, start=1)', sort='time')"
     ],
     "language": "python",
     "metadata": {},
     "outputs": [
      {
       "output_type": "stream",
       "stream": "stdout",
       "text": [
        "         31639 function calls in 0.453 seconds\n",
        "\n",
        "   Ordered by: internal time\n",
        "\n",
        "   ncalls  tottime  percall  cumtime  percall filename:lineno(function)\n",
        "     2633    0.204    0.000    0.204    0.000 {method 'reduce' of 'numpy.ufunc' objects}\n",
        "        1    0.175    0.175    0.371    0.371 stats.py:401(mean_pairwise_diversity)\n",
        "        4    0.032    0.008    0.035    0.009 model.py:2049(_check_input_data)\n",
        "     5254    0.010    0.000    0.010    0.000 {method 'searchsorted' of 'numpy.ndarray' objects}\n",
        "        2    0.008    0.004    0.008    0.004 {built-in method where}\n",
        "        1    0.007    0.007    0.054    0.054 stats.py:219(windowed_statistic)\n",
        "     2627    0.005    0.000    0.017    0.000 model.py:2280(locate_range)\n",
        "     2629    0.003    0.000    0.206    0.000 fromnumeric.py:1623(sum)\n",
        "     5254    0.002    0.000    0.012    0.000 fromnumeric.py:955(searchsorted)\n",
        "       11    0.002    0.000    0.002    0.000 {built-in method array}\n",
        "        1    0.001    0.001    0.001    0.001 stats.py:90(_make_position_windows)\n",
        "        1    0.001    0.001    0.453    0.453 stats.py:741(windowed_diversity)\n",
        "     2631    0.001    0.000    0.001    0.000 {built-in method isinstance}\n",
        "     2629    0.001    0.000    0.203    0.000 _methods.py:31(_sum)\n",
        "     7881    0.001    0.000    0.001    0.000 {method 'append' of 'list' objects}\n",
        "        1    0.000    0.000    0.453    0.453 <string>:1(<module>)\n",
        "        1    0.000    0.000    0.453    0.453 {built-in method exec}\n",
        "        4    0.000    0.000    0.003    0.001 fromnumeric.py:1764(any)\n",
        "        1    0.000    0.000    0.000    0.000 stats.py:346(per_base)\n",
        "        2    0.000    0.000    0.035    0.018 model.py:2060(__new__)\n",
        "        5    0.000    0.000    0.000    0.000 numeric.py:464(asanyarray)\n",
        "        2    0.000    0.000    0.000    0.000 util.py:20(asarray_ndim)\n",
        "        2    0.000    0.000    0.015    0.008 {method 'view' of 'numpy.ndarray' objects}\n",
        "        1    0.000    0.000    0.000    0.000 function_base.py:1055(diff)\n",
        "        2    0.000    0.000    0.000    0.000 contextlib.py:37(__init__)\n",
        "        4    0.000    0.000    0.003    0.001 {method 'any' of 'numpy.ndarray' objects}\n",
        "        4    0.000    0.000    0.000    0.000 numeric.py:2428(seterr)\n",
        "        4    0.000    0.000    0.000    0.000 numeric.py:2524(geterr)\n",
        "        2    0.000    0.000    0.015    0.008 model.py:2067(__array_finalize__)\n",
        "        4    0.000    0.000    0.003    0.001 _methods.py:37(_any)\n",
        "        4    0.000    0.000    0.000    0.000 util.py:11(ignore_invalid)\n",
        "        2    0.000    0.000    0.000    0.000 contextlib.py:124(helper)\n",
        "        2    0.000    0.000    0.000    0.000 contextlib.py:63(__exit__)\n",
        "        4    0.000    0.000    0.002    0.000 numeric.py:394(asarray)\n",
        "        1    0.000    0.000    0.000    0.000 model.py:2094(__getitem__)\n",
        "        4    0.000    0.000    0.000    0.000 {built-in method seterrobj}\n",
        "        4    0.000    0.000    0.000    0.000 {built-in method next}\n",
        "        8    0.000    0.000    0.000    0.000 {built-in method geterrobj}\n",
        "        2    0.000    0.000    0.000    0.000 contextlib.py:57(__enter__)\n",
        "        1    0.000    0.000    0.000    0.000 {method 'reshape' of 'numpy.ndarray' objects}\n",
        "        2    0.000    0.000    0.000    0.000 {built-in method getattr}\n",
        "        1    0.000    0.000    0.000    0.000 {built-in method hasattr}\n",
        "        3    0.000    0.000    0.000    0.000 {built-in method len}\n",
        "        2    0.000    0.000    0.000    0.000 {method 'pop' of 'dict' objects}\n",
        "        1    0.000    0.000    0.000    0.000 {method 'disable' of '_lsprof.Profiler' objects}\n",
        "\n",
        "\n"
       ]
      }
     ],
     "prompt_number": 16
    },
    {
     "cell_type": "code",
     "collapsed": false,
     "input": [],
     "language": "python",
     "metadata": {},
     "outputs": []
    }
   ],
   "metadata": {}
  }
 ]
}