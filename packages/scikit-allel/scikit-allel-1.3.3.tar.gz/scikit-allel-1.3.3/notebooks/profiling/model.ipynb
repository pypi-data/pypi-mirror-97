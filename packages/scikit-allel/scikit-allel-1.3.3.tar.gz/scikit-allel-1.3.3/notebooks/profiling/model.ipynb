{
 "cells": [
  {
   "cell_type": "markdown",
   "metadata": {},
   "source": [
    "# Array classes: memory and performance profiling"
   ]
  },
  {
   "cell_type": "code",
   "execution_count": 1,
   "metadata": {
    "collapsed": false
   },
   "outputs": [],
   "source": [
    "import numpy as np\n",
    "np.random.seed(42)\n",
    "import sys\n",
    "import cProfile\n",
    "import humanize\n",
    "import sh\n",
    "sys.path.insert(0, '../..')\n",
    "%reload_ext memory_profiler\n",
    "%reload_ext autoreload\n",
    "%autoreload 1\n",
    "%aimport allel.model\n",
    "%aimport allel.bcolz"
   ]
  },
  {
   "cell_type": "code",
   "execution_count": 2,
   "metadata": {
    "collapsed": false
   },
   "outputs": [],
   "source": [
    "def binarysize(n):\n",
    "    return humanize.naturalsize(n, binary=True)"
   ]
  },
  {
   "cell_type": "code",
   "execution_count": 3,
   "metadata": {
    "collapsed": false
   },
   "outputs": [],
   "source": [
    "# setup an array of genotype calls\n",
    "shape = n_variants, n_samples, ploidy = 50000, 1000, 2\n",
    "data = np.zeros(shape, dtype='i1')\n",
    "# simulate some mutations\n",
    "n_alleles = n_variants * n_samples * ploidy\n",
    "idx = np.random.randint(0, (n_alleles//2)-1, size=n_alleles//20)\n",
    "data[:, :, 1].reshape((-1))[idx] = 1\n",
    "data[:, :, 0].reshape((-1))[idx[:n_alleles//200]] = 1"
   ]
  },
  {
   "cell_type": "markdown",
   "metadata": {},
   "source": [
    "## Total memory size"
   ]
  },
  {
   "cell_type": "markdown",
   "metadata": {},
   "source": [
    "### Contiguous array (numpy)"
   ]
  },
  {
   "cell_type": "code",
   "execution_count": 4,
   "metadata": {
    "collapsed": false
   },
   "outputs": [
    {
     "name": "stdout",
     "output_type": "stream",
     "text": [
      "95.4 MiB\n"
     ]
    }
   ],
   "source": [
    "g = allel.model.GenotypeArray(data, copy=False)\n",
    "print(binarysize(g.nbytes))"
   ]
  },
  {
   "cell_type": "markdown",
   "metadata": {},
   "source": [
    "### Compressed array (bcolz)"
   ]
  },
  {
   "cell_type": "code",
   "execution_count": 5,
   "metadata": {
    "collapsed": false
   },
   "outputs": [
    {
     "name": "stdout",
     "output_type": "stream",
     "text": [
      "16.0 MiB 262\n"
     ]
    }
   ],
   "source": [
    "gc = allel.bcolz.GenotypeCArray(data)\n",
    "print(binarysize(gc.cbytes), gc.chunklen)"
   ]
  },
  {
   "cell_type": "markdown",
   "metadata": {},
   "source": [
    "### Compressed persistent array (bcolz)"
   ]
  },
  {
   "cell_type": "code",
   "execution_count": 6,
   "metadata": {
    "collapsed": false
   },
   "outputs": [
    {
     "data": {
      "text/plain": [
       "'/tmp/tmp_gzbyk3z'"
      ]
     },
     "execution_count": 6,
     "metadata": {},
     "output_type": "execute_result"
    }
   ],
   "source": [
    "import tempfile\n",
    "rootdir = tempfile.mkdtemp()\n",
    "rootdir"
   ]
  },
  {
   "cell_type": "code",
   "execution_count": 7,
   "metadata": {
    "collapsed": false
   },
   "outputs": [
    {
     "name": "stdout",
     "output_type": "stream",
     "text": [
      "16.0 MiB 262\n"
     ]
    }
   ],
   "source": [
    "gcp = allel.bcolz.GenotypeCArray(data, rootdir=rootdir, mode='w')\n",
    "gcp.carr.flush()\n",
    "print(binarysize(gc.cbytes), gc.chunklen)"
   ]
  },
  {
   "cell_type": "markdown",
   "metadata": {},
   "source": [
    "### Arrays with mask "
   ]
  },
  {
   "cell_type": "code",
   "execution_count": 8,
   "metadata": {
    "collapsed": false
   },
   "outputs": [],
   "source": [
    "mask = np.random.randint(0, 2, size=(n_variants, n_samples)).astype('b1')\n",
    "gm = g.copy()\n",
    "gm.mask = mask"
   ]
  },
  {
   "cell_type": "code",
   "execution_count": 9,
   "metadata": {
    "collapsed": true
   },
   "outputs": [],
   "source": [
    "gcm = allel.bcolz.GenotypeCArray(data)\n",
    "gcm.mask = mask"
   ]
  },
  {
   "cell_type": "markdown",
   "metadata": {},
   "source": [
    "### Sparse array (scipy)"
   ]
  },
  {
   "cell_type": "code",
   "execution_count": 10,
   "metadata": {
    "collapsed": false
   },
   "outputs": [
    {
     "data": {
      "text/plain": [
       "<50000x2000 sparse matrix of type '<class 'numpy.int8'>'\n",
       "\twith 5255839 stored elements in Compressed Sparse Row format>"
      ]
     },
     "execution_count": 10,
     "metadata": {},
     "output_type": "execute_result"
    }
   ],
   "source": [
    "m = g.to_sparse(format='csr')\n",
    "m"
   ]
  },
  {
   "cell_type": "code",
   "execution_count": 11,
   "metadata": {
    "collapsed": false
   },
   "outputs": [
    {
     "name": "stdout",
     "output_type": "stream",
     "text": [
      "int8 5.0 MiB 20.0 MiB 195.3 KiB\n"
     ]
    }
   ],
   "source": [
    "print(m.data.dtype, binarysize(m.data.nbytes), binarysize(m.indices.nbytes), binarysize(m.indptr.nbytes))"
   ]
  },
  {
   "cell_type": "markdown",
   "metadata": {},
   "source": [
    "## Genotype counting"
   ]
  },
  {
   "cell_type": "code",
   "execution_count": 12,
   "metadata": {
    "collapsed": false
   },
   "outputs": [
    {
     "data": {
      "text/plain": [
       "(50000000, 50000000, 25003570, 25003570)"
      ]
     },
     "execution_count": 12,
     "metadata": {},
     "output_type": "execute_result"
    }
   ],
   "source": [
    "g.count_called(), gc.count_called(), gcm.count_called(), gm.count_called()"
   ]
  },
  {
   "cell_type": "code",
   "execution_count": 13,
   "metadata": {
    "collapsed": false
   },
   "outputs": [
    {
     "data": {
      "text/plain": [
       "(45241646, 45241646, 22623712, 22623712)"
      ]
     },
     "execution_count": 13,
     "metadata": {},
     "output_type": "execute_result"
    }
   ],
   "source": [
    "g.count_hom_ref(), gc.count_hom_ref(), gm.count_hom_ref(), gcm.count_hom_ref()"
   ]
  },
  {
   "cell_type": "code",
   "execution_count": 14,
   "metadata": {
    "collapsed": false
   },
   "outputs": [
    {
     "data": {
      "text/plain": [
       "(4260869, 4260869, 2130432, 2130432)"
      ]
     },
     "execution_count": 14,
     "metadata": {},
     "output_type": "execute_result"
    }
   ],
   "source": [
    "g.count_het(), gc.count_het(), gm.count_het(), gcm.count_het()"
   ]
  },
  {
   "cell_type": "code",
   "execution_count": 15,
   "metadata": {
    "collapsed": false
   },
   "outputs": [
    {
     "data": {
      "text/plain": [
       "(497485, 497485, 249426, 249426)"
      ]
     },
     "execution_count": 15,
     "metadata": {},
     "output_type": "execute_result"
    }
   ],
   "source": [
    "g.count_hom_alt(), gc.count_hom_alt(), gm.count_hom_alt(), gcm.count_hom_alt() "
   ]
  },
  {
   "cell_type": "code",
   "execution_count": 16,
   "metadata": {
    "collapsed": false
   },
   "outputs": [
    {
     "name": "stdout",
     "output_type": "stream",
     "text": [
      "10 loops, best of 3: 134 ms per loop\n",
      "1 loops, best of 3: 227 ms per loop\n",
      "1 loops, best of 3: 255 ms per loop\n",
      "10 loops, best of 3: 160 ms per loop\n",
      "1 loops, best of 3: 446 ms per loop\n",
      "peak memory: 482.15 MiB, increment: 47.35 MiB\n",
      "peak memory: 435.02 MiB, increment: 0.56 MiB\n",
      "peak memory: 435.15 MiB, increment: 0.09 MiB\n",
      "peak memory: 530.08 MiB, increment: 94.93 MiB\n",
      "peak memory: 435.16 MiB, increment: 0.26 MiB\n"
     ]
    }
   ],
   "source": [
    "sh.sudo.drop_cache()\n",
    "%timeit n = g.count_called()\n",
    "%timeit n = gc.count_called()\n",
    "%timeit n = gcp.count_called()\n",
    "%timeit n = gm.count_called()\n",
    "%timeit n = gcm.count_called()\n",
    "sh.sudo.drop_cache()\n",
    "%memit n = g.count_called()\n",
    "%memit n = gc.count_called()\n",
    "%memit n = gcp.count_called()\n",
    "%memit n = gm.count_called()\n",
    "%memit n = gcm.count_called()"
   ]
  },
  {
   "cell_type": "code",
   "execution_count": 17,
   "metadata": {
    "collapsed": false
   },
   "outputs": [
    {
     "name": "stdout",
     "output_type": "stream",
     "text": [
      "10 loops, best of 3: 167 ms per loop\n",
      "1 loops, best of 3: 271 ms per loop\n",
      "1 loops, best of 3: 291 ms per loop\n",
      "peak memory: 482.61 MiB, increment: 47.85 MiB\n",
      "peak memory: 435.12 MiB, increment: 0.20 MiB\n",
      "peak memory: 435.12 MiB, increment: 0.00 MiB\n"
     ]
    }
   ],
   "source": [
    "%timeit n = g.count_het()\n",
    "%timeit n = gc.count_het()\n",
    "%timeit n = gcp.count_het()\n",
    "%memit n = g.count_het()\n",
    "%memit n = gc.count_het()\n",
    "%memit n = gcp.count_het()"
   ]
  },
  {
   "cell_type": "code",
   "execution_count": 18,
   "metadata": {
    "collapsed": false
   },
   "outputs": [
    {
     "name": "stdout",
     "output_type": "stream",
     "text": [
      "10 loops, best of 3: 140 ms per loop\n",
      "1 loops, best of 3: 228 ms per loop\n",
      "1 loops, best of 3: 260 ms per loop\n",
      "peak memory: 482.49 MiB, increment: 47.69 MiB\n",
      "peak memory: 435.06 MiB, increment: 0.26 MiB\n",
      "peak memory: 435.07 MiB, increment: 0.00 MiB\n"
     ]
    }
   ],
   "source": [
    "%timeit n = g.count_call((0, 1))\n",
    "%timeit n = gc.count_call((0, 1))\n",
    "%timeit n = gcp.count_call((0, 1))\n",
    "%memit n = g.count_call((0, 1))\n",
    "%memit n = gc.count_call((0, 1))\n",
    "%memit n = gcp.count_call((0, 1))"
   ]
  },
  {
   "cell_type": "markdown",
   "metadata": {},
   "source": [
    "## Genotype transformations"
   ]
  },
  {
   "cell_type": "code",
   "execution_count": 19,
   "metadata": {
    "collapsed": false
   },
   "outputs": [
    {
     "name": "stdout",
     "output_type": "stream",
     "text": [
      "1 loops, best of 3: 760 ms per loop\n",
      "1 loops, best of 3: 957 ms per loop\n",
      "1 loops, best of 3: 992 ms per loop\n",
      "peak memory: 591.32 MiB, increment: 143.05 MiB\n",
      "peak memory: 496.57 MiB, increment: 0.62 MiB\n",
      "peak memory: 461.21 MiB, increment: 12.33 MiB\n"
     ]
    }
   ],
   "source": [
    "%timeit gn = g.to_n_alt()\n",
    "%timeit gn = gc.to_n_alt()\n",
    "%timeit gn = gcp.to_n_alt()\n",
    "%memit gn = g.to_n_alt()\n",
    "%memit gn = gc.to_n_alt()\n",
    "%memit gn = gcp.to_n_alt()"
   ]
  },
  {
   "cell_type": "code",
   "execution_count": 20,
   "metadata": {
    "collapsed": false
   },
   "outputs": [
    {
     "data": {
      "text/plain": [
       "CArrayWrapper((50000, 1000), int8)\n",
       "  nbytes: 47.68 MB; cbytes: 13.04 MB; ratio: 3.66\n",
       "  cparams := cparams(clevel=5, shuffle=True, cname='blosclz')\n",
       "[[0 0 0 ..., 0 0 0]\n",
       " [0 1 0 ..., 0 0 0]\n",
       " [0 0 0 ..., 0 0 0]\n",
       " ..., \n",
       " [0 1 0 ..., 0 0 0]\n",
       " [0 0 1 ..., 0 0 0]\n",
       " [0 0 0 ..., 0 0 0]]"
      ]
     },
     "execution_count": 20,
     "metadata": {},
     "output_type": "execute_result"
    }
   ],
   "source": [
    "gc.to_n_alt()"
   ]
  },
  {
   "cell_type": "code",
   "execution_count": 21,
   "metadata": {
    "collapsed": false
   },
   "outputs": [
    {
     "name": "stdout",
     "output_type": "stream",
     "text": [
      "1 loops, best of 3: 263 ms per loop\n",
      "1 loops, best of 3: 642 ms per loop\n",
      "1 loops, best of 3: 662 ms per loop\n",
      "peak memory: 522.63 MiB, increment: 47.63 MiB\n",
      "peak memory: 523.16 MiB, increment: 0.46 MiB\n",
      "peak memory: 488.30 MiB, increment: 12.84 MiB\n"
     ]
    }
   ],
   "source": [
    "%timeit x = g.to_packed()\n",
    "%timeit x = gc.to_packed()\n",
    "%timeit x = gcp.to_packed()\n",
    "%memit x = g.to_packed()\n",
    "%memit x = gc.to_packed()\n",
    "%memit x = gcp.to_packed()"
   ]
  },
  {
   "cell_type": "code",
   "execution_count": 22,
   "metadata": {
    "collapsed": false
   },
   "outputs": [
    {
     "data": {
      "text/plain": [
       "CArrayWrapper((50000, 1000), uint8)\n",
       "  nbytes: 47.68 MB; cbytes: 13.21 MB; ratio: 3.61\n",
       "  cparams := cparams(clevel=5, shuffle=True, cname='blosclz')\n",
       "[[0 0 0 ..., 0 0 0]\n",
       " [0 1 0 ..., 0 0 0]\n",
       " [0 0 0 ..., 0 0 0]\n",
       " ..., \n",
       " [0 1 0 ..., 0 0 0]\n",
       " [0 0 1 ..., 0 0 0]\n",
       " [0 0 0 ..., 0 0 0]]"
      ]
     },
     "execution_count": 22,
     "metadata": {},
     "output_type": "execute_result"
    }
   ],
   "source": [
    "gc.to_packed()"
   ]
  },
  {
   "cell_type": "code",
   "execution_count": 23,
   "metadata": {
    "collapsed": false
   },
   "outputs": [
    {
     "name": "stdout",
     "output_type": "stream",
     "text": [
      "1 loops, best of 3: 1.69 s per loop\n",
      "1 loops, best of 3: 2.15 s per loop\n",
      "1 loops, best of 3: 2.1 s per loop\n",
      "peak memory: 695.87 MiB, increment: 190.74 MiB\n",
      "peak memory: 601.02 MiB, increment: 0.52 MiB\n",
      "peak memory: 509.06 MiB, increment: 3.42 MiB\n"
     ]
    }
   ],
   "source": [
    "%timeit x = g.to_allele_counts()\n",
    "%timeit x = gc.to_allele_counts()\n",
    "%timeit x = gcp.to_allele_counts()\n",
    "%memit x = g.to_allele_counts()\n",
    "%memit x = gc.to_allele_counts()\n",
    "%memit x = gcp.to_allele_counts()"
   ]
  },
  {
   "cell_type": "code",
   "execution_count": 24,
   "metadata": {
    "collapsed": false
   },
   "outputs": [
    {
     "data": {
      "text/plain": [
       "array([[1, 0],\n",
       "       [1, 0],\n",
       "       [1, 0],\n",
       "       ..., \n",
       "       [1, 0],\n",
       "       [1, 0],\n",
       "       [1, 0]])"
      ]
     },
     "execution_count": 24,
     "metadata": {},
     "output_type": "execute_result"
    }
   ],
   "source": [
    "mapping = np.array([[1, 0]] * g.shape[0])\n",
    "mapping"
   ]
  },
  {
   "cell_type": "code",
   "execution_count": 25,
   "metadata": {
    "collapsed": false
   },
   "outputs": [
    {
     "data": {
      "text/plain": [
       "GenotypeArray((50000, 1000, 2), dtype=int8)\n",
       "[[[1 1]\n",
       "  [1 1]\n",
       "  [1 1]\n",
       "  ..., \n",
       "  [1 1]\n",
       "  [1 1]\n",
       "  [1 1]]\n",
       "\n",
       " [[1 1]\n",
       "  [1 0]\n",
       "  [1 1]\n",
       "  ..., \n",
       "  [1 1]\n",
       "  [1 1]\n",
       "  [1 1]]\n",
       "\n",
       " [[1 1]\n",
       "  [1 1]\n",
       "  [1 1]\n",
       "  ..., \n",
       "  [1 1]\n",
       "  [1 1]\n",
       "  [1 1]]\n",
       "\n",
       " ..., \n",
       " [[1 1]\n",
       "  [1 0]\n",
       "  [1 1]\n",
       "  ..., \n",
       "  [1 1]\n",
       "  [1 1]\n",
       "  [1 1]]\n",
       "\n",
       " [[1 1]\n",
       "  [1 1]\n",
       "  [1 0]\n",
       "  ..., \n",
       "  [1 1]\n",
       "  [1 1]\n",
       "  [1 1]]\n",
       "\n",
       " [[1 1]\n",
       "  [1 1]\n",
       "  [1 1]\n",
       "  ..., \n",
       "  [1 1]\n",
       "  [1 1]\n",
       "  [1 1]]]"
      ]
     },
     "execution_count": 25,
     "metadata": {},
     "output_type": "execute_result"
    }
   ],
   "source": [
    "g.map_alleles(mapping)"
   ]
  },
  {
   "cell_type": "code",
   "execution_count": 26,
   "metadata": {
    "collapsed": false
   },
   "outputs": [
    {
     "name": "stdout",
     "output_type": "stream",
     "text": [
      "10 loops, best of 3: 156 ms per loop\n",
      "1 loops, best of 3: 1.21 s per loop\n",
      "1 loops, best of 3: 417 ms per loop\n",
      "1 loops, best of 3: 397 ms per loop\n",
      "peak memory: 890.71 MiB, increment: 0.00 MiB\n",
      "peak memory: 1671.34 MiB, increment: 780.63 MiB\n",
      "peak memory: 1653.73 MiB, increment: 0.08 MiB\n",
      "peak memory: 890.79 MiB, increment: 0.00 MiB\n"
     ]
    }
   ],
   "source": [
    "g2 = g.copy()\n",
    "g3 = g.astype('i2')\n",
    "%timeit x = g2.map_alleles(mapping, copy=False)\n",
    "%timeit x = g3.map_alleles(mapping, copy=False)\n",
    "%timeit x = gc.map_alleles(mapping)\n",
    "%timeit x = gcp.map_alleles(mapping)\n",
    "%memit x = g2.map_alleles(mapping, copy=False)\n",
    "%memit x = g3.map_alleles(mapping, copy=False)\n",
    "%memit x = gc.map_alleles(mapping)\n",
    "%memit x = gcp.map_alleles(mapping)"
   ]
  },
  {
   "cell_type": "code",
   "execution_count": 27,
   "metadata": {
    "collapsed": false
   },
   "outputs": [
    {
     "data": {
      "text/plain": [
       "True"
      ]
     },
     "execution_count": 27,
     "metadata": {},
     "output_type": "execute_result"
    }
   ],
   "source": [
    "np.array_equal(g.map_alleles(mapping), g.astype('i2').map_alleles(mapping))"
   ]
  },
  {
   "cell_type": "markdown",
   "metadata": {},
   "source": [
    "## Allele counting"
   ]
  },
  {
   "cell_type": "code",
   "execution_count": 28,
   "metadata": {
    "collapsed": false
   },
   "outputs": [
    {
     "data": {
      "text/plain": [
       "HaplotypeArray((50000, 2000), dtype=int8)\n",
       "[[0 0 0 ..., 0 0 0]\n",
       " [0 0 0 ..., 0 0 0]\n",
       " [0 0 0 ..., 0 0 0]\n",
       " ..., \n",
       " [0 0 0 ..., 0 0 0]\n",
       " [0 0 0 ..., 0 0 0]\n",
       " [0 0 0 ..., 0 0 0]]"
      ]
     },
     "execution_count": 28,
     "metadata": {},
     "output_type": "execute_result"
    }
   ],
   "source": [
    "h = g.to_haplotypes()\n",
    "h"
   ]
  },
  {
   "cell_type": "code",
   "execution_count": 29,
   "metadata": {
    "collapsed": false
   },
   "outputs": [
    {
     "data": {
      "text/plain": [
       "HaplotypeCArray((50000, 2000), int8)\n",
       "  nbytes: 95.37 MB; cbytes: 15.97 MB; ratio: 5.97\n",
       "  cparams := cparams(clevel=5, shuffle=True, cname='blosclz')\n",
       "[[0 0 0 ..., 0 0 0]\n",
       " [0 0 0 ..., 0 0 0]\n",
       " [0 0 0 ..., 0 0 0]\n",
       " ..., \n",
       " [0 0 0 ..., 0 0 0]\n",
       " [0 0 0 ..., 0 0 0]\n",
       " [0 0 0 ..., 0 0 0]]"
      ]
     },
     "execution_count": 29,
     "metadata": {},
     "output_type": "execute_result"
    }
   ],
   "source": [
    "hc = gc.to_haplotypes()\n",
    "hc"
   ]
  },
  {
   "cell_type": "code",
   "execution_count": 30,
   "metadata": {
    "collapsed": false
   },
   "outputs": [
    {
     "name": "stdout",
     "output_type": "stream",
     "text": [
      "10 loops, best of 3: 97.8 ms per loop\n",
      "1 loops, best of 3: 215 ms per loop\n",
      "peak memory: 890.79 MiB, increment: 0.00 MiB\n",
      "peak memory: 890.79 MiB, increment: 0.00 MiB\n"
     ]
    }
   ],
   "source": [
    "%timeit x = g.max()\n",
    "%timeit x = gc.max()\n",
    "%memit x = g.max()\n",
    "%memit x = gc.max()"
   ]
  },
  {
   "cell_type": "code",
   "execution_count": 31,
   "metadata": {
    "collapsed": false
   },
   "outputs": [
    {
     "name": "stdout",
     "output_type": "stream",
     "text": [
      "10 loops, best of 3: 99.5 ms per loop\n",
      "1 loops, best of 3: 213 ms per loop\n",
      "peak memory: 890.79 MiB, increment: 0.00 MiB\n",
      "peak memory: 890.79 MiB, increment: 0.00 MiB\n"
     ]
    }
   ],
   "source": [
    "%timeit x = h.max()\n",
    "%timeit x = hc.max()\n",
    "%memit x = h.max()\n",
    "%memit x = hc.max()"
   ]
  },
  {
   "cell_type": "code",
   "execution_count": 32,
   "metadata": {
    "collapsed": false
   },
   "outputs": [
    {
     "data": {
      "text/plain": [
       "[<matplotlib.lines.Line2D at 0x7fca7abd4be0>]"
      ]
     },
     "execution_count": 32,
     "metadata": {},
     "output_type": "execute_result"
    },
    {
     "data": {
      "image/png": "[encoded data removed]",
      "text/plain": [
       "<matplotlib.figure.Figure at 0x7fca78a2c438>"
      ]
     },
     "metadata": {},
     "output_type": "display_data"
    }
   ],
   "source": [
    "x = g.count_alleles(max_allele=2)[:, 0]\n",
    "y = gm.count_alleles(max_allele=2)[:, 0]\n",
    "%matplotlib inline\n",
    "import matplotlib.pyplot as plt\n",
    "plt.plot(x, y, 'ko')"
   ]
  },
  {
   "cell_type": "code",
   "execution_count": 33,
   "metadata": {
    "collapsed": false
   },
   "outputs": [
    {
     "name": "stdout",
     "output_type": "stream",
     "text": [
      "10 loops, best of 3: 186 ms per loop\n",
      "1 loops, best of 3: 294 ms per loop\n",
      "1 loops, best of 3: 300 ms per loop\n",
      "1 loops, best of 3: 265 ms per loop\n",
      "1 loops, best of 3: 563 ms per loop\n",
      "peak memory: 898.44 MiB, increment: 0.00 MiB\n",
      "peak memory: 898.49 MiB, increment: 0.05 MiB\n",
      "peak memory: 898.49 MiB, increment: 0.00 MiB\n",
      "peak memory: 898.49 MiB, increment: 0.00 MiB\n",
      "peak memory: 898.49 MiB, increment: 0.00 MiB\n"
     ]
    }
   ],
   "source": [
    "sh.sudo.drop_cache()\n",
    "%timeit x = g.count_alleles(max_allele=2)\n",
    "%timeit x = gc.count_alleles(max_allele=2)\n",
    "%timeit x = gcp.count_alleles(max_allele=2)\n",
    "%timeit x = gm.count_alleles(max_allele=2)\n",
    "%timeit x = gcm.count_alleles(max_allele=2)\n",
    "sh.sudo.drop_cache()\n",
    "%memit x = g.count_alleles(max_allele=2)\n",
    "%memit x = gc.count_alleles(max_allele=2)\n",
    "%memit x = gcp.count_alleles(max_allele=2)\n",
    "%memit x = gm.count_alleles(max_allele=2)\n",
    "%memit x = gcm.count_alleles(max_allele=2)"
   ]
  },
  {
   "cell_type": "code",
   "execution_count": 34,
   "metadata": {
    "collapsed": false
   },
   "outputs": [
    {
     "name": "stdout",
     "output_type": "stream",
     "text": [
      "10 loops, best of 3: 185 ms per loop\n",
      "1 loops, best of 3: 334 ms per loop\n",
      "peak memory: 898.49 MiB, increment: 0.00 MiB\n",
      "peak memory: 898.49 MiB, increment: 0.00 MiB\n"
     ]
    }
   ],
   "source": [
    "%timeit x = h.count_alleles(max_allele=2)\n",
    "%timeit x = hc.count_alleles(max_allele=2)\n",
    "%memit x = h.count_alleles(max_allele=2)\n",
    "%memit x = hc.count_alleles(max_allele=2)"
   ]
  },
  {
   "cell_type": "code",
   "execution_count": 35,
   "metadata": {
    "collapsed": false
   },
   "outputs": [
    {
     "data": {
      "text/plain": [
       "500"
      ]
     },
     "execution_count": 35,
     "metadata": {},
     "output_type": "execute_result"
    }
   ],
   "source": [
    "gsub = np.random.choice(list(range(g.shape[1])), size=(g.shape[1]//2), replace=False)\n",
    "len(gsub)"
   ]
  },
  {
   "cell_type": "code",
   "execution_count": 36,
   "metadata": {
    "collapsed": false
   },
   "outputs": [
    {
     "data": {
      "text/plain": [
       "True"
      ]
     },
     "execution_count": 36,
     "metadata": {},
     "output_type": "execute_result"
    }
   ],
   "source": [
    "np.array_equal(g.count_alleles(max_allele=2, subpop=gsub), \n",
    "               g.take(gsub, axis=1).count_alleles(max_allele=2))"
   ]
  },
  {
   "cell_type": "code",
   "execution_count": 37,
   "metadata": {
    "collapsed": false
   },
   "outputs": [
    {
     "name": "stdout",
     "output_type": "stream",
     "text": [
      "10 loops, best of 3: 121 ms per loop\n",
      "10 loops, best of 3: 173 ms per loop\n",
      "1 loops, best of 3: 223 ms per loop\n",
      "1 loops, best of 3: 365 ms per loop\n",
      "peak memory: 898.82 MiB, increment: 0.00 MiB\n",
      "peak memory: 946.51 MiB, increment: 47.69 MiB\n",
      "peak memory: 899.28 MiB, increment: 0.46 MiB\n",
      "peak memory: 899.28 MiB, increment: 0.00 MiB\n"
     ]
    }
   ],
   "source": [
    "%timeit x = g.count_alleles(max_allele=2, subpop=gsub)\n",
    "%timeit x = g.take(gsub, axis=1).count_alleles(max_allele=2)\n",
    "%timeit x = gc.count_alleles(max_allele=2, subpop=gsub)\n",
    "%timeit x = gc.take(gsub, axis=1).count_alleles(max_allele=2)\n",
    "%memit x = g.count_alleles(max_allele=2, subpop=gsub)\n",
    "%memit x = g.take(gsub, axis=1).count_alleles(max_allele=2)\n",
    "%memit x = gc.count_alleles(max_allele=2, subpop=gsub)\n",
    "%memit x = gc.take(gsub, axis=1).count_alleles(max_allele=2)"
   ]
  },
  {
   "cell_type": "code",
   "execution_count": 38,
   "metadata": {
    "collapsed": false
   },
   "outputs": [
    {
     "name": "stdout",
     "output_type": "stream",
     "text": [
      "10 loops, best of 3: 118 ms per loop\n",
      "1 loops, best of 3: 217 ms per loop\n",
      "1 loops, best of 3: 218 ms per loop\n",
      "1 loops, best of 3: 199 ms per loop\n",
      "1 loops, best of 3: 610 ms per loop\n",
      "peak memory: 899.29 MiB, increment: 0.00 MiB\n",
      "peak memory: 899.29 MiB, increment: 0.00 MiB\n",
      "peak memory: 899.29 MiB, increment: 0.00 MiB\n",
      "peak memory: 899.29 MiB, increment: 0.00 MiB\n",
      "peak memory: 899.29 MiB, increment: 0.00 MiB\n"
     ]
    }
   ],
   "source": [
    "sh.sudo.drop_cache()\n",
    "%timeit x = g.count_alleles(max_allele=2, subpop=gsub)\n",
    "%timeit x = gc.count_alleles(max_allele=2, subpop=gsub)\n",
    "%timeit x = gcp.count_alleles(max_allele=2, subpop=gsub)\n",
    "%timeit x = gm.count_alleles(max_allele=2, subpop=gsub)\n",
    "%timeit x = gcm.count_alleles(max_allele=2, subpop=gsub)\n",
    "sh.sudo.drop_cache()\n",
    "%memit x = g.count_alleles(max_allele=2, subpop=gsub)\n",
    "%memit x = gc.count_alleles(max_allele=2, subpop=gsub)\n",
    "%memit x = gcp.count_alleles(max_allele=2, subpop=gsub)\n",
    "%memit x = gm.count_alleles(max_allele=2, subpop=gsub)\n",
    "%memit x = gcm.count_alleles(max_allele=2, subpop=gsub)"
   ]
  },
  {
   "cell_type": "code",
   "execution_count": 39,
   "metadata": {
    "collapsed": false
   },
   "outputs": [
    {
     "data": {
      "text/plain": [
       "1000"
      ]
     },
     "execution_count": 39,
     "metadata": {},
     "output_type": "execute_result"
    }
   ],
   "source": [
    "hsub = [ploidy*i + n for i in gsub for n in range(ploidy)]\n",
    "len(hsub)"
   ]
  },
  {
   "cell_type": "code",
   "execution_count": 40,
   "metadata": {
    "collapsed": false
   },
   "outputs": [
    {
     "data": {
      "text/plain": [
       "True"
      ]
     },
     "execution_count": 40,
     "metadata": {},
     "output_type": "execute_result"
    }
   ],
   "source": [
    "np.array_equal(h.count_alleles(max_allele=2, subpop=hsub), \n",
    "               h.take(hsub, axis=1).count_alleles(max_allele=2))"
   ]
  },
  {
   "cell_type": "code",
   "execution_count": 41,
   "metadata": {
    "collapsed": false
   },
   "outputs": [
    {
     "name": "stdout",
     "output_type": "stream",
     "text": [
      "10 loops, best of 3: 111 ms per loop\n",
      "10 loops, best of 3: 183 ms per loop\n",
      "1 loops, best of 3: 218 ms per loop\n",
      "1 loops, best of 3: 361 ms per loop\n",
      "peak memory: 899.44 MiB, increment: 0.00 MiB\n",
      "peak memory: 947.13 MiB, increment: 47.69 MiB\n",
      "peak memory: 899.62 MiB, increment: 0.18 MiB\n",
      "peak memory: 899.62 MiB, increment: 0.00 MiB\n"
     ]
    }
   ],
   "source": [
    "%timeit x = h.count_alleles(max_allele=2, subpop=hsub)\n",
    "%timeit x = h.take(hsub, axis=1).count_alleles(max_allele=2)\n",
    "%timeit x = hc.count_alleles(max_allele=2, subpop=hsub)\n",
    "%timeit x = hc.take(hsub, axis=1).count_alleles(max_allele=2)\n",
    "%memit x = h.count_alleles(max_allele=2, subpop=hsub)\n",
    "%memit x = h.take(hsub, axis=1).count_alleles(max_allele=2)\n",
    "%memit x = hc.count_alleles(max_allele=2, subpop=hsub)\n",
    "%memit x = hc.take(hsub, axis=1).count_alleles(max_allele=2)"
   ]
  },
  {
   "cell_type": "code",
   "execution_count": 42,
   "metadata": {
    "collapsed": false
   },
   "outputs": [],
   "source": [
    "gsub1 = np.random.choice(list(range(g.shape[1])), size=(g.shape[1]//4), replace=False)\n",
    "gsub2 = np.random.choice(list(range(g.shape[1])), size=(g.shape[1]//4), replace=False)\n",
    "subpops = {'sub1': gsub1, 'sub2': gsub2}"
   ]
  },
  {
   "cell_type": "code",
   "execution_count": 43,
   "metadata": {
    "collapsed": false
   },
   "outputs": [
    {
     "name": "stdout",
     "output_type": "stream",
     "text": [
      "1 loops, best of 3: 212 ms per loop\n",
      "1 loops, best of 3: 354 ms per loop\n",
      "peak memory: 899.71 MiB, increment: 0.00 MiB\n",
      "peak memory: 899.71 MiB, increment: 0.00 MiB\n"
     ]
    }
   ],
   "source": [
    "%timeit gc.count_alleles_subpops(max_allele=2, subpops=subpops)\n",
    "%timeit {name: gc.count_alleles(max_allele=2, subpop=subpop) for name, subpop in subpops.items()}\n",
    "%memit gc.count_alleles_subpops(max_allele=2, subpops=subpops)\n",
    "%memit {name: gc.count_alleles(max_allele=2, subpop=subpop) for name, subpop in subpops.items()}"
   ]
  },
  {
   "cell_type": "code",
   "execution_count": 44,
   "metadata": {
    "collapsed": false
   },
   "outputs": [
    {
     "data": {
      "text/html": [
       "<table class='petl'>\n",
       "<thead>\n",
       "<tr>\n",
       "<th>sub1</th>\n",
       "<th>sub2</th>\n",
       "</tr>\n",
       "</thead>\n",
       "<tbody>\n",
       "<tr>\n",
       "<td>[470  30   0]</td>\n",
       "<td>[468  32   0]</td>\n",
       "</tr>\n",
       "<tr>\n",
       "<td>[471  29   0]</td>\n",
       "<td>[467  33   0]</td>\n",
       "</tr>\n",
       "<tr>\n",
       "<td>[466  34   0]</td>\n",
       "<td>[482  18   0]</td>\n",
       "</tr>\n",
       "<tr>\n",
       "<td>[476  24   0]</td>\n",
       "<td>[466  34   0]</td>\n",
       "</tr>\n",
       "<tr>\n",
       "<td>[480  20   0]</td>\n",
       "<td>[476  24   0]</td>\n",
       "</tr>\n",
       "</tbody>\n",
       "</table>\n"
      ],
      "text/plain": [
       "AlleleCountsCTable((50000,), [('sub1', '<i4', (3,)), ('sub2', '<i4', (3,))])\n",
       "  nbytes: 1.14 MB; cbytes: 681.43 KB; ratio: 1.72\n",
       "  cparams := cparams(clevel=5, shuffle=True, cname='blosclz')\n",
       "[([470, 30, 0], [468, 32, 0]) ([471, 29, 0], [467, 33, 0])\n",
       " ([466, 34, 0], [482, 18, 0]) ..., ([471, 29, 0], [464, 36, 0])\n",
       " ([480, 20, 0], [464, 36, 0]) ([468, 32, 0], [461, 39, 0])]"
      ]
     },
     "execution_count": 44,
     "metadata": {},
     "output_type": "execute_result"
    }
   ],
   "source": [
    "x1 = gc.count_alleles_subpops(max_allele=2, subpops=subpops)\n",
    "x1"
   ]
  },
  {
   "cell_type": "code",
   "execution_count": 45,
   "metadata": {
    "collapsed": false
   },
   "outputs": [
    {
     "data": {
      "text/plain": [
       "AlleleCountsCArray((50000, 3), int32)\n",
       "  nbytes: 585.94 KB; cbytes: 340.64 KB; ratio: 1.72\n",
       "  cparams := cparams(clevel=5, shuffle=True, cname='blosclz')\n",
       "[[470  30   0]\n",
       " [471  29   0]\n",
       " [466  34   0]\n",
       " ..., \n",
       " [471  29   0]\n",
       " [480  20   0]\n",
       " [468  32   0]]"
      ]
     },
     "execution_count": 45,
     "metadata": {},
     "output_type": "execute_result"
    }
   ],
   "source": [
    "x1['sub1']"
   ]
  },
  {
   "cell_type": "code",
   "execution_count": 46,
   "metadata": {
    "collapsed": false
   },
   "outputs": [
    {
     "data": {
      "text/plain": [
       "AlleleCountsCArray((50000, 3), int32)\n",
       "  nbytes: 585.94 KB; cbytes: 340.79 KB; ratio: 1.72\n",
       "  cparams := cparams(clevel=5, shuffle=True, cname='blosclz')\n",
       "[[468  32   0]\n",
       " [467  33   0]\n",
       " [482  18   0]\n",
       " ..., \n",
       " [464  36   0]\n",
       " [464  36   0]\n",
       " [461  39   0]]"
      ]
     },
     "execution_count": 46,
     "metadata": {},
     "output_type": "execute_result"
    }
   ],
   "source": [
    "x1['sub2']"
   ]
  },
  {
   "cell_type": "code",
   "execution_count": 47,
   "metadata": {
    "collapsed": false
   },
   "outputs": [
    {
     "data": {
      "text/plain": [
       "{'sub1': AlleleCountsCArray((50000, 3), int32)\n",
       "   nbytes: 585.94 KB; cbytes: 340.64 KB; ratio: 1.72\n",
       "   cparams := cparams(clevel=5, shuffle=True, cname='blosclz')\n",
       " [[470  30   0]\n",
       "  [471  29   0]\n",
       "  [466  34   0]\n",
       "  ..., \n",
       "  [471  29   0]\n",
       "  [480  20   0]\n",
       "  [468  32   0]], 'sub2': AlleleCountsCArray((50000, 3), int32)\n",
       "   nbytes: 585.94 KB; cbytes: 340.79 KB; ratio: 1.72\n",
       "   cparams := cparams(clevel=5, shuffle=True, cname='blosclz')\n",
       " [[468  32   0]\n",
       "  [467  33   0]\n",
       "  [482  18   0]\n",
       "  ..., \n",
       "  [464  36   0]\n",
       "  [464  36   0]\n",
       "  [461  39   0]]}"
      ]
     },
     "execution_count": 47,
     "metadata": {},
     "output_type": "execute_result"
    }
   ],
   "source": [
    "x2 = {name: gc.count_alleles(max_allele=2, subpop=subpop) for name, subpop in subpops.items()}\n",
    "x2"
   ]
  },
  {
   "cell_type": "code",
   "execution_count": 48,
   "metadata": {
    "collapsed": false
   },
   "outputs": [
    {
     "data": {
      "text/plain": [
       "True"
      ]
     },
     "execution_count": 48,
     "metadata": {},
     "output_type": "execute_result"
    }
   ],
   "source": [
    "np.array_equal(x1['sub2'], x2['sub2'])"
   ]
  },
  {
   "cell_type": "markdown",
   "metadata": {},
   "source": [
    "## Subset operations"
   ]
  },
  {
   "cell_type": "code",
   "execution_count": 49,
   "metadata": {
    "collapsed": false
   },
   "outputs": [
    {
     "data": {
      "text/plain": [
       "24896"
      ]
     },
     "execution_count": 49,
     "metadata": {},
     "output_type": "execute_result"
    }
   ],
   "source": [
    "variants = np.random.randint(0, 2, size=n_variants).astype(bool)\n",
    "np.count_nonzero(variants)"
   ]
  },
  {
   "cell_type": "code",
   "execution_count": 50,
   "metadata": {
    "collapsed": false
   },
   "outputs": [
    {
     "data": {
      "text/plain": [
       "498"
      ]
     },
     "execution_count": 50,
     "metadata": {},
     "output_type": "execute_result"
    }
   ],
   "source": [
    "samples = np.random.randint(0, 2, size=n_samples).astype(bool)\n",
    "np.count_nonzero(samples)"
   ]
  },
  {
   "cell_type": "code",
   "execution_count": 51,
   "metadata": {
    "collapsed": false
   },
   "outputs": [
    {
     "data": {
      "text/plain": [
       "GenotypeCArray((24896, 1000, 2), int8)\n",
       "  nbytes: 47.49 MB; cbytes: 8.23 MB; ratio: 5.77\n",
       "  cparams := cparams(clevel=5, shuffle=True, cname='blosclz')\n",
       "[[[0 0]\n",
       "  [0 0]\n",
       "  [0 0]\n",
       "  ..., \n",
       "  [0 0]\n",
       "  [0 0]\n",
       "  [0 0]]\n",
       "\n",
       " [[0 0]\n",
       "  [0 1]\n",
       "  [0 0]\n",
       "  ..., \n",
       "  [0 0]\n",
       "  [0 0]\n",
       "  [0 0]]\n",
       "\n",
       " [[0 0]\n",
       "  [0 0]\n",
       "  [0 0]\n",
       "  ..., \n",
       "  [0 0]\n",
       "  [0 0]\n",
       "  [0 0]]\n",
       "\n",
       " ..., \n",
       " [[0 0]\n",
       "  [0 0]\n",
       "  [0 0]\n",
       "  ..., \n",
       "  [0 1]\n",
       "  [0 0]\n",
       "  [0 0]]\n",
       "\n",
       " [[0 0]\n",
       "  [0 1]\n",
       "  [0 0]\n",
       "  ..., \n",
       "  [0 0]\n",
       "  [0 0]\n",
       "  [0 0]]\n",
       "\n",
       " [[0 0]\n",
       "  [0 0]\n",
       "  [0 1]\n",
       "  ..., \n",
       "  [0 0]\n",
       "  [0 0]\n",
       "  [0 0]]]"
      ]
     },
     "execution_count": 51,
     "metadata": {},
     "output_type": "execute_result"
    }
   ],
   "source": [
    "gc.compress(variants, axis=0)"
   ]
  },
  {
   "cell_type": "code",
   "execution_count": 52,
   "metadata": {
    "collapsed": false
   },
   "outputs": [
    {
     "name": "stdout",
     "output_type": "stream",
     "text": [
      "10 loops, best of 3: 38.5 ms per loop\n",
      "1 loops, best of 3: 165 ms per loop\n",
      "peak memory: 997.04 MiB, increment: 86.95 MiB\n",
      "peak memory: 957.78 MiB, increment: 0.20 MiB\n"
     ]
    }
   ],
   "source": [
    "%timeit x = g.compress(variants, axis=0)\n",
    "%timeit x = gc.compress(variants, axis=0)\n",
    "%memit x = g.compress(variants, axis=0)\n",
    "%memit x = gc.compress(variants, axis=0)"
   ]
  },
  {
   "cell_type": "code",
   "execution_count": 53,
   "metadata": {
    "collapsed": false
   },
   "outputs": [
    {
     "name": "stdout",
     "output_type": "stream",
     "text": [
      "10 loops, best of 3: 39.6 ms per loop\n",
      "10 loops, best of 3: 168 ms per loop\n",
      "peak memory: 1022.62 MiB, increment: 94.59 MiB\n",
      "peak memory: 928.20 MiB, increment: -47.32 MiB\n"
     ]
    }
   ],
   "source": [
    "indices = np.nonzero(variants)[0]\n",
    "%timeit x = g.take(indices, axis=0)\n",
    "%timeit x = gc.take(indices, axis=0)\n",
    "%memit x = g.take(indices, axis=0)\n",
    "%memit x = gc.take(indices, axis=0)"
   ]
  },
  {
   "cell_type": "code",
   "execution_count": 54,
   "metadata": {
    "collapsed": false
   },
   "outputs": [
    {
     "name": "stdout",
     "output_type": "stream",
     "text": [
      "10 loops, best of 3: 61.2 ms per loop\n",
      "1 loops, best of 3: 195 ms per loop\n",
      "peak memory: 1017.19 MiB, increment: 89.00 MiB\n",
      "peak memory: 975.69 MiB, increment: 0.00 MiB\n"
     ]
    }
   ],
   "source": [
    "%timeit x = g.compress(samples, axis=1)\n",
    "%timeit x = gc.compress(samples, axis=1)\n",
    "%memit x = g.compress(samples, axis=1)\n",
    "%memit x = gc.compress(samples, axis=1)"
   ]
  },
  {
   "cell_type": "code",
   "execution_count": 55,
   "metadata": {
    "collapsed": false
   },
   "outputs": [
    {
     "name": "stdout",
     "output_type": "stream",
     "text": [
      "10 loops, best of 3: 61.3 ms per loop\n",
      "1 loops, best of 3: 207 ms per loop\n",
      "peak memory: 1022.81 MiB, increment: 94.61 MiB\n",
      "peak memory: 975.69 MiB, increment: 0.00 MiB\n"
     ]
    }
   ],
   "source": [
    "indices = np.nonzero(samples)[0]\n",
    "%timeit x = g.take(indices, axis=1)\n",
    "%timeit x = gc.take(indices, axis=1)\n",
    "%memit x = g.take(indices, axis=1)\n",
    "%memit x = gc.take(indices, axis=1)"
   ]
  },
  {
   "cell_type": "code",
   "execution_count": 56,
   "metadata": {
    "collapsed": false
   },
   "outputs": [
    {
     "name": "stdout",
     "output_type": "stream",
     "text": [
      "1 loops, best of 3: 214 ms per loop\n",
      "1 loops, best of 3: 343 ms per loop\n",
      "peak memory: 932.95 MiB, increment: 0.00 MiB\n",
      "peak memory: 932.98 MiB, increment: 0.04 MiB\n"
     ]
    }
   ],
   "source": [
    "%timeit x = g.subset(variants, samples)\n",
    "%timeit x = gc.subset(variants, samples)\n",
    "%memit x = g.subset(variants, samples)\n",
    "%memit x = gc.subset(variants, samples)"
   ]
  },
  {
   "cell_type": "code",
   "execution_count": 57,
   "metadata": {
    "collapsed": false
   },
   "outputs": [
    {
     "data": {
      "text/plain": [
       "GenotypeCArray((24896, 498, 2), int8)\n",
       "  nbytes: 23.65 MB; cbytes: 4.32 MB; ratio: 5.47\n",
       "  cparams := cparams(clevel=5, shuffle=True, cname='blosclz')\n",
       "[[[1 1]\n",
       "  [0 0]\n",
       "  [0 0]\n",
       "  ..., \n",
       "  [0 0]\n",
       "  [0 0]\n",
       "  [0 0]]\n",
       "\n",
       " [[0 0]\n",
       "  [0 1]\n",
       "  [0 0]\n",
       "  ..., \n",
       "  [0 0]\n",
       "  [0 0]\n",
       "  [0 0]]\n",
       "\n",
       " [[0 0]\n",
       "  [0 0]\n",
       "  [0 0]\n",
       "  ..., \n",
       "  [0 0]\n",
       "  [0 0]\n",
       "  [0 0]]\n",
       "\n",
       " ..., \n",
       " [[0 0]\n",
       "  [0 1]\n",
       "  [0 0]\n",
       "  ..., \n",
       "  [0 0]\n",
       "  [0 1]\n",
       "  [0 0]]\n",
       "\n",
       " [[0 0]\n",
       "  [0 0]\n",
       "  [0 0]\n",
       "  ..., \n",
       "  [0 0]\n",
       "  [0 0]\n",
       "  [0 0]]\n",
       "\n",
       " [[0 0]\n",
       "  [0 0]\n",
       "  [0 0]\n",
       "  ..., \n",
       "  [0 0]\n",
       "  [0 0]\n",
       "  [0 0]]]"
      ]
     },
     "execution_count": 57,
     "metadata": {},
     "output_type": "execute_result"
    }
   ],
   "source": [
    "gc.subset(variants, samples)"
   ]
  },
  {
   "cell_type": "code",
   "execution_count": 59,
   "metadata": {
    "collapsed": false
   },
   "outputs": [
    {
     "data": {
      "text/plain": [
       "((24896, 498, 2), (24896, 498))"
      ]
     },
     "execution_count": 59,
     "metadata": {},
     "output_type": "execute_result"
    }
   ],
   "source": [
    "gms = gm.subset(variants, samples)\n",
    "gms.shape, gms.mask.shape"
   ]
  },
  {
   "cell_type": "code",
   "execution_count": 60,
   "metadata": {
    "collapsed": false
   },
   "outputs": [
    {
     "data": {
      "text/plain": [
       "((24896, 498, 2), (24896, 498))"
      ]
     },
     "execution_count": 60,
     "metadata": {},
     "output_type": "execute_result"
    }
   ],
   "source": [
    "gcms = gcm.subset(variants, samples)\n",
    "gcms.shape, gcms.mask.shape"
   ]
  },
  {
   "cell_type": "markdown",
   "metadata": {},
   "source": [
    "## Sandbox"
   ]
  },
  {
   "cell_type": "code",
   "execution_count": null,
   "metadata": {
    "collapsed": false
   },
   "outputs": [],
   "source": []
  }
 ],
 "metadata": {
  "kernelspec": {
   "display_name": "Python 3",
   "language": "python",
   "name": "python3"
  },
  "language_info": {
   "codemirror_mode": {
    "name": "ipython",
    "version": 3
   },
   "file_extension": ".py",
   "mimetype": "text/x-python",
   "name": "python",
   "nbconvert_exporter": "python",
   "pygments_lexer": "ipython3",
   "version": "3.4.2"
  }
 },
 "nbformat": 4,
 "nbformat_minor": 0
}
