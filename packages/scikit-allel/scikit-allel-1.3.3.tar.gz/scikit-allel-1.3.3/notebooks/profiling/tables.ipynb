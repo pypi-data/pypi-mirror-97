{
 "cells": [
  {
   "cell_type": "markdown",
   "metadata": {},
   "source": [
    "## Setup"
   ]
  },
  {
   "cell_type": "code",
   "execution_count": 1,
   "metadata": {
    "collapsed": false
   },
   "outputs": [],
   "source": [
    "import sys\n",
    "import numpy as np\n",
    "import bcolz\n",
    "import numexpr\n",
    "import humanize\n",
    "import h5py\n",
    "import tempfile\n",
    "def binarysize(n):\n",
    "    return humanize.naturalsize(n, binary=True)\n",
    "\n",
    "%reload_ext memory_profiler\n",
    "sys.path.insert(0, '../..')\n",
    "%reload_ext autoreload\n",
    "%autoreload 1\n",
    "%aimport allel.model\n",
    "%aimport allel.bcolz\n",
    "%aimport allel.io"
   ]
  },
  {
   "cell_type": "code",
   "execution_count": 2,
   "metadata": {
    "collapsed": false
   },
   "outputs": [
    {
     "data": {
      "text/plain": [
       "(9516386, '72.6 MiB')"
      ]
     },
     "execution_count": 2,
     "metadata": {},
     "output_type": "execute_result"
    }
   ],
   "source": [
    "pos = np.unique(np.random.randint(0, 100000000, size=10000000))\n",
    "pos.size, binarysize(pos.nbytes)"
   ]
  },
  {
   "cell_type": "code",
   "execution_count": 3,
   "metadata": {
    "collapsed": false
   },
   "outputs": [
    {
     "data": {
      "text/plain": [
       "'72.6 MiB'"
      ]
     },
     "execution_count": 3,
     "metadata": {},
     "output_type": "execute_result"
    }
   ],
   "source": [
    "x = np.random.randint(0, 100, size=pos.size)\n",
    "binarysize(x.nbytes)"
   ]
  },
  {
   "cell_type": "code",
   "execution_count": 4,
   "metadata": {
    "collapsed": false
   },
   "outputs": [
    {
     "data": {
      "text/plain": [
       "'72.6 MiB'"
      ]
     },
     "execution_count": 4,
     "metadata": {},
     "output_type": "execute_result"
    }
   ],
   "source": [
    "y = np.random.random(size=pos.size)\n",
    "binarysize(y.nbytes)"
   ]
  },
  {
   "cell_type": "code",
   "execution_count": 5,
   "metadata": {
    "collapsed": false
   },
   "outputs": [
    {
     "data": {
      "text/plain": [
       "'9.1 MiB'"
      ]
     },
     "execution_count": 5,
     "metadata": {},
     "output_type": "execute_result"
    }
   ],
   "source": [
    "z = np.random.choice([b'a', b'b', b'c'], size=pos.size)\n",
    "binarysize(z.nbytes)"
   ]
  },
  {
   "cell_type": "code",
   "execution_count": 6,
   "metadata": {
    "collapsed": false
   },
   "outputs": [],
   "source": [
    "query = \"(x > 50) & (y < .5) & (z == b'a')\""
   ]
  },
  {
   "cell_type": "code",
   "execution_count": 7,
   "metadata": {
    "collapsed": false
   },
   "outputs": [
    {
     "data": {
      "text/html": [
       "<table class='petl'>\n",
       "<caption>VariantTable(9516386, dtype=[('pos', '&lt;i8'), ('x', '&lt;i8'), ('y', '&lt;f8'), ('z', 'S1')])</caption>\n",
       "<thead>\n",
       "<tr>\n",
       "<th>pos</th>\n",
       "<th>x</th>\n",
       "<th>y</th>\n",
       "<th>z</th>\n",
       "</tr>\n",
       "</thead>\n",
       "<tbody>\n",
       "<tr>\n",
       "<td>5</td>\n",
       "<td>17</td>\n",
       "<td style='text-align: right'>0.941178328631</td>\n",
       "<td>b'c'</td>\n",
       "</tr>\n",
       "<tr>\n",
       "<td>39</td>\n",
       "<td>78</td>\n",
       "<td style='text-align: right'>0.954006026102</td>\n",
       "<td>b'c'</td>\n",
       "</tr>\n",
       "<tr>\n",
       "<td>58</td>\n",
       "<td>93</td>\n",
       "<td style='text-align: right'>0.369881354724</td>\n",
       "<td>b'b'</td>\n",
       "</tr>\n",
       "<tr>\n",
       "<td>64</td>\n",
       "<td>63</td>\n",
       "<td style='text-align: right'>0.636430366687</td>\n",
       "<td>b'a'</td>\n",
       "</tr>\n",
       "<tr>\n",
       "<td>84</td>\n",
       "<td>41</td>\n",
       "<td style='text-align: right'>0.311720778772</td>\n",
       "<td>b'b'</td>\n",
       "</tr>\n",
       "</tbody>\n",
       "</table>\n",
       "<p><strong>...</strong></p>"
      ],
      "text/plain": [
       "VariantTable(9516386, dtype=[('pos', '<i8'), ('x', '<i8'), ('y', '<f8'), ('z', 'S1')])\n",
       "[(5, 17, 0.9411783286306781, b'c') (39, 78, 0.9540060261020432, b'c')\n",
       " (58, 93, 0.3698813547240103, b'b') ...,\n",
       " (99999971, 11, 0.9627122072169108, b'b')\n",
       " (99999973, 13, 0.9434966815056626, b'a')\n",
       " (99999978, 5, 0.17309121393683735, b'c')]"
      ]
     },
     "execution_count": 7,
     "metadata": {},
     "output_type": "execute_result"
    }
   ],
   "source": [
    "a = np.rec.fromarrays([pos, x, y, z], names=['pos', 'x', 'y', 'z'])\n",
    "vt = allel.model.VariantTable(a, index='pos')\n",
    "vt"
   ]
  },
  {
   "cell_type": "code",
   "execution_count": 8,
   "metadata": {
    "collapsed": false
   },
   "outputs": [
    {
     "data": {
      "text/plain": [
       "array([17, 78, 93, ..., 11, 13,  5])"
      ]
     },
     "execution_count": 8,
     "metadata": {},
     "output_type": "execute_result"
    }
   ],
   "source": [
    "vt.x"
   ]
  },
  {
   "cell_type": "code",
   "execution_count": 9,
   "metadata": {
    "collapsed": false
   },
   "outputs": [
    {
     "data": {
      "text/html": [
       "<table class='petl'>\n",
       "<caption>VariantTable(9516386, dtype=[('pos', '&lt;i8'), ('x', '&lt;i8')])</caption>\n",
       "<thead>\n",
       "<tr>\n",
       "<th>pos</th>\n",
       "<th>x</th>\n",
       "</tr>\n",
       "</thead>\n",
       "<tbody>\n",
       "<tr>\n",
       "<td>5</td>\n",
       "<td>17</td>\n",
       "</tr>\n",
       "<tr>\n",
       "<td>39</td>\n",
       "<td>78</td>\n",
       "</tr>\n",
       "<tr>\n",
       "<td>58</td>\n",
       "<td>93</td>\n",
       "</tr>\n",
       "<tr>\n",
       "<td>64</td>\n",
       "<td>63</td>\n",
       "</tr>\n",
       "<tr>\n",
       "<td>84</td>\n",
       "<td>41</td>\n",
       "</tr>\n",
       "</tbody>\n",
       "</table>\n",
       "<p><strong>...</strong></p>"
      ],
      "text/plain": [
       "VariantTable(9516386, dtype=[('pos', '<i8'), ('x', '<i8')])\n",
       "[(5, 17) (39, 78) (58, 93) ..., (99999971, 11) (99999973, 13) (99999978, 5)]"
      ]
     },
     "execution_count": 9,
     "metadata": {},
     "output_type": "execute_result"
    }
   ],
   "source": [
    "vt[['pos', 'x']]"
   ]
  },
  {
   "cell_type": "code",
   "execution_count": 10,
   "metadata": {
    "collapsed": false
   },
   "outputs": [
    {
     "data": {
      "text/html": [
       "<table class='petl'>\n",
       "<caption>VariantTable(9516386, dtype=[('pos', '&lt;i8'), ('x', '&lt;i8'), ('y', '&lt;f8'), ('z', 'S1')])</caption>\n",
       "<thead>\n",
       "<tr>\n",
       "<th>pos</th>\n",
       "<th>x</th>\n",
       "<th>y</th>\n",
       "<th>z</th>\n",
       "</tr>\n",
       "</thead>\n",
       "<tbody>\n",
       "<tr>\n",
       "<td>5</td>\n",
       "<td>17</td>\n",
       "<td style='text-align: right'>0.941178328631</td>\n",
       "<td>b'c'</td>\n",
       "</tr>\n",
       "<tr>\n",
       "<td>39</td>\n",
       "<td>78</td>\n",
       "<td style='text-align: right'>0.954006026102</td>\n",
       "<td>b'c'</td>\n",
       "</tr>\n",
       "<tr>\n",
       "<td>58</td>\n",
       "<td>93</td>\n",
       "<td style='text-align: right'>0.369881354724</td>\n",
       "<td>b'b'</td>\n",
       "</tr>\n",
       "<tr>\n",
       "<td>64</td>\n",
       "<td>63</td>\n",
       "<td style='text-align: right'>0.636430366687</td>\n",
       "<td>b'a'</td>\n",
       "</tr>\n",
       "<tr>\n",
       "<td>84</td>\n",
       "<td>41</td>\n",
       "<td style='text-align: right'>0.311720778772</td>\n",
       "<td>b'b'</td>\n",
       "</tr>\n",
       "<tr>\n",
       "<td>101</td>\n",
       "<td>56</td>\n",
       "<td style='text-align: right'>0.702506983122</td>\n",
       "<td>b'c'</td>\n",
       "</tr>\n",
       "<tr>\n",
       "<td>121</td>\n",
       "<td>3</td>\n",
       "<td style='text-align: right'>0.512401263151</td>\n",
       "<td>b'c'</td>\n",
       "</tr>\n",
       "<tr>\n",
       "<td>134</td>\n",
       "<td>20</td>\n",
       "<td style='text-align: right'>0.549689464029</td>\n",
       "<td>b'b'</td>\n",
       "</tr>\n",
       "<tr>\n",
       "<td>138</td>\n",
       "<td>83</td>\n",
       "<td style='text-align: right'>0.978512936125</td>\n",
       "<td>b'c'</td>\n",
       "</tr>\n",
       "<tr>\n",
       "<td>188</td>\n",
       "<td>79</td>\n",
       "<td style='text-align: right'>0.176854785614</td>\n",
       "<td>b'a'</td>\n",
       "</tr>\n",
       "</tbody>\n",
       "</table>\n",
       "<p><strong>...</strong></p>"
      ]
     },
     "metadata": {},
     "output_type": "display_data"
    }
   ],
   "source": [
    "vt.display(10)"
   ]
  },
  {
   "cell_type": "code",
   "execution_count": 11,
   "metadata": {
    "collapsed": false
   },
   "outputs": [
    {
     "data": {
      "text/html": [
       "<table class='petl'>\n",
       "<caption>VariantCTable(9516386, dtype=[('pos', '&lt;i8'), ('x', '&lt;i8'), ('y', '&lt;f8'), ('z', 'S1')])</caption>\n",
       "<thead>\n",
       "<tr>\n",
       "<th>pos</th>\n",
       "<th>x</th>\n",
       "<th>y</th>\n",
       "<th>z</th>\n",
       "</tr>\n",
       "</thead>\n",
       "<tbody>\n",
       "<tr>\n",
       "<td>5</td>\n",
       "<td>17</td>\n",
       "<td style='text-align: right'>0.941178328631</td>\n",
       "<td>b'c'</td>\n",
       "</tr>\n",
       "<tr>\n",
       "<td>39</td>\n",
       "<td>78</td>\n",
       "<td style='text-align: right'>0.954006026102</td>\n",
       "<td>b'c'</td>\n",
       "</tr>\n",
       "<tr>\n",
       "<td>58</td>\n",
       "<td>93</td>\n",
       "<td style='text-align: right'>0.369881354724</td>\n",
       "<td>b'b'</td>\n",
       "</tr>\n",
       "<tr>\n",
       "<td>64</td>\n",
       "<td>63</td>\n",
       "<td style='text-align: right'>0.636430366687</td>\n",
       "<td>b'a'</td>\n",
       "</tr>\n",
       "<tr>\n",
       "<td>84</td>\n",
       "<td>41</td>\n",
       "<td style='text-align: right'>0.311720778772</td>\n",
       "<td>b'b'</td>\n",
       "</tr>\n",
       "</tbody>\n",
       "</table>\n",
       "<p><strong>...</strong></p>"
      ],
      "text/plain": [
       "VariantCTable((9516386,), [('pos', '<i8'), ('x', '<i8'), ('y', '<f8'), ('z', 'S1')])\n",
       "  nbytes: 226.89 MB; cbytes: 91.50 MB; ratio: 2.48\n",
       "  cparams := cparams(clevel=5, shuffle=True, cname='blosclz')\n",
       "[(5, 17, 0.9411783286306781, b'c') (39, 78, 0.9540060261020432, b'c')\n",
       " (58, 93, 0.3698813547240103, b'b') ...,\n",
       " (99999971, 11, 0.9627122072169108, b'b')\n",
       " (99999973, 13, 0.9434966815056626, b'a')\n",
       " (99999978, 5, 0.17309121393683735, b'c')]"
      ]
     },
     "execution_count": 11,
     "metadata": {},
     "output_type": "execute_result"
    }
   ],
   "source": [
    "vtc = allel.bcolz.VariantCTable(a, index='pos')\n",
    "vtc"
   ]
  },
  {
   "cell_type": "code",
   "execution_count": 16,
   "metadata": {
    "collapsed": false
   },
   "outputs": [
    {
     "data": {
      "text/plain": [
       "ctable((9516386,), [('pos', '<i8'), ('x', '<i8'), ('y', '<f8'), ('z', 'S1')])\n",
       "  nbytes: 226.89 MB; cbytes: 91.50 MB; ratio: 2.48\n",
       "  cparams := cparams(clevel=5, shuffle=True, cname='blosclz')\n",
       "[(5, 17, 0.9411783286306781, b'c') (39, 78, 0.9540060261020432, b'c')\n",
       " (58, 93, 0.3698813547240103, b'b') ...,\n",
       " (99999971, 11, 0.9627122072169108, b'b')\n",
       " (99999973, 13, 0.9434966815056626, b'a')\n",
       " (99999978, 5, 0.17309121393683735, b'c')]"
      ]
     },
     "execution_count": 16,
     "metadata": {},
     "output_type": "execute_result"
    }
   ],
   "source": [
    "vtc.ctbl"
   ]
  },
  {
   "cell_type": "code",
   "execution_count": 12,
   "metadata": {
    "collapsed": false
   },
   "outputs": [
    {
     "data": {
      "text/plain": [
       "carray((9516386,), int64)\n",
       "  nbytes: 72.60 MB; cbytes: 10.08 MB; ratio: 7.20\n",
       "  cparams := cparams(clevel=5, shuffle=True, cname='blosclz')\n",
       "[17 78 93 ..., 11 13  5]"
      ]
     },
     "execution_count": 12,
     "metadata": {},
     "output_type": "execute_result"
    }
   ],
   "source": [
    "vtc.x"
   ]
  },
  {
   "cell_type": "code",
   "execution_count": 13,
   "metadata": {
    "collapsed": false
   },
   "outputs": [
    {
     "data": {
      "text/html": [
       "<table class='petl'>\n",
       "<caption>VariantCTable(9516386, dtype=[('pos', '&lt;i8'), ('x', '&lt;i8'), ('y', '&lt;f8'), ('z', 'S1')])</caption>\n",
       "<thead>\n",
       "<tr>\n",
       "<th>pos</th>\n",
       "<th>x</th>\n",
       "<th>y</th>\n",
       "<th>z</th>\n",
       "</tr>\n",
       "</thead>\n",
       "<tbody>\n",
       "<tr>\n",
       "<td>5</td>\n",
       "<td>17</td>\n",
       "<td style='text-align: right'>0.941178328631</td>\n",
       "<td>b'c'</td>\n",
       "</tr>\n",
       "<tr>\n",
       "<td>39</td>\n",
       "<td>78</td>\n",
       "<td style='text-align: right'>0.954006026102</td>\n",
       "<td>b'c'</td>\n",
       "</tr>\n",
       "<tr>\n",
       "<td>58</td>\n",
       "<td>93</td>\n",
       "<td style='text-align: right'>0.369881354724</td>\n",
       "<td>b'b'</td>\n",
       "</tr>\n",
       "<tr>\n",
       "<td>64</td>\n",
       "<td>63</td>\n",
       "<td style='text-align: right'>0.636430366687</td>\n",
       "<td>b'a'</td>\n",
       "</tr>\n",
       "<tr>\n",
       "<td>84</td>\n",
       "<td>41</td>\n",
       "<td style='text-align: right'>0.311720778772</td>\n",
       "<td>b'b'</td>\n",
       "</tr>\n",
       "<tr>\n",
       "<td>101</td>\n",
       "<td>56</td>\n",
       "<td style='text-align: right'>0.702506983122</td>\n",
       "<td>b'c'</td>\n",
       "</tr>\n",
       "<tr>\n",
       "<td>121</td>\n",
       "<td>3</td>\n",
       "<td style='text-align: right'>0.512401263151</td>\n",
       "<td>b'c'</td>\n",
       "</tr>\n",
       "<tr>\n",
       "<td>134</td>\n",
       "<td>20</td>\n",
       "<td style='text-align: right'>0.549689464029</td>\n",
       "<td>b'b'</td>\n",
       "</tr>\n",
       "<tr>\n",
       "<td>138</td>\n",
       "<td>83</td>\n",
       "<td style='text-align: right'>0.978512936125</td>\n",
       "<td>b'c'</td>\n",
       "</tr>\n",
       "<tr>\n",
       "<td>188</td>\n",
       "<td>79</td>\n",
       "<td style='text-align: right'>0.176854785614</td>\n",
       "<td>b'a'</td>\n",
       "</tr>\n",
       "</tbody>\n",
       "</table>\n",
       "<p><strong>...</strong></p>"
      ]
     },
     "metadata": {},
     "output_type": "display_data"
    }
   ],
   "source": [
    "vtc.display(10)"
   ]
  },
  {
   "cell_type": "code",
   "execution_count": 14,
   "metadata": {
    "collapsed": false
   },
   "outputs": [
    {
     "data": {
      "text/html": [
       "<table class='petl'>\n",
       "<caption>VariantCTable(9516386, dtype=[('pos', '&lt;i8'), ('x', '&lt;i8'), ('y', '&lt;f8'), ('z', 'S1')])</caption>\n",
       "<thead>\n",
       "<tr>\n",
       "<th>pos</th>\n",
       "<th>x</th>\n",
       "<th>y</th>\n",
       "<th>z</th>\n",
       "</tr>\n",
       "</thead>\n",
       "<tbody>\n",
       "<tr>\n",
       "<td>5</td>\n",
       "<td>17</td>\n",
       "<td style='text-align: right'>0.941178328631</td>\n",
       "<td>b'c'</td>\n",
       "</tr>\n",
       "<tr>\n",
       "<td>39</td>\n",
       "<td>78</td>\n",
       "<td style='text-align: right'>0.954006026102</td>\n",
       "<td>b'c'</td>\n",
       "</tr>\n",
       "<tr>\n",
       "<td>58</td>\n",
       "<td>93</td>\n",
       "<td style='text-align: right'>0.369881354724</td>\n",
       "<td>b'b'</td>\n",
       "</tr>\n",
       "<tr>\n",
       "<td>64</td>\n",
       "<td>63</td>\n",
       "<td style='text-align: right'>0.636430366687</td>\n",
       "<td>b'a'</td>\n",
       "</tr>\n",
       "<tr>\n",
       "<td>84</td>\n",
       "<td>41</td>\n",
       "<td style='text-align: right'>0.311720778772</td>\n",
       "<td>b'b'</td>\n",
       "</tr>\n",
       "</tbody>\n",
       "</table>\n",
       "<p><strong>...</strong></p>"
      ],
      "text/plain": [
       "VariantCTable((9516386,), [('pos', '<i8'), ('x', '<i8'), ('y', '<f8'), ('z', 'S1')])\n",
       "  nbytes: 226.89 MB; cbytes: 91.50 MB; ratio: 2.48\n",
       "  cparams := cparams(clevel=5, shuffle=True, cname='blosclz')\n",
       "  rootdir := '/tmp/tmpadwqs9ve'\n",
       "[(5, 17, 0.9411783286306781, b'c') (39, 78, 0.9540060261020432, b'c')\n",
       " (58, 93, 0.3698813547240103, b'b') ...,\n",
       " (99999971, 11, 0.9627122072169108, b'b')\n",
       " (99999973, 13, 0.9434966815056626, b'a')\n",
       " (99999978, 5, 0.17309121393683735, b'c')]"
      ]
     },
     "execution_count": 14,
     "metadata": {},
     "output_type": "execute_result"
    }
   ],
   "source": [
    "rootdir = tempfile.mkdtemp()\n",
    "vtcp = allel.bcolz.VariantCTable(a, index='pos', rootdir=rootdir, mode='w')\n",
    "vtcp"
   ]
  },
  {
   "cell_type": "code",
   "execution_count": 15,
   "metadata": {
    "collapsed": false
   },
   "outputs": [
    {
     "data": {
      "text/html": [
       "<table class='petl'>\n",
       "<caption>VariantCTable(9516386, dtype=[('pos', '&lt;i8'), ('x', '&lt;i8'), ('y', '&lt;f8'), ('z', 'S1')])</caption>\n",
       "<thead>\n",
       "<tr>\n",
       "<th>pos</th>\n",
       "<th>x</th>\n",
       "<th>y</th>\n",
       "<th>z</th>\n",
       "</tr>\n",
       "</thead>\n",
       "<tbody>\n",
       "<tr>\n",
       "<td>5</td>\n",
       "<td>17</td>\n",
       "<td style='text-align: right'>0.941178328631</td>\n",
       "<td>b'c'</td>\n",
       "</tr>\n",
       "<tr>\n",
       "<td>39</td>\n",
       "<td>78</td>\n",
       "<td style='text-align: right'>0.954006026102</td>\n",
       "<td>b'c'</td>\n",
       "</tr>\n",
       "<tr>\n",
       "<td>58</td>\n",
       "<td>93</td>\n",
       "<td style='text-align: right'>0.369881354724</td>\n",
       "<td>b'b'</td>\n",
       "</tr>\n",
       "<tr>\n",
       "<td>64</td>\n",
       "<td>63</td>\n",
       "<td style='text-align: right'>0.636430366687</td>\n",
       "<td>b'a'</td>\n",
       "</tr>\n",
       "<tr>\n",
       "<td>84</td>\n",
       "<td>41</td>\n",
       "<td style='text-align: right'>0.311720778772</td>\n",
       "<td>b'b'</td>\n",
       "</tr>\n",
       "</tbody>\n",
       "</table>\n",
       "<p><strong>...</strong></p>"
      ],
      "text/plain": [
       "VariantCTable((9516386,), [('pos', '<i8'), ('x', '<i8'), ('y', '<f8'), ('z', 'S1')])\n",
       "  nbytes: 226.89 MB; cbytes: 91.50 MB; ratio: 2.48\n",
       "  cparams := cparams(clevel=5, shuffle=True, cname='blosclz')\n",
       "  rootdir := '/tmp/tmpadwqs9ve'\n",
       "[(5, 17, 0.9411783286306781, b'c') (39, 78, 0.9540060261020432, b'c')\n",
       " (58, 93, 0.3698813547240103, b'b') ...,\n",
       " (99999971, 11, 0.9627122072169108, b'b')\n",
       " (99999973, 13, 0.9434966815056626, b'a')\n",
       " (99999978, 5, 0.17309121393683735, b'c')]"
      ]
     },
     "execution_count": 15,
     "metadata": {},
     "output_type": "execute_result"
    }
   ],
   "source": [
    "vtcp2 = allel.bcolz.VariantCTable.open(rootdir)\n",
    "vtcp2"
   ]
  },
  {
   "cell_type": "code",
   "execution_count": 17,
   "metadata": {
    "collapsed": false
   },
   "outputs": [
    {
     "data": {
      "text/html": [
       "<table class='petl'>\n",
       "<caption>VariantTable(776406, dtype=[('pos', '&lt;i8'), ('x', '&lt;i8'), ('y', '&lt;f8'), ('z', 'S1')])</caption>\n",
       "<thead>\n",
       "<tr>\n",
       "<th>pos</th>\n",
       "<th>x</th>\n",
       "<th>y</th>\n",
       "<th>z</th>\n",
       "</tr>\n",
       "</thead>\n",
       "<tbody>\n",
       "<tr>\n",
       "<td>188</td>\n",
       "<td>79</td>\n",
       "<td style='text-align: right'>0.176854785614</td>\n",
       "<td>b'a'</td>\n",
       "</tr>\n",
       "<tr>\n",
       "<td>213</td>\n",
       "<td>90</td>\n",
       "<td style='text-align: right'>0.367455877413</td>\n",
       "<td>b'a'</td>\n",
       "</tr>\n",
       "<tr>\n",
       "<td>289</td>\n",
       "<td>82</td>\n",
       "<td style='text-align: right'>0.171532726593</td>\n",
       "<td>b'a'</td>\n",
       "</tr>\n",
       "<tr>\n",
       "<td>400</td>\n",
       "<td>83</td>\n",
       "<td style='text-align: right'>0.113906927424</td>\n",
       "<td>b'a'</td>\n",
       "</tr>\n",
       "<tr>\n",
       "<td>700</td>\n",
       "<td>51</td>\n",
       "<td style='text-align: right'>0.473933866061</td>\n",
       "<td>b'a'</td>\n",
       "</tr>\n",
       "<tr>\n",
       "<td>796</td>\n",
       "<td>66</td>\n",
       "<td style='text-align: right'>0.406920706967</td>\n",
       "<td>b'a'</td>\n",
       "</tr>\n",
       "<tr>\n",
       "<td>810</td>\n",
       "<td>74</td>\n",
       "<td style='text-align: right'>0.303002118461</td>\n",
       "<td>b'a'</td>\n",
       "</tr>\n",
       "<tr>\n",
       "<td>825</td>\n",
       "<td>95</td>\n",
       "<td style='text-align: right'>0.235118323645</td>\n",
       "<td>b'a'</td>\n",
       "</tr>\n",
       "<tr>\n",
       "<td>840</td>\n",
       "<td>88</td>\n",
       "<td style='text-align: right'>0.347419256774</td>\n",
       "<td>b'a'</td>\n",
       "</tr>\n",
       "<tr>\n",
       "<td>873</td>\n",
       "<td>63</td>\n",
       "<td style='text-align: right'>0.153837759783</td>\n",
       "<td>b'a'</td>\n",
       "</tr>\n",
       "</tbody>\n",
       "</table>\n",
       "<p><strong>...</strong></p>"
      ]
     },
     "metadata": {},
     "output_type": "display_data"
    }
   ],
   "source": [
    "vt.query(query).display(10)"
   ]
  },
  {
   "cell_type": "code",
   "execution_count": 18,
   "metadata": {
    "collapsed": false
   },
   "outputs": [
    {
     "data": {
      "text/html": [
       "<table class='petl'>\n",
       "<caption>VariantCTable(776406, dtype=[('pos', '&lt;i8'), ('x', '&lt;i8'), ('y', '&lt;f8'), ('z', 'S1')])</caption>\n",
       "<thead>\n",
       "<tr>\n",
       "<th>pos</th>\n",
       "<th>x</th>\n",
       "<th>y</th>\n",
       "<th>z</th>\n",
       "</tr>\n",
       "</thead>\n",
       "<tbody>\n",
       "<tr>\n",
       "<td>188</td>\n",
       "<td>79</td>\n",
       "<td style='text-align: right'>0.176854785614</td>\n",
       "<td>b'a'</td>\n",
       "</tr>\n",
       "<tr>\n",
       "<td>213</td>\n",
       "<td>90</td>\n",
       "<td style='text-align: right'>0.367455877413</td>\n",
       "<td>b'a'</td>\n",
       "</tr>\n",
       "<tr>\n",
       "<td>289</td>\n",
       "<td>82</td>\n",
       "<td style='text-align: right'>0.171532726593</td>\n",
       "<td>b'a'</td>\n",
       "</tr>\n",
       "<tr>\n",
       "<td>400</td>\n",
       "<td>83</td>\n",
       "<td style='text-align: right'>0.113906927424</td>\n",
       "<td>b'a'</td>\n",
       "</tr>\n",
       "<tr>\n",
       "<td>700</td>\n",
       "<td>51</td>\n",
       "<td style='text-align: right'>0.473933866061</td>\n",
       "<td>b'a'</td>\n",
       "</tr>\n",
       "<tr>\n",
       "<td>796</td>\n",
       "<td>66</td>\n",
       "<td style='text-align: right'>0.406920706967</td>\n",
       "<td>b'a'</td>\n",
       "</tr>\n",
       "<tr>\n",
       "<td>810</td>\n",
       "<td>74</td>\n",
       "<td style='text-align: right'>0.303002118461</td>\n",
       "<td>b'a'</td>\n",
       "</tr>\n",
       "<tr>\n",
       "<td>825</td>\n",
       "<td>95</td>\n",
       "<td style='text-align: right'>0.235118323645</td>\n",
       "<td>b'a'</td>\n",
       "</tr>\n",
       "<tr>\n",
       "<td>840</td>\n",
       "<td>88</td>\n",
       "<td style='text-align: right'>0.347419256774</td>\n",
       "<td>b'a'</td>\n",
       "</tr>\n",
       "<tr>\n",
       "<td>873</td>\n",
       "<td>63</td>\n",
       "<td style='text-align: right'>0.153837759783</td>\n",
       "<td>b'a'</td>\n",
       "</tr>\n",
       "</tbody>\n",
       "</table>\n",
       "<p><strong>...</strong></p>"
      ]
     },
     "metadata": {},
     "output_type": "display_data"
    }
   ],
   "source": [
    "vtc.query(query).display(10)"
   ]
  },
  {
   "cell_type": "markdown",
   "metadata": {},
   "source": [
    "## Query profiling"
   ]
  },
  {
   "cell_type": "code",
   "execution_count": 18,
   "metadata": {
    "collapsed": false
   },
   "outputs": [
    {
     "name": "stdout",
     "output_type": "stream",
     "text": [
      "10 loops, best of 3: 154 ms per loop\n",
      "peak memory: 1170.03 MiB, increment: 0.11 MiB\n",
      "10 loops, best of 3: 48.5 ms per loop\n",
      "peak memory: 1170.08 MiB, increment: 0.05 MiB\n"
     ]
    }
   ],
   "source": [
    "# baselines with plain numpy arrays\n",
    "%timeit eval(query)\n",
    "%memit eval(query)\n",
    "%timeit numexpr.evaluate(query)\n",
    "%memit numexpr.evaluate(query)"
   ]
  },
  {
   "cell_type": "code",
   "execution_count": 19,
   "metadata": {
    "collapsed": false
   },
   "outputs": [
    {
     "name": "stdout",
     "output_type": "stream",
     "text": [
      "1 loops, best of 3: 252 ms per loop\n",
      "peak memory: 1170.20 MiB, increment: 0.00 MiB\n",
      "1 loops, best of 3: 304 ms per loop\n",
      "peak memory: 1170.20 MiB, increment: 0.00 MiB\n",
      "1 loops, best of 3: 343 ms per loop\n",
      "peak memory: 1170.48 MiB, increment: 0.28 MiB\n"
     ]
    }
   ],
   "source": [
    "vm = 'python'\n",
    "%timeit vt.eval(query, vm=vm)\n",
    "%memit vt.eval(query, vm=vm)\n",
    "%timeit vtc.eval(query, vm=vm)\n",
    "%memit vtc.eval(query, vm=vm)\n",
    "%timeit vtcp.eval(query, vm=vm)\n",
    "%memit vtcp.eval(query, vm=vm)"
   ]
  },
  {
   "cell_type": "code",
   "execution_count": 20,
   "metadata": {
    "collapsed": false
   },
   "outputs": [
    {
     "name": "stdout",
     "output_type": "stream",
     "text": [
      "10 loops, best of 3: 61 ms per loop\n",
      "peak memory: 1170.48 MiB, increment: 0.00 MiB\n",
      "1 loops, best of 3: 168 ms per loop\n",
      "peak memory: 1170.63 MiB, increment: 0.00 MiB\n",
      "1 loops, best of 3: 227 ms per loop\n",
      "peak memory: 1170.63 MiB, increment: 0.00 MiB\n"
     ]
    }
   ],
   "source": [
    "vm = 'numexpr'\n",
    "%timeit vt.eval(query, vm=vm)\n",
    "%memit vt.eval(query, vm=vm)\n",
    "%timeit vtc.eval(query, vm=vm)\n",
    "%memit vtc.eval(query, vm=vm)\n",
    "%timeit vtcp.eval(query, vm=vm)\n",
    "%memit vtcp.eval(query, vm=vm)"
   ]
  },
  {
   "cell_type": "code",
   "execution_count": 21,
   "metadata": {
    "collapsed": false
   },
   "outputs": [
    {
     "data": {
      "text/plain": [
       "'/tmp/tmpsoyqr5mx'"
      ]
     },
     "execution_count": 21,
     "metadata": {},
     "output_type": "execute_result"
    }
   ],
   "source": [
    "fn1 = tempfile.mktemp()\n",
    "fn1"
   ]
  },
  {
   "cell_type": "code",
   "execution_count": 22,
   "metadata": {
    "collapsed": false
   },
   "outputs": [],
   "source": [
    "with h5py.File(fn1, mode='w') as h5f:\n",
    "    h5g = h5f.create_group('table')\n",
    "    h5g.create_dataset('pos', data=pos, chunks=(1000,))\n",
    "    h5g.create_dataset('x', data=x, chunks=(1000,))\n",
    "    h5g.create_dataset('y', data=y, chunks=(1000,))\n",
    "    h5g.create_dataset('z', data=z, chunks=(1000,))"
   ]
  },
  {
   "cell_type": "code",
   "execution_count": 23,
   "metadata": {
    "collapsed": false
   },
   "outputs": [
    {
     "data": {
      "text/html": [
       "<div style=\"max-height:1000px;max-width:1500px;overflow:auto;\">\n",
       "<table border=\"1\" class=\"dataframe\">\n",
       "  <thead>\n",
       "    <tr style=\"text-align: right;\">\n",
       "      <th></th>\n",
       "      <th>pos</th>\n",
       "      <th>x</th>\n",
       "      <th>y</th>\n",
       "      <th>z</th>\n",
       "    </tr>\n",
       "  </thead>\n",
       "  <tbody>\n",
       "    <tr>\n",
       "      <th>0</th>\n",
       "      <td>  9</td>\n",
       "      <td> 94</td>\n",
       "      <td> 0.048534</td>\n",
       "      <td> b'c'</td>\n",
       "    </tr>\n",
       "    <tr>\n",
       "      <th>1</th>\n",
       "      <td> 10</td>\n",
       "      <td> 87</td>\n",
       "      <td> 0.622883</td>\n",
       "      <td> b'b'</td>\n",
       "    </tr>\n",
       "    <tr>\n",
       "      <th>2</th>\n",
       "      <td> 25</td>\n",
       "      <td> 29</td>\n",
       "      <td> 0.625948</td>\n",
       "      <td> b'b'</td>\n",
       "    </tr>\n",
       "    <tr>\n",
       "      <th>3</th>\n",
       "      <td> 42</td>\n",
       "      <td> 34</td>\n",
       "      <td> 0.838398</td>\n",
       "      <td> b'a'</td>\n",
       "    </tr>\n",
       "    <tr>\n",
       "      <th>4</th>\n",
       "      <td> 67</td>\n",
       "      <td> 64</td>\n",
       "      <td> 0.094999</td>\n",
       "      <td> b'c'</td>\n",
       "    </tr>\n",
       "  </tbody>\n",
       "</table>\n",
       "</div>"
      ],
      "text/plain": [
       "VariantCTable((9515340,), [('pos', '<i8'), ('x', '<i8'), ('y', '<f8'), ('z', 'S1')])\n",
       "  nbytes: 226.86 MB; cbytes: 92.26 MB; ratio: 2.46\n",
       "  cparams := cparams(clevel=4, shuffle=True, cname='lz4')\n",
       "[(9, 94, 0.048534332330125385, b'c') (10, 87, 0.622882512425196, b'b')\n",
       " (25, 29, 0.625947574251329, b'b') ...,\n",
       " (99999966, 62, 0.4685614407421974, b'a')\n",
       " (99999973, 46, 0.8942343318112237, b'c')\n",
       " (99999995, 97, 0.3411698223021882, b'a')]"
      ]
     },
     "execution_count": 23,
     "metadata": {},
     "output_type": "execute_result"
    }
   ],
   "source": [
    "vtc2 = allel.bcolz.VariantCTable.from_hdf5_group(fn1, 'table', names=['pos', 'x', 'y', 'z'], cparams=bcolz.cparams(cname='lz4', clevel=4))\n",
    "vtc2"
   ]
  },
  {
   "cell_type": "code",
   "execution_count": 24,
   "metadata": {
    "collapsed": false
   },
   "outputs": [
    {
     "data": {
      "text/plain": [
       "carray((9515340,), int64)\n",
       "  nbytes: 72.60 MB; cbytes: 11.84 MB; ratio: 6.13\n",
       "  cparams := cparams(clevel=4, shuffle=True, cname='lz4')\n",
       "[       9       10       25 ..., 99999966 99999973 99999995]"
      ]
     },
     "execution_count": 24,
     "metadata": {},
     "output_type": "execute_result"
    }
   ],
   "source": [
    "vtc2.pos"
   ]
  },
  {
   "cell_type": "code",
   "execution_count": 25,
   "metadata": {
    "collapsed": false
   },
   "outputs": [
    {
     "name": "stdout",
     "output_type": "stream",
     "text": [
      "1 loops, best of 3: 192 ms per loop\n"
     ]
    }
   ],
   "source": [
    "%timeit vtc2.eval(query)"
   ]
  },
  {
   "cell_type": "code",
   "execution_count": 26,
   "metadata": {
    "collapsed": false
   },
   "outputs": [
    {
     "name": "stdout",
     "output_type": "stream",
     "text": [
      "peak memory: 1306.82 MiB, increment: 0.76 MiB\n"
     ]
    }
   ],
   "source": [
    "%memit vtc2.eval(query)"
   ]
  },
  {
   "cell_type": "code",
   "execution_count": 27,
   "metadata": {
    "collapsed": false
   },
   "outputs": [
    {
     "name": "stdout",
     "output_type": "stream",
     "text": [
      "1 loops, best of 3: 400 ms per loop\n",
      "peak memory: 1463.86 MiB, increment: 145.38 MiB\n"
     ]
    }
   ],
   "source": [
    "h5g = h5py.File(fn1, mode='r')['table']\n",
    "%timeit numexpr.evaluate(query, local_dict=h5g)\n",
    "%memit numexpr.evaluate(query, local_dict=h5g)"
   ]
  },
  {
   "cell_type": "markdown",
   "metadata": {},
   "source": [
    "## VCF"
   ]
  },
  {
   "cell_type": "code",
   "execution_count": 21,
   "metadata": {
    "collapsed": false
   },
   "outputs": [
    {
     "data": {
      "text/html": [
       "<div style=\"max-height:1000px;max-width:1500px;overflow:auto;\">\n",
       "<table border=\"1\" class=\"dataframe\">\n",
       "  <thead>\n",
       "    <tr style=\"text-align: right;\">\n",
       "      <th></th>\n",
       "      <th>CHROM</th>\n",
       "      <th>POS</th>\n",
       "      <th>REF</th>\n",
       "      <th>DP</th>\n",
       "      <th>MQ</th>\n",
       "      <th>ZZ</th>\n",
       "      <th>FLG</th>\n",
       "    </tr>\n",
       "  </thead>\n",
       "  <tbody>\n",
       "    <tr>\n",
       "      <th>0</th>\n",
       "      <td> b'chr1'</td>\n",
       "      <td>  961</td>\n",
       "      <td> b'A'</td>\n",
       "      <td>  4</td>\n",
       "      <td> 0.922264</td>\n",
       "      <td> b'a'</td>\n",
       "      <td> False</td>\n",
       "    </tr>\n",
       "    <tr>\n",
       "      <th>1</th>\n",
       "      <td> b'chr1'</td>\n",
       "      <td> 1812</td>\n",
       "      <td> b'A'</td>\n",
       "      <td> 70</td>\n",
       "      <td> 0.970685</td>\n",
       "      <td> b'c'</td>\n",
       "      <td> False</td>\n",
       "    </tr>\n",
       "    <tr>\n",
       "      <th>2</th>\n",
       "      <td> b'chr1'</td>\n",
       "      <td> 1937</td>\n",
       "      <td> b'G'</td>\n",
       "      <td> 71</td>\n",
       "      <td> 0.925726</td>\n",
       "      <td> b'b'</td>\n",
       "      <td> False</td>\n",
       "    </tr>\n",
       "    <tr>\n",
       "      <th>3</th>\n",
       "      <td> b'chr1'</td>\n",
       "      <td> 2324</td>\n",
       "      <td> b'A'</td>\n",
       "      <td> 71</td>\n",
       "      <td> 0.190789</td>\n",
       "      <td> b'b'</td>\n",
       "      <td>  True</td>\n",
       "    </tr>\n",
       "    <tr>\n",
       "      <th>4</th>\n",
       "      <td> b'chr1'</td>\n",
       "      <td> 2383</td>\n",
       "      <td> b'T'</td>\n",
       "      <td> 50</td>\n",
       "      <td> 0.214158</td>\n",
       "      <td> b'b'</td>\n",
       "      <td>  True</td>\n",
       "    </tr>\n",
       "  </tbody>\n",
       "</table>\n",
       "</div>"
      ],
      "text/plain": [
       "VariantTable((99939,), dtype=[('CHROM', 'S4'), ('POS', '<i8'), ('REF', 'S1'), ('DP', '<i8'), ('MQ', '<f8'), ('ZZ', 'S1'), ('FLG', '?')])\n",
       "[(b'chr1', 961, b'A', 4, 0.9222638986796139, b'a', False)\n",
       " (b'chr1', 1812, b'A', 70, 0.9706849895478908, b'c', False)\n",
       " (b'chr1', 1937, b'G', 71, 0.9257257271415631, b'b', False) ...,\n",
       " (b'chr1', 99997122, b'A', 94, 0.17218578661826123, b'b', True)\n",
       " (b'chr1', 99997355, b'G', 43, 0.1816417733322946, b'c', False)\n",
       " (b'chr1', 99997830, b'C', 38, 0.6657626339540229, b'b', False)]"
      ]
     },
     "execution_count": 21,
     "metadata": {},
     "output_type": "execute_result"
    }
   ],
   "source": [
    "size = 100000\n",
    "pos = np.unique(np.random.randint(0, 100000000, size=size))\n",
    "chrom = np.array([b'chr1'] * pos.size)\n",
    "ref = np.random.choice([b'A', b'C', b'T', b'G'], size=pos.size)\n",
    "x = np.random.randint(0, 100, size=pos.size)\n",
    "y = np.random.random(size=pos.size)\n",
    "z = np.random.choice([b'a', b'b', b'c'], size=pos.size)\n",
    "flag = np.random.randint(0, 2, size=pos.size).astype(bool)\n",
    "columns = [chrom, pos, ref, x, y, z, flag]\n",
    "names = ['CHROM', 'POS', 'REF', 'DP', 'MQ', 'ZZ', 'FLG']\n",
    "a = np.rec.fromarrays(columns, names=names)\n",
    "vt = allel.model.VariantTable(a)\n",
    "vt"
   ]
  },
  {
   "cell_type": "code",
   "execution_count": 22,
   "metadata": {
    "collapsed": false
   },
   "outputs": [
    {
     "name": "stdout",
     "output_type": "stream",
     "text": [
      "CPU times: user 3.08 s, sys: 16 ms, total: 3.09 s\n",
      "Wall time: 3.09 s\n"
     ]
    }
   ],
   "source": [
    "fn = tempfile.mktemp()\n",
    "%time vt.to_vcf(fn)"
   ]
  },
  {
   "cell_type": "code",
   "execution_count": 23,
   "metadata": {
    "collapsed": false
   },
   "outputs": [
    {
     "data": {
      "text/html": [
       "<div style=\"max-height:1000px;max-width:1500px;overflow:auto;\">\n",
       "<table border=\"1\" class=\"dataframe\">\n",
       "  <thead>\n",
       "    <tr style=\"text-align: right;\">\n",
       "      <th></th>\n",
       "      <th>CHROM</th>\n",
       "      <th>POS</th>\n",
       "      <th>REF</th>\n",
       "      <th>DP</th>\n",
       "      <th>MQ</th>\n",
       "      <th>ZZ</th>\n",
       "      <th>FLG</th>\n",
       "    </tr>\n",
       "  </thead>\n",
       "  <tbody>\n",
       "    <tr>\n",
       "      <th>0</th>\n",
       "      <td> b'chr1'</td>\n",
       "      <td>  961</td>\n",
       "      <td> b'A'</td>\n",
       "      <td>  4</td>\n",
       "      <td> 0.922264</td>\n",
       "      <td> b'a'</td>\n",
       "      <td> False</td>\n",
       "    </tr>\n",
       "    <tr>\n",
       "      <th>1</th>\n",
       "      <td> b'chr1'</td>\n",
       "      <td> 1812</td>\n",
       "      <td> b'A'</td>\n",
       "      <td> 70</td>\n",
       "      <td> 0.970685</td>\n",
       "      <td> b'c'</td>\n",
       "      <td> False</td>\n",
       "    </tr>\n",
       "    <tr>\n",
       "      <th>2</th>\n",
       "      <td> b'chr1'</td>\n",
       "      <td> 1937</td>\n",
       "      <td> b'G'</td>\n",
       "      <td> 71</td>\n",
       "      <td> 0.925726</td>\n",
       "      <td> b'b'</td>\n",
       "      <td> False</td>\n",
       "    </tr>\n",
       "    <tr>\n",
       "      <th>3</th>\n",
       "      <td> b'chr1'</td>\n",
       "      <td> 2324</td>\n",
       "      <td> b'A'</td>\n",
       "      <td> 71</td>\n",
       "      <td> 0.190789</td>\n",
       "      <td> b'b'</td>\n",
       "      <td>  True</td>\n",
       "    </tr>\n",
       "    <tr>\n",
       "      <th>4</th>\n",
       "      <td> b'chr1'</td>\n",
       "      <td> 2383</td>\n",
       "      <td> b'T'</td>\n",
       "      <td> 50</td>\n",
       "      <td> 0.214158</td>\n",
       "      <td> b'b'</td>\n",
       "      <td>  True</td>\n",
       "    </tr>\n",
       "  </tbody>\n",
       "</table>\n",
       "</div>"
      ],
      "text/plain": [
       "VariantCTable((99939,), [('CHROM', 'S4'), ('POS', '<i8'), ('REF', 'S1'), ('DP', '<i8'), ('MQ', '<f8'), ('ZZ', 'S1'), ('FLG', '?')])\n",
       "  nbytes: 2.95 MB; cbytes: 2.33 MB; ratio: 1.27\n",
       "  cparams := cparams(clevel=5, shuffle=True, cname='blosclz')\n",
       "[(b'chr1', 961, b'A', 4, 0.9222638986796139, b'a', False)\n",
       " (b'chr1', 1812, b'A', 70, 0.9706849895478908, b'c', False)\n",
       " (b'chr1', 1937, b'G', 71, 0.9257257271415631, b'b', False) ...,\n",
       " (b'chr1', 99997122, b'A', 94, 0.17218578661826123, b'b', True)\n",
       " (b'chr1', 99997355, b'G', 43, 0.1816417733322946, b'c', False)\n",
       " (b'chr1', 99997830, b'C', 38, 0.6657626339540229, b'b', False)]"
      ]
     },
     "execution_count": 23,
     "metadata": {},
     "output_type": "execute_result"
    }
   ],
   "source": [
    "vct = allel.bcolz.VariantCTable(columns, names=names)\n",
    "vct"
   ]
  },
  {
   "cell_type": "code",
   "execution_count": 28,
   "metadata": {
    "collapsed": false
   },
   "outputs": [
    {
     "name": "stdout",
     "output_type": "stream",
     "text": [
      "CPU times: user 3.09 s, sys: 12 ms, total: 3.1 s\n",
      "Wall time: 3.09 s\n"
     ]
    }
   ],
   "source": [
    "%time vct.to_vcf(fn)"
   ]
  },
  {
   "cell_type": "code",
   "execution_count": 25,
   "metadata": {
    "collapsed": false
   },
   "outputs": [
    {
     "name": "stdout",
     "output_type": "stream",
     "text": [
      "##fileformat=VCFv4.1\r\n",
      "##fileDate=20150225\r\n",
      "##source=scikit-allel-0.6.0.dev2\r\n",
      "##INFO=<ID=DP,Number=1,Type=Integer,Description=\"\">\r\n",
      "##INFO=<ID=FLG,Number=0,Type=Flag,Description=\"\">\r\n",
      "##INFO=<ID=MQ,Number=1,Type=Float,Description=\"\">\r\n",
      "##INFO=<ID=ZZ,Number=1,Type=String,Description=\"\">\r\n",
      "#CHROM\tPOS\tID\tREF\tALT\tQUAL\tFILTER\tINFO\r\n",
      "chr1\t961\t.\tA\t.\t.\t.\tDP=4;MQ=0.92226389868;ZZ=a\r",
      "\r\n",
      "chr1\t1812\t.\tA\t.\t.\t.\tDP=70;MQ=0.970684989548;ZZ=c\r",
      "\r\n",
      "chr1\t1937\t.\tG\t.\t.\t.\tDP=71;MQ=0.925725727142;ZZ=b\r",
      "\r\n",
      "chr1\t2324\t.\tA\t.\t.\t.\tDP=71;FLG;MQ=0.190789251089;ZZ=b\r",
      "\r\n",
      "chr1\t2383\t.\tT\t.\t.\t.\tDP=50;FLG;MQ=0.214157901464;ZZ=b\r",
      "\r\n",
      "chr1\t3740\t.\tA\t.\t.\t.\tDP=23;MQ=0.0477399302848;ZZ=b\r",
      "\r\n",
      "chr1\t3978\t.\tT\t.\t.\t.\tDP=20;FLG;MQ=0.489855469117;ZZ=c\r",
      "\r\n",
      "chr1\t5397\t.\tG\t.\t.\t.\tDP=65;FLG;MQ=0.292203259144;ZZ=c\r",
      "\r\n",
      "chr1\t5646\t.\tC\t.\t.\t.\tDP=7;MQ=0.940430619662;ZZ=c\r",
      "\r\n",
      "chr1\t6761\t.\tA\t.\t.\t.\tDP=54;FLG;MQ=0.459540675249;ZZ=a\r",
      "\r\n",
      "chr1\t6839\t.\tC\t.\t.\t.\tDP=29;MQ=0.961988545598;ZZ=b\r",
      "\r\n",
      "chr1\t7801\t.\tC\t.\t.\t.\tDP=78;MQ=0.0522209535111;ZZ=c\r",
      "\r\n"
     ]
    }
   ],
   "source": [
    "!head -n20 {fn}"
   ]
  },
  {
   "cell_type": "code",
   "execution_count": 26,
   "metadata": {
    "collapsed": false
   },
   "outputs": [
    {
     "name": "stdout",
     "output_type": "stream",
     "text": [
      "chr1\t99975348\t.\tT\t.\t.\t.\tDP=20;FLG;MQ=0.648477263337;ZZ=c\r",
      "\r\n",
      "chr1\t99978373\t.\tC\t.\t.\t.\tDP=60;FLG;MQ=0.378684269053;ZZ=c\r",
      "\r\n",
      "chr1\t99978911\t.\tG\t.\t.\t.\tDP=84;FLG;MQ=0.880819844242;ZZ=a\r",
      "\r\n",
      "chr1\t99980404\t.\tC\t.\t.\t.\tDP=70;FLG;MQ=0.0227780525978;ZZ=b\r",
      "\r\n",
      "chr1\t99980473\t.\tA\t.\t.\t.\tDP=36;MQ=0.789241246483;ZZ=c\r",
      "\r\n",
      "chr1\t99980767\t.\tT\t.\t.\t.\tDP=79;MQ=0.146154489605;ZZ=b\r",
      "\r\n",
      "chr1\t99981663\t.\tC\t.\t.\t.\tDP=96;FLG;MQ=0.634845144778;ZZ=c\r",
      "\r\n",
      "chr1\t99983640\t.\tC\t.\t.\t.\tDP=34;FLG;MQ=0.807069869529;ZZ=a\r",
      "\r\n",
      "chr1\t99984076\t.\tA\t.\t.\t.\tDP=50;MQ=0.77312365257;ZZ=b\r",
      "\r\n",
      "chr1\t99984504\t.\tG\t.\t.\t.\tDP=22;MQ=0.46349080245;ZZ=c\r",
      "\r\n",
      "chr1\t99985202\t.\tG\t.\t.\t.\tDP=44;FLG;MQ=0.752395855687;ZZ=a\r",
      "\r\n",
      "chr1\t99985548\t.\tA\t.\t.\t.\tDP=36;MQ=0.330695408744;ZZ=b\r",
      "\r\n",
      "chr1\t99986566\t.\tA\t.\t.\t.\tDP=35;MQ=0.795041710901;ZZ=c\r",
      "\r\n",
      "chr1\t99987058\t.\tA\t.\t.\t.\tDP=82;FLG;MQ=0.77352409433;ZZ=b\r",
      "\r\n",
      "chr1\t99991192\t.\tT\t.\t.\t.\tDP=29;MQ=0.990447613724;ZZ=b\r",
      "\r\n",
      "chr1\t99991731\t.\tG\t.\t.\t.\tDP=34;MQ=0.425923765829;ZZ=a\r",
      "\r\n",
      "chr1\t99993549\t.\tA\t.\t.\t.\tDP=8;MQ=0.130474513454;ZZ=c\r",
      "\r\n",
      "chr1\t99997122\t.\tA\t.\t.\t.\tDP=94;FLG;MQ=0.172185786618;ZZ=b\r",
      "\r\n",
      "chr1\t99997355\t.\tG\t.\t.\t.\tDP=43;MQ=0.181641773332;ZZ=c\r",
      "\r\n",
      "chr1\t99997830\t.\tC\t.\t.\t.\tDP=38;MQ=0.665762633954;ZZ=b\r",
      "\r\n"
     ]
    }
   ],
   "source": [
    "!tail -n20 {fn}"
   ]
  },
  {
   "cell_type": "code",
   "execution_count": null,
   "metadata": {
    "collapsed": false
   },
   "outputs": [],
   "source": []
  }
 ],
 "metadata": {
  "kernelspec": {
   "display_name": "Python 3",
   "language": "python",
   "name": "python3"
  },
  "language_info": {
   "codemirror_mode": {
    "name": "ipython",
    "version": 3
   },
   "file_extension": ".py",
   "mimetype": "text/x-python",
   "name": "python",
   "nbconvert_exporter": "python",
   "pygments_lexer": "ipython3",
   "version": "3.4.2"
  }
 },
 "nbformat": 4,
 "nbformat_minor": 0
}
