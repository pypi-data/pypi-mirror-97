{
 "cells": [
  {
   "cell_type": "code",
   "execution_count": 1,
   "metadata": {
    "collapsed": false
   },
   "outputs": [
    {
     "data": {
      "text/plain": [
       "'1.0.0.dev0'"
      ]
     },
     "execution_count": 1,
     "metadata": {},
     "output_type": "execute_result"
    }
   ],
   "source": [
    "import numpy as np\n",
    "import bcolz\n",
    "import h5py\n",
    "import os\n",
    "os.chdir('../..')\n",
    "import allel\n",
    "allel.__version__"
   ]
  },
  {
   "cell_type": "code",
   "execution_count": 2,
   "metadata": {
    "collapsed": false
   },
   "outputs": [
    {
     "data": {
      "text/plain": [
       "array([       0,        1,        2, ..., 19999997, 19999998, 19999999])"
      ]
     },
     "execution_count": 2,
     "metadata": {},
     "output_type": "execute_result"
    }
   ],
   "source": [
    "a = np.arange(20000000)\n",
    "a"
   ]
  },
  {
   "cell_type": "code",
   "execution_count": 3,
   "metadata": {
    "collapsed": false
   },
   "outputs": [
    {
     "data": {
      "text/plain": [
       "carray((20000000,), int64)\n",
       "  nbytes := 152.59 MB; cbytes := 2.41 MB; ratio: 63.28\n",
       "  cparams := cparams(clevel=1, shuffle=True, cname='zlib', quantize=0)\n",
       "  chunklen := 131072; chunksize: 1048576; blocksize: 131072\n",
       "  rootdir := '/tmp/scikit_allel_5y9lqsv4.bcolz'\n",
       "  mode    := 'w'\n",
       "[       0        1        2 ..., 19999997 19999998 19999999]"
      ]
     },
     "execution_count": 3,
     "metadata": {},
     "output_type": "execute_result"
    }
   ],
   "source": [
    "c = allel.chunked.bcolztmp_storage.array(a, cparams=bcolz.cparams(cname='zlib', clevel=1, shuffle=True))\n",
    "c.flush()\n",
    "c"
   ]
  },
  {
   "cell_type": "code",
   "execution_count": 4,
   "metadata": {
    "collapsed": false
   },
   "outputs": [
    {
     "name": "stdout",
     "output_type": "stream",
     "text": [
      "1.9M\t/tmp/scikit_allel_5y9lqsv4.bcolz\r\n"
     ]
    }
   ],
   "source": [
    "!du -hs {c.rootdir}"
   ]
  },
  {
   "cell_type": "code",
   "execution_count": 5,
   "metadata": {
    "collapsed": false
   },
   "outputs": [
    {
     "data": {
      "text/plain": [
       "<ChunkedArrayWrapper shape=(20000000,) dtype=int64 chunks=(131072,)\n",
       "   nbytes=152.6M cbytes=2.4M cratio=63.3\n",
       "   compression=blosc compression_opts=cparams(clevel=1, shuffle=True, cname='zlib', quantize=0)\n",
       "   values=bcolz.carray_ext.carray>"
      ]
     },
     "execution_count": 5,
     "metadata": {},
     "output_type": "execute_result"
    }
   ],
   "source": [
    "allel.chunked.ChunkedArrayWrapper(c)"
   ]
  },
  {
   "cell_type": "code",
   "execution_count": 6,
   "metadata": {
    "collapsed": false
   },
   "outputs": [
    {
     "data": {
      "text/plain": [
       "<HDF5 dataset \"data\": shape (20000000,), type \"<i8\">"
      ]
     },
     "execution_count": 6,
     "metadata": {},
     "output_type": "execute_result"
    }
   ],
   "source": [
    "h = allel.chunked.hdf5tmp_storage.array(a, compression='gzip', compression_opts=1, shuffle=True, chunks=(c.chunklen,))\n",
    "h.file.flush()\n",
    "h"
   ]
  },
  {
   "cell_type": "code",
   "execution_count": 7,
   "metadata": {
    "collapsed": false
   },
   "outputs": [
    {
     "name": "stdout",
     "output_type": "stream",
     "text": [
      "932K\t/tmp/scikit_allel_mo8d55nc.h5\r\n"
     ]
    }
   ],
   "source": [
    "!du -h {h.file.filename}"
   ]
  },
  {
   "cell_type": "code",
   "execution_count": 8,
   "metadata": {
    "collapsed": false
   },
   "outputs": [
    {
     "data": {
      "text/plain": [
       "<ChunkedArrayWrapper shape=(20000000,) dtype=int64 chunks=(131072,)\n",
       "   nbytes=152.6M cbytes=920.4K cratio=169.8\n",
       "   compression=gzip compression_opts=1\n",
       "   values=h5py._hl.dataset.Dataset>"
      ]
     },
     "execution_count": 8,
     "metadata": {},
     "output_type": "execute_result"
    }
   ],
   "source": [
    "allel.chunked.ChunkedArrayWrapper(h)"
   ]
  },
  {
   "cell_type": "code",
   "execution_count": 9,
   "metadata": {
    "collapsed": false
   },
   "outputs": [
    {
     "data": {
      "text/plain": [
       "Array((20000000,), int64, chunks=(39063,), order=C)\n",
       "  nbytes: 152.6M; nbytes_stored: 2.3M; ratio: 66.1; initialized: 512/512\n",
       "  compressor: Blosc(cname='lz4', clevel=5, shuffle=1)\n",
       "  store: DictStore"
      ]
     },
     "execution_count": 9,
     "metadata": {},
     "output_type": "execute_result"
    }
   ],
   "source": [
    "z = allel.chunked.copy(a, storage='zarrmem')\n",
    "z"
   ]
  },
  {
   "cell_type": "code",
   "execution_count": 10,
   "metadata": {
    "collapsed": false
   },
   "outputs": [
    {
     "data": {
      "text/plain": [
       "Array((20000000,), int64, chunks=(39063,), order=C)\n",
       "  nbytes: 152.6M; nbytes_stored: 2.3M; ratio: 66.1; initialized: 512/512\n",
       "  compressor: Blosc(cname='lz4', clevel=5, shuffle=1)\n",
       "  store: TempStore"
      ]
     },
     "execution_count": 10,
     "metadata": {},
     "output_type": "execute_result"
    }
   ],
   "source": [
    "z = allel.chunked.copy(a, storage='zarrtmp')\n",
    "z"
   ]
  },
  {
   "cell_type": "code",
   "execution_count": 11,
   "metadata": {
    "collapsed": false
   },
   "outputs": [
    {
     "data": {
      "text/plain": [
       "'/tmp/scikit_allel_y0qqf9ak.zarr'"
      ]
     },
     "execution_count": 11,
     "metadata": {},
     "output_type": "execute_result"
    }
   ],
   "source": [
    "z.store.path"
   ]
  },
  {
   "cell_type": "code",
   "execution_count": 12,
   "metadata": {
    "collapsed": false
   },
   "outputs": [
    {
     "data": {
      "text/plain": [
       "Array((20000000,), int64, chunks=(39063,), order=C)\n",
       "  nbytes: 152.6M; nbytes_stored: 2.3M; ratio: 66.1; initialized: 512/512\n",
       "  compressor: Blosc(cname='lz4', clevel=5, shuffle=1)\n",
       "  store: DirectoryStore"
      ]
     },
     "execution_count": 12,
     "metadata": {},
     "output_type": "execute_result"
    }
   ],
   "source": [
    "z = allel.chunked.copy(a, storage='zarr', store='array.zarr', overwrite=True)\n",
    "z"
   ]
  },
  {
   "cell_type": "code",
   "execution_count": 13,
   "metadata": {
    "collapsed": false
   },
   "outputs": [
    {
     "data": {
      "text/plain": [
       "'/home/aliman/src/github/cggh/scikit-allel/array.zarr'"
      ]
     },
     "execution_count": 13,
     "metadata": {},
     "output_type": "execute_result"
    }
   ],
   "source": [
    "z.store.path"
   ]
  },
  {
   "cell_type": "code",
   "execution_count": 14,
   "metadata": {
    "collapsed": false
   },
   "outputs": [
    {
     "data": {
      "text/plain": [
       "<HDF5 file \"scikit_allel_7rxbjikn.h5\" (mode r+)>"
      ]
     },
     "execution_count": 14,
     "metadata": {},
     "output_type": "execute_result"
    }
   ],
   "source": [
    "g = allel.chunked.hdf5tmp_storage.table([a, a], compression='gzip', compression_opts=1, shuffle=True)\n",
    "g"
   ]
  },
  {
   "cell_type": "code",
   "execution_count": 15,
   "metadata": {
    "collapsed": false
   },
   "outputs": [
    {
     "data": {
      "text/html": [
       "&lt;ChunkedTableWrapper shape=(20000000,) dtype=[('f0', '&lt;i8'), ('f1', '&lt;i8')]\n",
       "   nbytes=305.2M cbytes=1.8M cratio=169.8\n",
       "   values=h5py._hl.files.File><table><tr><th></th><th style=\"text-align: center\">f0</th><th style=\"text-align: center\">f1</th></tr><tr><th style=\"text-align: center\">0</th><td style=\"text-align: center\">0</td><td style=\"text-align: center\">0</td></tr><tr><th style=\"text-align: center\">1</th><td style=\"text-align: center\">1</td><td style=\"text-align: center\">1</td></tr><tr><th style=\"text-align: center\">2</th><td style=\"text-align: center\">2</td><td style=\"text-align: center\">2</td></tr><tr><th style=\"text-align: center\">...</th><td style=\"text-align: center\" colspan=3>...</td></tr><tr><th style=\"text-align: center\">19999997</th><td style=\"text-align: center\">19999997</td><td style=\"text-align: center\">19999997</td></tr><tr><th style=\"text-align: center\">19999998</th><td style=\"text-align: center\">19999998</td><td style=\"text-align: center\">19999998</td></tr><tr><th style=\"text-align: center\">19999999</th><td style=\"text-align: center\">19999999</td><td style=\"text-align: center\">19999999</td></tr></table>"
      ],
      "text/plain": [
       "<ChunkedTableWrapper shape=(20000000,) dtype=[('f0', '<i8'), ('f1', '<i8')]\n",
       "   nbytes=305.2M cbytes=1.8M cratio=169.8\n",
       "   values=h5py._hl.files.File>"
      ]
     },
     "execution_count": 15,
     "metadata": {},
     "output_type": "execute_result"
    }
   ],
   "source": [
    "allel.chunked.ChunkedTableWrapper(g)"
   ]
  },
  {
   "cell_type": "code",
   "execution_count": 16,
   "metadata": {
    "collapsed": false
   },
   "outputs": [
    {
     "data": {
      "text/plain": [
       "ctable((20000000,), [('f0', '<i8'), ('f1', '<i8')])\n",
       "  nbytes: 305.18 MB; cbytes: 7.19 MB; ratio: 42.44\n",
       "  cparams := cparams(clevel=5, shuffle=1, cname='lz4', quantize=0)\n",
       "[(0, 0) (1, 1) (2, 2) ..., (19999997, 19999997) (19999998, 19999998)\n",
       " (19999999, 19999999)]"
      ]
     },
     "execution_count": 16,
     "metadata": {},
     "output_type": "execute_result"
    }
   ],
   "source": [
    "allel.chunked.copy_table(g, storage='bcolz')"
   ]
  },
  {
   "cell_type": "code",
   "execution_count": 21,
   "metadata": {
    "collapsed": false
   },
   "outputs": [
    {
     "data": {
      "text/plain": [
       "<allel.chunked.storage_zarr.ZarrTable at 0x7fac3c36ac18>"
      ]
     },
     "execution_count": 21,
     "metadata": {},
     "output_type": "execute_result"
    }
   ],
   "source": [
    "z = allel.chunked.copy_table(g, storage='zarr')\n",
    "z"
   ]
  },
  {
   "cell_type": "code",
   "execution_count": 22,
   "metadata": {
    "collapsed": false
   },
   "outputs": [
    {
     "data": {
      "text/plain": [
       "Group(/, 2)\n",
       "  arrays: 2; f0, f1\n",
       "  store: DictStore"
      ]
     },
     "execution_count": 22,
     "metadata": {},
     "output_type": "execute_result"
    }
   ],
   "source": [
    "z.grp"
   ]
  },
  {
   "cell_type": "code",
   "execution_count": 23,
   "metadata": {
    "collapsed": false
   },
   "outputs": [
    {
     "data": {
      "text/plain": [
       "<allel.chunked.storage_zarr.ZarrTable at 0x7fac3c379be0>"
      ]
     },
     "execution_count": 23,
     "metadata": {},
     "output_type": "execute_result"
    }
   ],
   "source": [
    "z = allel.chunked.copy_table(g, storage='zarr', store='test.zarr', overwrite=True)\n",
    "z"
   ]
  },
  {
   "cell_type": "code",
   "execution_count": 24,
   "metadata": {
    "collapsed": false
   },
   "outputs": [
    {
     "data": {
      "text/plain": [
       "Group(/, 2)\n",
       "  arrays: 2; f0, f1\n",
       "  store: DirectoryStore"
      ]
     },
     "execution_count": 24,
     "metadata": {},
     "output_type": "execute_result"
    }
   ],
   "source": [
    "z.grp"
   ]
  },
  {
   "cell_type": "code",
   "execution_count": 25,
   "metadata": {
    "collapsed": false
   },
   "outputs": [
    {
     "name": "stdout",
     "output_type": "stream",
     "text": [
      "total 24K\r\n",
      "drwxrwxr-x 2 aliman aliman 12K Oct 13 10:54 f0\r\n",
      "drwxrwxr-x 2 aliman aliman 12K Oct 13 10:54 f1\r\n"
     ]
    }
   ],
   "source": [
    "!ls -lh test.zarr/"
   ]
  },
  {
   "cell_type": "code",
   "execution_count": 26,
   "metadata": {
    "collapsed": false
   },
   "outputs": [
    {
     "name": "stdout",
     "output_type": "stream",
     "text": [
      "total 4.0M\r\n",
      "-rw------- 1 aliman aliman 4.6K Oct 13 10:54 0\r\n",
      "-rw------- 1 aliman aliman 4.6K Oct 13 10:54 1\r\n",
      "-rw------- 1 aliman aliman 4.7K Oct 13 10:54 10\r\n",
      "-rw------- 1 aliman aliman 4.7K Oct 13 10:54 100\r\n",
      "-rw------- 1 aliman aliman 4.7K Oct 13 10:54 101\r\n",
      "-rw------- 1 aliman aliman 4.7K Oct 13 10:54 102\r\n",
      "-rw------- 1 aliman aliman 4.7K Oct 13 10:54 103\r\n",
      "-rw------- 1 aliman aliman 4.7K Oct 13 10:54 104\r\n",
      "-rw------- 1 aliman aliman 4.7K Oct 13 10:54 105\r\n",
      "ls: write error: Broken pipe\r\n"
     ]
    }
   ],
   "source": [
    "!ls -lh test.zarr/f0 | head -n10"
   ]
  },
  {
   "cell_type": "code",
   "execution_count": 27,
   "metadata": {
    "collapsed": false
   },
   "outputs": [
    {
     "data": {
      "text/plain": [
       "Group(/, 2)\n",
       "  arrays: 2; f0, f1\n",
       "  store: TempStore"
      ]
     },
     "execution_count": 27,
     "metadata": {},
     "output_type": "execute_result"
    }
   ],
   "source": [
    "z = allel.chunked.copy_table(g, storage='zarrtmp')\n",
    "z.grp"
   ]
  },
  {
   "cell_type": "code",
   "execution_count": 28,
   "metadata": {
    "collapsed": false
   },
   "outputs": [
    {
     "data": {
      "text/plain": [
       "'/tmp/scikit_allel_gi4s2x_e.zarr'"
      ]
     },
     "execution_count": 28,
     "metadata": {},
     "output_type": "execute_result"
    }
   ],
   "source": [
    "z['f0'].store.path"
   ]
  },
  {
   "cell_type": "code",
   "execution_count": 30,
   "metadata": {
    "collapsed": false
   },
   "outputs": [
    {
     "data": {
      "text/html": [
       "&lt;ChunkedTableWrapper shape=(20000000,) dtype=[('f0', '&lt;i8'), ('f1', '&lt;i8')]\n",
       "   nbytes=305.2M cbytes=4.6M cratio=66.1\n",
       "   values=allel.chunked.storage_zarr.ZarrTable><table><tr><th></th><th style=\"text-align: center\">f0</th><th style=\"text-align: center\">f1</th></tr><tr><th style=\"text-align: center\">0</th><td style=\"text-align: center\">0</td><td style=\"text-align: center\">0</td></tr><tr><th style=\"text-align: center\">1</th><td style=\"text-align: center\">1</td><td style=\"text-align: center\">1</td></tr><tr><th style=\"text-align: center\">2</th><td style=\"text-align: center\">2</td><td style=\"text-align: center\">2</td></tr><tr><th style=\"text-align: center\">...</th><td style=\"text-align: center\" colspan=3>...</td></tr><tr><th style=\"text-align: center\">19999997</th><td style=\"text-align: center\">19999997</td><td style=\"text-align: center\">19999997</td></tr><tr><th style=\"text-align: center\">19999998</th><td style=\"text-align: center\">19999998</td><td style=\"text-align: center\">19999998</td></tr><tr><th style=\"text-align: center\">19999999</th><td style=\"text-align: center\">19999999</td><td style=\"text-align: center\">19999999</td></tr></table>"
      ],
      "text/plain": [
       "<ChunkedTableWrapper shape=(20000000,) dtype=[('f0', '<i8'), ('f1', '<i8')]\n",
       "   nbytes=305.2M cbytes=4.6M cratio=66.1\n",
       "   values=allel.chunked.storage_zarr.ZarrTable>"
      ]
     },
     "execution_count": 30,
     "metadata": {},
     "output_type": "execute_result"
    }
   ],
   "source": [
    "allel.chunked.ChunkedTableWrapper(z)"
   ]
  },
  {
   "cell_type": "code",
   "execution_count": null,
   "metadata": {
    "collapsed": true
   },
   "outputs": [],
   "source": []
  }
 ],
 "metadata": {
  "kernelspec": {
   "display_name": "Python 3",
   "language": "python",
   "name": "python3"
  },
  "language_info": {
   "codemirror_mode": {
    "name": "ipython",
    "version": 3
   },
   "file_extension": ".py",
   "mimetype": "text/x-python",
   "name": "python",
   "nbconvert_exporter": "python",
   "pygments_lexer": "ipython3",
   "version": "3.5.2"
  }
 },
 "nbformat": 4,
 "nbformat_minor": 0
}
