{
 "cells": [
  {
   "cell_type": "code",
   "execution_count": 1,
   "metadata": {
    "collapsed": false
   },
   "outputs": [
    {
     "name": "stdout",
     "output_type": "stream",
     "text": [
      "dask 0.7.5\n",
      "h5py 2.5.0\n",
      "scikit-allel 0.20.1\n"
     ]
    }
   ],
   "source": [
    "import numpy as np\n",
    "import dask\n",
    "print('dask', dask.__version__)\n",
    "import dask.array as da\n",
    "import h5py\n",
    "print('h5py', h5py.__version__)\n",
    "import sys\n",
    "sys.path.insert(0, '../..')\n",
    "import allel\n",
    "print('scikit-allel', allel.__version__)"
   ]
  },
  {
   "cell_type": "code",
   "execution_count": 2,
   "metadata": {
    "collapsed": false
   },
   "outputs": [
    {
     "name": "stdout",
     "output_type": "stream",
     "text": [
      "bcolz 0.12.1\n"
     ]
    }
   ],
   "source": [
    "import bcolz\n",
    "print('bcolz', bcolz.__version__)"
   ]
  },
  {
   "cell_type": "code",
   "execution_count": 3,
   "metadata": {
    "collapsed": false
   },
   "outputs": [
    {
     "data": {
      "text/plain": [
       "('1.4.1', '$Date:: 2014-07-08 #$')"
      ]
     },
     "execution_count": 3,
     "metadata": {},
     "output_type": "execute_result"
    }
   ],
   "source": [
    "bcolz.blosc_version()"
   ]
  },
  {
   "cell_type": "code",
   "execution_count": 4,
   "metadata": {
    "collapsed": false
   },
   "outputs": [
    {
     "data": {
      "text/plain": [
       "4"
      ]
     },
     "execution_count": 4,
     "metadata": {},
     "output_type": "execute_result"
    }
   ],
   "source": [
    "bcolz.detect_number_of_cores()"
   ]
  },
  {
   "cell_type": "markdown",
   "metadata": {},
   "source": [
    "Let's use some real data..."
   ]
  },
  {
   "cell_type": "code",
   "execution_count": 2,
   "metadata": {
    "collapsed": false
   },
   "outputs": [
    {
     "data": {
      "text/plain": [
       "<HDF5 file \"ag1000g.phase1.ar3.pass.h5\" (mode r)>"
      ]
     },
     "execution_count": 2,
     "metadata": {},
     "output_type": "execute_result"
    }
   ],
   "source": [
    "callset = h5py.File('/data/coluzzi/ag1000g/data/phase1/release/AR3/variation/main/hdf5/ag1000g.phase1.ar3.pass.h5', mode='r')\n",
    "callset"
   ]
  },
  {
   "cell_type": "code",
   "execution_count": 3,
   "metadata": {
    "collapsed": false
   },
   "outputs": [
    {
     "data": {
      "text/html": [
       "<table class='petl'>\n",
       "<caption>GenotypeChunkedArray((9643193, 765, 2), int8, nbytes=13.7G, cbytes=548.0M, cratio=25.7, cname=gzip, clevel=3, shuffle=False, chunks=(6553, 10, 2), data=h5py._hl.dataset.Dataset)</caption>\n",
       "<thead>\n",
       "<tr>\n",
       "<th></th>\n",
       "<th>0</th>\n",
       "<th>1</th>\n",
       "<th>2</th>\n",
       "<th>3</th>\n",
       "<th>4</th>\n",
       "<th>...</th>\n",
       "<th>760</th>\n",
       "<th>761</th>\n",
       "<th>762</th>\n",
       "<th>763</th>\n",
       "<th>764</th>\n",
       "</tr>\n",
       "</thead>\n",
       "<tbody>\n",
       "<tr>\n",
       "<td style='font-weight: bold'>0</td>\n",
       "<td>0/0</td>\n",
       "<td>0/0</td>\n",
       "<td>0/0</td>\n",
       "<td>0/0</td>\n",
       "<td>0/0</td>\n",
       "<td>...</td>\n",
       "<td>0/0</td>\n",
       "<td>0/0</td>\n",
       "<td>0/0</td>\n",
       "<td>0/0</td>\n",
       "<td>0/0</td>\n",
       "</tr>\n",
       "<tr>\n",
       "<td style='font-weight: bold'>1</td>\n",
       "<td>0/0</td>\n",
       "<td>0/0</td>\n",
       "<td>0/0</td>\n",
       "<td>0/0</td>\n",
       "<td>0/0</td>\n",
       "<td>...</td>\n",
       "<td>0/0</td>\n",
       "<td>0/0</td>\n",
       "<td>0/0</td>\n",
       "<td>0/0</td>\n",
       "<td>0/0</td>\n",
       "</tr>\n",
       "<tr>\n",
       "<td style='font-weight: bold'>2</td>\n",
       "<td>0/0</td>\n",
       "<td>0/0</td>\n",
       "<td>0/0</td>\n",
       "<td>0/0</td>\n",
       "<td>0/0</td>\n",
       "<td>...</td>\n",
       "<td>0/0</td>\n",
       "<td>0/0</td>\n",
       "<td>0/0</td>\n",
       "<td>0/0</td>\n",
       "<td>0/0</td>\n",
       "</tr>\n",
       "<tr>\n",
       "<td style='font-weight: bold'>3</td>\n",
       "<td>0/0</td>\n",
       "<td>0/0</td>\n",
       "<td>0/0</td>\n",
       "<td>0/0</td>\n",
       "<td>0/0</td>\n",
       "<td>...</td>\n",
       "<td>0/0</td>\n",
       "<td>0/0</td>\n",
       "<td>0/0</td>\n",
       "<td>0/0</td>\n",
       "<td>0/0</td>\n",
       "</tr>\n",
       "<tr>\n",
       "<td style='font-weight: bold'>4</td>\n",
       "<td>0/0</td>\n",
       "<td>0/0</td>\n",
       "<td>0/0</td>\n",
       "<td>0/0</td>\n",
       "<td>0/0</td>\n",
       "<td>...</td>\n",
       "<td>0/0</td>\n",
       "<td>0/0</td>\n",
       "<td>0/0</td>\n",
       "<td>0/0</td>\n",
       "<td>0/0</td>\n",
       "</tr>\n",
       "</tbody>\n",
       "</table>\n",
       "<p><strong>...</strong></p>"
      ],
      "text/plain": [
       "GenotypeChunkedArray((9643193, 765, 2), int8, nbytes=13.7G, cbytes=548.0M, cratio=25.7, cname=gzip, clevel=3, shuffle=False, chunks=(6553, 10, 2), data=h5py._hl.dataset.Dataset)"
      ]
     },
     "execution_count": 3,
     "metadata": {},
     "output_type": "execute_result"
    }
   ],
   "source": [
    "genotype = allel.model.chunked.GenotypeChunkedArray(callset['3L/calldata/genotype'])\n",
    "genotype"
   ]
  },
  {
   "cell_type": "markdown",
   "metadata": {},
   "source": [
    "Copy the first 2 million rows into a bcolz carray to use for benchmarking."
   ]
  },
  {
   "cell_type": "code",
   "execution_count": null,
   "metadata": {
    "collapsed": false
   },
   "outputs": [],
   "source": [
    "g = genotype.copy(stop=2000000)\n",
    "g"
   ]
  },
  {
   "cell_type": "markdown",
   "metadata": {},
   "source": [
    "Out of interest, what chunk size did bcolz choose?"
   ]
  },
  {
   "cell_type": "code",
   "execution_count": 8,
   "metadata": {
    "collapsed": false
   },
   "outputs": [
    {
     "data": {
      "text/plain": [
       "2096100"
      ]
     },
     "execution_count": 8,
     "metadata": {},
     "output_type": "execute_result"
    }
   ],
   "source": [
    "g.data.chunklen * g.shape[1] * g.shape[2]"
   ]
  },
  {
   "cell_type": "markdown",
   "metadata": {},
   "source": [
    "How long does it take to decompress the data?"
   ]
  },
  {
   "cell_type": "code",
   "execution_count": 4,
   "metadata": {
    "collapsed": true
   },
   "outputs": [],
   "source": [
    "def toarray(x):\n",
    "    np.asarray(x)"
   ]
  },
  {
   "cell_type": "code",
   "execution_count": 10,
   "metadata": {
    "collapsed": false
   },
   "outputs": [
    {
     "name": "stdout",
     "output_type": "stream",
     "text": [
      "--- blosc threads: 1 ---\n",
      "CPU times: user 1.79 s, sys: 164 ms, total: 1.95 s\n",
      "Wall time: 1.95 s\n",
      "\n",
      "--- blosc threads: 2 ---\n",
      "CPU times: user 2 s, sys: 232 ms, total: 2.23 s\n",
      "Wall time: 1.43 s\n",
      "\n",
      "--- blosc threads: 4 ---\n",
      "CPU times: user 2.42 s, sys: 208 ms, total: 2.63 s\n",
      "Wall time: 1.43 s\n",
      "\n",
      "--- blosc threads: 8 ---\n",
      "CPU times: user 2.31 s, sys: 292 ms, total: 2.6 s\n",
      "Wall time: 1.47 s\n",
      "\n"
     ]
    }
   ],
   "source": [
    "for n in 1, 2, 4, 8:\n",
    "    bcolz.blosc_set_nthreads(n)\n",
    "    print('--- blosc threads:', n, '---')\n",
    "    %time toarray(g)\n",
    "    print()"
   ]
  },
  {
   "cell_type": "markdown",
   "metadata": {},
   "source": [
    "How long does it take to compute the maximum value?"
   ]
  },
  {
   "cell_type": "code",
   "execution_count": 8,
   "metadata": {
    "collapsed": true
   },
   "outputs": [],
   "source": [
    "def time_max(x):\n",
    "    x = np.asarray(x)\n",
    "    %time x.max()"
   ]
  },
  {
   "cell_type": "code",
   "execution_count": 12,
   "metadata": {
    "collapsed": false
   },
   "outputs": [
    {
     "name": "stdout",
     "output_type": "stream",
     "text": [
      "CPU times: user 2.96 s, sys: 0 ns, total: 2.96 s\n",
      "Wall time: 2.95 s\n"
     ]
    }
   ],
   "source": [
    "time_max(g)"
   ]
  },
  {
   "cell_type": "markdown",
   "metadata": {},
   "source": [
    "Check that scikit-allel's chunked implementation of max() behaves as expected - implementation is not threaded so total time should equal time to decompress data plus time to compute max."
   ]
  },
  {
   "cell_type": "code",
   "execution_count": 13,
   "metadata": {
    "collapsed": false
   },
   "outputs": [
    {
     "name": "stdout",
     "output_type": "stream",
     "text": [
      "--- blosc threads: 1 ---\n",
      "CPU times: user 5.02 s, sys: 0 ns, total: 5.02 s\n",
      "Wall time: 5.01 s\n",
      "\n",
      "--- blosc threads: 2 ---\n",
      "CPU times: user 5.79 s, sys: 56 ms, total: 5.85 s\n",
      "Wall time: 4.94 s\n",
      "\n",
      "--- blosc threads: 4 ---\n",
      "CPU times: user 6.08 s, sys: 92 ms, total: 6.17 s\n",
      "Wall time: 4.73 s\n",
      "\n",
      "--- blosc threads: 8 ---\n",
      "CPU times: user 6.17 s, sys: 140 ms, total: 6.31 s\n",
      "Wall time: 4.73 s\n",
      "\n"
     ]
    }
   ],
   "source": [
    "for n in 1, 2, 4, 8:\n",
    "    bcolz.blosc_set_nthreads(n)\n",
    "    print('--- blosc threads:', n, '---')\n",
    "    %time g.max()\n",
    "    print()"
   ]
  },
  {
   "cell_type": "markdown",
   "metadata": {},
   "source": [
    "Now see how dask behaves."
   ]
  },
  {
   "cell_type": "code",
   "execution_count": 10,
   "metadata": {
    "collapsed": false
   },
   "outputs": [
    {
     "data": {
      "text/html": [
       "<table class='petl'>\n",
       "<caption>GenotypeDaskArray&lt;from-ar..., shape=(2000000, 765, 2), dtype=int8, chunksize=(1370, 765, 2)></caption>\n",
       "<thead>\n",
       "<tr>\n",
       "<th></th>\n",
       "<th>0</th>\n",
       "<th>1</th>\n",
       "<th>2</th>\n",
       "<th>3</th>\n",
       "<th>4</th>\n",
       "<th>...</th>\n",
       "<th>760</th>\n",
       "<th>761</th>\n",
       "<th>762</th>\n",
       "<th>763</th>\n",
       "<th>764</th>\n",
       "</tr>\n",
       "</thead>\n",
       "<tbody>\n",
       "<tr>\n",
       "<td style='font-weight: bold'>0</td>\n",
       "<td>0/0</td>\n",
       "<td>0/0</td>\n",
       "<td>0/0</td>\n",
       "<td>0/0</td>\n",
       "<td>0/0</td>\n",
       "<td>...</td>\n",
       "<td>0/0</td>\n",
       "<td>0/0</td>\n",
       "<td>0/0</td>\n",
       "<td>0/0</td>\n",
       "<td>0/0</td>\n",
       "</tr>\n",
       "<tr>\n",
       "<td style='font-weight: bold'>1</td>\n",
       "<td>0/0</td>\n",
       "<td>0/0</td>\n",
       "<td>0/0</td>\n",
       "<td>0/0</td>\n",
       "<td>0/0</td>\n",
       "<td>...</td>\n",
       "<td>0/0</td>\n",
       "<td>0/0</td>\n",
       "<td>0/0</td>\n",
       "<td>0/0</td>\n",
       "<td>0/0</td>\n",
       "</tr>\n",
       "<tr>\n",
       "<td style='font-weight: bold'>2</td>\n",
       "<td>0/0</td>\n",
       "<td>0/0</td>\n",
       "<td>0/0</td>\n",
       "<td>0/0</td>\n",
       "<td>0/0</td>\n",
       "<td>...</td>\n",
       "<td>0/0</td>\n",
       "<td>0/0</td>\n",
       "<td>0/0</td>\n",
       "<td>0/0</td>\n",
       "<td>0/0</td>\n",
       "</tr>\n",
       "<tr>\n",
       "<td style='font-weight: bold'>3</td>\n",
       "<td>0/0</td>\n",
       "<td>0/0</td>\n",
       "<td>0/0</td>\n",
       "<td>0/0</td>\n",
       "<td>0/0</td>\n",
       "<td>...</td>\n",
       "<td>0/0</td>\n",
       "<td>0/0</td>\n",
       "<td>0/0</td>\n",
       "<td>0/0</td>\n",
       "<td>0/0</td>\n",
       "</tr>\n",
       "<tr>\n",
       "<td style='font-weight: bold'>4</td>\n",
       "<td>0/0</td>\n",
       "<td>0/0</td>\n",
       "<td>0/0</td>\n",
       "<td>0/0</td>\n",
       "<td>0/0</td>\n",
       "<td>...</td>\n",
       "<td>0/0</td>\n",
       "<td>0/0</td>\n",
       "<td>0/0</td>\n",
       "<td>0/0</td>\n",
       "<td>0/0</td>\n",
       "</tr>\n",
       "</tbody>\n",
       "</table>\n",
       "<p><strong>...</strong></p>"
      ],
      "text/plain": [
       "GenotypeDaskArray<from-ar..., shape=(2000000, 765, 2), dtype=int8, chunksize=(1370, 765, 2)>"
      ]
     },
     "execution_count": 10,
     "metadata": {},
     "output_type": "execute_result"
    }
   ],
   "source": [
    "gd = allel.GenotypeDaskArray.from_array(g)\n",
    "gd"
   ]
  },
  {
   "cell_type": "code",
   "execution_count": 15,
   "metadata": {
    "collapsed": false
   },
   "outputs": [
    {
     "name": "stdout",
     "output_type": "stream",
     "text": [
      "--- blosc threads: 1 ; dask threads: 1 ---\n",
      "CPU times: user 7.48 s, sys: 896 ms, total: 8.37 s\n",
      "Wall time: 8.21 s\n",
      "\n",
      "--- blosc threads: 1 ; dask threads: 2 ---\n",
      "CPU times: user 6.83 s, sys: 1.57 s, total: 8.4 s\n",
      "Wall time: 5.29 s\n",
      "\n",
      "--- blosc threads: 1 ; dask threads: 4 ---\n",
      "CPU times: user 7.32 s, sys: 1.85 s, total: 9.17 s\n",
      "Wall time: 4.16 s\n",
      "\n",
      "--- blosc threads: 1 ; dask threads: 8 ---\n",
      "CPU times: user 7.54 s, sys: 1.13 s, total: 8.67 s\n",
      "Wall time: 4.02 s\n",
      "\n",
      "--- blosc threads: 2 ; dask threads: 1 ---\n",
      "CPU times: user 7.69 s, sys: 1.8 s, total: 9.49 s\n",
      "Wall time: 7.94 s\n",
      "\n",
      "--- blosc threads: 2 ; dask threads: 2 ---\n",
      "CPU times: user 7.07 s, sys: 1.76 s, total: 8.83 s\n",
      "Wall time: 4.53 s\n",
      "\n",
      "--- blosc threads: 2 ; dask threads: 4 ---\n",
      "CPU times: user 7.75 s, sys: 1.54 s, total: 9.29 s\n",
      "Wall time: 3.9 s\n",
      "\n",
      "--- blosc threads: 2 ; dask threads: 8 ---\n",
      "CPU times: user 7.56 s, sys: 1.88 s, total: 9.44 s\n",
      "Wall time: 4 s\n",
      "\n",
      "--- blosc threads: 4 ; dask threads: 1 ---\n",
      "CPU times: user 7.62 s, sys: 2 s, total: 9.62 s\n",
      "Wall time: 7.55 s\n",
      "\n",
      "--- blosc threads: 4 ; dask threads: 2 ---\n",
      "CPU times: user 7.32 s, sys: 1.8 s, total: 9.12 s\n",
      "Wall time: 4.63 s\n",
      "\n",
      "--- blosc threads: 4 ; dask threads: 4 ---\n",
      "CPU times: user 7.79 s, sys: 1.99 s, total: 9.78 s\n",
      "Wall time: 3.54 s\n",
      "\n",
      "--- blosc threads: 4 ; dask threads: 8 ---\n",
      "CPU times: user 7.85 s, sys: 1.76 s, total: 9.61 s\n",
      "Wall time: 4.01 s\n",
      "\n",
      "--- blosc threads: 8 ; dask threads: 1 ---\n",
      "CPU times: user 7.45 s, sys: 2.04 s, total: 9.49 s\n",
      "Wall time: 7.33 s\n",
      "\n",
      "--- blosc threads: 8 ; dask threads: 2 ---\n",
      "CPU times: user 7.39 s, sys: 1.94 s, total: 9.33 s\n",
      "Wall time: 4.67 s\n",
      "\n",
      "--- blosc threads: 8 ; dask threads: 4 ---\n",
      "CPU times: user 7.74 s, sys: 2.05 s, total: 9.79 s\n",
      "Wall time: 3.61 s\n",
      "\n",
      "--- blosc threads: 8 ; dask threads: 8 ---\n",
      "CPU times: user 7.79 s, sys: 1.9 s, total: 9.69 s\n",
      "Wall time: 3.84 s\n",
      "\n"
     ]
    }
   ],
   "source": [
    "for n in 1, 2, 4, 8:\n",
    "    bcolz.blosc_set_nthreads(n)\n",
    "    for m in 1, 2, 4, 8:\n",
    "        print('--- blosc threads:', n, '; dask threads:', m, '---')\n",
    "        %time gd.max().compute(num_workers=m)\n",
    "        print()"
   ]
  },
  {
   "cell_type": "markdown",
   "metadata": {
    "collapsed": true
   },
   "source": [
    "See especially the case with 4 blosc threads and 4 dask threads. Total wall time here is less than the sum of the time required to decompress the data with the same number of blosc threads and the time required to compute the maximum. So dask is able to do some work in parallel, even though bcolz does not release the GIL. "
   ]
  },
  {
   "cell_type": "code",
   "execution_count": 16,
   "metadata": {
    "collapsed": false
   },
   "outputs": [
    {
     "name": "stdout",
     "output_type": "stream",
     "text": [
      "1 loops, best of 5: 3.43 s per loop\n"
     ]
    }
   ],
   "source": [
    "bcolz.blosc_set_nthreads(4)\n",
    "%timeit -n1 -r5 gd.max().compute(num_workers=4)"
   ]
  },
  {
   "cell_type": "markdown",
   "metadata": {},
   "source": [
    "Try a slightly more compute-intensive task. First the non-parallel version."
   ]
  },
  {
   "cell_type": "code",
   "execution_count": 17,
   "metadata": {
    "collapsed": false
   },
   "outputs": [
    {
     "name": "stdout",
     "output_type": "stream",
     "text": [
      "CPU times: user 15.7 s, sys: 244 ms, total: 16 s\n",
      "Wall time: 13.1 s\n"
     ]
    },
    {
     "data": {
      "text/html": [
       "<table class='petl'>\n",
       "<caption>AlleleCountsChunkedArray((2000000, 4), int32, nbytes=30.5M, cbytes=5.4M, cratio=5.6, cname=blosclz, clevel=5, shuffle=True, chunks=(32768, 4), data=bcolz.carray_ext.carray)</caption>\n",
       "<thead>\n",
       "<tr>\n",
       "<th></th>\n",
       "<th>0</th>\n",
       "<th>1</th>\n",
       "<th>2</th>\n",
       "<th>3</th>\n",
       "</tr>\n",
       "</thead>\n",
       "<tbody>\n",
       "<tr>\n",
       "<td style='font-weight: bold'>0</td>\n",
       "<td>1527</td>\n",
       "<td>3</td>\n",
       "<td>0</td>\n",
       "<td>0</td>\n",
       "</tr>\n",
       "<tr>\n",
       "<td style='font-weight: bold'>1</td>\n",
       "<td>1529</td>\n",
       "<td>1</td>\n",
       "<td>0</td>\n",
       "<td>0</td>\n",
       "</tr>\n",
       "<tr>\n",
       "<td style='font-weight: bold'>2</td>\n",
       "<td>1528</td>\n",
       "<td>2</td>\n",
       "<td>0</td>\n",
       "<td>0</td>\n",
       "</tr>\n",
       "<tr>\n",
       "<td style='font-weight: bold'>3</td>\n",
       "<td>1528</td>\n",
       "<td>2</td>\n",
       "<td>0</td>\n",
       "<td>0</td>\n",
       "</tr>\n",
       "<tr>\n",
       "<td style='font-weight: bold'>4</td>\n",
       "<td>1526</td>\n",
       "<td>4</td>\n",
       "<td>0</td>\n",
       "<td>0</td>\n",
       "</tr>\n",
       "</tbody>\n",
       "</table>\n",
       "<p><strong>...</strong></p>"
      ],
      "text/plain": [
       "AlleleCountsChunkedArray((2000000, 4), int32, nbytes=30.5M, cbytes=5.4M, cratio=5.6, cname=blosclz, clevel=5, shuffle=True, chunks=(32768, 4), data=bcolz.carray_ext.carray)"
      ]
     },
     "execution_count": 17,
     "metadata": {},
     "output_type": "execute_result"
    }
   ],
   "source": [
    "bcolz.blosc_set_nthreads(4)\n",
    "%time g.count_alleles()"
   ]
  },
  {
   "cell_type": "markdown",
   "metadata": {},
   "source": [
    "Now dask."
   ]
  },
  {
   "cell_type": "code",
   "execution_count": 11,
   "metadata": {
    "collapsed": false
   },
   "outputs": [
    {
     "name": "stdout",
     "output_type": "stream",
     "text": [
      "CPU times: user 19.7 s, sys: 4.11 s, total: 23.8 s\n",
      "Wall time: 8.6 s\n"
     ]
    },
    {
     "data": {
      "text/html": [
       "<table class='petl'>\n",
       "<caption>AlleleCountsArray((2000000, 4), dtype=int64)</caption>\n",
       "<thead>\n",
       "<tr>\n",
       "<th></th>\n",
       "<th>0</th>\n",
       "<th>1</th>\n",
       "<th>2</th>\n",
       "<th>3</th>\n",
       "</tr>\n",
       "</thead>\n",
       "<tbody>\n",
       "<tr>\n",
       "<td style='font-weight: bold'>0</td>\n",
       "<td>1527</td>\n",
       "<td>3</td>\n",
       "<td>0</td>\n",
       "<td>0</td>\n",
       "</tr>\n",
       "<tr>\n",
       "<td style='font-weight: bold'>1</td>\n",
       "<td>1529</td>\n",
       "<td>1</td>\n",
       "<td>0</td>\n",
       "<td>0</td>\n",
       "</tr>\n",
       "<tr>\n",
       "<td style='font-weight: bold'>2</td>\n",
       "<td>1528</td>\n",
       "<td>2</td>\n",
       "<td>0</td>\n",
       "<td>0</td>\n",
       "</tr>\n",
       "<tr>\n",
       "<td style='font-weight: bold'>3</td>\n",
       "<td>1528</td>\n",
       "<td>2</td>\n",
       "<td>0</td>\n",
       "<td>0</td>\n",
       "</tr>\n",
       "<tr>\n",
       "<td style='font-weight: bold'>4</td>\n",
       "<td>1526</td>\n",
       "<td>4</td>\n",
       "<td>0</td>\n",
       "<td>0</td>\n",
       "</tr>\n",
       "</tbody>\n",
       "</table>\n",
       "<p><strong>...</strong></p>"
      ],
      "text/plain": [
       "AlleleCountsArray((2000000, 4), dtype=int64)\n",
       "[[1527    3    0    0]\n",
       " [1529    1    0    0]\n",
       " [1528    2    0    0]\n",
       " ..., \n",
       " [1526    4    0    0]\n",
       " [1529    1    0    0]\n",
       " [1521    1    8    0]]"
      ]
     },
     "execution_count": 11,
     "metadata": {},
     "output_type": "execute_result"
    }
   ],
   "source": [
    "bcolz.blosc_set_nthreads(4)\n",
    "%time gd.count_alleles().compute(num_workers=4)"
   ]
  },
  {
   "cell_type": "code",
   "execution_count": 12,
   "metadata": {
    "collapsed": false
   },
   "outputs": [
    {
     "name": "stdout",
     "output_type": "stream",
     "text": [
      "CPU times: user 19.3 s, sys: 3.73 s, total: 23 s\n",
      "Wall time: 9.51 s\n"
     ]
    },
    {
     "data": {
      "text/html": [
       "<table class='petl'>\n",
       "<caption>AlleleCountsArray((2000000, 4), dtype=int64)</caption>\n",
       "<thead>\n",
       "<tr>\n",
       "<th></th>\n",
       "<th>0</th>\n",
       "<th>1</th>\n",
       "<th>2</th>\n",
       "<th>3</th>\n",
       "</tr>\n",
       "</thead>\n",
       "<tbody>\n",
       "<tr>\n",
       "<td style='font-weight: bold'>0</td>\n",
       "<td>1527</td>\n",
       "<td>3</td>\n",
       "<td>0</td>\n",
       "<td>0</td>\n",
       "</tr>\n",
       "<tr>\n",
       "<td style='font-weight: bold'>1</td>\n",
       "<td>1529</td>\n",
       "<td>1</td>\n",
       "<td>0</td>\n",
       "<td>0</td>\n",
       "</tr>\n",
       "<tr>\n",
       "<td style='font-weight: bold'>2</td>\n",
       "<td>1528</td>\n",
       "<td>2</td>\n",
       "<td>0</td>\n",
       "<td>0</td>\n",
       "</tr>\n",
       "<tr>\n",
       "<td style='font-weight: bold'>3</td>\n",
       "<td>1528</td>\n",
       "<td>2</td>\n",
       "<td>0</td>\n",
       "<td>0</td>\n",
       "</tr>\n",
       "<tr>\n",
       "<td style='font-weight: bold'>4</td>\n",
       "<td>1526</td>\n",
       "<td>4</td>\n",
       "<td>0</td>\n",
       "<td>0</td>\n",
       "</tr>\n",
       "</tbody>\n",
       "</table>\n",
       "<p><strong>...</strong></p>"
      ],
      "text/plain": [
       "AlleleCountsArray((2000000, 4), dtype=int64)\n",
       "[[1527    3    0    0]\n",
       " [1529    1    0    0]\n",
       " [1528    2    0    0]\n",
       " ..., \n",
       " [1526    4    0    0]\n",
       " [1529    1    0    0]\n",
       " [1521    1    8    0]]"
      ]
     },
     "execution_count": 12,
     "metadata": {},
     "output_type": "execute_result"
    }
   ],
   "source": [
    "bcolz.blosc_set_nthreads(1)\n",
    "%time gd.count_alleles().compute(num_workers=4)"
   ]
  },
  {
   "cell_type": "markdown",
   "metadata": {},
   "source": [
    "## with nogil"
   ]
  },
  {
   "cell_type": "markdown",
   "metadata": {},
   "source": [
    "Hack bcolz to reinstate nogil sections around blosc_decompress..."
   ]
  },
  {
   "cell_type": "code",
   "execution_count": 7,
   "metadata": {
    "collapsed": false
   },
   "outputs": [
    {
     "data": {
      "text/plain": [
       "'0.12.2.dev1+dirty'"
      ]
     },
     "execution_count": 7,
     "metadata": {},
     "output_type": "execute_result"
    }
   ],
   "source": [
    "import bcolz\n",
    "bcolz.__version__"
   ]
  },
  {
   "cell_type": "code",
   "execution_count": 8,
   "metadata": {
    "collapsed": false
   },
   "outputs": [
    {
     "data": {
      "text/plain": [
       "('1.4.1', '$Date:: 2014-07-08 #$')"
      ]
     },
     "execution_count": 8,
     "metadata": {},
     "output_type": "execute_result"
    }
   ],
   "source": [
    "bcolz.blosc_version()"
   ]
  },
  {
   "cell_type": "markdown",
   "metadata": {},
   "source": [
    "Check compression time is unaffected."
   ]
  },
  {
   "cell_type": "code",
   "execution_count": 9,
   "metadata": {
    "collapsed": false
   },
   "outputs": [
    {
     "name": "stdout",
     "output_type": "stream",
     "text": [
      "--- blosc threads: 1 ---\n",
      "CPU times: user 1.75 s, sys: 164 ms, total: 1.91 s\n",
      "Wall time: 1.91 s\n",
      "\n",
      "--- blosc threads: 2 ---\n",
      "CPU times: user 1.86 s, sys: 304 ms, total: 2.16 s\n",
      "Wall time: 1.39 s\n",
      "\n",
      "--- blosc threads: 4 ---\n",
      "CPU times: user 2.34 s, sys: 264 ms, total: 2.6 s\n",
      "Wall time: 1.46 s\n",
      "\n",
      "--- blosc threads: 8 ---\n",
      "CPU times: user 2.29 s, sys: 264 ms, total: 2.56 s\n",
      "Wall time: 1.46 s\n",
      "\n"
     ]
    }
   ],
   "source": [
    "for n in 1, 2, 4, 8:\n",
    "    bcolz.blosc_set_nthreads(n)\n",
    "    print('--- blosc threads:', n, '---')\n",
    "    %time toarray(g)\n",
    "    print()"
   ]
  },
  {
   "cell_type": "markdown",
   "metadata": {},
   "source": [
    "Check scikit-allel's chunked implementation is unaffected."
   ]
  },
  {
   "cell_type": "code",
   "execution_count": 10,
   "metadata": {
    "collapsed": false
   },
   "outputs": [
    {
     "name": "stdout",
     "output_type": "stream",
     "text": [
      "--- blosc threads: 1 ---\n",
      "CPU times: user 5.04 s, sys: 0 ns, total: 5.04 s\n",
      "Wall time: 5.03 s\n",
      "\n",
      "--- blosc threads: 2 ---\n",
      "CPU times: user 5.77 s, sys: 44 ms, total: 5.81 s\n",
      "Wall time: 4.9 s\n",
      "\n",
      "--- blosc threads: 4 ---\n",
      "CPU times: user 6.06 s, sys: 108 ms, total: 6.16 s\n",
      "Wall time: 4.76 s\n",
      "\n",
      "--- blosc threads: 8 ---\n",
      "CPU times: user 6.1 s, sys: 152 ms, total: 6.25 s\n",
      "Wall time: 4.86 s\n",
      "\n"
     ]
    }
   ],
   "source": [
    "for n in 1, 2, 4, 8:\n",
    "    bcolz.blosc_set_nthreads(n)\n",
    "    print('--- blosc threads:', n, '---')\n",
    "    %time g.max()\n",
    "    print()"
   ]
  },
  {
   "cell_type": "markdown",
   "metadata": {},
   "source": [
    "Now see if dask does any better..."
   ]
  },
  {
   "cell_type": "code",
   "execution_count": 11,
   "metadata": {
    "collapsed": false
   },
   "outputs": [
    {
     "data": {
      "text/html": [
       "<table class='petl'>\n",
       "<caption>GenotypeDaskArray&lt;from-ar..., shape=(2000000, 765, 2), dtype=int8, chunksize=(1370, 765, 2)></caption>\n",
       "<thead>\n",
       "<tr>\n",
       "<th></th>\n",
       "<th>0</th>\n",
       "<th>1</th>\n",
       "<th>2</th>\n",
       "<th>3</th>\n",
       "<th>4</th>\n",
       "<th>...</th>\n",
       "<th>760</th>\n",
       "<th>761</th>\n",
       "<th>762</th>\n",
       "<th>763</th>\n",
       "<th>764</th>\n",
       "</tr>\n",
       "</thead>\n",
       "<tbody>\n",
       "<tr>\n",
       "<td style='font-weight: bold'>0</td>\n",
       "<td>0/0</td>\n",
       "<td>0/0</td>\n",
       "<td>0/0</td>\n",
       "<td>0/0</td>\n",
       "<td>0/0</td>\n",
       "<td>...</td>\n",
       "<td>0/0</td>\n",
       "<td>0/0</td>\n",
       "<td>0/0</td>\n",
       "<td>0/0</td>\n",
       "<td>0/0</td>\n",
       "</tr>\n",
       "<tr>\n",
       "<td style='font-weight: bold'>1</td>\n",
       "<td>0/0</td>\n",
       "<td>0/0</td>\n",
       "<td>0/0</td>\n",
       "<td>0/0</td>\n",
       "<td>0/0</td>\n",
       "<td>...</td>\n",
       "<td>0/0</td>\n",
       "<td>0/0</td>\n",
       "<td>0/0</td>\n",
       "<td>0/0</td>\n",
       "<td>0/0</td>\n",
       "</tr>\n",
       "<tr>\n",
       "<td style='font-weight: bold'>2</td>\n",
       "<td>0/0</td>\n",
       "<td>0/0</td>\n",
       "<td>0/0</td>\n",
       "<td>0/0</td>\n",
       "<td>0/0</td>\n",
       "<td>...</td>\n",
       "<td>0/0</td>\n",
       "<td>0/0</td>\n",
       "<td>0/0</td>\n",
       "<td>0/0</td>\n",
       "<td>0/0</td>\n",
       "</tr>\n",
       "<tr>\n",
       "<td style='font-weight: bold'>3</td>\n",
       "<td>0/0</td>\n",
       "<td>0/0</td>\n",
       "<td>0/0</td>\n",
       "<td>0/0</td>\n",
       "<td>0/0</td>\n",
       "<td>...</td>\n",
       "<td>0/0</td>\n",
       "<td>0/0</td>\n",
       "<td>0/0</td>\n",
       "<td>0/0</td>\n",
       "<td>0/0</td>\n",
       "</tr>\n",
       "<tr>\n",
       "<td style='font-weight: bold'>4</td>\n",
       "<td>0/0</td>\n",
       "<td>0/0</td>\n",
       "<td>0/0</td>\n",
       "<td>0/0</td>\n",
       "<td>0/0</td>\n",
       "<td>...</td>\n",
       "<td>0/0</td>\n",
       "<td>0/0</td>\n",
       "<td>0/0</td>\n",
       "<td>0/0</td>\n",
       "<td>0/0</td>\n",
       "</tr>\n",
       "</tbody>\n",
       "</table>\n",
       "<p><strong>...</strong></p>"
      ],
      "text/plain": [
       "GenotypeDaskArray<from-ar..., shape=(2000000, 765, 2), dtype=int8, chunksize=(1370, 765, 2)>"
      ]
     },
     "execution_count": 11,
     "metadata": {},
     "output_type": "execute_result"
    }
   ],
   "source": [
    "gd = allel.GenotypeDaskArray.from_array(g)\n",
    "gd"
   ]
  },
  {
   "cell_type": "code",
   "execution_count": 12,
   "metadata": {
    "collapsed": false
   },
   "outputs": [
    {
     "name": "stdout",
     "output_type": "stream",
     "text": [
      "--- blosc threads: 1 ; dask threads: 1 ---\n",
      "CPU times: user 7.13 s, sys: 828 ms, total: 7.96 s\n",
      "Wall time: 7.84 s\n",
      "\n",
      "--- blosc threads: 1 ; dask threads: 2 ---\n",
      "CPU times: user 6.91 s, sys: 1.74 s, total: 8.65 s\n",
      "Wall time: 4.58 s\n",
      "\n",
      "--- blosc threads: 1 ; dask threads: 4 ---\n",
      "CPU times: user 7.68 s, sys: 1.98 s, total: 9.65 s\n",
      "Wall time: 3.36 s\n",
      "\n",
      "--- blosc threads: 1 ; dask threads: 8 ---\n",
      "CPU times: user 7.62 s, sys: 888 ms, total: 8.5 s\n",
      "Wall time: 3.27 s\n",
      "\n",
      "--- blosc threads: 2 ; dask threads: 1 ---\n",
      "CPU times: user 7.42 s, sys: 1.88 s, total: 9.3 s\n",
      "Wall time: 7.94 s\n",
      "\n",
      "--- blosc threads: 2 ; dask threads: 2 ---\n",
      "CPU times: user 7.2 s, sys: 1.82 s, total: 9.01 s\n",
      "Wall time: 4.35 s\n",
      "\n",
      "--- blosc threads: 2 ; dask threads: 4 ---\n",
      "CPU times: user 7.52 s, sys: 1.64 s, total: 9.15 s\n",
      "Wall time: 3.66 s\n",
      "\n",
      "--- blosc threads: 2 ; dask threads: 8 ---\n",
      "CPU times: user 7.7 s, sys: 1.77 s, total: 9.46 s\n",
      "Wall time: 3.78 s\n",
      "\n",
      "--- blosc threads: 4 ; dask threads: 1 ---\n",
      "CPU times: user 7.44 s, sys: 624 ms, total: 8.06 s\n",
      "Wall time: 6.44 s\n",
      "\n",
      "--- blosc threads: 4 ; dask threads: 2 ---\n",
      "CPU times: user 7.28 s, sys: 1.74 s, total: 9.01 s\n",
      "Wall time: 4.4 s\n",
      "\n",
      "--- blosc threads: 4 ; dask threads: 4 ---\n",
      "CPU times: user 7.55 s, sys: 2 s, total: 9.55 s\n",
      "Wall time: 3.74 s\n",
      "\n",
      "--- blosc threads: 4 ; dask threads: 8 ---\n",
      "CPU times: user 7.7 s, sys: 1.78 s, total: 9.48 s\n",
      "Wall time: 3.99 s\n",
      "\n",
      "--- blosc threads: 8 ; dask threads: 1 ---\n",
      "CPU times: user 7.52 s, sys: 1.96 s, total: 9.48 s\n",
      "Wall time: 7.37 s\n",
      "\n",
      "--- blosc threads: 8 ; dask threads: 2 ---\n",
      "CPU times: user 7.2 s, sys: 680 ms, total: 7.88 s\n",
      "Wall time: 3.97 s\n",
      "\n",
      "--- blosc threads: 8 ; dask threads: 4 ---\n",
      "CPU times: user 7.77 s, sys: 2.04 s, total: 9.8 s\n",
      "Wall time: 3.65 s\n",
      "\n",
      "--- blosc threads: 8 ; dask threads: 8 ---\n",
      "CPU times: user 7.69 s, sys: 1.88 s, total: 9.57 s\n",
      "Wall time: 3.87 s\n",
      "\n"
     ]
    }
   ],
   "source": [
    "for n in 1, 2, 4, 8:\n",
    "    bcolz.blosc_set_nthreads(n)\n",
    "    for m in 1, 2, 4, 8:\n",
    "        print('--- blosc threads:', n, '; dask threads:', m, '---')\n",
    "        %time gd.max().compute(num_workers=m)\n",
    "        print()"
   ]
  },
  {
   "cell_type": "code",
   "execution_count": 13,
   "metadata": {
    "collapsed": false
   },
   "outputs": [
    {
     "name": "stdout",
     "output_type": "stream",
     "text": [
      "1 loops, best of 5: 3.08 s per loop\n"
     ]
    }
   ],
   "source": [
    "bcolz.blosc_set_nthreads(1)\n",
    "%timeit -r5 gd.max().compute(num_workers=4)"
   ]
  },
  {
   "cell_type": "code",
   "execution_count": 14,
   "metadata": {
    "collapsed": false
   },
   "outputs": [
    {
     "name": "stdout",
     "output_type": "stream",
     "text": [
      "1 loops, best of 5: 3.24 s per loop\n"
     ]
    }
   ],
   "source": [
    "bcolz.blosc_set_nthreads(1)\n",
    "%timeit -r5 gd.max().compute(num_workers=8)"
   ]
  },
  {
   "cell_type": "code",
   "execution_count": 17,
   "metadata": {
    "collapsed": false
   },
   "outputs": [
    {
     "name": "stdout",
     "output_type": "stream",
     "text": [
      "1 loops, best of 5: 3.53 s per loop\n"
     ]
    }
   ],
   "source": [
    "bcolz.blosc_set_nthreads(2)\n",
    "%timeit -r5 gd.max().compute(num_workers=2)"
   ]
  },
  {
   "cell_type": "code",
   "execution_count": 15,
   "metadata": {
    "collapsed": false
   },
   "outputs": [
    {
     "name": "stdout",
     "output_type": "stream",
     "text": [
      "1 loops, best of 5: 3.63 s per loop\n"
     ]
    }
   ],
   "source": [
    "bcolz.blosc_set_nthreads(4)\n",
    "%timeit -r5 gd.max().compute(num_workers=4)"
   ]
  },
  {
   "cell_type": "markdown",
   "metadata": {},
   "source": [
    "Try the more compute-intensive operation again."
   ]
  },
  {
   "cell_type": "code",
   "execution_count": 19,
   "metadata": {
    "collapsed": false
   },
   "outputs": [
    {
     "name": "stdout",
     "output_type": "stream",
     "text": [
      "CPU times: user 20.1 s, sys: 3.96 s, total: 24.1 s\n",
      "Wall time: 7.82 s\n"
     ]
    },
    {
     "data": {
      "text/html": [
       "<table class='petl'>\n",
       "<caption>AlleleCountsArray((2000000, 4), dtype=int64)</caption>\n",
       "<thead>\n",
       "<tr>\n",
       "<th></th>\n",
       "<th>0</th>\n",
       "<th>1</th>\n",
       "<th>2</th>\n",
       "<th>3</th>\n",
       "</tr>\n",
       "</thead>\n",
       "<tbody>\n",
       "<tr>\n",
       "<td style='font-weight: bold'>0</td>\n",
       "<td>1527</td>\n",
       "<td>3</td>\n",
       "<td>0</td>\n",
       "<td>0</td>\n",
       "</tr>\n",
       "<tr>\n",
       "<td style='font-weight: bold'>1</td>\n",
       "<td>1529</td>\n",
       "<td>1</td>\n",
       "<td>0</td>\n",
       "<td>0</td>\n",
       "</tr>\n",
       "<tr>\n",
       "<td style='font-weight: bold'>2</td>\n",
       "<td>1528</td>\n",
       "<td>2</td>\n",
       "<td>0</td>\n",
       "<td>0</td>\n",
       "</tr>\n",
       "<tr>\n",
       "<td style='font-weight: bold'>3</td>\n",
       "<td>1528</td>\n",
       "<td>2</td>\n",
       "<td>0</td>\n",
       "<td>0</td>\n",
       "</tr>\n",
       "<tr>\n",
       "<td style='font-weight: bold'>4</td>\n",
       "<td>1526</td>\n",
       "<td>4</td>\n",
       "<td>0</td>\n",
       "<td>0</td>\n",
       "</tr>\n",
       "</tbody>\n",
       "</table>\n",
       "<p><strong>...</strong></p>"
      ],
      "text/plain": [
       "AlleleCountsArray((2000000, 4), dtype=int64)\n",
       "[[1527    3    0    0]\n",
       " [1529    1    0    0]\n",
       " [1528    2    0    0]\n",
       " ..., \n",
       " [1526    4    0    0]\n",
       " [1529    1    0    0]\n",
       " [1521    1    8    0]]"
      ]
     },
     "execution_count": 19,
     "metadata": {},
     "output_type": "execute_result"
    }
   ],
   "source": [
    "bcolz.blosc_set_nthreads(1)\n",
    "%time gd.count_alleles().compute(num_workers=4)"
   ]
  },
  {
   "cell_type": "code",
   "execution_count": 20,
   "metadata": {
    "collapsed": false
   },
   "outputs": [
    {
     "name": "stdout",
     "output_type": "stream",
     "text": [
      "CPU times: user 19.9 s, sys: 3.92 s, total: 23.8 s\n",
      "Wall time: 8.54 s\n"
     ]
    },
    {
     "data": {
      "text/html": [
       "<table class='petl'>\n",
       "<caption>AlleleCountsArray((2000000, 4), dtype=int64)</caption>\n",
       "<thead>\n",
       "<tr>\n",
       "<th></th>\n",
       "<th>0</th>\n",
       "<th>1</th>\n",
       "<th>2</th>\n",
       "<th>3</th>\n",
       "</tr>\n",
       "</thead>\n",
       "<tbody>\n",
       "<tr>\n",
       "<td style='font-weight: bold'>0</td>\n",
       "<td>1527</td>\n",
       "<td>3</td>\n",
       "<td>0</td>\n",
       "<td>0</td>\n",
       "</tr>\n",
       "<tr>\n",
       "<td style='font-weight: bold'>1</td>\n",
       "<td>1529</td>\n",
       "<td>1</td>\n",
       "<td>0</td>\n",
       "<td>0</td>\n",
       "</tr>\n",
       "<tr>\n",
       "<td style='font-weight: bold'>2</td>\n",
       "<td>1528</td>\n",
       "<td>2</td>\n",
       "<td>0</td>\n",
       "<td>0</td>\n",
       "</tr>\n",
       "<tr>\n",
       "<td style='font-weight: bold'>3</td>\n",
       "<td>1528</td>\n",
       "<td>2</td>\n",
       "<td>0</td>\n",
       "<td>0</td>\n",
       "</tr>\n",
       "<tr>\n",
       "<td style='font-weight: bold'>4</td>\n",
       "<td>1526</td>\n",
       "<td>4</td>\n",
       "<td>0</td>\n",
       "<td>0</td>\n",
       "</tr>\n",
       "</tbody>\n",
       "</table>\n",
       "<p><strong>...</strong></p>"
      ],
      "text/plain": [
       "AlleleCountsArray((2000000, 4), dtype=int64)\n",
       "[[1527    3    0    0]\n",
       " [1529    1    0    0]\n",
       " [1528    2    0    0]\n",
       " ..., \n",
       " [1526    4    0    0]\n",
       " [1529    1    0    0]\n",
       " [1521    1    8    0]]"
      ]
     },
     "execution_count": 20,
     "metadata": {},
     "output_type": "execute_result"
    }
   ],
   "source": [
    "bcolz.blosc_set_nthreads(4)\n",
    "%time gd.count_alleles().compute(num_workers=4)"
   ]
  },
  {
   "cell_type": "markdown",
   "metadata": {},
   "source": [
    "## with nogil, with c-blosc 1.7.0"
   ]
  },
  {
   "cell_type": "code",
   "execution_count": 5,
   "metadata": {
    "collapsed": false
   },
   "outputs": [
    {
     "data": {
      "text/plain": [
       "'0.12.2.dev1+dirty'"
      ]
     },
     "execution_count": 5,
     "metadata": {},
     "output_type": "execute_result"
    }
   ],
   "source": [
    "import bcolz\n",
    "bcolz.__version__"
   ]
  },
  {
   "cell_type": "code",
   "execution_count": 6,
   "metadata": {
    "collapsed": false
   },
   "outputs": [
    {
     "data": {
      "text/plain": [
       "('1.7.1.dev', '$Date:: 2015-07-05 #$')"
      ]
     },
     "execution_count": 6,
     "metadata": {},
     "output_type": "execute_result"
    }
   ],
   "source": [
    "bcolz.blosc_version()"
   ]
  },
  {
   "cell_type": "code",
   "execution_count": 7,
   "metadata": {
    "collapsed": false
   },
   "outputs": [
    {
     "data": {
      "text/html": [
       "<table class='petl'>\n",
       "<caption>GenotypeChunkedArray((2000000, 765, 2), int8, nbytes=2.8G, cbytes=156.8M, cratio=18.6, cname=blosclz, clevel=5, shuffle=True, chunks=(1370, 765, 2), data=bcolz.carray_ext.carray)</caption>\n",
       "<thead>\n",
       "<tr>\n",
       "<th></th>\n",
       "<th>0</th>\n",
       "<th>1</th>\n",
       "<th>2</th>\n",
       "<th>3</th>\n",
       "<th>4</th>\n",
       "<th>...</th>\n",
       "<th>760</th>\n",
       "<th>761</th>\n",
       "<th>762</th>\n",
       "<th>763</th>\n",
       "<th>764</th>\n",
       "</tr>\n",
       "</thead>\n",
       "<tbody>\n",
       "<tr>\n",
       "<td style='font-weight: bold'>0</td>\n",
       "<td>0/0</td>\n",
       "<td>0/0</td>\n",
       "<td>0/0</td>\n",
       "<td>0/0</td>\n",
       "<td>0/0</td>\n",
       "<td>...</td>\n",
       "<td>0/0</td>\n",
       "<td>0/0</td>\n",
       "<td>0/0</td>\n",
       "<td>0/0</td>\n",
       "<td>0/0</td>\n",
       "</tr>\n",
       "<tr>\n",
       "<td style='font-weight: bold'>1</td>\n",
       "<td>0/0</td>\n",
       "<td>0/0</td>\n",
       "<td>0/0</td>\n",
       "<td>0/0</td>\n",
       "<td>0/0</td>\n",
       "<td>...</td>\n",
       "<td>0/0</td>\n",
       "<td>0/0</td>\n",
       "<td>0/0</td>\n",
       "<td>0/0</td>\n",
       "<td>0/0</td>\n",
       "</tr>\n",
       "<tr>\n",
       "<td style='font-weight: bold'>2</td>\n",
       "<td>0/0</td>\n",
       "<td>0/0</td>\n",
       "<td>0/0</td>\n",
       "<td>0/0</td>\n",
       "<td>0/0</td>\n",
       "<td>...</td>\n",
       "<td>0/0</td>\n",
       "<td>0/0</td>\n",
       "<td>0/0</td>\n",
       "<td>0/0</td>\n",
       "<td>0/0</td>\n",
       "</tr>\n",
       "<tr>\n",
       "<td style='font-weight: bold'>3</td>\n",
       "<td>0/0</td>\n",
       "<td>0/0</td>\n",
       "<td>0/0</td>\n",
       "<td>0/0</td>\n",
       "<td>0/0</td>\n",
       "<td>...</td>\n",
       "<td>0/0</td>\n",
       "<td>0/0</td>\n",
       "<td>0/0</td>\n",
       "<td>0/0</td>\n",
       "<td>0/0</td>\n",
       "</tr>\n",
       "<tr>\n",
       "<td style='font-weight: bold'>4</td>\n",
       "<td>0/0</td>\n",
       "<td>0/0</td>\n",
       "<td>0/0</td>\n",
       "<td>0/0</td>\n",
       "<td>0/0</td>\n",
       "<td>...</td>\n",
       "<td>0/0</td>\n",
       "<td>0/0</td>\n",
       "<td>0/0</td>\n",
       "<td>0/0</td>\n",
       "<td>0/0</td>\n",
       "</tr>\n",
       "</tbody>\n",
       "</table>\n",
       "<p><strong>...</strong></p>"
      ],
      "text/plain": [
       "GenotypeChunkedArray((2000000, 765, 2), int8, nbytes=2.8G, cbytes=156.8M, cratio=18.6, cname=blosclz, clevel=5, shuffle=True, chunks=(1370, 765, 2), data=bcolz.carray_ext.carray)"
      ]
     },
     "execution_count": 7,
     "metadata": {},
     "output_type": "execute_result"
    }
   ],
   "source": [
    "g = genotype.copy(stop=2000000)\n",
    "g"
   ]
  },
  {
   "cell_type": "code",
   "execution_count": 8,
   "metadata": {
    "collapsed": false
   },
   "outputs": [
    {
     "name": "stdout",
     "output_type": "stream",
     "text": [
      "--- blosc threads: 1 ---\n",
      "CPU times: user 5.36 s, sys: 768 ms, total: 6.12 s\n",
      "Wall time: 6.11 s\n",
      "\n",
      "--- blosc threads: 2 ---\n",
      "CPU times: user 7.26 s, sys: 888 ms, total: 8.14 s\n",
      "Wall time: 4.8 s\n",
      "\n",
      "--- blosc threads: 4 ---\n",
      "CPU times: user 9.41 s, sys: 888 ms, total: 10.3 s\n",
      "Wall time: 3.99 s\n",
      "\n",
      "--- blosc threads: 8 ---\n",
      "CPU times: user 9.21 s, sys: 936 ms, total: 10.1 s\n",
      "Wall time: 4.1 s\n",
      "\n"
     ]
    }
   ],
   "source": [
    "for n in 1, 2, 4, 8:\n",
    "    bcolz.blosc_set_nthreads(n)\n",
    "    print('--- blosc threads:', n, '---')\n",
    "    %time toarray(g)\n",
    "    print()"
   ]
  },
  {
   "cell_type": "code",
   "execution_count": null,
   "metadata": {
    "collapsed": false
   },
   "outputs": [
    {
     "data": {
      "text/html": [
       "<table class='petl'>\n",
       "<caption>GenotypeDaskArray&lt;from-ar..., shape=(2000000, 765, 2), dtype=int8, chunksize=(1370, 765, 2)></caption>\n",
       "<thead>\n",
       "<tr>\n",
       "<th></th>\n",
       "<th>0</th>\n",
       "<th>1</th>\n",
       "<th>2</th>\n",
       "<th>3</th>\n",
       "<th>4</th>\n",
       "<th>...</th>\n",
       "<th>760</th>\n",
       "<th>761</th>\n",
       "<th>762</th>\n",
       "<th>763</th>\n",
       "<th>764</th>\n",
       "</tr>\n",
       "</thead>\n",
       "<tbody>\n",
       "<tr>\n",
       "<td style='font-weight: bold'>0</td>\n",
       "<td>0/0</td>\n",
       "<td>0/0</td>\n",
       "<td>0/0</td>\n",
       "<td>0/0</td>\n",
       "<td>0/0</td>\n",
       "<td>...</td>\n",
       "<td>0/0</td>\n",
       "<td>0/0</td>\n",
       "<td>0/0</td>\n",
       "<td>0/0</td>\n",
       "<td>0/0</td>\n",
       "</tr>\n",
       "<tr>\n",
       "<td style='font-weight: bold'>1</td>\n",
       "<td>0/0</td>\n",
       "<td>0/0</td>\n",
       "<td>0/0</td>\n",
       "<td>0/0</td>\n",
       "<td>0/0</td>\n",
       "<td>...</td>\n",
       "<td>0/0</td>\n",
       "<td>0/0</td>\n",
       "<td>0/0</td>\n",
       "<td>0/0</td>\n",
       "<td>0/0</td>\n",
       "</tr>\n",
       "<tr>\n",
       "<td style='font-weight: bold'>2</td>\n",
       "<td>0/0</td>\n",
       "<td>0/0</td>\n",
       "<td>0/0</td>\n",
       "<td>0/0</td>\n",
       "<td>0/0</td>\n",
       "<td>...</td>\n",
       "<td>0/0</td>\n",
       "<td>0/0</td>\n",
       "<td>0/0</td>\n",
       "<td>0/0</td>\n",
       "<td>0/0</td>\n",
       "</tr>\n",
       "<tr>\n",
       "<td style='font-weight: bold'>3</td>\n",
       "<td>0/0</td>\n",
       "<td>0/0</td>\n",
       "<td>0/0</td>\n",
       "<td>0/0</td>\n",
       "<td>0/0</td>\n",
       "<td>...</td>\n",
       "<td>0/0</td>\n",
       "<td>0/0</td>\n",
       "<td>0/0</td>\n",
       "<td>0/0</td>\n",
       "<td>0/0</td>\n",
       "</tr>\n",
       "<tr>\n",
       "<td style='font-weight: bold'>4</td>\n",
       "<td>0/0</td>\n",
       "<td>0/0</td>\n",
       "<td>0/0</td>\n",
       "<td>0/0</td>\n",
       "<td>0/0</td>\n",
       "<td>...</td>\n",
       "<td>0/0</td>\n",
       "<td>0/0</td>\n",
       "<td>0/0</td>\n",
       "<td>0/0</td>\n",
       "<td>0/0</td>\n",
       "</tr>\n",
       "</tbody>\n",
       "</table>\n",
       "<p><strong>...</strong></p>"
      ],
      "text/plain": [
       "GenotypeDaskArray<from-ar..., shape=(2000000, 765, 2), dtype=int8, chunksize=(1370, 765, 2)>"
      ]
     },
     "execution_count": 9,
     "metadata": {},
     "output_type": "execute_result"
    }
   ],
   "source": [
    "gd = allel.GenotypeDaskArray.from_array(g)\n",
    "gd"
   ]
  },
  {
   "cell_type": "code",
   "execution_count": null,
   "metadata": {
    "collapsed": false
   },
   "outputs": [
    {
     "name": "stdout",
     "output_type": "stream",
     "text": [
      "--- blosc threads: 1 ; dask threads: 1 ---\n",
      "CPU times: user 11 s, sys: 1.6 s, total: 12.6 s\n",
      "Wall time: 12.4 s\n",
      "\n",
      "--- blosc threads: 1 ; dask threads: 2 ---\n",
      "CPU times: user 12.4 s, sys: 1.45 s, total: 13.9 s\n",
      "Wall time: 7.37 s\n",
      "\n",
      "--- blosc threads: 1 ; dask threads: 4 ---\n",
      "CPU times: user 15.3 s, sys: 1.24 s, total: 16.5 s"
     ]
    }
   ],
   "source": [
    "for n in 1, 2, 4, 8:\n",
    "    bcolz.blosc_set_nthreads(n)\n",
    "    for m in 1, 2, 4, 8:\n",
    "        print('--- blosc threads:', n, '; dask threads:', m, '---')\n",
    "        %time gd.max().compute(num_workers=m)\n",
    "        print()"
   ]
  },
  {
   "cell_type": "markdown",
   "metadata": {},
   "source": [
    "## Try to reproduce segfaults..."
   ]
  },
  {
   "cell_type": "code",
   "execution_count": 10,
   "metadata": {
    "collapsed": false
   },
   "outputs": [
    {
     "data": {
      "text/plain": [
       "1"
      ]
     },
     "execution_count": 10,
     "metadata": {},
     "output_type": "execute_result"
    }
   ],
   "source": [
    "bcolz.blosc_set_nthreads(1)"
   ]
  },
  {
   "cell_type": "code",
   "execution_count": 11,
   "metadata": {
    "collapsed": false
   },
   "outputs": [
    {
     "data": {
      "text/plain": [
       "3.0"
      ]
     },
     "execution_count": 11,
     "metadata": {},
     "output_type": "execute_result"
    }
   ],
   "source": [
    "gd.astype('f4').max().compute()"
   ]
  },
  {
   "cell_type": "code",
   "execution_count": 12,
   "metadata": {
    "collapsed": false
   },
   "outputs": [
    {
     "data": {
      "text/plain": [
       "170767.96339869278"
      ]
     },
     "execution_count": 12,
     "metadata": {},
     "output_type": "execute_result"
    }
   ],
   "source": [
    "gd.mean(axis=1).sum().compute(num_workers=4)"
   ]
  },
  {
   "cell_type": "code",
   "execution_count": 13,
   "metadata": {
    "collapsed": false
   },
   "outputs": [
    {
     "data": {
      "text/plain": [
       "array([[ 0.50495372,  0.84406405],\n",
       "       [ 0.48935613,  0.81991694],\n",
       "       [ 0.48457914,  0.8209112 ],\n",
       "       ..., \n",
       "       [ 0.50302364,  0.84650751],\n",
       "       [ 0.49943217,  0.8405899 ],\n",
       "       [ 0.5033905 ,  0.84399184]])"
      ]
     },
     "execution_count": 13,
     "metadata": {},
     "output_type": "execute_result"
    }
   ],
   "source": [
    "((gd + gd) * gd).std(axis=0).compute()"
   ]
  },
  {
   "cell_type": "code",
   "execution_count": null,
   "metadata": {
    "collapsed": true
   },
   "outputs": [],
   "source": []
  }
 ],
 "metadata": {
  "kernelspec": {
   "display_name": "Python 3",
   "language": "python",
   "name": "python3"
  },
  "language_info": {
   "codemirror_mode": {
    "name": "ipython",
    "version": 3
   },
   "file_extension": ".py",
   "mimetype": "text/x-python",
   "name": "python",
   "nbconvert_exporter": "python",
   "pygments_lexer": "ipython3",
   "version": "3.4.3"
  }
 },
 "nbformat": 4,
 "nbformat_minor": 0
}
