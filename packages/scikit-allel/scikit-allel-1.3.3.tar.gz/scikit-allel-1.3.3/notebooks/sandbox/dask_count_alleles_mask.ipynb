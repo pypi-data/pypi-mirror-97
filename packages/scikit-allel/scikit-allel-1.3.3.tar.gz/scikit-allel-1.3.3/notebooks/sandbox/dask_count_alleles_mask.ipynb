{
 "cells": [
  {
   "cell_type": "code",
   "execution_count": 1,
   "metadata": {
    "collapsed": false
   },
   "outputs": [
    {
     "data": {
      "text/plain": [
       "'0.20.0.feature_dask'"
      ]
     },
     "execution_count": 1,
     "metadata": {},
     "output_type": "execute_result"
    }
   ],
   "source": [
    "import numpy as np\n",
    "import dask.async\n",
    "import dask.array as da\n",
    "import sys\n",
    "sys.path.insert(0, '../..')\n",
    "%load_ext autoreload\n",
    "%autoreload 1\n",
    "%aimport allel\n",
    "%aimport allel.model\n",
    "%aimport allel.model.dask\n",
    "allel.__version__"
   ]
  },
  {
   "cell_type": "markdown",
   "metadata": {},
   "source": [
    "## Count alleles, no mask"
   ]
  },
  {
   "cell_type": "code",
   "execution_count": 2,
   "metadata": {
    "collapsed": false
   },
   "outputs": [
    {
     "data": {
      "text/html": [
       "<table class='petl'>\n",
       "<caption>GenotypeArray((5, 3, 2), dtype=int64)</caption>\n",
       "<thead>\n",
       "<tr>\n",
       "<th></th>\n",
       "<th>0</th>\n",
       "<th>1</th>\n",
       "<th>2</th>\n",
       "</tr>\n",
       "</thead>\n",
       "<tbody>\n",
       "<tr>\n",
       "<td style='font-weight: bold'>0</td>\n",
       "<td>0/0</td>\n",
       "<td>0/1</td>\n",
       "<td>./.</td>\n",
       "</tr>\n",
       "<tr>\n",
       "<td style='font-weight: bold'>1</td>\n",
       "<td>0/2</td>\n",
       "<td>1/1</td>\n",
       "<td>./.</td>\n",
       "</tr>\n",
       "<tr>\n",
       "<td style='font-weight: bold'>2</td>\n",
       "<td>1/0</td>\n",
       "<td>2/1</td>\n",
       "<td>./.</td>\n",
       "</tr>\n",
       "<tr>\n",
       "<td style='font-weight: bold'>3</td>\n",
       "<td>2/2</td>\n",
       "<td>./.</td>\n",
       "<td>./.</td>\n",
       "</tr>\n",
       "<tr>\n",
       "<td style='font-weight: bold'>4</td>\n",
       "<td>./.</td>\n",
       "<td>./.</td>\n",
       "<td>./.</td>\n",
       "</tr>\n",
       "</tbody>\n",
       "</table>\n"
      ],
      "text/plain": [
       "GenotypeArray((5, 3, 2), dtype=int64)\n",
       "[[[ 0  0]\n",
       "  [ 0  1]\n",
       "  [-1 -1]]\n",
       "\n",
       " [[ 0  2]\n",
       "  [ 1  1]\n",
       "  [-1 -1]]\n",
       "\n",
       " [[ 1  0]\n",
       "  [ 2  1]\n",
       "  [-1 -1]]\n",
       "\n",
       " [[ 2  2]\n",
       "  [-1 -1]\n",
       "  [-1 -1]]\n",
       "\n",
       " [[-1 -1]\n",
       "  [-1 -1]\n",
       "  [-1 -1]]]"
      ]
     },
     "execution_count": 2,
     "metadata": {},
     "output_type": "execute_result"
    }
   ],
   "source": [
    "g = allel.GenotypeArray([\n",
    "    [[0, 0], [0, 1], [-1, -1]],\n",
    "    [[0, 2], [1, 1], [-1, -1]],\n",
    "    [[1, 0], [2, 1], [-1, -1]],\n",
    "    [[2, 2], [-1, -1], [-1, -1]],\n",
    "    [[-1, -1], [-1, -1], [-1, -1]]\n",
    "])\n",
    "g"
   ]
  },
  {
   "cell_type": "code",
   "execution_count": 3,
   "metadata": {
    "collapsed": false
   },
   "outputs": [
    {
     "data": {
      "text/html": [
       "<table class='petl'>\n",
       "<caption>AlleleCountsArray((5, 3), dtype=int32)</caption>\n",
       "<thead>\n",
       "<tr>\n",
       "<th></th>\n",
       "<th>0</th>\n",
       "<th>1</th>\n",
       "<th>2</th>\n",
       "</tr>\n",
       "</thead>\n",
       "<tbody>\n",
       "<tr>\n",
       "<td style='font-weight: bold'>0</td>\n",
       "<td>3</td>\n",
       "<td>1</td>\n",
       "<td>0</td>\n",
       "</tr>\n",
       "<tr>\n",
       "<td style='font-weight: bold'>1</td>\n",
       "<td>1</td>\n",
       "<td>2</td>\n",
       "<td>1</td>\n",
       "</tr>\n",
       "<tr>\n",
       "<td style='font-weight: bold'>2</td>\n",
       "<td>1</td>\n",
       "<td>2</td>\n",
       "<td>1</td>\n",
       "</tr>\n",
       "<tr>\n",
       "<td style='font-weight: bold'>3</td>\n",
       "<td>0</td>\n",
       "<td>0</td>\n",
       "<td>2</td>\n",
       "</tr>\n",
       "<tr>\n",
       "<td style='font-weight: bold'>4</td>\n",
       "<td>0</td>\n",
       "<td>0</td>\n",
       "<td>0</td>\n",
       "</tr>\n",
       "</tbody>\n",
       "</table>\n"
      ],
      "text/plain": [
       "AlleleCountsArray((5, 3), dtype=int32)\n",
       "[[3 1 0]\n",
       " [1 2 1]\n",
       " [1 2 1]\n",
       " [0 0 2]\n",
       " [0 0 0]]"
      ]
     },
     "execution_count": 3,
     "metadata": {},
     "output_type": "execute_result"
    }
   ],
   "source": [
    "# count alleles, no mask\n",
    "expect_no_mask = g.count_alleles()\n",
    "expect_no_mask"
   ]
  },
  {
   "cell_type": "code",
   "execution_count": 6,
   "metadata": {
    "collapsed": true
   },
   "outputs": [],
   "source": [
    "m = np.array([\n",
    "    [True, False, False],\n",
    "    [False, False, False],\n",
    "    [False, True, False],\n",
    "    [False, False, True],\n",
    "    [True, False, True]\n",
    "])\n",
    "g.mask = m"
   ]
  },
  {
   "cell_type": "code",
   "execution_count": 7,
   "metadata": {
    "collapsed": false
   },
   "outputs": [
    {
     "data": {
      "text/html": [
       "<table class='petl'>\n",
       "<caption>AlleleCountsArray((5, 3), dtype=int32)</caption>\n",
       "<thead>\n",
       "<tr>\n",
       "<th></th>\n",
       "<th>0</th>\n",
       "<th>1</th>\n",
       "<th>2</th>\n",
       "</tr>\n",
       "</thead>\n",
       "<tbody>\n",
       "<tr>\n",
       "<td style='font-weight: bold'>0</td>\n",
       "<td>1</td>\n",
       "<td>1</td>\n",
       "<td>0</td>\n",
       "</tr>\n",
       "<tr>\n",
       "<td style='font-weight: bold'>1</td>\n",
       "<td>1</td>\n",
       "<td>2</td>\n",
       "<td>1</td>\n",
       "</tr>\n",
       "<tr>\n",
       "<td style='font-weight: bold'>2</td>\n",
       "<td>1</td>\n",
       "<td>1</td>\n",
       "<td>0</td>\n",
       "</tr>\n",
       "<tr>\n",
       "<td style='font-weight: bold'>3</td>\n",
       "<td>0</td>\n",
       "<td>0</td>\n",
       "<td>2</td>\n",
       "</tr>\n",
       "<tr>\n",
       "<td style='font-weight: bold'>4</td>\n",
       "<td>0</td>\n",
       "<td>0</td>\n",
       "<td>0</td>\n",
       "</tr>\n",
       "</tbody>\n",
       "</table>\n"
      ],
      "text/plain": [
       "AlleleCountsArray((5, 3), dtype=int32)\n",
       "[[1 1 0]\n",
       " [1 2 1]\n",
       " [1 1 0]\n",
       " [0 0 2]\n",
       " [0 0 0]]"
      ]
     },
     "execution_count": 7,
     "metadata": {},
     "output_type": "execute_result"
    }
   ],
   "source": [
    "# count alleles, with mask\n",
    "expect_with_mask = g.count_alleles()\n",
    "expect_with_mask"
   ]
  },
  {
   "cell_type": "code",
   "execution_count": 8,
   "metadata": {
    "collapsed": true
   },
   "outputs": [],
   "source": [
    "assert not np.array_equal(expect_no_mask, expect_with_mask)"
   ]
  },
  {
   "cell_type": "code",
   "execution_count": 14,
   "metadata": {
    "collapsed": true
   },
   "outputs": [],
   "source": [
    "def dask_count_alleles(g, max_allele=None):\n",
    "    \"\"\"Count alleles, no mask.\"\"\"\n",
    "    \n",
    "    gd = da.from_array(np.asarray(g), chunks=(2, 2, None))\n",
    "\n",
    "    # if max_allele not specified, precompute\n",
    "    if max_allele is None:\n",
    "        max_allele = gd.max().compute()\n",
    "\n",
    "    # block mapping function\n",
    "    def f(block):\n",
    "        bg = allel.GenotypeArray(block)\n",
    "        return bg.count_alleles(max_allele=max_allele)[:, None, :]\n",
    "\n",
    "    # determine output chunks - preserve dim0; change dim1, dim2\n",
    "    chunks = (gd.chunks[0], (1,)*len(gd.chunks[1]), (max_allele+1,))\n",
    "\n",
    "    # map blocks and reduce\n",
    "    out = gd.map_blocks(f, chunks=chunks).sum(axis=1)\n",
    "    \n",
    "    return out\n",
    "    "
   ]
  },
  {
   "cell_type": "code",
   "execution_count": 15,
   "metadata": {
    "collapsed": false
   },
   "outputs": [
    {
     "data": {
      "text/plain": [
       "dask.array<atop-70..., shape=(5, 3), dtype=None, chunksize=(2, 3)>"
      ]
     },
     "execution_count": 15,
     "metadata": {},
     "output_type": "execute_result"
    }
   ],
   "source": [
    "ac = dask_count_alleles(g)\n",
    "ac"
   ]
  },
  {
   "cell_type": "code",
   "execution_count": 17,
   "metadata": {
    "collapsed": false
   },
   "outputs": [],
   "source": [
    "assert np.array_equal(expect_no_mask, ac.compute())"
   ]
  },
  {
   "cell_type": "code",
   "execution_count": 23,
   "metadata": {
    "collapsed": true
   },
   "outputs": [],
   "source": [
    "def dask_count_alleles_with_mask(g, m, max_allele=None):\n",
    "    \"\"\"Count alleles, ignoring masked genotype calls.\"\"\"\n",
    "    \n",
    "    gd = da.from_array(np.asarray(g), chunks=(2, 2, None))\n",
    "    md = da.from_array(m, chunks=gd.chunks[:2])\n",
    "\n",
    "    # if max_allele not specified, precompute\n",
    "    if max_allele is None:\n",
    "        max_allele = gd.max().compute()\n",
    "\n",
    "    # block mapping function\n",
    "    def f(block, bmask):\n",
    "        bg = allel.GenotypeArray(block)\n",
    "        bg.mask = bmask[:, :, 0]\n",
    "        return bg.count_alleles(max_allele=max_allele)[:, None, :]\n",
    "\n",
    "    # determine output chunks - preserve dim0; change dim1, dim2\n",
    "    chunks = (gd.chunks[0], (1,)*len(gd.chunks[1]), (max_allele+1,))\n",
    "\n",
    "    # map blocks and reduce\n",
    "    out = da.map_blocks(f, gd, md[:, :, None], chunks=chunks).sum(axis=1)\n",
    "    \n",
    "    return out\n"
   ]
  },
  {
   "cell_type": "code",
   "execution_count": 24,
   "metadata": {
    "collapsed": false
   },
   "outputs": [
    {
     "data": {
      "text/plain": [
       "dask.array<atop-ed..., shape=(5, 3), dtype=None, chunksize=(2, 3)>"
      ]
     },
     "execution_count": 24,
     "metadata": {},
     "output_type": "execute_result"
    }
   ],
   "source": [
    "ac_with_mask = dask_count_alleles_with_mask(g, m)\n",
    "ac_with_mask"
   ]
  },
  {
   "cell_type": "code",
   "execution_count": 25,
   "metadata": {
    "collapsed": false
   },
   "outputs": [
    {
     "data": {
      "text/plain": [
       "array([[1, 1, 0],\n",
       "       [1, 2, 1],\n",
       "       [1, 1, 0],\n",
       "       [0, 0, 2],\n",
       "       [0, 0, 0]])"
      ]
     },
     "execution_count": 25,
     "metadata": {},
     "output_type": "execute_result"
    }
   ],
   "source": [
    "ac_with_mask.compute()"
   ]
  },
  {
   "cell_type": "code",
   "execution_count": 26,
   "metadata": {
    "collapsed": true
   },
   "outputs": [],
   "source": [
    "assert np.array_equal(expect_with_mask, ac_with_mask.compute())"
   ]
  },
  {
   "cell_type": "code",
   "execution_count": null,
   "metadata": {
    "collapsed": true
   },
   "outputs": [],
   "source": []
  }
 ],
 "metadata": {
  "kernelspec": {
   "display_name": "Python 3",
   "language": "python",
   "name": "python3"
  },
  "language_info": {
   "codemirror_mode": {
    "name": "ipython",
    "version": 3
   },
   "file_extension": ".py",
   "mimetype": "text/x-python",
   "name": "python",
   "nbconvert_exporter": "python",
   "pygments_lexer": "ipython3",
   "version": "3.4.3"
  }
 },
 "nbformat": 4,
 "nbformat_minor": 0
}
