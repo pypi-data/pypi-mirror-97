{
 "cells": [
  {
   "cell_type": "code",
   "execution_count": 1,
   "metadata": {
    "collapsed": false
   },
   "outputs": [
    {
     "data": {
      "text/plain": [
       "'0.20.0.feature_dask'"
      ]
     },
     "execution_count": 1,
     "metadata": {},
     "output_type": "execute_result"
    }
   ],
   "source": [
    "import numpy as np\n",
    "import dask.async\n",
    "import dask.array as da\n",
    "import sys\n",
    "sys.path.insert(0, '../..')\n",
    "%load_ext autoreload\n",
    "%autoreload 1\n",
    "%aimport allel\n",
    "%aimport allel.model\n",
    "%aimport allel.model.dask\n",
    "allel.__version__"
   ]
  },
  {
   "cell_type": "markdown",
   "metadata": {},
   "source": [
    "## Example 1"
   ]
  },
  {
   "cell_type": "code",
   "execution_count": 2,
   "metadata": {
    "collapsed": false
   },
   "outputs": [
    {
     "data": {
      "text/html": [
       "<table class='petl'>\n",
       "<caption>GenotypeArray((5, 3, 2), dtype=int8)</caption>\n",
       "<thead>\n",
       "<tr>\n",
       "<th></th>\n",
       "<th>0</th>\n",
       "<th>1</th>\n",
       "<th>2</th>\n",
       "</tr>\n",
       "</thead>\n",
       "<tbody>\n",
       "<tr>\n",
       "<td style='font-weight: bold'>0</td>\n",
       "<td>0/0</td>\n",
       "<td>0/1</td>\n",
       "<td>0/1</td>\n",
       "</tr>\n",
       "<tr>\n",
       "<td style='font-weight: bold'>1</td>\n",
       "<td>0/1</td>\n",
       "<td>1/1</td>\n",
       "<td>1/1</td>\n",
       "</tr>\n",
       "<tr>\n",
       "<td style='font-weight: bold'>2</td>\n",
       "<td>1/1</td>\n",
       "<td>1/1</td>\n",
       "<td>0/0</td>\n",
       "</tr>\n",
       "<tr>\n",
       "<td style='font-weight: bold'>3</td>\n",
       "<td>1/1</td>\n",
       "<td>1/1</td>\n",
       "<td>0/0</td>\n",
       "</tr>\n",
       "<tr>\n",
       "<td style='font-weight: bold'>4</td>\n",
       "<td>1/1</td>\n",
       "<td>0/1</td>\n",
       "<td>./.</td>\n",
       "</tr>\n",
       "</tbody>\n",
       "</table>\n"
      ],
      "text/plain": [
       "GenotypeArray((5, 3, 2), dtype=int8)\n",
       "[[[ 0  0]\n",
       "  [ 0  1]\n",
       "  [ 0  1]]\n",
       "\n",
       " [[ 0  1]\n",
       "  [ 1  1]\n",
       "  [ 1  1]]\n",
       "\n",
       " [[ 1  1]\n",
       "  [ 1  1]\n",
       "  [ 0  0]]\n",
       "\n",
       " [[ 1  1]\n",
       "  [ 1  1]\n",
       "  [ 0  0]]\n",
       "\n",
       " [[ 1  1]\n",
       "  [ 0  1]\n",
       "  [-1 -1]]]"
      ]
     },
     "execution_count": 2,
     "metadata": {},
     "output_type": "execute_result"
    }
   ],
   "source": [
    "g = allel.GenotypeArray([[[0, 0], [0, 1], [0, 1]],\n",
    "                         [[0, 1], [1, 1], [1, 1]],\n",
    "                         [[1, 1], [1, 1], [0, 0]],\n",
    "                         [[1, 1], [1, 1], [0, 0]],\n",
    "                         [[1, 1], [0, 1], [-1, -1]]], dtype='i1')\n",
    "g"
   ]
  },
  {
   "cell_type": "code",
   "execution_count": 3,
   "metadata": {
    "collapsed": true
   },
   "outputs": [],
   "source": [
    "# the mapping array is effectively a look-up table, telling how to transform\n",
    "# integer values in each row\n",
    "mapping = np.array([[0, 1],  # no transformation\n",
    "                    [1, 0],  # 0->1, 1->0\n",
    "                    [0, 0],  # 0->0, 1->0\n",
    "                    [1, 0],  # 0->1, 1->0\n",
    "                    [0, 1]], # no transformation\n",
    "                   dtype='i1')"
   ]
  },
  {
   "cell_type": "code",
   "execution_count": 4,
   "metadata": {
    "collapsed": false
   },
   "outputs": [],
   "source": [
    "# the only shape constraint is that size of first dimension must match\n",
    "assert g.shape[0] == mapping.shape[0]"
   ]
  },
  {
   "cell_type": "code",
   "execution_count": 5,
   "metadata": {
    "collapsed": false
   },
   "outputs": [
    {
     "data": {
      "text/html": [
       "<table class='petl'>\n",
       "<caption>GenotypeArray((5, 3, 2), dtype=int8)</caption>\n",
       "<thead>\n",
       "<tr>\n",
       "<th></th>\n",
       "<th>0</th>\n",
       "<th>1</th>\n",
       "<th>2</th>\n",
       "</tr>\n",
       "</thead>\n",
       "<tbody>\n",
       "<tr>\n",
       "<td style='font-weight: bold'>0</td>\n",
       "<td>0/0</td>\n",
       "<td>0/1</td>\n",
       "<td>0/1</td>\n",
       "</tr>\n",
       "<tr>\n",
       "<td style='font-weight: bold'>1</td>\n",
       "<td>1/0</td>\n",
       "<td>0/0</td>\n",
       "<td>0/0</td>\n",
       "</tr>\n",
       "<tr>\n",
       "<td style='font-weight: bold'>2</td>\n",
       "<td>0/0</td>\n",
       "<td>0/0</td>\n",
       "<td>0/0</td>\n",
       "</tr>\n",
       "<tr>\n",
       "<td style='font-weight: bold'>3</td>\n",
       "<td>0/0</td>\n",
       "<td>0/0</td>\n",
       "<td>1/1</td>\n",
       "</tr>\n",
       "<tr>\n",
       "<td style='font-weight: bold'>4</td>\n",
       "<td>1/1</td>\n",
       "<td>0/1</td>\n",
       "<td>./.</td>\n",
       "</tr>\n",
       "</tbody>\n",
       "</table>\n"
      ],
      "text/plain": [
       "GenotypeArray((5, 3, 2), dtype=int8)\n",
       "[[[ 0  0]\n",
       "  [ 0  1]\n",
       "  [ 0  1]]\n",
       "\n",
       " [[ 1  0]\n",
       "  [ 0  0]\n",
       "  [ 0  0]]\n",
       "\n",
       " [[ 0  0]\n",
       "  [ 0  0]\n",
       "  [ 0  0]]\n",
       "\n",
       " [[ 0  0]\n",
       "  [ 0  0]\n",
       "  [ 1  1]]\n",
       "\n",
       " [[ 1  1]\n",
       "  [ 0  1]\n",
       "  [-1 -1]]]"
      ]
     },
     "execution_count": 5,
     "metadata": {},
     "output_type": "execute_result"
    }
   ],
   "source": [
    "# this is the pure numpy implementation\n",
    "expect = g.map_alleles(mapping)\n",
    "expect"
   ]
  },
  {
   "cell_type": "code",
   "execution_count": 6,
   "metadata": {
    "collapsed": true
   },
   "outputs": [],
   "source": [
    "chunks_dim0 = 2"
   ]
  },
  {
   "cell_type": "code",
   "execution_count": 7,
   "metadata": {
    "collapsed": false
   },
   "outputs": [
    {
     "data": {
      "text/plain": [
       "dask.array<from-ar..., shape=(5, 3, 2), dtype=int8, chunksize=(2, 2, 2)>"
      ]
     },
     "execution_count": 7,
     "metadata": {},
     "output_type": "execute_result"
    }
   ],
   "source": [
    "gd = da.from_array(g, chunks=(chunks_dim0, 2, None))\n",
    "gd"
   ]
  },
  {
   "cell_type": "code",
   "execution_count": 8,
   "metadata": {
    "collapsed": false
   },
   "outputs": [
    {
     "data": {
      "text/plain": [
       "dask.array<from-ar..., shape=(5, 2), dtype=int8, chunksize=(2, 2)>"
      ]
     },
     "execution_count": 8,
     "metadata": {},
     "output_type": "execute_result"
    }
   ],
   "source": [
    "md = da.from_array(mapping, chunks=(chunks_dim0, None))  # N.B., first dimension chunk size matches gd1\n",
    "md"
   ]
  },
  {
   "cell_type": "code",
   "execution_count": 9,
   "metadata": {
    "collapsed": true
   },
   "outputs": [],
   "source": [
    "def f(block, bmapping):\n",
    "    return allel.GenotypeArray(block).map_alleles(bmapping[:, 0, :])"
   ]
  },
  {
   "cell_type": "code",
   "execution_count": 10,
   "metadata": {
    "collapsed": false
   },
   "outputs": [
    {
     "data": {
      "text/plain": [
       "dask.array<map-blo..., shape=(5, 3, 2), dtype=None, chunksize=(2, 2, 2)>"
      ]
     },
     "execution_count": 10,
     "metadata": {},
     "output_type": "execute_result"
    }
   ],
   "source": [
    "gmapped1 = da.map_blocks(f, gd, md[:, None, :], chunks=gd.chunks)\n",
    "gmapped1"
   ]
  },
  {
   "cell_type": "code",
   "execution_count": 11,
   "metadata": {
    "collapsed": false
   },
   "outputs": [
    {
     "data": {
      "text/html": [
       "<table class='petl'>\n",
       "<caption>GenotypeArray((5, 3, 2), dtype=int8)</caption>\n",
       "<thead>\n",
       "<tr>\n",
       "<th></th>\n",
       "<th>0</th>\n",
       "<th>1</th>\n",
       "<th>2</th>\n",
       "</tr>\n",
       "</thead>\n",
       "<tbody>\n",
       "<tr>\n",
       "<td style='font-weight: bold'>0</td>\n",
       "<td>0/0</td>\n",
       "<td>0/1</td>\n",
       "<td>0/1</td>\n",
       "</tr>\n",
       "<tr>\n",
       "<td style='font-weight: bold'>1</td>\n",
       "<td>1/0</td>\n",
       "<td>0/0</td>\n",
       "<td>0/0</td>\n",
       "</tr>\n",
       "<tr>\n",
       "<td style='font-weight: bold'>2</td>\n",
       "<td>0/0</td>\n",
       "<td>0/0</td>\n",
       "<td>0/0</td>\n",
       "</tr>\n",
       "<tr>\n",
       "<td style='font-weight: bold'>3</td>\n",
       "<td>0/0</td>\n",
       "<td>0/0</td>\n",
       "<td>1/1</td>\n",
       "</tr>\n",
       "<tr>\n",
       "<td style='font-weight: bold'>4</td>\n",
       "<td>1/1</td>\n",
       "<td>0/1</td>\n",
       "<td>./.</td>\n",
       "</tr>\n",
       "</tbody>\n",
       "</table>\n"
      ],
      "text/plain": [
       "GenotypeArray((5, 3, 2), dtype=int8)\n",
       "[[[ 0  0]\n",
       "  [ 0  1]\n",
       "  [ 0  1]]\n",
       "\n",
       " [[ 1  0]\n",
       "  [ 0  0]\n",
       "  [ 0  0]]\n",
       "\n",
       " [[ 0  0]\n",
       "  [ 0  0]\n",
       "  [ 0  0]]\n",
       "\n",
       " [[ 0  0]\n",
       "  [ 0  0]\n",
       "  [ 1  1]]\n",
       "\n",
       " [[ 1  1]\n",
       "  [ 0  1]\n",
       "  [-1 -1]]]"
      ]
     },
     "execution_count": 11,
     "metadata": {},
     "output_type": "execute_result"
    }
   ],
   "source": [
    "actual = allel.GenotypeArray(gmapped1.compute())\n",
    "actual"
   ]
  },
  {
   "cell_type": "code",
   "execution_count": 12,
   "metadata": {
    "collapsed": false
   },
   "outputs": [],
   "source": [
    "assert np.array_equal(expect, actual)"
   ]
  },
  {
   "cell_type": "markdown",
   "metadata": {},
   "source": [
    "## Example 2"
   ]
  },
  {
   "cell_type": "code",
   "execution_count": 13,
   "metadata": {
    "collapsed": false
   },
   "outputs": [
    {
     "data": {
      "text/html": [
       "<table class='petl'>\n",
       "<caption>GenotypeArray((7, 5, 2), dtype=int8)</caption>\n",
       "<thead>\n",
       "<tr>\n",
       "<th></th>\n",
       "<th>0</th>\n",
       "<th>1</th>\n",
       "<th>2</th>\n",
       "<th>3</th>\n",
       "<th>4</th>\n",
       "</tr>\n",
       "</thead>\n",
       "<tbody>\n",
       "<tr>\n",
       "<td style='font-weight: bold'>0</td>\n",
       "<td>0/0</td>\n",
       "<td>0/1</td>\n",
       "<td>0/0</td>\n",
       "<td>0/1</td>\n",
       "<td>./.</td>\n",
       "</tr>\n",
       "<tr>\n",
       "<td style='font-weight: bold'>1</td>\n",
       "<td>0/2</td>\n",
       "<td>1/1</td>\n",
       "<td>0/2</td>\n",
       "<td>1/1</td>\n",
       "<td>./.</td>\n",
       "</tr>\n",
       "<tr>\n",
       "<td style='font-weight: bold'>2</td>\n",
       "<td>0/0</td>\n",
       "<td>0/1</td>\n",
       "<td>0/0</td>\n",
       "<td>0/1</td>\n",
       "<td>./.</td>\n",
       "</tr>\n",
       "<tr>\n",
       "<td style='font-weight: bold'>3</td>\n",
       "<td>0/2</td>\n",
       "<td>1/1</td>\n",
       "<td>0/2</td>\n",
       "<td>1/1</td>\n",
       "<td>./.</td>\n",
       "</tr>\n",
       "<tr>\n",
       "<td style='font-weight: bold'>4</td>\n",
       "<td>1/0</td>\n",
       "<td>2/1</td>\n",
       "<td>1/0</td>\n",
       "<td>2/1</td>\n",
       "<td>./.</td>\n",
       "</tr>\n",
       "</tbody>\n",
       "</table>\n",
       "<p><strong>...</strong></p>"
      ],
      "text/plain": [
       "GenotypeArray((7, 5, 2), dtype=int8)\n",
       "[[[ 0  0]\n",
       "  [ 0  1]\n",
       "  [ 0  0]\n",
       "  [ 0  1]\n",
       "  [-1 -1]]\n",
       "\n",
       " [[ 0  2]\n",
       "  [ 1  1]\n",
       "  [ 0  2]\n",
       "  [ 1  1]\n",
       "  [-1 -1]]\n",
       "\n",
       " [[ 0  0]\n",
       "  [ 0  1]\n",
       "  [ 0  0]\n",
       "  [ 0  1]\n",
       "  [-1 -1]]\n",
       "\n",
       " [[ 0  2]\n",
       "  [ 1  1]\n",
       "  [ 0  2]\n",
       "  [ 1  1]\n",
       "  [-1 -1]]\n",
       "\n",
       " [[ 1  0]\n",
       "  [ 2  1]\n",
       "  [ 1  0]\n",
       "  [ 2  1]\n",
       "  [-1 -1]]\n",
       "\n",
       " [[ 2  2]\n",
       "  [-1 -1]\n",
       "  [ 2  2]\n",
       "  [-1 -1]\n",
       "  [-1 -1]]\n",
       "\n",
       " [[-1 -1]\n",
       "  [-1 -1]\n",
       "  [-1 -1]\n",
       "  [-1 -1]\n",
       "  [-1 -1]]]"
      ]
     },
     "execution_count": 13,
     "metadata": {},
     "output_type": "execute_result"
    }
   ],
   "source": [
    "g = allel.GenotypeArray([\n",
    "    [[0, 0], [0, 1], [0, 0], [0, 1], [-1, -1]],\n",
    "    [[0, 2], [1, 1], [0, 2], [1, 1], [-1, -1]],\n",
    "    [[0, 0], [0, 1], [0, 0], [0, 1], [-1, -1]],\n",
    "    [[0, 2], [1, 1], [0, 2], [1, 1], [-1, -1]],\n",
    "    [[1, 0], [2, 1], [1, 0], [2, 1], [-1, -1]],\n",
    "    [[2, 2], [-1, -1], [2, 2], [-1, -1], [-1, -1]],\n",
    "    [[-1, -1], [-1, -1], [-1, -1], [-1, -1], [-1, -1]]\n",
    "], dtype='i1')\n",
    "g"
   ]
  },
  {
   "cell_type": "code",
   "execution_count": 14,
   "metadata": {
    "collapsed": true
   },
   "outputs": [],
   "source": [
    "mapping = np.array([[0, 1, 2],\n",
    "                    [2, 0, 1],\n",
    "                    [1, 2, 0],\n",
    "                    [2, 1, 0],\n",
    "                    [1, 2, 0],\n",
    "                    [2, 1, 0],\n",
    "                    [2, 0, 1]], dtype=np.int8)"
   ]
  },
  {
   "cell_type": "code",
   "execution_count": 15,
   "metadata": {
    "collapsed": false
   },
   "outputs": [
    {
     "data": {
      "text/html": [
       "<table class='petl'>\n",
       "<caption>GenotypeArray((7, 5, 2), dtype=int8)</caption>\n",
       "<thead>\n",
       "<tr>\n",
       "<th></th>\n",
       "<th>0</th>\n",
       "<th>1</th>\n",
       "<th>2</th>\n",
       "<th>3</th>\n",
       "<th>4</th>\n",
       "</tr>\n",
       "</thead>\n",
       "<tbody>\n",
       "<tr>\n",
       "<td style='font-weight: bold'>0</td>\n",
       "<td>0/0</td>\n",
       "<td>0/1</td>\n",
       "<td>0/0</td>\n",
       "<td>0/1</td>\n",
       "<td>./.</td>\n",
       "</tr>\n",
       "<tr>\n",
       "<td style='font-weight: bold'>1</td>\n",
       "<td>2/1</td>\n",
       "<td>0/0</td>\n",
       "<td>2/1</td>\n",
       "<td>0/0</td>\n",
       "<td>./.</td>\n",
       "</tr>\n",
       "<tr>\n",
       "<td style='font-weight: bold'>2</td>\n",
       "<td>1/1</td>\n",
       "<td>1/2</td>\n",
       "<td>1/1</td>\n",
       "<td>1/2</td>\n",
       "<td>./.</td>\n",
       "</tr>\n",
       "<tr>\n",
       "<td style='font-weight: bold'>3</td>\n",
       "<td>2/0</td>\n",
       "<td>1/1</td>\n",
       "<td>2/0</td>\n",
       "<td>1/1</td>\n",
       "<td>./.</td>\n",
       "</tr>\n",
       "<tr>\n",
       "<td style='font-weight: bold'>4</td>\n",
       "<td>2/1</td>\n",
       "<td>0/2</td>\n",
       "<td>2/1</td>\n",
       "<td>0/2</td>\n",
       "<td>./.</td>\n",
       "</tr>\n",
       "</tbody>\n",
       "</table>\n",
       "<p><strong>...</strong></p>"
      ],
      "text/plain": [
       "GenotypeArray((7, 5, 2), dtype=int8)\n",
       "[[[ 0  0]\n",
       "  [ 0  1]\n",
       "  [ 0  0]\n",
       "  [ 0  1]\n",
       "  [-1 -1]]\n",
       "\n",
       " [[ 2  1]\n",
       "  [ 0  0]\n",
       "  [ 2  1]\n",
       "  [ 0  0]\n",
       "  [-1 -1]]\n",
       "\n",
       " [[ 1  1]\n",
       "  [ 1  2]\n",
       "  [ 1  1]\n",
       "  [ 1  2]\n",
       "  [-1 -1]]\n",
       "\n",
       " [[ 2  0]\n",
       "  [ 1  1]\n",
       "  [ 2  0]\n",
       "  [ 1  1]\n",
       "  [-1 -1]]\n",
       "\n",
       " [[ 2  1]\n",
       "  [ 0  2]\n",
       "  [ 2  1]\n",
       "  [ 0  2]\n",
       "  [-1 -1]]\n",
       "\n",
       " [[ 0  0]\n",
       "  [-1 -1]\n",
       "  [ 0  0]\n",
       "  [-1 -1]\n",
       "  [-1 -1]]\n",
       "\n",
       " [[-1 -1]\n",
       "  [-1 -1]\n",
       "  [-1 -1]\n",
       "  [-1 -1]\n",
       "  [-1 -1]]]"
      ]
     },
     "execution_count": 15,
     "metadata": {},
     "output_type": "execute_result"
    }
   ],
   "source": [
    "expect = g.map_alleles(mapping)\n",
    "expect"
   ]
  },
  {
   "cell_type": "code",
   "execution_count": 16,
   "metadata": {
    "collapsed": false
   },
   "outputs": [
    {
     "data": {
      "text/plain": [
       "dask.array<from-ar..., shape=(7, 5, 2), dtype=int8, chunksize=(2, 2, 2)>"
      ]
     },
     "execution_count": 16,
     "metadata": {},
     "output_type": "execute_result"
    }
   ],
   "source": [
    "gd = da.from_array(g, chunks=(chunks_dim0, 2, None))\n",
    "gd"
   ]
  },
  {
   "cell_type": "code",
   "execution_count": 17,
   "metadata": {
    "collapsed": false
   },
   "outputs": [
    {
     "data": {
      "text/plain": [
       "dask.array<from-ar..., shape=(7, 3), dtype=int8, chunksize=(2, 3)>"
      ]
     },
     "execution_count": 17,
     "metadata": {},
     "output_type": "execute_result"
    }
   ],
   "source": [
    "md = da.from_array(mapping, chunks=(chunks_dim0, None))\n",
    "md"
   ]
  },
  {
   "cell_type": "code",
   "execution_count": 18,
   "metadata": {
    "collapsed": true
   },
   "outputs": [],
   "source": [
    "def f(block, bmapping):\n",
    "    return allel.GenotypeArray(block).map_alleles(bmapping[:, 0, :])"
   ]
  },
  {
   "cell_type": "code",
   "execution_count": 19,
   "metadata": {
    "collapsed": false
   },
   "outputs": [
    {
     "data": {
      "text/plain": [
       "dask.array<map-blo..., shape=(7, 5, 2), dtype=None, chunksize=(2, 2, 2)>"
      ]
     },
     "execution_count": 19,
     "metadata": {},
     "output_type": "execute_result"
    }
   ],
   "source": [
    "res = da.map_blocks(f, gd, md[:, None, :], chunks=gd.chunks)\n",
    "res"
   ]
  },
  {
   "cell_type": "code",
   "execution_count": 20,
   "metadata": {
    "collapsed": false
   },
   "outputs": [
    {
     "data": {
      "text/html": [
       "<table class='petl'>\n",
       "<caption>GenotypeArray((7, 5, 2), dtype=int8)</caption>\n",
       "<thead>\n",
       "<tr>\n",
       "<th></th>\n",
       "<th>0</th>\n",
       "<th>1</th>\n",
       "<th>2</th>\n",
       "<th>3</th>\n",
       "<th>4</th>\n",
       "</tr>\n",
       "</thead>\n",
       "<tbody>\n",
       "<tr>\n",
       "<td style='font-weight: bold'>0</td>\n",
       "<td>0/0</td>\n",
       "<td>0/1</td>\n",
       "<td>0/0</td>\n",
       "<td>0/1</td>\n",
       "<td>./.</td>\n",
       "</tr>\n",
       "<tr>\n",
       "<td style='font-weight: bold'>1</td>\n",
       "<td>2/1</td>\n",
       "<td>0/0</td>\n",
       "<td>2/1</td>\n",
       "<td>0/0</td>\n",
       "<td>./.</td>\n",
       "</tr>\n",
       "<tr>\n",
       "<td style='font-weight: bold'>2</td>\n",
       "<td>1/1</td>\n",
       "<td>1/2</td>\n",
       "<td>1/1</td>\n",
       "<td>1/2</td>\n",
       "<td>./.</td>\n",
       "</tr>\n",
       "<tr>\n",
       "<td style='font-weight: bold'>3</td>\n",
       "<td>2/0</td>\n",
       "<td>1/1</td>\n",
       "<td>2/0</td>\n",
       "<td>1/1</td>\n",
       "<td>./.</td>\n",
       "</tr>\n",
       "<tr>\n",
       "<td style='font-weight: bold'>4</td>\n",
       "<td>2/1</td>\n",
       "<td>0/2</td>\n",
       "<td>2/1</td>\n",
       "<td>0/2</td>\n",
       "<td>./.</td>\n",
       "</tr>\n",
       "</tbody>\n",
       "</table>\n",
       "<p><strong>...</strong></p>"
      ],
      "text/plain": [
       "GenotypeArray((7, 5, 2), dtype=int8)\n",
       "[[[ 0  0]\n",
       "  [ 0  1]\n",
       "  [ 0  0]\n",
       "  [ 0  1]\n",
       "  [-1 -1]]\n",
       "\n",
       " [[ 2  1]\n",
       "  [ 0  0]\n",
       "  [ 2  1]\n",
       "  [ 0  0]\n",
       "  [-1 -1]]\n",
       "\n",
       " [[ 1  1]\n",
       "  [ 1  2]\n",
       "  [ 1  1]\n",
       "  [ 1  2]\n",
       "  [-1 -1]]\n",
       "\n",
       " [[ 2  0]\n",
       "  [ 1  1]\n",
       "  [ 2  0]\n",
       "  [ 1  1]\n",
       "  [-1 -1]]\n",
       "\n",
       " [[ 2  1]\n",
       "  [ 0  2]\n",
       "  [ 2  1]\n",
       "  [ 0  2]\n",
       "  [-1 -1]]\n",
       "\n",
       " [[ 0  0]\n",
       "  [-1 -1]\n",
       "  [ 0  0]\n",
       "  [-1 -1]\n",
       "  [-1 -1]]\n",
       "\n",
       " [[-1 -1]\n",
       "  [-1 -1]\n",
       "  [-1 -1]\n",
       "  [-1 -1]\n",
       "  [-1 -1]]]"
      ]
     },
     "execution_count": 20,
     "metadata": {},
     "output_type": "execute_result"
    }
   ],
   "source": [
    "actual = allel.GenotypeArray(res.compute())\n",
    "actual"
   ]
  },
  {
   "cell_type": "code",
   "execution_count": 21,
   "metadata": {
    "collapsed": false
   },
   "outputs": [],
   "source": [
    "assert np.array_equal(expect, actual)"
   ]
  },
  {
   "cell_type": "markdown",
   "metadata": {},
   "source": [
    "### Alternative solution"
   ]
  },
  {
   "cell_type": "code",
   "execution_count": 22,
   "metadata": {
    "collapsed": true
   },
   "outputs": [],
   "source": [
    "def ff(block, bmapping):\n",
    "    return allel.GenotypeArray(block[:, :, :, 0]).map_alleles(bmapping[:, 0, 0, :])"
   ]
  },
  {
   "cell_type": "code",
   "execution_count": 23,
   "metadata": {
    "collapsed": false
   },
   "outputs": [
    {
     "data": {
      "text/plain": [
       "dask.array<map-blo..., shape=(7, 5, 2), dtype=None, chunksize=(2, 2, 2)>"
      ]
     },
     "execution_count": 23,
     "metadata": {},
     "output_type": "execute_result"
    }
   ],
   "source": [
    "res2 = da.map_blocks(ff, gd[:, :, :, None], md[:, None, None, :], chunks=gd.chunks, drop_dims=3)\n",
    "res2"
   ]
  },
  {
   "cell_type": "code",
   "execution_count": 24,
   "metadata": {
    "collapsed": false
   },
   "outputs": [],
   "source": [
    "actual2 = res2.compute()"
   ]
  },
  {
   "cell_type": "code",
   "execution_count": 25,
   "metadata": {
    "collapsed": false
   },
   "outputs": [
    {
     "data": {
      "text/plain": [
       "(7, 5, 2)"
      ]
     },
     "execution_count": 25,
     "metadata": {},
     "output_type": "execute_result"
    }
   ],
   "source": [
    "actual2.shape"
   ]
  },
  {
   "cell_type": "code",
   "execution_count": 26,
   "metadata": {
    "collapsed": false
   },
   "outputs": [],
   "source": [
    "assert np.array_equal(expect, actual2)"
   ]
  },
  {
   "cell_type": "markdown",
   "metadata": {},
   "source": [
    "## Example 3"
   ]
  },
  {
   "cell_type": "code",
   "execution_count": 27,
   "metadata": {
    "collapsed": false
   },
   "outputs": [
    {
     "data": {
      "text/html": [
       "<table class='petl'>\n",
       "<caption>GenotypeArray((5, 3, 2), dtype=int8)</caption>\n",
       "<thead>\n",
       "<tr>\n",
       "<th></th>\n",
       "<th>0</th>\n",
       "<th>1</th>\n",
       "<th>2</th>\n",
       "</tr>\n",
       "</thead>\n",
       "<tbody>\n",
       "<tr>\n",
       "<td style='font-weight: bold'>0</td>\n",
       "<td>0/0</td>\n",
       "<td>0/1</td>\n",
       "<td>./.</td>\n",
       "</tr>\n",
       "<tr>\n",
       "<td style='font-weight: bold'>1</td>\n",
       "<td>0/2</td>\n",
       "<td>1/1</td>\n",
       "<td>./.</td>\n",
       "</tr>\n",
       "<tr>\n",
       "<td style='font-weight: bold'>2</td>\n",
       "<td>1/0</td>\n",
       "<td>2/1</td>\n",
       "<td>./.</td>\n",
       "</tr>\n",
       "<tr>\n",
       "<td style='font-weight: bold'>3</td>\n",
       "<td>2/2</td>\n",
       "<td>./.</td>\n",
       "<td>./.</td>\n",
       "</tr>\n",
       "<tr>\n",
       "<td style='font-weight: bold'>4</td>\n",
       "<td>./.</td>\n",
       "<td>./.</td>\n",
       "<td>./.</td>\n",
       "</tr>\n",
       "</tbody>\n",
       "</table>\n"
      ],
      "text/plain": [
       "GenotypeArray((5, 3, 2), dtype=int8)\n",
       "[[[ 0  0]\n",
       "  [ 0  1]\n",
       "  [-1 -1]]\n",
       "\n",
       " [[ 0  2]\n",
       "  [ 1  1]\n",
       "  [-1 -1]]\n",
       "\n",
       " [[ 1  0]\n",
       "  [ 2  1]\n",
       "  [-1 -1]]\n",
       "\n",
       " [[ 2  2]\n",
       "  [-1 -1]\n",
       "  [-1 -1]]\n",
       "\n",
       " [[-1 -1]\n",
       "  [-1 -1]\n",
       "  [-1 -1]]]"
      ]
     },
     "execution_count": 27,
     "metadata": {},
     "output_type": "execute_result"
    }
   ],
   "source": [
    "g = allel.GenotypeArray([\n",
    "    [[0, 0], [0, 1], [-1, -1]],\n",
    "    [[0, 2], [1, 1], [-1, -1]],\n",
    "    [[1, 0], [2, 1], [-1, -1]],\n",
    "    [[2, 2], [-1, -1], [-1, -1]],\n",
    "    [[-1, -1], [-1, -1], [-1, -1]]\n",
    "], dtype='i1')\n",
    "g"
   ]
  },
  {
   "cell_type": "code",
   "execution_count": 28,
   "metadata": {
    "collapsed": true
   },
   "outputs": [],
   "source": [
    "mapping = np.array([[0, 1, 2],\n",
    "                    [2, 0, 1],\n",
    "                    [1, 2, 0],\n",
    "                    [2, 1, 0],\n",
    "                    [2, 0, 1]], dtype=np.int8)"
   ]
  },
  {
   "cell_type": "code",
   "execution_count": 29,
   "metadata": {
    "collapsed": true
   },
   "outputs": [],
   "source": [
    "expect = [[[0, 0], [0, 1], [-1, -1]],\n",
    "          [[2, 1], [0, 0], [-1, -1]],\n",
    "          [[2, 1], [0, 2], [-1, -1]],\n",
    "          [[0, 0], [-1, -1], [-1, -1]],\n",
    "          [[-1, -1], [-1, -1], [-1, -1]]]"
   ]
  },
  {
   "cell_type": "code",
   "execution_count": 31,
   "metadata": {
    "collapsed": false
   },
   "outputs": [],
   "source": [
    "assert np.array_equal(expect, g.map_alleles(mapping))"
   ]
  },
  {
   "cell_type": "code",
   "execution_count": 32,
   "metadata": {
    "collapsed": false
   },
   "outputs": [
    {
     "data": {
      "text/plain": [
       "dask.array<from-ar..., shape=(5, 3, 2), dtype=int8, chunksize=(2, 2, 2)>"
      ]
     },
     "execution_count": 32,
     "metadata": {},
     "output_type": "execute_result"
    }
   ],
   "source": [
    "gd = da.from_array(g, chunks=(2, 2, None))\n",
    "gd"
   ]
  },
  {
   "cell_type": "code",
   "execution_count": 33,
   "metadata": {
    "collapsed": false
   },
   "outputs": [
    {
     "data": {
      "text/plain": [
       "dask.array<from-ar..., shape=(5, 3), dtype=int8, chunksize=(2, 3)>"
      ]
     },
     "execution_count": 33,
     "metadata": {},
     "output_type": "execute_result"
    }
   ],
   "source": [
    "md = da.from_array(mapping, chunks=(2, None))\n",
    "md"
   ]
  },
  {
   "cell_type": "code",
   "execution_count": 34,
   "metadata": {
    "collapsed": false
   },
   "outputs": [
    {
     "data": {
      "text/plain": [
       "dask.array<map-blo..., shape=(5, 3, 2), dtype=None, chunksize=(2, 2, 2)>"
      ]
     },
     "execution_count": 34,
     "metadata": {},
     "output_type": "execute_result"
    }
   ],
   "source": [
    "res = da.map_blocks(f, gd, md[:, None, :], chunks=gd.chunks)\n",
    "res"
   ]
  },
  {
   "cell_type": "code",
   "execution_count": 35,
   "metadata": {
    "collapsed": false
   },
   "outputs": [
    {
     "data": {
      "text/html": [
       "<table class='petl'>\n",
       "<caption>GenotypeArray((5, 3, 2), dtype=int8)</caption>\n",
       "<thead>\n",
       "<tr>\n",
       "<th></th>\n",
       "<th>0</th>\n",
       "<th>1</th>\n",
       "<th>2</th>\n",
       "</tr>\n",
       "</thead>\n",
       "<tbody>\n",
       "<tr>\n",
       "<td style='font-weight: bold'>0</td>\n",
       "<td>0/0</td>\n",
       "<td>0/1</td>\n",
       "<td>./.</td>\n",
       "</tr>\n",
       "<tr>\n",
       "<td style='font-weight: bold'>1</td>\n",
       "<td>2/1</td>\n",
       "<td>0/0</td>\n",
       "<td>./.</td>\n",
       "</tr>\n",
       "<tr>\n",
       "<td style='font-weight: bold'>2</td>\n",
       "<td>2/1</td>\n",
       "<td>0/2</td>\n",
       "<td>./.</td>\n",
       "</tr>\n",
       "<tr>\n",
       "<td style='font-weight: bold'>3</td>\n",
       "<td>0/0</td>\n",
       "<td>./.</td>\n",
       "<td>./.</td>\n",
       "</tr>\n",
       "<tr>\n",
       "<td style='font-weight: bold'>4</td>\n",
       "<td>./.</td>\n",
       "<td>./.</td>\n",
       "<td>./.</td>\n",
       "</tr>\n",
       "</tbody>\n",
       "</table>\n"
      ],
      "text/plain": [
       "GenotypeArray((5, 3, 2), dtype=int8)\n",
       "[[[ 0  0]\n",
       "  [ 0  1]\n",
       "  [-1 -1]]\n",
       "\n",
       " [[ 2  1]\n",
       "  [ 0  0]\n",
       "  [-1 -1]]\n",
       "\n",
       " [[ 2  1]\n",
       "  [ 0  2]\n",
       "  [-1 -1]]\n",
       "\n",
       " [[ 0  0]\n",
       "  [-1 -1]\n",
       "  [-1 -1]]\n",
       "\n",
       " [[-1 -1]\n",
       "  [-1 -1]\n",
       "  [-1 -1]]]"
      ]
     },
     "execution_count": 35,
     "metadata": {},
     "output_type": "execute_result"
    }
   ],
   "source": [
    "actual = allel.GenotypeArray(res.compute())\n",
    "actual"
   ]
  },
  {
   "cell_type": "code",
   "execution_count": 36,
   "metadata": {
    "collapsed": true
   },
   "outputs": [],
   "source": [
    "assert np.array_equal(expect, actual)"
   ]
  },
  {
   "cell_type": "code",
   "execution_count": null,
   "metadata": {
    "collapsed": true
   },
   "outputs": [],
   "source": []
  }
 ],
 "metadata": {
  "kernelspec": {
   "display_name": "Python 3",
   "language": "python",
   "name": "python3"
  },
  "language_info": {
   "codemirror_mode": {
    "name": "ipython",
    "version": 3
   },
   "file_extension": ".py",
   "mimetype": "text/x-python",
   "name": "python",
   "nbconvert_exporter": "python",
   "pygments_lexer": "ipython3",
   "version": "3.4.3"
  }
 },
 "nbformat": 4,
 "nbformat_minor": 0
}
