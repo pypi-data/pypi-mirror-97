{
 "cells": [
  {
   "cell_type": "markdown",
   "metadata": {},
   "source": [
    "# Command Reference\n",
    "\n",
    "The following sections provide in-depth reference for using the commands in the SPy module.\n",
    "\n",
    "[spy.login](spy.login.ipynb) - Logging into a Seeq Server with credentials.\n",
    "\n",
    "[spy.search](spy.search.ipynb) - Searching for signals, conditions and other items accessible in Seeq.\n",
    "\n",
    "[spy.pull](spy.pull.ipynb) - Retrieving data for a set of signals, conditions or scalars.\n",
    "\n",
    "[spy.push](spy.push.ipynb) - Uploading data for signals, conditions or scalars.\n",
    "\n",
    "[spy.assets](spy.assets.ipynb) - Creating asset templates and scaling calculations across assets.\n"
   ]
  },
  {
   "cell_type": "code",
   "execution_count": null,
   "metadata": {},
   "outputs": [],
   "source": []
  }
 ],
 "metadata": {
  "kernelspec": {
   "display_name": "Python 3",
   "language": "python",
   "name": "python3"
  },
  "language_info": {
   "codemirror_mode": {
    "name": "ipython",
    "version": 3
   },
   "file_extension": ".py",
   "mimetype": "text/x-python",
   "name": "python",
   "nbconvert_exporter": "python",
   "pygments_lexer": "ipython3",
   "version": "3.7.3"
  }
 },
 "nbformat": 4,
 "nbformat_minor": 2
}
