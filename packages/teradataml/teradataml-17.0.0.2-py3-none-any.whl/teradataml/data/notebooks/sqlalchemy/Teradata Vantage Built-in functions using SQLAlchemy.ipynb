{
 "cells": [
  {
   "cell_type": "markdown",
   "metadata": {},
   "source": [
    "### Disclaimer\n",
    "Please note, the Vantage Functions via SQLAlchemy feature is a preview/beta code release with limited functionality (the “Code”). As such, you acknowledge that the Code is experimental in nature and that the Code is provided “AS IS” and may not be functional on any machine or in any environment. TERADATA DISCLAIMS ALL WARRANTIES RELATING TO THE CODE, EXPRESS OR IMPLIED, INCLUDING, BUT NOT LIMITED TO, ANY WARRANTIES AGAINST INFRINGEMENT OF THIRD-PARTY RIGHTS, MERCHANTABILITY AND FITNESS FOR A PARTICULAR PURPOSE.\n",
    "\n",
    "TERADATA SHALL NOT BE RESPONSIBLE OR LIABLE WITH RESPECT TO ANY SUBJECT MATTER OF THE CODE UNDER ANY CONTRACT, NEGLIGENCE, STRICT LIABILITY OR OTHER THEORY \n",
    "    (A) FOR LOSS OR INACCURACY OF DATA OR COST OF PROCUREMENT OF SUBSTITUTE GOODS, SERVICES OR TECHNOLOGY, OR \n",
    "    (B) FOR ANY INDIRECT, INCIDENTAL OR CONSEQUENTIAL DAMAGES INCLUDING, BUT NOT LIMITED TO LOSS OF REVENUES AND LOSS OF PROFITS. TERADATA SHALL NOT BE RESPONSIBLE FOR ANY MATTER BEYOND ITS REASONABLE CONTROL.\n",
    "\n",
    "Notwithstanding anything to the contrary: \n",
    "    (a) Teradata will have no obligation of any kind with respect to any Code-related comments, suggestions, design changes or improvements that you elect to provide to Teradata in either verbal or written form (collectively, “Feedback”), and \n",
    "    (b) Teradata and its affiliates are hereby free to use any ideas, concepts, know-how or techniques, in whole or in part, contained in Feedback: \n",
    "        (i) for any purpose whatsoever, including developing, manufacturing, and/or marketing products and/or services incorporating Feedback in whole or in part, and \n",
    "        (ii) without any restrictions or limitations, including requiring the payment of any license fees, royalties, or other consideration. "
   ]
  },
  {
   "cell_type": "code",
   "execution_count": 1,
   "metadata": {},
   "outputs": [],
   "source": [
    "# In this notebook we shall cover examples for following Built-In Functions:\n",
    "# SQL Documentation: https://docs.teradata.com/reader/756LNiPSFdY~4JcCCcR5Cw/c2fX4dzxCcDJFKqXbyQtTA\n",
    "    # 1. current_date\n",
    "    # 2. curdate\n",
    "    # 3. current_time\n",
    "    # 4. curtime\n",
    "    # 5. current_timestamp"
   ]
  },
  {
   "cell_type": "code",
   "execution_count": 2,
   "metadata": {},
   "outputs": [
    {
     "name": "stdout",
     "output_type": "stream",
     "text": [
      "Hostname: ········\n",
      "Username: ········\n",
      "Password: ········\n",
      "WARNING: Skipped loading table admissions_train since it already exists in the database.\n"
     ]
    }
   ],
   "source": [
    "# Get the connection to the Vantage using create_context()\n",
    "from teradataml import *\n",
    "import getpass\n",
    "td_context = create_context(host=getpass.getpass(\"Hostname: \"), username=getpass.getpass(\"Username: \"), password=getpass.getpass(\"Password: \"))\n",
    "\n",
    "# Load the example dataset.\n",
    "load_example_data(\"GLM\", [\"admissions_train\"])"
   ]
  },
  {
   "cell_type": "code",
   "execution_count": 3,
   "metadata": {},
   "outputs": [
    {
     "data": {
      "text/plain": [
       "   masters   gpa     stats programming  admitted\n",
       "id                                              \n",
       "15     yes  4.00  Advanced    Advanced         1\n",
       "7      yes  2.33    Novice      Novice         1\n",
       "22     yes  3.46    Novice    Beginner         0\n",
       "17      no  3.83  Advanced    Advanced         1\n",
       "13      no  4.00  Advanced      Novice         1\n",
       "38     yes  2.65  Advanced    Beginner         1\n",
       "26     yes  3.57  Advanced    Advanced         1\n",
       "5       no  3.44    Novice      Novice         0\n",
       "34     yes  3.85  Advanced    Beginner         0\n",
       "40     yes  3.95    Novice    Beginner         0"
      ]
     },
     "execution_count": 3,
     "metadata": {},
     "output_type": "execute_result"
    }
   ],
   "source": [
    "# Create the DataFrame on 'admissions_train' table\n",
    "admissions_train = DataFrame(\"admissions_train\")\n",
    "admissions_train"
   ]
  },
  {
   "cell_type": "code",
   "execution_count": 4,
   "metadata": {},
   "outputs": [],
   "source": [
    "def print_variables(df, columns):\n",
    "    print(\"Equivalent SQL: {}\".format(df.show_query()))\n",
    "    print(\"\\n\")\n",
    "    print(\" ************************* DataFrame ********************* \")\n",
    "    print(df)\n",
    "    print(\"\\n\\n\")\n",
    "    print(\" ************************* DataFrame.dtypes ********************* \")\n",
    "    print(df.dtypes)\n",
    "    print(\"\\n\\n\")\n",
    "    if isinstance(columns, str):\n",
    "        columns = [columns]\n",
    "    for col in columns:\n",
    "        coltype = df.__getattr__(col).type\n",
    "        if isinstance(coltype, sqlalchemy.sql.sqltypes.NullType):\n",
    "            coltype = \"NullType\"\n",
    "        print(\" '{}' Column Type: {}\".format(col, coltype))"
   ]
  },
  {
   "cell_type": "markdown",
   "metadata": {},
   "source": [
    "## Using Built-in Functions in Teradata Vantage with the help SQLAlchemny"
   ]
  },
  {
   "cell_type": "code",
   "execution_count": 5,
   "metadata": {},
   "outputs": [],
   "source": [
    "# Import func from SQLAlchemy to use the same for executing built-in functions in Teradata\n",
    "from sqlalchemy import func"
   ]
  },
  {
   "cell_type": "code",
   "execution_count": 6,
   "metadata": {},
   "outputs": [],
   "source": [
    "# Before we move on with examples, one should read below just to understand how teradataml DataFrame and \n",
    "# it's columns are used to create a SQLAlchemy ClauseElement/Expression.\n",
    "\n",
    "# Often in below examples one would see something like this: 'admissions_train.admitted.expression'\n",
    "# Here in the above expression,\n",
    "#    'admissions_train' is 'teradataml DataFrame'\n",
    "#    'admitted' is 'column name' in teradataml DataFrame 'admissions_train'\n",
    "#    Thus, \n",
    "#        'admissions_train.admitted' together forms a ColumnExpression.\n",
    "#    expression allows us to use teradata ColumnExpression to be treated as SQLAlchemy Expression.\n",
    "#    Thus,\n",
    "#        'admissions_train.admitted.expression' gives us an expression that can be used with SQLAlchemy clauseElements."
   ]
  },
  {
   "cell_type": "markdown",
   "metadata": {},
   "source": [
    "### Current Date / CurDate"
   ]
  },
  {
   "cell_type": "code",
   "execution_count": 7,
   "metadata": {},
   "outputs": [
    {
     "data": {
      "text/plain": [
       "sqlalchemy.sql.functions.current_date"
      ]
     },
     "execution_count": 7,
     "metadata": {},
     "output_type": "execute_result"
    }
   ],
   "source": [
    "current_date_ = func.current_date()\n",
    "type(current_date_)"
   ]
  },
  {
   "cell_type": "code",
   "execution_count": 8,
   "metadata": {},
   "outputs": [
    {
     "name": "stdout",
     "output_type": "stream",
     "text": [
      "Equivalent SQL: select id AS id, masters AS masters, gpa AS gpa, stats AS stats, programming AS programming, admitted AS admitted, CURRENT_DATE AS current_date_col from \"admissions_train\"\n",
      "\n",
      "\n",
      " ************************* DataFrame ********************* \n",
      "   masters   gpa     stats programming  admitted current_date_col\n",
      "id                                                               \n",
      "22     yes  3.46    Novice    Beginner         0         21/01/28\n",
      "36      no  3.00  Advanced      Novice         0         21/01/28\n",
      "15     yes  4.00  Advanced    Advanced         1         21/01/28\n",
      "38     yes  2.65  Advanced    Beginner         1         21/01/28\n",
      "5       no  3.44    Novice      Novice         0         21/01/28\n",
      "17      no  3.83  Advanced    Advanced         1         21/01/28\n",
      "34     yes  3.85  Advanced    Beginner         0         21/01/28\n",
      "13      no  4.00  Advanced      Novice         1         21/01/28\n",
      "26     yes  3.57  Advanced    Advanced         1         21/01/28\n",
      "19     yes  1.98  Advanced    Advanced         0         21/01/28\n",
      "\n",
      "\n",
      "\n",
      " ************************* DataFrame.dtypes ********************* \n",
      "id                            int\n",
      "masters                       str\n",
      "gpa                         float\n",
      "stats                         str\n",
      "programming                   str\n",
      "admitted                      int\n",
      "current_date_col    datetime.date\n",
      "\n",
      "\n",
      "\n",
      " 'current_date_col' Column Type: DATE\n"
     ]
    }
   ],
   "source": [
    "df = admissions_train.assign(current_date_col=current_date_)\n",
    "print_variables(df, \"current_date_col\")"
   ]
  },
  {
   "cell_type": "code",
   "execution_count": 9,
   "metadata": {},
   "outputs": [
    {
     "name": "stdout",
     "output_type": "stream",
     "text": [
      "Equivalent SQL: select id AS id, masters AS masters, gpa AS gpa, stats AS stats, programming AS programming, admitted AS admitted, curdate() AS curdate_func_col from \"admissions_train\"\n",
      "\n",
      "\n",
      " ************************* DataFrame ********************* \n",
      "   masters   gpa     stats programming  admitted curdate_func_col\n",
      "id                                                               \n",
      "15     yes  4.00  Advanced    Advanced         1         21/01/28\n",
      "7      yes  2.33    Novice      Novice         1         21/01/28\n",
      "22     yes  3.46    Novice    Beginner         0         21/01/28\n",
      "17      no  3.83  Advanced    Advanced         1         21/01/28\n",
      "13      no  4.00  Advanced      Novice         1         21/01/28\n",
      "38     yes  2.65  Advanced    Beginner         1         21/01/28\n",
      "26     yes  3.57  Advanced    Advanced         1         21/01/28\n",
      "5       no  3.44    Novice      Novice         0         21/01/28\n",
      "34     yes  3.85  Advanced    Beginner         0         21/01/28\n",
      "40     yes  3.95    Novice    Beginner         0         21/01/28\n",
      "\n",
      "\n",
      "\n",
      " ************************* DataFrame.dtypes ********************* \n",
      "id                            int\n",
      "masters                       str\n",
      "gpa                         float\n",
      "stats                         str\n",
      "programming                   str\n",
      "admitted                      int\n",
      "curdate_func_col    datetime.date\n",
      "\n",
      "\n",
      "\n",
      " 'curdate_func_col' Column Type: DATE\n"
     ]
    }
   ],
   "source": [
    "df = admissions_train.assign(curdate_func_col=func.curdate())\n",
    "print_variables(df, \"curdate_func_col\")"
   ]
  },
  {
   "cell_type": "code",
   "execution_count": 10,
   "metadata": {},
   "outputs": [],
   "source": [
    "# No support available for following syntax:\n",
    "# current_date() AT LOCAL\n",
    "# current_date() AT expression/timezone_str\n",
    "# current_date() AT TIME ZONE expression/timezone_str\n",
    "# Only basic form execution is supported."
   ]
  },
  {
   "cell_type": "markdown",
   "metadata": {},
   "source": [
    "### Current Time / CurTime"
   ]
  },
  {
   "cell_type": "code",
   "execution_count": 11,
   "metadata": {},
   "outputs": [
    {
     "data": {
      "text/plain": [
       "sqlalchemy.sql.functions.current_time"
      ]
     },
     "execution_count": 11,
     "metadata": {},
     "output_type": "execute_result"
    }
   ],
   "source": [
    "current_time_ = func.current_time()\n",
    "type(current_time_)"
   ]
  },
  {
   "cell_type": "code",
   "execution_count": 12,
   "metadata": {},
   "outputs": [
    {
     "name": "stdout",
     "output_type": "stream",
     "text": [
      "Equivalent SQL: select id AS id, masters AS masters, gpa AS gpa, stats AS stats, programming AS programming, admitted AS admitted, CURRENT_TIME AS current_time_func_, curtime() AS curtime_func_ from \"admissions_train\"\n",
      "\n",
      "\n",
      " ************************* DataFrame ********************* \n",
      "   masters   gpa     stats programming  admitted current_time_func_ curtime_func_\n",
      "id                                                                               \n",
      "22     yes  3.46    Novice    Beginner         0     01:57:56+00:00      01:57:56\n",
      "36      no  3.00  Advanced      Novice         0     01:57:56+00:00      01:57:56\n",
      "15     yes  4.00  Advanced    Advanced         1     01:57:56+00:00      01:57:56\n",
      "38     yes  2.65  Advanced    Beginner         1     01:57:56+00:00      01:57:56\n",
      "5       no  3.44    Novice      Novice         0     01:57:56+00:00      01:57:56\n",
      "17      no  3.83  Advanced    Advanced         1     01:57:56+00:00      01:57:56\n",
      "34     yes  3.85  Advanced    Beginner         0     01:57:56+00:00      01:57:56\n",
      "13      no  4.00  Advanced      Novice         1     01:57:56+00:00      01:57:56\n",
      "26     yes  3.57  Advanced    Advanced         1     01:57:56+00:00      01:57:56\n",
      "19     yes  1.98  Advanced    Advanced         0     01:57:56+00:00      01:57:56\n",
      "\n",
      "\n",
      "\n",
      " ************************* DataFrame.dtypes ********************* \n",
      "id                              int\n",
      "masters                         str\n",
      "gpa                           float\n",
      "stats                           str\n",
      "programming                     str\n",
      "admitted                        int\n",
      "current_time_func_    datetime.time\n",
      "curtime_func_         datetime.time\n",
      "\n",
      "\n",
      "\n",
      " 'current_time_func_' Column Type: TIME\n",
      " 'curtime_func_' Column Type: TIME\n"
     ]
    }
   ],
   "source": [
    "ct = admissions_train.assign(current_time_func_=current_time_, curtime_func_=func.curtime())\n",
    "print_variables(ct, [\"current_time_func_\", \"curtime_func_\"])"
   ]
  },
  {
   "cell_type": "code",
   "execution_count": 13,
   "metadata": {},
   "outputs": [],
   "source": [
    "# No support available for following syntax:\n",
    "# current_time() AT LOCAL\n",
    "# current_time() AT expression/timezone_str\n",
    "# current_time() AT TIME ZONE expression/timezone_str\n",
    "# Only basic form execution is supported."
   ]
  },
  {
   "cell_type": "code",
   "execution_count": 14,
   "metadata": {},
   "outputs": [],
   "source": [
    "## current_timestamp Function"
   ]
  },
  {
   "cell_type": "code",
   "execution_count": 15,
   "metadata": {},
   "outputs": [
    {
     "data": {
      "text/plain": [
       "sqlalchemy.sql.functions.current_timestamp"
      ]
     },
     "execution_count": 15,
     "metadata": {},
     "output_type": "execute_result"
    }
   ],
   "source": [
    "current_time_ = func.current_timestamp()\n",
    "type(current_time_)"
   ]
  },
  {
   "cell_type": "code",
   "execution_count": 16,
   "metadata": {},
   "outputs": [
    {
     "name": "stdout",
     "output_type": "stream",
     "text": [
      "Equivalent SQL: select id AS id, masters AS masters, gpa AS gpa, stats AS stats, programming AS programming, admitted AS admitted, CURRENT_TIMESTAMP AS current_time_func_ from \"admissions_train\"\n",
      "\n",
      "\n",
      " ************************* DataFrame ********************* \n",
      "   masters   gpa     stats programming  admitted                current_time_func_\n",
      "id                                                                                \n",
      "15     yes  4.00  Advanced    Advanced         1  2021-01-28 01:57:58.140000+00:00\n",
      "7      yes  2.33    Novice      Novice         1  2021-01-28 01:57:58.140000+00:00\n",
      "22     yes  3.46    Novice    Beginner         0  2021-01-28 01:57:58.140000+00:00\n",
      "17      no  3.83  Advanced    Advanced         1  2021-01-28 01:57:58.140000+00:00\n",
      "13      no  4.00  Advanced      Novice         1  2021-01-28 01:57:58.140000+00:00\n",
      "38     yes  2.65  Advanced    Beginner         1  2021-01-28 01:57:58.140000+00:00\n",
      "26     yes  3.57  Advanced    Advanced         1  2021-01-28 01:57:58.140000+00:00\n",
      "5       no  3.44    Novice      Novice         0  2021-01-28 01:57:58.140000+00:00\n",
      "34     yes  3.85  Advanced    Beginner         0  2021-01-28 01:57:58.140000+00:00\n",
      "40     yes  3.95    Novice    Beginner         0  2021-01-28 01:57:58.140000+00:00\n",
      "\n",
      "\n",
      "\n",
      " ************************* DataFrame.dtypes ********************* \n",
      "id                                  int\n",
      "masters                             str\n",
      "gpa                               float\n",
      "stats                               str\n",
      "programming                         str\n",
      "admitted                            int\n",
      "current_time_func_    datetime.datetime\n",
      "\n",
      "\n",
      "\n",
      " 'current_time_func_' Column Type: TIMESTAMP\n"
     ]
    }
   ],
   "source": [
    "ct = admissions_train.assign(current_time_func_=current_time_)\n",
    "print_variables(ct, [\"current_time_func_\"])"
   ]
  },
  {
   "cell_type": "code",
   "execution_count": 17,
   "metadata": {},
   "outputs": [
    {
     "data": {
      "text/plain": [
       "True"
      ]
     },
     "execution_count": 17,
     "metadata": {},
     "output_type": "execute_result"
    }
   ],
   "source": [
    "# One must run remove_context() to close the connection and garbage collect internally generated objects.\n",
    "remove_context()"
   ]
  },
  {
   "cell_type": "code",
   "execution_count": 18,
   "metadata": {},
   "outputs": [],
   "source": [
    "# Not available to use -\n",
    "# ACCOUNT, CURRENT ROLE, DATABASE, DATE, PROFILE, ROLE, SESSION, TEMPORAL_DATE, TEMPORAL_TIMESTAMP, TIME, USER "
   ]
  },
  {
   "cell_type": "code",
   "execution_count": null,
   "metadata": {},
   "outputs": [],
   "source": []
  },
  {
   "cell_type": "code",
   "execution_count": null,
   "metadata": {},
   "outputs": [],
   "source": []
  },
  {
   "cell_type": "code",
   "execution_count": null,
   "metadata": {},
   "outputs": [],
   "source": []
  }
 ],
 "metadata": {
  "kernelspec": {
   "display_name": "Python 3",
   "language": "python",
   "name": "python3"
  },
  "language_info": {
   "codemirror_mode": {
    "name": "ipython",
    "version": 3
   },
   "file_extension": ".py",
   "mimetype": "text/x-python",
   "name": "python",
   "nbconvert_exporter": "python",
   "pygments_lexer": "ipython3",
   "version": "3.7.1"
  }
 },
 "nbformat": 4,
 "nbformat_minor": 2
}
