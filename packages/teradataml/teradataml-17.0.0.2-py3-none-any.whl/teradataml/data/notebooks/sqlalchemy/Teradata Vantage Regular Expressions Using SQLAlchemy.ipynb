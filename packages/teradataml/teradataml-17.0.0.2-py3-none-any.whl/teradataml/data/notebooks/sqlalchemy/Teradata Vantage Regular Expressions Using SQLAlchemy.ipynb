{
 "cells": [
  {
   "cell_type": "markdown",
   "metadata": {},
   "source": [
    "### Disclaimer\n",
    "Please note, the Vantage Functions via SQLAlchemy feature is a preview/beta code release with limited functionality (the “Code”). As such, you acknowledge that the Code is experimental in nature and that the Code is provided “AS IS” and may not be functional on any machine or in any environment. TERADATA DISCLAIMS ALL WARRANTIES RELATING TO THE CODE, EXPRESS OR IMPLIED, INCLUDING, BUT NOT LIMITED TO, ANY WARRANTIES AGAINST INFRINGEMENT OF THIRD-PARTY RIGHTS, MERCHANTABILITY AND FITNESS FOR A PARTICULAR PURPOSE.\n",
    "\n",
    "TERADATA SHALL NOT BE RESPONSIBLE OR LIABLE WITH RESPECT TO ANY SUBJECT MATTER OF THE CODE UNDER ANY CONTRACT, NEGLIGENCE, STRICT LIABILITY OR OTHER THEORY \n",
    "    (A) FOR LOSS OR INACCURACY OF DATA OR COST OF PROCUREMENT OF SUBSTITUTE GOODS, SERVICES OR TECHNOLOGY, OR \n",
    "    (B) FOR ANY INDIRECT, INCIDENTAL OR CONSEQUENTIAL DAMAGES INCLUDING, BUT NOT LIMITED TO LOSS OF REVENUES AND LOSS OF PROFITS. TERADATA SHALL NOT BE RESPONSIBLE FOR ANY MATTER BEYOND ITS REASONABLE CONTROL.\n",
    "\n",
    "Notwithstanding anything to the contrary: \n",
    "    (a) Teradata will have no obligation of any kind with respect to any Code-related comments, suggestions, design changes or improvements that you elect to provide to Teradata in either verbal or written form (collectively, “Feedback”), and \n",
    "    (b) Teradata and its affiliates are hereby free to use any ideas, concepts, know-how or techniques, in whole or in part, contained in Feedback: \n",
    "        (i) for any purpose whatsoever, including developing, manufacturing, and/or marketing products and/or services incorporating Feedback in whole or in part, and \n",
    "        (ii) without any restrictions or limitations, including requiring the payment of any license fees, royalties, or other consideration. "
   ]
  },
  {
   "cell_type": "code",
   "execution_count": 1,
   "metadata": {},
   "outputs": [],
   "source": [
    "# In this notebook we shall cover examples for following Regular Expression Functions:\n",
    "# SQL Documentation: https://docs.teradata.com/reader/756LNiPSFdY~4JcCCcR5Cw/c2fX4dzxCcDJFKqXbyQtTA\n",
    "    # 1. REGEXP_SUBSTR\n",
    "    # 2. REGEXP_REPLACE\n",
    "    # 3. REGEXP_INSTR\n",
    "    # 4. REGEXP_SIMILAR"
   ]
  },
  {
   "cell_type": "code",
   "execution_count": 2,
   "metadata": {},
   "outputs": [
    {
     "name": "stdout",
     "output_type": "stream",
     "text": [
      "Hostname: ········\n",
      "Username: ········\n",
      "Password: ········\n",
      "WARNING: Skipped loading table admissions_train since it already exists in the database.\n"
     ]
    }
   ],
   "source": [
    "# Get the connection to the Vantage using create_context()\n",
    "from teradataml import *\n",
    "import getpass\n",
    "td_context = create_context(host=getpass.getpass(\"Hostname: \"), username=getpass.getpass(\"Username: \"), password=getpass.getpass(\"Password: \"))\n",
    "\n",
    "# Load the example dataset.\n",
    "load_example_data(\"GLM\", [\"admissions_train\"])"
   ]
  },
  {
   "cell_type": "code",
   "execution_count": 3,
   "metadata": {},
   "outputs": [
    {
     "data": {
      "text/plain": [
       "   masters   gpa     stats programming  admitted\n",
       "id                                              \n",
       "22     yes  3.46    Novice    Beginner         0\n",
       "36      no  3.00  Advanced      Novice         0\n",
       "15     yes  4.00  Advanced    Advanced         1\n",
       "38     yes  2.65  Advanced    Beginner         1\n",
       "5       no  3.44    Novice      Novice         0\n",
       "17      no  3.83  Advanced    Advanced         1\n",
       "34     yes  3.85  Advanced    Beginner         0\n",
       "13      no  4.00  Advanced      Novice         1\n",
       "26     yes  3.57  Advanced    Advanced         1\n",
       "19     yes  1.98  Advanced    Advanced         0"
      ]
     },
     "execution_count": 3,
     "metadata": {},
     "output_type": "execute_result"
    }
   ],
   "source": [
    "# Create the DataFrame on 'admissions_train' table\n",
    "admissions_train = DataFrame(\"admissions_train\")\n",
    "admissions_train"
   ]
  },
  {
   "cell_type": "code",
   "execution_count": 4,
   "metadata": {},
   "outputs": [],
   "source": [
    "def print_variables(df, columns):\n",
    "    print(\"Equivalent SQL: {}\".format(df.show_query()))\n",
    "    print(\"\\n\")\n",
    "    print(\" ************************* DataFrame ********************* \")\n",
    "    print(df)\n",
    "    print(\"\\n\\n\")\n",
    "    print(\" ************************* DataFrame.dtypes ********************* \")\n",
    "    print(df.dtypes)\n",
    "    print(\"\\n\\n\")\n",
    "    if isinstance(columns, str):\n",
    "        columns = [columns]\n",
    "    for col in columns:\n",
    "        coltype = df.__getattr__(col).type\n",
    "        if isinstance(coltype, sqlalchemy.sql.sqltypes.NullType):\n",
    "            coltype = \"NullType\"\n",
    "        print(\" '{}' Column Type: {}\".format(col, coltype))"
   ]
  },
  {
   "cell_type": "code",
   "execution_count": 5,
   "metadata": {},
   "outputs": [],
   "source": [
    "# Import func from SQLAlchemy to use the same for executing built-in functions in Teradata\n",
    "from sqlalchemy import func"
   ]
  },
  {
   "cell_type": "code",
   "execution_count": 6,
   "metadata": {},
   "outputs": [],
   "source": [
    "# Before we move on with examples, one should read below just to understand how teradataml DataFrame and \n",
    "# it's columns are used to create a SQLAlchemy ClauseElement/Expression.\n",
    "\n",
    "# Often in below examples one would see something like this: 'admissions_train.admitted.expression'\n",
    "# Here in the above expression,\n",
    "#    'admissions_train' is 'teradataml DataFrame'\n",
    "#    'admitted' is 'column name' in teradataml DataFrame 'admissions_train'\n",
    "#    Thus, \n",
    "#        'admissions_train.admitted' together forms a ColumnExpression.\n",
    "#    expression allows us to use teradata ColumnExpression to be treated as SQLAlchemy Expression.\n",
    "#    Thus,\n",
    "#        'admissions_train.admitted.expression' gives us an expression that can be used with SQLAlchemy clauseElements."
   ]
  },
  {
   "cell_type": "markdown",
   "metadata": {},
   "source": [
    "## REGEXP_SUBSTR Function"
   ]
  },
  {
   "cell_type": "code",
   "execution_count": 7,
   "metadata": {},
   "outputs": [],
   "source": [
    "# Extracts a substring from source_string that matches a regular expression specified by regexp_string.\n",
    "# Syntax:\n",
    "#        REGEXP_SUBSTR(source_string/column, regexp_string, position_arg, occurrence_arg, match_arg)\n",
    "#        where,\n",
    "#              TODO"
   ]
  },
  {
   "cell_type": "code",
   "execution_count": 8,
   "metadata": {},
   "outputs": [
    {
     "data": {
      "text/plain": [
       "sqlalchemy.sql.functions.Function"
      ]
     },
     "execution_count": 8,
     "metadata": {},
     "output_type": "execute_result"
    }
   ],
   "source": [
    "regex_substr_ = func.REGEXP_SUBSTR(admissions_train.stats.expression, \"vice\", 1, 1, 'c')\n",
    "type(regex_substr_)"
   ]
  },
  {
   "cell_type": "code",
   "execution_count": 9,
   "metadata": {},
   "outputs": [
    {
     "name": "stdout",
     "output_type": "stream",
     "text": [
      "Equivalent SQL: select id AS id, masters AS masters, gpa AS gpa, stats AS stats, programming AS programming, admitted AS admitted, REGEXP_SUBSTR(stats, 'vice', 1, 1, 'c') AS regex_substr_col from \"admissions_train\"\n",
      "\n",
      "\n",
      " ************************* DataFrame ********************* \n",
      "   masters   gpa     stats programming  admitted regex_substr_col\n",
      "id                                                               \n",
      "15     yes  4.00  Advanced    Advanced         1             None\n",
      "7      yes  2.33    Novice      Novice         1             vice\n",
      "22     yes  3.46    Novice    Beginner         0             vice\n",
      "17      no  3.83  Advanced    Advanced         1             None\n",
      "13      no  4.00  Advanced      Novice         1             None\n",
      "38     yes  2.65  Advanced    Beginner         1             None\n",
      "26     yes  3.57  Advanced    Advanced         1             None\n",
      "5       no  3.44    Novice      Novice         0             vice\n",
      "34     yes  3.85  Advanced    Beginner         0             None\n",
      "40     yes  3.95    Novice    Beginner         0             vice\n",
      "\n",
      "\n",
      "\n",
      " ************************* DataFrame.dtypes ********************* \n",
      "id                    int\n",
      "masters               str\n",
      "gpa                 float\n",
      "stats                 str\n",
      "programming           str\n",
      "admitted              int\n",
      "regex_substr_col      str\n",
      "\n",
      "\n",
      "\n",
      " 'regex_substr_col' Column Type: VARCHAR\n"
     ]
    }
   ],
   "source": [
    "regex_substr_df = admissions_train.assign(regex_substr_col=regex_substr_)\n",
    "print_variables(regex_substr_df, \"regex_substr_col\")"
   ]
  },
  {
   "cell_type": "markdown",
   "metadata": {},
   "source": [
    "## REGEXP_REPLACE Function"
   ]
  },
  {
   "cell_type": "code",
   "execution_count": 10,
   "metadata": {},
   "outputs": [],
   "source": [
    "# Replaces portions of source_string that match regexp_string with the replace_string.\n",
    "# Syntax:\n",
    "#        REGEXP_REPLACE(source_string/column, regexp_string, replace_string, position_arg, occurrence_arg, match_arg)\n",
    "#        where,\n",
    "#              TODO"
   ]
  },
  {
   "cell_type": "code",
   "execution_count": 11,
   "metadata": {},
   "outputs": [
    {
     "data": {
      "text/plain": [
       "sqlalchemy.sql.functions.Function"
      ]
     },
     "execution_count": 11,
     "metadata": {},
     "output_type": "execute_result"
    }
   ],
   "source": [
    "regex_replace_ = func.REGEXP_REPLACE(admissions_train.stats.expression, \"vice\", \"wUcMe\", 1, 1, 'c')\n",
    "type(regex_replace_)"
   ]
  },
  {
   "cell_type": "code",
   "execution_count": 12,
   "metadata": {},
   "outputs": [
    {
     "name": "stdout",
     "output_type": "stream",
     "text": [
      "Equivalent SQL: select id AS id, masters AS masters, gpa AS gpa, stats AS stats, programming AS programming, admitted AS admitted, REGEXP_REPLACE(stats, 'vice', 'wUcMe', 1, 1, 'c') AS regex_replace_col from \"admissions_train\"\n",
      "\n",
      "\n",
      " ************************* DataFrame ********************* \n",
      "   masters   gpa     stats programming  admitted regex_replace_col\n",
      "id                                                                \n",
      "22     yes  3.46    Novice    Beginner         0           NowUcMe\n",
      "36      no  3.00  Advanced      Novice         0          Advanced\n",
      "15     yes  4.00  Advanced    Advanced         1          Advanced\n",
      "38     yes  2.65  Advanced    Beginner         1          Advanced\n",
      "5       no  3.44    Novice      Novice         0           NowUcMe\n",
      "17      no  3.83  Advanced    Advanced         1          Advanced\n",
      "34     yes  3.85  Advanced    Beginner         0          Advanced\n",
      "13      no  4.00  Advanced      Novice         1          Advanced\n",
      "26     yes  3.57  Advanced    Advanced         1          Advanced\n",
      "19     yes  1.98  Advanced    Advanced         0          Advanced\n",
      "\n",
      "\n",
      "\n",
      " ************************* DataFrame.dtypes ********************* \n",
      "id                     int\n",
      "masters                str\n",
      "gpa                  float\n",
      "stats                  str\n",
      "programming            str\n",
      "admitted               int\n",
      "regex_replace_col      str\n",
      "\n",
      "\n",
      "\n",
      " 'regex_replace_col' Column Type: VARCHAR\n"
     ]
    }
   ],
   "source": [
    "regex_replace_df = admissions_train.assign(regex_replace_col=regex_replace_)\n",
    "print_variables(regex_replace_df, \"regex_replace_col\")"
   ]
  },
  {
   "cell_type": "markdown",
   "metadata": {},
   "source": [
    "## REGEXP_INSTR function"
   ]
  },
  {
   "cell_type": "code",
   "execution_count": 13,
   "metadata": {},
   "outputs": [],
   "source": [
    "# Searches source_string for a match to regexp_string.\n",
    "# Syntax:\n",
    "#        REGEXP_INSTR(source_string/column, regexp_string, position_arg, occurrence_arg, return_opt, match_arg)\n",
    "#        where,\n",
    "#              TODO"
   ]
  },
  {
   "cell_type": "code",
   "execution_count": 14,
   "metadata": {},
   "outputs": [
    {
     "data": {
      "text/plain": [
       "sqlalchemy.sql.functions.Function"
      ]
     },
     "execution_count": 14,
     "metadata": {},
     "output_type": "execute_result"
    }
   ],
   "source": [
    "regex_instr_ = func.REGEXP_INSTR(admissions_train.stats.expression, \"vice\", 1, 1, 1, 'c')\n",
    "type(regex_instr_)"
   ]
  },
  {
   "cell_type": "code",
   "execution_count": 15,
   "metadata": {},
   "outputs": [
    {
     "name": "stdout",
     "output_type": "stream",
     "text": [
      "Equivalent SQL: select id AS id, masters AS masters, gpa AS gpa, stats AS stats, programming AS programming, admitted AS admitted, REGEXP_INSTR(stats, 'vice', 1, 1, 1, 'c') AS regex_instr_col from \"admissions_train\"\n",
      "\n",
      "\n",
      " ************************* DataFrame ********************* \n",
      "   masters   gpa     stats programming  admitted  regex_instr_col\n",
      "id                                                               \n",
      "15     yes  4.00  Advanced    Advanced         1                0\n",
      "7      yes  2.33    Novice      Novice         1                7\n",
      "22     yes  3.46    Novice    Beginner         0                7\n",
      "17      no  3.83  Advanced    Advanced         1                0\n",
      "13      no  4.00  Advanced      Novice         1                0\n",
      "38     yes  2.65  Advanced    Beginner         1                0\n",
      "26     yes  3.57  Advanced    Advanced         1                0\n",
      "5       no  3.44    Novice      Novice         0                7\n",
      "34     yes  3.85  Advanced    Beginner         0                0\n",
      "40     yes  3.95    Novice    Beginner         0                7\n",
      "\n",
      "\n",
      "\n",
      " ************************* DataFrame.dtypes ********************* \n",
      "id                   int\n",
      "masters              str\n",
      "gpa                float\n",
      "stats                str\n",
      "programming          str\n",
      "admitted             int\n",
      "regex_instr_col      int\n",
      "\n",
      "\n",
      "\n",
      " 'regex_instr_col' Column Type: INTEGER\n"
     ]
    }
   ],
   "source": [
    "regex_instr_df = admissions_train.assign(regex_instr_col=regex_instr_)\n",
    "print_variables(regex_instr_df, \"regex_instr_col\")"
   ]
  },
  {
   "cell_type": "markdown",
   "metadata": {},
   "source": [
    "## REGEXP_SIMILAR Function"
   ]
  },
  {
   "cell_type": "code",
   "execution_count": 16,
   "metadata": {},
   "outputs": [],
   "source": [
    "# Compares source_string to regexp_string and returns integer value.\n",
    "# Syntax:\n",
    "#        REGEXP_SIMILAR(source_string/column, regexp_string, match_arg)\n",
    "#        where,\n",
    "#              TODO"
   ]
  },
  {
   "cell_type": "code",
   "execution_count": 17,
   "metadata": {},
   "outputs": [
    {
     "data": {
      "text/plain": [
       "sqlalchemy.sql.functions.Function"
      ]
     },
     "execution_count": 17,
     "metadata": {},
     "output_type": "execute_result"
    }
   ],
   "source": [
    "regex_similar_ = func.REGEXP_SIMILAR(admissions_train.stats.expression, \"ce\", 'c')\n",
    "type(regex_similar_)"
   ]
  },
  {
   "cell_type": "code",
   "execution_count": 18,
   "metadata": {},
   "outputs": [
    {
     "name": "stdout",
     "output_type": "stream",
     "text": [
      "Equivalent SQL: select id AS id, masters AS masters, gpa AS gpa, stats AS stats, programming AS programming, admitted AS admitted, REGEXP_SIMILAR(stats, 'ce', 'c') AS regex_similar_col from \"admissions_train\"\n",
      "\n",
      "\n",
      " ************************* DataFrame ********************* \n",
      "   masters   gpa     stats programming  admitted  regex_similar_col\n",
      "id                                                                 \n",
      "22     yes  3.46    Novice    Beginner         0                  0\n",
      "36      no  3.00  Advanced      Novice         0                  0\n",
      "15     yes  4.00  Advanced    Advanced         1                  0\n",
      "38     yes  2.65  Advanced    Beginner         1                  0\n",
      "5       no  3.44    Novice      Novice         0                  0\n",
      "17      no  3.83  Advanced    Advanced         1                  0\n",
      "34     yes  3.85  Advanced    Beginner         0                  0\n",
      "13      no  4.00  Advanced      Novice         1                  0\n",
      "26     yes  3.57  Advanced    Advanced         1                  0\n",
      "19     yes  1.98  Advanced    Advanced         0                  0\n",
      "\n",
      "\n",
      "\n",
      " ************************* DataFrame.dtypes ********************* \n",
      "id                     int\n",
      "masters                str\n",
      "gpa                  float\n",
      "stats                  str\n",
      "programming            str\n",
      "admitted               int\n",
      "regex_similar_col      int\n",
      "\n",
      "\n",
      "\n",
      " 'regex_similar_col' Column Type: INTEGER\n"
     ]
    }
   ],
   "source": [
    "regex_similar_df = admissions_train.assign(regex_similar_col=regex_similar_)\n",
    "print_variables(regex_similar_df, \"regex_similar_col\")"
   ]
  },
  {
   "cell_type": "code",
   "execution_count": 19,
   "metadata": {},
   "outputs": [],
   "source": [
    "## REGEXP_SPLIT_TO_TABLE Function - Its a table function, so we cannot use the same in assign."
   ]
  },
  {
   "cell_type": "code",
   "execution_count": 20,
   "metadata": {},
   "outputs": [
    {
     "data": {
      "text/plain": [
       "True"
      ]
     },
     "execution_count": 20,
     "metadata": {},
     "output_type": "execute_result"
    }
   ],
   "source": [
    "# One must run remove_context() to close the connection and garbage collect internally generated objects.\n",
    "remove_context()"
   ]
  },
  {
   "cell_type": "code",
   "execution_count": null,
   "metadata": {},
   "outputs": [],
   "source": []
  },
  {
   "cell_type": "code",
   "execution_count": null,
   "metadata": {},
   "outputs": [],
   "source": []
  }
 ],
 "metadata": {
  "kernelspec": {
   "display_name": "Python 3",
   "language": "python",
   "name": "python3"
  },
  "language_info": {
   "codemirror_mode": {
    "name": "ipython",
    "version": 3
   },
   "file_extension": ".py",
   "mimetype": "text/x-python",
   "name": "python",
   "nbconvert_exporter": "python",
   "pygments_lexer": "ipython3",
   "version": "3.7.1"
  }
 },
 "nbformat": 4,
 "nbformat_minor": 2
}
