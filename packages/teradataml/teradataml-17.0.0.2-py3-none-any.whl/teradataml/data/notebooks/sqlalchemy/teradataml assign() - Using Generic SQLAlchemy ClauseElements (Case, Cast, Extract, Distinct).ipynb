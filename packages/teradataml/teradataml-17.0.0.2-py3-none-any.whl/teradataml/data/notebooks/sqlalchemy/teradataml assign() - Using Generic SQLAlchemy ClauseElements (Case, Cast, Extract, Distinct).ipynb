{
 "cells": [
  {
   "cell_type": "markdown",
   "metadata": {},
   "source": [
    "### Disclaimer\n",
    "Please note, the Vantage Functions via SQLAlchemy feature is a preview/beta code release with limited functionality (the “Code”). As such, you acknowledge that the Code is experimental in nature and that the Code is provided “AS IS” and may not be functional on any machine or in any environment. TERADATA DISCLAIMS ALL WARRANTIES RELATING TO THE CODE, EXPRESS OR IMPLIED, INCLUDING, BUT NOT LIMITED TO, ANY WARRANTIES AGAINST INFRINGEMENT OF THIRD-PARTY RIGHTS, MERCHANTABILITY AND FITNESS FOR A PARTICULAR PURPOSE.\n",
    "\n",
    "TERADATA SHALL NOT BE RESPONSIBLE OR LIABLE WITH RESPECT TO ANY SUBJECT MATTER OF THE CODE UNDER ANY CONTRACT, NEGLIGENCE, STRICT LIABILITY OR OTHER THEORY \n",
    "    (A) FOR LOSS OR INACCURACY OF DATA OR COST OF PROCUREMENT OF SUBSTITUTE GOODS, SERVICES OR TECHNOLOGY, OR \n",
    "    (B) FOR ANY INDIRECT, INCIDENTAL OR CONSEQUENTIAL DAMAGES INCLUDING, BUT NOT LIMITED TO LOSS OF REVENUES AND LOSS OF PROFITS. TERADATA SHALL NOT BE RESPONSIBLE FOR ANY MATTER BEYOND ITS REASONABLE CONTROL.\n",
    "\n",
    "Notwithstanding anything to the contrary: \n",
    "    (a) Teradata will have no obligation of any kind with respect to any Code-related comments, suggestions, design changes or improvements that you elect to provide to Teradata in either verbal or written form (collectively, “Feedback”), and \n",
    "    (b) Teradata and its affiliates are hereby free to use any ideas, concepts, know-how or techniques, in whole or in part, contained in Feedback: \n",
    "        (i) for any purpose whatsoever, including developing, manufacturing, and/or marketing products and/or services incorporating Feedback in whole or in part, and \n",
    "        (ii) without any restrictions or limitations, including requiring the payment of any license fees, royalties, or other consideration. "
   ]
  },
  {
   "cell_type": "code",
   "execution_count": 1,
   "metadata": {},
   "outputs": [
    {
     "name": "stdout",
     "output_type": "stream",
     "text": [
      "Hostname: ········\n",
      "Username: ········\n",
      "Password: ········\n",
      "WARNING: Skipped loading table admissions_train since it already exists in the database.\n"
     ]
    }
   ],
   "source": [
    "# Get the connection to the Vantage using create_context()\n",
    "from teradataml import *\n",
    "import getpass\n",
    "td_context = create_context(host=getpass.getpass(\"Hostname: \"), username=getpass.getpass(\"Username: \"), password=getpass.getpass(\"Password: \"))\n",
    "\n",
    "# Load the example dataset.\n",
    "load_example_data(\"GLM\", [\"admissions_train\"])"
   ]
  },
  {
   "cell_type": "code",
   "execution_count": 2,
   "metadata": {},
   "outputs": [
    {
     "data": {
      "text/plain": [
       "   masters   gpa     stats programming  admitted\n",
       "id                                              \n",
       "15     yes  4.00  Advanced    Advanced         1\n",
       "7      yes  2.33    Novice      Novice         1\n",
       "22     yes  3.46    Novice    Beginner         0\n",
       "17      no  3.83  Advanced    Advanced         1\n",
       "13      no  4.00  Advanced      Novice         1\n",
       "38     yes  2.65  Advanced    Beginner         1\n",
       "26     yes  3.57  Advanced    Advanced         1\n",
       "5       no  3.44    Novice      Novice         0\n",
       "34     yes  3.85  Advanced    Beginner         0\n",
       "40     yes  3.95    Novice    Beginner         0"
      ]
     },
     "execution_count": 2,
     "metadata": {},
     "output_type": "execute_result"
    }
   ],
   "source": [
    "# Create the DataFrame on 'admissions_train' table\n",
    "admissions_train = DataFrame(\"admissions_train\")\n",
    "admissions_train"
   ]
  },
  {
   "cell_type": "code",
   "execution_count": 3,
   "metadata": {},
   "outputs": [],
   "source": [
    "# Helper function to print some details of dataframe.\n",
    "def print_variables(df, columns):\n",
    "    print(\"Equivalent SQL: {}\".format(df.show_query()))\n",
    "    print(\"\\n\")\n",
    "    print(\" ************************* DataFrame ********************* \")\n",
    "    print(df)\n",
    "    print(\"\\n\\n\")\n",
    "    print(\" ************************* DataFrame.dtypes ********************* \")\n",
    "    print(df.dtypes)\n",
    "    print(\"\\n\\n\")\n",
    "    if isinstance(columns, str):\n",
    "        columns = [columns]\n",
    "    for col in columns:\n",
    "        coltype = df.__getattr__(col).type\n",
    "        if isinstance(coltype, sqlalchemy.sql.sqltypes.NullType):\n",
    "            coltype = \"NullType\"\n",
    "        print(\" '{}' Column Type: {}\".format(col, coltype))"
   ]
  },
  {
   "cell_type": "markdown",
   "metadata": {},
   "source": [
    "# Using SQLAlchemy ClasueElements in teradataml DataFrame.assign()"
   ]
  },
  {
   "cell_type": "code",
   "execution_count": 4,
   "metadata": {},
   "outputs": [],
   "source": [
    "# Before we move on with examples, one should read below just to understand how teradataml DataFrame and \n",
    "# it's columns are used to create a SQLAlchemy ClauseElement/Expression.\n",
    "\n",
    "# Often in below examples one would see something like this: 'admissions_train.admitted.expression'\n",
    "# Here in the above expression,\n",
    "#    'admissions_train' is 'teradataml DataFrame'\n",
    "#    'admitted' is 'column name' in teradataml DataFrame 'admissions_train'\n",
    "#    Thus, \n",
    "#        'admissions_train.admitted' together forms a ColumnExpression.\n",
    "#    expression allows us to use teradata ColumnExpression to be treated as SQLAlchemy Expression.\n",
    "#    Thus,\n",
    "#        'admissions_train.admitted.expression' gives us an expression that can be used with SQLAlchemy clauseElements."
   ]
  },
  {
   "cell_type": "markdown",
   "metadata": {},
   "source": [
    "## Using SQLAlchemy CASE expression"
   ]
  },
  {
   "cell_type": "code",
   "execution_count": 5,
   "metadata": {},
   "outputs": [
    {
     "data": {
      "text/plain": [
       "sqlalchemy.sql.elements.Case"
      ]
     },
     "execution_count": 5,
     "metadata": {},
     "output_type": "execute_result"
    }
   ],
   "source": [
    "# Using SQLAlchemy case expression. \n",
    "# Return 1 for cases where masters value is \"yes\", otherwise return 0.\n",
    "from sqlalchemy import case\n",
    "\n",
    "# Create case object using SQLAlchemy case\n",
    "caseobj = case(\n",
    "    [\n",
    "        (admissions_train.masters.expression == \"yes\", 1)\n",
    "    ],\n",
    "    else_=0\n",
    ")\n",
    "type(caseobj)"
   ]
  },
  {
   "cell_type": "code",
   "execution_count": 6,
   "metadata": {},
   "outputs": [
    {
     "name": "stdout",
     "output_type": "stream",
     "text": [
      "Equivalent SQL: select id AS id, masters AS masters, gpa AS gpa, stats AS stats, programming AS programming, admitted AS admitted, CASE WHEN (masters = 'yes') THEN 1 ELSE 0 END AS masters_num from \"admissions_train\"\n",
      "\n",
      "\n",
      " ************************* DataFrame ********************* \n",
      "   masters   gpa     stats programming  admitted masters_num\n",
      "id                                                          \n",
      "5       no  3.44    Novice      Novice         0           0\n",
      "34     yes  3.85  Advanced    Beginner         0           1\n",
      "13      no  4.00  Advanced      Novice         1           0\n",
      "40     yes  3.95    Novice    Beginner         0           1\n",
      "22     yes  3.46    Novice    Beginner         0           1\n",
      "19     yes  1.98  Advanced    Advanced         0           1\n",
      "36      no  3.00  Advanced      Novice         0           0\n",
      "15     yes  4.00  Advanced    Advanced         1           1\n",
      "7      yes  2.33    Novice      Novice         1           1\n",
      "17      no  3.83  Advanced    Advanced         1           0\n",
      "\n",
      "\n",
      "\n",
      " ************************* DataFrame.dtypes ********************* \n",
      "id               int\n",
      "masters          str\n",
      "gpa            float\n",
      "stats            str\n",
      "programming      str\n",
      "admitted         int\n",
      "masters_num      int\n",
      "\n",
      "\n",
      "\n",
      " 'masters_num' Column Type: INTEGER\n"
     ]
    }
   ],
   "source": [
    "# Use the Case object in assign() to output the results.\n",
    "# Example, here also depicts what SQL query will look like for this execution.\n",
    "df = admissions_train.assign(masters_num=caseobj)\n",
    "print_variables(df, \"masters_num\")"
   ]
  },
  {
   "cell_type": "markdown",
   "metadata": {},
   "source": [
    "## Using SQLAlchemy CAST, Numeric"
   ]
  },
  {
   "cell_type": "code",
   "execution_count": 7,
   "metadata": {},
   "outputs": [
    {
     "data": {
      "text/plain": [
       "sqlalchemy.sql.elements.Cast"
      ]
     },
     "execution_count": 7,
     "metadata": {},
     "output_type": "execute_result"
    }
   ],
   "source": [
    "# Using SQLAlchemy CAST, Numeric, to CAST admitted column to float value.\n",
    "from sqlalchemy import cast, Numeric\n",
    "admitted_num = cast(admissions_train.admitted.expression, Numeric(10, 4))\n",
    "type(admitted_num)"
   ]
  },
  {
   "cell_type": "code",
   "execution_count": 8,
   "metadata": {},
   "outputs": [
    {
     "name": "stdout",
     "output_type": "stream",
     "text": [
      "Equivalent SQL: select id AS id, masters AS masters, gpa AS gpa, stats AS stats, programming AS programming, admitted AS admitted, CAST(admitted AS NUMERIC(10, 4)) AS casted_admitted from \"admissions_train\"\n",
      "\n",
      "\n",
      " ************************* DataFrame ********************* \n",
      "   masters   gpa     stats programming  admitted casted_admitted\n",
      "id                                                              \n",
      "15     yes  4.00  Advanced    Advanced         1          1.0000\n",
      "7      yes  2.33    Novice      Novice         1          1.0000\n",
      "22     yes  3.46    Novice    Beginner         0           .0000\n",
      "17      no  3.83  Advanced    Advanced         1          1.0000\n",
      "13      no  4.00  Advanced      Novice         1          1.0000\n",
      "38     yes  2.65  Advanced    Beginner         1          1.0000\n",
      "26     yes  3.57  Advanced    Advanced         1          1.0000\n",
      "5       no  3.44    Novice      Novice         0           .0000\n",
      "34     yes  3.85  Advanced    Beginner         0           .0000\n",
      "40     yes  3.95    Novice    Beginner         0           .0000\n",
      "\n",
      "\n",
      "\n",
      " ************************* DataFrame.dtypes ********************* \n",
      "id                   int\n",
      "masters              str\n",
      "gpa                float\n",
      "stats                str\n",
      "programming          str\n",
      "admitted             int\n",
      "casted_admitted    float\n",
      "\n",
      "\n",
      "\n",
      " 'casted_admitted' Column Type: NUMERIC(10, 4)\n"
     ]
    }
   ],
   "source": [
    "# Use the Cast object in assign() to output the results.\n",
    "# Example, here also depicts what SQL query will look like for this execution.\n",
    "df = admissions_train.assign(casted_admitted=admitted_num)\n",
    "print_variables(df, \"casted_admitted\")"
   ]
  },
  {
   "cell_type": "markdown",
   "metadata": {},
   "source": [
    "## Using DISTINCT"
   ]
  },
  {
   "cell_type": "code",
   "execution_count": 9,
   "metadata": {},
   "outputs": [
    {
     "data": {
      "text/plain": [
       "sqlalchemy.sql.elements.UnaryExpression"
      ]
     },
     "execution_count": 9,
     "metadata": {},
     "output_type": "execute_result"
    }
   ],
   "source": [
    "# Using DISTINCT on a single column.\n",
    "# Example here shows, how to get the distinct values for a single column.\n",
    "from sqlalchemy import distinct\n",
    "admitted_dist = admissions_train.admitted.expression.distinct()\n",
    "type(admitted_dist)"
   ]
  },
  {
   "cell_type": "code",
   "execution_count": 10,
   "metadata": {},
   "outputs": [
    {
     "name": "stdout",
     "output_type": "stream",
     "text": [
      "Equivalent SQL: select DISTINCT admitted AS distinct_admitted from \"admissions_train\"\n",
      "\n",
      "\n",
      " ************************* DataFrame ********************* \n",
      "   distinct_admitted\n",
      "0                  0\n",
      "1                  1\n",
      "\n",
      "\n",
      "\n",
      " ************************* DataFrame.dtypes ********************* \n",
      "distinct_admitted    int\n",
      "\n",
      "\n",
      "\n",
      " 'distinct_admitted' Column Type: INTEGER\n"
     ]
    }
   ],
   "source": [
    "# Use the UnaryExpression for distinct in DataFrame.assign() to get the DISTINCT values for admitted column.\n",
    "# Note: \n",
    "#      One must use 'drop_columns=True', so that assign executes without any error.\n",
    "df = admissions_train.assign(drop_columns=True, distinct_admitted=admitted_dist)\n",
    "print_variables(df, \"distinct_admitted\")"
   ]
  },
  {
   "cell_type": "code",
   "execution_count": 11,
   "metadata": {},
   "outputs": [
    {
     "name": "stdout",
     "output_type": "stream",
     "text": [
      "Equivalent SQL: select DISTINCT programming AS distinct_programming from \"admissions_train\"\n",
      "\n",
      "\n",
      " ************************* DataFrame ********************* \n",
      "  distinct_programming\n",
      "0             Beginner\n",
      "1             Advanced\n",
      "2               Novice\n",
      "\n",
      "\n",
      "\n",
      " ************************* DataFrame.dtypes ********************* \n",
      "distinct_programming    str\n",
      "\n",
      "\n",
      "\n",
      " 'distinct_programming' Column Type: VARCHAR\n"
     ]
    }
   ],
   "source": [
    "# Another example of using UnaryExpression for distinct in DataFrame.assign() \n",
    "# to get the DISTINCT values for programming column.\n",
    "# Note: \n",
    "#      One must use 'drop_columns=True', so that assign executes without any error.\n",
    "df = admissions_train.assign(True, distinct_programming=admissions_train.programming.expression.distinct())\n",
    "print_variables(df, \"distinct_programming\")"
   ]
  },
  {
   "cell_type": "code",
   "execution_count": 12,
   "metadata": {},
   "outputs": [
    {
     "name": "stdout",
     "output_type": "stream",
     "text": [
      "Equivalent SQL: select id AS id, masters AS masters, gpa AS gpa, stats AS stats, programming AS programming, admitted AS admitted, DISTINCT programming AS distinct_programming from \"admissions_train\"\n",
      "\n",
      "\n",
      " ************************* DataFrame ********************* \n"
     ]
    },
    {
     "ename": "TeradataMlException",
     "evalue": "[Teradata][teradataml](TDML_2102) Failed to execute SQL: '[Version 17.0.0.2] [Session 3058] [Teradata Database] [Error 3706] Syntax error: expected something between ',' and the 'DISTINCT' keyword.\n at gosqldriver/teradatasql.(*teradataConnection).formatDatabaseError TeradataConnection.go:1138\n at gosqldriver/teradatasql.(*teradataConnection).makeChainedDatabaseError TeradataConnection.go:1154\n at gosqldriver/teradatasql.(*teradataConnection).processErrorParcel TeradataConnection.go:1217\n at gosqldriver/teradatasql.(*TeradataRows).processResponseBundle TeradataRows.go:1716\n at gosqldriver/teradatasql.(*TeradataRows).executeSQLRequest TeradataRows.go:552\n at gosqldriver/teradatasql.newTeradataRows TeradataRows.go:418\n at gosqldriver/teradatasql.(*teradataStatement).QueryContext TeradataStatement.go:122\n at gosqldriver/teradatasql.(*teradataConnection).QueryContext TeradataConnection.go:2083\n at database/sql.ctxDriverQuery ctxutil.go:48\n at database/sql.(*DB).queryDC.func1 sql.go:1464\n at database/sql.withLock sql.go:3032\n at database/sql.(*DB).queryDC sql.go:1459\n at database/sql.(*Conn).QueryContext sql.go:1701\n at main.goCreateRows goside.go:652\n at main._cgoexpwrap_212fad278f55_goCreateRows _cgo_gotypes.go:357\n at runtime.call64 asm_amd64.s:574\n at runtime.cgocallbackg1 cgocall.go:316\n at runtime.cgocallbackg cgocall.go:194\n at runtime.cgocallback_gofunc asm_amd64.s:826\n at runtime.goexit asm_amd64.s:2361'",
     "output_type": "error",
     "traceback": [
      "\u001b[1;31m---------------------------------------------------------------------------\u001b[0m",
      "\u001b[1;31mOperationalError\u001b[0m                          Traceback (most recent call last)",
      "\u001b[1;32m~\\AppData\\Local\\Continuum\\anaconda3\\lib\\site-packages\\teradataml\\dataframe\\dataframe_utils.py\u001b[0m in \u001b[0;36m_execute_node_return_db_object_name\u001b[1;34m(nodeid, metaexpression)\u001b[0m\n\u001b[0;32m     88\u001b[0m                     \u001b[1;32melse\u001b[0m\u001b[1;33m:\u001b[0m\u001b[1;33m\u001b[0m\u001b[1;33m\u001b[0m\u001b[0m\n\u001b[1;32m---> 89\u001b[1;33m                         \u001b[0mUtilFuncs\u001b[0m\u001b[1;33m.\u001b[0m\u001b[0m_create_view\u001b[0m\u001b[1;33m(\u001b[0m\u001b[0mview_names\u001b[0m\u001b[1;33m[\u001b[0m\u001b[0mindex\u001b[0m\u001b[1;33m]\u001b[0m\u001b[1;33m,\u001b[0m \u001b[0mqueries\u001b[0m\u001b[1;33m[\u001b[0m\u001b[0mindex\u001b[0m\u001b[1;33m]\u001b[0m\u001b[1;33m)\u001b[0m\u001b[1;33m\u001b[0m\u001b[1;33m\u001b[0m\u001b[0m\n\u001b[0m\u001b[0;32m     90\u001b[0m \u001b[1;33m\u001b[0m\u001b[0m\n",
      "\u001b[1;32m~\\AppData\\Local\\Continuum\\anaconda3\\lib\\site-packages\\teradataml\\common\\utils.py\u001b[0m in \u001b[0;36m_create_view\u001b[1;34m(view_name, query)\u001b[0m\n\u001b[0;32m    675\u001b[0m         \u001b[1;32mtry\u001b[0m\u001b[1;33m:\u001b[0m\u001b[1;33m\u001b[0m\u001b[1;33m\u001b[0m\u001b[0m\n\u001b[1;32m--> 676\u001b[1;33m             \u001b[0mUtilFuncs\u001b[0m\u001b[1;33m.\u001b[0m\u001b[0m_execute_ddl_statement\u001b[0m\u001b[1;33m(\u001b[0m\u001b[0mcrt_view\u001b[0m\u001b[1;33m)\u001b[0m\u001b[1;33m\u001b[0m\u001b[1;33m\u001b[0m\u001b[0m\n\u001b[0m\u001b[0;32m    677\u001b[0m             \u001b[1;32mreturn\u001b[0m \u001b[1;32mTrue\u001b[0m\u001b[1;33m\u001b[0m\u001b[1;33m\u001b[0m\u001b[0m\n",
      "\u001b[1;32m~\\AppData\\Local\\Continuum\\anaconda3\\lib\\site-packages\\teradataml\\common\\utils.py\u001b[0m in \u001b[0;36m_execute_ddl_statement\u001b[1;34m(ddl_statement)\u001b[0m\n\u001b[0;32m    532\u001b[0m                 \u001b[0mcursor\u001b[0m \u001b[1;33m=\u001b[0m \u001b[0mconn\u001b[0m\u001b[1;33m.\u001b[0m\u001b[0mcursor\u001b[0m\u001b[1;33m(\u001b[0m\u001b[1;33m)\u001b[0m\u001b[1;33m\u001b[0m\u001b[1;33m\u001b[0m\u001b[0m\n\u001b[1;32m--> 533\u001b[1;33m                 \u001b[0mcursor\u001b[0m\u001b[1;33m.\u001b[0m\u001b[0mexecute\u001b[0m\u001b[1;33m(\u001b[0m\u001b[0mddl_statement\u001b[0m\u001b[1;33m)\u001b[0m\u001b[1;33m\u001b[0m\u001b[1;33m\u001b[0m\u001b[0m\n\u001b[0m\u001b[0;32m    534\u001b[0m \u001b[1;33m\u001b[0m\u001b[0m\n",
      "\u001b[1;32m~\\AppData\\Local\\Continuum\\anaconda3\\lib\\site-packages\\teradatasql\\__init__.py\u001b[0m in \u001b[0;36mexecute\u001b[1;34m(self, sOperation, params, ignoreErrors)\u001b[0m\n\u001b[0;32m    648\u001b[0m             \u001b[1;32mif\u001b[0m \u001b[1;32mnot\u001b[0m \u001b[0mparams\u001b[0m\u001b[1;33m:\u001b[0m\u001b[1;33m\u001b[0m\u001b[1;33m\u001b[0m\u001b[0m\n\u001b[1;32m--> 649\u001b[1;33m                 \u001b[0mself\u001b[0m\u001b[1;33m.\u001b[0m\u001b[0mexecutemany\u001b[0m \u001b[1;33m(\u001b[0m\u001b[0msOperation\u001b[0m\u001b[1;33m,\u001b[0m \u001b[1;32mNone\u001b[0m\u001b[1;33m,\u001b[0m \u001b[0mignoreErrors\u001b[0m\u001b[1;33m)\u001b[0m\u001b[1;33m\u001b[0m\u001b[1;33m\u001b[0m\u001b[0m\n\u001b[0m\u001b[0;32m    650\u001b[0m \u001b[1;33m\u001b[0m\u001b[0m\n",
      "\u001b[1;32m~\\AppData\\Local\\Continuum\\anaconda3\\lib\\site-packages\\teradatasql\\__init__.py\u001b[0m in \u001b[0;36mexecutemany\u001b[1;34m(self, sOperation, seqOfParams, ignoreErrors)\u001b[0m\n\u001b[0;32m    895\u001b[0m \u001b[1;33m\u001b[0m\u001b[0m\n\u001b[1;32m--> 896\u001b[1;33m                 \u001b[1;32mraise\u001b[0m \u001b[0mOperationalError\u001b[0m \u001b[1;33m(\u001b[0m\u001b[0msErr\u001b[0m\u001b[1;33m)\u001b[0m\u001b[1;33m\u001b[0m\u001b[1;33m\u001b[0m\u001b[0m\n\u001b[0m\u001b[0;32m    897\u001b[0m \u001b[1;33m\u001b[0m\u001b[0m\n",
      "\u001b[1;31mOperationalError\u001b[0m: [Version 17.0.0.2] [Session 3058] [Teradata Database] [Error 3706] Syntax error: expected something between ',' and the 'DISTINCT' keyword.\n at gosqldriver/teradatasql.(*teradataConnection).formatDatabaseError TeradataConnection.go:1138\n at gosqldriver/teradatasql.(*teradataConnection).makeChainedDatabaseError TeradataConnection.go:1154\n at gosqldriver/teradatasql.(*teradataConnection).processErrorParcel TeradataConnection.go:1217\n at gosqldriver/teradatasql.(*TeradataRows).processResponseBundle TeradataRows.go:1716\n at gosqldriver/teradatasql.(*TeradataRows).executeSQLRequest TeradataRows.go:552\n at gosqldriver/teradatasql.newTeradataRows TeradataRows.go:418\n at gosqldriver/teradatasql.(*teradataStatement).QueryContext TeradataStatement.go:122\n at gosqldriver/teradatasql.(*teradataConnection).QueryContext TeradataConnection.go:2083\n at database/sql.ctxDriverQuery ctxutil.go:48\n at database/sql.(*DB).queryDC.func1 sql.go:1464\n at database/sql.withLock sql.go:3032\n at database/sql.(*DB).queryDC sql.go:1459\n at database/sql.(*Conn).QueryContext sql.go:1701\n at main.goCreateRows goside.go:652\n at main._cgoexpwrap_212fad278f55_goCreateRows _cgo_gotypes.go:357\n at runtime.call64 asm_amd64.s:574\n at runtime.cgocallbackg1 cgocall.go:316\n at runtime.cgocallbackg cgocall.go:194\n at runtime.cgocallback_gofunc asm_amd64.s:826\n at runtime.goexit asm_amd64.s:2361",
      "\nDuring handling of the above exception, another exception occurred:\n",
      "\u001b[1;31mTeradataMlException\u001b[0m                       Traceback (most recent call last)",
      "\u001b[1;32m<ipython-input-12-c0c850313309>\u001b[0m in \u001b[0;36m<module>\u001b[1;34m\u001b[0m\n\u001b[0;32m      4\u001b[0m \u001b[1;31m# and SQL does not allow this.\u001b[0m\u001b[1;33m\u001b[0m\u001b[1;33m\u001b[0m\u001b[1;33m\u001b[0m\u001b[0m\n\u001b[0;32m      5\u001b[0m \u001b[0mdf\u001b[0m \u001b[1;33m=\u001b[0m \u001b[0madmissions_train\u001b[0m\u001b[1;33m.\u001b[0m\u001b[0massign\u001b[0m\u001b[1;33m(\u001b[0m\u001b[0mdistinct_programming\u001b[0m\u001b[1;33m=\u001b[0m\u001b[0madmissions_train\u001b[0m\u001b[1;33m.\u001b[0m\u001b[0mprogramming\u001b[0m\u001b[1;33m.\u001b[0m\u001b[0mexpression\u001b[0m\u001b[1;33m.\u001b[0m\u001b[0mdistinct\u001b[0m\u001b[1;33m(\u001b[0m\u001b[1;33m)\u001b[0m\u001b[1;33m)\u001b[0m\u001b[1;33m\u001b[0m\u001b[1;33m\u001b[0m\u001b[0m\n\u001b[1;32m----> 6\u001b[1;33m \u001b[0mprint_variables\u001b[0m\u001b[1;33m(\u001b[0m\u001b[0mdf\u001b[0m\u001b[1;33m,\u001b[0m \u001b[1;34m\"distinct_programming\"\u001b[0m\u001b[1;33m)\u001b[0m\u001b[1;33m\u001b[0m\u001b[1;33m\u001b[0m\u001b[0m\n\u001b[0m",
      "\u001b[1;32m<ipython-input-3-d2288c870869>\u001b[0m in \u001b[0;36mprint_variables\u001b[1;34m(df, columns)\u001b[0m\n\u001b[0;32m      4\u001b[0m     \u001b[0mprint\u001b[0m\u001b[1;33m(\u001b[0m\u001b[1;34m\"\\n\"\u001b[0m\u001b[1;33m)\u001b[0m\u001b[1;33m\u001b[0m\u001b[1;33m\u001b[0m\u001b[0m\n\u001b[0;32m      5\u001b[0m     \u001b[0mprint\u001b[0m\u001b[1;33m(\u001b[0m\u001b[1;34m\" ************************* DataFrame ********************* \"\u001b[0m\u001b[1;33m)\u001b[0m\u001b[1;33m\u001b[0m\u001b[1;33m\u001b[0m\u001b[0m\n\u001b[1;32m----> 6\u001b[1;33m     \u001b[0mprint\u001b[0m\u001b[1;33m(\u001b[0m\u001b[0mdf\u001b[0m\u001b[1;33m)\u001b[0m\u001b[1;33m\u001b[0m\u001b[1;33m\u001b[0m\u001b[0m\n\u001b[0m\u001b[0;32m      7\u001b[0m     \u001b[0mprint\u001b[0m\u001b[1;33m(\u001b[0m\u001b[1;34m\"\\n\\n\"\u001b[0m\u001b[1;33m)\u001b[0m\u001b[1;33m\u001b[0m\u001b[1;33m\u001b[0m\u001b[0m\n\u001b[0;32m      8\u001b[0m     \u001b[0mprint\u001b[0m\u001b[1;33m(\u001b[0m\u001b[1;34m\" ************************* DataFrame.dtypes ********************* \"\u001b[0m\u001b[1;33m)\u001b[0m\u001b[1;33m\u001b[0m\u001b[1;33m\u001b[0m\u001b[0m\n",
      "\u001b[1;32m~\\AppData\\Local\\Continuum\\anaconda3\\lib\\site-packages\\teradataml\\dataframe\\dataframe.py\u001b[0m in \u001b[0;36m__repr__\u001b[1;34m(self)\u001b[0m\n\u001b[0;32m   4270\u001b[0m \u001b[1;33m\u001b[0m\u001b[0m\n\u001b[0;32m   4271\u001b[0m             \u001b[1;31m# Generate/Execute AED nodes\u001b[0m\u001b[1;33m\u001b[0m\u001b[1;33m\u001b[0m\u001b[1;33m\u001b[0m\u001b[0m\n\u001b[1;32m-> 4272\u001b[1;33m             \u001b[0mself\u001b[0m\u001b[1;33m.\u001b[0m\u001b[0m__execute_node_and_set_table_name\u001b[0m\u001b[1;33m(\u001b[0m\u001b[0mself\u001b[0m\u001b[1;33m.\u001b[0m\u001b[0m_nodeid\u001b[0m\u001b[1;33m,\u001b[0m \u001b[0mself\u001b[0m\u001b[1;33m.\u001b[0m\u001b[0m_metaexpr\u001b[0m\u001b[1;33m)\u001b[0m\u001b[1;33m\u001b[0m\u001b[1;33m\u001b[0m\u001b[0m\n\u001b[0m\u001b[0;32m   4273\u001b[0m \u001b[1;33m\u001b[0m\u001b[0m\n\u001b[0;32m   4274\u001b[0m             \u001b[0mquery\u001b[0m \u001b[1;33m=\u001b[0m \u001b[0mrepr\u001b[0m\u001b[1;33m(\u001b[0m\u001b[0mself\u001b[0m\u001b[1;33m.\u001b[0m\u001b[0m_metaexpr\u001b[0m\u001b[1;33m)\u001b[0m \u001b[1;33m+\u001b[0m \u001b[1;34m' FROM '\u001b[0m \u001b[1;33m+\u001b[0m \u001b[0mself\u001b[0m\u001b[1;33m.\u001b[0m\u001b[0m_table_name\u001b[0m\u001b[1;33m\u001b[0m\u001b[1;33m\u001b[0m\u001b[0m\n",
      "\u001b[1;32m~\\AppData\\Local\\Continuum\\anaconda3\\lib\\site-packages\\teradataml\\dataframe\\dataframe.py\u001b[0m in \u001b[0;36m__execute_node_and_set_table_name\u001b[1;34m(self, nodeid, metaexpr)\u001b[0m\n\u001b[0;32m    392\u001b[0m         \"\"\"\n\u001b[0;32m    393\u001b[0m         \u001b[1;32mif\u001b[0m \u001b[0mself\u001b[0m\u001b[1;33m.\u001b[0m\u001b[0m_table_name\u001b[0m \u001b[1;32mis\u001b[0m \u001b[1;32mNone\u001b[0m\u001b[1;33m:\u001b[0m\u001b[1;33m\u001b[0m\u001b[1;33m\u001b[0m\u001b[0m\n\u001b[1;32m--> 394\u001b[1;33m             \u001b[0mself\u001b[0m\u001b[1;33m.\u001b[0m\u001b[0m_table_name\u001b[0m \u001b[1;33m=\u001b[0m \u001b[0mdf_utils\u001b[0m\u001b[1;33m.\u001b[0m\u001b[0m_execute_node_return_db_object_name\u001b[0m\u001b[1;33m(\u001b[0m\u001b[0mnodeid\u001b[0m\u001b[1;33m,\u001b[0m \u001b[0mmetaexpr\u001b[0m\u001b[1;33m)\u001b[0m\u001b[1;33m\u001b[0m\u001b[1;33m\u001b[0m\u001b[0m\n\u001b[0m\u001b[0;32m    395\u001b[0m \u001b[1;33m\u001b[0m\u001b[0m\n\u001b[0;32m    396\u001b[0m     \u001b[1;32mdef\u001b[0m \u001b[0m_get_metadata_from_metaexpr\u001b[0m\u001b[1;33m(\u001b[0m\u001b[0mself\u001b[0m\u001b[1;33m,\u001b[0m \u001b[0mmetaexpr\u001b[0m\u001b[1;33m)\u001b[0m\u001b[1;33m:\u001b[0m\u001b[1;33m\u001b[0m\u001b[1;33m\u001b[0m\u001b[0m\n",
      "\u001b[1;32m~\\AppData\\Local\\Continuum\\anaconda3\\lib\\site-packages\\teradataml\\dataframe\\dataframe_utils.py\u001b[0m in \u001b[0;36m_execute_node_return_db_object_name\u001b[1;34m(nodeid, metaexpression)\u001b[0m\n\u001b[0;32m     98\u001b[0m                     \u001b[1;31m#        node execution failed.\u001b[0m\u001b[1;33m\u001b[0m\u001b[1;33m\u001b[0m\u001b[1;33m\u001b[0m\u001b[0m\n\u001b[0;32m     99\u001b[0m                     raise TeradataMlException(Messages.get_message(MessageCodes.TDMLDF_EXEC_SQL_FAILED, str(emsg)),\n\u001b[1;32m--> 100\u001b[1;33m                                       MessageCodes.TDMLDF_EXEC_SQL_FAILED)\n\u001b[0m\u001b[0;32m    101\u001b[0m \u001b[1;33m\u001b[0m\u001b[0m\n\u001b[0;32m    102\u001b[0m         \u001b[1;31m# Setting New Table name retrieved to TDML DF\u001b[0m\u001b[1;33m\u001b[0m\u001b[1;33m\u001b[0m\u001b[1;33m\u001b[0m\u001b[0m\n",
      "\u001b[1;31mTeradataMlException\u001b[0m: [Teradata][teradataml](TDML_2102) Failed to execute SQL: '[Version 17.0.0.2] [Session 3058] [Teradata Database] [Error 3706] Syntax error: expected something between ',' and the 'DISTINCT' keyword.\n at gosqldriver/teradatasql.(*teradataConnection).formatDatabaseError TeradataConnection.go:1138\n at gosqldriver/teradatasql.(*teradataConnection).makeChainedDatabaseError TeradataConnection.go:1154\n at gosqldriver/teradatasql.(*teradataConnection).processErrorParcel TeradataConnection.go:1217\n at gosqldriver/teradatasql.(*TeradataRows).processResponseBundle TeradataRows.go:1716\n at gosqldriver/teradatasql.(*TeradataRows).executeSQLRequest TeradataRows.go:552\n at gosqldriver/teradatasql.newTeradataRows TeradataRows.go:418\n at gosqldriver/teradatasql.(*teradataStatement).QueryContext TeradataStatement.go:122\n at gosqldriver/teradatasql.(*teradataConnection).QueryContext TeradataConnection.go:2083\n at database/sql.ctxDriverQuery ctxutil.go:48\n at database/sql.(*DB).queryDC.func1 sql.go:1464\n at database/sql.withLock sql.go:3032\n at database/sql.(*DB).queryDC sql.go:1459\n at database/sql.(*Conn).QueryContext sql.go:1701\n at main.goCreateRows goside.go:652\n at main._cgoexpwrap_212fad278f55_goCreateRows _cgo_gotypes.go:357\n at runtime.call64 asm_amd64.s:574\n at runtime.cgocallbackg1 cgocall.go:316\n at runtime.cgocallbackg cgocall.go:194\n at runtime.cgocallback_gofunc asm_amd64.s:826\n at runtime.goexit asm_amd64.s:2361'"
     ]
    }
   ],
   "source": [
    "# Example, where if drop_columns = False in DataFrame.assign() and we use DISTINCT with it.\n",
    "# Cannot use DISTINCT with drop_columns argument is assign set to False.\n",
    "# Query generted will be SELECT col1, col2, DISTINCT col3 .. FROM table of this form and is of incorrect Syntax \n",
    "# and SQL does not allow this.\n",
    "df = admissions_train.assign(distinct_programming=admissions_train.programming.expression.distinct())\n",
    "print_variables(df, \"distinct_programming\")"
   ]
  },
  {
   "cell_type": "markdown",
   "metadata": {},
   "source": [
    "## SQLAlchemy EXTRACT expression"
   ]
  },
  {
   "cell_type": "code",
   "execution_count": 13,
   "metadata": {},
   "outputs": [
    {
     "name": "stdout",
     "output_type": "stream",
     "text": [
      "WARNING: Skipped loading table ville_climatedata since it already exists in the database.\n"
     ]
    },
    {
     "data": {
      "text/plain": [
       "['city', 'period', 'temp_f', 'pressure_mbar', 'dewpoint_f']"
      ]
     },
     "execution_count": 13,
     "metadata": {},
     "output_type": "execute_result"
    }
   ],
   "source": [
    "from sqlalchemy import extract\n",
    "load_example_data(\"dwt\", \"ville_climatedata\")\n",
    "ville_climatedata = DataFrame(\"ville_climatedata\")\n",
    "ville_climatedata.columns"
   ]
  },
  {
   "cell_type": "code",
   "execution_count": 14,
   "metadata": {},
   "outputs": [
    {
     "data": {
      "text/plain": [
       "                    period  temp_f  pressure_mbar  dewpoint_f\n",
       "city                                                         \n",
       "greenville  20100101 02:00    33.9         1020.1        28.4\n",
       "greenville  20100101 04:00    33.1         1020.2        28.0\n",
       "greenville  20100101 05:00    32.7         1020.0        27.9\n",
       "greenville  20100101 06:00    32.5         1020.4        27.7\n",
       "greenville  20100101 08:00    32.1         1021.3        27.5\n",
       "greenville  20100101 09:00    33.8         1021.7        28.3\n",
       "greenville  20100101 07:00    32.3         1020.8        27.6\n",
       "greenville  20100101 03:00    33.5         1020.2        28.3\n",
       "greenville  20100101 01:00    34.4         1020.2        28.7\n",
       "greenville  20100101 00:00    34.9         1020.6        28.8"
      ]
     },
     "execution_count": 14,
     "metadata": {},
     "output_type": "execute_result"
    }
   ],
   "source": [
    "ville_climatedata"
   ]
  },
  {
   "cell_type": "code",
   "execution_count": 15,
   "metadata": {},
   "outputs": [
    {
     "data": {
      "text/plain": [
       "sqlalchemy.sql.elements.Extract"
      ]
     },
     "execution_count": 15,
     "metadata": {},
     "output_type": "execute_result"
    }
   ],
   "source": [
    "# Extract HOURS values from timestamp in period column\n",
    "extobj = extract('hour', ville_climatedata.period.expression)\n",
    "type(extobj)"
   ]
  },
  {
   "cell_type": "code",
   "execution_count": 16,
   "metadata": {},
   "outputs": [
    {
     "name": "stdout",
     "output_type": "stream",
     "text": [
      "Equivalent SQL: select city AS city, period AS period, temp_f AS temp_f, pressure_mbar AS pressure_mbar, dewpoint_f AS dewpoint_f, EXTRACT(hour FROM period) AS sqlalchemy_hours from \"ville_climatedata\"\n",
      "\n",
      "\n",
      " ************************* DataFrame ********************* \n",
      "                   period  temp_f  pressure_mbar  dewpoint_f sqlalchemy_hours\n",
      "city                                                                         \n",
      "knoxville  20100101 02:00    33.7         1019.9        28.1                2\n",
      "knoxville  20100101 04:00    32.8         1020.0        27.7                4\n",
      "knoxville  20100101 05:00    32.4         1019.9        27.5                5\n",
      "knoxville  20100101 06:00    32.2         1020.2        27.4                6\n",
      "knoxville  20100101 08:00    31.8         1021.1        27.2                8\n",
      "knoxville  20100101 09:00    33.5         1021.5        28.0                9\n",
      "knoxville  20100101 07:00    32.0         1020.6        27.3                7\n",
      "knoxville  20100101 03:00    33.2         1020.0        27.9                3\n",
      "knoxville  20100101 01:00    34.2         1020.0        28.4                1\n",
      "knoxville  20100101 00:00    34.8         1020.4        28.7                0\n",
      "\n",
      "\n",
      "\n",
      " ************************* DataFrame.dtypes ********************* \n",
      "city                              str\n",
      "period              datetime.datetime\n",
      "temp_f                          float\n",
      "pressure_mbar                   float\n",
      "dewpoint_f                      float\n",
      "sqlalchemy_hours                  int\n",
      "\n",
      "\n",
      "\n",
      " 'sqlalchemy_hours' Column Type: INTEGER\n"
     ]
    }
   ],
   "source": [
    "df = ville_climatedata.assign(sqlalchemy_hours=extobj)\n",
    "print_variables(df, \"sqlalchemy_hours\")"
   ]
  },
  {
   "cell_type": "markdown",
   "metadata": {},
   "source": [
    "## Using aggregate functions using SQLAlchemy"
   ]
  },
  {
   "cell_type": "code",
   "execution_count": 17,
   "metadata": {},
   "outputs": [
    {
     "name": "stdout",
     "output_type": "stream",
     "text": [
      "Equivalent SQL: select count(*) AS sqlalchemy_hours from \"ville_climatedata\"\n",
      "\n",
      "\n",
      " ************************* DataFrame ********************* \n",
      "   sqlalchemy_hours\n",
      "0               120\n",
      "\n",
      "\n",
      "\n",
      " ************************* DataFrame.dtypes ********************* \n",
      "sqlalchemy_hours    int\n",
      "\n",
      "\n",
      "\n",
      " 'sqlalchemy_hours' Column Type: INTEGER\n"
     ]
    }
   ],
   "source": [
    "# Get the count of rows using func.count() in DataFrame.assign().\n",
    "# Note: \n",
    "#      1. One must use 'drop_columns=True', so that assign executes without any error.\n",
    "#      2. Using groupby() before assign will not have any effec. No grouping is performed.\n",
    "from sqlalchemy import func\n",
    "df = ville_climatedata.assign(True, sqlalchemy_hours=func.count())\n",
    "print_variables(df, \"sqlalchemy_hours\")"
   ]
  },
  {
   "cell_type": "code",
   "execution_count": 18,
   "metadata": {},
   "outputs": [
    {
     "data": {
      "text/plain": [
       "True"
      ]
     },
     "execution_count": 18,
     "metadata": {},
     "output_type": "execute_result"
    }
   ],
   "source": [
    "# One must run remove_context() to close the connection and garbage collect internally generated objects.\n",
    "remove_context()"
   ]
  },
  {
   "cell_type": "code",
   "execution_count": null,
   "metadata": {},
   "outputs": [],
   "source": []
  },
  {
   "cell_type": "code",
   "execution_count": null,
   "metadata": {},
   "outputs": [],
   "source": []
  },
  {
   "cell_type": "code",
   "execution_count": null,
   "metadata": {},
   "outputs": [],
   "source": []
  }
 ],
 "metadata": {
  "kernelspec": {
   "display_name": "Python 3",
   "language": "python",
   "name": "python3"
  },
  "language_info": {
   "codemirror_mode": {
    "name": "ipython",
    "version": 3
   },
   "file_extension": ".py",
   "mimetype": "text/x-python",
   "name": "python",
   "nbconvert_exporter": "python",
   "pygments_lexer": "ipython3",
   "version": "3.7.1"
  }
 },
 "nbformat": 4,
 "nbformat_minor": 2
}
